{
 "cells": [
  {
   "cell_type": "code",
   "execution_count": 1,
   "id": "e086698b",
   "metadata": {},
   "outputs": [
    {
     "data": {
      "text/html": [
       "        <script type=\"text/javascript\">\n",
       "        window.PlotlyConfig = {MathJaxConfig: 'local'};\n",
       "        if (window.MathJax) {MathJax.Hub.Config({SVG: {font: \"STIX-Web\"}});}\n",
       "        if (typeof require !== 'undefined') {\n",
       "        require.undef(\"plotly\");\n",
       "        requirejs.config({\n",
       "            paths: {\n",
       "                'plotly': ['https://cdn.plot.ly/plotly-2.4.2.min']\n",
       "            }\n",
       "        });\n",
       "        require(['plotly'], function(Plotly) {\n",
       "            window._Plotly = Plotly;\n",
       "        });\n",
       "        }\n",
       "        </script>\n",
       "        "
      ]
     },
     "metadata": {},
     "output_type": "display_data"
    }
   ],
   "source": [
    "import pandas as pd\n",
    "import numpy as np\n",
    "import random\n",
    "from collections import deque\n",
    "import json\n",
    "import talib\n",
    "import gym\n",
    "from gym import spaces\n",
    "from sklearn import preprocessing\n",
    "scaler = preprocessing.MinMaxScaler()\n",
    "import warnings\n",
    "warnings.filterwarnings('ignore')\n",
    "\n",
    "import plotly.offline as pyo\n",
    "import plotly.graph_objects as go\n",
    "from plotly.subplots import make_subplots\n",
    "\n",
    "pyo.init_notebook_mode(connected=True)\n",
    "\n",
    "import tensorflow as tf\n",
    "tf.get_logger().setLevel('ERROR')\n",
    "\n",
    "class StockTradingEnv(gym.Env):\n",
    "    \"\"\"A stock trading environment for OpenAI gym\"\"\"\n",
    "    metadata = {'render.modes': ['cli', 'gui']}\n",
    "\n",
    "    def preprocess_data(self, df):\n",
    "        self.df_orig=df.copy(deep=True)\n",
    "        logScale = pd.DataFrame(np.log(df.Close))\n",
    "        df[\"CloseLogDiff\"] = logScale - logScale.shift()\n",
    "        df['Return_5'] = df.Close.pct_change(5)\n",
    "        df['MACD'] = talib.MACD(df.Close)[1]\n",
    "        df['ATR'] = talib.ATR(df.High, df.Low, df.Close)\n",
    "        slowk, slowd = talib.STOCH(df.High, df.Low, df.Close)\n",
    "        df['STOCH'] = slowd - slowk\n",
    "        df.fillna(method='bfill', inplace=True)\n",
    "        return df\n",
    "    \n",
    "    def __init__(self, df, initial_balance=10000, lookback_window_size=30):\n",
    "        # Define action space and state size and other custom parameters\n",
    "        self.df = self.preprocess_data(df)\n",
    "        self.df = df.dropna().reset_index()\n",
    "        self.df_total_steps = len(self.df)-1\n",
    "        self.initial_balance = initial_balance\n",
    "        self.lookback_window_size = lookback_window_size\n",
    "\n",
    "        # Action space from 0 to 3, 0 is hold, 1 is buy, 2 is sell\n",
    "        self.action_space = spaces.Box(low=np.array([0,0]), high=np.array([3,1]), dtype=np.float16)\n",
    "\n",
    "        # Orders history contains the balance, net_worth, stock_bought, stock_sold, stock_held values for the last lookback_window_size steps\n",
    "        self.orders_history = deque(maxlen=self.lookback_window_size)\n",
    "        \n",
    "        # Market history contains the OHCL values for the last lookback_window_size prices\n",
    "        self.market_history = deque(maxlen=self.lookback_window_size)\n",
    "\n",
    "        # State size contains Market+Orders history for the last lookback_window_size steps\n",
    "        self.state_size = (self.lookback_window_size, 5)\n",
    "\n",
    "        self.observation_space = spaces.Box(low=0, high=1, shape=(lookback_window_size,10), dtype=np.float16)\n",
    "        \n",
    "    # Reset the state of the environment to an initial state\n",
    "    def reset(self, env_steps_size = 201):\n",
    "        self.display_reward = 0\n",
    "        self.balance = self.initial_balance\n",
    "        self.net_worth = self.initial_balance\n",
    "        self.prev_net_worth = self.initial_balance\n",
    "        self.stock_held = 0\n",
    "        self.stock_sold = 0\n",
    "        self.stock_bought = 0\n",
    "        \n",
    "        if env_steps_size > 0: # used for training dataset\n",
    "            self.start_step = random.randint(self.lookback_window_size, self.df_total_steps - env_steps_size - 1)\n",
    "            self.end_step = self.start_step + env_steps_size\n",
    "        \n",
    "        else: # used for testing dataset\n",
    "            self.start_step = self.lookback_window_size\n",
    "            self.end_step = self.df_total_steps\n",
    "            \n",
    "        self.current_step = self.start_step\n",
    "\n",
    "        for i in reversed(range(self.lookback_window_size)):\n",
    "            current_step = self.current_step - i\n",
    "            self.orders_history.append([self.balance, self.net_worth, self.stock_bought, self.stock_sold, self.stock_held])\n",
    "            self.market_history.append([self.df.loc[current_step, 'CloseLogDiff'],\n",
    "                                        self.df.loc[current_step, 'Return_5'],\n",
    "                                        self.df.loc[current_step, 'MACD'],\n",
    "                                        self.df.loc[current_step, 'ATR'],\n",
    "                                        self.df.loc[current_step, 'STOCH']\n",
    "                                        ])\n",
    "\n",
    "        state = np.concatenate((self.market_history, self.orders_history), axis=1)\n",
    "        self.trades = []\n",
    "        return state\n",
    "\n",
    "    # Get the data points for the given current_step\n",
    "    def _next_observation(self):\n",
    "        self.market_history.append([self.df.loc[self.current_step, 'CloseLogDiff'],\n",
    "                                        self.df.loc[self.current_step, 'Return_5'],\n",
    "                                        self.df.loc[self.current_step, 'MACD'],\n",
    "                                        self.df.loc[self.current_step, 'ATR'],\n",
    "                                        self.df.loc[self.current_step, 'STOCH']\n",
    "                                        ])\n",
    "        obs = np.concatenate((self.market_history, self.orders_history), axis=1)\n",
    "        return obs\n",
    "\n",
    "    # Execute one time step within the environment\n",
    "    def step(self, action):\n",
    "        self.stock_bought = 0\n",
    "        self.stock_sold = 0\n",
    "        self.current_step += 1\n",
    "\n",
    "        action_type = action[0]\n",
    "        action_percent = action[1]\n",
    "        \n",
    "        # Set the current price to a random price between open and close\n",
    "        current_price = random.uniform(\n",
    "            self.df.loc[self.current_step, 'Open'],\n",
    "            self.df.loc[self.current_step, 'Close'])\n",
    "        \n",
    "        if action_type < 1: # Hold\n",
    "\n",
    "            self.trades.append({'Date': str(self.df_orig.index[self.current_step]).rstrip(\"00:00:00\"),\n",
    "                                'Open': self.df_orig.Open[self.current_step],\n",
    "                                'High': self.df_orig.High[self.current_step],\n",
    "                                'Low': self.df_orig.Low[self.current_step],\n",
    "                                'Close': self.df_orig.Close[self.current_step],\n",
    "                                'Adj Close': self.df_orig['Adj Close'][self.current_step],\n",
    "                                'Volume': self.df_orig.Volume[self.current_step],\n",
    "                                'Net Worth': self.balance + self.stock_held * current_price,\n",
    "                                'Current Price': current_price,\n",
    "                                'Shares': self.stock_held,\n",
    "                                'Type': \"Hold\"})\n",
    "\n",
    "        elif action_type < 2 and int((self.balance * action_percent) / current_price) >= 1:\n",
    "            # Buy with % of current balance\n",
    "            self.stock_bought = int((self.balance * action_percent) / current_price)\n",
    "            self.balance -= self.stock_bought * current_price\n",
    "            self.stock_held += self.stock_bought\n",
    "                        \n",
    "            self.trades.append({'Date': str(self.df_orig.index[self.current_step]).rstrip(\"00:00:00\"),\n",
    "                                'Open': self.df_orig.Open[self.current_step],\n",
    "                                'High': self.df_orig.High[self.current_step],\n",
    "                                'Low': self.df_orig.Low[self.current_step],\n",
    "                                'Close': self.df_orig.Close[self.current_step],\n",
    "                                'Adj Close': self.df_orig['Adj Close'][self.current_step],\n",
    "                                'Volume': self.df_orig.Volume[self.current_step],\n",
    "                                'Net Worth': self.balance + self.stock_held * current_price,\n",
    "                                'Current Price': current_price,\n",
    "                                'Shares': self.stock_bought,\n",
    "                                'Type': \"Buy\"})\n",
    "\n",
    "        elif action_type < 3 and int(self.stock_held * action_percent) >= 1:\n",
    "            # Sell % of current stock held\n",
    "            self.stock_sold = int(self.stock_held * action_percent)\n",
    "            self.balance += self.stock_sold * current_price\n",
    "            self.stock_held -= self.stock_sold\n",
    "\n",
    "            self.trades.append({'Date': str(self.df_orig.index[self.current_step]).rstrip(\"00:00:00\"),\n",
    "                                'Open': self.df_orig.Open[self.current_step],\n",
    "                                'High': self.df_orig.High[self.current_step],\n",
    "                                'Low': self.df_orig.Low[self.current_step],\n",
    "                                'Close': self.df_orig.Close[self.current_step],\n",
    "                                'Adj Close': self.df_orig['Adj Close'][self.current_step],\n",
    "                                'Volume': self.df_orig.Volume[self.current_step],\n",
    "                                'Net Worth': self.balance + self.stock_held * current_price,\n",
    "                                'Current Price': current_price,\n",
    "                                'Shares': self.stock_sold,\n",
    "                                'Type': \"Sell\"})\n",
    "\n",
    "            \n",
    "        self.prev_net_worth = self.net_worth\n",
    "        self.net_worth = self.balance + self.stock_held * current_price\n",
    "\n",
    "        self.orders_history.append([self.balance, self.net_worth, self.stock_bought, self.stock_sold, self.stock_held])\n",
    "\n",
    "        # Calculate reward\n",
    "        reward = int((self.net_worth - self.initial_balance))\n",
    "        self.display_reward = reward\n",
    "        \n",
    "        if self.net_worth <= self.initial_balance/2:\n",
    "            done = True\n",
    "        elif self.current_step > self.end_step:\n",
    "            done = True\n",
    "        else:\n",
    "            done = False\n",
    "\n",
    "\n",
    "        obs = self._next_observation()\n",
    "\n",
    "        info = {'Step': self.current_step, 'Trades' : self.trades}\n",
    "    \n",
    "        return obs, reward, done, info\n",
    "\n",
    "    # render environment\n",
    "    def render(self, mode='cli'):\n",
    "        if mode == 'cli':\n",
    "            self.profit = self.net_worth - self.initial_balance\n",
    "            print('Step:%5d, Date: %10s, Reward:%4d, Stock [Held: %3d, Bought: %3d, Sold :%3d], NetWorth: %5.2f, Profit: %5.2f' % \n",
    "                      (self.current_step, str(self.df_orig.index[self.current_step]).rstrip(\"00:00:00\"),\n",
    "                       self.display_reward, self.stock_held, self.stock_bought, self.stock_sold, self.net_worth, self.profit))\n",
    "        if mode == 'gui':\n",
    "            pass\n"
   ]
  },
  {
   "cell_type": "code",
   "execution_count": 2,
   "id": "f897319f",
   "metadata": {},
   "outputs": [],
   "source": [
    "# Change the working directory to the currect path (of .ipynb and csv)\n",
    "import os\n",
    "import sys\n",
    "import math \n",
    "os.chdir(sys.path[0])  \n",
    "df = pd.read_csv('./KAJARIACER.csv')\n",
    "df = df.sort_values('Date')"
   ]
  },
  {
   "cell_type": "code",
   "execution_count": 3,
   "id": "70ad9189",
   "metadata": {},
   "outputs": [],
   "source": [
    "df['Date'] = pd.to_datetime(df['Date']) # Convert \"Date\" to datetime object.\n",
    "df.sort_values('Date', ascending=True, inplace=True) # Sort the \"Date\" Column by the values.\n",
    "df.set_index('Date', inplace=True) # Set the DataFrame index using \"Date\" Column."
   ]
  },
  {
   "cell_type": "code",
   "execution_count": 4,
   "id": "a1e787c9",
   "metadata": {
    "scrolled": true
   },
   "outputs": [
    {
     "data": {
      "text/html": [
       "<div>\n",
       "<style scoped>\n",
       "    .dataframe tbody tr th:only-of-type {\n",
       "        vertical-align: middle;\n",
       "    }\n",
       "\n",
       "    .dataframe tbody tr th {\n",
       "        vertical-align: top;\n",
       "    }\n",
       "\n",
       "    .dataframe thead th {\n",
       "        text-align: right;\n",
       "    }\n",
       "</style>\n",
       "<table border=\"1\" class=\"dataframe\">\n",
       "  <thead>\n",
       "    <tr style=\"text-align: right;\">\n",
       "      <th></th>\n",
       "      <th>Open</th>\n",
       "      <th>High</th>\n",
       "      <th>Low</th>\n",
       "      <th>Close</th>\n",
       "      <th>Adj Close</th>\n",
       "      <th>Volume</th>\n",
       "    </tr>\n",
       "    <tr>\n",
       "      <th>Date</th>\n",
       "      <th></th>\n",
       "      <th></th>\n",
       "      <th></th>\n",
       "      <th></th>\n",
       "      <th></th>\n",
       "      <th></th>\n",
       "    </tr>\n",
       "  </thead>\n",
       "  <tbody>\n",
       "    <tr>\n",
       "      <th>2010-01-04</th>\n",
       "      <td>26.049999</td>\n",
       "      <td>28.200001</td>\n",
       "      <td>26.049999</td>\n",
       "      <td>27.000000</td>\n",
       "      <td>23.964306</td>\n",
       "      <td>877408</td>\n",
       "    </tr>\n",
       "    <tr>\n",
       "      <th>2010-01-05</th>\n",
       "      <td>27.125000</td>\n",
       "      <td>28.200001</td>\n",
       "      <td>26.875000</td>\n",
       "      <td>27.125000</td>\n",
       "      <td>24.075254</td>\n",
       "      <td>508398</td>\n",
       "    </tr>\n",
       "    <tr>\n",
       "      <th>2010-01-06</th>\n",
       "      <td>27.500000</td>\n",
       "      <td>28.400000</td>\n",
       "      <td>26.625000</td>\n",
       "      <td>26.825001</td>\n",
       "      <td>23.808989</td>\n",
       "      <td>402216</td>\n",
       "    </tr>\n",
       "    <tr>\n",
       "      <th>2010-01-07</th>\n",
       "      <td>27.250000</td>\n",
       "      <td>27.549999</td>\n",
       "      <td>26.850000</td>\n",
       "      <td>27.100000</td>\n",
       "      <td>24.053064</td>\n",
       "      <td>478980</td>\n",
       "    </tr>\n",
       "    <tr>\n",
       "      <th>2010-01-08</th>\n",
       "      <td>27.250000</td>\n",
       "      <td>28.025000</td>\n",
       "      <td>26.525000</td>\n",
       "      <td>26.700001</td>\n",
       "      <td>23.698040</td>\n",
       "      <td>366642</td>\n",
       "    </tr>\n",
       "  </tbody>\n",
       "</table>\n",
       "</div>"
      ],
      "text/plain": [
       "                 Open       High        Low      Close  Adj Close  Volume\n",
       "Date                                                                     \n",
       "2010-01-04  26.049999  28.200001  26.049999  27.000000  23.964306  877408\n",
       "2010-01-05  27.125000  28.200001  26.875000  27.125000  24.075254  508398\n",
       "2010-01-06  27.500000  28.400000  26.625000  26.825001  23.808989  402216\n",
       "2010-01-07  27.250000  27.549999  26.850000  27.100000  24.053064  478980\n",
       "2010-01-08  27.250000  28.025000  26.525000  26.700001  23.698040  366642"
      ]
     },
     "execution_count": 4,
     "metadata": {},
     "output_type": "execute_result"
    }
   ],
   "source": [
    "df.head()"
   ]
  },
  {
   "cell_type": "code",
   "execution_count": 5,
   "id": "af8de10b",
   "metadata": {},
   "outputs": [],
   "source": [
    "def Random_games(env):\n",
    "    env.reset()\n",
    "    for _ in range(10):\n",
    "        env.render()\n",
    "        action=env.action_space.sample()\n",
    "#         print(action)\n",
    "        env.step(action) # take a random action\n",
    "    env.close()"
   ]
  },
  {
   "cell_type": "code",
   "execution_count": 6,
   "id": "39bfbd7b",
   "metadata": {},
   "outputs": [],
   "source": [
    "import talib\n",
    "import pandas as pd\n",
    "\n",
    "\n",
    "diff = lambda x, y: x - y\n",
    "abs_diff = lambda x, y: abs(x - y)\n",
    "\n",
    "\n",
    "indicators = [\n",
    "    ('RSI', talib.STOCHRSI, ['Close'])    \n",
    "]\n",
    "\n",
    "\n",
    "def add_indicators(df) -> pd.DataFrame:\n",
    "    for name, f, arg_names in indicators:\n",
    "        wrapper = lambda func, args: func(*args)\n",
    "        args = [df[arg_name] for arg_name in arg_names]\n",
    "        df[name] = wrapper(f, args)\n",
    "    df.fillna(method='bfill', inplace=True)\n",
    "    return df"
   ]
  },
  {
   "cell_type": "code",
   "execution_count": 7,
   "id": "ffa8b165",
   "metadata": {
    "scrolled": true
   },
   "outputs": [],
   "source": [
    "import gym\n",
    "import json\n",
    "import datetime as dt\n",
    "from stable_baselines.common.policies import MlpLstmPolicy\n",
    "from stable_baselines.common.vec_env import DummyVecEnv\n",
    "from stable_baselines import PPO2\n",
    "# from StockTradingEnv import StockTradingEnv"
   ]
  },
  {
   "cell_type": "code",
   "execution_count": 8,
   "id": "7f3a7bf4",
   "metadata": {},
   "outputs": [],
   "source": [
    "# Train data = 70%, Validation data = 20%, Test data = 10%  \n",
    "train_range = math.floor(len(df.index)*.7)\n",
    "val_range = math.floor(len(df.index)*.2)\n",
    "test_range = math.floor(len(df.index)*.1)\n",
    "\n",
    "# Train DataFrame\n",
    "train_df = df[:train_range].sort_index()\n",
    "\n",
    "# Validation DataFrame\n",
    "val_df = df[train_range:train_range + val_range].sort_index()\n",
    "\n",
    "# Test DataFrame\n",
    "test_df = df[(train_range + val_range):(train_range + val_range + test_range)].sort_index()"
   ]
  },
  {
   "cell_type": "code",
   "execution_count": 9,
   "id": "ea6ae7a6",
   "metadata": {},
   "outputs": [],
   "source": [
    "import optuna\n",
    "from optuna import Trial, visualization\n",
    "\n",
    "from optuna.samplers import TPESampler"
   ]
  },
  {
   "cell_type": "code",
   "execution_count": 10,
   "id": "f5c5ef7c",
   "metadata": {},
   "outputs": [],
   "source": [
    "def optimize_ppo2_lstm(trial):\n",
    "    return {\n",
    "        'n_steps': int(trial.suggest_loguniform('n_steps', 16, 2048)),\n",
    "        'gamma': trial.suggest_loguniform('gamma', 0.9, 0.9999),\n",
    "        'learning_rate': trial.suggest_loguniform('learning_rate', 1e-5, 1.),\n",
    "        'ent_coef': trial.suggest_loguniform('ent_coef', 1e-8, 1e-1),\n",
    "        'cliprange': trial.suggest_uniform('cliprange', 0.1, 0.4),\n",
    "        'noptepochs': int(trial.suggest_loguniform('noptepochs', 1, 48)),\n",
    "        'lam': trial.suggest_uniform('lam', 0.8, 1.)\n",
    "    }"
   ]
  },
  {
   "cell_type": "code",
   "execution_count": 11,
   "id": "5f15c9f6",
   "metadata": {},
   "outputs": [],
   "source": [
    "def objective_ppo2_lstm(trial):\n",
    "    agent_params = optimize_ppo2_lstm(trial)\n",
    "    \n",
    "    train_env = DummyVecEnv([lambda: StockTradingEnv(train_df)])\n",
    "    model = PPO2(MlpLstmPolicy, train_env, nminibatches=1, **agent_params,  tensorboard_log=\"./tensorboard/PPO2_LSTM_Test\")\n",
    "    \n",
    "    model.learn(total_timesteps=len(train_df))\n",
    "    \n",
    "    rewards, done = [], False\n",
    "\n",
    "    val_env = DummyVecEnv([lambda: StockTradingEnv(val_df)])\n",
    "    obs = val_env.reset()\n",
    "    \n",
    "    for i in range(len(val_df)):\n",
    "        action, _states = model.predict(obs, deterministic=False)\n",
    "        obs, reward, done, info = val_env.step(action)\n",
    "        rewards.append(reward)\n",
    "        \n",
    "    return -np.mean(rewards)"
   ]
  },
  {
   "cell_type": "code",
   "execution_count": 12,
   "id": "d13c1bfc",
   "metadata": {},
   "outputs": [
    {
     "name": "stderr",
     "output_type": "stream",
     "text": [
      "\u001b[32m[I 2022-04-11 15:01:02,493]\u001b[0m A new study created in RDB with name: PPO2_LSTM_optimize_profit_test\u001b[0m\n",
      "\u001b[32m[I 2022-04-11 15:02:14,369]\u001b[0m Trial 1 finished with value: -0.0 and parameters: {'n_steps': 245.00627523248428, 'gamma': 0.977723564331734, 'learning_rate': 0.5870666566018553, 'ent_coef': 5.9211562517822755e-06, 'cliprange': 0.2129550451480523, 'noptepochs': 45.9591868218829, 'lam': 0.9039011648262867}. Best is trial 1 with value: 0.0.\u001b[0m\n",
      "\u001b[32m[I 2022-04-11 15:02:24,196]\u001b[0m Trial 3 finished with value: -0.0 and parameters: {'n_steps': 377.0133262328042, 'gamma': 0.9512199733158527, 'learning_rate': 0.14414757055354727, 'ent_coef': 5.254451708412536e-06, 'cliprange': 0.15926094325548973, 'noptepochs': 17.336860492309423, 'lam': 0.9720644304495372}. Best is trial 1 with value: 0.0.\u001b[0m\n",
      "\u001b[32m[I 2022-04-11 15:03:00,130]\u001b[0m Trial 4 finished with value: 115.61991882324219 and parameters: {'n_steps': 44.78042958605413, 'gamma': 0.9434190444588576, 'learning_rate': 0.036180933349152976, 'ent_coef': 5.8457958613226504e-05, 'cliprange': 0.301072776559151, 'noptepochs': 22.93276416439066, 'lam': 0.9607619290115612}. Best is trial 1 with value: 0.0.\u001b[0m\n",
      "\u001b[32m[I 2022-04-11 15:03:05,649]\u001b[0m Trial 5 finished with value: -0.0 and parameters: {'n_steps': 121.95061320203021, 'gamma': 0.9680614685683979, 'learning_rate': 0.8803595944695959, 'ent_coef': 0.0037021653548776133, 'cliprange': 0.26789688959540314, 'noptepochs': 2.4267407373912846, 'lam': 0.920384818228587}. Best is trial 1 with value: 0.0.\u001b[0m\n",
      "\u001b[32m[I 2022-04-11 15:03:19,110]\u001b[0m Trial 0 finished with value: 405.0589294433594 and parameters: {'n_steps': 696.787511203677, 'gamma': 0.9386672664844192, 'learning_rate': 0.0016843702967638129, 'ent_coef': 4.186101661411603e-06, 'cliprange': 0.32914998484582236, 'noptepochs': 1.899275017312557, 'lam': 0.8818391974560318}. Best is trial 1 with value: 0.0.\u001b[0m\n",
      "\u001b[32m[I 2022-04-11 15:03:42,907]\u001b[0m Trial 7 finished with value: 434.29876708984375 and parameters: {'n_steps': 61.30710942526176, 'gamma': 0.9208472772963058, 'learning_rate': 3.1020059478591754e-05, 'ent_coef': 2.8501771979464214e-07, 'cliprange': 0.24255655788230054, 'noptepochs': 15.764683408308953, 'lam': 0.9153298867465013}. Best is trial 1 with value: 0.0.\u001b[0m\n",
      "\u001b[32m[I 2022-04-11 15:04:21,435]\u001b[0m Trial 9 finished with value: -138.32723999023438 and parameters: {'n_steps': 80.13170277412357, 'gamma': 0.9252235826014411, 'learning_rate': 0.0018606371721046336, 'ent_coef': 4.663466434811137e-06, 'cliprange': 0.1745481028231517, 'noptepochs': 12.331947416222173, 'lam': 0.8697201608945553}. Best is trial 9 with value: -138.32723999023438.\u001b[0m\n",
      "\u001b[32m[I 2022-04-11 15:05:00,841]\u001b[0m Trial 2 finished with value: -729.6260375976562 and parameters: {'n_steps': 1281.6623202521903, 'gamma': 0.9617908455983807, 'learning_rate': 8.982793251604273e-05, 'ent_coef': 0.00034110977107535095, 'cliprange': 0.17030840956549298, 'noptepochs': 1.3835522178858635, 'lam': 0.8440857892672741}. Best is trial 2 with value: -729.6260375976562.\u001b[0m\n",
      "\u001b[32m[I 2022-04-11 15:05:00,852]\u001b[0m Trial 8 finished with value: 442.4573059082031 and parameters: {'n_steps': 436.9620844294404, 'gamma': 0.9537617544764943, 'learning_rate': 4.37077919694396e-05, 'ent_coef': 0.0013899370210774284, 'cliprange': 0.16982764155580127, 'noptepochs': 1.2655634831464493, 'lam': 0.8989963076753505}. Best is trial 9 with value: -729.6260375976562.\u001b[0m\n",
      "\u001b[32m[I 2022-04-11 15:05:24,544]\u001b[0m Trial 11 finished with value: -0.0 and parameters: {'n_steps': 56.11638679069669, 'gamma': 0.9686384673169064, 'learning_rate': 0.04845257997349743, 'ent_coef': 0.02570352598396919, 'cliprange': 0.2939758745195225, 'noptepochs': 1.469794896976712, 'lam': 0.9939121133488141}. Best is trial 2 with value: -729.6260375976562.\u001b[0m\n",
      "\u001b[32m[I 2022-04-11 15:07:39,470]\u001b[0m Trial 6 finished with value: 938.280517578125 and parameters: {'n_steps': 1455.1443362894665, 'gamma': 0.9471720340676079, 'learning_rate': 0.005482572373967193, 'ent_coef': 0.0004193034197101879, 'cliprange': 0.12321527382376449, 'noptepochs': 2.6946008920649747, 'lam': 0.936686883082058}. Best is trial 2 with value: -729.6260375976562.\u001b[0m\n",
      "\u001b[32m[I 2022-04-11 15:07:48,134]\u001b[0m Trial 12 finished with value: 74.91666412353516 and parameters: {'n_steps': 810.3037802420757, 'gamma': 0.9954308788778747, 'learning_rate': 6.793074996501984e-05, 'ent_coef': 0.048924435065543725, 'cliprange': 0.276575663172716, 'noptepochs': 14.639444050287679, 'lam': 0.930498707963674}. Best is trial 2 with value: -729.6260375976562.\u001b[0m\n",
      "\u001b[32m[I 2022-04-11 15:08:20,593]\u001b[0m Trial 15 finished with value: -556.8109741210938 and parameters: {'n_steps': 125.26841126703869, 'gamma': 0.9004404509853677, 'learning_rate': 0.00045177118947657165, 'ent_coef': 2.2811780525201236e-08, 'cliprange': 0.38843730540705323, 'noptepochs': 6.538268896286643, 'lam': 0.8220609178605142}. Best is trial 2 with value: -729.6260375976562.\u001b[0m\n",
      "\u001b[32m[I 2022-04-11 15:08:58,644]\u001b[0m Trial 16 finished with value: 505.5243835449219 and parameters: {'n_steps': 23.053157563179607, 'gamma': 0.9125711772905356, 'learning_rate': 0.0002531236954554731, 'ent_coef': 1.842960980010475e-08, 'cliprange': 0.3996117005039941, 'noptepochs': 4.82072454144091, 'lam': 0.8177004870684177}. Best is trial 2 with value: -729.6260375976562.\u001b[0m\n",
      "\u001b[32m[I 2022-04-11 15:09:00,530]\u001b[0m Trial 10 finished with value: 717.1280517578125 and parameters: {'n_steps': 1421.0266609211544, 'gamma': 0.9576247936523294, 'learning_rate': 4.962082835902856e-05, 'ent_coef': 0.0012045646238793626, 'cliprange': 0.22769751563811724, 'noptepochs': 23.217103926950216, 'lam': 0.9960366770823491}. Best is trial 2 with value: -729.6260375976562.\u001b[0m\n",
      "\u001b[32m[I 2022-04-11 15:09:04,406]\u001b[0m Trial 13 finished with value: 387.2479553222656 and parameters: {'n_steps': 1822.2470834853227, 'gamma': 0.9965232367022392, 'learning_rate': 0.00026327688437865457, 'ent_coef': 2.987657509817025e-08, 'cliprange': 0.3918176725563881, 'noptepochs': 4.2385009170491, 'lam': 0.8011778306151918}. Best is trial 2 with value: -729.6260375976562.\u001b[0m\n",
      "\u001b[32m[I 2022-04-11 15:09:48,151]\u001b[0m Trial 18 finished with value: -443.07318115234375 and parameters: {'n_steps': 160.83571544006475, 'gamma': 0.9064558426478155, 'learning_rate': 0.00036234790473672586, 'ent_coef': 2.474951867632257e-07, 'cliprange': 0.38580729581802686, 'noptepochs': 5.1653183765351685, 'lam': 0.8015311156202454}. Best is trial 2 with value: -729.6260375976562.\u001b[0m\n",
      "\u001b[32m[I 2022-04-11 15:09:51,523]\u001b[0m Trial 19 finished with value: 101.08739471435547 and parameters: {'n_steps': 163.8412765431713, 'gamma': 0.9046573043967251, 'learning_rate': 1.1501175094661345e-05, 'ent_coef': 0.00013148613129283668, 'cliprange': 0.3407245424786485, 'noptepochs': 8.142880290348787, 'lam': 0.8449461378973819}. Best is trial 2 with value: -729.6260375976562.\u001b[0m\n",
      "\u001b[32m[I 2022-04-11 15:09:55,412]\u001b[0m Trial 17 finished with value: 1060.701171875 and parameters: {'n_steps': 156.01330134640685, 'gamma': 0.9009752971156186, 'learning_rate': 0.0003226264850029056, 'ent_coef': 1.9509960287324003e-08, 'cliprange': 0.3921202492199116, 'noptepochs': 6.367642856654198, 'lam': 0.8026567455408412}. Best is trial 2 with value: -729.6260375976562.\u001b[0m\n",
      "\u001b[32m[I 2022-04-11 15:10:15,433]\u001b[0m Trial 22 finished with value: -0.0 and parameters: {'n_steps': 17.29516802265833, 'gamma': 0.929770555171214, 'learning_rate': 0.0065341419066429355, 'ent_coef': 4.858194314376711e-07, 'cliprange': 0.19779666865277754, 'noptepochs': 3.2323593199664993, 'lam': 0.8416743563163958}. Best is trial 2 with value: -729.6260375976562.\u001b[0m\n",
      "\u001b[32m[I 2022-04-11 15:10:20,218]\u001b[0m Trial 20 finished with value: 51.794715881347656 and parameters: {'n_steps': 19.52291080949107, 'gamma': 0.9295015858111977, 'learning_rate': 1.4857079598709324e-05, 'ent_coef': 0.00014699106322383124, 'cliprange': 0.35255495090512645, 'noptepochs': 7.508371797094337, 'lam': 0.8418771464054525}. Best is trial 2 with value: -729.6260375976562.\u001b[0m\n",
      "\u001b[32m[I 2022-04-11 15:10:20,423]\u001b[0m Trial 21 finished with value: 117.15853881835938 and parameters: {'n_steps': 28.314088227303714, 'gamma': 0.9310498074574135, 'learning_rate': 0.009372930107469294, 'ent_coef': 4.2307163644191275e-07, 'cliprange': 0.11580604341409195, 'noptepochs': 8.057859853836488, 'lam': 0.8413491513279154}. Best is trial 2 with value: -729.6260375976562.\u001b[0m\n"
     ]
    },
    {
     "name": "stderr",
     "output_type": "stream",
     "text": [
      "\u001b[32m[I 2022-04-11 15:11:25,395]\u001b[0m Trial 24 finished with value: 729.5426635742188 and parameters: {'n_steps': 260.42728551329105, 'gamma': 0.9123670802691259, 'learning_rate': 0.0008414079322725764, 'ent_coef': 1.0353206192437349e-07, 'cliprange': 0.36424336124021783, 'noptepochs': 1.1320966982701481, 'lam': 0.8227256237447651}. Best is trial 2 with value: -729.6260375976562.\u001b[0m\n",
      "\u001b[32m[I 2022-04-11 15:11:25,792]\u001b[0m Trial 25 finished with value: 590.150390625 and parameters: {'n_steps': 269.2945983901756, 'gamma': 0.9137202361315576, 'learning_rate': 0.0006888620552109986, 'ent_coef': 8.430948368196741e-08, 'cliprange': 0.355728714161879, 'noptepochs': 1.028689420891211, 'lam': 0.8221678072450758}. Best is trial 2 with value: -729.6260375976562.\u001b[0m\n",
      "\u001b[32m[I 2022-04-11 15:11:26,777]\u001b[0m Trial 23 finished with value: 1253.3740234375 and parameters: {'n_steps': 272.58723520424655, 'gamma': 0.9864000687700071, 'learning_rate': 0.0008415479102642459, 'ent_coef': 2.2691048443243334e-05, 'cliprange': 0.11833230961981425, 'noptepochs': 8.205749674561872, 'lam': 0.841527058786344}. Best is trial 2 with value: -729.6260375976562.\u001b[0m\n",
      "\u001b[32m[I 2022-04-11 15:12:03,288]\u001b[0m Trial 27 finished with value: -113.82520294189453 and parameters: {'n_steps': 106.70998249444484, 'gamma': 0.9038965856197915, 'learning_rate': 0.00011303481839795947, 'ent_coef': 1.6115759744462418e-06, 'cliprange': 0.31817400658045186, 'noptepochs': 4.118489766452682, 'lam': 0.8722547874183941}. Best is trial 2 with value: -729.6260375976562.\u001b[0m\n",
      "\u001b[32m[I 2022-04-11 15:12:04,064]\u001b[0m Trial 26 finished with value: 506.6991882324219 and parameters: {'n_steps': 107.5410281149326, 'gamma': 0.9123540314167308, 'learning_rate': 0.00015913930315439605, 'ent_coef': 7.510219124187154e-08, 'cliprange': 0.31380898791993717, 'noptepochs': 4.289278702684994, 'lam': 0.8594307320875074}. Best is trial 2 with value: -729.6260375976562.\u001b[0m\n",
      "\u001b[32m[I 2022-04-11 15:12:05,673]\u001b[0m Trial 28 finished with value: -119.96544647216797 and parameters: {'n_steps': 106.55189502616373, 'gamma': 0.9071335577903741, 'learning_rate': 0.00012835898781936962, 'ent_coef': 9.138335288563803e-07, 'cliprange': 0.31696640601924264, 'noptepochs': 4.330179123179395, 'lam': 0.8767361655992348}. Best is trial 2 with value: -729.6260375976562.\u001b[0m\n",
      "\u001b[32m[I 2022-04-11 15:12:14,920]\u001b[0m Trial 14 finished with value: -272.32318115234375 and parameters: {'n_steps': 1588.8470901203568, 'gamma': 0.999495049814938, 'learning_rate': 0.00037495899824977933, 'ent_coef': 4.568349729686588e-08, 'cliprange': 0.38119964499294046, 'noptepochs': 6.531715689368813, 'lam': 0.8267934205434476}. Best is trial 2 with value: -729.6260375976562.\u001b[0m\n",
      "\u001b[32m[I 2022-04-11 15:13:52,040]\u001b[0m Trial 30 finished with value: 1208.1341552734375 and parameters: {'n_steps': 622.1927989726516, 'gamma': 0.9607531867777725, 'learning_rate': 0.0004621290903965816, 'ent_coef': 2.615705305405036e-05, 'cliprange': 0.3788966019770213, 'noptepochs': 2.043501894170966, 'lam': 0.816019328220813}. Best is trial 2 with value: -729.6260375976562.\u001b[0m\n",
      "\u001b[32m[I 2022-04-11 15:13:56,682]\u001b[0m Trial 29 finished with value: 350.25811767578125 and parameters: {'n_steps': 693.81672913633, 'gamma': 0.9619285009525881, 'learning_rate': 0.00018532414446814188, 'ent_coef': 6.963427775921252e-08, 'cliprange': 0.3744035052509533, 'noptepochs': 1.9784040474447402, 'lam': 0.8659057789921609}. Best is trial 2 with value: -729.6260375976562.\u001b[0m\n",
      "\u001b[32m[I 2022-04-11 15:14:05,373]\u001b[0m Trial 31 finished with value: 397.6707458496094 and parameters: {'n_steps': 634.0427244353865, 'gamma': 0.962309019887503, 'learning_rate': 0.0005091477871859841, 'ent_coef': 1.0434964264652767e-08, 'cliprange': 0.37257086837783693, 'noptepochs': 1.879255938955118, 'lam': 0.8150211960499083}. Best is trial 2 with value: -729.6260375976562.\u001b[0m\n",
      "\u001b[32m[I 2022-04-11 15:14:13,018]\u001b[0m Trial 32 finished with value: 75.99797058105469 and parameters: {'n_steps': 749.0784236422171, 'gamma': 0.9366760026483841, 'learning_rate': 0.0028520124811604567, 'ent_coef': 1.4236803360978051e-05, 'cliprange': 0.1449719448807798, 'noptepochs': 1.751512705675728, 'lam': 0.8105831101149887}. Best is trial 2 with value: -729.6260375976562.\u001b[0m\n",
      "\u001b[32m[I 2022-04-11 15:16:17,949]\u001b[0m Trial 33 finished with value: 439.5975646972656 and parameters: {'n_steps': 904.0772347779075, 'gamma': 0.9374965061810844, 'learning_rate': 0.0016641420341040117, 'ent_coef': 1.1043082458135042e-08, 'cliprange': 0.14765578570607377, 'noptepochs': 1.6645963152551844, 'lam': 0.8591412809843191}. Best is trial 2 with value: -729.6260375976562.\u001b[0m\n",
      "\u001b[32m[I 2022-04-11 15:17:00,062]\u001b[0m Trial 34 finished with value: 395.8658447265625 and parameters: {'n_steps': 1022.072405697944, 'gamma': 0.9368861564017492, 'learning_rate': 0.0021569771482047944, 'ent_coef': 1.3244551586023607e-08, 'cliprange': 0.335729665016842, 'noptepochs': 10.572424024047345, 'lam': 0.8247212269904043}. Best is trial 2 with value: -729.6260375976562.\u001b[0m\n",
      "\u001b[32m[I 2022-04-11 15:17:26,180]\u001b[0m Trial 35 finished with value: 520.5487670898438 and parameters: {'n_steps': 1094.1276040497655, 'gamma': 0.9381364352014855, 'learning_rate': 0.002016721124176107, 'ent_coef': 1.914209238316487e-07, 'cliprange': 0.33964803760430423, 'noptepochs': 10.318158196209808, 'lam': 0.8307994780518364}. Best is trial 2 with value: -729.6260375976562.\u001b[0m\n",
      "\u001b[32m[I 2022-04-11 15:18:57,758]\u001b[0m Trial 36 finished with value: 1361.2601318359375 and parameters: {'n_steps': 1994.5078368491945, 'gamma': 0.9886783133635035, 'learning_rate': 0.0015366148762728992, 'ent_coef': 1.3112962228428735e-07, 'cliprange': 0.33626002849638326, 'noptepochs': 10.963122879688354, 'lam': 0.8293046893770523}. Best is trial 2 with value: -729.6260375976562.\u001b[0m\n",
      "\u001b[32m[I 2022-04-11 15:19:08,763]\u001b[0m Trial 38 finished with value: 339.343505859375 and parameters: {'n_steps': 452.09509086269856, 'gamma': 0.9801479378854988, 'learning_rate': 8.414308106618761e-05, 'ent_coef': 2.688573126484147e-07, 'cliprange': 0.3418199409641906, 'noptepochs': 36.83668588895908, 'lam': 0.8319667067208962}. Best is trial 2 with value: -729.6260375976562.\u001b[0m\n",
      "\u001b[32m[I 2022-04-11 15:19:12,414]\u001b[0m Trial 39 finished with value: 166.26016235351562 and parameters: {'n_steps': 396.457299959395, 'gamma': 0.9839558134766506, 'learning_rate': 2.249931336796118e-05, 'ent_coef': 1.922326969987975e-06, 'cliprange': 0.21349383561812818, 'noptepochs': 5.796068948302775, 'lam': 0.8867939707105035}. Best is trial 2 with value: -729.6260375976562.\u001b[0m\n",
      "\u001b[32m[I 2022-04-11 15:19:46,395]\u001b[0m Trial 37 finished with value: 215.0792694091797 and parameters: {'n_steps': 1086.7257824862559, 'gamma': 0.9759588155204199, 'learning_rate': 8.499838668830319e-05, 'ent_coef': 2.3237692833562944e-06, 'cliprange': 0.33938599117466905, 'noptepochs': 5.795515196806139, 'lam': 0.8294343223531799}. Best is trial 2 with value: -729.6260375976562.\u001b[0m\n"
     ]
    }
   ],
   "source": [
    "optuna.delete_study(study_name='PPO2_LSTM_optimize_profit_test', storage='sqlite:///params.db')\n",
    "study_ppo2_lstm_test = optuna.create_study(study_name='PPO2_LSTM_optimize_profit_test', storage='sqlite:///params.db', \n",
    "                            load_if_exists=True, sampler=TPESampler())\n",
    "study_ppo2_lstm_test.optimize(objective_ppo2_lstm, n_trials=40, n_jobs=4, show_progress_bar = True)"
   ]
  },
  {
   "cell_type": "code",
   "execution_count": 13,
   "id": "8f128733",
   "metadata": {},
   "outputs": [
    {
     "data": {
      "text/plain": [
       "{'cliprange': 0.17030840956549298,\n",
       " 'ent_coef': 0.00034110977107535095,\n",
       " 'gamma': 0.9617908455983807,\n",
       " 'lam': 0.8440857892672741,\n",
       " 'learning_rate': 8.982793251604273e-05,\n",
       " 'n_steps': 1281.6623202521903,\n",
       " 'noptepochs': 1.3835522178858635}"
      ]
     },
     "execution_count": 13,
     "metadata": {},
     "output_type": "execute_result"
    }
   ],
   "source": [
    "study_ppo2_lstm_test.best_params"
   ]
  },
  {
   "cell_type": "code",
   "execution_count": 14,
   "id": "9d770b41",
   "metadata": {},
   "outputs": [
    {
     "data": {
      "application/vnd.plotly.v1+json": {
       "config": {
        "plotlyServerURL": "https://plot.ly"
       },
       "data": [
        {
         "mode": "markers",
         "name": "Objective Value",
         "type": "scatter",
         "x": [
          0,
          1,
          2,
          3,
          4,
          5,
          6,
          7,
          8,
          9,
          10,
          11,
          12,
          13,
          14,
          15,
          16,
          17,
          18,
          19,
          20,
          21,
          22,
          23,
          24,
          25,
          26,
          27,
          28,
          29,
          30,
          31,
          32,
          33,
          34,
          35,
          36,
          37,
          38,
          39
         ],
         "y": [
          405.0589294433594,
          0,
          -729.6260375976562,
          0,
          115.61991882324219,
          0,
          938.280517578125,
          434.29876708984375,
          442.4573059082031,
          -138.32723999023438,
          717.1280517578125,
          0,
          74.91666412353516,
          387.2479553222656,
          -272.32318115234375,
          -556.8109741210938,
          505.5243835449219,
          1060.701171875,
          -443.07318115234375,
          101.08739471435547,
          51.794715881347656,
          117.15853881835938,
          0,
          1253.3740234375,
          729.5426635742188,
          590.150390625,
          506.6991882324219,
          -113.82520294189453,
          -119.96544647216797,
          350.25811767578125,
          1208.1341552734375,
          397.6707458496094,
          75.99797058105469,
          439.5975646972656,
          395.8658447265625,
          520.5487670898438,
          1361.2601318359375,
          215.0792694091797,
          339.343505859375,
          166.26016235351562
         ]
        },
        {
         "name": "Best Value",
         "type": "scatter",
         "x": [
          0,
          1,
          2,
          3,
          4,
          5,
          6,
          7,
          8,
          9,
          10,
          11,
          12,
          13,
          14,
          15,
          16,
          17,
          18,
          19,
          20,
          21,
          22,
          23,
          24,
          25,
          26,
          27,
          28,
          29,
          30,
          31,
          32,
          33,
          34,
          35,
          36,
          37,
          38,
          39
         ],
         "y": [
          405.0589294433594,
          0,
          -729.6260375976562,
          -729.6260375976562,
          -729.6260375976562,
          -729.6260375976562,
          -729.6260375976562,
          -729.6260375976562,
          -729.6260375976562,
          -729.6260375976562,
          -729.6260375976562,
          -729.6260375976562,
          -729.6260375976562,
          -729.6260375976562,
          -729.6260375976562,
          -729.6260375976562,
          -729.6260375976562,
          -729.6260375976562,
          -729.6260375976562,
          -729.6260375976562,
          -729.6260375976562,
          -729.6260375976562,
          -729.6260375976562,
          -729.6260375976562,
          -729.6260375976562,
          -729.6260375976562,
          -729.6260375976562,
          -729.6260375976562,
          -729.6260375976562,
          -729.6260375976562,
          -729.6260375976562,
          -729.6260375976562,
          -729.6260375976562,
          -729.6260375976562,
          -729.6260375976562,
          -729.6260375976562,
          -729.6260375976562,
          -729.6260375976562,
          -729.6260375976562,
          -729.6260375976562
         ]
        }
       ],
       "layout": {
        "template": {
         "data": {
          "bar": [
           {
            "error_x": {
             "color": "#2a3f5f"
            },
            "error_y": {
             "color": "#2a3f5f"
            },
            "marker": {
             "line": {
              "color": "#E5ECF6",
              "width": 0.5
             },
             "pattern": {
              "fillmode": "overlay",
              "size": 10,
              "solidity": 0.2
             }
            },
            "type": "bar"
           }
          ],
          "barpolar": [
           {
            "marker": {
             "line": {
              "color": "#E5ECF6",
              "width": 0.5
             },
             "pattern": {
              "fillmode": "overlay",
              "size": 10,
              "solidity": 0.2
             }
            },
            "type": "barpolar"
           }
          ],
          "carpet": [
           {
            "aaxis": {
             "endlinecolor": "#2a3f5f",
             "gridcolor": "white",
             "linecolor": "white",
             "minorgridcolor": "white",
             "startlinecolor": "#2a3f5f"
            },
            "baxis": {
             "endlinecolor": "#2a3f5f",
             "gridcolor": "white",
             "linecolor": "white",
             "minorgridcolor": "white",
             "startlinecolor": "#2a3f5f"
            },
            "type": "carpet"
           }
          ],
          "choropleth": [
           {
            "colorbar": {
             "outlinewidth": 0,
             "ticks": ""
            },
            "type": "choropleth"
           }
          ],
          "contour": [
           {
            "colorbar": {
             "outlinewidth": 0,
             "ticks": ""
            },
            "colorscale": [
             [
              0,
              "#0d0887"
             ],
             [
              0.1111111111111111,
              "#46039f"
             ],
             [
              0.2222222222222222,
              "#7201a8"
             ],
             [
              0.3333333333333333,
              "#9c179e"
             ],
             [
              0.4444444444444444,
              "#bd3786"
             ],
             [
              0.5555555555555556,
              "#d8576b"
             ],
             [
              0.6666666666666666,
              "#ed7953"
             ],
             [
              0.7777777777777778,
              "#fb9f3a"
             ],
             [
              0.8888888888888888,
              "#fdca26"
             ],
             [
              1,
              "#f0f921"
             ]
            ],
            "type": "contour"
           }
          ],
          "contourcarpet": [
           {
            "colorbar": {
             "outlinewidth": 0,
             "ticks": ""
            },
            "type": "contourcarpet"
           }
          ],
          "heatmap": [
           {
            "colorbar": {
             "outlinewidth": 0,
             "ticks": ""
            },
            "colorscale": [
             [
              0,
              "#0d0887"
             ],
             [
              0.1111111111111111,
              "#46039f"
             ],
             [
              0.2222222222222222,
              "#7201a8"
             ],
             [
              0.3333333333333333,
              "#9c179e"
             ],
             [
              0.4444444444444444,
              "#bd3786"
             ],
             [
              0.5555555555555556,
              "#d8576b"
             ],
             [
              0.6666666666666666,
              "#ed7953"
             ],
             [
              0.7777777777777778,
              "#fb9f3a"
             ],
             [
              0.8888888888888888,
              "#fdca26"
             ],
             [
              1,
              "#f0f921"
             ]
            ],
            "type": "heatmap"
           }
          ],
          "heatmapgl": [
           {
            "colorbar": {
             "outlinewidth": 0,
             "ticks": ""
            },
            "colorscale": [
             [
              0,
              "#0d0887"
             ],
             [
              0.1111111111111111,
              "#46039f"
             ],
             [
              0.2222222222222222,
              "#7201a8"
             ],
             [
              0.3333333333333333,
              "#9c179e"
             ],
             [
              0.4444444444444444,
              "#bd3786"
             ],
             [
              0.5555555555555556,
              "#d8576b"
             ],
             [
              0.6666666666666666,
              "#ed7953"
             ],
             [
              0.7777777777777778,
              "#fb9f3a"
             ],
             [
              0.8888888888888888,
              "#fdca26"
             ],
             [
              1,
              "#f0f921"
             ]
            ],
            "type": "heatmapgl"
           }
          ],
          "histogram": [
           {
            "marker": {
             "pattern": {
              "fillmode": "overlay",
              "size": 10,
              "solidity": 0.2
             }
            },
            "type": "histogram"
           }
          ],
          "histogram2d": [
           {
            "colorbar": {
             "outlinewidth": 0,
             "ticks": ""
            },
            "colorscale": [
             [
              0,
              "#0d0887"
             ],
             [
              0.1111111111111111,
              "#46039f"
             ],
             [
              0.2222222222222222,
              "#7201a8"
             ],
             [
              0.3333333333333333,
              "#9c179e"
             ],
             [
              0.4444444444444444,
              "#bd3786"
             ],
             [
              0.5555555555555556,
              "#d8576b"
             ],
             [
              0.6666666666666666,
              "#ed7953"
             ],
             [
              0.7777777777777778,
              "#fb9f3a"
             ],
             [
              0.8888888888888888,
              "#fdca26"
             ],
             [
              1,
              "#f0f921"
             ]
            ],
            "type": "histogram2d"
           }
          ],
          "histogram2dcontour": [
           {
            "colorbar": {
             "outlinewidth": 0,
             "ticks": ""
            },
            "colorscale": [
             [
              0,
              "#0d0887"
             ],
             [
              0.1111111111111111,
              "#46039f"
             ],
             [
              0.2222222222222222,
              "#7201a8"
             ],
             [
              0.3333333333333333,
              "#9c179e"
             ],
             [
              0.4444444444444444,
              "#bd3786"
             ],
             [
              0.5555555555555556,
              "#d8576b"
             ],
             [
              0.6666666666666666,
              "#ed7953"
             ],
             [
              0.7777777777777778,
              "#fb9f3a"
             ],
             [
              0.8888888888888888,
              "#fdca26"
             ],
             [
              1,
              "#f0f921"
             ]
            ],
            "type": "histogram2dcontour"
           }
          ],
          "mesh3d": [
           {
            "colorbar": {
             "outlinewidth": 0,
             "ticks": ""
            },
            "type": "mesh3d"
           }
          ],
          "parcoords": [
           {
            "line": {
             "colorbar": {
              "outlinewidth": 0,
              "ticks": ""
             }
            },
            "type": "parcoords"
           }
          ],
          "pie": [
           {
            "automargin": true,
            "type": "pie"
           }
          ],
          "scatter": [
           {
            "marker": {
             "colorbar": {
              "outlinewidth": 0,
              "ticks": ""
             }
            },
            "type": "scatter"
           }
          ],
          "scatter3d": [
           {
            "line": {
             "colorbar": {
              "outlinewidth": 0,
              "ticks": ""
             }
            },
            "marker": {
             "colorbar": {
              "outlinewidth": 0,
              "ticks": ""
             }
            },
            "type": "scatter3d"
           }
          ],
          "scattercarpet": [
           {
            "marker": {
             "colorbar": {
              "outlinewidth": 0,
              "ticks": ""
             }
            },
            "type": "scattercarpet"
           }
          ],
          "scattergeo": [
           {
            "marker": {
             "colorbar": {
              "outlinewidth": 0,
              "ticks": ""
             }
            },
            "type": "scattergeo"
           }
          ],
          "scattergl": [
           {
            "marker": {
             "colorbar": {
              "outlinewidth": 0,
              "ticks": ""
             }
            },
            "type": "scattergl"
           }
          ],
          "scattermapbox": [
           {
            "marker": {
             "colorbar": {
              "outlinewidth": 0,
              "ticks": ""
             }
            },
            "type": "scattermapbox"
           }
          ],
          "scatterpolar": [
           {
            "marker": {
             "colorbar": {
              "outlinewidth": 0,
              "ticks": ""
             }
            },
            "type": "scatterpolar"
           }
          ],
          "scatterpolargl": [
           {
            "marker": {
             "colorbar": {
              "outlinewidth": 0,
              "ticks": ""
             }
            },
            "type": "scatterpolargl"
           }
          ],
          "scatterternary": [
           {
            "marker": {
             "colorbar": {
              "outlinewidth": 0,
              "ticks": ""
             }
            },
            "type": "scatterternary"
           }
          ],
          "surface": [
           {
            "colorbar": {
             "outlinewidth": 0,
             "ticks": ""
            },
            "colorscale": [
             [
              0,
              "#0d0887"
             ],
             [
              0.1111111111111111,
              "#46039f"
             ],
             [
              0.2222222222222222,
              "#7201a8"
             ],
             [
              0.3333333333333333,
              "#9c179e"
             ],
             [
              0.4444444444444444,
              "#bd3786"
             ],
             [
              0.5555555555555556,
              "#d8576b"
             ],
             [
              0.6666666666666666,
              "#ed7953"
             ],
             [
              0.7777777777777778,
              "#fb9f3a"
             ],
             [
              0.8888888888888888,
              "#fdca26"
             ],
             [
              1,
              "#f0f921"
             ]
            ],
            "type": "surface"
           }
          ],
          "table": [
           {
            "cells": {
             "fill": {
              "color": "#EBF0F8"
             },
             "line": {
              "color": "white"
             }
            },
            "header": {
             "fill": {
              "color": "#C8D4E3"
             },
             "line": {
              "color": "white"
             }
            },
            "type": "table"
           }
          ]
         },
         "layout": {
          "annotationdefaults": {
           "arrowcolor": "#2a3f5f",
           "arrowhead": 0,
           "arrowwidth": 1
          },
          "autotypenumbers": "strict",
          "coloraxis": {
           "colorbar": {
            "outlinewidth": 0,
            "ticks": ""
           }
          },
          "colorscale": {
           "diverging": [
            [
             0,
             "#8e0152"
            ],
            [
             0.1,
             "#c51b7d"
            ],
            [
             0.2,
             "#de77ae"
            ],
            [
             0.3,
             "#f1b6da"
            ],
            [
             0.4,
             "#fde0ef"
            ],
            [
             0.5,
             "#f7f7f7"
            ],
            [
             0.6,
             "#e6f5d0"
            ],
            [
             0.7,
             "#b8e186"
            ],
            [
             0.8,
             "#7fbc41"
            ],
            [
             0.9,
             "#4d9221"
            ],
            [
             1,
             "#276419"
            ]
           ],
           "sequential": [
            [
             0,
             "#0d0887"
            ],
            [
             0.1111111111111111,
             "#46039f"
            ],
            [
             0.2222222222222222,
             "#7201a8"
            ],
            [
             0.3333333333333333,
             "#9c179e"
            ],
            [
             0.4444444444444444,
             "#bd3786"
            ],
            [
             0.5555555555555556,
             "#d8576b"
            ],
            [
             0.6666666666666666,
             "#ed7953"
            ],
            [
             0.7777777777777778,
             "#fb9f3a"
            ],
            [
             0.8888888888888888,
             "#fdca26"
            ],
            [
             1,
             "#f0f921"
            ]
           ],
           "sequentialminus": [
            [
             0,
             "#0d0887"
            ],
            [
             0.1111111111111111,
             "#46039f"
            ],
            [
             0.2222222222222222,
             "#7201a8"
            ],
            [
             0.3333333333333333,
             "#9c179e"
            ],
            [
             0.4444444444444444,
             "#bd3786"
            ],
            [
             0.5555555555555556,
             "#d8576b"
            ],
            [
             0.6666666666666666,
             "#ed7953"
            ],
            [
             0.7777777777777778,
             "#fb9f3a"
            ],
            [
             0.8888888888888888,
             "#fdca26"
            ],
            [
             1,
             "#f0f921"
            ]
           ]
          },
          "colorway": [
           "#636efa",
           "#EF553B",
           "#00cc96",
           "#ab63fa",
           "#FFA15A",
           "#19d3f3",
           "#FF6692",
           "#B6E880",
           "#FF97FF",
           "#FECB52"
          ],
          "font": {
           "color": "#2a3f5f"
          },
          "geo": {
           "bgcolor": "white",
           "lakecolor": "white",
           "landcolor": "#E5ECF6",
           "showlakes": true,
           "showland": true,
           "subunitcolor": "white"
          },
          "hoverlabel": {
           "align": "left"
          },
          "hovermode": "closest",
          "mapbox": {
           "style": "light"
          },
          "paper_bgcolor": "white",
          "plot_bgcolor": "#E5ECF6",
          "polar": {
           "angularaxis": {
            "gridcolor": "white",
            "linecolor": "white",
            "ticks": ""
           },
           "bgcolor": "#E5ECF6",
           "radialaxis": {
            "gridcolor": "white",
            "linecolor": "white",
            "ticks": ""
           }
          },
          "scene": {
           "xaxis": {
            "backgroundcolor": "#E5ECF6",
            "gridcolor": "white",
            "gridwidth": 2,
            "linecolor": "white",
            "showbackground": true,
            "ticks": "",
            "zerolinecolor": "white"
           },
           "yaxis": {
            "backgroundcolor": "#E5ECF6",
            "gridcolor": "white",
            "gridwidth": 2,
            "linecolor": "white",
            "showbackground": true,
            "ticks": "",
            "zerolinecolor": "white"
           },
           "zaxis": {
            "backgroundcolor": "#E5ECF6",
            "gridcolor": "white",
            "gridwidth": 2,
            "linecolor": "white",
            "showbackground": true,
            "ticks": "",
            "zerolinecolor": "white"
           }
          },
          "shapedefaults": {
           "line": {
            "color": "#2a3f5f"
           }
          },
          "ternary": {
           "aaxis": {
            "gridcolor": "white",
            "linecolor": "white",
            "ticks": ""
           },
           "baxis": {
            "gridcolor": "white",
            "linecolor": "white",
            "ticks": ""
           },
           "bgcolor": "#E5ECF6",
           "caxis": {
            "gridcolor": "white",
            "linecolor": "white",
            "ticks": ""
           }
          },
          "title": {
           "x": 0.05
          },
          "xaxis": {
           "automargin": true,
           "gridcolor": "white",
           "linecolor": "white",
           "ticks": "",
           "title": {
            "standoff": 15
           },
           "zerolinecolor": "white",
           "zerolinewidth": 2
          },
          "yaxis": {
           "automargin": true,
           "gridcolor": "white",
           "linecolor": "white",
           "ticks": "",
           "title": {
            "standoff": 15
           },
           "zerolinecolor": "white",
           "zerolinewidth": 2
          }
         }
        },
        "title": {
         "text": "Optimization History Plot"
        },
        "xaxis": {
         "title": {
          "text": "#Trials"
         }
        },
        "yaxis": {
         "title": {
          "text": "Objective Value"
         }
        }
       }
      },
      "text/html": [
       "<div>                            <div id=\"31c5bf55-9301-4c21-a062-6d796738cca0\" class=\"plotly-graph-div\" style=\"height:525px; width:100%;\"></div>            <script type=\"text/javascript\">                require([\"plotly\"], function(Plotly) {                    window.PLOTLYENV=window.PLOTLYENV || {};                                    if (document.getElementById(\"31c5bf55-9301-4c21-a062-6d796738cca0\")) {                    Plotly.newPlot(                        \"31c5bf55-9301-4c21-a062-6d796738cca0\",                        [{\"mode\":\"markers\",\"name\":\"Objective Value\",\"type\":\"scatter\",\"x\":[0,1,2,3,4,5,6,7,8,9,10,11,12,13,14,15,16,17,18,19,20,21,22,23,24,25,26,27,28,29,30,31,32,33,34,35,36,37,38,39],\"y\":[405.0589294433594,-0.0,-729.6260375976562,-0.0,115.61991882324219,-0.0,938.280517578125,434.29876708984375,442.4573059082031,-138.32723999023438,717.1280517578125,-0.0,74.91666412353516,387.2479553222656,-272.32318115234375,-556.8109741210938,505.5243835449219,1060.701171875,-443.07318115234375,101.08739471435547,51.794715881347656,117.15853881835938,-0.0,1253.3740234375,729.5426635742188,590.150390625,506.6991882324219,-113.82520294189453,-119.96544647216797,350.25811767578125,1208.1341552734375,397.6707458496094,75.99797058105469,439.5975646972656,395.8658447265625,520.5487670898438,1361.2601318359375,215.0792694091797,339.343505859375,166.26016235351562]},{\"name\":\"Best Value\",\"type\":\"scatter\",\"x\":[0,1,2,3,4,5,6,7,8,9,10,11,12,13,14,15,16,17,18,19,20,21,22,23,24,25,26,27,28,29,30,31,32,33,34,35,36,37,38,39],\"y\":[405.0589294433594,-0.0,-729.6260375976562,-729.6260375976562,-729.6260375976562,-729.6260375976562,-729.6260375976562,-729.6260375976562,-729.6260375976562,-729.6260375976562,-729.6260375976562,-729.6260375976562,-729.6260375976562,-729.6260375976562,-729.6260375976562,-729.6260375976562,-729.6260375976562,-729.6260375976562,-729.6260375976562,-729.6260375976562,-729.6260375976562,-729.6260375976562,-729.6260375976562,-729.6260375976562,-729.6260375976562,-729.6260375976562,-729.6260375976562,-729.6260375976562,-729.6260375976562,-729.6260375976562,-729.6260375976562,-729.6260375976562,-729.6260375976562,-729.6260375976562,-729.6260375976562,-729.6260375976562,-729.6260375976562,-729.6260375976562,-729.6260375976562,-729.6260375976562]}],                        {\"template\":{\"data\":{\"bar\":[{\"error_x\":{\"color\":\"#2a3f5f\"},\"error_y\":{\"color\":\"#2a3f5f\"},\"marker\":{\"line\":{\"color\":\"#E5ECF6\",\"width\":0.5},\"pattern\":{\"fillmode\":\"overlay\",\"size\":10,\"solidity\":0.2}},\"type\":\"bar\"}],\"barpolar\":[{\"marker\":{\"line\":{\"color\":\"#E5ECF6\",\"width\":0.5},\"pattern\":{\"fillmode\":\"overlay\",\"size\":10,\"solidity\":0.2}},\"type\":\"barpolar\"}],\"carpet\":[{\"aaxis\":{\"endlinecolor\":\"#2a3f5f\",\"gridcolor\":\"white\",\"linecolor\":\"white\",\"minorgridcolor\":\"white\",\"startlinecolor\":\"#2a3f5f\"},\"baxis\":{\"endlinecolor\":\"#2a3f5f\",\"gridcolor\":\"white\",\"linecolor\":\"white\",\"minorgridcolor\":\"white\",\"startlinecolor\":\"#2a3f5f\"},\"type\":\"carpet\"}],\"choropleth\":[{\"colorbar\":{\"outlinewidth\":0,\"ticks\":\"\"},\"type\":\"choropleth\"}],\"contour\":[{\"colorbar\":{\"outlinewidth\":0,\"ticks\":\"\"},\"colorscale\":[[0.0,\"#0d0887\"],[0.1111111111111111,\"#46039f\"],[0.2222222222222222,\"#7201a8\"],[0.3333333333333333,\"#9c179e\"],[0.4444444444444444,\"#bd3786\"],[0.5555555555555556,\"#d8576b\"],[0.6666666666666666,\"#ed7953\"],[0.7777777777777778,\"#fb9f3a\"],[0.8888888888888888,\"#fdca26\"],[1.0,\"#f0f921\"]],\"type\":\"contour\"}],\"contourcarpet\":[{\"colorbar\":{\"outlinewidth\":0,\"ticks\":\"\"},\"type\":\"contourcarpet\"}],\"heatmap\":[{\"colorbar\":{\"outlinewidth\":0,\"ticks\":\"\"},\"colorscale\":[[0.0,\"#0d0887\"],[0.1111111111111111,\"#46039f\"],[0.2222222222222222,\"#7201a8\"],[0.3333333333333333,\"#9c179e\"],[0.4444444444444444,\"#bd3786\"],[0.5555555555555556,\"#d8576b\"],[0.6666666666666666,\"#ed7953\"],[0.7777777777777778,\"#fb9f3a\"],[0.8888888888888888,\"#fdca26\"],[1.0,\"#f0f921\"]],\"type\":\"heatmap\"}],\"heatmapgl\":[{\"colorbar\":{\"outlinewidth\":0,\"ticks\":\"\"},\"colorscale\":[[0.0,\"#0d0887\"],[0.1111111111111111,\"#46039f\"],[0.2222222222222222,\"#7201a8\"],[0.3333333333333333,\"#9c179e\"],[0.4444444444444444,\"#bd3786\"],[0.5555555555555556,\"#d8576b\"],[0.6666666666666666,\"#ed7953\"],[0.7777777777777778,\"#fb9f3a\"],[0.8888888888888888,\"#fdca26\"],[1.0,\"#f0f921\"]],\"type\":\"heatmapgl\"}],\"histogram\":[{\"marker\":{\"pattern\":{\"fillmode\":\"overlay\",\"size\":10,\"solidity\":0.2}},\"type\":\"histogram\"}],\"histogram2d\":[{\"colorbar\":{\"outlinewidth\":0,\"ticks\":\"\"},\"colorscale\":[[0.0,\"#0d0887\"],[0.1111111111111111,\"#46039f\"],[0.2222222222222222,\"#7201a8\"],[0.3333333333333333,\"#9c179e\"],[0.4444444444444444,\"#bd3786\"],[0.5555555555555556,\"#d8576b\"],[0.6666666666666666,\"#ed7953\"],[0.7777777777777778,\"#fb9f3a\"],[0.8888888888888888,\"#fdca26\"],[1.0,\"#f0f921\"]],\"type\":\"histogram2d\"}],\"histogram2dcontour\":[{\"colorbar\":{\"outlinewidth\":0,\"ticks\":\"\"},\"colorscale\":[[0.0,\"#0d0887\"],[0.1111111111111111,\"#46039f\"],[0.2222222222222222,\"#7201a8\"],[0.3333333333333333,\"#9c179e\"],[0.4444444444444444,\"#bd3786\"],[0.5555555555555556,\"#d8576b\"],[0.6666666666666666,\"#ed7953\"],[0.7777777777777778,\"#fb9f3a\"],[0.8888888888888888,\"#fdca26\"],[1.0,\"#f0f921\"]],\"type\":\"histogram2dcontour\"}],\"mesh3d\":[{\"colorbar\":{\"outlinewidth\":0,\"ticks\":\"\"},\"type\":\"mesh3d\"}],\"parcoords\":[{\"line\":{\"colorbar\":{\"outlinewidth\":0,\"ticks\":\"\"}},\"type\":\"parcoords\"}],\"pie\":[{\"automargin\":true,\"type\":\"pie\"}],\"scatter\":[{\"marker\":{\"colorbar\":{\"outlinewidth\":0,\"ticks\":\"\"}},\"type\":\"scatter\"}],\"scatter3d\":[{\"line\":{\"colorbar\":{\"outlinewidth\":0,\"ticks\":\"\"}},\"marker\":{\"colorbar\":{\"outlinewidth\":0,\"ticks\":\"\"}},\"type\":\"scatter3d\"}],\"scattercarpet\":[{\"marker\":{\"colorbar\":{\"outlinewidth\":0,\"ticks\":\"\"}},\"type\":\"scattercarpet\"}],\"scattergeo\":[{\"marker\":{\"colorbar\":{\"outlinewidth\":0,\"ticks\":\"\"}},\"type\":\"scattergeo\"}],\"scattergl\":[{\"marker\":{\"colorbar\":{\"outlinewidth\":0,\"ticks\":\"\"}},\"type\":\"scattergl\"}],\"scattermapbox\":[{\"marker\":{\"colorbar\":{\"outlinewidth\":0,\"ticks\":\"\"}},\"type\":\"scattermapbox\"}],\"scatterpolar\":[{\"marker\":{\"colorbar\":{\"outlinewidth\":0,\"ticks\":\"\"}},\"type\":\"scatterpolar\"}],\"scatterpolargl\":[{\"marker\":{\"colorbar\":{\"outlinewidth\":0,\"ticks\":\"\"}},\"type\":\"scatterpolargl\"}],\"scatterternary\":[{\"marker\":{\"colorbar\":{\"outlinewidth\":0,\"ticks\":\"\"}},\"type\":\"scatterternary\"}],\"surface\":[{\"colorbar\":{\"outlinewidth\":0,\"ticks\":\"\"},\"colorscale\":[[0.0,\"#0d0887\"],[0.1111111111111111,\"#46039f\"],[0.2222222222222222,\"#7201a8\"],[0.3333333333333333,\"#9c179e\"],[0.4444444444444444,\"#bd3786\"],[0.5555555555555556,\"#d8576b\"],[0.6666666666666666,\"#ed7953\"],[0.7777777777777778,\"#fb9f3a\"],[0.8888888888888888,\"#fdca26\"],[1.0,\"#f0f921\"]],\"type\":\"surface\"}],\"table\":[{\"cells\":{\"fill\":{\"color\":\"#EBF0F8\"},\"line\":{\"color\":\"white\"}},\"header\":{\"fill\":{\"color\":\"#C8D4E3\"},\"line\":{\"color\":\"white\"}},\"type\":\"table\"}]},\"layout\":{\"annotationdefaults\":{\"arrowcolor\":\"#2a3f5f\",\"arrowhead\":0,\"arrowwidth\":1},\"autotypenumbers\":\"strict\",\"coloraxis\":{\"colorbar\":{\"outlinewidth\":0,\"ticks\":\"\"}},\"colorscale\":{\"diverging\":[[0,\"#8e0152\"],[0.1,\"#c51b7d\"],[0.2,\"#de77ae\"],[0.3,\"#f1b6da\"],[0.4,\"#fde0ef\"],[0.5,\"#f7f7f7\"],[0.6,\"#e6f5d0\"],[0.7,\"#b8e186\"],[0.8,\"#7fbc41\"],[0.9,\"#4d9221\"],[1,\"#276419\"]],\"sequential\":[[0.0,\"#0d0887\"],[0.1111111111111111,\"#46039f\"],[0.2222222222222222,\"#7201a8\"],[0.3333333333333333,\"#9c179e\"],[0.4444444444444444,\"#bd3786\"],[0.5555555555555556,\"#d8576b\"],[0.6666666666666666,\"#ed7953\"],[0.7777777777777778,\"#fb9f3a\"],[0.8888888888888888,\"#fdca26\"],[1.0,\"#f0f921\"]],\"sequentialminus\":[[0.0,\"#0d0887\"],[0.1111111111111111,\"#46039f\"],[0.2222222222222222,\"#7201a8\"],[0.3333333333333333,\"#9c179e\"],[0.4444444444444444,\"#bd3786\"],[0.5555555555555556,\"#d8576b\"],[0.6666666666666666,\"#ed7953\"],[0.7777777777777778,\"#fb9f3a\"],[0.8888888888888888,\"#fdca26\"],[1.0,\"#f0f921\"]]},\"colorway\":[\"#636efa\",\"#EF553B\",\"#00cc96\",\"#ab63fa\",\"#FFA15A\",\"#19d3f3\",\"#FF6692\",\"#B6E880\",\"#FF97FF\",\"#FECB52\"],\"font\":{\"color\":\"#2a3f5f\"},\"geo\":{\"bgcolor\":\"white\",\"lakecolor\":\"white\",\"landcolor\":\"#E5ECF6\",\"showlakes\":true,\"showland\":true,\"subunitcolor\":\"white\"},\"hoverlabel\":{\"align\":\"left\"},\"hovermode\":\"closest\",\"mapbox\":{\"style\":\"light\"},\"paper_bgcolor\":\"white\",\"plot_bgcolor\":\"#E5ECF6\",\"polar\":{\"angularaxis\":{\"gridcolor\":\"white\",\"linecolor\":\"white\",\"ticks\":\"\"},\"bgcolor\":\"#E5ECF6\",\"radialaxis\":{\"gridcolor\":\"white\",\"linecolor\":\"white\",\"ticks\":\"\"}},\"scene\":{\"xaxis\":{\"backgroundcolor\":\"#E5ECF6\",\"gridcolor\":\"white\",\"gridwidth\":2,\"linecolor\":\"white\",\"showbackground\":true,\"ticks\":\"\",\"zerolinecolor\":\"white\"},\"yaxis\":{\"backgroundcolor\":\"#E5ECF6\",\"gridcolor\":\"white\",\"gridwidth\":2,\"linecolor\":\"white\",\"showbackground\":true,\"ticks\":\"\",\"zerolinecolor\":\"white\"},\"zaxis\":{\"backgroundcolor\":\"#E5ECF6\",\"gridcolor\":\"white\",\"gridwidth\":2,\"linecolor\":\"white\",\"showbackground\":true,\"ticks\":\"\",\"zerolinecolor\":\"white\"}},\"shapedefaults\":{\"line\":{\"color\":\"#2a3f5f\"}},\"ternary\":{\"aaxis\":{\"gridcolor\":\"white\",\"linecolor\":\"white\",\"ticks\":\"\"},\"baxis\":{\"gridcolor\":\"white\",\"linecolor\":\"white\",\"ticks\":\"\"},\"bgcolor\":\"#E5ECF6\",\"caxis\":{\"gridcolor\":\"white\",\"linecolor\":\"white\",\"ticks\":\"\"}},\"title\":{\"x\":0.05},\"xaxis\":{\"automargin\":true,\"gridcolor\":\"white\",\"linecolor\":\"white\",\"ticks\":\"\",\"title\":{\"standoff\":15},\"zerolinecolor\":\"white\",\"zerolinewidth\":2},\"yaxis\":{\"automargin\":true,\"gridcolor\":\"white\",\"linecolor\":\"white\",\"ticks\":\"\",\"title\":{\"standoff\":15},\"zerolinecolor\":\"white\",\"zerolinewidth\":2}}},\"title\":{\"text\":\"Optimization History Plot\"},\"xaxis\":{\"title\":{\"text\":\"#Trials\"}},\"yaxis\":{\"title\":{\"text\":\"Objective Value\"}}},                        {\"responsive\": true}                    ).then(function(){\n",
       "                            \n",
       "var gd = document.getElementById('31c5bf55-9301-4c21-a062-6d796738cca0');\n",
       "var x = new MutationObserver(function (mutations, observer) {{\n",
       "        var display = window.getComputedStyle(gd).display;\n",
       "        if (!display || display === 'none') {{\n",
       "            console.log([gd, 'removed!']);\n",
       "            Plotly.purge(gd);\n",
       "            observer.disconnect();\n",
       "        }}\n",
       "}});\n",
       "\n",
       "// Listen for the removal of the full notebook cells\n",
       "var notebookContainer = gd.closest('#notebook-container');\n",
       "if (notebookContainer) {{\n",
       "    x.observe(notebookContainer, {childList: true});\n",
       "}}\n",
       "\n",
       "// Listen for the clearing of the current output cell\n",
       "var outputEl = gd.closest('.output');\n",
       "if (outputEl) {{\n",
       "    x.observe(outputEl, {childList: true});\n",
       "}}\n",
       "\n",
       "                        })                };                });            </script>        </div>"
      ]
     },
     "metadata": {},
     "output_type": "display_data"
    }
   ],
   "source": [
    "optuna.visualization.plot_optimization_history(study_ppo2_lstm_test)"
   ]
  },
  {
   "cell_type": "code",
   "execution_count": 15,
   "id": "b03f88e9",
   "metadata": {},
   "outputs": [
    {
     "data": {
      "application/vnd.plotly.v1+json": {
       "config": {
        "plotlyServerURL": "https://plot.ly"
       },
       "data": [
        {
         "marker": {
          "color": [
           0,
           1,
           2,
           3,
           4,
           5,
           6,
           7,
           8,
           9,
           10,
           11,
           12,
           13,
           14,
           15,
           16,
           17,
           18,
           19,
           20,
           21,
           22,
           23,
           24,
           25,
           26,
           27,
           28,
           29,
           30,
           31,
           32,
           33,
           34,
           35,
           36,
           37,
           38,
           39
          ],
          "colorbar": {
           "title": {
            "text": "#Trials"
           },
           "x": 1,
           "xpad": 40
          },
          "colorscale": [
           [
            0,
            "rgb(247,251,255)"
           ],
           [
            0.125,
            "rgb(222,235,247)"
           ],
           [
            0.25,
            "rgb(198,219,239)"
           ],
           [
            0.375,
            "rgb(158,202,225)"
           ],
           [
            0.5,
            "rgb(107,174,214)"
           ],
           [
            0.625,
            "rgb(66,146,198)"
           ],
           [
            0.75,
            "rgb(33,113,181)"
           ],
           [
            0.875,
            "rgb(8,81,156)"
           ],
           [
            1,
            "rgb(8,48,107)"
           ]
          ],
          "line": {
           "color": "Grey",
           "width": 0.5
          },
          "showscale": true
         },
         "mode": "markers",
         "showlegend": false,
         "type": "scatter",
         "x": [
          0.32914998484582236,
          0.2129550451480523,
          0.17030840956549298,
          0.15926094325548973,
          0.301072776559151,
          0.26789688959540314,
          0.12321527382376449,
          0.24255655788230054,
          0.16982764155580127,
          0.1745481028231517,
          0.22769751563811724,
          0.2939758745195225,
          0.276575663172716,
          0.3918176725563881,
          0.38119964499294046,
          0.38843730540705323,
          0.3996117005039941,
          0.3921202492199116,
          0.38580729581802686,
          0.3407245424786485,
          0.35255495090512645,
          0.11580604341409195,
          0.19779666865277754,
          0.11833230961981425,
          0.36424336124021783,
          0.355728714161879,
          0.31380898791993717,
          0.31817400658045186,
          0.31696640601924264,
          0.3744035052509533,
          0.3788966019770213,
          0.37257086837783693,
          0.1449719448807798,
          0.14765578570607377,
          0.335729665016842,
          0.33964803760430423,
          0.33626002849638326,
          0.33938599117466905,
          0.3418199409641906,
          0.21349383561812818
         ],
         "xaxis": "x",
         "y": [
          405.0589294433594,
          0,
          -729.6260375976562,
          0,
          115.61991882324219,
          0,
          938.280517578125,
          434.29876708984375,
          442.4573059082031,
          -138.32723999023438,
          717.1280517578125,
          0,
          74.91666412353516,
          387.2479553222656,
          -272.32318115234375,
          -556.8109741210938,
          505.5243835449219,
          1060.701171875,
          -443.07318115234375,
          101.08739471435547,
          51.794715881347656,
          117.15853881835938,
          0,
          1253.3740234375,
          729.5426635742188,
          590.150390625,
          506.6991882324219,
          -113.82520294189453,
          -119.96544647216797,
          350.25811767578125,
          1208.1341552734375,
          397.6707458496094,
          75.99797058105469,
          439.5975646972656,
          395.8658447265625,
          520.5487670898438,
          1361.2601318359375,
          215.0792694091797,
          339.343505859375,
          166.26016235351562
         ],
         "yaxis": "y"
        },
        {
         "marker": {
          "color": [
           0,
           1,
           2,
           3,
           4,
           5,
           6,
           7,
           8,
           9,
           10,
           11,
           12,
           13,
           14,
           15,
           16,
           17,
           18,
           19,
           20,
           21,
           22,
           23,
           24,
           25,
           26,
           27,
           28,
           29,
           30,
           31,
           32,
           33,
           34,
           35,
           36,
           37,
           38,
           39
          ],
          "colorbar": {
           "title": {
            "text": "#Trials"
           },
           "x": 1,
           "xpad": 40
          },
          "colorscale": [
           [
            0,
            "rgb(247,251,255)"
           ],
           [
            0.125,
            "rgb(222,235,247)"
           ],
           [
            0.25,
            "rgb(198,219,239)"
           ],
           [
            0.375,
            "rgb(158,202,225)"
           ],
           [
            0.5,
            "rgb(107,174,214)"
           ],
           [
            0.625,
            "rgb(66,146,198)"
           ],
           [
            0.75,
            "rgb(33,113,181)"
           ],
           [
            0.875,
            "rgb(8,81,156)"
           ],
           [
            1,
            "rgb(8,48,107)"
           ]
          ],
          "line": {
           "color": "Grey",
           "width": 0.5
          },
          "showscale": false
         },
         "mode": "markers",
         "showlegend": false,
         "type": "scatter",
         "x": [
          4.186101661411603e-06,
          5.9211562517822755e-06,
          0.00034110977107535095,
          5.254451708412536e-06,
          5.8457958613226504e-05,
          0.0037021653548776133,
          0.0004193034197101879,
          2.8501771979464214e-07,
          0.0013899370210774284,
          4.663466434811137e-06,
          0.0012045646238793626,
          0.02570352598396919,
          0.048924435065543725,
          2.987657509817025e-08,
          4.568349729686588e-08,
          2.2811780525201236e-08,
          1.842960980010475e-08,
          1.9509960287324003e-08,
          2.474951867632257e-07,
          0.00013148613129283668,
          0.00014699106322383124,
          4.2307163644191275e-07,
          4.858194314376711e-07,
          2.2691048443243334e-05,
          1.0353206192437349e-07,
          8.430948368196741e-08,
          7.510219124187154e-08,
          1.6115759744462418e-06,
          9.138335288563803e-07,
          6.963427775921252e-08,
          2.615705305405036e-05,
          1.0434964264652767e-08,
          1.4236803360978051e-05,
          1.1043082458135042e-08,
          1.3244551586023607e-08,
          1.914209238316487e-07,
          1.3112962228428735e-07,
          2.3237692833562944e-06,
          2.688573126484147e-07,
          1.922326969987975e-06
         ],
         "xaxis": "x2",
         "y": [
          405.0589294433594,
          0,
          -729.6260375976562,
          0,
          115.61991882324219,
          0,
          938.280517578125,
          434.29876708984375,
          442.4573059082031,
          -138.32723999023438,
          717.1280517578125,
          0,
          74.91666412353516,
          387.2479553222656,
          -272.32318115234375,
          -556.8109741210938,
          505.5243835449219,
          1060.701171875,
          -443.07318115234375,
          101.08739471435547,
          51.794715881347656,
          117.15853881835938,
          0,
          1253.3740234375,
          729.5426635742188,
          590.150390625,
          506.6991882324219,
          -113.82520294189453,
          -119.96544647216797,
          350.25811767578125,
          1208.1341552734375,
          397.6707458496094,
          75.99797058105469,
          439.5975646972656,
          395.8658447265625,
          520.5487670898438,
          1361.2601318359375,
          215.0792694091797,
          339.343505859375,
          166.26016235351562
         ],
         "yaxis": "y2"
        },
        {
         "marker": {
          "color": [
           0,
           1,
           2,
           3,
           4,
           5,
           6,
           7,
           8,
           9,
           10,
           11,
           12,
           13,
           14,
           15,
           16,
           17,
           18,
           19,
           20,
           21,
           22,
           23,
           24,
           25,
           26,
           27,
           28,
           29,
           30,
           31,
           32,
           33,
           34,
           35,
           36,
           37,
           38,
           39
          ],
          "colorbar": {
           "title": {
            "text": "#Trials"
           },
           "x": 1,
           "xpad": 40
          },
          "colorscale": [
           [
            0,
            "rgb(247,251,255)"
           ],
           [
            0.125,
            "rgb(222,235,247)"
           ],
           [
            0.25,
            "rgb(198,219,239)"
           ],
           [
            0.375,
            "rgb(158,202,225)"
           ],
           [
            0.5,
            "rgb(107,174,214)"
           ],
           [
            0.625,
            "rgb(66,146,198)"
           ],
           [
            0.75,
            "rgb(33,113,181)"
           ],
           [
            0.875,
            "rgb(8,81,156)"
           ],
           [
            1,
            "rgb(8,48,107)"
           ]
          ],
          "line": {
           "color": "Grey",
           "width": 0.5
          },
          "showscale": false
         },
         "mode": "markers",
         "showlegend": false,
         "type": "scatter",
         "x": [
          0.9386672664844192,
          0.977723564331734,
          0.9617908455983807,
          0.9512199733158527,
          0.9434190444588576,
          0.9680614685683979,
          0.9471720340676079,
          0.9208472772963058,
          0.9537617544764943,
          0.9252235826014411,
          0.9576247936523294,
          0.9686384673169064,
          0.9954308788778747,
          0.9965232367022392,
          0.999495049814938,
          0.9004404509853677,
          0.9125711772905356,
          0.9009752971156186,
          0.9064558426478155,
          0.9046573043967251,
          0.9295015858111977,
          0.9310498074574135,
          0.929770555171214,
          0.9864000687700071,
          0.9123670802691259,
          0.9137202361315576,
          0.9123540314167308,
          0.9038965856197915,
          0.9071335577903741,
          0.9619285009525881,
          0.9607531867777725,
          0.962309019887503,
          0.9366760026483841,
          0.9374965061810844,
          0.9368861564017492,
          0.9381364352014855,
          0.9886783133635035,
          0.9759588155204199,
          0.9801479378854988,
          0.9839558134766506
         ],
         "xaxis": "x3",
         "y": [
          405.0589294433594,
          0,
          -729.6260375976562,
          0,
          115.61991882324219,
          0,
          938.280517578125,
          434.29876708984375,
          442.4573059082031,
          -138.32723999023438,
          717.1280517578125,
          0,
          74.91666412353516,
          387.2479553222656,
          -272.32318115234375,
          -556.8109741210938,
          505.5243835449219,
          1060.701171875,
          -443.07318115234375,
          101.08739471435547,
          51.794715881347656,
          117.15853881835938,
          0,
          1253.3740234375,
          729.5426635742188,
          590.150390625,
          506.6991882324219,
          -113.82520294189453,
          -119.96544647216797,
          350.25811767578125,
          1208.1341552734375,
          397.6707458496094,
          75.99797058105469,
          439.5975646972656,
          395.8658447265625,
          520.5487670898438,
          1361.2601318359375,
          215.0792694091797,
          339.343505859375,
          166.26016235351562
         ],
         "yaxis": "y3"
        },
        {
         "marker": {
          "color": [
           0,
           1,
           2,
           3,
           4,
           5,
           6,
           7,
           8,
           9,
           10,
           11,
           12,
           13,
           14,
           15,
           16,
           17,
           18,
           19,
           20,
           21,
           22,
           23,
           24,
           25,
           26,
           27,
           28,
           29,
           30,
           31,
           32,
           33,
           34,
           35,
           36,
           37,
           38,
           39
          ],
          "colorbar": {
           "title": {
            "text": "#Trials"
           },
           "x": 1,
           "xpad": 40
          },
          "colorscale": [
           [
            0,
            "rgb(247,251,255)"
           ],
           [
            0.125,
            "rgb(222,235,247)"
           ],
           [
            0.25,
            "rgb(198,219,239)"
           ],
           [
            0.375,
            "rgb(158,202,225)"
           ],
           [
            0.5,
            "rgb(107,174,214)"
           ],
           [
            0.625,
            "rgb(66,146,198)"
           ],
           [
            0.75,
            "rgb(33,113,181)"
           ],
           [
            0.875,
            "rgb(8,81,156)"
           ],
           [
            1,
            "rgb(8,48,107)"
           ]
          ],
          "line": {
           "color": "Grey",
           "width": 0.5
          },
          "showscale": false
         },
         "mode": "markers",
         "showlegend": false,
         "type": "scatter",
         "x": [
          0.8818391974560318,
          0.9039011648262867,
          0.8440857892672741,
          0.9720644304495372,
          0.9607619290115612,
          0.920384818228587,
          0.936686883082058,
          0.9153298867465013,
          0.8989963076753505,
          0.8697201608945553,
          0.9960366770823491,
          0.9939121133488141,
          0.930498707963674,
          0.8011778306151918,
          0.8267934205434476,
          0.8220609178605142,
          0.8177004870684177,
          0.8026567455408412,
          0.8015311156202454,
          0.8449461378973819,
          0.8418771464054525,
          0.8413491513279154,
          0.8416743563163958,
          0.841527058786344,
          0.8227256237447651,
          0.8221678072450758,
          0.8594307320875074,
          0.8722547874183941,
          0.8767361655992348,
          0.8659057789921609,
          0.816019328220813,
          0.8150211960499083,
          0.8105831101149887,
          0.8591412809843191,
          0.8247212269904043,
          0.8307994780518364,
          0.8293046893770523,
          0.8294343223531799,
          0.8319667067208962,
          0.8867939707105035
         ],
         "xaxis": "x4",
         "y": [
          405.0589294433594,
          0,
          -729.6260375976562,
          0,
          115.61991882324219,
          0,
          938.280517578125,
          434.29876708984375,
          442.4573059082031,
          -138.32723999023438,
          717.1280517578125,
          0,
          74.91666412353516,
          387.2479553222656,
          -272.32318115234375,
          -556.8109741210938,
          505.5243835449219,
          1060.701171875,
          -443.07318115234375,
          101.08739471435547,
          51.794715881347656,
          117.15853881835938,
          0,
          1253.3740234375,
          729.5426635742188,
          590.150390625,
          506.6991882324219,
          -113.82520294189453,
          -119.96544647216797,
          350.25811767578125,
          1208.1341552734375,
          397.6707458496094,
          75.99797058105469,
          439.5975646972656,
          395.8658447265625,
          520.5487670898438,
          1361.2601318359375,
          215.0792694091797,
          339.343505859375,
          166.26016235351562
         ],
         "yaxis": "y4"
        },
        {
         "marker": {
          "color": [
           0,
           1,
           2,
           3,
           4,
           5,
           6,
           7,
           8,
           9,
           10,
           11,
           12,
           13,
           14,
           15,
           16,
           17,
           18,
           19,
           20,
           21,
           22,
           23,
           24,
           25,
           26,
           27,
           28,
           29,
           30,
           31,
           32,
           33,
           34,
           35,
           36,
           37,
           38,
           39
          ],
          "colorbar": {
           "title": {
            "text": "#Trials"
           },
           "x": 1,
           "xpad": 40
          },
          "colorscale": [
           [
            0,
            "rgb(247,251,255)"
           ],
           [
            0.125,
            "rgb(222,235,247)"
           ],
           [
            0.25,
            "rgb(198,219,239)"
           ],
           [
            0.375,
            "rgb(158,202,225)"
           ],
           [
            0.5,
            "rgb(107,174,214)"
           ],
           [
            0.625,
            "rgb(66,146,198)"
           ],
           [
            0.75,
            "rgb(33,113,181)"
           ],
           [
            0.875,
            "rgb(8,81,156)"
           ],
           [
            1,
            "rgb(8,48,107)"
           ]
          ],
          "line": {
           "color": "Grey",
           "width": 0.5
          },
          "showscale": false
         },
         "mode": "markers",
         "showlegend": false,
         "type": "scatter",
         "x": [
          0.0016843702967638129,
          0.5870666566018553,
          8.982793251604273e-05,
          0.14414757055354727,
          0.036180933349152976,
          0.8803595944695959,
          0.005482572373967193,
          3.1020059478591754e-05,
          4.37077919694396e-05,
          0.0018606371721046336,
          4.962082835902856e-05,
          0.04845257997349743,
          6.793074996501984e-05,
          0.00026327688437865457,
          0.00037495899824977933,
          0.00045177118947657165,
          0.0002531236954554731,
          0.0003226264850029056,
          0.00036234790473672586,
          1.1501175094661345e-05,
          1.4857079598709324e-05,
          0.009372930107469294,
          0.0065341419066429355,
          0.0008415479102642459,
          0.0008414079322725764,
          0.0006888620552109986,
          0.00015913930315439605,
          0.00011303481839795947,
          0.00012835898781936962,
          0.00018532414446814188,
          0.0004621290903965816,
          0.0005091477871859841,
          0.0028520124811604567,
          0.0016641420341040117,
          0.0021569771482047944,
          0.002016721124176107,
          0.0015366148762728992,
          8.499838668830319e-05,
          8.414308106618761e-05,
          2.249931336796118e-05
         ],
         "xaxis": "x5",
         "y": [
          405.0589294433594,
          0,
          -729.6260375976562,
          0,
          115.61991882324219,
          0,
          938.280517578125,
          434.29876708984375,
          442.4573059082031,
          -138.32723999023438,
          717.1280517578125,
          0,
          74.91666412353516,
          387.2479553222656,
          -272.32318115234375,
          -556.8109741210938,
          505.5243835449219,
          1060.701171875,
          -443.07318115234375,
          101.08739471435547,
          51.794715881347656,
          117.15853881835938,
          0,
          1253.3740234375,
          729.5426635742188,
          590.150390625,
          506.6991882324219,
          -113.82520294189453,
          -119.96544647216797,
          350.25811767578125,
          1208.1341552734375,
          397.6707458496094,
          75.99797058105469,
          439.5975646972656,
          395.8658447265625,
          520.5487670898438,
          1361.2601318359375,
          215.0792694091797,
          339.343505859375,
          166.26016235351562
         ],
         "yaxis": "y5"
        },
        {
         "marker": {
          "color": [
           0,
           1,
           2,
           3,
           4,
           5,
           6,
           7,
           8,
           9,
           10,
           11,
           12,
           13,
           14,
           15,
           16,
           17,
           18,
           19,
           20,
           21,
           22,
           23,
           24,
           25,
           26,
           27,
           28,
           29,
           30,
           31,
           32,
           33,
           34,
           35,
           36,
           37,
           38,
           39
          ],
          "colorbar": {
           "title": {
            "text": "#Trials"
           },
           "x": 1,
           "xpad": 40
          },
          "colorscale": [
           [
            0,
            "rgb(247,251,255)"
           ],
           [
            0.125,
            "rgb(222,235,247)"
           ],
           [
            0.25,
            "rgb(198,219,239)"
           ],
           [
            0.375,
            "rgb(158,202,225)"
           ],
           [
            0.5,
            "rgb(107,174,214)"
           ],
           [
            0.625,
            "rgb(66,146,198)"
           ],
           [
            0.75,
            "rgb(33,113,181)"
           ],
           [
            0.875,
            "rgb(8,81,156)"
           ],
           [
            1,
            "rgb(8,48,107)"
           ]
          ],
          "line": {
           "color": "Grey",
           "width": 0.5
          },
          "showscale": false
         },
         "mode": "markers",
         "showlegend": false,
         "type": "scatter",
         "x": [
          696.787511203677,
          245.00627523248428,
          1281.6623202521903,
          377.0133262328042,
          44.78042958605413,
          121.95061320203021,
          1455.1443362894665,
          61.30710942526176,
          436.9620844294404,
          80.13170277412357,
          1421.0266609211544,
          56.11638679069669,
          810.3037802420757,
          1822.2470834853227,
          1588.8470901203568,
          125.26841126703869,
          23.053157563179607,
          156.01330134640685,
          160.83571544006475,
          163.8412765431713,
          19.52291080949107,
          28.314088227303714,
          17.29516802265833,
          272.58723520424655,
          260.42728551329105,
          269.2945983901756,
          107.5410281149326,
          106.70998249444484,
          106.55189502616373,
          693.81672913633,
          622.1927989726516,
          634.0427244353865,
          749.0784236422171,
          904.0772347779075,
          1022.072405697944,
          1094.1276040497655,
          1994.5078368491945,
          1086.7257824862559,
          452.09509086269856,
          396.457299959395
         ],
         "xaxis": "x6",
         "y": [
          405.0589294433594,
          0,
          -729.6260375976562,
          0,
          115.61991882324219,
          0,
          938.280517578125,
          434.29876708984375,
          442.4573059082031,
          -138.32723999023438,
          717.1280517578125,
          0,
          74.91666412353516,
          387.2479553222656,
          -272.32318115234375,
          -556.8109741210938,
          505.5243835449219,
          1060.701171875,
          -443.07318115234375,
          101.08739471435547,
          51.794715881347656,
          117.15853881835938,
          0,
          1253.3740234375,
          729.5426635742188,
          590.150390625,
          506.6991882324219,
          -113.82520294189453,
          -119.96544647216797,
          350.25811767578125,
          1208.1341552734375,
          397.6707458496094,
          75.99797058105469,
          439.5975646972656,
          395.8658447265625,
          520.5487670898438,
          1361.2601318359375,
          215.0792694091797,
          339.343505859375,
          166.26016235351562
         ],
         "yaxis": "y6"
        },
        {
         "marker": {
          "color": [
           0,
           1,
           2,
           3,
           4,
           5,
           6,
           7,
           8,
           9,
           10,
           11,
           12,
           13,
           14,
           15,
           16,
           17,
           18,
           19,
           20,
           21,
           22,
           23,
           24,
           25,
           26,
           27,
           28,
           29,
           30,
           31,
           32,
           33,
           34,
           35,
           36,
           37,
           38,
           39
          ],
          "colorbar": {
           "title": {
            "text": "#Trials"
           },
           "x": 1,
           "xpad": 40
          },
          "colorscale": [
           [
            0,
            "rgb(247,251,255)"
           ],
           [
            0.125,
            "rgb(222,235,247)"
           ],
           [
            0.25,
            "rgb(198,219,239)"
           ],
           [
            0.375,
            "rgb(158,202,225)"
           ],
           [
            0.5,
            "rgb(107,174,214)"
           ],
           [
            0.625,
            "rgb(66,146,198)"
           ],
           [
            0.75,
            "rgb(33,113,181)"
           ],
           [
            0.875,
            "rgb(8,81,156)"
           ],
           [
            1,
            "rgb(8,48,107)"
           ]
          ],
          "line": {
           "color": "Grey",
           "width": 0.5
          },
          "showscale": false
         },
         "mode": "markers",
         "showlegend": false,
         "type": "scatter",
         "x": [
          1.899275017312557,
          45.9591868218829,
          1.3835522178858635,
          17.336860492309423,
          22.93276416439066,
          2.4267407373912846,
          2.6946008920649747,
          15.764683408308953,
          1.2655634831464493,
          12.331947416222173,
          23.217103926950216,
          1.469794896976712,
          14.639444050287679,
          4.2385009170491,
          6.531715689368813,
          6.538268896286643,
          4.82072454144091,
          6.367642856654198,
          5.1653183765351685,
          8.142880290348787,
          7.508371797094337,
          8.057859853836488,
          3.2323593199664993,
          8.205749674561872,
          1.1320966982701481,
          1.028689420891211,
          4.289278702684994,
          4.118489766452682,
          4.330179123179395,
          1.9784040474447402,
          2.043501894170966,
          1.879255938955118,
          1.751512705675728,
          1.6645963152551844,
          10.572424024047345,
          10.318158196209808,
          10.963122879688354,
          5.795515196806139,
          36.83668588895908,
          5.796068948302775
         ],
         "xaxis": "x7",
         "y": [
          405.0589294433594,
          0,
          -729.6260375976562,
          0,
          115.61991882324219,
          0,
          938.280517578125,
          434.29876708984375,
          442.4573059082031,
          -138.32723999023438,
          717.1280517578125,
          0,
          74.91666412353516,
          387.2479553222656,
          -272.32318115234375,
          -556.8109741210938,
          505.5243835449219,
          1060.701171875,
          -443.07318115234375,
          101.08739471435547,
          51.794715881347656,
          117.15853881835938,
          0,
          1253.3740234375,
          729.5426635742188,
          590.150390625,
          506.6991882324219,
          -113.82520294189453,
          -119.96544647216797,
          350.25811767578125,
          1208.1341552734375,
          397.6707458496094,
          75.99797058105469,
          439.5975646972656,
          395.8658447265625,
          520.5487670898438,
          1361.2601318359375,
          215.0792694091797,
          339.343505859375,
          166.26016235351562
         ],
         "yaxis": "y7"
        }
       ],
       "layout": {
        "template": {
         "data": {
          "bar": [
           {
            "error_x": {
             "color": "#2a3f5f"
            },
            "error_y": {
             "color": "#2a3f5f"
            },
            "marker": {
             "line": {
              "color": "#E5ECF6",
              "width": 0.5
             },
             "pattern": {
              "fillmode": "overlay",
              "size": 10,
              "solidity": 0.2
             }
            },
            "type": "bar"
           }
          ],
          "barpolar": [
           {
            "marker": {
             "line": {
              "color": "#E5ECF6",
              "width": 0.5
             },
             "pattern": {
              "fillmode": "overlay",
              "size": 10,
              "solidity": 0.2
             }
            },
            "type": "barpolar"
           }
          ],
          "carpet": [
           {
            "aaxis": {
             "endlinecolor": "#2a3f5f",
             "gridcolor": "white",
             "linecolor": "white",
             "minorgridcolor": "white",
             "startlinecolor": "#2a3f5f"
            },
            "baxis": {
             "endlinecolor": "#2a3f5f",
             "gridcolor": "white",
             "linecolor": "white",
             "minorgridcolor": "white",
             "startlinecolor": "#2a3f5f"
            },
            "type": "carpet"
           }
          ],
          "choropleth": [
           {
            "colorbar": {
             "outlinewidth": 0,
             "ticks": ""
            },
            "type": "choropleth"
           }
          ],
          "contour": [
           {
            "colorbar": {
             "outlinewidth": 0,
             "ticks": ""
            },
            "colorscale": [
             [
              0,
              "#0d0887"
             ],
             [
              0.1111111111111111,
              "#46039f"
             ],
             [
              0.2222222222222222,
              "#7201a8"
             ],
             [
              0.3333333333333333,
              "#9c179e"
             ],
             [
              0.4444444444444444,
              "#bd3786"
             ],
             [
              0.5555555555555556,
              "#d8576b"
             ],
             [
              0.6666666666666666,
              "#ed7953"
             ],
             [
              0.7777777777777778,
              "#fb9f3a"
             ],
             [
              0.8888888888888888,
              "#fdca26"
             ],
             [
              1,
              "#f0f921"
             ]
            ],
            "type": "contour"
           }
          ],
          "contourcarpet": [
           {
            "colorbar": {
             "outlinewidth": 0,
             "ticks": ""
            },
            "type": "contourcarpet"
           }
          ],
          "heatmap": [
           {
            "colorbar": {
             "outlinewidth": 0,
             "ticks": ""
            },
            "colorscale": [
             [
              0,
              "#0d0887"
             ],
             [
              0.1111111111111111,
              "#46039f"
             ],
             [
              0.2222222222222222,
              "#7201a8"
             ],
             [
              0.3333333333333333,
              "#9c179e"
             ],
             [
              0.4444444444444444,
              "#bd3786"
             ],
             [
              0.5555555555555556,
              "#d8576b"
             ],
             [
              0.6666666666666666,
              "#ed7953"
             ],
             [
              0.7777777777777778,
              "#fb9f3a"
             ],
             [
              0.8888888888888888,
              "#fdca26"
             ],
             [
              1,
              "#f0f921"
             ]
            ],
            "type": "heatmap"
           }
          ],
          "heatmapgl": [
           {
            "colorbar": {
             "outlinewidth": 0,
             "ticks": ""
            },
            "colorscale": [
             [
              0,
              "#0d0887"
             ],
             [
              0.1111111111111111,
              "#46039f"
             ],
             [
              0.2222222222222222,
              "#7201a8"
             ],
             [
              0.3333333333333333,
              "#9c179e"
             ],
             [
              0.4444444444444444,
              "#bd3786"
             ],
             [
              0.5555555555555556,
              "#d8576b"
             ],
             [
              0.6666666666666666,
              "#ed7953"
             ],
             [
              0.7777777777777778,
              "#fb9f3a"
             ],
             [
              0.8888888888888888,
              "#fdca26"
             ],
             [
              1,
              "#f0f921"
             ]
            ],
            "type": "heatmapgl"
           }
          ],
          "histogram": [
           {
            "marker": {
             "pattern": {
              "fillmode": "overlay",
              "size": 10,
              "solidity": 0.2
             }
            },
            "type": "histogram"
           }
          ],
          "histogram2d": [
           {
            "colorbar": {
             "outlinewidth": 0,
             "ticks": ""
            },
            "colorscale": [
             [
              0,
              "#0d0887"
             ],
             [
              0.1111111111111111,
              "#46039f"
             ],
             [
              0.2222222222222222,
              "#7201a8"
             ],
             [
              0.3333333333333333,
              "#9c179e"
             ],
             [
              0.4444444444444444,
              "#bd3786"
             ],
             [
              0.5555555555555556,
              "#d8576b"
             ],
             [
              0.6666666666666666,
              "#ed7953"
             ],
             [
              0.7777777777777778,
              "#fb9f3a"
             ],
             [
              0.8888888888888888,
              "#fdca26"
             ],
             [
              1,
              "#f0f921"
             ]
            ],
            "type": "histogram2d"
           }
          ],
          "histogram2dcontour": [
           {
            "colorbar": {
             "outlinewidth": 0,
             "ticks": ""
            },
            "colorscale": [
             [
              0,
              "#0d0887"
             ],
             [
              0.1111111111111111,
              "#46039f"
             ],
             [
              0.2222222222222222,
              "#7201a8"
             ],
             [
              0.3333333333333333,
              "#9c179e"
             ],
             [
              0.4444444444444444,
              "#bd3786"
             ],
             [
              0.5555555555555556,
              "#d8576b"
             ],
             [
              0.6666666666666666,
              "#ed7953"
             ],
             [
              0.7777777777777778,
              "#fb9f3a"
             ],
             [
              0.8888888888888888,
              "#fdca26"
             ],
             [
              1,
              "#f0f921"
             ]
            ],
            "type": "histogram2dcontour"
           }
          ],
          "mesh3d": [
           {
            "colorbar": {
             "outlinewidth": 0,
             "ticks": ""
            },
            "type": "mesh3d"
           }
          ],
          "parcoords": [
           {
            "line": {
             "colorbar": {
              "outlinewidth": 0,
              "ticks": ""
             }
            },
            "type": "parcoords"
           }
          ],
          "pie": [
           {
            "automargin": true,
            "type": "pie"
           }
          ],
          "scatter": [
           {
            "marker": {
             "colorbar": {
              "outlinewidth": 0,
              "ticks": ""
             }
            },
            "type": "scatter"
           }
          ],
          "scatter3d": [
           {
            "line": {
             "colorbar": {
              "outlinewidth": 0,
              "ticks": ""
             }
            },
            "marker": {
             "colorbar": {
              "outlinewidth": 0,
              "ticks": ""
             }
            },
            "type": "scatter3d"
           }
          ],
          "scattercarpet": [
           {
            "marker": {
             "colorbar": {
              "outlinewidth": 0,
              "ticks": ""
             }
            },
            "type": "scattercarpet"
           }
          ],
          "scattergeo": [
           {
            "marker": {
             "colorbar": {
              "outlinewidth": 0,
              "ticks": ""
             }
            },
            "type": "scattergeo"
           }
          ],
          "scattergl": [
           {
            "marker": {
             "colorbar": {
              "outlinewidth": 0,
              "ticks": ""
             }
            },
            "type": "scattergl"
           }
          ],
          "scattermapbox": [
           {
            "marker": {
             "colorbar": {
              "outlinewidth": 0,
              "ticks": ""
             }
            },
            "type": "scattermapbox"
           }
          ],
          "scatterpolar": [
           {
            "marker": {
             "colorbar": {
              "outlinewidth": 0,
              "ticks": ""
             }
            },
            "type": "scatterpolar"
           }
          ],
          "scatterpolargl": [
           {
            "marker": {
             "colorbar": {
              "outlinewidth": 0,
              "ticks": ""
             }
            },
            "type": "scatterpolargl"
           }
          ],
          "scatterternary": [
           {
            "marker": {
             "colorbar": {
              "outlinewidth": 0,
              "ticks": ""
             }
            },
            "type": "scatterternary"
           }
          ],
          "surface": [
           {
            "colorbar": {
             "outlinewidth": 0,
             "ticks": ""
            },
            "colorscale": [
             [
              0,
              "#0d0887"
             ],
             [
              0.1111111111111111,
              "#46039f"
             ],
             [
              0.2222222222222222,
              "#7201a8"
             ],
             [
              0.3333333333333333,
              "#9c179e"
             ],
             [
              0.4444444444444444,
              "#bd3786"
             ],
             [
              0.5555555555555556,
              "#d8576b"
             ],
             [
              0.6666666666666666,
              "#ed7953"
             ],
             [
              0.7777777777777778,
              "#fb9f3a"
             ],
             [
              0.8888888888888888,
              "#fdca26"
             ],
             [
              1,
              "#f0f921"
             ]
            ],
            "type": "surface"
           }
          ],
          "table": [
           {
            "cells": {
             "fill": {
              "color": "#EBF0F8"
             },
             "line": {
              "color": "white"
             }
            },
            "header": {
             "fill": {
              "color": "#C8D4E3"
             },
             "line": {
              "color": "white"
             }
            },
            "type": "table"
           }
          ]
         },
         "layout": {
          "annotationdefaults": {
           "arrowcolor": "#2a3f5f",
           "arrowhead": 0,
           "arrowwidth": 1
          },
          "autotypenumbers": "strict",
          "coloraxis": {
           "colorbar": {
            "outlinewidth": 0,
            "ticks": ""
           }
          },
          "colorscale": {
           "diverging": [
            [
             0,
             "#8e0152"
            ],
            [
             0.1,
             "#c51b7d"
            ],
            [
             0.2,
             "#de77ae"
            ],
            [
             0.3,
             "#f1b6da"
            ],
            [
             0.4,
             "#fde0ef"
            ],
            [
             0.5,
             "#f7f7f7"
            ],
            [
             0.6,
             "#e6f5d0"
            ],
            [
             0.7,
             "#b8e186"
            ],
            [
             0.8,
             "#7fbc41"
            ],
            [
             0.9,
             "#4d9221"
            ],
            [
             1,
             "#276419"
            ]
           ],
           "sequential": [
            [
             0,
             "#0d0887"
            ],
            [
             0.1111111111111111,
             "#46039f"
            ],
            [
             0.2222222222222222,
             "#7201a8"
            ],
            [
             0.3333333333333333,
             "#9c179e"
            ],
            [
             0.4444444444444444,
             "#bd3786"
            ],
            [
             0.5555555555555556,
             "#d8576b"
            ],
            [
             0.6666666666666666,
             "#ed7953"
            ],
            [
             0.7777777777777778,
             "#fb9f3a"
            ],
            [
             0.8888888888888888,
             "#fdca26"
            ],
            [
             1,
             "#f0f921"
            ]
           ],
           "sequentialminus": [
            [
             0,
             "#0d0887"
            ],
            [
             0.1111111111111111,
             "#46039f"
            ],
            [
             0.2222222222222222,
             "#7201a8"
            ],
            [
             0.3333333333333333,
             "#9c179e"
            ],
            [
             0.4444444444444444,
             "#bd3786"
            ],
            [
             0.5555555555555556,
             "#d8576b"
            ],
            [
             0.6666666666666666,
             "#ed7953"
            ],
            [
             0.7777777777777778,
             "#fb9f3a"
            ],
            [
             0.8888888888888888,
             "#fdca26"
            ],
            [
             1,
             "#f0f921"
            ]
           ]
          },
          "colorway": [
           "#636efa",
           "#EF553B",
           "#00cc96",
           "#ab63fa",
           "#FFA15A",
           "#19d3f3",
           "#FF6692",
           "#B6E880",
           "#FF97FF",
           "#FECB52"
          ],
          "font": {
           "color": "#2a3f5f"
          },
          "geo": {
           "bgcolor": "white",
           "lakecolor": "white",
           "landcolor": "#E5ECF6",
           "showlakes": true,
           "showland": true,
           "subunitcolor": "white"
          },
          "hoverlabel": {
           "align": "left"
          },
          "hovermode": "closest",
          "mapbox": {
           "style": "light"
          },
          "paper_bgcolor": "white",
          "plot_bgcolor": "#E5ECF6",
          "polar": {
           "angularaxis": {
            "gridcolor": "white",
            "linecolor": "white",
            "ticks": ""
           },
           "bgcolor": "#E5ECF6",
           "radialaxis": {
            "gridcolor": "white",
            "linecolor": "white",
            "ticks": ""
           }
          },
          "scene": {
           "xaxis": {
            "backgroundcolor": "#E5ECF6",
            "gridcolor": "white",
            "gridwidth": 2,
            "linecolor": "white",
            "showbackground": true,
            "ticks": "",
            "zerolinecolor": "white"
           },
           "yaxis": {
            "backgroundcolor": "#E5ECF6",
            "gridcolor": "white",
            "gridwidth": 2,
            "linecolor": "white",
            "showbackground": true,
            "ticks": "",
            "zerolinecolor": "white"
           },
           "zaxis": {
            "backgroundcolor": "#E5ECF6",
            "gridcolor": "white",
            "gridwidth": 2,
            "linecolor": "white",
            "showbackground": true,
            "ticks": "",
            "zerolinecolor": "white"
           }
          },
          "shapedefaults": {
           "line": {
            "color": "#2a3f5f"
           }
          },
          "ternary": {
           "aaxis": {
            "gridcolor": "white",
            "linecolor": "white",
            "ticks": ""
           },
           "baxis": {
            "gridcolor": "white",
            "linecolor": "white",
            "ticks": ""
           },
           "bgcolor": "#E5ECF6",
           "caxis": {
            "gridcolor": "white",
            "linecolor": "white",
            "ticks": ""
           }
          },
          "title": {
           "x": 0.05
          },
          "xaxis": {
           "automargin": true,
           "gridcolor": "white",
           "linecolor": "white",
           "ticks": "",
           "title": {
            "standoff": 15
           },
           "zerolinecolor": "white",
           "zerolinewidth": 2
          },
          "yaxis": {
           "automargin": true,
           "gridcolor": "white",
           "linecolor": "white",
           "ticks": "",
           "title": {
            "standoff": 15
           },
           "zerolinecolor": "white",
           "zerolinewidth": 2
          }
         }
        },
        "title": {
         "text": "Slice Plot"
        },
        "width": 2100,
        "xaxis": {
         "anchor": "y",
         "domain": [
          0,
          0.1183673469387755
         ],
         "title": {
          "text": "cliprange"
         }
        },
        "xaxis2": {
         "anchor": "y2",
         "domain": [
          0.14693877551020407,
          0.26530612244897955
         ],
         "title": {
          "text": "ent_coef"
         },
         "type": "log"
        },
        "xaxis3": {
         "anchor": "y3",
         "domain": [
          0.29387755102040813,
          0.4122448979591836
         ],
         "title": {
          "text": "gamma"
         },
         "type": "log"
        },
        "xaxis4": {
         "anchor": "y4",
         "domain": [
          0.4408163265306122,
          0.5591836734693877
         ],
         "title": {
          "text": "lam"
         }
        },
        "xaxis5": {
         "anchor": "y5",
         "domain": [
          0.5877551020408163,
          0.7061224489795918
         ],
         "title": {
          "text": "learning_rate"
         },
         "type": "log"
        },
        "xaxis6": {
         "anchor": "y6",
         "domain": [
          0.7346938775510204,
          0.8530612244897959
         ],
         "title": {
          "text": "n_steps"
         },
         "type": "log"
        },
        "xaxis7": {
         "anchor": "y7",
         "domain": [
          0.8816326530612244,
          0.9999999999999999
         ],
         "title": {
          "text": "noptepochs"
         },
         "type": "log"
        },
        "yaxis": {
         "anchor": "x",
         "domain": [
          0,
          1
         ],
         "title": {
          "text": "Objective Value"
         }
        },
        "yaxis2": {
         "anchor": "x2",
         "domain": [
          0,
          1
         ],
         "matches": "y",
         "showticklabels": false
        },
        "yaxis3": {
         "anchor": "x3",
         "domain": [
          0,
          1
         ],
         "matches": "y",
         "showticklabels": false
        },
        "yaxis4": {
         "anchor": "x4",
         "domain": [
          0,
          1
         ],
         "matches": "y",
         "showticklabels": false
        },
        "yaxis5": {
         "anchor": "x5",
         "domain": [
          0,
          1
         ],
         "matches": "y",
         "showticklabels": false
        },
        "yaxis6": {
         "anchor": "x6",
         "domain": [
          0,
          1
         ],
         "matches": "y",
         "showticklabels": false
        },
        "yaxis7": {
         "anchor": "x7",
         "domain": [
          0,
          1
         ],
         "matches": "y",
         "showticklabels": false
        }
       }
      },
      "text/html": [
       "<div>                            <div id=\"de7920df-540a-4542-895f-5eb7ce99e67a\" class=\"plotly-graph-div\" style=\"height:525px; width:2100px;\"></div>            <script type=\"text/javascript\">                require([\"plotly\"], function(Plotly) {                    window.PLOTLYENV=window.PLOTLYENV || {};                                    if (document.getElementById(\"de7920df-540a-4542-895f-5eb7ce99e67a\")) {                    Plotly.newPlot(                        \"de7920df-540a-4542-895f-5eb7ce99e67a\",                        [{\"marker\":{\"color\":[0,1,2,3,4,5,6,7,8,9,10,11,12,13,14,15,16,17,18,19,20,21,22,23,24,25,26,27,28,29,30,31,32,33,34,35,36,37,38,39],\"colorbar\":{\"title\":{\"text\":\"#Trials\"},\"x\":1.0,\"xpad\":40},\"colorscale\":[[0.0,\"rgb(247,251,255)\"],[0.125,\"rgb(222,235,247)\"],[0.25,\"rgb(198,219,239)\"],[0.375,\"rgb(158,202,225)\"],[0.5,\"rgb(107,174,214)\"],[0.625,\"rgb(66,146,198)\"],[0.75,\"rgb(33,113,181)\"],[0.875,\"rgb(8,81,156)\"],[1.0,\"rgb(8,48,107)\"]],\"line\":{\"color\":\"Grey\",\"width\":0.5},\"showscale\":true},\"mode\":\"markers\",\"showlegend\":false,\"type\":\"scatter\",\"x\":[0.32914998484582236,0.2129550451480523,0.17030840956549298,0.15926094325548973,0.301072776559151,0.26789688959540314,0.12321527382376449,0.24255655788230054,0.16982764155580127,0.1745481028231517,0.22769751563811724,0.2939758745195225,0.276575663172716,0.3918176725563881,0.38119964499294046,0.38843730540705323,0.3996117005039941,0.3921202492199116,0.38580729581802686,0.3407245424786485,0.35255495090512645,0.11580604341409195,0.19779666865277754,0.11833230961981425,0.36424336124021783,0.355728714161879,0.31380898791993717,0.31817400658045186,0.31696640601924264,0.3744035052509533,0.3788966019770213,0.37257086837783693,0.1449719448807798,0.14765578570607377,0.335729665016842,0.33964803760430423,0.33626002849638326,0.33938599117466905,0.3418199409641906,0.21349383561812818],\"xaxis\":\"x\",\"y\":[405.0589294433594,-0.0,-729.6260375976562,-0.0,115.61991882324219,-0.0,938.280517578125,434.29876708984375,442.4573059082031,-138.32723999023438,717.1280517578125,-0.0,74.91666412353516,387.2479553222656,-272.32318115234375,-556.8109741210938,505.5243835449219,1060.701171875,-443.07318115234375,101.08739471435547,51.794715881347656,117.15853881835938,-0.0,1253.3740234375,729.5426635742188,590.150390625,506.6991882324219,-113.82520294189453,-119.96544647216797,350.25811767578125,1208.1341552734375,397.6707458496094,75.99797058105469,439.5975646972656,395.8658447265625,520.5487670898438,1361.2601318359375,215.0792694091797,339.343505859375,166.26016235351562],\"yaxis\":\"y\"},{\"marker\":{\"color\":[0,1,2,3,4,5,6,7,8,9,10,11,12,13,14,15,16,17,18,19,20,21,22,23,24,25,26,27,28,29,30,31,32,33,34,35,36,37,38,39],\"colorbar\":{\"title\":{\"text\":\"#Trials\"},\"x\":1.0,\"xpad\":40},\"colorscale\":[[0.0,\"rgb(247,251,255)\"],[0.125,\"rgb(222,235,247)\"],[0.25,\"rgb(198,219,239)\"],[0.375,\"rgb(158,202,225)\"],[0.5,\"rgb(107,174,214)\"],[0.625,\"rgb(66,146,198)\"],[0.75,\"rgb(33,113,181)\"],[0.875,\"rgb(8,81,156)\"],[1.0,\"rgb(8,48,107)\"]],\"line\":{\"color\":\"Grey\",\"width\":0.5},\"showscale\":false},\"mode\":\"markers\",\"showlegend\":false,\"type\":\"scatter\",\"x\":[4.186101661411603e-06,5.9211562517822755e-06,0.00034110977107535095,5.254451708412536e-06,5.8457958613226504e-05,0.0037021653548776133,0.0004193034197101879,2.8501771979464214e-07,0.0013899370210774284,4.663466434811137e-06,0.0012045646238793626,0.02570352598396919,0.048924435065543725,2.987657509817025e-08,4.568349729686588e-08,2.2811780525201236e-08,1.842960980010475e-08,1.9509960287324003e-08,2.474951867632257e-07,0.00013148613129283668,0.00014699106322383124,4.2307163644191275e-07,4.858194314376711e-07,2.2691048443243334e-05,1.0353206192437349e-07,8.430948368196741e-08,7.510219124187154e-08,1.6115759744462418e-06,9.138335288563803e-07,6.963427775921252e-08,2.615705305405036e-05,1.0434964264652767e-08,1.4236803360978051e-05,1.1043082458135042e-08,1.3244551586023607e-08,1.914209238316487e-07,1.3112962228428735e-07,2.3237692833562944e-06,2.688573126484147e-07,1.922326969987975e-06],\"xaxis\":\"x2\",\"y\":[405.0589294433594,-0.0,-729.6260375976562,-0.0,115.61991882324219,-0.0,938.280517578125,434.29876708984375,442.4573059082031,-138.32723999023438,717.1280517578125,-0.0,74.91666412353516,387.2479553222656,-272.32318115234375,-556.8109741210938,505.5243835449219,1060.701171875,-443.07318115234375,101.08739471435547,51.794715881347656,117.15853881835938,-0.0,1253.3740234375,729.5426635742188,590.150390625,506.6991882324219,-113.82520294189453,-119.96544647216797,350.25811767578125,1208.1341552734375,397.6707458496094,75.99797058105469,439.5975646972656,395.8658447265625,520.5487670898438,1361.2601318359375,215.0792694091797,339.343505859375,166.26016235351562],\"yaxis\":\"y2\"},{\"marker\":{\"color\":[0,1,2,3,4,5,6,7,8,9,10,11,12,13,14,15,16,17,18,19,20,21,22,23,24,25,26,27,28,29,30,31,32,33,34,35,36,37,38,39],\"colorbar\":{\"title\":{\"text\":\"#Trials\"},\"x\":1.0,\"xpad\":40},\"colorscale\":[[0.0,\"rgb(247,251,255)\"],[0.125,\"rgb(222,235,247)\"],[0.25,\"rgb(198,219,239)\"],[0.375,\"rgb(158,202,225)\"],[0.5,\"rgb(107,174,214)\"],[0.625,\"rgb(66,146,198)\"],[0.75,\"rgb(33,113,181)\"],[0.875,\"rgb(8,81,156)\"],[1.0,\"rgb(8,48,107)\"]],\"line\":{\"color\":\"Grey\",\"width\":0.5},\"showscale\":false},\"mode\":\"markers\",\"showlegend\":false,\"type\":\"scatter\",\"x\":[0.9386672664844192,0.977723564331734,0.9617908455983807,0.9512199733158527,0.9434190444588576,0.9680614685683979,0.9471720340676079,0.9208472772963058,0.9537617544764943,0.9252235826014411,0.9576247936523294,0.9686384673169064,0.9954308788778747,0.9965232367022392,0.999495049814938,0.9004404509853677,0.9125711772905356,0.9009752971156186,0.9064558426478155,0.9046573043967251,0.9295015858111977,0.9310498074574135,0.929770555171214,0.9864000687700071,0.9123670802691259,0.9137202361315576,0.9123540314167308,0.9038965856197915,0.9071335577903741,0.9619285009525881,0.9607531867777725,0.962309019887503,0.9366760026483841,0.9374965061810844,0.9368861564017492,0.9381364352014855,0.9886783133635035,0.9759588155204199,0.9801479378854988,0.9839558134766506],\"xaxis\":\"x3\",\"y\":[405.0589294433594,-0.0,-729.6260375976562,-0.0,115.61991882324219,-0.0,938.280517578125,434.29876708984375,442.4573059082031,-138.32723999023438,717.1280517578125,-0.0,74.91666412353516,387.2479553222656,-272.32318115234375,-556.8109741210938,505.5243835449219,1060.701171875,-443.07318115234375,101.08739471435547,51.794715881347656,117.15853881835938,-0.0,1253.3740234375,729.5426635742188,590.150390625,506.6991882324219,-113.82520294189453,-119.96544647216797,350.25811767578125,1208.1341552734375,397.6707458496094,75.99797058105469,439.5975646972656,395.8658447265625,520.5487670898438,1361.2601318359375,215.0792694091797,339.343505859375,166.26016235351562],\"yaxis\":\"y3\"},{\"marker\":{\"color\":[0,1,2,3,4,5,6,7,8,9,10,11,12,13,14,15,16,17,18,19,20,21,22,23,24,25,26,27,28,29,30,31,32,33,34,35,36,37,38,39],\"colorbar\":{\"title\":{\"text\":\"#Trials\"},\"x\":1.0,\"xpad\":40},\"colorscale\":[[0.0,\"rgb(247,251,255)\"],[0.125,\"rgb(222,235,247)\"],[0.25,\"rgb(198,219,239)\"],[0.375,\"rgb(158,202,225)\"],[0.5,\"rgb(107,174,214)\"],[0.625,\"rgb(66,146,198)\"],[0.75,\"rgb(33,113,181)\"],[0.875,\"rgb(8,81,156)\"],[1.0,\"rgb(8,48,107)\"]],\"line\":{\"color\":\"Grey\",\"width\":0.5},\"showscale\":false},\"mode\":\"markers\",\"showlegend\":false,\"type\":\"scatter\",\"x\":[0.8818391974560318,0.9039011648262867,0.8440857892672741,0.9720644304495372,0.9607619290115612,0.920384818228587,0.936686883082058,0.9153298867465013,0.8989963076753505,0.8697201608945553,0.9960366770823491,0.9939121133488141,0.930498707963674,0.8011778306151918,0.8267934205434476,0.8220609178605142,0.8177004870684177,0.8026567455408412,0.8015311156202454,0.8449461378973819,0.8418771464054525,0.8413491513279154,0.8416743563163958,0.841527058786344,0.8227256237447651,0.8221678072450758,0.8594307320875074,0.8722547874183941,0.8767361655992348,0.8659057789921609,0.816019328220813,0.8150211960499083,0.8105831101149887,0.8591412809843191,0.8247212269904043,0.8307994780518364,0.8293046893770523,0.8294343223531799,0.8319667067208962,0.8867939707105035],\"xaxis\":\"x4\",\"y\":[405.0589294433594,-0.0,-729.6260375976562,-0.0,115.61991882324219,-0.0,938.280517578125,434.29876708984375,442.4573059082031,-138.32723999023438,717.1280517578125,-0.0,74.91666412353516,387.2479553222656,-272.32318115234375,-556.8109741210938,505.5243835449219,1060.701171875,-443.07318115234375,101.08739471435547,51.794715881347656,117.15853881835938,-0.0,1253.3740234375,729.5426635742188,590.150390625,506.6991882324219,-113.82520294189453,-119.96544647216797,350.25811767578125,1208.1341552734375,397.6707458496094,75.99797058105469,439.5975646972656,395.8658447265625,520.5487670898438,1361.2601318359375,215.0792694091797,339.343505859375,166.26016235351562],\"yaxis\":\"y4\"},{\"marker\":{\"color\":[0,1,2,3,4,5,6,7,8,9,10,11,12,13,14,15,16,17,18,19,20,21,22,23,24,25,26,27,28,29,30,31,32,33,34,35,36,37,38,39],\"colorbar\":{\"title\":{\"text\":\"#Trials\"},\"x\":1.0,\"xpad\":40},\"colorscale\":[[0.0,\"rgb(247,251,255)\"],[0.125,\"rgb(222,235,247)\"],[0.25,\"rgb(198,219,239)\"],[0.375,\"rgb(158,202,225)\"],[0.5,\"rgb(107,174,214)\"],[0.625,\"rgb(66,146,198)\"],[0.75,\"rgb(33,113,181)\"],[0.875,\"rgb(8,81,156)\"],[1.0,\"rgb(8,48,107)\"]],\"line\":{\"color\":\"Grey\",\"width\":0.5},\"showscale\":false},\"mode\":\"markers\",\"showlegend\":false,\"type\":\"scatter\",\"x\":[0.0016843702967638129,0.5870666566018553,8.982793251604273e-05,0.14414757055354727,0.036180933349152976,0.8803595944695959,0.005482572373967193,3.1020059478591754e-05,4.37077919694396e-05,0.0018606371721046336,4.962082835902856e-05,0.04845257997349743,6.793074996501984e-05,0.00026327688437865457,0.00037495899824977933,0.00045177118947657165,0.0002531236954554731,0.0003226264850029056,0.00036234790473672586,1.1501175094661345e-05,1.4857079598709324e-05,0.009372930107469294,0.0065341419066429355,0.0008415479102642459,0.0008414079322725764,0.0006888620552109986,0.00015913930315439605,0.00011303481839795947,0.00012835898781936962,0.00018532414446814188,0.0004621290903965816,0.0005091477871859841,0.0028520124811604567,0.0016641420341040117,0.0021569771482047944,0.002016721124176107,0.0015366148762728992,8.499838668830319e-05,8.414308106618761e-05,2.249931336796118e-05],\"xaxis\":\"x5\",\"y\":[405.0589294433594,-0.0,-729.6260375976562,-0.0,115.61991882324219,-0.0,938.280517578125,434.29876708984375,442.4573059082031,-138.32723999023438,717.1280517578125,-0.0,74.91666412353516,387.2479553222656,-272.32318115234375,-556.8109741210938,505.5243835449219,1060.701171875,-443.07318115234375,101.08739471435547,51.794715881347656,117.15853881835938,-0.0,1253.3740234375,729.5426635742188,590.150390625,506.6991882324219,-113.82520294189453,-119.96544647216797,350.25811767578125,1208.1341552734375,397.6707458496094,75.99797058105469,439.5975646972656,395.8658447265625,520.5487670898438,1361.2601318359375,215.0792694091797,339.343505859375,166.26016235351562],\"yaxis\":\"y5\"},{\"marker\":{\"color\":[0,1,2,3,4,5,6,7,8,9,10,11,12,13,14,15,16,17,18,19,20,21,22,23,24,25,26,27,28,29,30,31,32,33,34,35,36,37,38,39],\"colorbar\":{\"title\":{\"text\":\"#Trials\"},\"x\":1.0,\"xpad\":40},\"colorscale\":[[0.0,\"rgb(247,251,255)\"],[0.125,\"rgb(222,235,247)\"],[0.25,\"rgb(198,219,239)\"],[0.375,\"rgb(158,202,225)\"],[0.5,\"rgb(107,174,214)\"],[0.625,\"rgb(66,146,198)\"],[0.75,\"rgb(33,113,181)\"],[0.875,\"rgb(8,81,156)\"],[1.0,\"rgb(8,48,107)\"]],\"line\":{\"color\":\"Grey\",\"width\":0.5},\"showscale\":false},\"mode\":\"markers\",\"showlegend\":false,\"type\":\"scatter\",\"x\":[696.787511203677,245.00627523248428,1281.6623202521903,377.0133262328042,44.78042958605413,121.95061320203021,1455.1443362894665,61.30710942526176,436.9620844294404,80.13170277412357,1421.0266609211544,56.11638679069669,810.3037802420757,1822.2470834853227,1588.8470901203568,125.26841126703869,23.053157563179607,156.01330134640685,160.83571544006475,163.8412765431713,19.52291080949107,28.314088227303714,17.29516802265833,272.58723520424655,260.42728551329105,269.2945983901756,107.5410281149326,106.70998249444484,106.55189502616373,693.81672913633,622.1927989726516,634.0427244353865,749.0784236422171,904.0772347779075,1022.072405697944,1094.1276040497655,1994.5078368491945,1086.7257824862559,452.09509086269856,396.457299959395],\"xaxis\":\"x6\",\"y\":[405.0589294433594,-0.0,-729.6260375976562,-0.0,115.61991882324219,-0.0,938.280517578125,434.29876708984375,442.4573059082031,-138.32723999023438,717.1280517578125,-0.0,74.91666412353516,387.2479553222656,-272.32318115234375,-556.8109741210938,505.5243835449219,1060.701171875,-443.07318115234375,101.08739471435547,51.794715881347656,117.15853881835938,-0.0,1253.3740234375,729.5426635742188,590.150390625,506.6991882324219,-113.82520294189453,-119.96544647216797,350.25811767578125,1208.1341552734375,397.6707458496094,75.99797058105469,439.5975646972656,395.8658447265625,520.5487670898438,1361.2601318359375,215.0792694091797,339.343505859375,166.26016235351562],\"yaxis\":\"y6\"},{\"marker\":{\"color\":[0,1,2,3,4,5,6,7,8,9,10,11,12,13,14,15,16,17,18,19,20,21,22,23,24,25,26,27,28,29,30,31,32,33,34,35,36,37,38,39],\"colorbar\":{\"title\":{\"text\":\"#Trials\"},\"x\":1.0,\"xpad\":40},\"colorscale\":[[0.0,\"rgb(247,251,255)\"],[0.125,\"rgb(222,235,247)\"],[0.25,\"rgb(198,219,239)\"],[0.375,\"rgb(158,202,225)\"],[0.5,\"rgb(107,174,214)\"],[0.625,\"rgb(66,146,198)\"],[0.75,\"rgb(33,113,181)\"],[0.875,\"rgb(8,81,156)\"],[1.0,\"rgb(8,48,107)\"]],\"line\":{\"color\":\"Grey\",\"width\":0.5},\"showscale\":false},\"mode\":\"markers\",\"showlegend\":false,\"type\":\"scatter\",\"x\":[1.899275017312557,45.9591868218829,1.3835522178858635,17.336860492309423,22.93276416439066,2.4267407373912846,2.6946008920649747,15.764683408308953,1.2655634831464493,12.331947416222173,23.217103926950216,1.469794896976712,14.639444050287679,4.2385009170491,6.531715689368813,6.538268896286643,4.82072454144091,6.367642856654198,5.1653183765351685,8.142880290348787,7.508371797094337,8.057859853836488,3.2323593199664993,8.205749674561872,1.1320966982701481,1.028689420891211,4.289278702684994,4.118489766452682,4.330179123179395,1.9784040474447402,2.043501894170966,1.879255938955118,1.751512705675728,1.6645963152551844,10.572424024047345,10.318158196209808,10.963122879688354,5.795515196806139,36.83668588895908,5.796068948302775],\"xaxis\":\"x7\",\"y\":[405.0589294433594,-0.0,-729.6260375976562,-0.0,115.61991882324219,-0.0,938.280517578125,434.29876708984375,442.4573059082031,-138.32723999023438,717.1280517578125,-0.0,74.91666412353516,387.2479553222656,-272.32318115234375,-556.8109741210938,505.5243835449219,1060.701171875,-443.07318115234375,101.08739471435547,51.794715881347656,117.15853881835938,-0.0,1253.3740234375,729.5426635742188,590.150390625,506.6991882324219,-113.82520294189453,-119.96544647216797,350.25811767578125,1208.1341552734375,397.6707458496094,75.99797058105469,439.5975646972656,395.8658447265625,520.5487670898438,1361.2601318359375,215.0792694091797,339.343505859375,166.26016235351562],\"yaxis\":\"y7\"}],                        {\"template\":{\"data\":{\"bar\":[{\"error_x\":{\"color\":\"#2a3f5f\"},\"error_y\":{\"color\":\"#2a3f5f\"},\"marker\":{\"line\":{\"color\":\"#E5ECF6\",\"width\":0.5},\"pattern\":{\"fillmode\":\"overlay\",\"size\":10,\"solidity\":0.2}},\"type\":\"bar\"}],\"barpolar\":[{\"marker\":{\"line\":{\"color\":\"#E5ECF6\",\"width\":0.5},\"pattern\":{\"fillmode\":\"overlay\",\"size\":10,\"solidity\":0.2}},\"type\":\"barpolar\"}],\"carpet\":[{\"aaxis\":{\"endlinecolor\":\"#2a3f5f\",\"gridcolor\":\"white\",\"linecolor\":\"white\",\"minorgridcolor\":\"white\",\"startlinecolor\":\"#2a3f5f\"},\"baxis\":{\"endlinecolor\":\"#2a3f5f\",\"gridcolor\":\"white\",\"linecolor\":\"white\",\"minorgridcolor\":\"white\",\"startlinecolor\":\"#2a3f5f\"},\"type\":\"carpet\"}],\"choropleth\":[{\"colorbar\":{\"outlinewidth\":0,\"ticks\":\"\"},\"type\":\"choropleth\"}],\"contour\":[{\"colorbar\":{\"outlinewidth\":0,\"ticks\":\"\"},\"colorscale\":[[0.0,\"#0d0887\"],[0.1111111111111111,\"#46039f\"],[0.2222222222222222,\"#7201a8\"],[0.3333333333333333,\"#9c179e\"],[0.4444444444444444,\"#bd3786\"],[0.5555555555555556,\"#d8576b\"],[0.6666666666666666,\"#ed7953\"],[0.7777777777777778,\"#fb9f3a\"],[0.8888888888888888,\"#fdca26\"],[1.0,\"#f0f921\"]],\"type\":\"contour\"}],\"contourcarpet\":[{\"colorbar\":{\"outlinewidth\":0,\"ticks\":\"\"},\"type\":\"contourcarpet\"}],\"heatmap\":[{\"colorbar\":{\"outlinewidth\":0,\"ticks\":\"\"},\"colorscale\":[[0.0,\"#0d0887\"],[0.1111111111111111,\"#46039f\"],[0.2222222222222222,\"#7201a8\"],[0.3333333333333333,\"#9c179e\"],[0.4444444444444444,\"#bd3786\"],[0.5555555555555556,\"#d8576b\"],[0.6666666666666666,\"#ed7953\"],[0.7777777777777778,\"#fb9f3a\"],[0.8888888888888888,\"#fdca26\"],[1.0,\"#f0f921\"]],\"type\":\"heatmap\"}],\"heatmapgl\":[{\"colorbar\":{\"outlinewidth\":0,\"ticks\":\"\"},\"colorscale\":[[0.0,\"#0d0887\"],[0.1111111111111111,\"#46039f\"],[0.2222222222222222,\"#7201a8\"],[0.3333333333333333,\"#9c179e\"],[0.4444444444444444,\"#bd3786\"],[0.5555555555555556,\"#d8576b\"],[0.6666666666666666,\"#ed7953\"],[0.7777777777777778,\"#fb9f3a\"],[0.8888888888888888,\"#fdca26\"],[1.0,\"#f0f921\"]],\"type\":\"heatmapgl\"}],\"histogram\":[{\"marker\":{\"pattern\":{\"fillmode\":\"overlay\",\"size\":10,\"solidity\":0.2}},\"type\":\"histogram\"}],\"histogram2d\":[{\"colorbar\":{\"outlinewidth\":0,\"ticks\":\"\"},\"colorscale\":[[0.0,\"#0d0887\"],[0.1111111111111111,\"#46039f\"],[0.2222222222222222,\"#7201a8\"],[0.3333333333333333,\"#9c179e\"],[0.4444444444444444,\"#bd3786\"],[0.5555555555555556,\"#d8576b\"],[0.6666666666666666,\"#ed7953\"],[0.7777777777777778,\"#fb9f3a\"],[0.8888888888888888,\"#fdca26\"],[1.0,\"#f0f921\"]],\"type\":\"histogram2d\"}],\"histogram2dcontour\":[{\"colorbar\":{\"outlinewidth\":0,\"ticks\":\"\"},\"colorscale\":[[0.0,\"#0d0887\"],[0.1111111111111111,\"#46039f\"],[0.2222222222222222,\"#7201a8\"],[0.3333333333333333,\"#9c179e\"],[0.4444444444444444,\"#bd3786\"],[0.5555555555555556,\"#d8576b\"],[0.6666666666666666,\"#ed7953\"],[0.7777777777777778,\"#fb9f3a\"],[0.8888888888888888,\"#fdca26\"],[1.0,\"#f0f921\"]],\"type\":\"histogram2dcontour\"}],\"mesh3d\":[{\"colorbar\":{\"outlinewidth\":0,\"ticks\":\"\"},\"type\":\"mesh3d\"}],\"parcoords\":[{\"line\":{\"colorbar\":{\"outlinewidth\":0,\"ticks\":\"\"}},\"type\":\"parcoords\"}],\"pie\":[{\"automargin\":true,\"type\":\"pie\"}],\"scatter\":[{\"marker\":{\"colorbar\":{\"outlinewidth\":0,\"ticks\":\"\"}},\"type\":\"scatter\"}],\"scatter3d\":[{\"line\":{\"colorbar\":{\"outlinewidth\":0,\"ticks\":\"\"}},\"marker\":{\"colorbar\":{\"outlinewidth\":0,\"ticks\":\"\"}},\"type\":\"scatter3d\"}],\"scattercarpet\":[{\"marker\":{\"colorbar\":{\"outlinewidth\":0,\"ticks\":\"\"}},\"type\":\"scattercarpet\"}],\"scattergeo\":[{\"marker\":{\"colorbar\":{\"outlinewidth\":0,\"ticks\":\"\"}},\"type\":\"scattergeo\"}],\"scattergl\":[{\"marker\":{\"colorbar\":{\"outlinewidth\":0,\"ticks\":\"\"}},\"type\":\"scattergl\"}],\"scattermapbox\":[{\"marker\":{\"colorbar\":{\"outlinewidth\":0,\"ticks\":\"\"}},\"type\":\"scattermapbox\"}],\"scatterpolar\":[{\"marker\":{\"colorbar\":{\"outlinewidth\":0,\"ticks\":\"\"}},\"type\":\"scatterpolar\"}],\"scatterpolargl\":[{\"marker\":{\"colorbar\":{\"outlinewidth\":0,\"ticks\":\"\"}},\"type\":\"scatterpolargl\"}],\"scatterternary\":[{\"marker\":{\"colorbar\":{\"outlinewidth\":0,\"ticks\":\"\"}},\"type\":\"scatterternary\"}],\"surface\":[{\"colorbar\":{\"outlinewidth\":0,\"ticks\":\"\"},\"colorscale\":[[0.0,\"#0d0887\"],[0.1111111111111111,\"#46039f\"],[0.2222222222222222,\"#7201a8\"],[0.3333333333333333,\"#9c179e\"],[0.4444444444444444,\"#bd3786\"],[0.5555555555555556,\"#d8576b\"],[0.6666666666666666,\"#ed7953\"],[0.7777777777777778,\"#fb9f3a\"],[0.8888888888888888,\"#fdca26\"],[1.0,\"#f0f921\"]],\"type\":\"surface\"}],\"table\":[{\"cells\":{\"fill\":{\"color\":\"#EBF0F8\"},\"line\":{\"color\":\"white\"}},\"header\":{\"fill\":{\"color\":\"#C8D4E3\"},\"line\":{\"color\":\"white\"}},\"type\":\"table\"}]},\"layout\":{\"annotationdefaults\":{\"arrowcolor\":\"#2a3f5f\",\"arrowhead\":0,\"arrowwidth\":1},\"autotypenumbers\":\"strict\",\"coloraxis\":{\"colorbar\":{\"outlinewidth\":0,\"ticks\":\"\"}},\"colorscale\":{\"diverging\":[[0,\"#8e0152\"],[0.1,\"#c51b7d\"],[0.2,\"#de77ae\"],[0.3,\"#f1b6da\"],[0.4,\"#fde0ef\"],[0.5,\"#f7f7f7\"],[0.6,\"#e6f5d0\"],[0.7,\"#b8e186\"],[0.8,\"#7fbc41\"],[0.9,\"#4d9221\"],[1,\"#276419\"]],\"sequential\":[[0.0,\"#0d0887\"],[0.1111111111111111,\"#46039f\"],[0.2222222222222222,\"#7201a8\"],[0.3333333333333333,\"#9c179e\"],[0.4444444444444444,\"#bd3786\"],[0.5555555555555556,\"#d8576b\"],[0.6666666666666666,\"#ed7953\"],[0.7777777777777778,\"#fb9f3a\"],[0.8888888888888888,\"#fdca26\"],[1.0,\"#f0f921\"]],\"sequentialminus\":[[0.0,\"#0d0887\"],[0.1111111111111111,\"#46039f\"],[0.2222222222222222,\"#7201a8\"],[0.3333333333333333,\"#9c179e\"],[0.4444444444444444,\"#bd3786\"],[0.5555555555555556,\"#d8576b\"],[0.6666666666666666,\"#ed7953\"],[0.7777777777777778,\"#fb9f3a\"],[0.8888888888888888,\"#fdca26\"],[1.0,\"#f0f921\"]]},\"colorway\":[\"#636efa\",\"#EF553B\",\"#00cc96\",\"#ab63fa\",\"#FFA15A\",\"#19d3f3\",\"#FF6692\",\"#B6E880\",\"#FF97FF\",\"#FECB52\"],\"font\":{\"color\":\"#2a3f5f\"},\"geo\":{\"bgcolor\":\"white\",\"lakecolor\":\"white\",\"landcolor\":\"#E5ECF6\",\"showlakes\":true,\"showland\":true,\"subunitcolor\":\"white\"},\"hoverlabel\":{\"align\":\"left\"},\"hovermode\":\"closest\",\"mapbox\":{\"style\":\"light\"},\"paper_bgcolor\":\"white\",\"plot_bgcolor\":\"#E5ECF6\",\"polar\":{\"angularaxis\":{\"gridcolor\":\"white\",\"linecolor\":\"white\",\"ticks\":\"\"},\"bgcolor\":\"#E5ECF6\",\"radialaxis\":{\"gridcolor\":\"white\",\"linecolor\":\"white\",\"ticks\":\"\"}},\"scene\":{\"xaxis\":{\"backgroundcolor\":\"#E5ECF6\",\"gridcolor\":\"white\",\"gridwidth\":2,\"linecolor\":\"white\",\"showbackground\":true,\"ticks\":\"\",\"zerolinecolor\":\"white\"},\"yaxis\":{\"backgroundcolor\":\"#E5ECF6\",\"gridcolor\":\"white\",\"gridwidth\":2,\"linecolor\":\"white\",\"showbackground\":true,\"ticks\":\"\",\"zerolinecolor\":\"white\"},\"zaxis\":{\"backgroundcolor\":\"#E5ECF6\",\"gridcolor\":\"white\",\"gridwidth\":2,\"linecolor\":\"white\",\"showbackground\":true,\"ticks\":\"\",\"zerolinecolor\":\"white\"}},\"shapedefaults\":{\"line\":{\"color\":\"#2a3f5f\"}},\"ternary\":{\"aaxis\":{\"gridcolor\":\"white\",\"linecolor\":\"white\",\"ticks\":\"\"},\"baxis\":{\"gridcolor\":\"white\",\"linecolor\":\"white\",\"ticks\":\"\"},\"bgcolor\":\"#E5ECF6\",\"caxis\":{\"gridcolor\":\"white\",\"linecolor\":\"white\",\"ticks\":\"\"}},\"title\":{\"x\":0.05},\"xaxis\":{\"automargin\":true,\"gridcolor\":\"white\",\"linecolor\":\"white\",\"ticks\":\"\",\"title\":{\"standoff\":15},\"zerolinecolor\":\"white\",\"zerolinewidth\":2},\"yaxis\":{\"automargin\":true,\"gridcolor\":\"white\",\"linecolor\":\"white\",\"ticks\":\"\",\"title\":{\"standoff\":15},\"zerolinecolor\":\"white\",\"zerolinewidth\":2}}},\"title\":{\"text\":\"Slice Plot\"},\"width\":2100,\"xaxis\":{\"anchor\":\"y\",\"domain\":[0.0,0.1183673469387755],\"title\":{\"text\":\"cliprange\"}},\"xaxis2\":{\"anchor\":\"y2\",\"domain\":[0.14693877551020407,0.26530612244897955],\"title\":{\"text\":\"ent_coef\"},\"type\":\"log\"},\"xaxis3\":{\"anchor\":\"y3\",\"domain\":[0.29387755102040813,0.4122448979591836],\"title\":{\"text\":\"gamma\"},\"type\":\"log\"},\"xaxis4\":{\"anchor\":\"y4\",\"domain\":[0.4408163265306122,0.5591836734693877],\"title\":{\"text\":\"lam\"}},\"xaxis5\":{\"anchor\":\"y5\",\"domain\":[0.5877551020408163,0.7061224489795918],\"title\":{\"text\":\"learning_rate\"},\"type\":\"log\"},\"xaxis6\":{\"anchor\":\"y6\",\"domain\":[0.7346938775510204,0.8530612244897959],\"title\":{\"text\":\"n_steps\"},\"type\":\"log\"},\"xaxis7\":{\"anchor\":\"y7\",\"domain\":[0.8816326530612244,0.9999999999999999],\"title\":{\"text\":\"noptepochs\"},\"type\":\"log\"},\"yaxis\":{\"anchor\":\"x\",\"domain\":[0.0,1.0],\"title\":{\"text\":\"Objective Value\"}},\"yaxis2\":{\"anchor\":\"x2\",\"domain\":[0.0,1.0],\"matches\":\"y\",\"showticklabels\":false},\"yaxis3\":{\"anchor\":\"x3\",\"domain\":[0.0,1.0],\"matches\":\"y\",\"showticklabels\":false},\"yaxis4\":{\"anchor\":\"x4\",\"domain\":[0.0,1.0],\"matches\":\"y\",\"showticklabels\":false},\"yaxis5\":{\"anchor\":\"x5\",\"domain\":[0.0,1.0],\"matches\":\"y\",\"showticklabels\":false},\"yaxis6\":{\"anchor\":\"x6\",\"domain\":[0.0,1.0],\"matches\":\"y\",\"showticklabels\":false},\"yaxis7\":{\"anchor\":\"x7\",\"domain\":[0.0,1.0],\"matches\":\"y\",\"showticklabels\":false}},                        {\"responsive\": true}                    ).then(function(){\n",
       "                            \n",
       "var gd = document.getElementById('de7920df-540a-4542-895f-5eb7ce99e67a');\n",
       "var x = new MutationObserver(function (mutations, observer) {{\n",
       "        var display = window.getComputedStyle(gd).display;\n",
       "        if (!display || display === 'none') {{\n",
       "            console.log([gd, 'removed!']);\n",
       "            Plotly.purge(gd);\n",
       "            observer.disconnect();\n",
       "        }}\n",
       "}});\n",
       "\n",
       "// Listen for the removal of the full notebook cells\n",
       "var notebookContainer = gd.closest('#notebook-container');\n",
       "if (notebookContainer) {{\n",
       "    x.observe(notebookContainer, {childList: true});\n",
       "}}\n",
       "\n",
       "// Listen for the clearing of the current output cell\n",
       "var outputEl = gd.closest('.output');\n",
       "if (outputEl) {{\n",
       "    x.observe(outputEl, {childList: true});\n",
       "}}\n",
       "\n",
       "                        })                };                });            </script>        </div>"
      ]
     },
     "metadata": {},
     "output_type": "display_data"
    }
   ],
   "source": [
    "optuna.visualization.plot_slice(study_ppo2_lstm_test)"
   ]
  },
  {
   "cell_type": "code",
   "execution_count": 16,
   "id": "e77b0724",
   "metadata": {},
   "outputs": [],
   "source": [
    "study_PPO2_LSTM_test = optuna.load_study(study_name='PPO2_LSTM_optimize_profit_test', storage='sqlite:///params.db')\n",
    "params = study_PPO2_LSTM_test.best_trial.params\n",
    "\n",
    "train_env = DummyVecEnv([lambda: StockTradingEnv(train_df)])\n",
    "\n",
    "model_params = {\n",
    "    'n_steps': int(params['n_steps']),\n",
    "    'gamma': params['gamma'],\n",
    "    'learning_rate': params['learning_rate'],\n",
    "    'ent_coef': params['ent_coef'],\n",
    "    'cliprange': params['cliprange'],\n",
    "    'noptepochs': int(params['noptepochs']),\n",
    "    'lam': params['lam']\n",
    "}\n",
    "\n",
    "model = PPO2(MlpLstmPolicy, train_env, nminibatches=1, **model_params)"
   ]
  },
  {
   "cell_type": "code",
   "execution_count": 17,
   "id": "cabebe1c",
   "metadata": {},
   "outputs": [
    {
     "data": {
      "text/plain": [
       "<stable_baselines.ppo2.ppo2.PPO2 at 0x214d9f6e788>"
      ]
     },
     "execution_count": 17,
     "metadata": {},
     "output_type": "execute_result"
    }
   ],
   "source": [
    "model.learn(total_timesteps=100000)"
   ]
  },
  {
   "cell_type": "code",
   "execution_count": 18,
   "id": "fec3cdb6",
   "metadata": {},
   "outputs": [],
   "source": [
    "test_env = DummyVecEnv([lambda: StockTradingEnv(test_df)])"
   ]
  },
  {
   "cell_type": "code",
   "execution_count": 19,
   "id": "d7713f7e",
   "metadata": {
    "scrolled": false
   },
   "outputs": [
    {
     "name": "stdout",
     "output_type": "stream",
     "text": [
      "Step:   39, Date: 2019-02-19 , Reward:   0, Stock [Held:   0, Bought:   0, Sold :  0], NetWorth: 10000.00, Profit:  0.00\n",
      "Step:   40, Date: 2019-02-20 , Reward:   0, Stock [Held:   0, Bought:   0, Sold :  0], NetWorth: 10000.00, Profit:  0.00\n",
      "Step:   41, Date: 2019-02-21 , Reward:   0, Stock [Held:   0, Bought:   0, Sold :  0], NetWorth: 10000.00, Profit:  0.00\n",
      "Step:   42, Date: 2019-02-22 , Reward:   0, Stock [Held:   0, Bought:   0, Sold :  0], NetWorth: 10000.00, Profit:  0.00\n",
      "Step:   43, Date: 2019-02-25 , Reward:   0, Stock [Held:   0, Bought:   0, Sold :  0], NetWorth: 10000.00, Profit:  0.00\n",
      "Step:   44, Date: 2019-02-26 , Reward:   0, Stock [Held:   0, Bought:   0, Sold :  0], NetWorth: 10000.00, Profit:  0.00\n",
      "Step:   45, Date: 2019-02-27 , Reward:   0, Stock [Held:   6, Bought:   6, Sold :  0], NetWorth: 10000.00, Profit:  0.00\n",
      "Step:   46, Date: 2019-02-28 , Reward:  18, Stock [Held:   6, Bought:   0, Sold :  0], NetWorth: 10018.13, Profit: 18.13\n",
      "Step:   47, Date: 2019-03-01 , Reward:  84, Stock [Held:   6, Bought:   0, Sold :  0], NetWorth: 10084.86, Profit: 84.86\n",
      "Step:   48, Date: 2019-03-05 , Reward: 131, Stock [Held:   6, Bought:   0, Sold :  0], NetWorth: 10131.29, Profit: 131.29\n",
      "Step:   49, Date: 2019-03-06 , Reward: 150, Stock [Held:   6, Bought:   0, Sold :  0], NetWorth: 10150.09, Profit: 150.09\n",
      "Step:   50, Date: 2019-03-07 , Reward: 165, Stock [Held:   6, Bought:   0, Sold :  0], NetWorth: 10165.84, Profit: 165.84\n",
      "Step:   51, Date: 2019-03-08 , Reward: 159, Stock [Held:   8, Bought:   2, Sold :  0], NetWorth: 10159.93, Profit: 159.93\n",
      "Step:   52, Date: 2019-03-11 , Reward: 158, Stock [Held:   8, Bought:   0, Sold :  0], NetWorth: 10158.34, Profit: 158.34\n",
      "Step:   53, Date: 2019-03-12 , Reward: 249, Stock [Held:   8, Bought:   0, Sold :  0], NetWorth: 10249.61, Profit: 249.61\n",
      "Step:   54, Date: 2019-03-13 , Reward: 329, Stock [Held:   8, Bought:   0, Sold :  0], NetWorth: 10329.67, Profit: 329.67\n",
      "Step:   55, Date: 2019-03-14 , Reward: 313, Stock [Held:   8, Bought:   0, Sold :  0], NetWorth: 10313.90, Profit: 313.90\n",
      "Step:   56, Date: 2019-03-15 , Reward: 242, Stock [Held:   8, Bought:   0, Sold :  0], NetWorth: 10242.64, Profit: 242.64\n",
      "Step:   57, Date: 2019-03-18 , Reward: 265, Stock [Held:   8, Bought:   0, Sold :  0], NetWorth: 10265.30, Profit: 265.30\n",
      "Step:   58, Date: 2019-03-19 , Reward: 261, Stock [Held:   8, Bought:   0, Sold :  0], NetWorth: 10261.20, Profit: 261.20\n",
      "Step:   59, Date: 2019-03-20 , Reward: 243, Stock [Held:   8, Bought:   0, Sold :  0], NetWorth: 10243.42, Profit: 243.42\n",
      "Step:   60, Date: 2019-03-22 , Reward: 206, Stock [Held:   6, Bought:   0, Sold :  2], NetWorth: 10206.33, Profit: 206.33\n",
      "Step:   61, Date: 2019-03-25 , Reward: 161, Stock [Held:   6, Bought:   0, Sold :  0], NetWorth: 10161.73, Profit: 161.73\n",
      "Step:   62, Date: 2019-03-26 , Reward: 118, Stock [Held:   6, Bought:   0, Sold :  0], NetWorth: 10118.29, Profit: 118.29\n",
      "Step:   63, Date: 2019-03-27 , Reward: 188, Stock [Held:   6, Bought:   0, Sold :  0], NetWorth: 10188.80, Profit: 188.80\n",
      "Step:   64, Date: 2019-03-28 , Reward: 228, Stock [Held:   6, Bought:   0, Sold :  0], NetWorth: 10228.86, Profit: 228.86\n",
      "Step:   65, Date: 2019-04-01 , Reward: 360, Stock [Held:   6, Bought:   0, Sold :  0], NetWorth: 10360.55, Profit: 360.55\n",
      "Step:   66, Date: 2019-04-02 , Reward: 400, Stock [Held:   6, Bought:   0, Sold :  0], NetWorth: 10400.70, Profit: 400.70\n",
      "Step:   67, Date: 2019-04-03 , Reward: 418, Stock [Held:   6, Bought:   0, Sold :  0], NetWorth: 10418.38, Profit: 418.38\n",
      "Step:   68, Date: 2019-04-04 , Reward: 438, Stock [Held:  11, Bought:   5, Sold :  0], NetWorth: 10438.62, Profit: 438.62\n",
      "Step:   69, Date: 2019-04-05 , Reward: 451, Stock [Held:  12, Bought:   1, Sold :  0], NetWorth: 10451.34, Profit: 451.34\n",
      "Step:   70, Date: 2019-04-08 , Reward: 440, Stock [Held:  12, Bought:   0, Sold :  0], NetWorth: 10440.04, Profit: 440.04\n",
      "Step:   71, Date: 2019-04-09 , Reward: 420, Stock [Held:  12, Bought:   0, Sold :  0], NetWorth: 10420.78, Profit: 420.78\n",
      "Step:   72, Date: 2019-04-10 , Reward: 388, Stock [Held:  15, Bought:   3, Sold :  0], NetWorth: 10388.71, Profit: 388.71\n",
      "Step:   73, Date: 2019-04-11 , Reward: 327, Stock [Held:  15, Bought:   0, Sold :  0], NetWorth: 10327.85, Profit: 327.85\n",
      "Step:   74, Date: 2019-04-12 , Reward: 541, Stock [Held:  15, Bought:   0, Sold :  0], NetWorth: 10541.68, Profit: 541.68\n",
      "Step:   75, Date: 2019-04-15 , Reward: 652, Stock [Held:  15, Bought:   0, Sold :  0], NetWorth: 10652.45, Profit: 652.45\n",
      "Step:   76, Date: 2019-04-16 , Reward: 666, Stock [Held:  15, Bought:   0, Sold :  0], NetWorth: 10666.22, Profit: 666.22\n",
      "Step:   77, Date: 2019-04-18 , Reward: 534, Stock [Held:  15, Bought:   0, Sold :  0], NetWorth: 10534.72, Profit: 534.72\n",
      "Step:   78, Date: 2019-04-22 , Reward: 590, Stock [Held:  15, Bought:   0, Sold :  0], NetWorth: 10590.66, Profit: 590.66\n",
      "Step:   79, Date: 2019-04-23 , Reward: 543, Stock [Held:  15, Bought:   0, Sold :  0], NetWorth: 10543.83, Profit: 543.83\n",
      "Step:   80, Date: 2019-04-24 , Reward: 524, Stock [Held:  15, Bought:   0, Sold :  0], NetWorth: 10524.80, Profit: 524.80\n",
      "Step:   81, Date: 2019-04-25 , Reward: 636, Stock [Held:  16, Bought:   1, Sold :  0], NetWorth: 10636.34, Profit: 636.34\n",
      "Step:   82, Date: 2019-04-26 , Reward: 263, Stock [Held:  16, Bought:   0, Sold :  0], NetWorth: 10263.59, Profit: 263.59\n",
      "Step:   83, Date: 2019-04-30 , Reward: 217, Stock [Held:  16, Bought:   0, Sold :  0], NetWorth: 10217.45, Profit: 217.45\n",
      "Step:   84, Date: 2019-05-02 , Reward: 393, Stock [Held:  16, Bought:   0, Sold :  0], NetWorth: 10393.12, Profit: 393.12\n",
      "Step:   85, Date: 2019-05-03 , Reward: 409, Stock [Held:  16, Bought:   0, Sold :  0], NetWorth: 10409.27, Profit: 409.27\n",
      "Step:   86, Date: 2019-05-06 , Reward:  -4, Stock [Held:  16, Bought:   0, Sold :  0], NetWorth: 9995.32, Profit: -4.68\n",
      "Step:   87, Date: 2019-05-07 , Reward:-283, Stock [Held:  16, Bought:   0, Sold :  0], NetWorth: 9716.11, Profit: -283.89\n",
      "Step:   88, Date: 2019-05-08 , Reward:-319, Stock [Held:  16, Bought:   0, Sold :  0], NetWorth: 9680.96, Profit: -319.04\n",
      "Step:   89, Date: 2019-05-09 , Reward:-306, Stock [Held:  16, Bought:   0, Sold :  0], NetWorth: 9693.51, Profit: -306.49\n",
      "Step:   90, Date: 2019-05-10 , Reward:-325, Stock [Held:  16, Bought:   0, Sold :  0], NetWorth: 9674.33, Profit: -325.67\n",
      "Step:   91, Date: 2019-05-13 , Reward:-123, Stock [Held:  16, Bought:   0, Sold :  0], NetWorth: 9876.09, Profit: -123.91\n",
      "Step:   92, Date: 2019-05-14 , Reward: -35, Stock [Held:  16, Bought:   0, Sold :  0], NetWorth: 9964.91, Profit: -35.09\n",
      "Step:   93, Date: 2019-05-15 , Reward:  98, Stock [Held:  16, Bought:   0, Sold :  0], NetWorth: 10098.17, Profit: 98.17\n",
      "Step:   94, Date: 2019-05-16 , Reward: 167, Stock [Held:  16, Bought:   0, Sold :  0], NetWorth: 10167.38, Profit: 167.38\n",
      "Step:   95, Date: 2019-05-17 , Reward: 163, Stock [Held:  16, Bought:   0, Sold :  0], NetWorth: 10163.49, Profit: 163.49\n",
      "Step:   96, Date: 2019-05-20 , Reward: 372, Stock [Held:  16, Bought:   0, Sold :  0], NetWorth: 10372.75, Profit: 372.75\n",
      "Step:   97, Date: 2019-05-21 , Reward: 555, Stock [Held:  16, Bought:   0, Sold :  0], NetWorth: 10555.65, Profit: 555.65\n",
      "Step:   98, Date: 2019-05-22 , Reward: 447, Stock [Held:  16, Bought:   0, Sold :  0], NetWorth: 10447.53, Profit: 447.53\n",
      "Step:   99, Date: 2019-05-23 , Reward: 481, Stock [Held:  16, Bought:   0, Sold :  0], NetWorth: 10481.48, Profit: 481.48\n",
      "Step:  100, Date: 2019-05-24 , Reward: 393, Stock [Held:  16, Bought:   0, Sold :  0], NetWorth: 10393.06, Profit: 393.06\n",
      "Step:  101, Date: 2019-05-27 , Reward: 548, Stock [Held:  16, Bought:   0, Sold :  0], NetWorth: 10548.25, Profit: 548.25\n",
      "Step:  102, Date: 2019-05-28 , Reward: 861, Stock [Held:  16, Bought:   0, Sold :  0], NetWorth: 10861.11, Profit: 861.11\n",
      "Step:  103, Date: 2019-05-29 , Reward: 890, Stock [Held:  16, Bought:   0, Sold :  0], NetWorth: 10890.94, Profit: 890.94\n",
      "Step:  104, Date: 2019-05-30 , Reward: 913, Stock [Held:  16, Bought:   0, Sold :  0], NetWorth: 10913.22, Profit: 913.22\n",
      "Step:  105, Date: 2019-05-31 , Reward: 948, Stock [Held:  16, Bought:   0, Sold :  0], NetWorth: 10948.96, Profit: 948.96\n",
      "Step:  106, Date: 2019-06-03 , Reward: 906, Stock [Held:  16, Bought:   0, Sold :  0], NetWorth: 10906.91, Profit: 906.91\n",
      "Step:  107, Date: 2019-06-04 , Reward: 954, Stock [Held:  16, Bought:   0, Sold :  0], NetWorth: 10954.83, Profit: 954.83\n",
      "Step:  108, Date: 2019-06-06 , Reward: 834, Stock [Held:  16, Bought:   0, Sold :  0], NetWorth: 10834.70, Profit: 834.70\n",
      "Step:  109, Date: 2019-06-07 , Reward: 461, Stock [Held:  16, Bought:   0, Sold :  0], NetWorth: 10461.40, Profit: 461.40\n",
      "Step:  110, Date: 2019-06-10 , Reward: 512, Stock [Held:  16, Bought:   0, Sold :  0], NetWorth: 10512.36, Profit: 512.36\n",
      "Step:  111, Date: 2019-06-11 , Reward: 597, Stock [Held:  16, Bought:   0, Sold :  0], NetWorth: 10597.39, Profit: 597.39\n",
      "Step:  112, Date: 2019-06-12 , Reward: 459, Stock [Held:  16, Bought:   0, Sold :  0], NetWorth: 10459.50, Profit: 459.50\n",
      "Step:  113, Date: 2019-06-13 , Reward: 422, Stock [Held:  16, Bought:   0, Sold :  0], NetWorth: 10422.09, Profit: 422.09\n",
      "Step:  114, Date: 2019-06-14 , Reward: 410, Stock [Held:  16, Bought:   0, Sold :  0], NetWorth: 10410.44, Profit: 410.44\n",
      "Step:  115, Date: 2019-06-17 , Reward: 181, Stock [Held:  16, Bought:   0, Sold :  0], NetWorth: 10181.58, Profit: 181.58\n",
      "Step:  116, Date: 2019-06-18 , Reward: -38, Stock [Held:  16, Bought:   0, Sold :  0], NetWorth: 9961.01, Profit: -38.99\n",
      "Step:  117, Date: 2019-06-19 , Reward: -49, Stock [Held:  16, Bought:   0, Sold :  0], NetWorth: 9950.66, Profit: -49.34\n",
      "Step:  118, Date: 2019-06-20 , Reward:  73, Stock [Held:  16, Bought:   0, Sold :  0], NetWorth: 10073.90, Profit: 73.90\n",
      "Step:  119, Date: 2019-06-21 , Reward: -98, Stock [Held:  16, Bought:   0, Sold :  0], NetWorth: 9901.11, Profit: -98.89\n",
      "Step:  120, Date: 2019-06-24 , Reward:-244, Stock [Held:  16, Bought:   0, Sold :  0], NetWorth: 9755.08, Profit: -244.92\n",
      "Step:  121, Date: 2019-06-25 , Reward:-124, Stock [Held:  16, Bought:   0, Sold :  0], NetWorth: 9875.17, Profit: -124.83\n",
      "Step:  122, Date: 2019-06-26 , Reward:-127, Stock [Held:  16, Bought:   0, Sold :  0], NetWorth: 9872.37, Profit: -127.63\n",
      "Step:  123, Date: 2019-06-27 , Reward:  22, Stock [Held:  16, Bought:   0, Sold :  0], NetWorth: 10022.67, Profit: 22.67\n",
      "Step:  124, Date: 2019-06-28 , Reward: -19, Stock [Held:  16, Bought:   0, Sold :  0], NetWorth: 9980.43, Profit: -19.57\n",
      "Step:  125, Date: 2019-07-01 , Reward:  31, Stock [Held:  16, Bought:   0, Sold :  0], NetWorth: 10031.14, Profit: 31.14\n"
     ]
    },
    {
     "name": "stdout",
     "output_type": "stream",
     "text": [
      "Step:  126, Date: 2019-07-02 , Reward:  66, Stock [Held:  16, Bought:   0, Sold :  0], NetWorth: 10066.51, Profit: 66.51\n",
      "Step:  127, Date: 2019-07-03 , Reward: -98, Stock [Held:  16, Bought:   0, Sold :  0], NetWorth: 9901.31, Profit: -98.69\n",
      "Step:  128, Date: 2019-07-04 , Reward: -43, Stock [Held:  16, Bought:   0, Sold :  0], NetWorth: 9956.73, Profit: -43.27\n",
      "Step:  129, Date: 2019-07-05 , Reward: -63, Stock [Held:  16, Bought:   0, Sold :  0], NetWorth: 9936.14, Profit: -63.86\n",
      "Step:  130, Date: 2019-07-08 , Reward:-361, Stock [Held:   9, Bought:   0, Sold :  7], NetWorth: 9638.13, Profit: -361.87\n",
      "Step:  131, Date: 2019-07-09 , Reward:-328, Stock [Held:   9, Bought:   0, Sold :  0], NetWorth: 9671.41, Profit: -328.59\n",
      "Step:  132, Date: 2019-07-10 , Reward:-339, Stock [Held:   9, Bought:   0, Sold :  0], NetWorth: 9660.30, Profit: -339.70\n",
      "Step:  133, Date: 2019-07-11 , Reward:-385, Stock [Held:   9, Bought:   0, Sold :  0], NetWorth: 9614.75, Profit: -385.25\n",
      "Step:  134, Date: 2019-07-12 , Reward:-362, Stock [Held:   9, Bought:   0, Sold :  0], NetWorth: 9637.36, Profit: -362.64\n",
      "Step:  135, Date: 2019-07-15 , Reward:-356, Stock [Held:   9, Bought:   0, Sold :  0], NetWorth: 9643.58, Profit: -356.42\n",
      "Step:  136, Date: 2019-07-16 , Reward:-304, Stock [Held:   0, Bought:   0, Sold :  9], NetWorth: 9695.07, Profit: -304.93\n",
      "Step:  137, Date: 2019-07-17 , Reward:-304, Stock [Held:   0, Bought:   0, Sold :  0], NetWorth: 9695.07, Profit: -304.93\n",
      "Step:  138, Date: 2019-07-18 , Reward:-304, Stock [Held:   0, Bought:   0, Sold :  0], NetWorth: 9695.07, Profit: -304.93\n",
      "Step:  139, Date: 2019-07-19 , Reward:-304, Stock [Held:   0, Bought:   0, Sold :  0], NetWorth: 9695.07, Profit: -304.93\n",
      "Step:  140, Date: 2019-07-22 , Reward:-304, Stock [Held:   0, Bought:   0, Sold :  0], NetWorth: 9695.07, Profit: -304.93\n",
      "Step:  141, Date: 2019-07-23 , Reward:-304, Stock [Held:   0, Bought:   0, Sold :  0], NetWorth: 9695.07, Profit: -304.93\n",
      "Step:  142, Date: 2019-07-24 , Reward:-304, Stock [Held:   0, Bought:   0, Sold :  0], NetWorth: 9695.07, Profit: -304.93\n",
      "Step:  143, Date: 2019-07-25 , Reward:-304, Stock [Held:   0, Bought:   0, Sold :  0], NetWorth: 9695.07, Profit: -304.93\n",
      "Step:  144, Date: 2019-07-26 , Reward:-304, Stock [Held:   0, Bought:   0, Sold :  0], NetWorth: 9695.07, Profit: -304.93\n",
      "Step:  145, Date: 2019-07-29 , Reward:-304, Stock [Held:   0, Bought:   0, Sold :  0], NetWorth: 9695.07, Profit: -304.93\n",
      "Step:  146, Date: 2019-07-30 , Reward:-304, Stock [Held:   0, Bought:   0, Sold :  0], NetWorth: 9695.07, Profit: -304.93\n",
      "Step:  147, Date: 2019-07-31 , Reward:-304, Stock [Held:   0, Bought:   0, Sold :  0], NetWorth: 9695.07, Profit: -304.93\n",
      "Step:  148, Date: 2019-08-01 , Reward:-304, Stock [Held:   0, Bought:   0, Sold :  0], NetWorth: 9695.07, Profit: -304.93\n",
      "Step:  149, Date: 2019-08-02 , Reward:-304, Stock [Held:   0, Bought:   0, Sold :  0], NetWorth: 9695.07, Profit: -304.93\n",
      "Step:  150, Date: 2019-08-05 , Reward:-304, Stock [Held:   0, Bought:   0, Sold :  0], NetWorth: 9695.07, Profit: -304.93\n",
      "Step:  151, Date: 2019-08-06 , Reward:-304, Stock [Held:   0, Bought:   0, Sold :  0], NetWorth: 9695.07, Profit: -304.93\n",
      "Step:  152, Date: 2019-08-07 , Reward:-304, Stock [Held:   0, Bought:   0, Sold :  0], NetWorth: 9695.07, Profit: -304.93\n",
      "Step:  153, Date: 2019-08-08 , Reward:-304, Stock [Held:   0, Bought:   0, Sold :  0], NetWorth: 9695.07, Profit: -304.93\n",
      "Step:  154, Date: 2019-08-09 , Reward:-304, Stock [Held:   0, Bought:   0, Sold :  0], NetWorth: 9695.07, Profit: -304.93\n",
      "Step:  155, Date: 2019-08-13 , Reward:-304, Stock [Held:   0, Bought:   0, Sold :  0], NetWorth: 9695.07, Profit: -304.93\n",
      "Step:  156, Date: 2019-08-14 , Reward:-304, Stock [Held:   0, Bought:   0, Sold :  0], NetWorth: 9695.07, Profit: -304.93\n",
      "Step:  157, Date: 2019-08-16 , Reward:-304, Stock [Held:   0, Bought:   0, Sold :  0], NetWorth: 9695.07, Profit: -304.93\n",
      "Step:  158, Date: 2019-08-19 , Reward:-304, Stock [Held:   0, Bought:   0, Sold :  0], NetWorth: 9695.07, Profit: -304.93\n",
      "Step:  159, Date: 2019-08-20 , Reward:-304, Stock [Held:   0, Bought:   0, Sold :  0], NetWorth: 9695.07, Profit: -304.93\n",
      "Step:  160, Date: 2019-08-21 , Reward:-304, Stock [Held:   0, Bought:   0, Sold :  0], NetWorth: 9695.07, Profit: -304.93\n",
      "Step:  161, Date: 2019-08-22 , Reward:-304, Stock [Held:   0, Bought:   0, Sold :  0], NetWorth: 9695.07, Profit: -304.93\n",
      "Step:  162, Date: 2019-08-23 , Reward:-304, Stock [Held:   0, Bought:   0, Sold :  0], NetWorth: 9695.07, Profit: -304.93\n",
      "Step:  163, Date: 2019-08-26 , Reward:-304, Stock [Held:   0, Bought:   0, Sold :  0], NetWorth: 9695.07, Profit: -304.93\n",
      "Step:  164, Date: 2019-08-27 , Reward:-304, Stock [Held:   0, Bought:   0, Sold :  0], NetWorth: 9695.07, Profit: -304.93\n",
      "Step:  165, Date: 2019-08-28 , Reward:-304, Stock [Held:   0, Bought:   0, Sold :  0], NetWorth: 9695.07, Profit: -304.93\n",
      "Step:  166, Date: 2019-08-29 , Reward:-304, Stock [Held:   0, Bought:   0, Sold :  0], NetWorth: 9695.07, Profit: -304.93\n",
      "Step:  167, Date: 2019-08-30 , Reward:-304, Stock [Held:   0, Bought:   0, Sold :  0], NetWorth: 9695.07, Profit: -304.93\n",
      "Step:  168, Date: 2019-09-03 , Reward:-304, Stock [Held:   0, Bought:   0, Sold :  0], NetWorth: 9695.07, Profit: -304.93\n",
      "Step:  169, Date: 2019-09-04 , Reward:-304, Stock [Held:   0, Bought:   0, Sold :  0], NetWorth: 9695.07, Profit: -304.93\n",
      "Step:  170, Date: 2019-09-05 , Reward:-304, Stock [Held:   0, Bought:   0, Sold :  0], NetWorth: 9695.07, Profit: -304.93\n",
      "Step:  171, Date: 2019-09-06 , Reward:-304, Stock [Held:  19, Bought:  19, Sold :  0], NetWorth: 9695.07, Profit: -304.93\n",
      "Step:  172, Date: 2019-09-09 , Reward:-214, Stock [Held:   0, Bought:   0, Sold : 19], NetWorth: 9785.92, Profit: -214.08\n",
      "Step:  173, Date: 2019-09-11 , Reward:-214, Stock [Held:   0, Bought:   0, Sold :  0], NetWorth: 9785.92, Profit: -214.08\n",
      "Step:  174, Date: 2019-09-12 , Reward:-214, Stock [Held:   0, Bought:   0, Sold :  0], NetWorth: 9785.92, Profit: -214.08\n",
      "Step:  175, Date: 2019-09-13 , Reward:-214, Stock [Held:   0, Bought:   0, Sold :  0], NetWorth: 9785.92, Profit: -214.08\n",
      "Step:  176, Date: 2019-09-16 , Reward:-214, Stock [Held:   0, Bought:   0, Sold :  0], NetWorth: 9785.92, Profit: -214.08\n",
      "Step:  177, Date: 2019-09-17 , Reward:-214, Stock [Held:   2, Bought:   2, Sold :  0], NetWorth: 9785.92, Profit: -214.08\n",
      "Step:  178, Date: 2019-09-18 , Reward:-209, Stock [Held:   2, Bought:   0, Sold :  0], NetWorth: 9790.46, Profit: -209.54\n",
      "Step:  179, Date: 2019-09-19 , Reward:-202, Stock [Held:   2, Bought:   0, Sold :  0], NetWorth: 9797.42, Profit: -202.58\n",
      "Step:  180, Date: 2019-09-20 , Reward:-158, Stock [Held:   2, Bought:   0, Sold :  0], NetWorth: 9841.74, Profit: -158.26\n",
      "Step:  181, Date: 2019-09-23 , Reward: -98, Stock [Held:   2, Bought:   0, Sold :  0], NetWorth: 9901.68, Profit: -98.32\n",
      "Step:  182, Date: 2019-09-24 , Reward: -90, Stock [Held:   2, Bought:   0, Sold :  0], NetWorth: 9909.95, Profit: -90.05\n",
      "Step:  183, Date: 2019-09-25 , Reward:-127, Stock [Held:   2, Bought:   0, Sold :  0], NetWorth: 9872.27, Profit: -127.73\n",
      "Step:  184, Date: 2019-09-26 , Reward:-143, Stock [Held:   2, Bought:   0, Sold :  0], NetWorth: 9856.61, Profit: -143.39\n",
      "Step:  185, Date: 2019-09-27 , Reward:-152, Stock [Held:   2, Bought:   0, Sold :  0], NetWorth: 9847.57, Profit: -152.43\n",
      "Step:  186, Date: 2019-09-30 , Reward:-165, Stock [Held:   2, Bought:   0, Sold :  0], NetWorth: 9834.23, Profit: -165.77\n",
      "Step:  187, Date: 2019-10-01 , Reward:-160, Stock [Held:   2, Bought:   0, Sold :  0], NetWorth: 9839.79, Profit: -160.21\n",
      "Step:  188, Date: 2019-10-03 , Reward:-154, Stock [Held:   2, Bought:   0, Sold :  0], NetWorth: 9845.62, Profit: -154.38\n",
      "Step:  189, Date: 2019-10-04 , Reward:-150, Stock [Held:   2, Bought:   0, Sold :  0], NetWorth: 9849.27, Profit: -150.73\n",
      "Step:  190, Date: 2019-10-07 , Reward:-159, Stock [Held:   2, Bought:   0, Sold :  0], NetWorth: 9840.14, Profit: -159.86\n",
      "Step:  191, Date: 2019-10-09 , Reward:-153, Stock [Held:   2, Bought:   0, Sold :  0], NetWorth: 9846.03, Profit: -153.97\n",
      "Step:  192, Date: 2019-10-10 , Reward:-150, Stock [Held:   2, Bought:   0, Sold :  0], NetWorth: 9849.30, Profit: -150.70\n",
      "Step:  193, Date: 2019-10-11 , Reward:-144, Stock [Held:   2, Bought:   0, Sold :  0], NetWorth: 9855.99, Profit: -144.01\n",
      "Step:  194, Date: 2019-10-14 , Reward:-148, Stock [Held:   2, Bought:   0, Sold :  0], NetWorth: 9851.78, Profit: -148.22\n",
      "Step:  195, Date: 2019-10-15 , Reward:-154, Stock [Held:   2, Bought:   0, Sold :  0], NetWorth: 9845.10, Profit: -154.90\n",
      "Step:  196, Date: 2019-10-16 , Reward:-153, Stock [Held:   2, Bought:   0, Sold :  0], NetWorth: 9846.76, Profit: -153.24\n",
      "Step:  197, Date: 2019-10-17 , Reward:-158, Stock [Held:   2, Bought:   0, Sold :  0], NetWorth: 9841.65, Profit: -158.35\n",
      "Step:  198, Date: 2019-10-18 , Reward:-165, Stock [Held:   2, Bought:   0, Sold :  0], NetWorth: 9834.42, Profit: -165.58\n",
      "Step:  199, Date: 2019-10-22 , Reward:-162, Stock [Held:   2, Bought:   0, Sold :  0], NetWorth: 9837.22, Profit: -162.78\n",
      "Step:  200, Date: 2019-10-23 , Reward:-159, Stock [Held:   2, Bought:   0, Sold :  0], NetWorth: 9840.48, Profit: -159.52\n",
      "Step:  201, Date: 2019-10-24 , Reward:-177, Stock [Held:   2, Bought:   0, Sold :  0], NetWorth: 9822.96, Profit: -177.04\n",
      "Step:  202, Date: 2019-10-25 , Reward:-174, Stock [Held:   2, Bought:   0, Sold :  0], NetWorth: 9825.62, Profit: -174.38\n",
      "Step:  203, Date: 2019-10-29 , Reward:-163, Stock [Held:   2, Bought:   0, Sold :  0], NetWorth: 9836.90, Profit: -163.10\n",
      "Step:  204, Date: 2019-10-30 , Reward:-172, Stock [Held:  14, Bought:  12, Sold :  0], NetWorth: 9827.25, Profit: -172.75\n",
      "Step:  205, Date: 2019-10-31 , Reward: -89, Stock [Held:  14, Bought:   0, Sold :  0], NetWorth: 9910.11, Profit: -89.89\n",
      "Step:  206, Date: 2019-11-01 , Reward:   8, Stock [Held:  14, Bought:   0, Sold :  0], NetWorth: 10008.77, Profit:  8.77\n",
      "Step:  207, Date: 2019-11-04 , Reward: -78, Stock [Held:  14, Bought:   0, Sold :  0], NetWorth: 9921.35, Profit: -78.65\n",
      "Step:  208, Date: 2019-11-05 , Reward:-269, Stock [Held:  14, Bought:   0, Sold :  0], NetWorth: 9730.75, Profit: -269.25\n",
      "Step:  209, Date: 2019-11-06 , Reward:-292, Stock [Held:  14, Bought:   0, Sold :  0], NetWorth: 9707.50, Profit: -292.50\n",
      "Step:  210, Date: 2019-11-07 , Reward:-440, Stock [Held:  14, Bought:   0, Sold :  0], NetWorth: 9559.68, Profit: -440.32\n",
      "Step:  211, Date: 2019-11-08 , Reward:-423, Stock [Held:  14, Bought:   0, Sold :  0], NetWorth: 9576.66, Profit: -423.34\n",
      "Step:  212, Date: 2019-11-11 , Reward:-434, Stock [Held:  14, Bought:   0, Sold :  0], NetWorth: 9565.31, Profit: -434.69\n",
      "Step:  213, Date: 2019-11-13 , Reward:-582, Stock [Held:  14, Bought:   0, Sold :  0], NetWorth: 9417.03, Profit: -582.97\n",
      "Step:  214, Date: 2019-11-14 , Reward:-584, Stock [Held:  14, Bought:   0, Sold :  0], NetWorth: 9415.54, Profit: -584.46\n",
      "Step:  215, Date: 2019-11-15 , Reward:-557, Stock [Held:  17, Bought:   3, Sold :  0], NetWorth: 9442.55, Profit: -557.45\n",
      "Step:  216, Date: 2019-11-18 , Reward:-673, Stock [Held:  17, Bought:   0, Sold :  0], NetWorth: 9326.63, Profit: -673.37\n",
      "Step:  217, Date: 2019-11-19 , Reward:-663, Stock [Held:  17, Bought:   0, Sold :  0], NetWorth: 9336.50, Profit: -663.50\n",
      "Step:  218, Date: 2019-11-20 , Reward:-557, Stock [Held:  14, Bought:   0, Sold :  3], NetWorth: 9442.59, Profit: -557.41\n",
      "Step:  219, Date: 2019-11-21 , Reward:-589, Stock [Held:  14, Bought:   0, Sold :  0], NetWorth: 9411.00, Profit: -589.00\n",
      "Step:  220, Date: 2019-11-22 , Reward:-603, Stock [Held:  14, Bought:   0, Sold :  0], NetWorth: 9396.74, Profit: -603.26\n"
     ]
    },
    {
     "name": "stdout",
     "output_type": "stream",
     "text": [
      "Step:  221, Date: 2019-11-25 , Reward:-535, Stock [Held:  14, Bought:   0, Sold :  0], NetWorth: 9464.38, Profit: -535.62\n",
      "Step:  222, Date: 2019-11-26 , Reward:-643, Stock [Held:  14, Bought:   0, Sold :  0], NetWorth: 9356.15, Profit: -643.85\n",
      "Step:  223, Date: 2019-11-27 , Reward:-645, Stock [Held:  14, Bought:   0, Sold :  0], NetWorth: 9354.52, Profit: -645.48\n",
      "Step:  224, Date: 2019-11-28 , Reward:-606, Stock [Held:  14, Bought:   0, Sold :  0], NetWorth: 9393.21, Profit: -606.79\n",
      "Step:  225, Date: 2019-11-29 , Reward:-574, Stock [Held:  14, Bought:   0, Sold :  0], NetWorth: 9425.32, Profit: -574.68\n",
      "Step:  226, Date: 2019-12-02 , Reward:-534, Stock [Held:  14, Bought:   0, Sold :  0], NetWorth: 9465.81, Profit: -534.19\n",
      "Step:  227, Date: 2019-12-03 , Reward:-637, Stock [Held:  14, Bought:   0, Sold :  0], NetWorth: 9362.30, Profit: -637.70\n",
      "Step:  228, Date: 2019-12-04 , Reward:-700, Stock [Held:  14, Bought:   0, Sold :  0], NetWorth: 9299.02, Profit: -700.98\n",
      "Step:  229, Date: 2019-12-05 , Reward:-663, Stock [Held:  14, Bought:   0, Sold :  0], NetWorth: 9336.54, Profit: -663.46\n",
      "Step:  230, Date: 2019-12-06 , Reward:-635, Stock [Held:  14, Bought:   0, Sold :  0], NetWorth: 9364.35, Profit: -635.65\n",
      "Step:  231, Date: 2019-12-09 , Reward:-646, Stock [Held:  14, Bought:   0, Sold :  0], NetWorth: 9353.62, Profit: -646.38\n",
      "Step:  232, Date: 2019-12-10 , Reward:-609, Stock [Held:  14, Bought:   0, Sold :  0], NetWorth: 9390.08, Profit: -609.92\n",
      "Step:  233, Date: 2019-12-11 , Reward:-595, Stock [Held:  14, Bought:   0, Sold :  0], NetWorth: 9404.26, Profit: -595.74\n",
      "Step:  234, Date: 2019-12-12 , Reward:-410, Stock [Held:  14, Bought:   0, Sold :  0], NetWorth: 9589.64, Profit: -410.36\n",
      "Step:  235, Date: 2019-12-13 , Reward:-333, Stock [Held:  14, Bought:   0, Sold :  0], NetWorth: 9666.94, Profit: -333.06\n",
      "Step:  236, Date: 2019-12-16 , Reward:-519, Stock [Held:  14, Bought:   0, Sold :  0], NetWorth: 9480.03, Profit: -519.97\n",
      "Step:  237, Date: 2019-12-17 , Reward:-602, Stock [Held:  14, Bought:   0, Sold :  0], NetWorth: 9397.31, Profit: -602.69\n",
      "Step:  238, Date: 2019-12-18 , Reward:-626, Stock [Held:  14, Bought:   0, Sold :  0], NetWorth: 9373.09, Profit: -626.91\n"
     ]
    }
   ],
   "source": [
    "obs = test_env.reset()\n",
    "\n",
    "for i in range(200):\n",
    "    action, _states = model.predict(obs, deterministic=False)\n",
    "    obs, reward, done, info = test_env.step(action)\n",
    "    test_env.render(mode='cli')\n",
    "    if done:\n",
    "        obs = test_env.reset()\n",
    "        break"
   ]
  },
  {
   "cell_type": "code",
   "execution_count": 20,
   "id": "e18a29e5",
   "metadata": {},
   "outputs": [],
   "source": [
    "trades = pd.DataFrame(info[0].get('Trades'))\n",
    "trades['Date'] = pd.to_datetime(trades['Date']) # Convert \"Date\" to datetime object.\n",
    "df.sort_values('Date', ascending=True, inplace=True) # Sort the \"Date\" Column by the values."
   ]
  },
  {
   "cell_type": "code",
   "execution_count": 21,
   "id": "ebc060f3",
   "metadata": {},
   "outputs": [],
   "source": [
    "def display_trades(df):\n",
    "    \n",
    "    # Convert the column names from mixcase to lower case\n",
    "    df.columns = map(str.lower, df.columns)\n",
    "    \n",
    "    # Fix date\n",
    "    if type(df.index) != pd.core.indexes.datetimes.DatetimeIndex:\n",
    "        df['date'] = pd.to_datetime(df['date'])\n",
    "        df.set_index('date',inplace=True) # Set the Date column as the index\n",
    "        df = df.sort_values(['date'])\n",
    "    \n",
    "     # Copy the dataframe\n",
    "    tempdf=df.copy(deep=True)\n",
    "    \n",
    "    # Calculate profit\n",
    "    \n",
    "    profit = round(tempdf.iloc[-1]['net worth'] - tempdf.iloc[1]['net worth'], 2)\n",
    "    profit_prcnt = round(((tempdf.iloc[-1]['net worth'] - tempdf.iloc[1]['net worth']) / tempdf.iloc[1]['net worth']) * 100 , 2)\n",
    "    \n",
    "    trade_buy = tempdf['type'][tempdf['type']=='Buy'].count()\n",
    "    trade_sell = tempdf['type'][tempdf['type']=='Sell'].count()\n",
    "    trade_hold = tempdf['type'][tempdf['type']=='Hold'].count()\n",
    "    \n",
    "    title_1 = 'RL Algorithm: PPO2_LSTM' + ' - ' + 'Trade Count ' + '[' + 'Buy: ' + str(trade_buy) + ' | ' + 'Sell: ' + str(trade_sell) + ' | ' + 'Hold: ' + str(trade_hold) + ']'\n",
    "    title_2 = 'Initial Investment (INR): ' + str(round(tempdf.iloc[1]['net worth'],2)) + ' | ' +  'Net Worth (INR): ' + str(round(tempdf.iloc[-1]['net worth'],2)) + ' | ' + 'Profit (INR): ' + str(profit) + ' | ' + 'Profit (%): ' + str(profit_prcnt)+ '%'\n",
    "    \n",
    "    \n",
    "    # Buy sell marker\n",
    "    d=10\n",
    "    tempdf[['marker', 'symbol', 'color']] = ''\n",
    "    for i in range(0, len(tempdf)):\n",
    "        if tempdf['type'].iloc[i] == 'Buy':\n",
    "            tempdf['marker'].iloc[i] = tempdf[\"low\"].iloc[i]-d\n",
    "            tempdf['symbol'].iloc[i] = 'triangle-up'\n",
    "            tempdf['color'].iloc[i] = 'green'\n",
    "            \n",
    "        elif tempdf['type'].iloc[i] == 'Sell':\n",
    "            tempdf['marker'].iloc[i] = tempdf[\"high\"].iloc[i]+d\n",
    "            tempdf['symbol'].iloc[i] = 'triangle-down'\n",
    "            tempdf['color'].iloc[i] = 'red'\n",
    "        \n",
    "        else:\n",
    "            tempdf['marker'].iloc[i] = tempdf[\"low\"].iloc[i]-d\n",
    "            tempdf['symbol'].iloc[i] = 'cross-thin'\n",
    "            tempdf['color'].iloc[i] = 'blue' \n",
    "\n",
    "    \n",
    "    # Draw plot\n",
    "    fig = make_subplots(rows=2, cols=1, \n",
    "                    shared_xaxes=True, \n",
    "                    row_width=[.25,.75], \n",
    "                    vertical_spacing=0.05,\n",
    "                   subplot_titles=(title_1, title_2))\n",
    "\n",
    "   \n",
    "    fig.add_trace(go.Scatter(x=tempdf.index,\n",
    "                             y=tempdf.marker,\n",
    "                             mode='markers',\n",
    "                             name='Buy/Sell/Hold',\n",
    "                             marker=dict(size=15,symbol=tempdf[\"symbol\"],color=tempdf[\"color\"])),\n",
    "                   row=1, col=1)\n",
    "                  \n",
    "    fig.add_trace(go.Candlestick(x=tempdf.index, \n",
    "                                 open=tempdf['open'], \n",
    "                                 high=tempdf['high'], \n",
    "                                 low=tempdf['low'], \n",
    "                                 close=tempdf['close'],\n",
    "                                 name='OHLC'),\n",
    "                  row=1, col=1)\n",
    "   \n",
    "                  \n",
    "    fig.add_trace(go.Scatter(x=tempdf.index,\n",
    "                             y=tempdf['net worth'],\n",
    "                             mode='lines',\n",
    "                             name='Net Worth (INR)'),\n",
    "                  row=2, col=1)\n",
    "    \n",
    "    fig.add_hline(y=10000,\n",
    "                  name='Initial Balance',\n",
    "                  line=dict(color='firebrick', width=1, dash='dot'),\n",
    "                  row=2, col=1)\n",
    "\n",
    "    fig.update_layout(##title='Historical stock price chart',\n",
    "                      xaxis_tickfont_size=12,\n",
    "                      yaxis=dict(title='Price (INR/share)',\n",
    "                                 titlefont_size=14,\n",
    "                                 tickfont_size=10),\n",
    "                      xaxis_rangeslider_visible=False,\n",
    "                      width=1000,height=600, margin=dict(l=50, r=50, b=100, t=100, pad=4),\n",
    "                      template='none')\n",
    "\n",
    "    fig.show()"
   ]
  },
  {
   "cell_type": "code",
   "execution_count": 22,
   "id": "4cc70d1f",
   "metadata": {},
   "outputs": [
    {
     "data": {
      "application/vnd.plotly.v1+json": {
       "config": {
        "plotlyServerURL": "https://plot.ly"
       },
       "data": [
        {
         "marker": {
          "color": [
           "blue",
           "blue",
           "blue",
           "blue",
           "blue",
           "blue",
           "green",
           "blue",
           "blue",
           "blue",
           "blue",
           "blue",
           "green",
           "blue",
           "blue",
           "blue",
           "blue",
           "blue",
           "blue",
           "blue",
           "red",
           "blue",
           "blue",
           "blue",
           "blue",
           "blue",
           "blue",
           "green",
           "green",
           "blue",
           "blue",
           "green",
           "blue",
           "blue",
           "blue",
           "blue",
           "blue",
           "blue",
           "blue",
           "blue",
           "green",
           "blue",
           "blue",
           "blue",
           "blue",
           "blue",
           "blue",
           "blue",
           "blue",
           "blue",
           "blue",
           "blue",
           "blue",
           "blue",
           "blue",
           "blue",
           "blue",
           "blue",
           "blue",
           "blue",
           "blue",
           "blue",
           "blue",
           "blue",
           "blue",
           "blue",
           "blue",
           "blue",
           "blue",
           "blue",
           "blue",
           "blue",
           "blue",
           "blue",
           "blue",
           "blue",
           "blue",
           "blue",
           "blue",
           "blue",
           "blue",
           "blue",
           "blue",
           "red",
           "blue",
           "blue",
           "blue",
           "blue",
           "blue",
           "red",
           "blue",
           "blue",
           "blue",
           "blue",
           "blue",
           "blue",
           "blue",
           "blue",
           "blue",
           "blue",
           "blue",
           "blue",
           "blue",
           "blue",
           "blue",
           "blue",
           "blue",
           "blue",
           "blue",
           "blue",
           "blue",
           "blue",
           "blue",
           "blue",
           "blue",
           "blue",
           "blue",
           "blue",
           "blue",
           "blue",
           "blue",
           "blue",
           "blue",
           "green",
           "red",
           "blue",
           "blue",
           "blue",
           "green",
           "blue",
           "blue",
           "blue",
           "blue",
           "blue",
           "blue",
           "blue",
           "blue",
           "blue",
           "blue",
           "blue",
           "blue",
           "blue",
           "blue",
           "blue",
           "blue",
           "blue",
           "blue",
           "blue",
           "blue",
           "green",
           "blue",
           "blue",
           "blue",
           "blue",
           "blue",
           "blue",
           "blue",
           "blue",
           "blue",
           "blue",
           "green",
           "blue",
           "blue",
           "red",
           "blue",
           "blue",
           "blue",
           "blue",
           "blue",
           "blue",
           "blue",
           "blue",
           "blue",
           "blue",
           "blue",
           "blue",
           "blue",
           "blue",
           "blue",
           "blue",
           "blue",
           "blue",
           "blue"
          ],
          "size": 15,
          "symbol": [
           "cross-thin",
           "cross-thin",
           "cross-thin",
           "cross-thin",
           "cross-thin",
           "cross-thin",
           "triangle-up",
           "cross-thin",
           "cross-thin",
           "cross-thin",
           "cross-thin",
           "cross-thin",
           "triangle-up",
           "cross-thin",
           "cross-thin",
           "cross-thin",
           "cross-thin",
           "cross-thin",
           "cross-thin",
           "cross-thin",
           "triangle-down",
           "cross-thin",
           "cross-thin",
           "cross-thin",
           "cross-thin",
           "cross-thin",
           "cross-thin",
           "triangle-up",
           "triangle-up",
           "cross-thin",
           "cross-thin",
           "triangle-up",
           "cross-thin",
           "cross-thin",
           "cross-thin",
           "cross-thin",
           "cross-thin",
           "cross-thin",
           "cross-thin",
           "cross-thin",
           "triangle-up",
           "cross-thin",
           "cross-thin",
           "cross-thin",
           "cross-thin",
           "cross-thin",
           "cross-thin",
           "cross-thin",
           "cross-thin",
           "cross-thin",
           "cross-thin",
           "cross-thin",
           "cross-thin",
           "cross-thin",
           "cross-thin",
           "cross-thin",
           "cross-thin",
           "cross-thin",
           "cross-thin",
           "cross-thin",
           "cross-thin",
           "cross-thin",
           "cross-thin",
           "cross-thin",
           "cross-thin",
           "cross-thin",
           "cross-thin",
           "cross-thin",
           "cross-thin",
           "cross-thin",
           "cross-thin",
           "cross-thin",
           "cross-thin",
           "cross-thin",
           "cross-thin",
           "cross-thin",
           "cross-thin",
           "cross-thin",
           "cross-thin",
           "cross-thin",
           "cross-thin",
           "cross-thin",
           "cross-thin",
           "triangle-down",
           "cross-thin",
           "cross-thin",
           "cross-thin",
           "cross-thin",
           "cross-thin",
           "triangle-down",
           "cross-thin",
           "cross-thin",
           "cross-thin",
           "cross-thin",
           "cross-thin",
           "cross-thin",
           "cross-thin",
           "cross-thin",
           "cross-thin",
           "cross-thin",
           "cross-thin",
           "cross-thin",
           "cross-thin",
           "cross-thin",
           "cross-thin",
           "cross-thin",
           "cross-thin",
           "cross-thin",
           "cross-thin",
           "cross-thin",
           "cross-thin",
           "cross-thin",
           "cross-thin",
           "cross-thin",
           "cross-thin",
           "cross-thin",
           "cross-thin",
           "cross-thin",
           "cross-thin",
           "cross-thin",
           "cross-thin",
           "cross-thin",
           "cross-thin",
           "triangle-up",
           "triangle-down",
           "cross-thin",
           "cross-thin",
           "cross-thin",
           "triangle-up",
           "cross-thin",
           "cross-thin",
           "cross-thin",
           "cross-thin",
           "cross-thin",
           "cross-thin",
           "cross-thin",
           "cross-thin",
           "cross-thin",
           "cross-thin",
           "cross-thin",
           "cross-thin",
           "cross-thin",
           "cross-thin",
           "cross-thin",
           "cross-thin",
           "cross-thin",
           "cross-thin",
           "cross-thin",
           "cross-thin",
           "triangle-up",
           "cross-thin",
           "cross-thin",
           "cross-thin",
           "cross-thin",
           "cross-thin",
           "cross-thin",
           "cross-thin",
           "cross-thin",
           "cross-thin",
           "cross-thin",
           "triangle-up",
           "cross-thin",
           "cross-thin",
           "triangle-down",
           "cross-thin",
           "cross-thin",
           "cross-thin",
           "cross-thin",
           "cross-thin",
           "cross-thin",
           "cross-thin",
           "cross-thin",
           "cross-thin",
           "cross-thin",
           "cross-thin",
           "cross-thin",
           "cross-thin",
           "cross-thin",
           "cross-thin",
           "cross-thin",
           "cross-thin",
           "cross-thin",
           "cross-thin"
          ]
         },
         "mode": "markers",
         "name": "Buy/Sell/Hold",
         "type": "scatter",
         "x": [
          "2019-02-19T00:00:00",
          "2019-02-20T00:00:00",
          "2019-02-21T00:00:00",
          "2019-02-22T00:00:00",
          "2019-02-25T00:00:00",
          "2019-02-26T00:00:00",
          "2019-02-27T00:00:00",
          "2019-02-28T00:00:00",
          "2019-03-01T00:00:00",
          "2019-03-05T00:00:00",
          "2019-03-06T00:00:00",
          "2019-03-07T00:00:00",
          "2019-03-08T00:00:00",
          "2019-03-11T00:00:00",
          "2019-03-12T00:00:00",
          "2019-03-13T00:00:00",
          "2019-03-14T00:00:00",
          "2019-03-15T00:00:00",
          "2019-03-19T00:00:00",
          "2019-03-20T00:00:00",
          "2019-03-22T00:00:00",
          "2019-03-25T00:00:00",
          "2019-03-27T00:00:00",
          "2019-03-28T00:00:00",
          "2019-04-01T00:00:00",
          "2019-04-02T00:00:00",
          "2019-04-03T00:00:00",
          "2019-04-04T00:00:00",
          "2019-04-05T00:00:00",
          "2019-04-08T00:00:00",
          "2019-04-09T00:00:00",
          "2019-04-10T00:00:00",
          "2019-04-11T00:00:00",
          "2019-04-12T00:00:00",
          "2019-04-15T00:00:00",
          "2019-04-16T00:00:00",
          "2019-04-18T00:00:00",
          "2019-04-22T00:00:00",
          "2019-04-23T00:00:00",
          "2019-04-24T00:00:00",
          "2019-04-25T00:00:00",
          "2019-04-26T00:00:00",
          "2019-04-30T00:00:00",
          "2019-05-02T00:00:00",
          "2019-05-03T00:00:00",
          "2019-05-08T00:00:00",
          "2019-05-09T00:00:00",
          "2019-05-10T00:00:00",
          "2019-05-13T00:00:00",
          "2019-05-14T00:00:00",
          "2019-05-16T00:00:00",
          "2019-05-17T00:00:00",
          "2019-05-20T00:00:00",
          "2019-05-22T00:00:00",
          "2019-05-23T00:00:00",
          "2019-05-24T00:00:00",
          "2019-05-27T00:00:00",
          "2019-05-28T00:00:00",
          "2019-05-29T00:00:00",
          "2019-05-30T00:00:00",
          "2019-05-31T00:00:00",
          "2019-06-03T00:00:00",
          "2019-06-04T00:00:00",
          "2019-06-06T00:00:00",
          "2019-06-10T00:00:00",
          "2019-06-11T00:00:00",
          "2019-06-12T00:00:00",
          "2019-06-13T00:00:00",
          "2019-06-14T00:00:00",
          "2019-06-17T00:00:00",
          "2019-06-18T00:00:00",
          "2019-06-19T00:00:00",
          "2019-06-21T00:00:00",
          "2019-06-24T00:00:00",
          "2019-06-25T00:00:00",
          "2019-06-26T00:00:00",
          "2019-06-27T00:00:00",
          "2019-06-28T00:00:00",
          "2019-07-01T00:00:00",
          "2019-07-02T00:00:00",
          "2019-07-03T00:00:00",
          "2019-07-04T00:00:00",
          "2019-07-05T00:00:00",
          "2019-07-08T00:00:00",
          "2019-07-09T00:00:00",
          "2019-07-10T00:00:00",
          "2019-07-11T00:00:00",
          "2019-07-12T00:00:00",
          "2019-07-15T00:00:00",
          "2019-07-16T00:00:00",
          "2019-07-17T00:00:00",
          "2019-07-18T00:00:00",
          "2019-07-19T00:00:00",
          "2019-07-22T00:00:00",
          "2019-07-23T00:00:00",
          "2019-07-24T00:00:00",
          "2019-07-25T00:00:00",
          "2019-07-26T00:00:00",
          "2019-07-29T00:00:00",
          "2019-07-30T00:00:00",
          "2019-07-31T00:00:00",
          "2019-08-01T00:00:00",
          "2019-08-02T00:00:00",
          "2019-08-05T00:00:00",
          "2019-08-06T00:00:00",
          "2019-08-07T00:00:00",
          "2019-08-08T00:00:00",
          "2019-08-09T00:00:00",
          "2019-08-13T00:00:00",
          "2019-08-14T00:00:00",
          "2019-08-16T00:00:00",
          "2019-08-19T00:00:00",
          "2019-08-21T00:00:00",
          "2019-08-22T00:00:00",
          "2019-08-23T00:00:00",
          "2019-08-26T00:00:00",
          "2019-08-27T00:00:00",
          "2019-08-28T00:00:00",
          "2019-08-29T00:00:00",
          "2019-08-30T00:00:00",
          "2019-09-03T00:00:00",
          "2019-09-04T00:00:00",
          "2019-09-05T00:00:00",
          "2019-09-06T00:00:00",
          "2019-09-09T00:00:00",
          "2019-09-12T00:00:00",
          "2019-09-13T00:00:00",
          "2019-09-16T00:00:00",
          "2019-09-17T00:00:00",
          "2019-09-18T00:00:00",
          "2019-09-19T00:00:00",
          "2019-09-20T00:00:00",
          "2019-09-23T00:00:00",
          "2019-09-25T00:00:00",
          "2019-09-26T00:00:00",
          "2019-09-27T00:00:00",
          "2019-09-30T00:00:00",
          "2019-10-01T00:00:00",
          "2019-10-03T00:00:00",
          "2019-10-04T00:00:00",
          "2019-10-09T00:00:00",
          "2019-10-10T00:00:00",
          "2019-10-11T00:00:00",
          "2019-10-14T00:00:00",
          "2019-10-16T00:00:00",
          "2019-10-17T00:00:00",
          "2019-10-18T00:00:00",
          "2019-10-24T00:00:00",
          "2019-10-29T00:00:00",
          "2019-10-30T00:00:00",
          "2019-10-31T00:00:00",
          "2019-11-01T00:00:00",
          "2019-11-04T00:00:00",
          "2019-11-05T00:00:00",
          "2019-11-06T00:00:00",
          "2019-11-07T00:00:00",
          "2019-11-08T00:00:00",
          "2019-11-11T00:00:00",
          "2019-11-13T00:00:00",
          "2019-11-14T00:00:00",
          "2019-11-15T00:00:00",
          "2019-11-18T00:00:00",
          "2019-11-19T00:00:00",
          "2019-11-20T00:00:00",
          "2019-11-21T00:00:00",
          "2019-11-22T00:00:00",
          "2019-11-25T00:00:00",
          "2019-11-26T00:00:00",
          "2019-11-27T00:00:00",
          "2019-11-28T00:00:00",
          "2019-11-29T00:00:00",
          "2019-12-02T00:00:00",
          "2019-12-03T00:00:00",
          "2019-12-04T00:00:00",
          "2019-12-05T00:00:00",
          "2019-12-06T00:00:00",
          "2019-12-09T00:00:00",
          "2019-12-10T00:00:00",
          "2019-12-11T00:00:00",
          "2019-12-12T00:00:00",
          "2019-12-16T00:00:00",
          "2019-12-17T00:00:00",
          "2019-12-18T00:00:00"
         ],
         "xaxis": "x",
         "y": [
          489.6000061035156,
          496.2000122070313,
          508.3499755859375,
          503.5,
          513.75,
          517.25,
          527.5,
          529.5999755859375,
          532,
          546.4000244140625,
          547.0999755859375,
          553.4000244140625,
          552,
          548.0999755859375,
          558.0999755859375,
          570.5499877929688,
          570,
          559,
          563,
          560.9500122070312,
          590.25,
          544,
          550.9000244140625,
          555.4500122070312,
          584.9500122070312,
          586.0499877929688,
          592,
          590.0999755859375,
          600.8499755859375,
          595.75,
          593.2000122070312,
          592.25,
          589.75,
          593.9500122070312,
          608.8499755859375,
          610.6500244140625,
          604.9500122070312,
          606.2999877929688,
          606,
          605.0499877929688,
          606.0499877929688,
          587,
          571,
          582,
          590.3499755859375,
          543.2000122070312,
          550,
          533.1500244140625,
          561.2999877929688,
          563,
          578.5999755859375,
          580.2999877929688,
          586.5999755859375,
          594,
          597.6500244140625,
          585.2000122070312,
          590.25,
          611.5,
          623.9500122070312,
          621.9500122070312,
          623.2000122070312,
          627,
          629.75,
          608.7999877929688,
          600.2000122070312,
          604.0999755859375,
          598.0999755859375,
          590.1500244140625,
          592.0999755859375,
          574,
          566.0499877929688,
          558.25,
          550.9000244140625,
          549.0999755859375,
          553.0499877929688,
          564.5,
          567.1500244140625,
          569,
          567,
          562.8499755859375,
          564.5499877929688,
          566.2999877929688,
          548.4500122070312,
          579.5999755859375,
          545.2000122070312,
          544.3499755859375,
          538.7000122070312,
          549.2000122070312,
          546.0999755859375,
          583,
          542,
          519.6500244140625,
          512.5999755859375,
          507,
          490,
          450.5,
          441.25,
          454.5,
          457.3999938964844,
          456.6000061035156,
          440,
          449.1499938964844,
          449.5,
          443.2999877929688,
          441.0499877929688,
          460.1499938964844,
          458.2000122070313,
          461.75,
          451.5499877929688,
          458.5,
          463.3500061035156,
          472.6499938964844,
          465,
          457,
          451.75,
          456.0499877929688,
          470.0499877929688,
          458.1000061035156,
          454.3500061035156,
          459.9500122070313,
          450.5,
          433,
          445,
          470.1000061035156,
          507.9500122070313,
          482.5,
          490,
          498.1000061035156,
          512.5,
          519.25,
          518.2000122070312,
          515.2000122070312,
          555.0499877929688,
          555.75,
          554,
          540.0999755859375,
          535.0999755859375,
          536,
          536.4000244140625,
          548.4000244140625,
          545,
          531.5,
          546.0499877929688,
          549,
          545.25,
          535.0999755859375,
          527.5499877929688,
          531.75,
          541.5499877929688,
          537,
          538.9500122070312,
          543.4000244140625,
          540,
          526.0499877929688,
          513.5499877929688,
          515,
          515.0999755859375,
          517.4000244140625,
          508.25,
          498.0499877929688,
          503.6500244140625,
          502.0999755859375,
          502.04998779296875,
          537.7999877929688,
          504.0999755859375,
          502,
          508,
          497.1000061035156,
          503,
          506.95001220703125,
          508.0999755859375,
          508.0999755859375,
          500.1000061035156,
          502.29998779296875,
          504.8499755859375,
          505,
          503,
          505.0999755859375,
          510,
          515,
          507.79998779296875,
          505.20001220703125,
          498
         ],
         "yaxis": "y"
        },
        {
         "close": [
          508.5499877929688,
          520.5,
          521.9000244140625,
          516.3499755859375,
          536.3499755859375,
          538.8499755859375,
          539,
          541.9500122070312,
          555.9500122070312,
          562.1500244140625,
          561.9000244140625,
          567.2999877929688,
          566.0999755859375,
          565.8499755859375,
          589.2000122070312,
          585.3499755859375,
          584.5499877929688,
          570.8499755859375,
          581.4500122070312,
          573.5,
          572.6500244140625,
          556.7000122070312,
          569.7999877929688,
          576.7000122070312,
          600.7000122070312,
          604.4000244140625,
          608.8499755859375,
          611,
          619.9500122070312,
          609.4000244140625,
          608.2000122070312,
          605.9500122070312,
          605.5,
          622,
          625.1500244140625,
          624.9500122070312,
          624.2999877929688,
          620.25,
          617.2999877929688,
          622.1500244140625,
          619.2999877929688,
          599.0999755859375,
          595.0499877929688,
          608.5499877929688,
          602.7000122070312,
          570.2000122070312,
          562.8499755859375,
          583.4000244140625,
          579.9500122070312,
          585.9000244140625,
          592.9000244140625,
          594.75,
          612.0999755859375,
          609.6500244140625,
          615.7999877929688,
          600.9000244140625,
          627.7000122070312,
          643.0499877929688,
          637.5499877929688,
          640.5999755859375,
          636.0999755859375,
          641.4000244140625,
          641.75,
          628.6500244140625,
          622.0999755859375,
          619.4500122070312,
          610.2999877929688,
          609.75,
          610.4500122070312,
          587.7000122070312,
          579.25,
          576.8499755859375,
          563,
          574.0999755859375,
          574.7999877929688,
          581.5999755859375,
          583.8499755859375,
          581.8499755859375,
          578.6500244140625,
          588.5,
          576.9500122070312,
          584.3499755859375,
          561.5499877929688,
          561.0999755859375,
          566.25,
          555.7999877929688,
          559.8499755859375,
          566,
          559.0999755859375,
          571.0499877929688,
          556.9000244140625,
          536.9500122070312,
          529.0499877929688,
          522.5499877929688,
          510.6000061035156,
          468.2999877929688,
          476.1000061035156,
          479.75,
          476.75,
          467.9500122070313,
          474,
          466.1000061035156,
          467.5,
          456.5,
          469.6000061035156,
          478.6499938964844,
          478.6000061035156,
          476.8500061035156,
          471.2000122070313,
          484.4500122070313,
          481.75,
          500.0499877929688,
          479.3500061035156,
          471.8999938964844,
          466.2999877929688,
          488.0499877929688,
          481.2000122070313,
          472.0499877929688,
          469.9500122070313,
          474.1000061035156,
          463.5499877929688,
          456.7000122070313,
          484.3999938964844,
          489.3999938964844,
          495.5,
          498.4500122070313,
          516.0999755859375,
          525.6500244140625,
          530.5,
          534.7000122070312,
          535.4500122070312,
          583.25,
          587.9500122070312,
          568,
          571.5499877929688,
          556.9500122070312,
          549.1500244140625,
          556.1500244140625,
          561.5499877929688,
          560.6500244140625,
          561.3499755859375,
          561.5,
          564.7999877929688,
          561.3499755859375,
          559.5,
          554.0999755859375,
          552.5,
          548.0999755859375,
          554.5999755859375,
          549.2999877929688,
          558.2999877929688,
          565.8499755859375,
          554.7000122070312,
          539.25,
          530,
          530,
          532,
          531.3499755859375,
          520.1500244140625,
          524.4000244140625,
          518.25,
          514.8499755859375,
          521.7000122070312,
          525.4500122070312,
          520.0999755859375,
          520.2999877929688,
          524.9000244140625,
          516.2999877929688,
          516.75,
          521,
          536.0499877929688,
          522.0499877929688,
          513.4000244140625,
          515.1500244140625,
          516.5999755859375,
          517.5,
          518,
          520.7999877929688,
          529.4500122070312,
          534.4000244140625,
          519.8499755859375,
          519.7000122070312,
          514.9000244140625
         ],
         "high": [
          514.3499755859375,
          524.5,
          526.9000244140625,
          528,
          542.5,
          540.9000244140625,
          549.8499755859375,
          549.7999877929688,
          561.6500244140625,
          564.3499755859375,
          565.5,
          578,
          569,
          571.75,
          596.5,
          597.0999755859375,
          593.4500122070312,
          587.5,
          584.9000244140625,
          582.8499755859375,
          580.25,
          569.0999755859375,
          585,
          579,
          608.7000122070312,
          606.9000244140625,
          613.25,
          615,
          625.5,
          627.9000244140625,
          612.5,
          612.2000122070312,
          615.2999877929688,
          624.9000244140625,
          628.4000244140625,
          635,
          627.7000122070312,
          629.5499877929688,
          623.4000244140625,
          625,
          627.9500122070312,
          618.2000122070312,
          598.7000122070312,
          616.4500122070312,
          618.7999877929688,
          572.9000244140625,
          569.9000244140625,
          591,
          592.2999877929688,
          588.6500244140625,
          596.4000244140625,
          600.7000122070312,
          620,
          621.7000122070312,
          621.5,
          619,
          630.8499755859375,
          649.6500244140625,
          647.7000122070312,
          644.75,
          645.75,
          644,
          648.5999755859375,
          643.9000244140625,
          624.5,
          623.1500244140625,
          620.8499755859375,
          616.1500244140625,
          619.9500122070312,
          614.25,
          593,
          585,
          600,
          575.8499755859375,
          577.6500244140625,
          589,
          591,
          592.8499755859375,
          586.75,
          599.5999755859375,
          592.9000244140625,
          587,
          595.75,
          569.5999755859375,
          568.9000244140625,
          572.0499877929688,
          562.5,
          573.4000244140625,
          571.9500122070312,
          573,
          582.9000244140625,
          555.1500244140625,
          539.7999877929688,
          539,
          522.2999877929688,
          511.5,
          484,
          483.5499877929688,
          484,
          481,
          476.9500122070313,
          474.8500061035156,
          469.75,
          466.75,
          472.4500122070313,
          492.2000122070313,
          484.6000061035156,
          485.25,
          480.7999877929688,
          486.7000122070313,
          487,
          505,
          492,
          479.0499877929688,
          470.5499877929688,
          494,
          499.7999877929688,
          487.7000122070313,
          474.3500061035156,
          483.6499938964844,
          472.7999877929688,
          462,
          488.8999938964844,
          491.7000122070313,
          497.9500122070313,
          503.7999877929688,
          519,
          530,
          537.5499877929688,
          542,
          538.2000122070312,
          590.7999877929688,
          598.7000122070312,
          589.7000122070312,
          581,
          576,
          576.9500122070312,
          570,
          580,
          571.7999877929688,
          565.8499755859375,
          578,
          569.5,
          569,
          564.25,
          559.9500122070312,
          567,
          567,
          561.75,
          556,
          560,
          574.6500244140625,
          573.5999755859375,
          558.75,
          542.5999755859375,
          539,
          536.9000244140625,
          534,
          529.75,
          533.4000244140625,
          527.5999755859375,
          524.4000244140625,
          524.4000244140625,
          527.7999877929688,
          523.5999755859375,
          522.5999755859375,
          530.9500122070312,
          530,
          524.7999877929688,
          524.9000244140625,
          543.9000244140625,
          534.7000122070312,
          522.5,
          523.9500122070312,
          521.5499877929688,
          520,
          518.9000244140625,
          531.25,
          532.8499755859375,
          536.9000244140625,
          539,
          526.9500122070312,
          523.4500122070312
         ],
         "low": [
          499.6000061035156,
          506.2000122070313,
          518.3499755859375,
          513.5,
          523.75,
          527.25,
          537.5,
          539.5999755859375,
          542,
          556.4000244140625,
          557.0999755859375,
          563.4000244140625,
          562,
          558.0999755859375,
          568.0999755859375,
          580.5499877929688,
          580,
          569,
          573,
          570.9500122070312,
          570,
          554,
          560.9000244140625,
          565.4500122070312,
          594.9500122070312,
          596.0499877929688,
          602,
          600.0999755859375,
          610.8499755859375,
          605.75,
          603.2000122070312,
          602.25,
          599.75,
          603.9500122070312,
          618.8499755859375,
          620.6500244140625,
          614.9500122070312,
          616.2999877929688,
          616,
          615.0499877929688,
          616.0499877929688,
          597,
          581,
          592,
          600.3499755859375,
          553.2000122070312,
          560,
          543.1500244140625,
          571.2999877929688,
          573,
          588.5999755859375,
          590.2999877929688,
          596.5999755859375,
          604,
          607.6500244140625,
          595.2000122070312,
          600.25,
          621.5,
          633.9500122070312,
          631.9500122070312,
          633.2000122070312,
          637,
          639.75,
          618.7999877929688,
          610.2000122070312,
          614.0999755859375,
          608.0999755859375,
          600.1500244140625,
          602.0999755859375,
          584,
          576.0499877929688,
          568.25,
          560.9000244140625,
          559.0999755859375,
          563.0499877929688,
          574.5,
          577.1500244140625,
          579,
          577,
          572.8499755859375,
          574.5499877929688,
          576.2999877929688,
          558.4500122070312,
          551.2000122070312,
          555.2000122070312,
          554.3499755859375,
          548.7000122070312,
          559.2000122070312,
          556.0999755859375,
          554,
          552,
          529.6500244140625,
          522.5999755859375,
          517,
          500,
          460.5,
          451.25,
          464.5,
          467.3999938964844,
          466.6000061035156,
          450,
          459.1499938964844,
          459.5,
          453.2999877929688,
          451.0499877929688,
          470.1499938964844,
          468.2000122070313,
          471.75,
          461.5499877929688,
          468.5,
          473.3500061035156,
          482.6499938964844,
          475,
          467,
          461.75,
          466.0499877929688,
          480.0499877929688,
          468.1000061035156,
          464.3500061035156,
          469.9500122070313,
          460.5,
          443,
          455,
          480.1000061035156,
          477.6499938964844,
          492.5,
          500,
          508.1000061035156,
          522.5,
          529.25,
          528.2000122070312,
          525.2000122070312,
          565.0499877929688,
          565.75,
          564,
          550.0999755859375,
          545.0999755859375,
          546,
          546.4000244140625,
          558.4000244140625,
          555,
          541.5,
          556.0499877929688,
          559,
          555.25,
          545.0999755859375,
          537.5499877929688,
          541.75,
          551.5499877929688,
          547,
          548.9500122070312,
          553.4000244140625,
          550,
          536.0499877929688,
          523.5499877929688,
          525,
          525.0999755859375,
          527.4000244140625,
          518.25,
          508.0499877929688,
          513.6500244140625,
          512.0999755859375,
          512.0499877929688,
          512.6500244140625,
          514.0999755859375,
          512,
          518,
          507.1000061035156,
          513,
          516.9500122070312,
          518.0999755859375,
          518.0999755859375,
          510.1000061035156,
          512.2999877929688,
          514.8499755859375,
          515,
          513,
          515.0999755859375,
          520,
          525,
          517.7999877929688,
          515.2000122070312,
          508
         ],
         "name": "OHLC",
         "open": [
          504,
          506.2000122070313,
          523.9000244140625,
          524,
          523.9000244140625,
          535.75,
          539.7999877929688,
          543.3499755859375,
          543.8499755859375,
          559.9500122070312,
          564.7999877929688,
          566,
          568.4000244140625,
          569.5,
          570,
          590.0999755859375,
          587.0999755859375,
          587.5,
          578,
          581,
          571.9000244140625,
          569,
          562,
          571,
          595.9000244140625,
          604.5999755859375,
          607,
          606,
          611.9000244140625,
          619.9500122070312,
          610.0999755859375,
          606.9000244140625,
          602.5499877929688,
          603.9500122070312,
          623,
          627.2000122070312,
          615.2000122070312,
          620,
          616.0499877929688,
          615.0499877929688,
          623.7999877929688,
          618.0999755859375,
          598,
          592,
          610.0499877929688,
          553.2000122070312,
          567.2999877929688,
          563,
          575,
          575,
          594.2999877929688,
          593,
          603,
          620,
          611.0499877929688,
          616.0499877929688,
          600.25,
          632,
          643,
          637.5,
          643,
          640,
          645.5,
          642.5,
          610.75,
          622.0999755859375,
          615.9000244140625,
          610.0999755859375,
          602.0999755859375,
          614.25,
          586.0499877929688,
          583,
          600,
          563,
          575.7999877929688,
          574.9000244140625,
          585.2999877929688,
          585,
          585.9500122070312,
          581.5,
          589.9000244140625,
          577.5,
          585,
          560.5499877929688,
          562,
          566,
          557.7000122070312,
          559.7999877929688,
          568.7999877929688,
          562.1500244140625,
          573.0499877929688,
          550,
          536.9000244140625,
          522.5,
          520,
          511.5,
          468.2999877929688,
          480,
          479.75,
          477,
          465,
          469.7000122070313,
          465.8500061035156,
          465,
          456.8999938964844,
          470.6499938964844,
          481.0499877929688,
          478,
          474.5,
          471.8500061035156,
          483.75,
          483.8500061035156,
          489.3999938964844,
          476,
          469,
          468,
          489,
          481.5499877929688,
          470,
          469.9500122070313,
          470.8999938964844,
          460.5499877929688,
          456.7000122070313,
          486.7999877929688,
          489.7000122070313,
          495.9500122070313,
          500.8999938964844,
          518,
          524.9500122070312,
          532,
          535.5499877929688,
          534.0499877929688,
          584,
          584.9500122070312,
          564,
          566,
          560.4500122070312,
          557.7000122070312,
          558.2999877929688,
          561.5999755859375,
          558,
          560.6500244140625,
          561.6500244140625,
          564,
          561,
          559.5,
          555.0999755859375,
          567,
          555.75,
          552,
          550,
          557,
          568.25,
          555,
          541.9000244140625,
          538,
          532.5499877929688,
          531.75,
          529.2000122070312,
          520,
          527.5999755859375,
          524.4000244140625,
          512.0499877929688,
          520,
          521,
          518,
          522.5,
          521.5499877929688,
          516,
          516.9500122070312,
          521,
          533,
          520,
          512.2999877929688,
          515.1500244140625,
          517.2999877929688,
          515,
          518,
          520,
          525,
          538.9000244140625,
          520,
          520.5499877929688
         ],
         "type": "candlestick",
         "x": [
          "2019-02-19T00:00:00",
          "2019-02-20T00:00:00",
          "2019-02-21T00:00:00",
          "2019-02-22T00:00:00",
          "2019-02-25T00:00:00",
          "2019-02-26T00:00:00",
          "2019-02-27T00:00:00",
          "2019-02-28T00:00:00",
          "2019-03-01T00:00:00",
          "2019-03-05T00:00:00",
          "2019-03-06T00:00:00",
          "2019-03-07T00:00:00",
          "2019-03-08T00:00:00",
          "2019-03-11T00:00:00",
          "2019-03-12T00:00:00",
          "2019-03-13T00:00:00",
          "2019-03-14T00:00:00",
          "2019-03-15T00:00:00",
          "2019-03-19T00:00:00",
          "2019-03-20T00:00:00",
          "2019-03-22T00:00:00",
          "2019-03-25T00:00:00",
          "2019-03-27T00:00:00",
          "2019-03-28T00:00:00",
          "2019-04-01T00:00:00",
          "2019-04-02T00:00:00",
          "2019-04-03T00:00:00",
          "2019-04-04T00:00:00",
          "2019-04-05T00:00:00",
          "2019-04-08T00:00:00",
          "2019-04-09T00:00:00",
          "2019-04-10T00:00:00",
          "2019-04-11T00:00:00",
          "2019-04-12T00:00:00",
          "2019-04-15T00:00:00",
          "2019-04-16T00:00:00",
          "2019-04-18T00:00:00",
          "2019-04-22T00:00:00",
          "2019-04-23T00:00:00",
          "2019-04-24T00:00:00",
          "2019-04-25T00:00:00",
          "2019-04-26T00:00:00",
          "2019-04-30T00:00:00",
          "2019-05-02T00:00:00",
          "2019-05-03T00:00:00",
          "2019-05-08T00:00:00",
          "2019-05-09T00:00:00",
          "2019-05-10T00:00:00",
          "2019-05-13T00:00:00",
          "2019-05-14T00:00:00",
          "2019-05-16T00:00:00",
          "2019-05-17T00:00:00",
          "2019-05-20T00:00:00",
          "2019-05-22T00:00:00",
          "2019-05-23T00:00:00",
          "2019-05-24T00:00:00",
          "2019-05-27T00:00:00",
          "2019-05-28T00:00:00",
          "2019-05-29T00:00:00",
          "2019-05-30T00:00:00",
          "2019-05-31T00:00:00",
          "2019-06-03T00:00:00",
          "2019-06-04T00:00:00",
          "2019-06-06T00:00:00",
          "2019-06-10T00:00:00",
          "2019-06-11T00:00:00",
          "2019-06-12T00:00:00",
          "2019-06-13T00:00:00",
          "2019-06-14T00:00:00",
          "2019-06-17T00:00:00",
          "2019-06-18T00:00:00",
          "2019-06-19T00:00:00",
          "2019-06-21T00:00:00",
          "2019-06-24T00:00:00",
          "2019-06-25T00:00:00",
          "2019-06-26T00:00:00",
          "2019-06-27T00:00:00",
          "2019-06-28T00:00:00",
          "2019-07-01T00:00:00",
          "2019-07-02T00:00:00",
          "2019-07-03T00:00:00",
          "2019-07-04T00:00:00",
          "2019-07-05T00:00:00",
          "2019-07-08T00:00:00",
          "2019-07-09T00:00:00",
          "2019-07-10T00:00:00",
          "2019-07-11T00:00:00",
          "2019-07-12T00:00:00",
          "2019-07-15T00:00:00",
          "2019-07-16T00:00:00",
          "2019-07-17T00:00:00",
          "2019-07-18T00:00:00",
          "2019-07-19T00:00:00",
          "2019-07-22T00:00:00",
          "2019-07-23T00:00:00",
          "2019-07-24T00:00:00",
          "2019-07-25T00:00:00",
          "2019-07-26T00:00:00",
          "2019-07-29T00:00:00",
          "2019-07-30T00:00:00",
          "2019-07-31T00:00:00",
          "2019-08-01T00:00:00",
          "2019-08-02T00:00:00",
          "2019-08-05T00:00:00",
          "2019-08-06T00:00:00",
          "2019-08-07T00:00:00",
          "2019-08-08T00:00:00",
          "2019-08-09T00:00:00",
          "2019-08-13T00:00:00",
          "2019-08-14T00:00:00",
          "2019-08-16T00:00:00",
          "2019-08-19T00:00:00",
          "2019-08-21T00:00:00",
          "2019-08-22T00:00:00",
          "2019-08-23T00:00:00",
          "2019-08-26T00:00:00",
          "2019-08-27T00:00:00",
          "2019-08-28T00:00:00",
          "2019-08-29T00:00:00",
          "2019-08-30T00:00:00",
          "2019-09-03T00:00:00",
          "2019-09-04T00:00:00",
          "2019-09-05T00:00:00",
          "2019-09-06T00:00:00",
          "2019-09-09T00:00:00",
          "2019-09-12T00:00:00",
          "2019-09-13T00:00:00",
          "2019-09-16T00:00:00",
          "2019-09-17T00:00:00",
          "2019-09-18T00:00:00",
          "2019-09-19T00:00:00",
          "2019-09-20T00:00:00",
          "2019-09-23T00:00:00",
          "2019-09-25T00:00:00",
          "2019-09-26T00:00:00",
          "2019-09-27T00:00:00",
          "2019-09-30T00:00:00",
          "2019-10-01T00:00:00",
          "2019-10-03T00:00:00",
          "2019-10-04T00:00:00",
          "2019-10-09T00:00:00",
          "2019-10-10T00:00:00",
          "2019-10-11T00:00:00",
          "2019-10-14T00:00:00",
          "2019-10-16T00:00:00",
          "2019-10-17T00:00:00",
          "2019-10-18T00:00:00",
          "2019-10-24T00:00:00",
          "2019-10-29T00:00:00",
          "2019-10-30T00:00:00",
          "2019-10-31T00:00:00",
          "2019-11-01T00:00:00",
          "2019-11-04T00:00:00",
          "2019-11-05T00:00:00",
          "2019-11-06T00:00:00",
          "2019-11-07T00:00:00",
          "2019-11-08T00:00:00",
          "2019-11-11T00:00:00",
          "2019-11-13T00:00:00",
          "2019-11-14T00:00:00",
          "2019-11-15T00:00:00",
          "2019-11-18T00:00:00",
          "2019-11-19T00:00:00",
          "2019-11-20T00:00:00",
          "2019-11-21T00:00:00",
          "2019-11-22T00:00:00",
          "2019-11-25T00:00:00",
          "2019-11-26T00:00:00",
          "2019-11-27T00:00:00",
          "2019-11-28T00:00:00",
          "2019-11-29T00:00:00",
          "2019-12-02T00:00:00",
          "2019-12-03T00:00:00",
          "2019-12-04T00:00:00",
          "2019-12-05T00:00:00",
          "2019-12-06T00:00:00",
          "2019-12-09T00:00:00",
          "2019-12-10T00:00:00",
          "2019-12-11T00:00:00",
          "2019-12-12T00:00:00",
          "2019-12-16T00:00:00",
          "2019-12-17T00:00:00",
          "2019-12-18T00:00:00"
         ],
         "xaxis": "x",
         "yaxis": "y"
        },
        {
         "mode": "lines",
         "name": "Net Worth (INR)",
         "type": "scatter",
         "x": [
          "2019-02-19T00:00:00",
          "2019-02-20T00:00:00",
          "2019-02-21T00:00:00",
          "2019-02-22T00:00:00",
          "2019-02-25T00:00:00",
          "2019-02-26T00:00:00",
          "2019-02-27T00:00:00",
          "2019-02-28T00:00:00",
          "2019-03-01T00:00:00",
          "2019-03-05T00:00:00",
          "2019-03-06T00:00:00",
          "2019-03-07T00:00:00",
          "2019-03-08T00:00:00",
          "2019-03-11T00:00:00",
          "2019-03-12T00:00:00",
          "2019-03-13T00:00:00",
          "2019-03-14T00:00:00",
          "2019-03-15T00:00:00",
          "2019-03-19T00:00:00",
          "2019-03-20T00:00:00",
          "2019-03-22T00:00:00",
          "2019-03-25T00:00:00",
          "2019-03-27T00:00:00",
          "2019-03-28T00:00:00",
          "2019-04-01T00:00:00",
          "2019-04-02T00:00:00",
          "2019-04-03T00:00:00",
          "2019-04-04T00:00:00",
          "2019-04-05T00:00:00",
          "2019-04-08T00:00:00",
          "2019-04-09T00:00:00",
          "2019-04-10T00:00:00",
          "2019-04-11T00:00:00",
          "2019-04-12T00:00:00",
          "2019-04-15T00:00:00",
          "2019-04-16T00:00:00",
          "2019-04-18T00:00:00",
          "2019-04-22T00:00:00",
          "2019-04-23T00:00:00",
          "2019-04-24T00:00:00",
          "2019-04-25T00:00:00",
          "2019-04-26T00:00:00",
          "2019-04-30T00:00:00",
          "2019-05-02T00:00:00",
          "2019-05-03T00:00:00",
          "2019-05-08T00:00:00",
          "2019-05-09T00:00:00",
          "2019-05-10T00:00:00",
          "2019-05-13T00:00:00",
          "2019-05-14T00:00:00",
          "2019-05-16T00:00:00",
          "2019-05-17T00:00:00",
          "2019-05-20T00:00:00",
          "2019-05-22T00:00:00",
          "2019-05-23T00:00:00",
          "2019-05-24T00:00:00",
          "2019-05-27T00:00:00",
          "2019-05-28T00:00:00",
          "2019-05-29T00:00:00",
          "2019-05-30T00:00:00",
          "2019-05-31T00:00:00",
          "2019-06-03T00:00:00",
          "2019-06-04T00:00:00",
          "2019-06-06T00:00:00",
          "2019-06-10T00:00:00",
          "2019-06-11T00:00:00",
          "2019-06-12T00:00:00",
          "2019-06-13T00:00:00",
          "2019-06-14T00:00:00",
          "2019-06-17T00:00:00",
          "2019-06-18T00:00:00",
          "2019-06-19T00:00:00",
          "2019-06-21T00:00:00",
          "2019-06-24T00:00:00",
          "2019-06-25T00:00:00",
          "2019-06-26T00:00:00",
          "2019-06-27T00:00:00",
          "2019-06-28T00:00:00",
          "2019-07-01T00:00:00",
          "2019-07-02T00:00:00",
          "2019-07-03T00:00:00",
          "2019-07-04T00:00:00",
          "2019-07-05T00:00:00",
          "2019-07-08T00:00:00",
          "2019-07-09T00:00:00",
          "2019-07-10T00:00:00",
          "2019-07-11T00:00:00",
          "2019-07-12T00:00:00",
          "2019-07-15T00:00:00",
          "2019-07-16T00:00:00",
          "2019-07-17T00:00:00",
          "2019-07-18T00:00:00",
          "2019-07-19T00:00:00",
          "2019-07-22T00:00:00",
          "2019-07-23T00:00:00",
          "2019-07-24T00:00:00",
          "2019-07-25T00:00:00",
          "2019-07-26T00:00:00",
          "2019-07-29T00:00:00",
          "2019-07-30T00:00:00",
          "2019-07-31T00:00:00",
          "2019-08-01T00:00:00",
          "2019-08-02T00:00:00",
          "2019-08-05T00:00:00",
          "2019-08-06T00:00:00",
          "2019-08-07T00:00:00",
          "2019-08-08T00:00:00",
          "2019-08-09T00:00:00",
          "2019-08-13T00:00:00",
          "2019-08-14T00:00:00",
          "2019-08-16T00:00:00",
          "2019-08-19T00:00:00",
          "2019-08-21T00:00:00",
          "2019-08-22T00:00:00",
          "2019-08-23T00:00:00",
          "2019-08-26T00:00:00",
          "2019-08-27T00:00:00",
          "2019-08-28T00:00:00",
          "2019-08-29T00:00:00",
          "2019-08-30T00:00:00",
          "2019-09-03T00:00:00",
          "2019-09-04T00:00:00",
          "2019-09-05T00:00:00",
          "2019-09-06T00:00:00",
          "2019-09-09T00:00:00",
          "2019-09-12T00:00:00",
          "2019-09-13T00:00:00",
          "2019-09-16T00:00:00",
          "2019-09-17T00:00:00",
          "2019-09-18T00:00:00",
          "2019-09-19T00:00:00",
          "2019-09-20T00:00:00",
          "2019-09-23T00:00:00",
          "2019-09-25T00:00:00",
          "2019-09-26T00:00:00",
          "2019-09-27T00:00:00",
          "2019-09-30T00:00:00",
          "2019-10-01T00:00:00",
          "2019-10-03T00:00:00",
          "2019-10-04T00:00:00",
          "2019-10-09T00:00:00",
          "2019-10-10T00:00:00",
          "2019-10-11T00:00:00",
          "2019-10-14T00:00:00",
          "2019-10-16T00:00:00",
          "2019-10-17T00:00:00",
          "2019-10-18T00:00:00",
          "2019-10-24T00:00:00",
          "2019-10-29T00:00:00",
          "2019-10-30T00:00:00",
          "2019-10-31T00:00:00",
          "2019-11-01T00:00:00",
          "2019-11-04T00:00:00",
          "2019-11-05T00:00:00",
          "2019-11-06T00:00:00",
          "2019-11-07T00:00:00",
          "2019-11-08T00:00:00",
          "2019-11-11T00:00:00",
          "2019-11-13T00:00:00",
          "2019-11-14T00:00:00",
          "2019-11-15T00:00:00",
          "2019-11-18T00:00:00",
          "2019-11-19T00:00:00",
          "2019-11-20T00:00:00",
          "2019-11-21T00:00:00",
          "2019-11-22T00:00:00",
          "2019-11-25T00:00:00",
          "2019-11-26T00:00:00",
          "2019-11-27T00:00:00",
          "2019-11-28T00:00:00",
          "2019-11-29T00:00:00",
          "2019-12-02T00:00:00",
          "2019-12-03T00:00:00",
          "2019-12-04T00:00:00",
          "2019-12-05T00:00:00",
          "2019-12-06T00:00:00",
          "2019-12-09T00:00:00",
          "2019-12-10T00:00:00",
          "2019-12-11T00:00:00",
          "2019-12-12T00:00:00",
          "2019-12-16T00:00:00",
          "2019-12-17T00:00:00",
          "2019-12-18T00:00:00"
         ],
         "xaxis": "x2",
         "y": [
          10000,
          10000,
          10000,
          10000,
          10000,
          10000,
          10000,
          10018.12554000429,
          10084.862270853177,
          10131.28826719073,
          10150.087017423644,
          10165.840342230616,
          10159.925447897827,
          10158.337081597027,
          10249.613407660567,
          10329.665189676394,
          10313.898595442617,
          10242.638870167371,
          10261.201112168155,
          10243.420625076655,
          10206.327218193368,
          10161.726386624967,
          10188.803140598437,
          10228.8553404105,
          10360.546654674206,
          10400.699067017356,
          10418.376507855904,
          10438.623138292991,
          10451.343452246329,
          10440.043479103882,
          10420.778911943366,
          10388.714948799234,
          10327.84990024034,
          10541.680676870094,
          10652.450082155954,
          10666.218710586276,
          10534.724442103347,
          10590.655006526618,
          10543.834395916714,
          10524.796669267047,
          10636.338932161547,
          10263.586146142314,
          10217.448298255744,
          10393.11900218734,
          10409.273622361878,
          9680.96473234743,
          9693.508438081886,
          9674.327228381939,
          9876.094134972602,
          9964.914201117623,
          10167.380994847112,
          10163.493430123035,
          10372.749410075674,
          10447.529559718021,
          10481.480205396258,
          10393.059619117945,
          10548.248296556258,
          10861.11371049304,
          10890.937642185532,
          10913.223320998357,
          10948.959692967625,
          10906.909173195563,
          10954.827363680415,
          10834.698668279809,
          10512.356731209371,
          10597.3946356109,
          10459.503107597382,
          10422.088284864563,
          10410.443027958338,
          10181.57557767107,
          9961.009509580439,
          9950.661533812634,
          9901.110461024862,
          9755.080920746772,
          9875.174876065892,
          9872.371439135368,
          10022.666954820093,
          9980.432224321423,
          10031.135862726167,
          10066.508589201836,
          9901.313338155587,
          9956.728249936425,
          9936.142192080999,
          9638.126597440954,
          9671.40558320564,
          9660.295083790399,
          9614.753577394582,
          9637.361280568748,
          9643.579613176016,
          9695.06759286658,
          9695.06759286658,
          9695.06759286658,
          9695.06759286658,
          9695.06759286658,
          9695.06759286658,
          9695.06759286658,
          9695.06759286658,
          9695.06759286658,
          9695.06759286658,
          9695.06759286658,
          9695.06759286658,
          9695.06759286658,
          9695.06759286658,
          9695.06759286658,
          9695.06759286658,
          9695.06759286658,
          9695.06759286658,
          9695.06759286658,
          9695.06759286658,
          9695.06759286658,
          9695.06759286658,
          9695.06759286658,
          9695.06759286658,
          9695.06759286658,
          9695.06759286658,
          9695.06759286658,
          9695.06759286658,
          9695.06759286658,
          9695.06759286658,
          9695.06759286658,
          9695.06759286658,
          9695.06759286658,
          9695.06759286658,
          9695.06759286658,
          9785.920991642735,
          9785.920991642735,
          9785.920991642735,
          9785.920991642735,
          9785.920991642735,
          9790.46304506585,
          9797.42129818353,
          9841.739793906687,
          9901.675303547005,
          9872.265721107255,
          9856.605121760625,
          9847.567311022181,
          9834.23024164085,
          9839.794809079458,
          9845.622312012929,
          9849.274671140827,
          9846.034384117153,
          9849.301067879014,
          9855.987387473662,
          9851.77782002478,
          9846.758646217782,
          9841.651756813173,
          9834.423167632856,
          9822.961777222463,
          9836.899229439317,
          9827.250035161269,
          9910.106604670831,
          10008.768964907511,
          9921.346394199387,
          9730.74540292464,
          9707.49917165771,
          9559.676096719513,
          9576.66022539974,
          9565.30736496237,
          9417.02509428211,
          9415.535175296955,
          9442.551544861451,
          9326.634065823313,
          9336.496070423074,
          9442.588604640543,
          9410.99530609807,
          9396.740660095687,
          9464.381700929718,
          9356.147908323777,
          9354.523425966203,
          9393.214094176286,
          9425.317449563168,
          9465.805392351742,
          9362.299331473045,
          9299.016661727082,
          9336.540684819705,
          9364.347774290887,
          9353.619022683937,
          9390.080465942068,
          9404.260532625454,
          9589.638888230214,
          9480.02602388944,
          9397.310988951303,
          9373.087852277991
         ],
         "yaxis": "y2"
        }
       ],
       "layout": {
        "annotations": [
         {
          "font": {
           "size": 16
          },
          "showarrow": false,
          "text": "RL Algorithm: PPO2_LSTM - Trade Count [Buy: 10 | Sell: 5 | Hold: 168]",
          "x": 0.5,
          "xanchor": "center",
          "xref": "paper",
          "y": 0.9999999999999999,
          "yanchor": "bottom",
          "yref": "paper"
         },
         {
          "font": {
           "size": 16
          },
          "showarrow": false,
          "text": "Initial Investment (INR): 10000.0 | Net Worth (INR): 9373.09 | Profit (INR): -626.91 | Profit (%): -6.27%",
          "x": 0.5,
          "xanchor": "center",
          "xref": "paper",
          "y": 0.2375,
          "yanchor": "bottom",
          "yref": "paper"
         }
        ],
        "height": 600,
        "margin": {
         "b": 100,
         "l": 50,
         "pad": 4,
         "r": 50,
         "t": 100
        },
        "shapes": [
         {
          "line": {
           "color": "firebrick",
           "dash": "dot",
           "width": 1
          },
          "name": "Initial Balance",
          "type": "line",
          "x0": 0,
          "x1": 1,
          "xref": "x2 domain",
          "y0": 10000,
          "y1": 10000,
          "yref": "y2"
         }
        ],
        "template": {
         "data": {
          "scatter": [
           {
            "type": "scatter"
           }
          ]
         }
        },
        "width": 1000,
        "xaxis": {
         "anchor": "y",
         "domain": [
          0,
          1
         ],
         "matches": "x2",
         "rangeslider": {
          "visible": false
         },
         "showticklabels": false,
         "tickfont": {
          "size": 12
         }
        },
        "xaxis2": {
         "anchor": "y2",
         "domain": [
          0,
          1
         ]
        },
        "yaxis": {
         "anchor": "x",
         "domain": [
          0.2875,
          0.9999999999999999
         ],
         "tickfont": {
          "size": 10
         },
         "title": {
          "font": {
           "size": 14
          },
          "text": "Price (INR/share)"
         }
        },
        "yaxis2": {
         "anchor": "x2",
         "domain": [
          0,
          0.2375
         ]
        }
       }
      },
      "text/html": [
       "<div>                            <div id=\"fb0c6ad1-cda0-4674-968f-1d6848e6a7cc\" class=\"plotly-graph-div\" style=\"height:600px; width:1000px;\"></div>            <script type=\"text/javascript\">                require([\"plotly\"], function(Plotly) {                    window.PLOTLYENV=window.PLOTLYENV || {};                                    if (document.getElementById(\"fb0c6ad1-cda0-4674-968f-1d6848e6a7cc\")) {                    Plotly.newPlot(                        \"fb0c6ad1-cda0-4674-968f-1d6848e6a7cc\",                        [{\"marker\":{\"color\":[\"blue\",\"blue\",\"blue\",\"blue\",\"blue\",\"blue\",\"green\",\"blue\",\"blue\",\"blue\",\"blue\",\"blue\",\"green\",\"blue\",\"blue\",\"blue\",\"blue\",\"blue\",\"blue\",\"blue\",\"red\",\"blue\",\"blue\",\"blue\",\"blue\",\"blue\",\"blue\",\"green\",\"green\",\"blue\",\"blue\",\"green\",\"blue\",\"blue\",\"blue\",\"blue\",\"blue\",\"blue\",\"blue\",\"blue\",\"green\",\"blue\",\"blue\",\"blue\",\"blue\",\"blue\",\"blue\",\"blue\",\"blue\",\"blue\",\"blue\",\"blue\",\"blue\",\"blue\",\"blue\",\"blue\",\"blue\",\"blue\",\"blue\",\"blue\",\"blue\",\"blue\",\"blue\",\"blue\",\"blue\",\"blue\",\"blue\",\"blue\",\"blue\",\"blue\",\"blue\",\"blue\",\"blue\",\"blue\",\"blue\",\"blue\",\"blue\",\"blue\",\"blue\",\"blue\",\"blue\",\"blue\",\"blue\",\"red\",\"blue\",\"blue\",\"blue\",\"blue\",\"blue\",\"red\",\"blue\",\"blue\",\"blue\",\"blue\",\"blue\",\"blue\",\"blue\",\"blue\",\"blue\",\"blue\",\"blue\",\"blue\",\"blue\",\"blue\",\"blue\",\"blue\",\"blue\",\"blue\",\"blue\",\"blue\",\"blue\",\"blue\",\"blue\",\"blue\",\"blue\",\"blue\",\"blue\",\"blue\",\"blue\",\"blue\",\"blue\",\"blue\",\"blue\",\"green\",\"red\",\"blue\",\"blue\",\"blue\",\"green\",\"blue\",\"blue\",\"blue\",\"blue\",\"blue\",\"blue\",\"blue\",\"blue\",\"blue\",\"blue\",\"blue\",\"blue\",\"blue\",\"blue\",\"blue\",\"blue\",\"blue\",\"blue\",\"blue\",\"blue\",\"green\",\"blue\",\"blue\",\"blue\",\"blue\",\"blue\",\"blue\",\"blue\",\"blue\",\"blue\",\"blue\",\"green\",\"blue\",\"blue\",\"red\",\"blue\",\"blue\",\"blue\",\"blue\",\"blue\",\"blue\",\"blue\",\"blue\",\"blue\",\"blue\",\"blue\",\"blue\",\"blue\",\"blue\",\"blue\",\"blue\",\"blue\",\"blue\",\"blue\"],\"size\":15,\"symbol\":[\"cross-thin\",\"cross-thin\",\"cross-thin\",\"cross-thin\",\"cross-thin\",\"cross-thin\",\"triangle-up\",\"cross-thin\",\"cross-thin\",\"cross-thin\",\"cross-thin\",\"cross-thin\",\"triangle-up\",\"cross-thin\",\"cross-thin\",\"cross-thin\",\"cross-thin\",\"cross-thin\",\"cross-thin\",\"cross-thin\",\"triangle-down\",\"cross-thin\",\"cross-thin\",\"cross-thin\",\"cross-thin\",\"cross-thin\",\"cross-thin\",\"triangle-up\",\"triangle-up\",\"cross-thin\",\"cross-thin\",\"triangle-up\",\"cross-thin\",\"cross-thin\",\"cross-thin\",\"cross-thin\",\"cross-thin\",\"cross-thin\",\"cross-thin\",\"cross-thin\",\"triangle-up\",\"cross-thin\",\"cross-thin\",\"cross-thin\",\"cross-thin\",\"cross-thin\",\"cross-thin\",\"cross-thin\",\"cross-thin\",\"cross-thin\",\"cross-thin\",\"cross-thin\",\"cross-thin\",\"cross-thin\",\"cross-thin\",\"cross-thin\",\"cross-thin\",\"cross-thin\",\"cross-thin\",\"cross-thin\",\"cross-thin\",\"cross-thin\",\"cross-thin\",\"cross-thin\",\"cross-thin\",\"cross-thin\",\"cross-thin\",\"cross-thin\",\"cross-thin\",\"cross-thin\",\"cross-thin\",\"cross-thin\",\"cross-thin\",\"cross-thin\",\"cross-thin\",\"cross-thin\",\"cross-thin\",\"cross-thin\",\"cross-thin\",\"cross-thin\",\"cross-thin\",\"cross-thin\",\"cross-thin\",\"triangle-down\",\"cross-thin\",\"cross-thin\",\"cross-thin\",\"cross-thin\",\"cross-thin\",\"triangle-down\",\"cross-thin\",\"cross-thin\",\"cross-thin\",\"cross-thin\",\"cross-thin\",\"cross-thin\",\"cross-thin\",\"cross-thin\",\"cross-thin\",\"cross-thin\",\"cross-thin\",\"cross-thin\",\"cross-thin\",\"cross-thin\",\"cross-thin\",\"cross-thin\",\"cross-thin\",\"cross-thin\",\"cross-thin\",\"cross-thin\",\"cross-thin\",\"cross-thin\",\"cross-thin\",\"cross-thin\",\"cross-thin\",\"cross-thin\",\"cross-thin\",\"cross-thin\",\"cross-thin\",\"cross-thin\",\"cross-thin\",\"cross-thin\",\"cross-thin\",\"triangle-up\",\"triangle-down\",\"cross-thin\",\"cross-thin\",\"cross-thin\",\"triangle-up\",\"cross-thin\",\"cross-thin\",\"cross-thin\",\"cross-thin\",\"cross-thin\",\"cross-thin\",\"cross-thin\",\"cross-thin\",\"cross-thin\",\"cross-thin\",\"cross-thin\",\"cross-thin\",\"cross-thin\",\"cross-thin\",\"cross-thin\",\"cross-thin\",\"cross-thin\",\"cross-thin\",\"cross-thin\",\"cross-thin\",\"triangle-up\",\"cross-thin\",\"cross-thin\",\"cross-thin\",\"cross-thin\",\"cross-thin\",\"cross-thin\",\"cross-thin\",\"cross-thin\",\"cross-thin\",\"cross-thin\",\"triangle-up\",\"cross-thin\",\"cross-thin\",\"triangle-down\",\"cross-thin\",\"cross-thin\",\"cross-thin\",\"cross-thin\",\"cross-thin\",\"cross-thin\",\"cross-thin\",\"cross-thin\",\"cross-thin\",\"cross-thin\",\"cross-thin\",\"cross-thin\",\"cross-thin\",\"cross-thin\",\"cross-thin\",\"cross-thin\",\"cross-thin\",\"cross-thin\",\"cross-thin\"]},\"mode\":\"markers\",\"name\":\"Buy/Sell/Hold\",\"type\":\"scatter\",\"x\":[\"2019-02-19T00:00:00\",\"2019-02-20T00:00:00\",\"2019-02-21T00:00:00\",\"2019-02-22T00:00:00\",\"2019-02-25T00:00:00\",\"2019-02-26T00:00:00\",\"2019-02-27T00:00:00\",\"2019-02-28T00:00:00\",\"2019-03-01T00:00:00\",\"2019-03-05T00:00:00\",\"2019-03-06T00:00:00\",\"2019-03-07T00:00:00\",\"2019-03-08T00:00:00\",\"2019-03-11T00:00:00\",\"2019-03-12T00:00:00\",\"2019-03-13T00:00:00\",\"2019-03-14T00:00:00\",\"2019-03-15T00:00:00\",\"2019-03-19T00:00:00\",\"2019-03-20T00:00:00\",\"2019-03-22T00:00:00\",\"2019-03-25T00:00:00\",\"2019-03-27T00:00:00\",\"2019-03-28T00:00:00\",\"2019-04-01T00:00:00\",\"2019-04-02T00:00:00\",\"2019-04-03T00:00:00\",\"2019-04-04T00:00:00\",\"2019-04-05T00:00:00\",\"2019-04-08T00:00:00\",\"2019-04-09T00:00:00\",\"2019-04-10T00:00:00\",\"2019-04-11T00:00:00\",\"2019-04-12T00:00:00\",\"2019-04-15T00:00:00\",\"2019-04-16T00:00:00\",\"2019-04-18T00:00:00\",\"2019-04-22T00:00:00\",\"2019-04-23T00:00:00\",\"2019-04-24T00:00:00\",\"2019-04-25T00:00:00\",\"2019-04-26T00:00:00\",\"2019-04-30T00:00:00\",\"2019-05-02T00:00:00\",\"2019-05-03T00:00:00\",\"2019-05-08T00:00:00\",\"2019-05-09T00:00:00\",\"2019-05-10T00:00:00\",\"2019-05-13T00:00:00\",\"2019-05-14T00:00:00\",\"2019-05-16T00:00:00\",\"2019-05-17T00:00:00\",\"2019-05-20T00:00:00\",\"2019-05-22T00:00:00\",\"2019-05-23T00:00:00\",\"2019-05-24T00:00:00\",\"2019-05-27T00:00:00\",\"2019-05-28T00:00:00\",\"2019-05-29T00:00:00\",\"2019-05-30T00:00:00\",\"2019-05-31T00:00:00\",\"2019-06-03T00:00:00\",\"2019-06-04T00:00:00\",\"2019-06-06T00:00:00\",\"2019-06-10T00:00:00\",\"2019-06-11T00:00:00\",\"2019-06-12T00:00:00\",\"2019-06-13T00:00:00\",\"2019-06-14T00:00:00\",\"2019-06-17T00:00:00\",\"2019-06-18T00:00:00\",\"2019-06-19T00:00:00\",\"2019-06-21T00:00:00\",\"2019-06-24T00:00:00\",\"2019-06-25T00:00:00\",\"2019-06-26T00:00:00\",\"2019-06-27T00:00:00\",\"2019-06-28T00:00:00\",\"2019-07-01T00:00:00\",\"2019-07-02T00:00:00\",\"2019-07-03T00:00:00\",\"2019-07-04T00:00:00\",\"2019-07-05T00:00:00\",\"2019-07-08T00:00:00\",\"2019-07-09T00:00:00\",\"2019-07-10T00:00:00\",\"2019-07-11T00:00:00\",\"2019-07-12T00:00:00\",\"2019-07-15T00:00:00\",\"2019-07-16T00:00:00\",\"2019-07-17T00:00:00\",\"2019-07-18T00:00:00\",\"2019-07-19T00:00:00\",\"2019-07-22T00:00:00\",\"2019-07-23T00:00:00\",\"2019-07-24T00:00:00\",\"2019-07-25T00:00:00\",\"2019-07-26T00:00:00\",\"2019-07-29T00:00:00\",\"2019-07-30T00:00:00\",\"2019-07-31T00:00:00\",\"2019-08-01T00:00:00\",\"2019-08-02T00:00:00\",\"2019-08-05T00:00:00\",\"2019-08-06T00:00:00\",\"2019-08-07T00:00:00\",\"2019-08-08T00:00:00\",\"2019-08-09T00:00:00\",\"2019-08-13T00:00:00\",\"2019-08-14T00:00:00\",\"2019-08-16T00:00:00\",\"2019-08-19T00:00:00\",\"2019-08-21T00:00:00\",\"2019-08-22T00:00:00\",\"2019-08-23T00:00:00\",\"2019-08-26T00:00:00\",\"2019-08-27T00:00:00\",\"2019-08-28T00:00:00\",\"2019-08-29T00:00:00\",\"2019-08-30T00:00:00\",\"2019-09-03T00:00:00\",\"2019-09-04T00:00:00\",\"2019-09-05T00:00:00\",\"2019-09-06T00:00:00\",\"2019-09-09T00:00:00\",\"2019-09-12T00:00:00\",\"2019-09-13T00:00:00\",\"2019-09-16T00:00:00\",\"2019-09-17T00:00:00\",\"2019-09-18T00:00:00\",\"2019-09-19T00:00:00\",\"2019-09-20T00:00:00\",\"2019-09-23T00:00:00\",\"2019-09-25T00:00:00\",\"2019-09-26T00:00:00\",\"2019-09-27T00:00:00\",\"2019-09-30T00:00:00\",\"2019-10-01T00:00:00\",\"2019-10-03T00:00:00\",\"2019-10-04T00:00:00\",\"2019-10-09T00:00:00\",\"2019-10-10T00:00:00\",\"2019-10-11T00:00:00\",\"2019-10-14T00:00:00\",\"2019-10-16T00:00:00\",\"2019-10-17T00:00:00\",\"2019-10-18T00:00:00\",\"2019-10-24T00:00:00\",\"2019-10-29T00:00:00\",\"2019-10-30T00:00:00\",\"2019-10-31T00:00:00\",\"2019-11-01T00:00:00\",\"2019-11-04T00:00:00\",\"2019-11-05T00:00:00\",\"2019-11-06T00:00:00\",\"2019-11-07T00:00:00\",\"2019-11-08T00:00:00\",\"2019-11-11T00:00:00\",\"2019-11-13T00:00:00\",\"2019-11-14T00:00:00\",\"2019-11-15T00:00:00\",\"2019-11-18T00:00:00\",\"2019-11-19T00:00:00\",\"2019-11-20T00:00:00\",\"2019-11-21T00:00:00\",\"2019-11-22T00:00:00\",\"2019-11-25T00:00:00\",\"2019-11-26T00:00:00\",\"2019-11-27T00:00:00\",\"2019-11-28T00:00:00\",\"2019-11-29T00:00:00\",\"2019-12-02T00:00:00\",\"2019-12-03T00:00:00\",\"2019-12-04T00:00:00\",\"2019-12-05T00:00:00\",\"2019-12-06T00:00:00\",\"2019-12-09T00:00:00\",\"2019-12-10T00:00:00\",\"2019-12-11T00:00:00\",\"2019-12-12T00:00:00\",\"2019-12-16T00:00:00\",\"2019-12-17T00:00:00\",\"2019-12-18T00:00:00\"],\"xaxis\":\"x\",\"y\":[489.6000061035156,496.2000122070313,508.3499755859375,503.5,513.75,517.25,527.5,529.5999755859375,532.0,546.4000244140625,547.0999755859375,553.4000244140625,552.0,548.0999755859375,558.0999755859375,570.5499877929688,570.0,559.0,563.0,560.9500122070312,590.25,544.0,550.9000244140625,555.4500122070312,584.9500122070312,586.0499877929688,592.0,590.0999755859375,600.8499755859375,595.75,593.2000122070312,592.25,589.75,593.9500122070312,608.8499755859375,610.6500244140625,604.9500122070312,606.2999877929688,606.0,605.0499877929688,606.0499877929688,587.0,571.0,582.0,590.3499755859375,543.2000122070312,550.0,533.1500244140625,561.2999877929688,563.0,578.5999755859375,580.2999877929688,586.5999755859375,594.0,597.6500244140625,585.2000122070312,590.25,611.5,623.9500122070312,621.9500122070312,623.2000122070312,627.0,629.75,608.7999877929688,600.2000122070312,604.0999755859375,598.0999755859375,590.1500244140625,592.0999755859375,574.0,566.0499877929688,558.25,550.9000244140625,549.0999755859375,553.0499877929688,564.5,567.1500244140625,569.0,567.0,562.8499755859375,564.5499877929688,566.2999877929688,548.4500122070312,579.5999755859375,545.2000122070312,544.3499755859375,538.7000122070312,549.2000122070312,546.0999755859375,583.0,542.0,519.6500244140625,512.5999755859375,507.0,490.0,450.5,441.25,454.5,457.3999938964844,456.6000061035156,440.0,449.1499938964844,449.5,443.2999877929688,441.0499877929688,460.1499938964844,458.2000122070313,461.75,451.5499877929688,458.5,463.3500061035156,472.6499938964844,465.0,457.0,451.75,456.0499877929688,470.0499877929688,458.1000061035156,454.3500061035156,459.9500122070313,450.5,433.0,445.0,470.1000061035156,507.9500122070313,482.5,490.0,498.1000061035156,512.5,519.25,518.2000122070312,515.2000122070312,555.0499877929688,555.75,554.0,540.0999755859375,535.0999755859375,536.0,536.4000244140625,548.4000244140625,545.0,531.5,546.0499877929688,549.0,545.25,535.0999755859375,527.5499877929688,531.75,541.5499877929688,537.0,538.9500122070312,543.4000244140625,540.0,526.0499877929688,513.5499877929688,515.0,515.0999755859375,517.4000244140625,508.25,498.0499877929688,503.6500244140625,502.0999755859375,502.04998779296875,537.7999877929688,504.0999755859375,502.0,508.0,497.1000061035156,503.0,506.95001220703125,508.0999755859375,508.0999755859375,500.1000061035156,502.29998779296875,504.8499755859375,505.0,503.0,505.0999755859375,510.0,515.0,507.79998779296875,505.20001220703125,498.0],\"yaxis\":\"y\"},{\"close\":[508.5499877929688,520.5,521.9000244140625,516.3499755859375,536.3499755859375,538.8499755859375,539.0,541.9500122070312,555.9500122070312,562.1500244140625,561.9000244140625,567.2999877929688,566.0999755859375,565.8499755859375,589.2000122070312,585.3499755859375,584.5499877929688,570.8499755859375,581.4500122070312,573.5,572.6500244140625,556.7000122070312,569.7999877929688,576.7000122070312,600.7000122070312,604.4000244140625,608.8499755859375,611.0,619.9500122070312,609.4000244140625,608.2000122070312,605.9500122070312,605.5,622.0,625.1500244140625,624.9500122070312,624.2999877929688,620.25,617.2999877929688,622.1500244140625,619.2999877929688,599.0999755859375,595.0499877929688,608.5499877929688,602.7000122070312,570.2000122070312,562.8499755859375,583.4000244140625,579.9500122070312,585.9000244140625,592.9000244140625,594.75,612.0999755859375,609.6500244140625,615.7999877929688,600.9000244140625,627.7000122070312,643.0499877929688,637.5499877929688,640.5999755859375,636.0999755859375,641.4000244140625,641.75,628.6500244140625,622.0999755859375,619.4500122070312,610.2999877929688,609.75,610.4500122070312,587.7000122070312,579.25,576.8499755859375,563.0,574.0999755859375,574.7999877929688,581.5999755859375,583.8499755859375,581.8499755859375,578.6500244140625,588.5,576.9500122070312,584.3499755859375,561.5499877929688,561.0999755859375,566.25,555.7999877929688,559.8499755859375,566.0,559.0999755859375,571.0499877929688,556.9000244140625,536.9500122070312,529.0499877929688,522.5499877929688,510.6000061035156,468.2999877929688,476.1000061035156,479.75,476.75,467.9500122070313,474.0,466.1000061035156,467.5,456.5,469.6000061035156,478.6499938964844,478.6000061035156,476.8500061035156,471.2000122070313,484.4500122070313,481.75,500.0499877929688,479.3500061035156,471.8999938964844,466.2999877929688,488.0499877929688,481.2000122070313,472.0499877929688,469.9500122070313,474.1000061035156,463.5499877929688,456.7000122070313,484.3999938964844,489.3999938964844,495.5,498.4500122070313,516.0999755859375,525.6500244140625,530.5,534.7000122070312,535.4500122070312,583.25,587.9500122070312,568.0,571.5499877929688,556.9500122070312,549.1500244140625,556.1500244140625,561.5499877929688,560.6500244140625,561.3499755859375,561.5,564.7999877929688,561.3499755859375,559.5,554.0999755859375,552.5,548.0999755859375,554.5999755859375,549.2999877929688,558.2999877929688,565.8499755859375,554.7000122070312,539.25,530.0,530.0,532.0,531.3499755859375,520.1500244140625,524.4000244140625,518.25,514.8499755859375,521.7000122070312,525.4500122070312,520.0999755859375,520.2999877929688,524.9000244140625,516.2999877929688,516.75,521.0,536.0499877929688,522.0499877929688,513.4000244140625,515.1500244140625,516.5999755859375,517.5,518.0,520.7999877929688,529.4500122070312,534.4000244140625,519.8499755859375,519.7000122070312,514.9000244140625],\"high\":[514.3499755859375,524.5,526.9000244140625,528.0,542.5,540.9000244140625,549.8499755859375,549.7999877929688,561.6500244140625,564.3499755859375,565.5,578.0,569.0,571.75,596.5,597.0999755859375,593.4500122070312,587.5,584.9000244140625,582.8499755859375,580.25,569.0999755859375,585.0,579.0,608.7000122070312,606.9000244140625,613.25,615.0,625.5,627.9000244140625,612.5,612.2000122070312,615.2999877929688,624.9000244140625,628.4000244140625,635.0,627.7000122070312,629.5499877929688,623.4000244140625,625.0,627.9500122070312,618.2000122070312,598.7000122070312,616.4500122070312,618.7999877929688,572.9000244140625,569.9000244140625,591.0,592.2999877929688,588.6500244140625,596.4000244140625,600.7000122070312,620.0,621.7000122070312,621.5,619.0,630.8499755859375,649.6500244140625,647.7000122070312,644.75,645.75,644.0,648.5999755859375,643.9000244140625,624.5,623.1500244140625,620.8499755859375,616.1500244140625,619.9500122070312,614.25,593.0,585.0,600.0,575.8499755859375,577.6500244140625,589.0,591.0,592.8499755859375,586.75,599.5999755859375,592.9000244140625,587.0,595.75,569.5999755859375,568.9000244140625,572.0499877929688,562.5,573.4000244140625,571.9500122070312,573.0,582.9000244140625,555.1500244140625,539.7999877929688,539.0,522.2999877929688,511.5,484.0,483.5499877929688,484.0,481.0,476.9500122070313,474.8500061035156,469.75,466.75,472.4500122070313,492.2000122070313,484.6000061035156,485.25,480.7999877929688,486.7000122070313,487.0,505.0,492.0,479.0499877929688,470.5499877929688,494.0,499.7999877929688,487.7000122070313,474.3500061035156,483.6499938964844,472.7999877929688,462.0,488.8999938964844,491.7000122070313,497.9500122070313,503.7999877929688,519.0,530.0,537.5499877929688,542.0,538.2000122070312,590.7999877929688,598.7000122070312,589.7000122070312,581.0,576.0,576.9500122070312,570.0,580.0,571.7999877929688,565.8499755859375,578.0,569.5,569.0,564.25,559.9500122070312,567.0,567.0,561.75,556.0,560.0,574.6500244140625,573.5999755859375,558.75,542.5999755859375,539.0,536.9000244140625,534.0,529.75,533.4000244140625,527.5999755859375,524.4000244140625,524.4000244140625,527.7999877929688,523.5999755859375,522.5999755859375,530.9500122070312,530.0,524.7999877929688,524.9000244140625,543.9000244140625,534.7000122070312,522.5,523.9500122070312,521.5499877929688,520.0,518.9000244140625,531.25,532.8499755859375,536.9000244140625,539.0,526.9500122070312,523.4500122070312],\"low\":[499.6000061035156,506.2000122070313,518.3499755859375,513.5,523.75,527.25,537.5,539.5999755859375,542.0,556.4000244140625,557.0999755859375,563.4000244140625,562.0,558.0999755859375,568.0999755859375,580.5499877929688,580.0,569.0,573.0,570.9500122070312,570.0,554.0,560.9000244140625,565.4500122070312,594.9500122070312,596.0499877929688,602.0,600.0999755859375,610.8499755859375,605.75,603.2000122070312,602.25,599.75,603.9500122070312,618.8499755859375,620.6500244140625,614.9500122070312,616.2999877929688,616.0,615.0499877929688,616.0499877929688,597.0,581.0,592.0,600.3499755859375,553.2000122070312,560.0,543.1500244140625,571.2999877929688,573.0,588.5999755859375,590.2999877929688,596.5999755859375,604.0,607.6500244140625,595.2000122070312,600.25,621.5,633.9500122070312,631.9500122070312,633.2000122070312,637.0,639.75,618.7999877929688,610.2000122070312,614.0999755859375,608.0999755859375,600.1500244140625,602.0999755859375,584.0,576.0499877929688,568.25,560.9000244140625,559.0999755859375,563.0499877929688,574.5,577.1500244140625,579.0,577.0,572.8499755859375,574.5499877929688,576.2999877929688,558.4500122070312,551.2000122070312,555.2000122070312,554.3499755859375,548.7000122070312,559.2000122070312,556.0999755859375,554.0,552.0,529.6500244140625,522.5999755859375,517.0,500.0,460.5,451.25,464.5,467.3999938964844,466.6000061035156,450.0,459.1499938964844,459.5,453.2999877929688,451.0499877929688,470.1499938964844,468.2000122070313,471.75,461.5499877929688,468.5,473.3500061035156,482.6499938964844,475.0,467.0,461.75,466.0499877929688,480.0499877929688,468.1000061035156,464.3500061035156,469.9500122070313,460.5,443.0,455.0,480.1000061035156,477.6499938964844,492.5,500.0,508.1000061035156,522.5,529.25,528.2000122070312,525.2000122070312,565.0499877929688,565.75,564.0,550.0999755859375,545.0999755859375,546.0,546.4000244140625,558.4000244140625,555.0,541.5,556.0499877929688,559.0,555.25,545.0999755859375,537.5499877929688,541.75,551.5499877929688,547.0,548.9500122070312,553.4000244140625,550.0,536.0499877929688,523.5499877929688,525.0,525.0999755859375,527.4000244140625,518.25,508.0499877929688,513.6500244140625,512.0999755859375,512.0499877929688,512.6500244140625,514.0999755859375,512.0,518.0,507.1000061035156,513.0,516.9500122070312,518.0999755859375,518.0999755859375,510.1000061035156,512.2999877929688,514.8499755859375,515.0,513.0,515.0999755859375,520.0,525.0,517.7999877929688,515.2000122070312,508.0],\"name\":\"OHLC\",\"open\":[504.0,506.2000122070313,523.9000244140625,524.0,523.9000244140625,535.75,539.7999877929688,543.3499755859375,543.8499755859375,559.9500122070312,564.7999877929688,566.0,568.4000244140625,569.5,570.0,590.0999755859375,587.0999755859375,587.5,578.0,581.0,571.9000244140625,569.0,562.0,571.0,595.9000244140625,604.5999755859375,607.0,606.0,611.9000244140625,619.9500122070312,610.0999755859375,606.9000244140625,602.5499877929688,603.9500122070312,623.0,627.2000122070312,615.2000122070312,620.0,616.0499877929688,615.0499877929688,623.7999877929688,618.0999755859375,598.0,592.0,610.0499877929688,553.2000122070312,567.2999877929688,563.0,575.0,575.0,594.2999877929688,593.0,603.0,620.0,611.0499877929688,616.0499877929688,600.25,632.0,643.0,637.5,643.0,640.0,645.5,642.5,610.75,622.0999755859375,615.9000244140625,610.0999755859375,602.0999755859375,614.25,586.0499877929688,583.0,600.0,563.0,575.7999877929688,574.9000244140625,585.2999877929688,585.0,585.9500122070312,581.5,589.9000244140625,577.5,585.0,560.5499877929688,562.0,566.0,557.7000122070312,559.7999877929688,568.7999877929688,562.1500244140625,573.0499877929688,550.0,536.9000244140625,522.5,520.0,511.5,468.2999877929688,480.0,479.75,477.0,465.0,469.7000122070313,465.8500061035156,465.0,456.8999938964844,470.6499938964844,481.0499877929688,478.0,474.5,471.8500061035156,483.75,483.8500061035156,489.3999938964844,476.0,469.0,468.0,489.0,481.5499877929688,470.0,469.9500122070313,470.8999938964844,460.5499877929688,456.7000122070313,486.7999877929688,489.7000122070313,495.9500122070313,500.8999938964844,518.0,524.9500122070312,532.0,535.5499877929688,534.0499877929688,584.0,584.9500122070312,564.0,566.0,560.4500122070312,557.7000122070312,558.2999877929688,561.5999755859375,558.0,560.6500244140625,561.6500244140625,564.0,561.0,559.5,555.0999755859375,567.0,555.75,552.0,550.0,557.0,568.25,555.0,541.9000244140625,538.0,532.5499877929688,531.75,529.2000122070312,520.0,527.5999755859375,524.4000244140625,512.0499877929688,520.0,521.0,518.0,522.5,521.5499877929688,516.0,516.9500122070312,521.0,533.0,520.0,512.2999877929688,515.1500244140625,517.2999877929688,515.0,518.0,520.0,525.0,538.9000244140625,520.0,520.5499877929688],\"type\":\"candlestick\",\"x\":[\"2019-02-19T00:00:00\",\"2019-02-20T00:00:00\",\"2019-02-21T00:00:00\",\"2019-02-22T00:00:00\",\"2019-02-25T00:00:00\",\"2019-02-26T00:00:00\",\"2019-02-27T00:00:00\",\"2019-02-28T00:00:00\",\"2019-03-01T00:00:00\",\"2019-03-05T00:00:00\",\"2019-03-06T00:00:00\",\"2019-03-07T00:00:00\",\"2019-03-08T00:00:00\",\"2019-03-11T00:00:00\",\"2019-03-12T00:00:00\",\"2019-03-13T00:00:00\",\"2019-03-14T00:00:00\",\"2019-03-15T00:00:00\",\"2019-03-19T00:00:00\",\"2019-03-20T00:00:00\",\"2019-03-22T00:00:00\",\"2019-03-25T00:00:00\",\"2019-03-27T00:00:00\",\"2019-03-28T00:00:00\",\"2019-04-01T00:00:00\",\"2019-04-02T00:00:00\",\"2019-04-03T00:00:00\",\"2019-04-04T00:00:00\",\"2019-04-05T00:00:00\",\"2019-04-08T00:00:00\",\"2019-04-09T00:00:00\",\"2019-04-10T00:00:00\",\"2019-04-11T00:00:00\",\"2019-04-12T00:00:00\",\"2019-04-15T00:00:00\",\"2019-04-16T00:00:00\",\"2019-04-18T00:00:00\",\"2019-04-22T00:00:00\",\"2019-04-23T00:00:00\",\"2019-04-24T00:00:00\",\"2019-04-25T00:00:00\",\"2019-04-26T00:00:00\",\"2019-04-30T00:00:00\",\"2019-05-02T00:00:00\",\"2019-05-03T00:00:00\",\"2019-05-08T00:00:00\",\"2019-05-09T00:00:00\",\"2019-05-10T00:00:00\",\"2019-05-13T00:00:00\",\"2019-05-14T00:00:00\",\"2019-05-16T00:00:00\",\"2019-05-17T00:00:00\",\"2019-05-20T00:00:00\",\"2019-05-22T00:00:00\",\"2019-05-23T00:00:00\",\"2019-05-24T00:00:00\",\"2019-05-27T00:00:00\",\"2019-05-28T00:00:00\",\"2019-05-29T00:00:00\",\"2019-05-30T00:00:00\",\"2019-05-31T00:00:00\",\"2019-06-03T00:00:00\",\"2019-06-04T00:00:00\",\"2019-06-06T00:00:00\",\"2019-06-10T00:00:00\",\"2019-06-11T00:00:00\",\"2019-06-12T00:00:00\",\"2019-06-13T00:00:00\",\"2019-06-14T00:00:00\",\"2019-06-17T00:00:00\",\"2019-06-18T00:00:00\",\"2019-06-19T00:00:00\",\"2019-06-21T00:00:00\",\"2019-06-24T00:00:00\",\"2019-06-25T00:00:00\",\"2019-06-26T00:00:00\",\"2019-06-27T00:00:00\",\"2019-06-28T00:00:00\",\"2019-07-01T00:00:00\",\"2019-07-02T00:00:00\",\"2019-07-03T00:00:00\",\"2019-07-04T00:00:00\",\"2019-07-05T00:00:00\",\"2019-07-08T00:00:00\",\"2019-07-09T00:00:00\",\"2019-07-10T00:00:00\",\"2019-07-11T00:00:00\",\"2019-07-12T00:00:00\",\"2019-07-15T00:00:00\",\"2019-07-16T00:00:00\",\"2019-07-17T00:00:00\",\"2019-07-18T00:00:00\",\"2019-07-19T00:00:00\",\"2019-07-22T00:00:00\",\"2019-07-23T00:00:00\",\"2019-07-24T00:00:00\",\"2019-07-25T00:00:00\",\"2019-07-26T00:00:00\",\"2019-07-29T00:00:00\",\"2019-07-30T00:00:00\",\"2019-07-31T00:00:00\",\"2019-08-01T00:00:00\",\"2019-08-02T00:00:00\",\"2019-08-05T00:00:00\",\"2019-08-06T00:00:00\",\"2019-08-07T00:00:00\",\"2019-08-08T00:00:00\",\"2019-08-09T00:00:00\",\"2019-08-13T00:00:00\",\"2019-08-14T00:00:00\",\"2019-08-16T00:00:00\",\"2019-08-19T00:00:00\",\"2019-08-21T00:00:00\",\"2019-08-22T00:00:00\",\"2019-08-23T00:00:00\",\"2019-08-26T00:00:00\",\"2019-08-27T00:00:00\",\"2019-08-28T00:00:00\",\"2019-08-29T00:00:00\",\"2019-08-30T00:00:00\",\"2019-09-03T00:00:00\",\"2019-09-04T00:00:00\",\"2019-09-05T00:00:00\",\"2019-09-06T00:00:00\",\"2019-09-09T00:00:00\",\"2019-09-12T00:00:00\",\"2019-09-13T00:00:00\",\"2019-09-16T00:00:00\",\"2019-09-17T00:00:00\",\"2019-09-18T00:00:00\",\"2019-09-19T00:00:00\",\"2019-09-20T00:00:00\",\"2019-09-23T00:00:00\",\"2019-09-25T00:00:00\",\"2019-09-26T00:00:00\",\"2019-09-27T00:00:00\",\"2019-09-30T00:00:00\",\"2019-10-01T00:00:00\",\"2019-10-03T00:00:00\",\"2019-10-04T00:00:00\",\"2019-10-09T00:00:00\",\"2019-10-10T00:00:00\",\"2019-10-11T00:00:00\",\"2019-10-14T00:00:00\",\"2019-10-16T00:00:00\",\"2019-10-17T00:00:00\",\"2019-10-18T00:00:00\",\"2019-10-24T00:00:00\",\"2019-10-29T00:00:00\",\"2019-10-30T00:00:00\",\"2019-10-31T00:00:00\",\"2019-11-01T00:00:00\",\"2019-11-04T00:00:00\",\"2019-11-05T00:00:00\",\"2019-11-06T00:00:00\",\"2019-11-07T00:00:00\",\"2019-11-08T00:00:00\",\"2019-11-11T00:00:00\",\"2019-11-13T00:00:00\",\"2019-11-14T00:00:00\",\"2019-11-15T00:00:00\",\"2019-11-18T00:00:00\",\"2019-11-19T00:00:00\",\"2019-11-20T00:00:00\",\"2019-11-21T00:00:00\",\"2019-11-22T00:00:00\",\"2019-11-25T00:00:00\",\"2019-11-26T00:00:00\",\"2019-11-27T00:00:00\",\"2019-11-28T00:00:00\",\"2019-11-29T00:00:00\",\"2019-12-02T00:00:00\",\"2019-12-03T00:00:00\",\"2019-12-04T00:00:00\",\"2019-12-05T00:00:00\",\"2019-12-06T00:00:00\",\"2019-12-09T00:00:00\",\"2019-12-10T00:00:00\",\"2019-12-11T00:00:00\",\"2019-12-12T00:00:00\",\"2019-12-16T00:00:00\",\"2019-12-17T00:00:00\",\"2019-12-18T00:00:00\"],\"xaxis\":\"x\",\"yaxis\":\"y\"},{\"mode\":\"lines\",\"name\":\"Net Worth (INR)\",\"type\":\"scatter\",\"x\":[\"2019-02-19T00:00:00\",\"2019-02-20T00:00:00\",\"2019-02-21T00:00:00\",\"2019-02-22T00:00:00\",\"2019-02-25T00:00:00\",\"2019-02-26T00:00:00\",\"2019-02-27T00:00:00\",\"2019-02-28T00:00:00\",\"2019-03-01T00:00:00\",\"2019-03-05T00:00:00\",\"2019-03-06T00:00:00\",\"2019-03-07T00:00:00\",\"2019-03-08T00:00:00\",\"2019-03-11T00:00:00\",\"2019-03-12T00:00:00\",\"2019-03-13T00:00:00\",\"2019-03-14T00:00:00\",\"2019-03-15T00:00:00\",\"2019-03-19T00:00:00\",\"2019-03-20T00:00:00\",\"2019-03-22T00:00:00\",\"2019-03-25T00:00:00\",\"2019-03-27T00:00:00\",\"2019-03-28T00:00:00\",\"2019-04-01T00:00:00\",\"2019-04-02T00:00:00\",\"2019-04-03T00:00:00\",\"2019-04-04T00:00:00\",\"2019-04-05T00:00:00\",\"2019-04-08T00:00:00\",\"2019-04-09T00:00:00\",\"2019-04-10T00:00:00\",\"2019-04-11T00:00:00\",\"2019-04-12T00:00:00\",\"2019-04-15T00:00:00\",\"2019-04-16T00:00:00\",\"2019-04-18T00:00:00\",\"2019-04-22T00:00:00\",\"2019-04-23T00:00:00\",\"2019-04-24T00:00:00\",\"2019-04-25T00:00:00\",\"2019-04-26T00:00:00\",\"2019-04-30T00:00:00\",\"2019-05-02T00:00:00\",\"2019-05-03T00:00:00\",\"2019-05-08T00:00:00\",\"2019-05-09T00:00:00\",\"2019-05-10T00:00:00\",\"2019-05-13T00:00:00\",\"2019-05-14T00:00:00\",\"2019-05-16T00:00:00\",\"2019-05-17T00:00:00\",\"2019-05-20T00:00:00\",\"2019-05-22T00:00:00\",\"2019-05-23T00:00:00\",\"2019-05-24T00:00:00\",\"2019-05-27T00:00:00\",\"2019-05-28T00:00:00\",\"2019-05-29T00:00:00\",\"2019-05-30T00:00:00\",\"2019-05-31T00:00:00\",\"2019-06-03T00:00:00\",\"2019-06-04T00:00:00\",\"2019-06-06T00:00:00\",\"2019-06-10T00:00:00\",\"2019-06-11T00:00:00\",\"2019-06-12T00:00:00\",\"2019-06-13T00:00:00\",\"2019-06-14T00:00:00\",\"2019-06-17T00:00:00\",\"2019-06-18T00:00:00\",\"2019-06-19T00:00:00\",\"2019-06-21T00:00:00\",\"2019-06-24T00:00:00\",\"2019-06-25T00:00:00\",\"2019-06-26T00:00:00\",\"2019-06-27T00:00:00\",\"2019-06-28T00:00:00\",\"2019-07-01T00:00:00\",\"2019-07-02T00:00:00\",\"2019-07-03T00:00:00\",\"2019-07-04T00:00:00\",\"2019-07-05T00:00:00\",\"2019-07-08T00:00:00\",\"2019-07-09T00:00:00\",\"2019-07-10T00:00:00\",\"2019-07-11T00:00:00\",\"2019-07-12T00:00:00\",\"2019-07-15T00:00:00\",\"2019-07-16T00:00:00\",\"2019-07-17T00:00:00\",\"2019-07-18T00:00:00\",\"2019-07-19T00:00:00\",\"2019-07-22T00:00:00\",\"2019-07-23T00:00:00\",\"2019-07-24T00:00:00\",\"2019-07-25T00:00:00\",\"2019-07-26T00:00:00\",\"2019-07-29T00:00:00\",\"2019-07-30T00:00:00\",\"2019-07-31T00:00:00\",\"2019-08-01T00:00:00\",\"2019-08-02T00:00:00\",\"2019-08-05T00:00:00\",\"2019-08-06T00:00:00\",\"2019-08-07T00:00:00\",\"2019-08-08T00:00:00\",\"2019-08-09T00:00:00\",\"2019-08-13T00:00:00\",\"2019-08-14T00:00:00\",\"2019-08-16T00:00:00\",\"2019-08-19T00:00:00\",\"2019-08-21T00:00:00\",\"2019-08-22T00:00:00\",\"2019-08-23T00:00:00\",\"2019-08-26T00:00:00\",\"2019-08-27T00:00:00\",\"2019-08-28T00:00:00\",\"2019-08-29T00:00:00\",\"2019-08-30T00:00:00\",\"2019-09-03T00:00:00\",\"2019-09-04T00:00:00\",\"2019-09-05T00:00:00\",\"2019-09-06T00:00:00\",\"2019-09-09T00:00:00\",\"2019-09-12T00:00:00\",\"2019-09-13T00:00:00\",\"2019-09-16T00:00:00\",\"2019-09-17T00:00:00\",\"2019-09-18T00:00:00\",\"2019-09-19T00:00:00\",\"2019-09-20T00:00:00\",\"2019-09-23T00:00:00\",\"2019-09-25T00:00:00\",\"2019-09-26T00:00:00\",\"2019-09-27T00:00:00\",\"2019-09-30T00:00:00\",\"2019-10-01T00:00:00\",\"2019-10-03T00:00:00\",\"2019-10-04T00:00:00\",\"2019-10-09T00:00:00\",\"2019-10-10T00:00:00\",\"2019-10-11T00:00:00\",\"2019-10-14T00:00:00\",\"2019-10-16T00:00:00\",\"2019-10-17T00:00:00\",\"2019-10-18T00:00:00\",\"2019-10-24T00:00:00\",\"2019-10-29T00:00:00\",\"2019-10-30T00:00:00\",\"2019-10-31T00:00:00\",\"2019-11-01T00:00:00\",\"2019-11-04T00:00:00\",\"2019-11-05T00:00:00\",\"2019-11-06T00:00:00\",\"2019-11-07T00:00:00\",\"2019-11-08T00:00:00\",\"2019-11-11T00:00:00\",\"2019-11-13T00:00:00\",\"2019-11-14T00:00:00\",\"2019-11-15T00:00:00\",\"2019-11-18T00:00:00\",\"2019-11-19T00:00:00\",\"2019-11-20T00:00:00\",\"2019-11-21T00:00:00\",\"2019-11-22T00:00:00\",\"2019-11-25T00:00:00\",\"2019-11-26T00:00:00\",\"2019-11-27T00:00:00\",\"2019-11-28T00:00:00\",\"2019-11-29T00:00:00\",\"2019-12-02T00:00:00\",\"2019-12-03T00:00:00\",\"2019-12-04T00:00:00\",\"2019-12-05T00:00:00\",\"2019-12-06T00:00:00\",\"2019-12-09T00:00:00\",\"2019-12-10T00:00:00\",\"2019-12-11T00:00:00\",\"2019-12-12T00:00:00\",\"2019-12-16T00:00:00\",\"2019-12-17T00:00:00\",\"2019-12-18T00:00:00\"],\"xaxis\":\"x2\",\"y\":[10000.0,10000.0,10000.0,10000.0,10000.0,10000.0,10000.0,10018.12554000429,10084.862270853177,10131.28826719073,10150.087017423644,10165.840342230616,10159.925447897827,10158.337081597027,10249.613407660567,10329.665189676394,10313.898595442617,10242.638870167371,10261.201112168155,10243.420625076655,10206.327218193368,10161.726386624967,10188.803140598437,10228.8553404105,10360.546654674206,10400.699067017356,10418.376507855904,10438.623138292991,10451.343452246329,10440.043479103882,10420.778911943366,10388.714948799234,10327.84990024034,10541.680676870094,10652.450082155954,10666.218710586276,10534.724442103347,10590.655006526618,10543.834395916714,10524.796669267047,10636.338932161547,10263.586146142314,10217.448298255744,10393.11900218734,10409.273622361878,9680.96473234743,9693.508438081886,9674.327228381939,9876.094134972602,9964.914201117623,10167.380994847112,10163.493430123035,10372.749410075674,10447.529559718021,10481.480205396258,10393.059619117945,10548.248296556258,10861.11371049304,10890.937642185532,10913.223320998357,10948.959692967625,10906.909173195563,10954.827363680415,10834.698668279809,10512.356731209371,10597.3946356109,10459.503107597382,10422.088284864563,10410.443027958338,10181.57557767107,9961.009509580439,9950.661533812634,9901.110461024862,9755.080920746772,9875.174876065892,9872.371439135368,10022.666954820093,9980.432224321423,10031.135862726167,10066.508589201836,9901.313338155587,9956.728249936425,9936.142192080999,9638.126597440954,9671.40558320564,9660.295083790399,9614.753577394582,9637.361280568748,9643.579613176016,9695.06759286658,9695.06759286658,9695.06759286658,9695.06759286658,9695.06759286658,9695.06759286658,9695.06759286658,9695.06759286658,9695.06759286658,9695.06759286658,9695.06759286658,9695.06759286658,9695.06759286658,9695.06759286658,9695.06759286658,9695.06759286658,9695.06759286658,9695.06759286658,9695.06759286658,9695.06759286658,9695.06759286658,9695.06759286658,9695.06759286658,9695.06759286658,9695.06759286658,9695.06759286658,9695.06759286658,9695.06759286658,9695.06759286658,9695.06759286658,9695.06759286658,9695.06759286658,9695.06759286658,9695.06759286658,9695.06759286658,9785.920991642735,9785.920991642735,9785.920991642735,9785.920991642735,9785.920991642735,9790.46304506585,9797.42129818353,9841.739793906687,9901.675303547005,9872.265721107255,9856.605121760625,9847.567311022181,9834.23024164085,9839.794809079458,9845.622312012929,9849.274671140827,9846.034384117153,9849.301067879014,9855.987387473662,9851.77782002478,9846.758646217782,9841.651756813173,9834.423167632856,9822.961777222463,9836.899229439317,9827.250035161269,9910.106604670831,10008.768964907511,9921.346394199387,9730.74540292464,9707.49917165771,9559.676096719513,9576.66022539974,9565.30736496237,9417.02509428211,9415.535175296955,9442.551544861451,9326.634065823313,9336.496070423074,9442.588604640543,9410.99530609807,9396.740660095687,9464.381700929718,9356.147908323777,9354.523425966203,9393.214094176286,9425.317449563168,9465.805392351742,9362.299331473045,9299.016661727082,9336.540684819705,9364.347774290887,9353.619022683937,9390.080465942068,9404.260532625454,9589.638888230214,9480.02602388944,9397.310988951303,9373.087852277991],\"yaxis\":\"y2\"}],                        {\"annotations\":[{\"font\":{\"size\":16},\"showarrow\":false,\"text\":\"RL Algorithm: PPO2_LSTM - Trade Count [Buy: 10 | Sell: 5 | Hold: 168]\",\"x\":0.5,\"xanchor\":\"center\",\"xref\":\"paper\",\"y\":0.9999999999999999,\"yanchor\":\"bottom\",\"yref\":\"paper\"},{\"font\":{\"size\":16},\"showarrow\":false,\"text\":\"Initial Investment (INR): 10000.0 | Net Worth (INR): 9373.09 | Profit (INR): -626.91 | Profit (%): -6.27%\",\"x\":0.5,\"xanchor\":\"center\",\"xref\":\"paper\",\"y\":0.2375,\"yanchor\":\"bottom\",\"yref\":\"paper\"}],\"height\":600,\"margin\":{\"b\":100,\"l\":50,\"pad\":4,\"r\":50,\"t\":100},\"shapes\":[{\"line\":{\"color\":\"firebrick\",\"dash\":\"dot\",\"width\":1},\"name\":\"Initial Balance\",\"type\":\"line\",\"x0\":0,\"x1\":1,\"xref\":\"x2 domain\",\"y0\":10000,\"y1\":10000,\"yref\":\"y2\"}],\"template\":{\"data\":{\"scatter\":[{\"type\":\"scatter\"}]}},\"width\":1000,\"xaxis\":{\"anchor\":\"y\",\"domain\":[0.0,1.0],\"matches\":\"x2\",\"rangeslider\":{\"visible\":false},\"showticklabels\":false,\"tickfont\":{\"size\":12}},\"xaxis2\":{\"anchor\":\"y2\",\"domain\":[0.0,1.0]},\"yaxis\":{\"anchor\":\"x\",\"domain\":[0.2875,0.9999999999999999],\"tickfont\":{\"size\":10},\"title\":{\"font\":{\"size\":14},\"text\":\"Price (INR/share)\"}},\"yaxis2\":{\"anchor\":\"x2\",\"domain\":[0.0,0.2375]}},                        {\"responsive\": true}                    ).then(function(){\n",
       "                            \n",
       "var gd = document.getElementById('fb0c6ad1-cda0-4674-968f-1d6848e6a7cc');\n",
       "var x = new MutationObserver(function (mutations, observer) {{\n",
       "        var display = window.getComputedStyle(gd).display;\n",
       "        if (!display || display === 'none') {{\n",
       "            console.log([gd, 'removed!']);\n",
       "            Plotly.purge(gd);\n",
       "            observer.disconnect();\n",
       "        }}\n",
       "}});\n",
       "\n",
       "// Listen for the removal of the full notebook cells\n",
       "var notebookContainer = gd.closest('#notebook-container');\n",
       "if (notebookContainer) {{\n",
       "    x.observe(notebookContainer, {childList: true});\n",
       "}}\n",
       "\n",
       "// Listen for the clearing of the current output cell\n",
       "var outputEl = gd.closest('.output');\n",
       "if (outputEl) {{\n",
       "    x.observe(outputEl, {childList: true});\n",
       "}}\n",
       "\n",
       "                        })                };                });            </script>        </div>"
      ]
     },
     "metadata": {},
     "output_type": "display_data"
    }
   ],
   "source": [
    "display_trades(trades)"
   ]
  },
  {
   "cell_type": "code",
   "execution_count": 23,
   "id": "22e1baec",
   "metadata": {
    "scrolled": true
   },
   "outputs": [],
   "source": [
    "# # %load_ext tensorboard\n",
    "# %reload_ext tensorboard\n",
    "# %tensorboard \\\n",
    "#     --host localhost \\\n",
    "#     --port 8080\\\n",
    "#     --logdir \".\\\\tensorboard\\\\PPO2_LSTM_Test\""
   ]
  },
  {
   "cell_type": "markdown",
   "id": "7fbe3710",
   "metadata": {},
   "source": [
    "To view: http://localhost:8080/ <br>\n",
    "To kill: `taskkill /IM \"tensorboard.exe\" /F`"
   ]
  }
 ],
 "metadata": {
  "kernelspec": {
   "display_name": "Python 3 (ipykernel)",
   "language": "python",
   "name": "python3"
  },
  "language_info": {
   "codemirror_mode": {
    "name": "ipython",
    "version": 3
   },
   "file_extension": ".py",
   "mimetype": "text/x-python",
   "name": "python",
   "nbconvert_exporter": "python",
   "pygments_lexer": "ipython3",
   "version": "3.7.11"
  }
 },
 "nbformat": 4,
 "nbformat_minor": 5
}
