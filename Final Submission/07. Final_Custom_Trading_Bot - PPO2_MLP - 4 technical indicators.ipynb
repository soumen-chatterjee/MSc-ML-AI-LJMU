{
 "cells": [
  {
   "cell_type": "code",
   "execution_count": 1,
   "id": "e086698b",
   "metadata": {},
   "outputs": [
    {
     "data": {
      "text/html": [
       "        <script type=\"text/javascript\">\n",
       "        window.PlotlyConfig = {MathJaxConfig: 'local'};\n",
       "        if (window.MathJax) {MathJax.Hub.Config({SVG: {font: \"STIX-Web\"}});}\n",
       "        if (typeof require !== 'undefined') {\n",
       "        require.undef(\"plotly\");\n",
       "        requirejs.config({\n",
       "            paths: {\n",
       "                'plotly': ['https://cdn.plot.ly/plotly-2.4.2.min']\n",
       "            }\n",
       "        });\n",
       "        require(['plotly'], function(Plotly) {\n",
       "            window._Plotly = Plotly;\n",
       "        });\n",
       "        }\n",
       "        </script>\n",
       "        "
      ]
     },
     "metadata": {},
     "output_type": "display_data"
    }
   ],
   "source": [
    "import pandas as pd\n",
    "import numpy as np\n",
    "import random\n",
    "from collections import deque\n",
    "import json\n",
    "import talib\n",
    "import gym\n",
    "from gym import spaces\n",
    "from sklearn import preprocessing\n",
    "scaler = preprocessing.MinMaxScaler()\n",
    "import warnings\n",
    "warnings.filterwarnings('ignore')\n",
    "\n",
    "import plotly.offline as pyo\n",
    "import plotly.graph_objects as go\n",
    "from plotly.subplots import make_subplots\n",
    "\n",
    "pyo.init_notebook_mode(connected=True)\n",
    "\n",
    "import tensorflow as tf\n",
    "tf.get_logger().setLevel('ERROR')\n",
    "\n",
    "class StockTradingEnv(gym.Env):\n",
    "    \"\"\"A stock trading environment for OpenAI gym\"\"\"\n",
    "    metadata = {'render.modes': ['cli', 'gui']}\n",
    "\n",
    "    def preprocess_data(self, df):\n",
    "        self.df_orig=df.copy(deep=True)\n",
    "        logScale = pd.DataFrame(np.log(df.Close))\n",
    "        df[\"CloseLogDiff\"] = logScale - logScale.shift()\n",
    "        df['Return_5'] = df.Close.pct_change(5)\n",
    "        df['MACD'] = talib.MACD(df.Close)[1]\n",
    "        df['ATR'] = talib.ATR(df.High, df.Low, df.Close)\n",
    "        slowk, slowd = talib.STOCH(df.High, df.Low, df.Close)\n",
    "        df['STOCH'] = slowd - slowk\n",
    "        df.fillna(method='bfill', inplace=True)\n",
    "        return df\n",
    "    \n",
    "    def __init__(self, df, initial_balance=10000, lookback_window_size=30):\n",
    "        # Define action space and state size and other custom parameters\n",
    "        self.df = self.preprocess_data(df)\n",
    "        self.df = df.dropna().reset_index()\n",
    "        self.df_total_steps = len(self.df)-1\n",
    "        self.initial_balance = initial_balance\n",
    "        self.lookback_window_size = lookback_window_size\n",
    "\n",
    "        # Action space from 0 to 3, 0 is hold, 1 is buy, 2 is sell\n",
    "        self.action_space = spaces.Box(low=np.array([0,0]), high=np.array([3,1]), dtype=np.float16)\n",
    "\n",
    "        # Orders history contains the balance, net_worth, stock_bought, stock_sold, stock_held values for the last lookback_window_size steps\n",
    "        self.orders_history = deque(maxlen=self.lookback_window_size)\n",
    "        \n",
    "        # Market history contains the OHCL values for the last lookback_window_size prices\n",
    "        self.market_history = deque(maxlen=self.lookback_window_size)\n",
    "\n",
    "        # State size contains Market+Orders history for the last lookback_window_size steps\n",
    "        self.state_size = (self.lookback_window_size, 5)\n",
    "\n",
    "        self.observation_space = spaces.Box(low=0, high=1, shape=(lookback_window_size,10), dtype=np.float16)\n",
    "        \n",
    "    # Reset the state of the environment to an initial state\n",
    "    def reset(self, env_steps_size = 201):\n",
    "        self.display_reward = 0\n",
    "        self.balance = self.initial_balance\n",
    "        self.net_worth = self.initial_balance\n",
    "        self.prev_net_worth = self.initial_balance\n",
    "        self.stock_held = 0\n",
    "        self.stock_sold = 0\n",
    "        self.stock_bought = 0\n",
    "        \n",
    "        if env_steps_size > 0: # used for training dataset\n",
    "            self.start_step = random.randint(self.lookback_window_size, self.df_total_steps - env_steps_size - 1)\n",
    "            self.end_step = self.start_step + env_steps_size\n",
    "        \n",
    "        else: # used for testing dataset\n",
    "            self.start_step = self.lookback_window_size\n",
    "            self.end_step = self.df_total_steps\n",
    "            \n",
    "        self.current_step = self.start_step\n",
    "\n",
    "        for i in reversed(range(self.lookback_window_size)):\n",
    "            current_step = self.current_step - i\n",
    "            self.orders_history.append([self.balance, self.net_worth, self.stock_bought, self.stock_sold, self.stock_held])\n",
    "            self.market_history.append([self.df.loc[current_step, 'CloseLogDiff'],\n",
    "                                        self.df.loc[current_step, 'Return_5'],\n",
    "                                        self.df.loc[current_step, 'MACD'],\n",
    "                                        self.df.loc[current_step, 'ATR'],\n",
    "                                        self.df.loc[current_step, 'STOCH']\n",
    "                                        ])\n",
    "\n",
    "        state = np.concatenate((self.market_history, self.orders_history), axis=1)\n",
    "        self.trades = []\n",
    "        return state\n",
    "\n",
    "    # Get the data points for the given current_step\n",
    "    def _next_observation(self):\n",
    "        self.market_history.append([self.df.loc[self.current_step, 'CloseLogDiff'],\n",
    "                                        self.df.loc[self.current_step, 'Return_5'],\n",
    "                                        self.df.loc[self.current_step, 'MACD'],\n",
    "                                        self.df.loc[self.current_step, 'ATR'],\n",
    "                                        self.df.loc[self.current_step, 'STOCH']\n",
    "                                        ])\n",
    "        obs = np.concatenate((self.market_history, self.orders_history), axis=1)\n",
    "        return obs\n",
    "\n",
    "    # Execute one time step within the environment\n",
    "    def step(self, action):\n",
    "        self.stock_bought = 0\n",
    "        self.stock_sold = 0\n",
    "        self.current_step += 1\n",
    "\n",
    "        action_type = action[0]\n",
    "        action_percent = action[1]\n",
    "        \n",
    "        # Set the current price to a random price between open and close\n",
    "        current_price = random.uniform(\n",
    "            self.df.loc[self.current_step, 'Open'],\n",
    "            self.df.loc[self.current_step, 'Close'])\n",
    "        \n",
    "        if action_type < 1: # Hold\n",
    "\n",
    "            self.trades.append({'Date': str(self.df_orig.index[self.current_step]).rstrip(\"00:00:00\"),\n",
    "                                'Open': self.df_orig.Open[self.current_step],\n",
    "                                'High': self.df_orig.High[self.current_step],\n",
    "                                'Low': self.df_orig.Low[self.current_step],\n",
    "                                'Close': self.df_orig.Close[self.current_step],\n",
    "                                'Adj Close': self.df_orig['Adj Close'][self.current_step],\n",
    "                                'Volume': self.df_orig.Volume[self.current_step],\n",
    "                                'Net Worth': self.balance + self.stock_held * current_price,\n",
    "                                'Current Price': current_price,\n",
    "                                'Shares': self.stock_held,\n",
    "                                'Type': \"Hold\"})\n",
    "\n",
    "        elif action_type < 2 and int((self.balance * action_percent) / current_price) >= 1:\n",
    "            # Buy with % of current balance\n",
    "            self.stock_bought = int((self.balance * action_percent) / current_price)\n",
    "            self.balance -= self.stock_bought * current_price\n",
    "            self.stock_held += self.stock_bought\n",
    "                        \n",
    "            self.trades.append({'Date': str(self.df_orig.index[self.current_step]).rstrip(\"00:00:00\"),\n",
    "                                'Open': self.df_orig.Open[self.current_step],\n",
    "                                'High': self.df_orig.High[self.current_step],\n",
    "                                'Low': self.df_orig.Low[self.current_step],\n",
    "                                'Close': self.df_orig.Close[self.current_step],\n",
    "                                'Adj Close': self.df_orig['Adj Close'][self.current_step],\n",
    "                                'Volume': self.df_orig.Volume[self.current_step],\n",
    "                                'Net Worth': self.balance + self.stock_held * current_price,\n",
    "                                'Current Price': current_price,\n",
    "                                'Shares': self.stock_bought,\n",
    "                                'Type': \"Buy\"})\n",
    "\n",
    "        elif action_type < 3 and int(self.stock_held * action_percent) >= 1:\n",
    "            # Sell % of current stock held\n",
    "            self.stock_sold = int(self.stock_held * action_percent)\n",
    "            self.balance += self.stock_sold * current_price\n",
    "            self.stock_held -= self.stock_sold\n",
    "\n",
    "            self.trades.append({'Date': str(self.df_orig.index[self.current_step]).rstrip(\"00:00:00\"),\n",
    "                                'Open': self.df_orig.Open[self.current_step],\n",
    "                                'High': self.df_orig.High[self.current_step],\n",
    "                                'Low': self.df_orig.Low[self.current_step],\n",
    "                                'Close': self.df_orig.Close[self.current_step],\n",
    "                                'Adj Close': self.df_orig['Adj Close'][self.current_step],\n",
    "                                'Volume': self.df_orig.Volume[self.current_step],\n",
    "                                'Net Worth': self.balance + self.stock_held * current_price,\n",
    "                                'Current Price': current_price,\n",
    "                                'Shares': self.stock_sold,\n",
    "                                'Type': \"Sell\"})\n",
    "\n",
    "            \n",
    "        self.prev_net_worth = self.net_worth\n",
    "        self.net_worth = self.balance + self.stock_held * current_price\n",
    "\n",
    "        self.orders_history.append([self.balance, self.net_worth, self.stock_bought, self.stock_sold, self.stock_held])\n",
    "\n",
    "        # Calculate reward\n",
    "        reward = int((self.net_worth - self.initial_balance))\n",
    "        self.display_reward = reward\n",
    "        \n",
    "        if self.net_worth <= self.initial_balance/2:\n",
    "            done = True\n",
    "        elif self.current_step > self.end_step:\n",
    "            done = True\n",
    "        else:\n",
    "            done = False\n",
    "\n",
    "\n",
    "        obs = self._next_observation()\n",
    "\n",
    "        info = {'Step': self.current_step, 'Trades' : self.trades}\n",
    "    \n",
    "        return obs, reward, done, info\n",
    "\n",
    "    # render environment\n",
    "    def render(self, mode='cli'):\n",
    "        if mode == 'cli':\n",
    "            self.profit = self.net_worth - self.initial_balance\n",
    "            print('Step:%5d, Date: %10s, Reward:%4d, Stock [Held: %3d, Bought: %3d, Sold :%3d], NetWorth: %5.2f, Profit: %5.2f' % \n",
    "                      (self.current_step, str(self.df_orig.index[self.current_step]).rstrip(\"00:00:00\"),\n",
    "                       self.display_reward, self.stock_held, self.stock_bought, self.stock_sold, self.net_worth, self.profit))\n",
    "        if mode == 'gui':\n",
    "            pass\n"
   ]
  },
  {
   "cell_type": "code",
   "execution_count": 2,
   "id": "f897319f",
   "metadata": {},
   "outputs": [],
   "source": [
    "# Change the working directory to the currect path (of .ipynb and csv)\n",
    "import os\n",
    "import sys\n",
    "import math \n",
    "os.chdir(sys.path[0])  \n",
    "df = pd.read_csv('./KAJARIACER.csv')\n",
    "df = df.sort_values('Date')"
   ]
  },
  {
   "cell_type": "code",
   "execution_count": 3,
   "id": "70ad9189",
   "metadata": {},
   "outputs": [],
   "source": [
    "df['Date'] = pd.to_datetime(df['Date']) # Convert \"Date\" to datetime object.\n",
    "df.sort_values('Date', ascending=True, inplace=True) # Sort the \"Date\" Column by the values.\n",
    "df.set_index('Date', inplace=True) # Set the DataFrame index using \"Date\" Column."
   ]
  },
  {
   "cell_type": "code",
   "execution_count": 4,
   "id": "a1e787c9",
   "metadata": {
    "scrolled": true
   },
   "outputs": [
    {
     "data": {
      "text/html": [
       "<div>\n",
       "<style scoped>\n",
       "    .dataframe tbody tr th:only-of-type {\n",
       "        vertical-align: middle;\n",
       "    }\n",
       "\n",
       "    .dataframe tbody tr th {\n",
       "        vertical-align: top;\n",
       "    }\n",
       "\n",
       "    .dataframe thead th {\n",
       "        text-align: right;\n",
       "    }\n",
       "</style>\n",
       "<table border=\"1\" class=\"dataframe\">\n",
       "  <thead>\n",
       "    <tr style=\"text-align: right;\">\n",
       "      <th></th>\n",
       "      <th>Open</th>\n",
       "      <th>High</th>\n",
       "      <th>Low</th>\n",
       "      <th>Close</th>\n",
       "      <th>Adj Close</th>\n",
       "      <th>Volume</th>\n",
       "    </tr>\n",
       "    <tr>\n",
       "      <th>Date</th>\n",
       "      <th></th>\n",
       "      <th></th>\n",
       "      <th></th>\n",
       "      <th></th>\n",
       "      <th></th>\n",
       "      <th></th>\n",
       "    </tr>\n",
       "  </thead>\n",
       "  <tbody>\n",
       "    <tr>\n",
       "      <th>2010-01-04</th>\n",
       "      <td>26.049999</td>\n",
       "      <td>28.200001</td>\n",
       "      <td>26.049999</td>\n",
       "      <td>27.000000</td>\n",
       "      <td>23.964306</td>\n",
       "      <td>877408</td>\n",
       "    </tr>\n",
       "    <tr>\n",
       "      <th>2010-01-05</th>\n",
       "      <td>27.125000</td>\n",
       "      <td>28.200001</td>\n",
       "      <td>26.875000</td>\n",
       "      <td>27.125000</td>\n",
       "      <td>24.075254</td>\n",
       "      <td>508398</td>\n",
       "    </tr>\n",
       "    <tr>\n",
       "      <th>2010-01-06</th>\n",
       "      <td>27.500000</td>\n",
       "      <td>28.400000</td>\n",
       "      <td>26.625000</td>\n",
       "      <td>26.825001</td>\n",
       "      <td>23.808989</td>\n",
       "      <td>402216</td>\n",
       "    </tr>\n",
       "    <tr>\n",
       "      <th>2010-01-07</th>\n",
       "      <td>27.250000</td>\n",
       "      <td>27.549999</td>\n",
       "      <td>26.850000</td>\n",
       "      <td>27.100000</td>\n",
       "      <td>24.053064</td>\n",
       "      <td>478980</td>\n",
       "    </tr>\n",
       "    <tr>\n",
       "      <th>2010-01-08</th>\n",
       "      <td>27.250000</td>\n",
       "      <td>28.025000</td>\n",
       "      <td>26.525000</td>\n",
       "      <td>26.700001</td>\n",
       "      <td>23.698040</td>\n",
       "      <td>366642</td>\n",
       "    </tr>\n",
       "  </tbody>\n",
       "</table>\n",
       "</div>"
      ],
      "text/plain": [
       "                 Open       High        Low      Close  Adj Close  Volume\n",
       "Date                                                                     \n",
       "2010-01-04  26.049999  28.200001  26.049999  27.000000  23.964306  877408\n",
       "2010-01-05  27.125000  28.200001  26.875000  27.125000  24.075254  508398\n",
       "2010-01-06  27.500000  28.400000  26.625000  26.825001  23.808989  402216\n",
       "2010-01-07  27.250000  27.549999  26.850000  27.100000  24.053064  478980\n",
       "2010-01-08  27.250000  28.025000  26.525000  26.700001  23.698040  366642"
      ]
     },
     "execution_count": 4,
     "metadata": {},
     "output_type": "execute_result"
    }
   ],
   "source": [
    "df.head()"
   ]
  },
  {
   "cell_type": "code",
   "execution_count": 5,
   "id": "af8de10b",
   "metadata": {},
   "outputs": [],
   "source": [
    "def Random_games(env):\n",
    "    env.reset()\n",
    "    for _ in range(10):\n",
    "        env.render()\n",
    "        action=env.action_space.sample()\n",
    "#         print(action)\n",
    "        env.step(action) # take a random action\n",
    "    env.close()"
   ]
  },
  {
   "cell_type": "code",
   "execution_count": 6,
   "id": "39bfbd7b",
   "metadata": {},
   "outputs": [],
   "source": [
    "import talib\n",
    "import pandas as pd\n",
    "\n",
    "\n",
    "diff = lambda x, y: x - y\n",
    "abs_diff = lambda x, y: abs(x - y)\n",
    "\n",
    "\n",
    "indicators = [\n",
    "    ('RSI', talib.STOCHRSI, ['Close'])    \n",
    "]\n",
    "\n",
    "\n",
    "def add_indicators(df) -> pd.DataFrame:\n",
    "    for name, f, arg_names in indicators:\n",
    "        wrapper = lambda func, args: func(*args)\n",
    "        args = [df[arg_name] for arg_name in arg_names]\n",
    "        df[name] = wrapper(f, args)\n",
    "    df.fillna(method='bfill', inplace=True)\n",
    "    return df"
   ]
  },
  {
   "cell_type": "code",
   "execution_count": 7,
   "id": "ffa8b165",
   "metadata": {
    "scrolled": true
   },
   "outputs": [],
   "source": [
    "import gym\n",
    "import json\n",
    "import datetime as dt\n",
    "from stable_baselines.common.policies import MlpPolicy\n",
    "from stable_baselines.common.vec_env import DummyVecEnv\n",
    "from stable_baselines import PPO2\n",
    "# from StockTradingEnv import StockTradingEnv"
   ]
  },
  {
   "cell_type": "code",
   "execution_count": 8,
   "id": "7f3a7bf4",
   "metadata": {},
   "outputs": [],
   "source": [
    "# Train data = 70%, Validation data = 20%, Test data = 10%  \n",
    "train_range = math.floor(len(df.index)*.7)\n",
    "val_range = math.floor(len(df.index)*.2)\n",
    "test_range = math.floor(len(df.index)*.1)\n",
    "\n",
    "# Train DataFrame\n",
    "train_df = df[:train_range].sort_index()\n",
    "\n",
    "# Validation DataFrame\n",
    "val_df = df[train_range:train_range + val_range].sort_index()\n",
    "\n",
    "# Test DataFrame\n",
    "test_df = df[(train_range + val_range):(train_range + val_range + test_range)].sort_index()"
   ]
  },
  {
   "cell_type": "code",
   "execution_count": 9,
   "id": "ea6ae7a6",
   "metadata": {},
   "outputs": [],
   "source": [
    "import optuna\n",
    "from optuna import Trial, visualization\n",
    "\n",
    "from optuna.samplers import TPESampler"
   ]
  },
  {
   "cell_type": "code",
   "execution_count": 10,
   "id": "f5c5ef7c",
   "metadata": {},
   "outputs": [],
   "source": [
    "def optimize_ppo2_mlp(trial):\n",
    "    return {\n",
    "        'n_steps': int(trial.suggest_loguniform('n_steps', 16, 2048)),\n",
    "        'gamma': trial.suggest_loguniform('gamma', 0.9, 0.9999),\n",
    "        'learning_rate': trial.suggest_loguniform('learning_rate', 1e-5, 1.),\n",
    "        'ent_coef': trial.suggest_loguniform('ent_coef', 1e-8, 1e-1),\n",
    "        'cliprange': trial.suggest_uniform('cliprange', 0.1, 0.4),\n",
    "        'noptepochs': int(trial.suggest_loguniform('noptepochs', 1, 48)),\n",
    "        'lam': trial.suggest_uniform('lam', 0.8, 1.)\n",
    "    }"
   ]
  },
  {
   "cell_type": "code",
   "execution_count": 11,
   "id": "5f15c9f6",
   "metadata": {},
   "outputs": [],
   "source": [
    "def objective_ppo2_mlp(trial):\n",
    "    agent_params = optimize_ppo2_mlp(trial)\n",
    "    \n",
    "    train_env = DummyVecEnv([lambda: StockTradingEnv(train_df)])\n",
    "    model = PPO2(MlpPolicy, train_env, nminibatches=1, **agent_params,  tensorboard_log=\"./tensorboard/PPO2_MLP_test\")\n",
    "    \n",
    "    model.learn(total_timesteps=len(train_df))\n",
    "    \n",
    "    rewards, done = [], False\n",
    "\n",
    "    val_env = DummyVecEnv([lambda: StockTradingEnv(val_df)])\n",
    "    obs = val_env.reset()\n",
    "    \n",
    "    for i in range(len(val_df)):\n",
    "        action, _states = model.predict(obs, deterministic=False)\n",
    "        obs, reward, done, info = val_env.step(action)\n",
    "        rewards.append(reward)\n",
    "        \n",
    "    return -np.mean(rewards)"
   ]
  },
  {
   "cell_type": "code",
   "execution_count": 12,
   "id": "d13c1bfc",
   "metadata": {},
   "outputs": [
    {
     "name": "stderr",
     "output_type": "stream",
     "text": [
      "\u001b[32m[I 2022-04-11 15:28:54,587]\u001b[0m A new study created in RDB with name: PPO2_MLP_optimize_profit_test\u001b[0m\n",
      "\u001b[32m[I 2022-04-11 15:29:12,200]\u001b[0m Trial 0 finished with value: 309.11383056640625 and parameters: {'n_steps': 1427.8526814524866, 'gamma': 0.9101963001604267, 'learning_rate': 6.0272891570215e-05, 'ent_coef': 0.003149049632223071, 'cliprange': 0.3257663147074419, 'noptepochs': 38.425081736471455, 'lam': 0.8498732914337372}. Best is trial 0 with value: 309.11383056640625.\u001b[0m\n",
      "\u001b[32m[I 2022-04-11 15:29:12,704]\u001b[0m Trial 2 finished with value: -29.524391174316406 and parameters: {'n_steps': 117.56459298372633, 'gamma': 0.9065349585581739, 'learning_rate': 0.0002030615102292118, 'ent_coef': 9.245267868604935e-05, 'cliprange': 0.27438812146974273, 'noptepochs': 1.3624926003794675, 'lam': 0.9172992901470256}. Best is trial 2 with value: -29.524391174316406.\u001b[0m\n",
      "\u001b[32m[I 2022-04-11 15:29:13,670]\u001b[0m Trial 3 finished with value: -402.56097412109375 and parameters: {'n_steps': 48.641580005034704, 'gamma': 0.9730533916259573, 'learning_rate': 3.640172869937587e-05, 'ent_coef': 4.161654239051995e-06, 'cliprange': 0.24440195717878416, 'noptepochs': 2.1415325373698364, 'lam': 0.875423899154727}. Best is trial 3 with value: -402.56097412109375.\u001b[0m\n",
      "\u001b[32m[I 2022-04-11 15:29:14,825]\u001b[0m Trial 1 finished with value: -0.0 and parameters: {'n_steps': 47.843368934171856, 'gamma': 0.9227353200456211, 'learning_rate': 0.6090156890828209, 'ent_coef': 1.1095935228804556e-08, 'cliprange': 0.10281095666019156, 'noptepochs': 11.293965116468641, 'lam': 0.9219460146749776}. Best is trial 3 with value: -402.56097412109375.\u001b[0m\n",
      "\u001b[32m[I 2022-04-11 15:29:28,625]\u001b[0m Trial 4 finished with value: 1202.1748046875 and parameters: {'n_steps': 643.9109427120741, 'gamma': 0.9082380774706336, 'learning_rate': 0.0034319779826551843, 'ent_coef': 3.9771428613109e-06, 'cliprange': 0.11314316242260278, 'noptepochs': 19.454138257471467, 'lam': 0.9886317814467556}. Best is trial 3 with value: -402.56097412109375.\u001b[0m\n",
      "\u001b[32m[I 2022-04-11 15:29:29,328]\u001b[0m Trial 6 finished with value: 117.668701171875 and parameters: {'n_steps': 1206.7326147058839, 'gamma': 0.9181308342056382, 'learning_rate': 0.5413274447280052, 'ent_coef': 2.001141929007072e-05, 'cliprange': 0.3195442798206901, 'noptepochs': 28.05869935081299, 'lam': 0.973951896721686}. Best is trial 3 with value: -402.56097412109375.\u001b[0m\n",
      "\u001b[32m[I 2022-04-11 15:29:34,957]\u001b[0m Trial 7 finished with value: -0.0 and parameters: {'n_steps': 29.70315439079185, 'gamma': 0.9827029089042658, 'learning_rate': 0.8601322103763739, 'ent_coef': 1.4307663584553815e-07, 'cliprange': 0.2566093771727787, 'noptepochs': 1.0742707467602004, 'lam': 0.8740244245942093}. Best is trial 3 with value: -402.56097412109375.\u001b[0m\n",
      "\u001b[32m[I 2022-04-11 15:29:47,369]\u001b[0m Trial 8 finished with value: 973.86181640625 and parameters: {'n_steps': 527.4024353643078, 'gamma': 0.9552112056544422, 'learning_rate': 0.0002787364175196116, 'ent_coef': 0.001629706293075876, 'cliprange': 0.19266645368659702, 'noptepochs': 5.921544663630059, 'lam': 0.8870219994195176}. Best is trial 3 with value: -402.56097412109375.\u001b[0m\n",
      "\u001b[32m[I 2022-04-11 15:29:48,760]\u001b[0m Trial 9 finished with value: -576.4471435546875 and parameters: {'n_steps': 134.65508786844322, 'gamma': 0.9271269139594669, 'learning_rate': 0.00026136240618242267, 'ent_coef': 3.5368807091355746e-07, 'cliprange': 0.13462590611168496, 'noptepochs': 12.494541462059507, 'lam': 0.9167508040465403}. Best is trial 9 with value: -576.4471435546875.\u001b[0m\n",
      "\u001b[32m[I 2022-04-11 15:30:02,512]\u001b[0m Trial 5 finished with value: -273.03253173828125 and parameters: {'n_steps': 22.21729603630044, 'gamma': 0.9721281527305501, 'learning_rate': 5.2893727020314905e-05, 'ent_coef': 0.05138975808683742, 'cliprange': 0.2946994430692555, 'noptepochs': 34.862864535052495, 'lam': 0.8266079497871128}. Best is trial 9 with value: -576.4471435546875.\u001b[0m\n",
      "\u001b[32m[I 2022-04-11 15:30:03,160]\u001b[0m Trial 10 finished with value: -75.52032470703125 and parameters: {'n_steps': 35.94350792141046, 'gamma': 0.9170672398326655, 'learning_rate': 0.0014544385730265352, 'ent_coef': 7.878081877258677e-08, 'cliprange': 0.3565198626349384, 'noptepochs': 16.722013009414084, 'lam': 0.8198171826367934}. Best is trial 9 with value: -576.4471435546875.\u001b[0m\n",
      "\u001b[32m[I 2022-04-11 15:30:04,102]\u001b[0m Trial 11 finished with value: 609.8963623046875 and parameters: {'n_steps': 1469.4026399532854, 'gamma': 0.9275788381467611, 'learning_rate': 9.856078853590652e-05, 'ent_coef': 1.617288828984889e-05, 'cliprange': 0.12167134252776168, 'noptepochs': 3.0670133239243205, 'lam': 0.8523165174508562}. Best is trial 9 with value: -576.4471435546875.\u001b[0m\n",
      "\u001b[32m[I 2022-04-11 15:30:09,056]\u001b[0m Trial 12 finished with value: 1083.6727294921875 and parameters: {'n_steps': 268.89173539600523, 'gamma': 0.9985801558104965, 'learning_rate': 1.3429321835572322e-05, 'ent_coef': 3.6041982608132447e-08, 'cliprange': 0.2712115266548605, 'noptepochs': 37.100391799871595, 'lam': 0.8830869627464168}. Best is trial 9 with value: -576.4471435546875.\u001b[0m\n",
      "\u001b[32m[I 2022-04-11 15:30:23,416]\u001b[0m Trial 13 finished with value: 661.1788330078125 and parameters: {'n_steps': 192.1753929746775, 'gamma': 0.935426546589541, 'learning_rate': 0.007975974177921468, 'ent_coef': 1.875976129185571e-07, 'cliprange': 0.1758937955738119, 'noptepochs': 5.112914522287846, 'lam': 0.9592821870429851}. Best is trial 9 with value: -576.4471435546875.\u001b[0m\n",
      "\u001b[32m[I 2022-04-11 15:30:24,290]\u001b[0m Trial 14 finished with value: 1563.6483154296875 and parameters: {'n_steps': 128.32800633127522, 'gamma': 0.9410679029124298, 'learning_rate': 1.0508421248179397e-05, 'ent_coef': 8.567123359654876e-07, 'cliprange': 0.18573135270617266, 'noptepochs': 3.1935443733098707, 'lam': 0.9471948912755088}. Best is trial 9 with value: -576.4471435546875.\u001b[0m\n",
      "\u001b[32m[I 2022-04-11 15:30:26,474]\u001b[0m Trial 15 finished with value: 747.569091796875 and parameters: {'n_steps': 119.30802067459382, 'gamma': 0.9986420926719003, 'learning_rate': 1.761491562830173e-05, 'ent_coef': 8.579579027387324e-07, 'cliprange': 0.17882941088281956, 'noptepochs': 4.219539130612831, 'lam': 0.9449366036871856}. Best is trial 9 with value: -576.4471435546875.\u001b[0m\n",
      "\u001b[32m[I 2022-04-11 15:30:31,437]\u001b[0m Trial 16 finished with value: -492.5365905761719 and parameters: {'n_steps': 92.67311974863127, 'gamma': 0.9396412716600672, 'learning_rate': 0.0025195975297779374, 'ent_coef': 8.46690439957377e-07, 'cliprange': 0.1990090538660546, 'noptepochs': 4.314483224117203, 'lam': 0.9474957192981299}. Best is trial 9 with value: -576.4471435546875.\u001b[0m\n",
      "\u001b[32m[I 2022-04-11 15:30:43,207]\u001b[0m Trial 17 finished with value: 446.8251953125 and parameters: {'n_steps': 103.74962730907768, 'gamma': 0.9523727408239969, 'learning_rate': 0.0007852612830668795, 'ent_coef': 8.583727571454602e-07, 'cliprange': 0.18756798400430288, 'noptepochs': 2.777733925130165, 'lam': 0.9415807791842576}. Best is trial 9 with value: -576.4471435546875.\u001b[0m\n",
      "\u001b[32m[I 2022-04-11 15:30:45,689]\u001b[0m Trial 18 finished with value: -591.7906494140625 and parameters: {'n_steps': 67.29249412336303, 'gamma': 0.9591102443825824, 'learning_rate': 0.0006631816632049884, 'ent_coef': 1.5899428516864257e-06, 'cliprange': 0.39371124942462005, 'noptepochs': 9.134341184255051, 'lam': 0.9169528862080345}. Best is trial 18 with value: -591.7906494140625.\u001b[0m\n",
      "\u001b[32m[I 2022-04-11 15:30:48,988]\u001b[0m Trial 19 finished with value: -297.0365905761719 and parameters: {'n_steps': 63.43116882382787, 'gamma': 0.9581341760508694, 'learning_rate': 0.0006684292247914314, 'ent_coef': 0.00017055431770249979, 'cliprange': 0.39824823113198293, 'noptepochs': 9.518689266916512, 'lam': 0.9142431498991983}. Best is trial 18 with value: -591.7906494140625.\u001b[0m\n",
      "\u001b[32m[I 2022-04-11 15:30:51,498]\u001b[0m Trial 20 finished with value: -0.0 and parameters: {'n_steps': 69.70400108288797, 'gamma': 0.9480672360675276, 'learning_rate': 0.02581458412829323, 'ent_coef': 7.778803164001012e-07, 'cliprange': 0.14728957503304801, 'noptepochs': 9.435200015502499, 'lam': 0.9225601053831956}. Best is trial 18 with value: -591.7906494140625.\u001b[0m\n",
      "\u001b[32m[I 2022-04-11 15:31:01,747]\u001b[0m Trial 21 finished with value: 272.1666564941406 and parameters: {'n_steps': 318.61561527150815, 'gamma': 0.9370072732616982, 'learning_rate': 0.0228933162237084, 'ent_coef': 0.00022397885912046382, 'cliprange': 0.13983371698213987, 'noptepochs': 9.554581218797834, 'lam': 0.9129204437840931}. Best is trial 18 with value: -591.7906494140625.\u001b[0m\n"
     ]
    },
    {
     "name": "stderr",
     "output_type": "stream",
     "text": [
      "\u001b[32m[I 2022-04-11 15:31:04,703]\u001b[0m Trial 22 finished with value: 55.418697357177734 and parameters: {'n_steps': 336.6957943291277, 'gamma': 0.9618183136664568, 'learning_rate': 0.022486247986613667, 'ent_coef': 0.00015476492185959118, 'cliprange': 0.3997326478346228, 'noptepochs': 10.377861167645223, 'lam': 0.9110554169613557}. Best is trial 18 with value: -591.7906494140625.\u001b[0m\n",
      "\u001b[32m[I 2022-04-11 15:31:10,478]\u001b[0m Trial 24 finished with value: 716.6727905273438 and parameters: {'n_steps': 290.12959368252973, 'gamma': 0.9339673348632421, 'learning_rate': 0.02295754007800709, 'ent_coef': 4.74672937506445e-06, 'cliprange': 0.2235462268665498, 'noptepochs': 7.450824354195253, 'lam': 0.9039289775969044}. Best is trial 18 with value: -591.7906494140625.\u001b[0m\n",
      "\u001b[32m[I 2022-04-11 15:31:20,789]\u001b[0m Trial 23 finished with value: 22.022357940673828 and parameters: {'n_steps': 16.386655711614512, 'gamma': 0.963724228216155, 'learning_rate': 0.019334847792036848, 'ent_coef': 5.0748234675929466e-06, 'cliprange': 0.1478365614123256, 'noptepochs': 8.487009559886587, 'lam': 0.9063507937583822}. Best is trial 18 with value: -591.7906494140625.\u001b[0m\n",
      "\u001b[32m[I 2022-04-11 15:31:24,816]\u001b[0m Trial 25 finished with value: -0.0 and parameters: {'n_steps': 79.99525035136436, 'gamma': 0.9650533305008466, 'learning_rate': 0.00421791395371734, 'ent_coef': 3.856781731844768e-06, 'cliprange': 0.22608626990910372, 'noptepochs': 15.583005545858896, 'lam': 0.9638304010055859}. Best is trial 18 with value: -591.7906494140625.\u001b[0m\n",
      "\u001b[32m[I 2022-04-11 15:31:28,115]\u001b[0m Trial 26 finished with value: -89.23577117919922 and parameters: {'n_steps': 74.46219980020234, 'gamma': 0.9305556827499826, 'learning_rate': 0.0038618516992342186, 'ent_coef': 4.75973054499735e-06, 'cliprange': 0.22192064967308187, 'noptepochs': 18.19611116573582, 'lam': 0.9675143422009715}. Best is trial 18 with value: -591.7906494140625.\u001b[0m\n",
      "\u001b[32m[I 2022-04-11 15:31:34,360]\u001b[0m Trial 27 finished with value: -212.91259765625 and parameters: {'n_steps': 78.18550058255443, 'gamma': 0.944749919798454, 'learning_rate': 0.005832018446975119, 'ent_coef': 2.8642634962619637e-07, 'cliprange': 0.22005431653669655, 'noptepochs': 14.573992027329279, 'lam': 0.9336852291253505}. Best is trial 18 with value: -591.7906494140625.\u001b[0m\n",
      "\u001b[32m[I 2022-04-11 15:31:46,506]\u001b[0m Trial 29 finished with value: 289.9248046875 and parameters: {'n_steps': 184.9354790469268, 'gamma': 0.9456626491478275, 'learning_rate': 0.0003167085497490494, 'ent_coef': 3.210494454739354e-07, 'cliprange': 0.20988754918665503, 'noptepochs': 4.481482515681736, 'lam': 0.9994210542843458}. Best is trial 18 with value: -591.7906494140625.\u001b[0m\n",
      "\u001b[32m[I 2022-04-11 15:31:47,820]\u001b[0m Trial 28 finished with value: -275.1280517578125 and parameters: {'n_steps': 76.01082325666371, 'gamma': 0.9456768380437541, 'learning_rate': 0.002336908991010523, 'ent_coef': 1.580671857249761e-08, 'cliprange': 0.2222838168081487, 'noptepochs': 15.799600134789914, 'lam': 0.9973629223464512}. Best is trial 18 with value: -591.7906494140625.\u001b[0m\n",
      "\u001b[32m[I 2022-04-11 15:31:49,860]\u001b[0m Trial 30 finished with value: 173.1239776611328 and parameters: {'n_steps': 46.507604633829565, 'gamma': 0.941685402613506, 'learning_rate': 0.10524412135799197, 'ent_coef': 2.521036332584405e-07, 'cliprange': 0.3741523417145842, 'noptepochs': 4.397611699063577, 'lam': 0.9339074613902849}. Best is trial 18 with value: -591.7906494140625.\u001b[0m\n",
      "\u001b[32m[I 2022-04-11 15:31:56,281]\u001b[0m Trial 31 finished with value: 954.1260375976562 and parameters: {'n_steps': 169.2824308178845, 'gamma': 0.9429594220131609, 'learning_rate': 0.0013781763188232623, 'ent_coef': 2.6869278629860654e-08, 'cliprange': 0.3632590403870839, 'noptepochs': 4.609739458693535, 'lam': 0.9987969548439523}. Best is trial 18 with value: -591.7906494140625.\u001b[0m\n",
      "\u001b[32m[I 2022-04-11 15:32:07,386]\u001b[0m Trial 32 finished with value: 636.180908203125 and parameters: {'n_steps': 171.28579212743094, 'gamma': 0.9148368169938638, 'learning_rate': 0.0014112502158873464, 'ent_coef': 2.2476344645546463e-08, 'cliprange': 0.35365450111525354, 'noptepochs': 6.662316779017848, 'lam': 0.8563741813690547}. Best is trial 18 with value: -591.7906494140625.\u001b[0m\n",
      "\u001b[32m[I 2022-04-11 15:32:08,100]\u001b[0m Trial 33 finished with value: -0.0 and parameters: {'n_steps': 157.43654734965588, 'gamma': 0.9142852731844654, 'learning_rate': 0.1357946196237429, 'ent_coef': 4.8592423713083715e-08, 'cliprange': 0.34599708767131765, 'noptepochs': 6.184765022689976, 'lam': 0.8607586606622855}. Best is trial 18 with value: -591.7906494140625.\u001b[0m\n",
      "\u001b[32m[I 2022-04-11 15:32:09,187]\u001b[0m Trial 34 finished with value: 736.8516235351562 and parameters: {'n_steps': 45.90136636587474, 'gamma': 0.9768427364201483, 'learning_rate': 4.95193488523155e-05, 'ent_coef': 1.7845802730234388e-06, 'cliprange': 0.24863549199992702, 'noptepochs': 1.671420895221908, 'lam': 0.8561544471127996}. Best is trial 18 with value: -591.7906494140625.\u001b[0m\n",
      "\u001b[32m[I 2022-04-11 15:32:18,040]\u001b[0m Trial 35 finished with value: 956.7845458984375 and parameters: {'n_steps': 46.893302624330055, 'gamma': 0.9745560967114989, 'learning_rate': 8.505768533855966e-05, 'ent_coef': 1.8408611009403653e-06, 'cliprange': 0.29294399889643474, 'noptepochs': 2.0687962401597373, 'lam': 0.8606647479786252}. Best is trial 18 with value: -591.7906494140625.\u001b[0m\n",
      "\u001b[32m[I 2022-04-11 15:32:27,983]\u001b[0m Trial 36 finished with value: 574.6300659179688 and parameters: {'n_steps': 51.64497665404515, 'gamma': 0.9751714156788103, 'learning_rate': 3.9716182566676204e-05, 'ent_coef': 1.826520410682568e-06, 'cliprange': 0.315028131757688, 'noptepochs': 1.9632511776987578, 'lam': 0.8896863743798017}. Best is trial 18 with value: -591.7906494140625.\u001b[0m\n",
      "\u001b[32m[I 2022-04-11 15:32:29,654]\u001b[0m Trial 38 finished with value: 314.57318115234375 and parameters: {'n_steps': 34.15326449063219, 'gamma': 0.9002445538170847, 'learning_rate': 0.00011465633474983014, 'ent_coef': 1.3011751251902476e-05, 'cliprange': 0.2987853527667117, 'noptepochs': 1.9537403459681157, 'lam': 0.8933612774347494}. Best is trial 18 with value: -591.7906494140625.\u001b[0m\n",
      "\u001b[32m[I 2022-04-11 15:32:29,851]\u001b[0m Trial 37 finished with value: 973.2947387695312 and parameters: {'n_steps': 47.387126710029136, 'gamma': 0.9763963437711064, 'learning_rate': 5.092190812175935e-05, 'ent_coef': 5.1637107215904605e-05, 'cliprange': 0.304284980332978, 'noptepochs': 1.9057499219385956, 'lam': 0.8918097204403256}. Best is trial 18 with value: -591.7906494140625.\u001b[0m\n",
      "\u001b[32m[I 2022-04-11 15:32:39,218]\u001b[0m Trial 39 finished with value: 1312.1097412109375 and parameters: {'n_steps': 29.81688412552911, 'gamma': 0.9883548768360808, 'learning_rate': 2.932058895508055e-05, 'ent_coef': 5.473384221091756e-05, 'cliprange': 0.31746503532709364, 'noptepochs': 23.979611191895593, 'lam': 0.8361142877145198}. Best is trial 18 with value: -591.7906494140625.\u001b[0m\n"
     ]
    }
   ],
   "source": [
    "optuna.delete_study(study_name='PPO2_MLP_optimize_profit_test', storage='sqlite:///params.db')\n",
    "study_PPO2_MLP_test = optuna.create_study(study_name='PPO2_MLP_optimize_profit_test', storage='sqlite:///params.db', \n",
    "                            load_if_exists=True, sampler=TPESampler())\n",
    "study_PPO2_MLP_test.optimize(objective_ppo2_mlp, n_trials=40, n_jobs=4, show_progress_bar = True)"
   ]
  },
  {
   "cell_type": "code",
   "execution_count": 13,
   "id": "8f128733",
   "metadata": {},
   "outputs": [
    {
     "data": {
      "text/plain": [
       "{'cliprange': 0.39371124942462005,\n",
       " 'ent_coef': 1.5899428516864257e-06,\n",
       " 'gamma': 0.9591102443825824,\n",
       " 'lam': 0.9169528862080345,\n",
       " 'learning_rate': 0.0006631816632049884,\n",
       " 'n_steps': 67.29249412336303,\n",
       " 'noptepochs': 9.134341184255051}"
      ]
     },
     "execution_count": 13,
     "metadata": {},
     "output_type": "execute_result"
    }
   ],
   "source": [
    "study_PPO2_MLP_test.best_params"
   ]
  },
  {
   "cell_type": "code",
   "execution_count": 14,
   "id": "9d770b41",
   "metadata": {},
   "outputs": [
    {
     "data": {
      "application/vnd.plotly.v1+json": {
       "config": {
        "plotlyServerURL": "https://plot.ly"
       },
       "data": [
        {
         "mode": "markers",
         "name": "Objective Value",
         "type": "scatter",
         "x": [
          0,
          1,
          2,
          3,
          4,
          5,
          6,
          7,
          8,
          9,
          10,
          11,
          12,
          13,
          14,
          15,
          16,
          17,
          18,
          19,
          20,
          21,
          22,
          23,
          24,
          25,
          26,
          27,
          28,
          29,
          30,
          31,
          32,
          33,
          34,
          35,
          36,
          37,
          38,
          39
         ],
         "y": [
          309.11383056640625,
          0,
          -29.524391174316406,
          -402.56097412109375,
          1202.1748046875,
          -273.03253173828125,
          117.668701171875,
          0,
          973.86181640625,
          -576.4471435546875,
          -75.52032470703125,
          609.8963623046875,
          1083.6727294921875,
          661.1788330078125,
          1563.6483154296875,
          747.569091796875,
          -492.5365905761719,
          446.8251953125,
          -591.7906494140625,
          -297.0365905761719,
          0,
          272.1666564941406,
          55.418697357177734,
          22.022357940673828,
          716.6727905273438,
          0,
          -89.23577117919922,
          -212.91259765625,
          -275.1280517578125,
          289.9248046875,
          173.1239776611328,
          954.1260375976562,
          636.180908203125,
          0,
          736.8516235351562,
          956.7845458984375,
          574.6300659179688,
          973.2947387695312,
          314.57318115234375,
          1312.1097412109375
         ]
        },
        {
         "name": "Best Value",
         "type": "scatter",
         "x": [
          0,
          1,
          2,
          3,
          4,
          5,
          6,
          7,
          8,
          9,
          10,
          11,
          12,
          13,
          14,
          15,
          16,
          17,
          18,
          19,
          20,
          21,
          22,
          23,
          24,
          25,
          26,
          27,
          28,
          29,
          30,
          31,
          32,
          33,
          34,
          35,
          36,
          37,
          38,
          39
         ],
         "y": [
          309.11383056640625,
          0,
          -29.524391174316406,
          -402.56097412109375,
          -402.56097412109375,
          -402.56097412109375,
          -402.56097412109375,
          -402.56097412109375,
          -402.56097412109375,
          -576.4471435546875,
          -576.4471435546875,
          -576.4471435546875,
          -576.4471435546875,
          -576.4471435546875,
          -576.4471435546875,
          -576.4471435546875,
          -576.4471435546875,
          -576.4471435546875,
          -591.7906494140625,
          -591.7906494140625,
          -591.7906494140625,
          -591.7906494140625,
          -591.7906494140625,
          -591.7906494140625,
          -591.7906494140625,
          -591.7906494140625,
          -591.7906494140625,
          -591.7906494140625,
          -591.7906494140625,
          -591.7906494140625,
          -591.7906494140625,
          -591.7906494140625,
          -591.7906494140625,
          -591.7906494140625,
          -591.7906494140625,
          -591.7906494140625,
          -591.7906494140625,
          -591.7906494140625,
          -591.7906494140625,
          -591.7906494140625
         ]
        }
       ],
       "layout": {
        "template": {
         "data": {
          "bar": [
           {
            "error_x": {
             "color": "#2a3f5f"
            },
            "error_y": {
             "color": "#2a3f5f"
            },
            "marker": {
             "line": {
              "color": "#E5ECF6",
              "width": 0.5
             },
             "pattern": {
              "fillmode": "overlay",
              "size": 10,
              "solidity": 0.2
             }
            },
            "type": "bar"
           }
          ],
          "barpolar": [
           {
            "marker": {
             "line": {
              "color": "#E5ECF6",
              "width": 0.5
             },
             "pattern": {
              "fillmode": "overlay",
              "size": 10,
              "solidity": 0.2
             }
            },
            "type": "barpolar"
           }
          ],
          "carpet": [
           {
            "aaxis": {
             "endlinecolor": "#2a3f5f",
             "gridcolor": "white",
             "linecolor": "white",
             "minorgridcolor": "white",
             "startlinecolor": "#2a3f5f"
            },
            "baxis": {
             "endlinecolor": "#2a3f5f",
             "gridcolor": "white",
             "linecolor": "white",
             "minorgridcolor": "white",
             "startlinecolor": "#2a3f5f"
            },
            "type": "carpet"
           }
          ],
          "choropleth": [
           {
            "colorbar": {
             "outlinewidth": 0,
             "ticks": ""
            },
            "type": "choropleth"
           }
          ],
          "contour": [
           {
            "colorbar": {
             "outlinewidth": 0,
             "ticks": ""
            },
            "colorscale": [
             [
              0,
              "#0d0887"
             ],
             [
              0.1111111111111111,
              "#46039f"
             ],
             [
              0.2222222222222222,
              "#7201a8"
             ],
             [
              0.3333333333333333,
              "#9c179e"
             ],
             [
              0.4444444444444444,
              "#bd3786"
             ],
             [
              0.5555555555555556,
              "#d8576b"
             ],
             [
              0.6666666666666666,
              "#ed7953"
             ],
             [
              0.7777777777777778,
              "#fb9f3a"
             ],
             [
              0.8888888888888888,
              "#fdca26"
             ],
             [
              1,
              "#f0f921"
             ]
            ],
            "type": "contour"
           }
          ],
          "contourcarpet": [
           {
            "colorbar": {
             "outlinewidth": 0,
             "ticks": ""
            },
            "type": "contourcarpet"
           }
          ],
          "heatmap": [
           {
            "colorbar": {
             "outlinewidth": 0,
             "ticks": ""
            },
            "colorscale": [
             [
              0,
              "#0d0887"
             ],
             [
              0.1111111111111111,
              "#46039f"
             ],
             [
              0.2222222222222222,
              "#7201a8"
             ],
             [
              0.3333333333333333,
              "#9c179e"
             ],
             [
              0.4444444444444444,
              "#bd3786"
             ],
             [
              0.5555555555555556,
              "#d8576b"
             ],
             [
              0.6666666666666666,
              "#ed7953"
             ],
             [
              0.7777777777777778,
              "#fb9f3a"
             ],
             [
              0.8888888888888888,
              "#fdca26"
             ],
             [
              1,
              "#f0f921"
             ]
            ],
            "type": "heatmap"
           }
          ],
          "heatmapgl": [
           {
            "colorbar": {
             "outlinewidth": 0,
             "ticks": ""
            },
            "colorscale": [
             [
              0,
              "#0d0887"
             ],
             [
              0.1111111111111111,
              "#46039f"
             ],
             [
              0.2222222222222222,
              "#7201a8"
             ],
             [
              0.3333333333333333,
              "#9c179e"
             ],
             [
              0.4444444444444444,
              "#bd3786"
             ],
             [
              0.5555555555555556,
              "#d8576b"
             ],
             [
              0.6666666666666666,
              "#ed7953"
             ],
             [
              0.7777777777777778,
              "#fb9f3a"
             ],
             [
              0.8888888888888888,
              "#fdca26"
             ],
             [
              1,
              "#f0f921"
             ]
            ],
            "type": "heatmapgl"
           }
          ],
          "histogram": [
           {
            "marker": {
             "pattern": {
              "fillmode": "overlay",
              "size": 10,
              "solidity": 0.2
             }
            },
            "type": "histogram"
           }
          ],
          "histogram2d": [
           {
            "colorbar": {
             "outlinewidth": 0,
             "ticks": ""
            },
            "colorscale": [
             [
              0,
              "#0d0887"
             ],
             [
              0.1111111111111111,
              "#46039f"
             ],
             [
              0.2222222222222222,
              "#7201a8"
             ],
             [
              0.3333333333333333,
              "#9c179e"
             ],
             [
              0.4444444444444444,
              "#bd3786"
             ],
             [
              0.5555555555555556,
              "#d8576b"
             ],
             [
              0.6666666666666666,
              "#ed7953"
             ],
             [
              0.7777777777777778,
              "#fb9f3a"
             ],
             [
              0.8888888888888888,
              "#fdca26"
             ],
             [
              1,
              "#f0f921"
             ]
            ],
            "type": "histogram2d"
           }
          ],
          "histogram2dcontour": [
           {
            "colorbar": {
             "outlinewidth": 0,
             "ticks": ""
            },
            "colorscale": [
             [
              0,
              "#0d0887"
             ],
             [
              0.1111111111111111,
              "#46039f"
             ],
             [
              0.2222222222222222,
              "#7201a8"
             ],
             [
              0.3333333333333333,
              "#9c179e"
             ],
             [
              0.4444444444444444,
              "#bd3786"
             ],
             [
              0.5555555555555556,
              "#d8576b"
             ],
             [
              0.6666666666666666,
              "#ed7953"
             ],
             [
              0.7777777777777778,
              "#fb9f3a"
             ],
             [
              0.8888888888888888,
              "#fdca26"
             ],
             [
              1,
              "#f0f921"
             ]
            ],
            "type": "histogram2dcontour"
           }
          ],
          "mesh3d": [
           {
            "colorbar": {
             "outlinewidth": 0,
             "ticks": ""
            },
            "type": "mesh3d"
           }
          ],
          "parcoords": [
           {
            "line": {
             "colorbar": {
              "outlinewidth": 0,
              "ticks": ""
             }
            },
            "type": "parcoords"
           }
          ],
          "pie": [
           {
            "automargin": true,
            "type": "pie"
           }
          ],
          "scatter": [
           {
            "marker": {
             "colorbar": {
              "outlinewidth": 0,
              "ticks": ""
             }
            },
            "type": "scatter"
           }
          ],
          "scatter3d": [
           {
            "line": {
             "colorbar": {
              "outlinewidth": 0,
              "ticks": ""
             }
            },
            "marker": {
             "colorbar": {
              "outlinewidth": 0,
              "ticks": ""
             }
            },
            "type": "scatter3d"
           }
          ],
          "scattercarpet": [
           {
            "marker": {
             "colorbar": {
              "outlinewidth": 0,
              "ticks": ""
             }
            },
            "type": "scattercarpet"
           }
          ],
          "scattergeo": [
           {
            "marker": {
             "colorbar": {
              "outlinewidth": 0,
              "ticks": ""
             }
            },
            "type": "scattergeo"
           }
          ],
          "scattergl": [
           {
            "marker": {
             "colorbar": {
              "outlinewidth": 0,
              "ticks": ""
             }
            },
            "type": "scattergl"
           }
          ],
          "scattermapbox": [
           {
            "marker": {
             "colorbar": {
              "outlinewidth": 0,
              "ticks": ""
             }
            },
            "type": "scattermapbox"
           }
          ],
          "scatterpolar": [
           {
            "marker": {
             "colorbar": {
              "outlinewidth": 0,
              "ticks": ""
             }
            },
            "type": "scatterpolar"
           }
          ],
          "scatterpolargl": [
           {
            "marker": {
             "colorbar": {
              "outlinewidth": 0,
              "ticks": ""
             }
            },
            "type": "scatterpolargl"
           }
          ],
          "scatterternary": [
           {
            "marker": {
             "colorbar": {
              "outlinewidth": 0,
              "ticks": ""
             }
            },
            "type": "scatterternary"
           }
          ],
          "surface": [
           {
            "colorbar": {
             "outlinewidth": 0,
             "ticks": ""
            },
            "colorscale": [
             [
              0,
              "#0d0887"
             ],
             [
              0.1111111111111111,
              "#46039f"
             ],
             [
              0.2222222222222222,
              "#7201a8"
             ],
             [
              0.3333333333333333,
              "#9c179e"
             ],
             [
              0.4444444444444444,
              "#bd3786"
             ],
             [
              0.5555555555555556,
              "#d8576b"
             ],
             [
              0.6666666666666666,
              "#ed7953"
             ],
             [
              0.7777777777777778,
              "#fb9f3a"
             ],
             [
              0.8888888888888888,
              "#fdca26"
             ],
             [
              1,
              "#f0f921"
             ]
            ],
            "type": "surface"
           }
          ],
          "table": [
           {
            "cells": {
             "fill": {
              "color": "#EBF0F8"
             },
             "line": {
              "color": "white"
             }
            },
            "header": {
             "fill": {
              "color": "#C8D4E3"
             },
             "line": {
              "color": "white"
             }
            },
            "type": "table"
           }
          ]
         },
         "layout": {
          "annotationdefaults": {
           "arrowcolor": "#2a3f5f",
           "arrowhead": 0,
           "arrowwidth": 1
          },
          "autotypenumbers": "strict",
          "coloraxis": {
           "colorbar": {
            "outlinewidth": 0,
            "ticks": ""
           }
          },
          "colorscale": {
           "diverging": [
            [
             0,
             "#8e0152"
            ],
            [
             0.1,
             "#c51b7d"
            ],
            [
             0.2,
             "#de77ae"
            ],
            [
             0.3,
             "#f1b6da"
            ],
            [
             0.4,
             "#fde0ef"
            ],
            [
             0.5,
             "#f7f7f7"
            ],
            [
             0.6,
             "#e6f5d0"
            ],
            [
             0.7,
             "#b8e186"
            ],
            [
             0.8,
             "#7fbc41"
            ],
            [
             0.9,
             "#4d9221"
            ],
            [
             1,
             "#276419"
            ]
           ],
           "sequential": [
            [
             0,
             "#0d0887"
            ],
            [
             0.1111111111111111,
             "#46039f"
            ],
            [
             0.2222222222222222,
             "#7201a8"
            ],
            [
             0.3333333333333333,
             "#9c179e"
            ],
            [
             0.4444444444444444,
             "#bd3786"
            ],
            [
             0.5555555555555556,
             "#d8576b"
            ],
            [
             0.6666666666666666,
             "#ed7953"
            ],
            [
             0.7777777777777778,
             "#fb9f3a"
            ],
            [
             0.8888888888888888,
             "#fdca26"
            ],
            [
             1,
             "#f0f921"
            ]
           ],
           "sequentialminus": [
            [
             0,
             "#0d0887"
            ],
            [
             0.1111111111111111,
             "#46039f"
            ],
            [
             0.2222222222222222,
             "#7201a8"
            ],
            [
             0.3333333333333333,
             "#9c179e"
            ],
            [
             0.4444444444444444,
             "#bd3786"
            ],
            [
             0.5555555555555556,
             "#d8576b"
            ],
            [
             0.6666666666666666,
             "#ed7953"
            ],
            [
             0.7777777777777778,
             "#fb9f3a"
            ],
            [
             0.8888888888888888,
             "#fdca26"
            ],
            [
             1,
             "#f0f921"
            ]
           ]
          },
          "colorway": [
           "#636efa",
           "#EF553B",
           "#00cc96",
           "#ab63fa",
           "#FFA15A",
           "#19d3f3",
           "#FF6692",
           "#B6E880",
           "#FF97FF",
           "#FECB52"
          ],
          "font": {
           "color": "#2a3f5f"
          },
          "geo": {
           "bgcolor": "white",
           "lakecolor": "white",
           "landcolor": "#E5ECF6",
           "showlakes": true,
           "showland": true,
           "subunitcolor": "white"
          },
          "hoverlabel": {
           "align": "left"
          },
          "hovermode": "closest",
          "mapbox": {
           "style": "light"
          },
          "paper_bgcolor": "white",
          "plot_bgcolor": "#E5ECF6",
          "polar": {
           "angularaxis": {
            "gridcolor": "white",
            "linecolor": "white",
            "ticks": ""
           },
           "bgcolor": "#E5ECF6",
           "radialaxis": {
            "gridcolor": "white",
            "linecolor": "white",
            "ticks": ""
           }
          },
          "scene": {
           "xaxis": {
            "backgroundcolor": "#E5ECF6",
            "gridcolor": "white",
            "gridwidth": 2,
            "linecolor": "white",
            "showbackground": true,
            "ticks": "",
            "zerolinecolor": "white"
           },
           "yaxis": {
            "backgroundcolor": "#E5ECF6",
            "gridcolor": "white",
            "gridwidth": 2,
            "linecolor": "white",
            "showbackground": true,
            "ticks": "",
            "zerolinecolor": "white"
           },
           "zaxis": {
            "backgroundcolor": "#E5ECF6",
            "gridcolor": "white",
            "gridwidth": 2,
            "linecolor": "white",
            "showbackground": true,
            "ticks": "",
            "zerolinecolor": "white"
           }
          },
          "shapedefaults": {
           "line": {
            "color": "#2a3f5f"
           }
          },
          "ternary": {
           "aaxis": {
            "gridcolor": "white",
            "linecolor": "white",
            "ticks": ""
           },
           "baxis": {
            "gridcolor": "white",
            "linecolor": "white",
            "ticks": ""
           },
           "bgcolor": "#E5ECF6",
           "caxis": {
            "gridcolor": "white",
            "linecolor": "white",
            "ticks": ""
           }
          },
          "title": {
           "x": 0.05
          },
          "xaxis": {
           "automargin": true,
           "gridcolor": "white",
           "linecolor": "white",
           "ticks": "",
           "title": {
            "standoff": 15
           },
           "zerolinecolor": "white",
           "zerolinewidth": 2
          },
          "yaxis": {
           "automargin": true,
           "gridcolor": "white",
           "linecolor": "white",
           "ticks": "",
           "title": {
            "standoff": 15
           },
           "zerolinecolor": "white",
           "zerolinewidth": 2
          }
         }
        },
        "title": {
         "text": "Optimization History Plot"
        },
        "xaxis": {
         "title": {
          "text": "#Trials"
         }
        },
        "yaxis": {
         "title": {
          "text": "Objective Value"
         }
        }
       }
      },
      "text/html": [
       "<div>                            <div id=\"b0e0769f-4399-4a38-b29a-990d04cb505f\" class=\"plotly-graph-div\" style=\"height:525px; width:100%;\"></div>            <script type=\"text/javascript\">                require([\"plotly\"], function(Plotly) {                    window.PLOTLYENV=window.PLOTLYENV || {};                                    if (document.getElementById(\"b0e0769f-4399-4a38-b29a-990d04cb505f\")) {                    Plotly.newPlot(                        \"b0e0769f-4399-4a38-b29a-990d04cb505f\",                        [{\"mode\":\"markers\",\"name\":\"Objective Value\",\"type\":\"scatter\",\"x\":[0,1,2,3,4,5,6,7,8,9,10,11,12,13,14,15,16,17,18,19,20,21,22,23,24,25,26,27,28,29,30,31,32,33,34,35,36,37,38,39],\"y\":[309.11383056640625,-0.0,-29.524391174316406,-402.56097412109375,1202.1748046875,-273.03253173828125,117.668701171875,-0.0,973.86181640625,-576.4471435546875,-75.52032470703125,609.8963623046875,1083.6727294921875,661.1788330078125,1563.6483154296875,747.569091796875,-492.5365905761719,446.8251953125,-591.7906494140625,-297.0365905761719,-0.0,272.1666564941406,55.418697357177734,22.022357940673828,716.6727905273438,-0.0,-89.23577117919922,-212.91259765625,-275.1280517578125,289.9248046875,173.1239776611328,954.1260375976562,636.180908203125,-0.0,736.8516235351562,956.7845458984375,574.6300659179688,973.2947387695312,314.57318115234375,1312.1097412109375]},{\"name\":\"Best Value\",\"type\":\"scatter\",\"x\":[0,1,2,3,4,5,6,7,8,9,10,11,12,13,14,15,16,17,18,19,20,21,22,23,24,25,26,27,28,29,30,31,32,33,34,35,36,37,38,39],\"y\":[309.11383056640625,-0.0,-29.524391174316406,-402.56097412109375,-402.56097412109375,-402.56097412109375,-402.56097412109375,-402.56097412109375,-402.56097412109375,-576.4471435546875,-576.4471435546875,-576.4471435546875,-576.4471435546875,-576.4471435546875,-576.4471435546875,-576.4471435546875,-576.4471435546875,-576.4471435546875,-591.7906494140625,-591.7906494140625,-591.7906494140625,-591.7906494140625,-591.7906494140625,-591.7906494140625,-591.7906494140625,-591.7906494140625,-591.7906494140625,-591.7906494140625,-591.7906494140625,-591.7906494140625,-591.7906494140625,-591.7906494140625,-591.7906494140625,-591.7906494140625,-591.7906494140625,-591.7906494140625,-591.7906494140625,-591.7906494140625,-591.7906494140625,-591.7906494140625]}],                        {\"template\":{\"data\":{\"bar\":[{\"error_x\":{\"color\":\"#2a3f5f\"},\"error_y\":{\"color\":\"#2a3f5f\"},\"marker\":{\"line\":{\"color\":\"#E5ECF6\",\"width\":0.5},\"pattern\":{\"fillmode\":\"overlay\",\"size\":10,\"solidity\":0.2}},\"type\":\"bar\"}],\"barpolar\":[{\"marker\":{\"line\":{\"color\":\"#E5ECF6\",\"width\":0.5},\"pattern\":{\"fillmode\":\"overlay\",\"size\":10,\"solidity\":0.2}},\"type\":\"barpolar\"}],\"carpet\":[{\"aaxis\":{\"endlinecolor\":\"#2a3f5f\",\"gridcolor\":\"white\",\"linecolor\":\"white\",\"minorgridcolor\":\"white\",\"startlinecolor\":\"#2a3f5f\"},\"baxis\":{\"endlinecolor\":\"#2a3f5f\",\"gridcolor\":\"white\",\"linecolor\":\"white\",\"minorgridcolor\":\"white\",\"startlinecolor\":\"#2a3f5f\"},\"type\":\"carpet\"}],\"choropleth\":[{\"colorbar\":{\"outlinewidth\":0,\"ticks\":\"\"},\"type\":\"choropleth\"}],\"contour\":[{\"colorbar\":{\"outlinewidth\":0,\"ticks\":\"\"},\"colorscale\":[[0.0,\"#0d0887\"],[0.1111111111111111,\"#46039f\"],[0.2222222222222222,\"#7201a8\"],[0.3333333333333333,\"#9c179e\"],[0.4444444444444444,\"#bd3786\"],[0.5555555555555556,\"#d8576b\"],[0.6666666666666666,\"#ed7953\"],[0.7777777777777778,\"#fb9f3a\"],[0.8888888888888888,\"#fdca26\"],[1.0,\"#f0f921\"]],\"type\":\"contour\"}],\"contourcarpet\":[{\"colorbar\":{\"outlinewidth\":0,\"ticks\":\"\"},\"type\":\"contourcarpet\"}],\"heatmap\":[{\"colorbar\":{\"outlinewidth\":0,\"ticks\":\"\"},\"colorscale\":[[0.0,\"#0d0887\"],[0.1111111111111111,\"#46039f\"],[0.2222222222222222,\"#7201a8\"],[0.3333333333333333,\"#9c179e\"],[0.4444444444444444,\"#bd3786\"],[0.5555555555555556,\"#d8576b\"],[0.6666666666666666,\"#ed7953\"],[0.7777777777777778,\"#fb9f3a\"],[0.8888888888888888,\"#fdca26\"],[1.0,\"#f0f921\"]],\"type\":\"heatmap\"}],\"heatmapgl\":[{\"colorbar\":{\"outlinewidth\":0,\"ticks\":\"\"},\"colorscale\":[[0.0,\"#0d0887\"],[0.1111111111111111,\"#46039f\"],[0.2222222222222222,\"#7201a8\"],[0.3333333333333333,\"#9c179e\"],[0.4444444444444444,\"#bd3786\"],[0.5555555555555556,\"#d8576b\"],[0.6666666666666666,\"#ed7953\"],[0.7777777777777778,\"#fb9f3a\"],[0.8888888888888888,\"#fdca26\"],[1.0,\"#f0f921\"]],\"type\":\"heatmapgl\"}],\"histogram\":[{\"marker\":{\"pattern\":{\"fillmode\":\"overlay\",\"size\":10,\"solidity\":0.2}},\"type\":\"histogram\"}],\"histogram2d\":[{\"colorbar\":{\"outlinewidth\":0,\"ticks\":\"\"},\"colorscale\":[[0.0,\"#0d0887\"],[0.1111111111111111,\"#46039f\"],[0.2222222222222222,\"#7201a8\"],[0.3333333333333333,\"#9c179e\"],[0.4444444444444444,\"#bd3786\"],[0.5555555555555556,\"#d8576b\"],[0.6666666666666666,\"#ed7953\"],[0.7777777777777778,\"#fb9f3a\"],[0.8888888888888888,\"#fdca26\"],[1.0,\"#f0f921\"]],\"type\":\"histogram2d\"}],\"histogram2dcontour\":[{\"colorbar\":{\"outlinewidth\":0,\"ticks\":\"\"},\"colorscale\":[[0.0,\"#0d0887\"],[0.1111111111111111,\"#46039f\"],[0.2222222222222222,\"#7201a8\"],[0.3333333333333333,\"#9c179e\"],[0.4444444444444444,\"#bd3786\"],[0.5555555555555556,\"#d8576b\"],[0.6666666666666666,\"#ed7953\"],[0.7777777777777778,\"#fb9f3a\"],[0.8888888888888888,\"#fdca26\"],[1.0,\"#f0f921\"]],\"type\":\"histogram2dcontour\"}],\"mesh3d\":[{\"colorbar\":{\"outlinewidth\":0,\"ticks\":\"\"},\"type\":\"mesh3d\"}],\"parcoords\":[{\"line\":{\"colorbar\":{\"outlinewidth\":0,\"ticks\":\"\"}},\"type\":\"parcoords\"}],\"pie\":[{\"automargin\":true,\"type\":\"pie\"}],\"scatter\":[{\"marker\":{\"colorbar\":{\"outlinewidth\":0,\"ticks\":\"\"}},\"type\":\"scatter\"}],\"scatter3d\":[{\"line\":{\"colorbar\":{\"outlinewidth\":0,\"ticks\":\"\"}},\"marker\":{\"colorbar\":{\"outlinewidth\":0,\"ticks\":\"\"}},\"type\":\"scatter3d\"}],\"scattercarpet\":[{\"marker\":{\"colorbar\":{\"outlinewidth\":0,\"ticks\":\"\"}},\"type\":\"scattercarpet\"}],\"scattergeo\":[{\"marker\":{\"colorbar\":{\"outlinewidth\":0,\"ticks\":\"\"}},\"type\":\"scattergeo\"}],\"scattergl\":[{\"marker\":{\"colorbar\":{\"outlinewidth\":0,\"ticks\":\"\"}},\"type\":\"scattergl\"}],\"scattermapbox\":[{\"marker\":{\"colorbar\":{\"outlinewidth\":0,\"ticks\":\"\"}},\"type\":\"scattermapbox\"}],\"scatterpolar\":[{\"marker\":{\"colorbar\":{\"outlinewidth\":0,\"ticks\":\"\"}},\"type\":\"scatterpolar\"}],\"scatterpolargl\":[{\"marker\":{\"colorbar\":{\"outlinewidth\":0,\"ticks\":\"\"}},\"type\":\"scatterpolargl\"}],\"scatterternary\":[{\"marker\":{\"colorbar\":{\"outlinewidth\":0,\"ticks\":\"\"}},\"type\":\"scatterternary\"}],\"surface\":[{\"colorbar\":{\"outlinewidth\":0,\"ticks\":\"\"},\"colorscale\":[[0.0,\"#0d0887\"],[0.1111111111111111,\"#46039f\"],[0.2222222222222222,\"#7201a8\"],[0.3333333333333333,\"#9c179e\"],[0.4444444444444444,\"#bd3786\"],[0.5555555555555556,\"#d8576b\"],[0.6666666666666666,\"#ed7953\"],[0.7777777777777778,\"#fb9f3a\"],[0.8888888888888888,\"#fdca26\"],[1.0,\"#f0f921\"]],\"type\":\"surface\"}],\"table\":[{\"cells\":{\"fill\":{\"color\":\"#EBF0F8\"},\"line\":{\"color\":\"white\"}},\"header\":{\"fill\":{\"color\":\"#C8D4E3\"},\"line\":{\"color\":\"white\"}},\"type\":\"table\"}]},\"layout\":{\"annotationdefaults\":{\"arrowcolor\":\"#2a3f5f\",\"arrowhead\":0,\"arrowwidth\":1},\"autotypenumbers\":\"strict\",\"coloraxis\":{\"colorbar\":{\"outlinewidth\":0,\"ticks\":\"\"}},\"colorscale\":{\"diverging\":[[0,\"#8e0152\"],[0.1,\"#c51b7d\"],[0.2,\"#de77ae\"],[0.3,\"#f1b6da\"],[0.4,\"#fde0ef\"],[0.5,\"#f7f7f7\"],[0.6,\"#e6f5d0\"],[0.7,\"#b8e186\"],[0.8,\"#7fbc41\"],[0.9,\"#4d9221\"],[1,\"#276419\"]],\"sequential\":[[0.0,\"#0d0887\"],[0.1111111111111111,\"#46039f\"],[0.2222222222222222,\"#7201a8\"],[0.3333333333333333,\"#9c179e\"],[0.4444444444444444,\"#bd3786\"],[0.5555555555555556,\"#d8576b\"],[0.6666666666666666,\"#ed7953\"],[0.7777777777777778,\"#fb9f3a\"],[0.8888888888888888,\"#fdca26\"],[1.0,\"#f0f921\"]],\"sequentialminus\":[[0.0,\"#0d0887\"],[0.1111111111111111,\"#46039f\"],[0.2222222222222222,\"#7201a8\"],[0.3333333333333333,\"#9c179e\"],[0.4444444444444444,\"#bd3786\"],[0.5555555555555556,\"#d8576b\"],[0.6666666666666666,\"#ed7953\"],[0.7777777777777778,\"#fb9f3a\"],[0.8888888888888888,\"#fdca26\"],[1.0,\"#f0f921\"]]},\"colorway\":[\"#636efa\",\"#EF553B\",\"#00cc96\",\"#ab63fa\",\"#FFA15A\",\"#19d3f3\",\"#FF6692\",\"#B6E880\",\"#FF97FF\",\"#FECB52\"],\"font\":{\"color\":\"#2a3f5f\"},\"geo\":{\"bgcolor\":\"white\",\"lakecolor\":\"white\",\"landcolor\":\"#E5ECF6\",\"showlakes\":true,\"showland\":true,\"subunitcolor\":\"white\"},\"hoverlabel\":{\"align\":\"left\"},\"hovermode\":\"closest\",\"mapbox\":{\"style\":\"light\"},\"paper_bgcolor\":\"white\",\"plot_bgcolor\":\"#E5ECF6\",\"polar\":{\"angularaxis\":{\"gridcolor\":\"white\",\"linecolor\":\"white\",\"ticks\":\"\"},\"bgcolor\":\"#E5ECF6\",\"radialaxis\":{\"gridcolor\":\"white\",\"linecolor\":\"white\",\"ticks\":\"\"}},\"scene\":{\"xaxis\":{\"backgroundcolor\":\"#E5ECF6\",\"gridcolor\":\"white\",\"gridwidth\":2,\"linecolor\":\"white\",\"showbackground\":true,\"ticks\":\"\",\"zerolinecolor\":\"white\"},\"yaxis\":{\"backgroundcolor\":\"#E5ECF6\",\"gridcolor\":\"white\",\"gridwidth\":2,\"linecolor\":\"white\",\"showbackground\":true,\"ticks\":\"\",\"zerolinecolor\":\"white\"},\"zaxis\":{\"backgroundcolor\":\"#E5ECF6\",\"gridcolor\":\"white\",\"gridwidth\":2,\"linecolor\":\"white\",\"showbackground\":true,\"ticks\":\"\",\"zerolinecolor\":\"white\"}},\"shapedefaults\":{\"line\":{\"color\":\"#2a3f5f\"}},\"ternary\":{\"aaxis\":{\"gridcolor\":\"white\",\"linecolor\":\"white\",\"ticks\":\"\"},\"baxis\":{\"gridcolor\":\"white\",\"linecolor\":\"white\",\"ticks\":\"\"},\"bgcolor\":\"#E5ECF6\",\"caxis\":{\"gridcolor\":\"white\",\"linecolor\":\"white\",\"ticks\":\"\"}},\"title\":{\"x\":0.05},\"xaxis\":{\"automargin\":true,\"gridcolor\":\"white\",\"linecolor\":\"white\",\"ticks\":\"\",\"title\":{\"standoff\":15},\"zerolinecolor\":\"white\",\"zerolinewidth\":2},\"yaxis\":{\"automargin\":true,\"gridcolor\":\"white\",\"linecolor\":\"white\",\"ticks\":\"\",\"title\":{\"standoff\":15},\"zerolinecolor\":\"white\",\"zerolinewidth\":2}}},\"title\":{\"text\":\"Optimization History Plot\"},\"xaxis\":{\"title\":{\"text\":\"#Trials\"}},\"yaxis\":{\"title\":{\"text\":\"Objective Value\"}}},                        {\"responsive\": true}                    ).then(function(){\n",
       "                            \n",
       "var gd = document.getElementById('b0e0769f-4399-4a38-b29a-990d04cb505f');\n",
       "var x = new MutationObserver(function (mutations, observer) {{\n",
       "        var display = window.getComputedStyle(gd).display;\n",
       "        if (!display || display === 'none') {{\n",
       "            console.log([gd, 'removed!']);\n",
       "            Plotly.purge(gd);\n",
       "            observer.disconnect();\n",
       "        }}\n",
       "}});\n",
       "\n",
       "// Listen for the removal of the full notebook cells\n",
       "var notebookContainer = gd.closest('#notebook-container');\n",
       "if (notebookContainer) {{\n",
       "    x.observe(notebookContainer, {childList: true});\n",
       "}}\n",
       "\n",
       "// Listen for the clearing of the current output cell\n",
       "var outputEl = gd.closest('.output');\n",
       "if (outputEl) {{\n",
       "    x.observe(outputEl, {childList: true});\n",
       "}}\n",
       "\n",
       "                        })                };                });            </script>        </div>"
      ]
     },
     "metadata": {},
     "output_type": "display_data"
    }
   ],
   "source": [
    "optuna.visualization.plot_optimization_history(study_PPO2_MLP_test)"
   ]
  },
  {
   "cell_type": "code",
   "execution_count": 15,
   "id": "b03f88e9",
   "metadata": {},
   "outputs": [
    {
     "data": {
      "application/vnd.plotly.v1+json": {
       "config": {
        "plotlyServerURL": "https://plot.ly"
       },
       "data": [
        {
         "marker": {
          "color": [
           0,
           1,
           2,
           3,
           4,
           5,
           6,
           7,
           8,
           9,
           10,
           11,
           12,
           13,
           14,
           15,
           16,
           17,
           18,
           19,
           20,
           21,
           22,
           23,
           24,
           25,
           26,
           27,
           28,
           29,
           30,
           31,
           32,
           33,
           34,
           35,
           36,
           37,
           38,
           39
          ],
          "colorbar": {
           "title": {
            "text": "#Trials"
           },
           "x": 1,
           "xpad": 40
          },
          "colorscale": [
           [
            0,
            "rgb(247,251,255)"
           ],
           [
            0.125,
            "rgb(222,235,247)"
           ],
           [
            0.25,
            "rgb(198,219,239)"
           ],
           [
            0.375,
            "rgb(158,202,225)"
           ],
           [
            0.5,
            "rgb(107,174,214)"
           ],
           [
            0.625,
            "rgb(66,146,198)"
           ],
           [
            0.75,
            "rgb(33,113,181)"
           ],
           [
            0.875,
            "rgb(8,81,156)"
           ],
           [
            1,
            "rgb(8,48,107)"
           ]
          ],
          "line": {
           "color": "Grey",
           "width": 0.5
          },
          "showscale": true
         },
         "mode": "markers",
         "showlegend": false,
         "type": "scatter",
         "x": [
          0.3257663147074419,
          0.10281095666019156,
          0.27438812146974273,
          0.24440195717878416,
          0.11314316242260278,
          0.2946994430692555,
          0.3195442798206901,
          0.2566093771727787,
          0.19266645368659702,
          0.13462590611168496,
          0.3565198626349384,
          0.12167134252776168,
          0.2712115266548605,
          0.1758937955738119,
          0.18573135270617266,
          0.17882941088281956,
          0.1990090538660546,
          0.18756798400430288,
          0.39371124942462005,
          0.39824823113198293,
          0.14728957503304801,
          0.13983371698213987,
          0.3997326478346228,
          0.1478365614123256,
          0.2235462268665498,
          0.22608626990910372,
          0.22192064967308187,
          0.22005431653669655,
          0.2222838168081487,
          0.20988754918665503,
          0.3741523417145842,
          0.3632590403870839,
          0.35365450111525354,
          0.34599708767131765,
          0.24863549199992702,
          0.29294399889643474,
          0.315028131757688,
          0.304284980332978,
          0.2987853527667117,
          0.31746503532709364
         ],
         "xaxis": "x",
         "y": [
          309.11383056640625,
          0,
          -29.524391174316406,
          -402.56097412109375,
          1202.1748046875,
          -273.03253173828125,
          117.668701171875,
          0,
          973.86181640625,
          -576.4471435546875,
          -75.52032470703125,
          609.8963623046875,
          1083.6727294921875,
          661.1788330078125,
          1563.6483154296875,
          747.569091796875,
          -492.5365905761719,
          446.8251953125,
          -591.7906494140625,
          -297.0365905761719,
          0,
          272.1666564941406,
          55.418697357177734,
          22.022357940673828,
          716.6727905273438,
          0,
          -89.23577117919922,
          -212.91259765625,
          -275.1280517578125,
          289.9248046875,
          173.1239776611328,
          954.1260375976562,
          636.180908203125,
          0,
          736.8516235351562,
          956.7845458984375,
          574.6300659179688,
          973.2947387695312,
          314.57318115234375,
          1312.1097412109375
         ],
         "yaxis": "y"
        },
        {
         "marker": {
          "color": [
           0,
           1,
           2,
           3,
           4,
           5,
           6,
           7,
           8,
           9,
           10,
           11,
           12,
           13,
           14,
           15,
           16,
           17,
           18,
           19,
           20,
           21,
           22,
           23,
           24,
           25,
           26,
           27,
           28,
           29,
           30,
           31,
           32,
           33,
           34,
           35,
           36,
           37,
           38,
           39
          ],
          "colorbar": {
           "title": {
            "text": "#Trials"
           },
           "x": 1,
           "xpad": 40
          },
          "colorscale": [
           [
            0,
            "rgb(247,251,255)"
           ],
           [
            0.125,
            "rgb(222,235,247)"
           ],
           [
            0.25,
            "rgb(198,219,239)"
           ],
           [
            0.375,
            "rgb(158,202,225)"
           ],
           [
            0.5,
            "rgb(107,174,214)"
           ],
           [
            0.625,
            "rgb(66,146,198)"
           ],
           [
            0.75,
            "rgb(33,113,181)"
           ],
           [
            0.875,
            "rgb(8,81,156)"
           ],
           [
            1,
            "rgb(8,48,107)"
           ]
          ],
          "line": {
           "color": "Grey",
           "width": 0.5
          },
          "showscale": false
         },
         "mode": "markers",
         "showlegend": false,
         "type": "scatter",
         "x": [
          0.003149049632223071,
          1.1095935228804556e-08,
          9.245267868604935e-05,
          4.161654239051995e-06,
          3.9771428613109e-06,
          0.05138975808683742,
          2.001141929007072e-05,
          1.4307663584553815e-07,
          0.001629706293075876,
          3.5368807091355746e-07,
          7.878081877258677e-08,
          1.617288828984889e-05,
          3.6041982608132447e-08,
          1.875976129185571e-07,
          8.567123359654876e-07,
          8.579579027387324e-07,
          8.46690439957377e-07,
          8.583727571454602e-07,
          1.5899428516864257e-06,
          0.00017055431770249979,
          7.778803164001012e-07,
          0.00022397885912046382,
          0.00015476492185959118,
          5.0748234675929466e-06,
          4.74672937506445e-06,
          3.856781731844768e-06,
          4.75973054499735e-06,
          2.8642634962619637e-07,
          1.580671857249761e-08,
          3.210494454739354e-07,
          2.521036332584405e-07,
          2.6869278629860654e-08,
          2.2476344645546463e-08,
          4.8592423713083715e-08,
          1.7845802730234388e-06,
          1.8408611009403653e-06,
          1.826520410682568e-06,
          5.1637107215904605e-05,
          1.3011751251902476e-05,
          5.473384221091756e-05
         ],
         "xaxis": "x2",
         "y": [
          309.11383056640625,
          0,
          -29.524391174316406,
          -402.56097412109375,
          1202.1748046875,
          -273.03253173828125,
          117.668701171875,
          0,
          973.86181640625,
          -576.4471435546875,
          -75.52032470703125,
          609.8963623046875,
          1083.6727294921875,
          661.1788330078125,
          1563.6483154296875,
          747.569091796875,
          -492.5365905761719,
          446.8251953125,
          -591.7906494140625,
          -297.0365905761719,
          0,
          272.1666564941406,
          55.418697357177734,
          22.022357940673828,
          716.6727905273438,
          0,
          -89.23577117919922,
          -212.91259765625,
          -275.1280517578125,
          289.9248046875,
          173.1239776611328,
          954.1260375976562,
          636.180908203125,
          0,
          736.8516235351562,
          956.7845458984375,
          574.6300659179688,
          973.2947387695312,
          314.57318115234375,
          1312.1097412109375
         ],
         "yaxis": "y2"
        },
        {
         "marker": {
          "color": [
           0,
           1,
           2,
           3,
           4,
           5,
           6,
           7,
           8,
           9,
           10,
           11,
           12,
           13,
           14,
           15,
           16,
           17,
           18,
           19,
           20,
           21,
           22,
           23,
           24,
           25,
           26,
           27,
           28,
           29,
           30,
           31,
           32,
           33,
           34,
           35,
           36,
           37,
           38,
           39
          ],
          "colorbar": {
           "title": {
            "text": "#Trials"
           },
           "x": 1,
           "xpad": 40
          },
          "colorscale": [
           [
            0,
            "rgb(247,251,255)"
           ],
           [
            0.125,
            "rgb(222,235,247)"
           ],
           [
            0.25,
            "rgb(198,219,239)"
           ],
           [
            0.375,
            "rgb(158,202,225)"
           ],
           [
            0.5,
            "rgb(107,174,214)"
           ],
           [
            0.625,
            "rgb(66,146,198)"
           ],
           [
            0.75,
            "rgb(33,113,181)"
           ],
           [
            0.875,
            "rgb(8,81,156)"
           ],
           [
            1,
            "rgb(8,48,107)"
           ]
          ],
          "line": {
           "color": "Grey",
           "width": 0.5
          },
          "showscale": false
         },
         "mode": "markers",
         "showlegend": false,
         "type": "scatter",
         "x": [
          0.9101963001604267,
          0.9227353200456211,
          0.9065349585581739,
          0.9730533916259573,
          0.9082380774706336,
          0.9721281527305501,
          0.9181308342056382,
          0.9827029089042658,
          0.9552112056544422,
          0.9271269139594669,
          0.9170672398326655,
          0.9275788381467611,
          0.9985801558104965,
          0.935426546589541,
          0.9410679029124298,
          0.9986420926719003,
          0.9396412716600672,
          0.9523727408239969,
          0.9591102443825824,
          0.9581341760508694,
          0.9480672360675276,
          0.9370072732616982,
          0.9618183136664568,
          0.963724228216155,
          0.9339673348632421,
          0.9650533305008466,
          0.9305556827499826,
          0.944749919798454,
          0.9456768380437541,
          0.9456626491478275,
          0.941685402613506,
          0.9429594220131609,
          0.9148368169938638,
          0.9142852731844654,
          0.9768427364201483,
          0.9745560967114989,
          0.9751714156788103,
          0.9763963437711064,
          0.9002445538170847,
          0.9883548768360808
         ],
         "xaxis": "x3",
         "y": [
          309.11383056640625,
          0,
          -29.524391174316406,
          -402.56097412109375,
          1202.1748046875,
          -273.03253173828125,
          117.668701171875,
          0,
          973.86181640625,
          -576.4471435546875,
          -75.52032470703125,
          609.8963623046875,
          1083.6727294921875,
          661.1788330078125,
          1563.6483154296875,
          747.569091796875,
          -492.5365905761719,
          446.8251953125,
          -591.7906494140625,
          -297.0365905761719,
          0,
          272.1666564941406,
          55.418697357177734,
          22.022357940673828,
          716.6727905273438,
          0,
          -89.23577117919922,
          -212.91259765625,
          -275.1280517578125,
          289.9248046875,
          173.1239776611328,
          954.1260375976562,
          636.180908203125,
          0,
          736.8516235351562,
          956.7845458984375,
          574.6300659179688,
          973.2947387695312,
          314.57318115234375,
          1312.1097412109375
         ],
         "yaxis": "y3"
        },
        {
         "marker": {
          "color": [
           0,
           1,
           2,
           3,
           4,
           5,
           6,
           7,
           8,
           9,
           10,
           11,
           12,
           13,
           14,
           15,
           16,
           17,
           18,
           19,
           20,
           21,
           22,
           23,
           24,
           25,
           26,
           27,
           28,
           29,
           30,
           31,
           32,
           33,
           34,
           35,
           36,
           37,
           38,
           39
          ],
          "colorbar": {
           "title": {
            "text": "#Trials"
           },
           "x": 1,
           "xpad": 40
          },
          "colorscale": [
           [
            0,
            "rgb(247,251,255)"
           ],
           [
            0.125,
            "rgb(222,235,247)"
           ],
           [
            0.25,
            "rgb(198,219,239)"
           ],
           [
            0.375,
            "rgb(158,202,225)"
           ],
           [
            0.5,
            "rgb(107,174,214)"
           ],
           [
            0.625,
            "rgb(66,146,198)"
           ],
           [
            0.75,
            "rgb(33,113,181)"
           ],
           [
            0.875,
            "rgb(8,81,156)"
           ],
           [
            1,
            "rgb(8,48,107)"
           ]
          ],
          "line": {
           "color": "Grey",
           "width": 0.5
          },
          "showscale": false
         },
         "mode": "markers",
         "showlegend": false,
         "type": "scatter",
         "x": [
          0.8498732914337372,
          0.9219460146749776,
          0.9172992901470256,
          0.875423899154727,
          0.9886317814467556,
          0.8266079497871128,
          0.973951896721686,
          0.8740244245942093,
          0.8870219994195176,
          0.9167508040465403,
          0.8198171826367934,
          0.8523165174508562,
          0.8830869627464168,
          0.9592821870429851,
          0.9471948912755088,
          0.9449366036871856,
          0.9474957192981299,
          0.9415807791842576,
          0.9169528862080345,
          0.9142431498991983,
          0.9225601053831956,
          0.9129204437840931,
          0.9110554169613557,
          0.9063507937583822,
          0.9039289775969044,
          0.9638304010055859,
          0.9675143422009715,
          0.9336852291253505,
          0.9973629223464512,
          0.9994210542843458,
          0.9339074613902849,
          0.9987969548439523,
          0.8563741813690547,
          0.8607586606622855,
          0.8561544471127996,
          0.8606647479786252,
          0.8896863743798017,
          0.8918097204403256,
          0.8933612774347494,
          0.8361142877145198
         ],
         "xaxis": "x4",
         "y": [
          309.11383056640625,
          0,
          -29.524391174316406,
          -402.56097412109375,
          1202.1748046875,
          -273.03253173828125,
          117.668701171875,
          0,
          973.86181640625,
          -576.4471435546875,
          -75.52032470703125,
          609.8963623046875,
          1083.6727294921875,
          661.1788330078125,
          1563.6483154296875,
          747.569091796875,
          -492.5365905761719,
          446.8251953125,
          -591.7906494140625,
          -297.0365905761719,
          0,
          272.1666564941406,
          55.418697357177734,
          22.022357940673828,
          716.6727905273438,
          0,
          -89.23577117919922,
          -212.91259765625,
          -275.1280517578125,
          289.9248046875,
          173.1239776611328,
          954.1260375976562,
          636.180908203125,
          0,
          736.8516235351562,
          956.7845458984375,
          574.6300659179688,
          973.2947387695312,
          314.57318115234375,
          1312.1097412109375
         ],
         "yaxis": "y4"
        },
        {
         "marker": {
          "color": [
           0,
           1,
           2,
           3,
           4,
           5,
           6,
           7,
           8,
           9,
           10,
           11,
           12,
           13,
           14,
           15,
           16,
           17,
           18,
           19,
           20,
           21,
           22,
           23,
           24,
           25,
           26,
           27,
           28,
           29,
           30,
           31,
           32,
           33,
           34,
           35,
           36,
           37,
           38,
           39
          ],
          "colorbar": {
           "title": {
            "text": "#Trials"
           },
           "x": 1,
           "xpad": 40
          },
          "colorscale": [
           [
            0,
            "rgb(247,251,255)"
           ],
           [
            0.125,
            "rgb(222,235,247)"
           ],
           [
            0.25,
            "rgb(198,219,239)"
           ],
           [
            0.375,
            "rgb(158,202,225)"
           ],
           [
            0.5,
            "rgb(107,174,214)"
           ],
           [
            0.625,
            "rgb(66,146,198)"
           ],
           [
            0.75,
            "rgb(33,113,181)"
           ],
           [
            0.875,
            "rgb(8,81,156)"
           ],
           [
            1,
            "rgb(8,48,107)"
           ]
          ],
          "line": {
           "color": "Grey",
           "width": 0.5
          },
          "showscale": false
         },
         "mode": "markers",
         "showlegend": false,
         "type": "scatter",
         "x": [
          6.0272891570215e-05,
          0.6090156890828209,
          0.0002030615102292118,
          3.640172869937587e-05,
          0.0034319779826551843,
          5.2893727020314905e-05,
          0.5413274447280052,
          0.8601322103763739,
          0.0002787364175196116,
          0.00026136240618242267,
          0.0014544385730265352,
          9.856078853590652e-05,
          1.3429321835572322e-05,
          0.007975974177921468,
          1.0508421248179397e-05,
          1.761491562830173e-05,
          0.0025195975297779374,
          0.0007852612830668795,
          0.0006631816632049884,
          0.0006684292247914314,
          0.02581458412829323,
          0.0228933162237084,
          0.022486247986613667,
          0.019334847792036848,
          0.02295754007800709,
          0.00421791395371734,
          0.0038618516992342186,
          0.005832018446975119,
          0.002336908991010523,
          0.0003167085497490494,
          0.10524412135799197,
          0.0013781763188232623,
          0.0014112502158873464,
          0.1357946196237429,
          4.95193488523155e-05,
          8.505768533855966e-05,
          3.9716182566676204e-05,
          5.092190812175935e-05,
          0.00011465633474983014,
          2.932058895508055e-05
         ],
         "xaxis": "x5",
         "y": [
          309.11383056640625,
          0,
          -29.524391174316406,
          -402.56097412109375,
          1202.1748046875,
          -273.03253173828125,
          117.668701171875,
          0,
          973.86181640625,
          -576.4471435546875,
          -75.52032470703125,
          609.8963623046875,
          1083.6727294921875,
          661.1788330078125,
          1563.6483154296875,
          747.569091796875,
          -492.5365905761719,
          446.8251953125,
          -591.7906494140625,
          -297.0365905761719,
          0,
          272.1666564941406,
          55.418697357177734,
          22.022357940673828,
          716.6727905273438,
          0,
          -89.23577117919922,
          -212.91259765625,
          -275.1280517578125,
          289.9248046875,
          173.1239776611328,
          954.1260375976562,
          636.180908203125,
          0,
          736.8516235351562,
          956.7845458984375,
          574.6300659179688,
          973.2947387695312,
          314.57318115234375,
          1312.1097412109375
         ],
         "yaxis": "y5"
        },
        {
         "marker": {
          "color": [
           0,
           1,
           2,
           3,
           4,
           5,
           6,
           7,
           8,
           9,
           10,
           11,
           12,
           13,
           14,
           15,
           16,
           17,
           18,
           19,
           20,
           21,
           22,
           23,
           24,
           25,
           26,
           27,
           28,
           29,
           30,
           31,
           32,
           33,
           34,
           35,
           36,
           37,
           38,
           39
          ],
          "colorbar": {
           "title": {
            "text": "#Trials"
           },
           "x": 1,
           "xpad": 40
          },
          "colorscale": [
           [
            0,
            "rgb(247,251,255)"
           ],
           [
            0.125,
            "rgb(222,235,247)"
           ],
           [
            0.25,
            "rgb(198,219,239)"
           ],
           [
            0.375,
            "rgb(158,202,225)"
           ],
           [
            0.5,
            "rgb(107,174,214)"
           ],
           [
            0.625,
            "rgb(66,146,198)"
           ],
           [
            0.75,
            "rgb(33,113,181)"
           ],
           [
            0.875,
            "rgb(8,81,156)"
           ],
           [
            1,
            "rgb(8,48,107)"
           ]
          ],
          "line": {
           "color": "Grey",
           "width": 0.5
          },
          "showscale": false
         },
         "mode": "markers",
         "showlegend": false,
         "type": "scatter",
         "x": [
          1427.8526814524866,
          47.843368934171856,
          117.56459298372633,
          48.641580005034704,
          643.9109427120741,
          22.21729603630044,
          1206.7326147058839,
          29.70315439079185,
          527.4024353643078,
          134.65508786844322,
          35.94350792141046,
          1469.4026399532854,
          268.89173539600523,
          192.1753929746775,
          128.32800633127522,
          119.30802067459382,
          92.67311974863127,
          103.74962730907768,
          67.29249412336303,
          63.43116882382787,
          69.70400108288797,
          318.61561527150815,
          336.6957943291277,
          16.386655711614512,
          290.12959368252973,
          79.99525035136436,
          74.46219980020234,
          78.18550058255443,
          76.01082325666371,
          184.9354790469268,
          46.507604633829565,
          169.2824308178845,
          171.28579212743094,
          157.43654734965588,
          45.90136636587474,
          46.893302624330055,
          51.64497665404515,
          47.387126710029136,
          34.15326449063219,
          29.81688412552911
         ],
         "xaxis": "x6",
         "y": [
          309.11383056640625,
          0,
          -29.524391174316406,
          -402.56097412109375,
          1202.1748046875,
          -273.03253173828125,
          117.668701171875,
          0,
          973.86181640625,
          -576.4471435546875,
          -75.52032470703125,
          609.8963623046875,
          1083.6727294921875,
          661.1788330078125,
          1563.6483154296875,
          747.569091796875,
          -492.5365905761719,
          446.8251953125,
          -591.7906494140625,
          -297.0365905761719,
          0,
          272.1666564941406,
          55.418697357177734,
          22.022357940673828,
          716.6727905273438,
          0,
          -89.23577117919922,
          -212.91259765625,
          -275.1280517578125,
          289.9248046875,
          173.1239776611328,
          954.1260375976562,
          636.180908203125,
          0,
          736.8516235351562,
          956.7845458984375,
          574.6300659179688,
          973.2947387695312,
          314.57318115234375,
          1312.1097412109375
         ],
         "yaxis": "y6"
        },
        {
         "marker": {
          "color": [
           0,
           1,
           2,
           3,
           4,
           5,
           6,
           7,
           8,
           9,
           10,
           11,
           12,
           13,
           14,
           15,
           16,
           17,
           18,
           19,
           20,
           21,
           22,
           23,
           24,
           25,
           26,
           27,
           28,
           29,
           30,
           31,
           32,
           33,
           34,
           35,
           36,
           37,
           38,
           39
          ],
          "colorbar": {
           "title": {
            "text": "#Trials"
           },
           "x": 1,
           "xpad": 40
          },
          "colorscale": [
           [
            0,
            "rgb(247,251,255)"
           ],
           [
            0.125,
            "rgb(222,235,247)"
           ],
           [
            0.25,
            "rgb(198,219,239)"
           ],
           [
            0.375,
            "rgb(158,202,225)"
           ],
           [
            0.5,
            "rgb(107,174,214)"
           ],
           [
            0.625,
            "rgb(66,146,198)"
           ],
           [
            0.75,
            "rgb(33,113,181)"
           ],
           [
            0.875,
            "rgb(8,81,156)"
           ],
           [
            1,
            "rgb(8,48,107)"
           ]
          ],
          "line": {
           "color": "Grey",
           "width": 0.5
          },
          "showscale": false
         },
         "mode": "markers",
         "showlegend": false,
         "type": "scatter",
         "x": [
          38.425081736471455,
          11.293965116468641,
          1.3624926003794675,
          2.1415325373698364,
          19.454138257471467,
          34.862864535052495,
          28.05869935081299,
          1.0742707467602004,
          5.921544663630059,
          12.494541462059507,
          16.722013009414084,
          3.0670133239243205,
          37.100391799871595,
          5.112914522287846,
          3.1935443733098707,
          4.219539130612831,
          4.314483224117203,
          2.777733925130165,
          9.134341184255051,
          9.518689266916512,
          9.435200015502499,
          9.554581218797834,
          10.377861167645223,
          8.487009559886587,
          7.450824354195253,
          15.583005545858896,
          18.19611116573582,
          14.573992027329279,
          15.799600134789914,
          4.481482515681736,
          4.397611699063577,
          4.609739458693535,
          6.662316779017848,
          6.184765022689976,
          1.671420895221908,
          2.0687962401597373,
          1.9632511776987578,
          1.9057499219385956,
          1.9537403459681157,
          23.979611191895593
         ],
         "xaxis": "x7",
         "y": [
          309.11383056640625,
          0,
          -29.524391174316406,
          -402.56097412109375,
          1202.1748046875,
          -273.03253173828125,
          117.668701171875,
          0,
          973.86181640625,
          -576.4471435546875,
          -75.52032470703125,
          609.8963623046875,
          1083.6727294921875,
          661.1788330078125,
          1563.6483154296875,
          747.569091796875,
          -492.5365905761719,
          446.8251953125,
          -591.7906494140625,
          -297.0365905761719,
          0,
          272.1666564941406,
          55.418697357177734,
          22.022357940673828,
          716.6727905273438,
          0,
          -89.23577117919922,
          -212.91259765625,
          -275.1280517578125,
          289.9248046875,
          173.1239776611328,
          954.1260375976562,
          636.180908203125,
          0,
          736.8516235351562,
          956.7845458984375,
          574.6300659179688,
          973.2947387695312,
          314.57318115234375,
          1312.1097412109375
         ],
         "yaxis": "y7"
        }
       ],
       "layout": {
        "template": {
         "data": {
          "bar": [
           {
            "error_x": {
             "color": "#2a3f5f"
            },
            "error_y": {
             "color": "#2a3f5f"
            },
            "marker": {
             "line": {
              "color": "#E5ECF6",
              "width": 0.5
             },
             "pattern": {
              "fillmode": "overlay",
              "size": 10,
              "solidity": 0.2
             }
            },
            "type": "bar"
           }
          ],
          "barpolar": [
           {
            "marker": {
             "line": {
              "color": "#E5ECF6",
              "width": 0.5
             },
             "pattern": {
              "fillmode": "overlay",
              "size": 10,
              "solidity": 0.2
             }
            },
            "type": "barpolar"
           }
          ],
          "carpet": [
           {
            "aaxis": {
             "endlinecolor": "#2a3f5f",
             "gridcolor": "white",
             "linecolor": "white",
             "minorgridcolor": "white",
             "startlinecolor": "#2a3f5f"
            },
            "baxis": {
             "endlinecolor": "#2a3f5f",
             "gridcolor": "white",
             "linecolor": "white",
             "minorgridcolor": "white",
             "startlinecolor": "#2a3f5f"
            },
            "type": "carpet"
           }
          ],
          "choropleth": [
           {
            "colorbar": {
             "outlinewidth": 0,
             "ticks": ""
            },
            "type": "choropleth"
           }
          ],
          "contour": [
           {
            "colorbar": {
             "outlinewidth": 0,
             "ticks": ""
            },
            "colorscale": [
             [
              0,
              "#0d0887"
             ],
             [
              0.1111111111111111,
              "#46039f"
             ],
             [
              0.2222222222222222,
              "#7201a8"
             ],
             [
              0.3333333333333333,
              "#9c179e"
             ],
             [
              0.4444444444444444,
              "#bd3786"
             ],
             [
              0.5555555555555556,
              "#d8576b"
             ],
             [
              0.6666666666666666,
              "#ed7953"
             ],
             [
              0.7777777777777778,
              "#fb9f3a"
             ],
             [
              0.8888888888888888,
              "#fdca26"
             ],
             [
              1,
              "#f0f921"
             ]
            ],
            "type": "contour"
           }
          ],
          "contourcarpet": [
           {
            "colorbar": {
             "outlinewidth": 0,
             "ticks": ""
            },
            "type": "contourcarpet"
           }
          ],
          "heatmap": [
           {
            "colorbar": {
             "outlinewidth": 0,
             "ticks": ""
            },
            "colorscale": [
             [
              0,
              "#0d0887"
             ],
             [
              0.1111111111111111,
              "#46039f"
             ],
             [
              0.2222222222222222,
              "#7201a8"
             ],
             [
              0.3333333333333333,
              "#9c179e"
             ],
             [
              0.4444444444444444,
              "#bd3786"
             ],
             [
              0.5555555555555556,
              "#d8576b"
             ],
             [
              0.6666666666666666,
              "#ed7953"
             ],
             [
              0.7777777777777778,
              "#fb9f3a"
             ],
             [
              0.8888888888888888,
              "#fdca26"
             ],
             [
              1,
              "#f0f921"
             ]
            ],
            "type": "heatmap"
           }
          ],
          "heatmapgl": [
           {
            "colorbar": {
             "outlinewidth": 0,
             "ticks": ""
            },
            "colorscale": [
             [
              0,
              "#0d0887"
             ],
             [
              0.1111111111111111,
              "#46039f"
             ],
             [
              0.2222222222222222,
              "#7201a8"
             ],
             [
              0.3333333333333333,
              "#9c179e"
             ],
             [
              0.4444444444444444,
              "#bd3786"
             ],
             [
              0.5555555555555556,
              "#d8576b"
             ],
             [
              0.6666666666666666,
              "#ed7953"
             ],
             [
              0.7777777777777778,
              "#fb9f3a"
             ],
             [
              0.8888888888888888,
              "#fdca26"
             ],
             [
              1,
              "#f0f921"
             ]
            ],
            "type": "heatmapgl"
           }
          ],
          "histogram": [
           {
            "marker": {
             "pattern": {
              "fillmode": "overlay",
              "size": 10,
              "solidity": 0.2
             }
            },
            "type": "histogram"
           }
          ],
          "histogram2d": [
           {
            "colorbar": {
             "outlinewidth": 0,
             "ticks": ""
            },
            "colorscale": [
             [
              0,
              "#0d0887"
             ],
             [
              0.1111111111111111,
              "#46039f"
             ],
             [
              0.2222222222222222,
              "#7201a8"
             ],
             [
              0.3333333333333333,
              "#9c179e"
             ],
             [
              0.4444444444444444,
              "#bd3786"
             ],
             [
              0.5555555555555556,
              "#d8576b"
             ],
             [
              0.6666666666666666,
              "#ed7953"
             ],
             [
              0.7777777777777778,
              "#fb9f3a"
             ],
             [
              0.8888888888888888,
              "#fdca26"
             ],
             [
              1,
              "#f0f921"
             ]
            ],
            "type": "histogram2d"
           }
          ],
          "histogram2dcontour": [
           {
            "colorbar": {
             "outlinewidth": 0,
             "ticks": ""
            },
            "colorscale": [
             [
              0,
              "#0d0887"
             ],
             [
              0.1111111111111111,
              "#46039f"
             ],
             [
              0.2222222222222222,
              "#7201a8"
             ],
             [
              0.3333333333333333,
              "#9c179e"
             ],
             [
              0.4444444444444444,
              "#bd3786"
             ],
             [
              0.5555555555555556,
              "#d8576b"
             ],
             [
              0.6666666666666666,
              "#ed7953"
             ],
             [
              0.7777777777777778,
              "#fb9f3a"
             ],
             [
              0.8888888888888888,
              "#fdca26"
             ],
             [
              1,
              "#f0f921"
             ]
            ],
            "type": "histogram2dcontour"
           }
          ],
          "mesh3d": [
           {
            "colorbar": {
             "outlinewidth": 0,
             "ticks": ""
            },
            "type": "mesh3d"
           }
          ],
          "parcoords": [
           {
            "line": {
             "colorbar": {
              "outlinewidth": 0,
              "ticks": ""
             }
            },
            "type": "parcoords"
           }
          ],
          "pie": [
           {
            "automargin": true,
            "type": "pie"
           }
          ],
          "scatter": [
           {
            "marker": {
             "colorbar": {
              "outlinewidth": 0,
              "ticks": ""
             }
            },
            "type": "scatter"
           }
          ],
          "scatter3d": [
           {
            "line": {
             "colorbar": {
              "outlinewidth": 0,
              "ticks": ""
             }
            },
            "marker": {
             "colorbar": {
              "outlinewidth": 0,
              "ticks": ""
             }
            },
            "type": "scatter3d"
           }
          ],
          "scattercarpet": [
           {
            "marker": {
             "colorbar": {
              "outlinewidth": 0,
              "ticks": ""
             }
            },
            "type": "scattercarpet"
           }
          ],
          "scattergeo": [
           {
            "marker": {
             "colorbar": {
              "outlinewidth": 0,
              "ticks": ""
             }
            },
            "type": "scattergeo"
           }
          ],
          "scattergl": [
           {
            "marker": {
             "colorbar": {
              "outlinewidth": 0,
              "ticks": ""
             }
            },
            "type": "scattergl"
           }
          ],
          "scattermapbox": [
           {
            "marker": {
             "colorbar": {
              "outlinewidth": 0,
              "ticks": ""
             }
            },
            "type": "scattermapbox"
           }
          ],
          "scatterpolar": [
           {
            "marker": {
             "colorbar": {
              "outlinewidth": 0,
              "ticks": ""
             }
            },
            "type": "scatterpolar"
           }
          ],
          "scatterpolargl": [
           {
            "marker": {
             "colorbar": {
              "outlinewidth": 0,
              "ticks": ""
             }
            },
            "type": "scatterpolargl"
           }
          ],
          "scatterternary": [
           {
            "marker": {
             "colorbar": {
              "outlinewidth": 0,
              "ticks": ""
             }
            },
            "type": "scatterternary"
           }
          ],
          "surface": [
           {
            "colorbar": {
             "outlinewidth": 0,
             "ticks": ""
            },
            "colorscale": [
             [
              0,
              "#0d0887"
             ],
             [
              0.1111111111111111,
              "#46039f"
             ],
             [
              0.2222222222222222,
              "#7201a8"
             ],
             [
              0.3333333333333333,
              "#9c179e"
             ],
             [
              0.4444444444444444,
              "#bd3786"
             ],
             [
              0.5555555555555556,
              "#d8576b"
             ],
             [
              0.6666666666666666,
              "#ed7953"
             ],
             [
              0.7777777777777778,
              "#fb9f3a"
             ],
             [
              0.8888888888888888,
              "#fdca26"
             ],
             [
              1,
              "#f0f921"
             ]
            ],
            "type": "surface"
           }
          ],
          "table": [
           {
            "cells": {
             "fill": {
              "color": "#EBF0F8"
             },
             "line": {
              "color": "white"
             }
            },
            "header": {
             "fill": {
              "color": "#C8D4E3"
             },
             "line": {
              "color": "white"
             }
            },
            "type": "table"
           }
          ]
         },
         "layout": {
          "annotationdefaults": {
           "arrowcolor": "#2a3f5f",
           "arrowhead": 0,
           "arrowwidth": 1
          },
          "autotypenumbers": "strict",
          "coloraxis": {
           "colorbar": {
            "outlinewidth": 0,
            "ticks": ""
           }
          },
          "colorscale": {
           "diverging": [
            [
             0,
             "#8e0152"
            ],
            [
             0.1,
             "#c51b7d"
            ],
            [
             0.2,
             "#de77ae"
            ],
            [
             0.3,
             "#f1b6da"
            ],
            [
             0.4,
             "#fde0ef"
            ],
            [
             0.5,
             "#f7f7f7"
            ],
            [
             0.6,
             "#e6f5d0"
            ],
            [
             0.7,
             "#b8e186"
            ],
            [
             0.8,
             "#7fbc41"
            ],
            [
             0.9,
             "#4d9221"
            ],
            [
             1,
             "#276419"
            ]
           ],
           "sequential": [
            [
             0,
             "#0d0887"
            ],
            [
             0.1111111111111111,
             "#46039f"
            ],
            [
             0.2222222222222222,
             "#7201a8"
            ],
            [
             0.3333333333333333,
             "#9c179e"
            ],
            [
             0.4444444444444444,
             "#bd3786"
            ],
            [
             0.5555555555555556,
             "#d8576b"
            ],
            [
             0.6666666666666666,
             "#ed7953"
            ],
            [
             0.7777777777777778,
             "#fb9f3a"
            ],
            [
             0.8888888888888888,
             "#fdca26"
            ],
            [
             1,
             "#f0f921"
            ]
           ],
           "sequentialminus": [
            [
             0,
             "#0d0887"
            ],
            [
             0.1111111111111111,
             "#46039f"
            ],
            [
             0.2222222222222222,
             "#7201a8"
            ],
            [
             0.3333333333333333,
             "#9c179e"
            ],
            [
             0.4444444444444444,
             "#bd3786"
            ],
            [
             0.5555555555555556,
             "#d8576b"
            ],
            [
             0.6666666666666666,
             "#ed7953"
            ],
            [
             0.7777777777777778,
             "#fb9f3a"
            ],
            [
             0.8888888888888888,
             "#fdca26"
            ],
            [
             1,
             "#f0f921"
            ]
           ]
          },
          "colorway": [
           "#636efa",
           "#EF553B",
           "#00cc96",
           "#ab63fa",
           "#FFA15A",
           "#19d3f3",
           "#FF6692",
           "#B6E880",
           "#FF97FF",
           "#FECB52"
          ],
          "font": {
           "color": "#2a3f5f"
          },
          "geo": {
           "bgcolor": "white",
           "lakecolor": "white",
           "landcolor": "#E5ECF6",
           "showlakes": true,
           "showland": true,
           "subunitcolor": "white"
          },
          "hoverlabel": {
           "align": "left"
          },
          "hovermode": "closest",
          "mapbox": {
           "style": "light"
          },
          "paper_bgcolor": "white",
          "plot_bgcolor": "#E5ECF6",
          "polar": {
           "angularaxis": {
            "gridcolor": "white",
            "linecolor": "white",
            "ticks": ""
           },
           "bgcolor": "#E5ECF6",
           "radialaxis": {
            "gridcolor": "white",
            "linecolor": "white",
            "ticks": ""
           }
          },
          "scene": {
           "xaxis": {
            "backgroundcolor": "#E5ECF6",
            "gridcolor": "white",
            "gridwidth": 2,
            "linecolor": "white",
            "showbackground": true,
            "ticks": "",
            "zerolinecolor": "white"
           },
           "yaxis": {
            "backgroundcolor": "#E5ECF6",
            "gridcolor": "white",
            "gridwidth": 2,
            "linecolor": "white",
            "showbackground": true,
            "ticks": "",
            "zerolinecolor": "white"
           },
           "zaxis": {
            "backgroundcolor": "#E5ECF6",
            "gridcolor": "white",
            "gridwidth": 2,
            "linecolor": "white",
            "showbackground": true,
            "ticks": "",
            "zerolinecolor": "white"
           }
          },
          "shapedefaults": {
           "line": {
            "color": "#2a3f5f"
           }
          },
          "ternary": {
           "aaxis": {
            "gridcolor": "white",
            "linecolor": "white",
            "ticks": ""
           },
           "baxis": {
            "gridcolor": "white",
            "linecolor": "white",
            "ticks": ""
           },
           "bgcolor": "#E5ECF6",
           "caxis": {
            "gridcolor": "white",
            "linecolor": "white",
            "ticks": ""
           }
          },
          "title": {
           "x": 0.05
          },
          "xaxis": {
           "automargin": true,
           "gridcolor": "white",
           "linecolor": "white",
           "ticks": "",
           "title": {
            "standoff": 15
           },
           "zerolinecolor": "white",
           "zerolinewidth": 2
          },
          "yaxis": {
           "automargin": true,
           "gridcolor": "white",
           "linecolor": "white",
           "ticks": "",
           "title": {
            "standoff": 15
           },
           "zerolinecolor": "white",
           "zerolinewidth": 2
          }
         }
        },
        "title": {
         "text": "Slice Plot"
        },
        "width": 2100,
        "xaxis": {
         "anchor": "y",
         "domain": [
          0,
          0.1183673469387755
         ],
         "title": {
          "text": "cliprange"
         }
        },
        "xaxis2": {
         "anchor": "y2",
         "domain": [
          0.14693877551020407,
          0.26530612244897955
         ],
         "title": {
          "text": "ent_coef"
         },
         "type": "log"
        },
        "xaxis3": {
         "anchor": "y3",
         "domain": [
          0.29387755102040813,
          0.4122448979591836
         ],
         "title": {
          "text": "gamma"
         },
         "type": "log"
        },
        "xaxis4": {
         "anchor": "y4",
         "domain": [
          0.4408163265306122,
          0.5591836734693877
         ],
         "title": {
          "text": "lam"
         }
        },
        "xaxis5": {
         "anchor": "y5",
         "domain": [
          0.5877551020408163,
          0.7061224489795918
         ],
         "title": {
          "text": "learning_rate"
         },
         "type": "log"
        },
        "xaxis6": {
         "anchor": "y6",
         "domain": [
          0.7346938775510204,
          0.8530612244897959
         ],
         "title": {
          "text": "n_steps"
         },
         "type": "log"
        },
        "xaxis7": {
         "anchor": "y7",
         "domain": [
          0.8816326530612244,
          0.9999999999999999
         ],
         "title": {
          "text": "noptepochs"
         },
         "type": "log"
        },
        "yaxis": {
         "anchor": "x",
         "domain": [
          0,
          1
         ],
         "title": {
          "text": "Objective Value"
         }
        },
        "yaxis2": {
         "anchor": "x2",
         "domain": [
          0,
          1
         ],
         "matches": "y",
         "showticklabels": false
        },
        "yaxis3": {
         "anchor": "x3",
         "domain": [
          0,
          1
         ],
         "matches": "y",
         "showticklabels": false
        },
        "yaxis4": {
         "anchor": "x4",
         "domain": [
          0,
          1
         ],
         "matches": "y",
         "showticklabels": false
        },
        "yaxis5": {
         "anchor": "x5",
         "domain": [
          0,
          1
         ],
         "matches": "y",
         "showticklabels": false
        },
        "yaxis6": {
         "anchor": "x6",
         "domain": [
          0,
          1
         ],
         "matches": "y",
         "showticklabels": false
        },
        "yaxis7": {
         "anchor": "x7",
         "domain": [
          0,
          1
         ],
         "matches": "y",
         "showticklabels": false
        }
       }
      },
      "text/html": [
       "<div>                            <div id=\"4df72c52-d09c-4493-b6b5-edffcfd451dc\" class=\"plotly-graph-div\" style=\"height:525px; width:2100px;\"></div>            <script type=\"text/javascript\">                require([\"plotly\"], function(Plotly) {                    window.PLOTLYENV=window.PLOTLYENV || {};                                    if (document.getElementById(\"4df72c52-d09c-4493-b6b5-edffcfd451dc\")) {                    Plotly.newPlot(                        \"4df72c52-d09c-4493-b6b5-edffcfd451dc\",                        [{\"marker\":{\"color\":[0,1,2,3,4,5,6,7,8,9,10,11,12,13,14,15,16,17,18,19,20,21,22,23,24,25,26,27,28,29,30,31,32,33,34,35,36,37,38,39],\"colorbar\":{\"title\":{\"text\":\"#Trials\"},\"x\":1.0,\"xpad\":40},\"colorscale\":[[0.0,\"rgb(247,251,255)\"],[0.125,\"rgb(222,235,247)\"],[0.25,\"rgb(198,219,239)\"],[0.375,\"rgb(158,202,225)\"],[0.5,\"rgb(107,174,214)\"],[0.625,\"rgb(66,146,198)\"],[0.75,\"rgb(33,113,181)\"],[0.875,\"rgb(8,81,156)\"],[1.0,\"rgb(8,48,107)\"]],\"line\":{\"color\":\"Grey\",\"width\":0.5},\"showscale\":true},\"mode\":\"markers\",\"showlegend\":false,\"type\":\"scatter\",\"x\":[0.3257663147074419,0.10281095666019156,0.27438812146974273,0.24440195717878416,0.11314316242260278,0.2946994430692555,0.3195442798206901,0.2566093771727787,0.19266645368659702,0.13462590611168496,0.3565198626349384,0.12167134252776168,0.2712115266548605,0.1758937955738119,0.18573135270617266,0.17882941088281956,0.1990090538660546,0.18756798400430288,0.39371124942462005,0.39824823113198293,0.14728957503304801,0.13983371698213987,0.3997326478346228,0.1478365614123256,0.2235462268665498,0.22608626990910372,0.22192064967308187,0.22005431653669655,0.2222838168081487,0.20988754918665503,0.3741523417145842,0.3632590403870839,0.35365450111525354,0.34599708767131765,0.24863549199992702,0.29294399889643474,0.315028131757688,0.304284980332978,0.2987853527667117,0.31746503532709364],\"xaxis\":\"x\",\"y\":[309.11383056640625,-0.0,-29.524391174316406,-402.56097412109375,1202.1748046875,-273.03253173828125,117.668701171875,-0.0,973.86181640625,-576.4471435546875,-75.52032470703125,609.8963623046875,1083.6727294921875,661.1788330078125,1563.6483154296875,747.569091796875,-492.5365905761719,446.8251953125,-591.7906494140625,-297.0365905761719,-0.0,272.1666564941406,55.418697357177734,22.022357940673828,716.6727905273438,-0.0,-89.23577117919922,-212.91259765625,-275.1280517578125,289.9248046875,173.1239776611328,954.1260375976562,636.180908203125,-0.0,736.8516235351562,956.7845458984375,574.6300659179688,973.2947387695312,314.57318115234375,1312.1097412109375],\"yaxis\":\"y\"},{\"marker\":{\"color\":[0,1,2,3,4,5,6,7,8,9,10,11,12,13,14,15,16,17,18,19,20,21,22,23,24,25,26,27,28,29,30,31,32,33,34,35,36,37,38,39],\"colorbar\":{\"title\":{\"text\":\"#Trials\"},\"x\":1.0,\"xpad\":40},\"colorscale\":[[0.0,\"rgb(247,251,255)\"],[0.125,\"rgb(222,235,247)\"],[0.25,\"rgb(198,219,239)\"],[0.375,\"rgb(158,202,225)\"],[0.5,\"rgb(107,174,214)\"],[0.625,\"rgb(66,146,198)\"],[0.75,\"rgb(33,113,181)\"],[0.875,\"rgb(8,81,156)\"],[1.0,\"rgb(8,48,107)\"]],\"line\":{\"color\":\"Grey\",\"width\":0.5},\"showscale\":false},\"mode\":\"markers\",\"showlegend\":false,\"type\":\"scatter\",\"x\":[0.003149049632223071,1.1095935228804556e-08,9.245267868604935e-05,4.161654239051995e-06,3.9771428613109e-06,0.05138975808683742,2.001141929007072e-05,1.4307663584553815e-07,0.001629706293075876,3.5368807091355746e-07,7.878081877258677e-08,1.617288828984889e-05,3.6041982608132447e-08,1.875976129185571e-07,8.567123359654876e-07,8.579579027387324e-07,8.46690439957377e-07,8.583727571454602e-07,1.5899428516864257e-06,0.00017055431770249979,7.778803164001012e-07,0.00022397885912046382,0.00015476492185959118,5.0748234675929466e-06,4.74672937506445e-06,3.856781731844768e-06,4.75973054499735e-06,2.8642634962619637e-07,1.580671857249761e-08,3.210494454739354e-07,2.521036332584405e-07,2.6869278629860654e-08,2.2476344645546463e-08,4.8592423713083715e-08,1.7845802730234388e-06,1.8408611009403653e-06,1.826520410682568e-06,5.1637107215904605e-05,1.3011751251902476e-05,5.473384221091756e-05],\"xaxis\":\"x2\",\"y\":[309.11383056640625,-0.0,-29.524391174316406,-402.56097412109375,1202.1748046875,-273.03253173828125,117.668701171875,-0.0,973.86181640625,-576.4471435546875,-75.52032470703125,609.8963623046875,1083.6727294921875,661.1788330078125,1563.6483154296875,747.569091796875,-492.5365905761719,446.8251953125,-591.7906494140625,-297.0365905761719,-0.0,272.1666564941406,55.418697357177734,22.022357940673828,716.6727905273438,-0.0,-89.23577117919922,-212.91259765625,-275.1280517578125,289.9248046875,173.1239776611328,954.1260375976562,636.180908203125,-0.0,736.8516235351562,956.7845458984375,574.6300659179688,973.2947387695312,314.57318115234375,1312.1097412109375],\"yaxis\":\"y2\"},{\"marker\":{\"color\":[0,1,2,3,4,5,6,7,8,9,10,11,12,13,14,15,16,17,18,19,20,21,22,23,24,25,26,27,28,29,30,31,32,33,34,35,36,37,38,39],\"colorbar\":{\"title\":{\"text\":\"#Trials\"},\"x\":1.0,\"xpad\":40},\"colorscale\":[[0.0,\"rgb(247,251,255)\"],[0.125,\"rgb(222,235,247)\"],[0.25,\"rgb(198,219,239)\"],[0.375,\"rgb(158,202,225)\"],[0.5,\"rgb(107,174,214)\"],[0.625,\"rgb(66,146,198)\"],[0.75,\"rgb(33,113,181)\"],[0.875,\"rgb(8,81,156)\"],[1.0,\"rgb(8,48,107)\"]],\"line\":{\"color\":\"Grey\",\"width\":0.5},\"showscale\":false},\"mode\":\"markers\",\"showlegend\":false,\"type\":\"scatter\",\"x\":[0.9101963001604267,0.9227353200456211,0.9065349585581739,0.9730533916259573,0.9082380774706336,0.9721281527305501,0.9181308342056382,0.9827029089042658,0.9552112056544422,0.9271269139594669,0.9170672398326655,0.9275788381467611,0.9985801558104965,0.935426546589541,0.9410679029124298,0.9986420926719003,0.9396412716600672,0.9523727408239969,0.9591102443825824,0.9581341760508694,0.9480672360675276,0.9370072732616982,0.9618183136664568,0.963724228216155,0.9339673348632421,0.9650533305008466,0.9305556827499826,0.944749919798454,0.9456768380437541,0.9456626491478275,0.941685402613506,0.9429594220131609,0.9148368169938638,0.9142852731844654,0.9768427364201483,0.9745560967114989,0.9751714156788103,0.9763963437711064,0.9002445538170847,0.9883548768360808],\"xaxis\":\"x3\",\"y\":[309.11383056640625,-0.0,-29.524391174316406,-402.56097412109375,1202.1748046875,-273.03253173828125,117.668701171875,-0.0,973.86181640625,-576.4471435546875,-75.52032470703125,609.8963623046875,1083.6727294921875,661.1788330078125,1563.6483154296875,747.569091796875,-492.5365905761719,446.8251953125,-591.7906494140625,-297.0365905761719,-0.0,272.1666564941406,55.418697357177734,22.022357940673828,716.6727905273438,-0.0,-89.23577117919922,-212.91259765625,-275.1280517578125,289.9248046875,173.1239776611328,954.1260375976562,636.180908203125,-0.0,736.8516235351562,956.7845458984375,574.6300659179688,973.2947387695312,314.57318115234375,1312.1097412109375],\"yaxis\":\"y3\"},{\"marker\":{\"color\":[0,1,2,3,4,5,6,7,8,9,10,11,12,13,14,15,16,17,18,19,20,21,22,23,24,25,26,27,28,29,30,31,32,33,34,35,36,37,38,39],\"colorbar\":{\"title\":{\"text\":\"#Trials\"},\"x\":1.0,\"xpad\":40},\"colorscale\":[[0.0,\"rgb(247,251,255)\"],[0.125,\"rgb(222,235,247)\"],[0.25,\"rgb(198,219,239)\"],[0.375,\"rgb(158,202,225)\"],[0.5,\"rgb(107,174,214)\"],[0.625,\"rgb(66,146,198)\"],[0.75,\"rgb(33,113,181)\"],[0.875,\"rgb(8,81,156)\"],[1.0,\"rgb(8,48,107)\"]],\"line\":{\"color\":\"Grey\",\"width\":0.5},\"showscale\":false},\"mode\":\"markers\",\"showlegend\":false,\"type\":\"scatter\",\"x\":[0.8498732914337372,0.9219460146749776,0.9172992901470256,0.875423899154727,0.9886317814467556,0.8266079497871128,0.973951896721686,0.8740244245942093,0.8870219994195176,0.9167508040465403,0.8198171826367934,0.8523165174508562,0.8830869627464168,0.9592821870429851,0.9471948912755088,0.9449366036871856,0.9474957192981299,0.9415807791842576,0.9169528862080345,0.9142431498991983,0.9225601053831956,0.9129204437840931,0.9110554169613557,0.9063507937583822,0.9039289775969044,0.9638304010055859,0.9675143422009715,0.9336852291253505,0.9973629223464512,0.9994210542843458,0.9339074613902849,0.9987969548439523,0.8563741813690547,0.8607586606622855,0.8561544471127996,0.8606647479786252,0.8896863743798017,0.8918097204403256,0.8933612774347494,0.8361142877145198],\"xaxis\":\"x4\",\"y\":[309.11383056640625,-0.0,-29.524391174316406,-402.56097412109375,1202.1748046875,-273.03253173828125,117.668701171875,-0.0,973.86181640625,-576.4471435546875,-75.52032470703125,609.8963623046875,1083.6727294921875,661.1788330078125,1563.6483154296875,747.569091796875,-492.5365905761719,446.8251953125,-591.7906494140625,-297.0365905761719,-0.0,272.1666564941406,55.418697357177734,22.022357940673828,716.6727905273438,-0.0,-89.23577117919922,-212.91259765625,-275.1280517578125,289.9248046875,173.1239776611328,954.1260375976562,636.180908203125,-0.0,736.8516235351562,956.7845458984375,574.6300659179688,973.2947387695312,314.57318115234375,1312.1097412109375],\"yaxis\":\"y4\"},{\"marker\":{\"color\":[0,1,2,3,4,5,6,7,8,9,10,11,12,13,14,15,16,17,18,19,20,21,22,23,24,25,26,27,28,29,30,31,32,33,34,35,36,37,38,39],\"colorbar\":{\"title\":{\"text\":\"#Trials\"},\"x\":1.0,\"xpad\":40},\"colorscale\":[[0.0,\"rgb(247,251,255)\"],[0.125,\"rgb(222,235,247)\"],[0.25,\"rgb(198,219,239)\"],[0.375,\"rgb(158,202,225)\"],[0.5,\"rgb(107,174,214)\"],[0.625,\"rgb(66,146,198)\"],[0.75,\"rgb(33,113,181)\"],[0.875,\"rgb(8,81,156)\"],[1.0,\"rgb(8,48,107)\"]],\"line\":{\"color\":\"Grey\",\"width\":0.5},\"showscale\":false},\"mode\":\"markers\",\"showlegend\":false,\"type\":\"scatter\",\"x\":[6.0272891570215e-05,0.6090156890828209,0.0002030615102292118,3.640172869937587e-05,0.0034319779826551843,5.2893727020314905e-05,0.5413274447280052,0.8601322103763739,0.0002787364175196116,0.00026136240618242267,0.0014544385730265352,9.856078853590652e-05,1.3429321835572322e-05,0.007975974177921468,1.0508421248179397e-05,1.761491562830173e-05,0.0025195975297779374,0.0007852612830668795,0.0006631816632049884,0.0006684292247914314,0.02581458412829323,0.0228933162237084,0.022486247986613667,0.019334847792036848,0.02295754007800709,0.00421791395371734,0.0038618516992342186,0.005832018446975119,0.002336908991010523,0.0003167085497490494,0.10524412135799197,0.0013781763188232623,0.0014112502158873464,0.1357946196237429,4.95193488523155e-05,8.505768533855966e-05,3.9716182566676204e-05,5.092190812175935e-05,0.00011465633474983014,2.932058895508055e-05],\"xaxis\":\"x5\",\"y\":[309.11383056640625,-0.0,-29.524391174316406,-402.56097412109375,1202.1748046875,-273.03253173828125,117.668701171875,-0.0,973.86181640625,-576.4471435546875,-75.52032470703125,609.8963623046875,1083.6727294921875,661.1788330078125,1563.6483154296875,747.569091796875,-492.5365905761719,446.8251953125,-591.7906494140625,-297.0365905761719,-0.0,272.1666564941406,55.418697357177734,22.022357940673828,716.6727905273438,-0.0,-89.23577117919922,-212.91259765625,-275.1280517578125,289.9248046875,173.1239776611328,954.1260375976562,636.180908203125,-0.0,736.8516235351562,956.7845458984375,574.6300659179688,973.2947387695312,314.57318115234375,1312.1097412109375],\"yaxis\":\"y5\"},{\"marker\":{\"color\":[0,1,2,3,4,5,6,7,8,9,10,11,12,13,14,15,16,17,18,19,20,21,22,23,24,25,26,27,28,29,30,31,32,33,34,35,36,37,38,39],\"colorbar\":{\"title\":{\"text\":\"#Trials\"},\"x\":1.0,\"xpad\":40},\"colorscale\":[[0.0,\"rgb(247,251,255)\"],[0.125,\"rgb(222,235,247)\"],[0.25,\"rgb(198,219,239)\"],[0.375,\"rgb(158,202,225)\"],[0.5,\"rgb(107,174,214)\"],[0.625,\"rgb(66,146,198)\"],[0.75,\"rgb(33,113,181)\"],[0.875,\"rgb(8,81,156)\"],[1.0,\"rgb(8,48,107)\"]],\"line\":{\"color\":\"Grey\",\"width\":0.5},\"showscale\":false},\"mode\":\"markers\",\"showlegend\":false,\"type\":\"scatter\",\"x\":[1427.8526814524866,47.843368934171856,117.56459298372633,48.641580005034704,643.9109427120741,22.21729603630044,1206.7326147058839,29.70315439079185,527.4024353643078,134.65508786844322,35.94350792141046,1469.4026399532854,268.89173539600523,192.1753929746775,128.32800633127522,119.30802067459382,92.67311974863127,103.74962730907768,67.29249412336303,63.43116882382787,69.70400108288797,318.61561527150815,336.6957943291277,16.386655711614512,290.12959368252973,79.99525035136436,74.46219980020234,78.18550058255443,76.01082325666371,184.9354790469268,46.507604633829565,169.2824308178845,171.28579212743094,157.43654734965588,45.90136636587474,46.893302624330055,51.64497665404515,47.387126710029136,34.15326449063219,29.81688412552911],\"xaxis\":\"x6\",\"y\":[309.11383056640625,-0.0,-29.524391174316406,-402.56097412109375,1202.1748046875,-273.03253173828125,117.668701171875,-0.0,973.86181640625,-576.4471435546875,-75.52032470703125,609.8963623046875,1083.6727294921875,661.1788330078125,1563.6483154296875,747.569091796875,-492.5365905761719,446.8251953125,-591.7906494140625,-297.0365905761719,-0.0,272.1666564941406,55.418697357177734,22.022357940673828,716.6727905273438,-0.0,-89.23577117919922,-212.91259765625,-275.1280517578125,289.9248046875,173.1239776611328,954.1260375976562,636.180908203125,-0.0,736.8516235351562,956.7845458984375,574.6300659179688,973.2947387695312,314.57318115234375,1312.1097412109375],\"yaxis\":\"y6\"},{\"marker\":{\"color\":[0,1,2,3,4,5,6,7,8,9,10,11,12,13,14,15,16,17,18,19,20,21,22,23,24,25,26,27,28,29,30,31,32,33,34,35,36,37,38,39],\"colorbar\":{\"title\":{\"text\":\"#Trials\"},\"x\":1.0,\"xpad\":40},\"colorscale\":[[0.0,\"rgb(247,251,255)\"],[0.125,\"rgb(222,235,247)\"],[0.25,\"rgb(198,219,239)\"],[0.375,\"rgb(158,202,225)\"],[0.5,\"rgb(107,174,214)\"],[0.625,\"rgb(66,146,198)\"],[0.75,\"rgb(33,113,181)\"],[0.875,\"rgb(8,81,156)\"],[1.0,\"rgb(8,48,107)\"]],\"line\":{\"color\":\"Grey\",\"width\":0.5},\"showscale\":false},\"mode\":\"markers\",\"showlegend\":false,\"type\":\"scatter\",\"x\":[38.425081736471455,11.293965116468641,1.3624926003794675,2.1415325373698364,19.454138257471467,34.862864535052495,28.05869935081299,1.0742707467602004,5.921544663630059,12.494541462059507,16.722013009414084,3.0670133239243205,37.100391799871595,5.112914522287846,3.1935443733098707,4.219539130612831,4.314483224117203,2.777733925130165,9.134341184255051,9.518689266916512,9.435200015502499,9.554581218797834,10.377861167645223,8.487009559886587,7.450824354195253,15.583005545858896,18.19611116573582,14.573992027329279,15.799600134789914,4.481482515681736,4.397611699063577,4.609739458693535,6.662316779017848,6.184765022689976,1.671420895221908,2.0687962401597373,1.9632511776987578,1.9057499219385956,1.9537403459681157,23.979611191895593],\"xaxis\":\"x7\",\"y\":[309.11383056640625,-0.0,-29.524391174316406,-402.56097412109375,1202.1748046875,-273.03253173828125,117.668701171875,-0.0,973.86181640625,-576.4471435546875,-75.52032470703125,609.8963623046875,1083.6727294921875,661.1788330078125,1563.6483154296875,747.569091796875,-492.5365905761719,446.8251953125,-591.7906494140625,-297.0365905761719,-0.0,272.1666564941406,55.418697357177734,22.022357940673828,716.6727905273438,-0.0,-89.23577117919922,-212.91259765625,-275.1280517578125,289.9248046875,173.1239776611328,954.1260375976562,636.180908203125,-0.0,736.8516235351562,956.7845458984375,574.6300659179688,973.2947387695312,314.57318115234375,1312.1097412109375],\"yaxis\":\"y7\"}],                        {\"template\":{\"data\":{\"bar\":[{\"error_x\":{\"color\":\"#2a3f5f\"},\"error_y\":{\"color\":\"#2a3f5f\"},\"marker\":{\"line\":{\"color\":\"#E5ECF6\",\"width\":0.5},\"pattern\":{\"fillmode\":\"overlay\",\"size\":10,\"solidity\":0.2}},\"type\":\"bar\"}],\"barpolar\":[{\"marker\":{\"line\":{\"color\":\"#E5ECF6\",\"width\":0.5},\"pattern\":{\"fillmode\":\"overlay\",\"size\":10,\"solidity\":0.2}},\"type\":\"barpolar\"}],\"carpet\":[{\"aaxis\":{\"endlinecolor\":\"#2a3f5f\",\"gridcolor\":\"white\",\"linecolor\":\"white\",\"minorgridcolor\":\"white\",\"startlinecolor\":\"#2a3f5f\"},\"baxis\":{\"endlinecolor\":\"#2a3f5f\",\"gridcolor\":\"white\",\"linecolor\":\"white\",\"minorgridcolor\":\"white\",\"startlinecolor\":\"#2a3f5f\"},\"type\":\"carpet\"}],\"choropleth\":[{\"colorbar\":{\"outlinewidth\":0,\"ticks\":\"\"},\"type\":\"choropleth\"}],\"contour\":[{\"colorbar\":{\"outlinewidth\":0,\"ticks\":\"\"},\"colorscale\":[[0.0,\"#0d0887\"],[0.1111111111111111,\"#46039f\"],[0.2222222222222222,\"#7201a8\"],[0.3333333333333333,\"#9c179e\"],[0.4444444444444444,\"#bd3786\"],[0.5555555555555556,\"#d8576b\"],[0.6666666666666666,\"#ed7953\"],[0.7777777777777778,\"#fb9f3a\"],[0.8888888888888888,\"#fdca26\"],[1.0,\"#f0f921\"]],\"type\":\"contour\"}],\"contourcarpet\":[{\"colorbar\":{\"outlinewidth\":0,\"ticks\":\"\"},\"type\":\"contourcarpet\"}],\"heatmap\":[{\"colorbar\":{\"outlinewidth\":0,\"ticks\":\"\"},\"colorscale\":[[0.0,\"#0d0887\"],[0.1111111111111111,\"#46039f\"],[0.2222222222222222,\"#7201a8\"],[0.3333333333333333,\"#9c179e\"],[0.4444444444444444,\"#bd3786\"],[0.5555555555555556,\"#d8576b\"],[0.6666666666666666,\"#ed7953\"],[0.7777777777777778,\"#fb9f3a\"],[0.8888888888888888,\"#fdca26\"],[1.0,\"#f0f921\"]],\"type\":\"heatmap\"}],\"heatmapgl\":[{\"colorbar\":{\"outlinewidth\":0,\"ticks\":\"\"},\"colorscale\":[[0.0,\"#0d0887\"],[0.1111111111111111,\"#46039f\"],[0.2222222222222222,\"#7201a8\"],[0.3333333333333333,\"#9c179e\"],[0.4444444444444444,\"#bd3786\"],[0.5555555555555556,\"#d8576b\"],[0.6666666666666666,\"#ed7953\"],[0.7777777777777778,\"#fb9f3a\"],[0.8888888888888888,\"#fdca26\"],[1.0,\"#f0f921\"]],\"type\":\"heatmapgl\"}],\"histogram\":[{\"marker\":{\"pattern\":{\"fillmode\":\"overlay\",\"size\":10,\"solidity\":0.2}},\"type\":\"histogram\"}],\"histogram2d\":[{\"colorbar\":{\"outlinewidth\":0,\"ticks\":\"\"},\"colorscale\":[[0.0,\"#0d0887\"],[0.1111111111111111,\"#46039f\"],[0.2222222222222222,\"#7201a8\"],[0.3333333333333333,\"#9c179e\"],[0.4444444444444444,\"#bd3786\"],[0.5555555555555556,\"#d8576b\"],[0.6666666666666666,\"#ed7953\"],[0.7777777777777778,\"#fb9f3a\"],[0.8888888888888888,\"#fdca26\"],[1.0,\"#f0f921\"]],\"type\":\"histogram2d\"}],\"histogram2dcontour\":[{\"colorbar\":{\"outlinewidth\":0,\"ticks\":\"\"},\"colorscale\":[[0.0,\"#0d0887\"],[0.1111111111111111,\"#46039f\"],[0.2222222222222222,\"#7201a8\"],[0.3333333333333333,\"#9c179e\"],[0.4444444444444444,\"#bd3786\"],[0.5555555555555556,\"#d8576b\"],[0.6666666666666666,\"#ed7953\"],[0.7777777777777778,\"#fb9f3a\"],[0.8888888888888888,\"#fdca26\"],[1.0,\"#f0f921\"]],\"type\":\"histogram2dcontour\"}],\"mesh3d\":[{\"colorbar\":{\"outlinewidth\":0,\"ticks\":\"\"},\"type\":\"mesh3d\"}],\"parcoords\":[{\"line\":{\"colorbar\":{\"outlinewidth\":0,\"ticks\":\"\"}},\"type\":\"parcoords\"}],\"pie\":[{\"automargin\":true,\"type\":\"pie\"}],\"scatter\":[{\"marker\":{\"colorbar\":{\"outlinewidth\":0,\"ticks\":\"\"}},\"type\":\"scatter\"}],\"scatter3d\":[{\"line\":{\"colorbar\":{\"outlinewidth\":0,\"ticks\":\"\"}},\"marker\":{\"colorbar\":{\"outlinewidth\":0,\"ticks\":\"\"}},\"type\":\"scatter3d\"}],\"scattercarpet\":[{\"marker\":{\"colorbar\":{\"outlinewidth\":0,\"ticks\":\"\"}},\"type\":\"scattercarpet\"}],\"scattergeo\":[{\"marker\":{\"colorbar\":{\"outlinewidth\":0,\"ticks\":\"\"}},\"type\":\"scattergeo\"}],\"scattergl\":[{\"marker\":{\"colorbar\":{\"outlinewidth\":0,\"ticks\":\"\"}},\"type\":\"scattergl\"}],\"scattermapbox\":[{\"marker\":{\"colorbar\":{\"outlinewidth\":0,\"ticks\":\"\"}},\"type\":\"scattermapbox\"}],\"scatterpolar\":[{\"marker\":{\"colorbar\":{\"outlinewidth\":0,\"ticks\":\"\"}},\"type\":\"scatterpolar\"}],\"scatterpolargl\":[{\"marker\":{\"colorbar\":{\"outlinewidth\":0,\"ticks\":\"\"}},\"type\":\"scatterpolargl\"}],\"scatterternary\":[{\"marker\":{\"colorbar\":{\"outlinewidth\":0,\"ticks\":\"\"}},\"type\":\"scatterternary\"}],\"surface\":[{\"colorbar\":{\"outlinewidth\":0,\"ticks\":\"\"},\"colorscale\":[[0.0,\"#0d0887\"],[0.1111111111111111,\"#46039f\"],[0.2222222222222222,\"#7201a8\"],[0.3333333333333333,\"#9c179e\"],[0.4444444444444444,\"#bd3786\"],[0.5555555555555556,\"#d8576b\"],[0.6666666666666666,\"#ed7953\"],[0.7777777777777778,\"#fb9f3a\"],[0.8888888888888888,\"#fdca26\"],[1.0,\"#f0f921\"]],\"type\":\"surface\"}],\"table\":[{\"cells\":{\"fill\":{\"color\":\"#EBF0F8\"},\"line\":{\"color\":\"white\"}},\"header\":{\"fill\":{\"color\":\"#C8D4E3\"},\"line\":{\"color\":\"white\"}},\"type\":\"table\"}]},\"layout\":{\"annotationdefaults\":{\"arrowcolor\":\"#2a3f5f\",\"arrowhead\":0,\"arrowwidth\":1},\"autotypenumbers\":\"strict\",\"coloraxis\":{\"colorbar\":{\"outlinewidth\":0,\"ticks\":\"\"}},\"colorscale\":{\"diverging\":[[0,\"#8e0152\"],[0.1,\"#c51b7d\"],[0.2,\"#de77ae\"],[0.3,\"#f1b6da\"],[0.4,\"#fde0ef\"],[0.5,\"#f7f7f7\"],[0.6,\"#e6f5d0\"],[0.7,\"#b8e186\"],[0.8,\"#7fbc41\"],[0.9,\"#4d9221\"],[1,\"#276419\"]],\"sequential\":[[0.0,\"#0d0887\"],[0.1111111111111111,\"#46039f\"],[0.2222222222222222,\"#7201a8\"],[0.3333333333333333,\"#9c179e\"],[0.4444444444444444,\"#bd3786\"],[0.5555555555555556,\"#d8576b\"],[0.6666666666666666,\"#ed7953\"],[0.7777777777777778,\"#fb9f3a\"],[0.8888888888888888,\"#fdca26\"],[1.0,\"#f0f921\"]],\"sequentialminus\":[[0.0,\"#0d0887\"],[0.1111111111111111,\"#46039f\"],[0.2222222222222222,\"#7201a8\"],[0.3333333333333333,\"#9c179e\"],[0.4444444444444444,\"#bd3786\"],[0.5555555555555556,\"#d8576b\"],[0.6666666666666666,\"#ed7953\"],[0.7777777777777778,\"#fb9f3a\"],[0.8888888888888888,\"#fdca26\"],[1.0,\"#f0f921\"]]},\"colorway\":[\"#636efa\",\"#EF553B\",\"#00cc96\",\"#ab63fa\",\"#FFA15A\",\"#19d3f3\",\"#FF6692\",\"#B6E880\",\"#FF97FF\",\"#FECB52\"],\"font\":{\"color\":\"#2a3f5f\"},\"geo\":{\"bgcolor\":\"white\",\"lakecolor\":\"white\",\"landcolor\":\"#E5ECF6\",\"showlakes\":true,\"showland\":true,\"subunitcolor\":\"white\"},\"hoverlabel\":{\"align\":\"left\"},\"hovermode\":\"closest\",\"mapbox\":{\"style\":\"light\"},\"paper_bgcolor\":\"white\",\"plot_bgcolor\":\"#E5ECF6\",\"polar\":{\"angularaxis\":{\"gridcolor\":\"white\",\"linecolor\":\"white\",\"ticks\":\"\"},\"bgcolor\":\"#E5ECF6\",\"radialaxis\":{\"gridcolor\":\"white\",\"linecolor\":\"white\",\"ticks\":\"\"}},\"scene\":{\"xaxis\":{\"backgroundcolor\":\"#E5ECF6\",\"gridcolor\":\"white\",\"gridwidth\":2,\"linecolor\":\"white\",\"showbackground\":true,\"ticks\":\"\",\"zerolinecolor\":\"white\"},\"yaxis\":{\"backgroundcolor\":\"#E5ECF6\",\"gridcolor\":\"white\",\"gridwidth\":2,\"linecolor\":\"white\",\"showbackground\":true,\"ticks\":\"\",\"zerolinecolor\":\"white\"},\"zaxis\":{\"backgroundcolor\":\"#E5ECF6\",\"gridcolor\":\"white\",\"gridwidth\":2,\"linecolor\":\"white\",\"showbackground\":true,\"ticks\":\"\",\"zerolinecolor\":\"white\"}},\"shapedefaults\":{\"line\":{\"color\":\"#2a3f5f\"}},\"ternary\":{\"aaxis\":{\"gridcolor\":\"white\",\"linecolor\":\"white\",\"ticks\":\"\"},\"baxis\":{\"gridcolor\":\"white\",\"linecolor\":\"white\",\"ticks\":\"\"},\"bgcolor\":\"#E5ECF6\",\"caxis\":{\"gridcolor\":\"white\",\"linecolor\":\"white\",\"ticks\":\"\"}},\"title\":{\"x\":0.05},\"xaxis\":{\"automargin\":true,\"gridcolor\":\"white\",\"linecolor\":\"white\",\"ticks\":\"\",\"title\":{\"standoff\":15},\"zerolinecolor\":\"white\",\"zerolinewidth\":2},\"yaxis\":{\"automargin\":true,\"gridcolor\":\"white\",\"linecolor\":\"white\",\"ticks\":\"\",\"title\":{\"standoff\":15},\"zerolinecolor\":\"white\",\"zerolinewidth\":2}}},\"title\":{\"text\":\"Slice Plot\"},\"width\":2100,\"xaxis\":{\"anchor\":\"y\",\"domain\":[0.0,0.1183673469387755],\"title\":{\"text\":\"cliprange\"}},\"xaxis2\":{\"anchor\":\"y2\",\"domain\":[0.14693877551020407,0.26530612244897955],\"title\":{\"text\":\"ent_coef\"},\"type\":\"log\"},\"xaxis3\":{\"anchor\":\"y3\",\"domain\":[0.29387755102040813,0.4122448979591836],\"title\":{\"text\":\"gamma\"},\"type\":\"log\"},\"xaxis4\":{\"anchor\":\"y4\",\"domain\":[0.4408163265306122,0.5591836734693877],\"title\":{\"text\":\"lam\"}},\"xaxis5\":{\"anchor\":\"y5\",\"domain\":[0.5877551020408163,0.7061224489795918],\"title\":{\"text\":\"learning_rate\"},\"type\":\"log\"},\"xaxis6\":{\"anchor\":\"y6\",\"domain\":[0.7346938775510204,0.8530612244897959],\"title\":{\"text\":\"n_steps\"},\"type\":\"log\"},\"xaxis7\":{\"anchor\":\"y7\",\"domain\":[0.8816326530612244,0.9999999999999999],\"title\":{\"text\":\"noptepochs\"},\"type\":\"log\"},\"yaxis\":{\"anchor\":\"x\",\"domain\":[0.0,1.0],\"title\":{\"text\":\"Objective Value\"}},\"yaxis2\":{\"anchor\":\"x2\",\"domain\":[0.0,1.0],\"matches\":\"y\",\"showticklabels\":false},\"yaxis3\":{\"anchor\":\"x3\",\"domain\":[0.0,1.0],\"matches\":\"y\",\"showticklabels\":false},\"yaxis4\":{\"anchor\":\"x4\",\"domain\":[0.0,1.0],\"matches\":\"y\",\"showticklabels\":false},\"yaxis5\":{\"anchor\":\"x5\",\"domain\":[0.0,1.0],\"matches\":\"y\",\"showticklabels\":false},\"yaxis6\":{\"anchor\":\"x6\",\"domain\":[0.0,1.0],\"matches\":\"y\",\"showticklabels\":false},\"yaxis7\":{\"anchor\":\"x7\",\"domain\":[0.0,1.0],\"matches\":\"y\",\"showticklabels\":false}},                        {\"responsive\": true}                    ).then(function(){\n",
       "                            \n",
       "var gd = document.getElementById('4df72c52-d09c-4493-b6b5-edffcfd451dc');\n",
       "var x = new MutationObserver(function (mutations, observer) {{\n",
       "        var display = window.getComputedStyle(gd).display;\n",
       "        if (!display || display === 'none') {{\n",
       "            console.log([gd, 'removed!']);\n",
       "            Plotly.purge(gd);\n",
       "            observer.disconnect();\n",
       "        }}\n",
       "}});\n",
       "\n",
       "// Listen for the removal of the full notebook cells\n",
       "var notebookContainer = gd.closest('#notebook-container');\n",
       "if (notebookContainer) {{\n",
       "    x.observe(notebookContainer, {childList: true});\n",
       "}}\n",
       "\n",
       "// Listen for the clearing of the current output cell\n",
       "var outputEl = gd.closest('.output');\n",
       "if (outputEl) {{\n",
       "    x.observe(outputEl, {childList: true});\n",
       "}}\n",
       "\n",
       "                        })                };                });            </script>        </div>"
      ]
     },
     "metadata": {},
     "output_type": "display_data"
    }
   ],
   "source": [
    "optuna.visualization.plot_slice(study_PPO2_MLP_test)"
   ]
  },
  {
   "cell_type": "code",
   "execution_count": 16,
   "id": "e77b0724",
   "metadata": {},
   "outputs": [],
   "source": [
    "study_PPO2_MLP_test = optuna.load_study(study_name='PPO2_MLP_optimize_profit_test', storage='sqlite:///params.db')\n",
    "params = study_PPO2_MLP_test.best_trial.params\n",
    "\n",
    "train_env = DummyVecEnv([lambda: StockTradingEnv(train_df)])\n",
    "\n",
    "model_params = {\n",
    "    'n_steps': int(params['n_steps']),\n",
    "    'gamma': params['gamma'],\n",
    "    'learning_rate': params['learning_rate'],\n",
    "    'ent_coef': params['ent_coef'],\n",
    "    'cliprange': params['cliprange'],\n",
    "    'noptepochs': int(params['noptepochs']),\n",
    "    'lam': params['lam']\n",
    "}\n",
    "\n",
    "model = PPO2(MlpPolicy, train_env, nminibatches=1, **model_params)"
   ]
  },
  {
   "cell_type": "code",
   "execution_count": 17,
   "id": "cabebe1c",
   "metadata": {},
   "outputs": [
    {
     "data": {
      "text/plain": [
       "<stable_baselines.ppo2.ppo2.PPO2 at 0x21409033788>"
      ]
     },
     "execution_count": 17,
     "metadata": {},
     "output_type": "execute_result"
    }
   ],
   "source": [
    "model.learn(total_timesteps=100000)"
   ]
  },
  {
   "cell_type": "code",
   "execution_count": 18,
   "id": "fec3cdb6",
   "metadata": {},
   "outputs": [],
   "source": [
    "test_env = DummyVecEnv([lambda: StockTradingEnv(test_df)])"
   ]
  },
  {
   "cell_type": "code",
   "execution_count": 19,
   "id": "d7713f7e",
   "metadata": {
    "scrolled": false
   },
   "outputs": [
    {
     "name": "stdout",
     "output_type": "stream",
     "text": [
      "Step:   44, Date: 2019-02-26 , Reward:   0, Stock [Held:   0, Bought:   0, Sold :  0], NetWorth: 10000.00, Profit:  0.00\n",
      "Step:   45, Date: 2019-02-27 , Reward:   0, Stock [Held:   0, Bought:   0, Sold :  0], NetWorth: 10000.00, Profit:  0.00\n",
      "Step:   46, Date: 2019-02-28 , Reward:   0, Stock [Held:   0, Bought:   0, Sold :  0], NetWorth: 10000.00, Profit:  0.00\n",
      "Step:   47, Date: 2019-03-01 , Reward:   0, Stock [Held:   0, Bought:   0, Sold :  0], NetWorth: 10000.00, Profit:  0.00\n",
      "Step:   48, Date: 2019-03-05 , Reward:   0, Stock [Held:   0, Bought:   0, Sold :  0], NetWorth: 10000.00, Profit:  0.00\n",
      "Step:   49, Date: 2019-03-06 , Reward:   0, Stock [Held:   0, Bought:   0, Sold :  0], NetWorth: 10000.00, Profit:  0.00\n",
      "Step:   50, Date: 2019-03-07 , Reward:   0, Stock [Held:   0, Bought:   0, Sold :  0], NetWorth: 10000.00, Profit:  0.00\n",
      "Step:   51, Date: 2019-03-08 , Reward:   0, Stock [Held:   0, Bought:   0, Sold :  0], NetWorth: 10000.00, Profit:  0.00\n",
      "Step:   52, Date: 2019-03-11 , Reward:   0, Stock [Held:   0, Bought:   0, Sold :  0], NetWorth: 10000.00, Profit:  0.00\n",
      "Step:   53, Date: 2019-03-12 , Reward:   0, Stock [Held:   0, Bought:   0, Sold :  0], NetWorth: 10000.00, Profit:  0.00\n",
      "Step:   54, Date: 2019-03-13 , Reward:   0, Stock [Held:   0, Bought:   0, Sold :  0], NetWorth: 10000.00, Profit:  0.00\n",
      "Step:   55, Date: 2019-03-14 , Reward:   0, Stock [Held:   0, Bought:   0, Sold :  0], NetWorth: 10000.00, Profit:  0.00\n",
      "Step:   56, Date: 2019-03-15 , Reward:   0, Stock [Held:   0, Bought:   0, Sold :  0], NetWorth: 10000.00, Profit:  0.00\n",
      "Step:   57, Date: 2019-03-18 , Reward:   0, Stock [Held:   0, Bought:   0, Sold :  0], NetWorth: 10000.00, Profit:  0.00\n",
      "Step:   58, Date: 2019-03-19 , Reward:   0, Stock [Held:   0, Bought:   0, Sold :  0], NetWorth: 10000.00, Profit:  0.00\n",
      "Step:   59, Date: 2019-03-20 , Reward:   0, Stock [Held:   0, Bought:   0, Sold :  0], NetWorth: 10000.00, Profit:  0.00\n",
      "Step:   60, Date: 2019-03-22 , Reward:   0, Stock [Held:   0, Bought:   0, Sold :  0], NetWorth: 10000.00, Profit:  0.00\n",
      "Step:   61, Date: 2019-03-25 , Reward:   0, Stock [Held:   0, Bought:   0, Sold :  0], NetWorth: 10000.00, Profit:  0.00\n",
      "Step:   62, Date: 2019-03-26 , Reward:   0, Stock [Held:   0, Bought:   0, Sold :  0], NetWorth: 10000.00, Profit:  0.00\n",
      "Step:   63, Date: 2019-03-27 , Reward:   0, Stock [Held:   0, Bought:   0, Sold :  0], NetWorth: 10000.00, Profit:  0.00\n",
      "Step:   64, Date: 2019-03-28 , Reward:   0, Stock [Held:  17, Bought:  17, Sold :  0], NetWorth: 10000.00, Profit:  0.00\n",
      "Step:   65, Date: 2019-04-01 , Reward: 479, Stock [Held:  17, Bought:   0, Sold :  0], NetWorth: 10479.16, Profit: 479.16\n",
      "Step:   66, Date: 2019-04-02 , Reward: 550, Stock [Held:  10, Bought:   0, Sold :  7], NetWorth: 10550.55, Profit: 550.55\n",
      "Step:   67, Date: 2019-04-03 , Reward: 584, Stock [Held:   5, Bought:   0, Sold :  5], NetWorth: 10584.12, Profit: 584.12\n",
      "Step:   68, Date: 2019-04-04 , Reward: 580, Stock [Held:   5, Bought:   0, Sold :  0], NetWorth: 10580.11, Profit: 580.11\n",
      "Step:   69, Date: 2019-04-05 , Reward: 630, Stock [Held:   5, Bought:   0, Sold :  0], NetWorth: 10630.60, Profit: 630.60\n",
      "Step:   70, Date: 2019-04-08 , Reward: 613, Stock [Held:   5, Bought:   0, Sold :  0], NetWorth: 10613.75, Profit: 613.75\n",
      "Step:   71, Date: 2019-04-09 , Reward: 587, Stock [Held:   5, Bought:   0, Sold :  0], NetWorth: 10587.07, Profit: 587.07\n",
      "Step:   72, Date: 2019-04-10 , Reward: 576, Stock [Held:   5, Bought:   0, Sold :  0], NetWorth: 10576.48, Profit: 576.48\n",
      "Step:   73, Date: 2019-04-11 , Reward: 560, Stock [Held:   5, Bought:   0, Sold :  0], NetWorth: 10560.62, Profit: 560.62\n",
      "Step:   74, Date: 2019-04-12 , Reward: 619, Stock [Held:   5, Bought:   0, Sold :  0], NetWorth: 10619.22, Profit: 619.22\n",
      "Step:   75, Date: 2019-04-15 , Reward: 668, Stock [Held:   5, Bought:   0, Sold :  0], NetWorth: 10668.03, Profit: 668.03\n",
      "Step:   76, Date: 2019-04-16 , Reward: 677, Stock [Held:  17, Bought:  12, Sold :  0], NetWorth: 10677.95, Profit: 677.95\n",
      "Step:   77, Date: 2019-04-18 , Reward: 613, Stock [Held:  17, Bought:   0, Sold :  0], NetWorth: 10613.97, Profit: 613.97\n",
      "Step:   78, Date: 2019-04-22 , Reward: 566, Stock [Held:  17, Bought:   0, Sold :  0], NetWorth: 10566.43, Profit: 566.43\n",
      "Step:   79, Date: 2019-04-23 , Reward: 501, Stock [Held:   0, Bought:   0, Sold : 17], NetWorth: 10501.96, Profit: 501.96\n",
      "Step:   80, Date: 2019-04-24 , Reward: 501, Stock [Held:  17, Bought:  17, Sold :  0], NetWorth: 10501.96, Profit: 501.96\n",
      "Step:   81, Date: 2019-04-25 , Reward: 572, Stock [Held:  17, Bought:   0, Sold :  0], NetWorth: 10572.42, Profit: 572.42\n",
      "Step:   82, Date: 2019-04-26 , Reward: 469, Stock [Held:  17, Bought:   0, Sold :  0], NetWorth: 10469.98, Profit: 469.98\n",
      "Step:   83, Date: 2019-04-30 , Reward: 146, Stock [Held:   0, Bought:   0, Sold : 17], NetWorth: 10146.63, Profit: 146.63\n",
      "Step:   84, Date: 2019-05-02 , Reward: 146, Stock [Held:   0, Bought:   0, Sold :  0], NetWorth: 10146.63, Profit: 146.63\n",
      "Step:   85, Date: 2019-05-03 , Reward: 146, Stock [Held:   0, Bought:   0, Sold :  0], NetWorth: 10146.63, Profit: 146.63\n",
      "Step:   86, Date: 2019-05-06 , Reward: 146, Stock [Held:   0, Bought:   0, Sold :  0], NetWorth: 10146.63, Profit: 146.63\n",
      "Step:   87, Date: 2019-05-07 , Reward: 146, Stock [Held:   0, Bought:   0, Sold :  0], NetWorth: 10146.63, Profit: 146.63\n",
      "Step:   88, Date: 2019-05-08 , Reward: 146, Stock [Held:   0, Bought:   0, Sold :  0], NetWorth: 10146.63, Profit: 146.63\n",
      "Step:   89, Date: 2019-05-09 , Reward: 146, Stock [Held:   0, Bought:   0, Sold :  0], NetWorth: 10146.63, Profit: 146.63\n",
      "Step:   90, Date: 2019-05-10 , Reward: 146, Stock [Held:   0, Bought:   0, Sold :  0], NetWorth: 10146.63, Profit: 146.63\n",
      "Step:   91, Date: 2019-05-13 , Reward: 146, Stock [Held:   0, Bought:   0, Sold :  0], NetWorth: 10146.63, Profit: 146.63\n",
      "Step:   92, Date: 2019-05-14 , Reward: 146, Stock [Held:   0, Bought:   0, Sold :  0], NetWorth: 10146.63, Profit: 146.63\n",
      "Step:   93, Date: 2019-05-15 , Reward: 146, Stock [Held:   0, Bought:   0, Sold :  0], NetWorth: 10146.63, Profit: 146.63\n",
      "Step:   94, Date: 2019-05-16 , Reward: 146, Stock [Held:  17, Bought:  17, Sold :  0], NetWorth: 10146.63, Profit: 146.63\n",
      "Step:   95, Date: 2019-05-17 , Reward: 150, Stock [Held:  17, Bought:   0, Sold :  0], NetWorth: 10150.45, Profit: 150.45\n",
      "Step:   96, Date: 2019-05-20 , Reward: 347, Stock [Held:  17, Bought:   0, Sold :  0], NetWorth: 10347.01, Profit: 347.01\n",
      "Step:   97, Date: 2019-05-21 , Reward: 498, Stock [Held:  17, Bought:   0, Sold :  0], NetWorth: 10498.62, Profit: 498.62\n",
      "Step:   98, Date: 2019-05-22 , Reward: 540, Stock [Held:  17, Bought:   0, Sold :  0], NetWorth: 10540.99, Profit: 540.99\n",
      "Step:   99, Date: 2019-05-23 , Reward: 472, Stock [Held:  17, Bought:   0, Sold :  0], NetWorth: 10472.02, Profit: 472.02\n",
      "Step:  100, Date: 2019-05-24 , Reward: 373, Stock [Held:  17, Bought:   0, Sold :  0], NetWorth: 10373.73, Profit: 373.73\n",
      "Step:  101, Date: 2019-05-27 , Reward: 686, Stock [Held:  17, Bought:   0, Sold :  0], NetWorth: 10686.39, Profit: 686.39\n",
      "Step:  102, Date: 2019-05-28 , Reward: 798, Stock [Held:  17, Bought:   0, Sold :  0], NetWorth: 10798.09, Profit: 798.09\n",
      "Step:  103, Date: 2019-05-29 , Reward: 946, Stock [Held:  17, Bought:   0, Sold :  0], NetWorth: 10946.95, Profit: 946.95\n",
      "Step:  104, Date: 2019-05-30 , Reward: 914, Stock [Held:  17, Bought:   0, Sold :  0], NetWorth: 10914.77, Profit: 914.77\n",
      "Step:  105, Date: 2019-05-31 , Reward: 955, Stock [Held:  17, Bought:   0, Sold :  0], NetWorth: 10955.06, Profit: 955.06\n",
      "Step:  106, Date: 2019-06-03 , Reward: 945, Stock [Held:  17, Bought:   0, Sold :  0], NetWorth: 10945.72, Profit: 945.72\n",
      "Step:  107, Date: 2019-06-04 , Reward: 991, Stock [Held:  17, Bought:   0, Sold :  0], NetWorth: 10991.01, Profit: 991.01\n",
      "Step:  108, Date: 2019-06-06 , Reward: 752, Stock [Held:  17, Bought:   0, Sold :  0], NetWorth: 10752.33, Profit: 752.33\n",
      "Step:  109, Date: 2019-06-07 , Reward: 606, Stock [Held:  17, Bought:   0, Sold :  0], NetWorth: 10606.35, Profit: 606.35\n",
      "Step:  110, Date: 2019-06-10 , Reward: 551, Stock [Held:  17, Bought:   0, Sold :  0], NetWorth: 10551.66, Profit: 551.66\n",
      "Step:  111, Date: 2019-06-11 , Reward: 619, Stock [Held:   3, Bought:   0, Sold : 14], NetWorth: 10619.12, Profit: 619.12\n",
      "Step:  112, Date: 2019-06-12 , Reward: 601, Stock [Held:   3, Bought:   0, Sold :  0], NetWorth: 10601.17, Profit: 601.17\n",
      "Step:  113, Date: 2019-06-13 , Reward: 582, Stock [Held:   3, Bought:   0, Sold :  0], NetWorth: 10582.99, Profit: 582.99\n",
      "Step:  114, Date: 2019-06-14 , Reward: 580, Stock [Held:   3, Bought:   0, Sold :  0], NetWorth: 10580.37, Profit: 580.37\n",
      "Step:  115, Date: 2019-06-17 , Reward: 564, Stock [Held:   3, Bought:   0, Sold :  0], NetWorth: 10564.20, Profit: 564.20\n",
      "Step:  116, Date: 2019-06-18 , Reward: 507, Stock [Held:  13, Bought:  10, Sold :  0], NetWorth: 10507.66, Profit: 507.66\n",
      "Step:  117, Date: 2019-06-19 , Reward: 461, Stock [Held:  13, Bought:   0, Sold :  0], NetWorth: 10461.19, Profit: 461.19\n",
      "Step:  118, Date: 2019-06-20 , Reward: 448, Stock [Held:  13, Bought:   0, Sold :  0], NetWorth: 10448.09, Profit: 448.09\n",
      "Step:  119, Date: 2019-06-21 , Reward: 242, Stock [Held:  13, Bought:   0, Sold :  0], NetWorth: 10242.87, Profit: 242.87\n",
      "Step:  120, Date: 2019-06-24 , Reward: 282, Stock [Held:  13, Bought:   0, Sold :  0], NetWorth: 10282.56, Profit: 282.56\n",
      "Step:  121, Date: 2019-06-25 , Reward: 389, Stock [Held:   8, Bought:   0, Sold :  5], NetWorth: 10389.32, Profit: 389.32\n",
      "Step:  122, Date: 2019-06-26 , Reward: 433, Stock [Held:   8, Bought:   0, Sold :  0], NetWorth: 10433.70, Profit: 433.70\n",
      "Step:  123, Date: 2019-06-27 , Reward: 458, Stock [Held:   8, Bought:   0, Sold :  0], NetWorth: 10458.43, Profit: 458.43\n",
      "Step:  124, Date: 2019-06-28 , Reward: 452, Stock [Held:   8, Bought:   0, Sold :  0], NetWorth: 10452.42, Profit: 452.42\n",
      "Step:  125, Date: 2019-07-01 , Reward: 419, Stock [Held:  11, Bought:   3, Sold :  0], NetWorth: 10419.66, Profit: 419.66\n",
      "Step:  126, Date: 2019-07-02 , Reward: 454, Stock [Held:  16, Bought:   5, Sold :  0], NetWorth: 10454.28, Profit: 454.28\n",
      "Step:  127, Date: 2019-07-03 , Reward: 572, Stock [Held:  16, Bought:   0, Sold :  0], NetWorth: 10572.13, Profit: 572.13\n",
      "Step:  128, Date: 2019-07-04 , Reward: 384, Stock [Held:  16, Bought:   0, Sold :  0], NetWorth: 10384.92, Profit: 384.92\n",
      "Step:  129, Date: 2019-07-05 , Reward: 373, Stock [Held:  16, Bought:   0, Sold :  0], NetWorth: 10373.43, Profit: 373.43\n",
      "Step:  130, Date: 2019-07-08 , Reward: 105, Stock [Held:  18, Bought:   2, Sold :  0], NetWorth: 10106.00, Profit: 106.00\n",
      "Step:  131, Date: 2019-07-09 , Reward: 198, Stock [Held:   3, Bought:   0, Sold : 15], NetWorth: 10198.55, Profit: 198.55\n",
      "Step:  132, Date: 2019-07-10 , Reward: 190, Stock [Held:   3, Bought:   0, Sold :  0], NetWorth: 10190.27, Profit: 190.27\n",
      "Step:  133, Date: 2019-07-11 , Reward: 177, Stock [Held:   3, Bought:   0, Sold :  0], NetWorth: 10177.35, Profit: 177.35\n"
     ]
    },
    {
     "name": "stdout",
     "output_type": "stream",
     "text": [
      "Step:  134, Date: 2019-07-12 , Reward: 197, Stock [Held:  18, Bought:  15, Sold :  0], NetWorth: 10197.32, Profit: 197.32\n",
      "Step:  135, Date: 2019-07-15 , Reward: 193, Stock [Held:  18, Bought:   0, Sold :  0], NetWorth: 10193.64, Profit: 193.64\n",
      "Step:  136, Date: 2019-07-16 , Reward: 201, Stock [Held:  18, Bought:   0, Sold :  0], NetWorth: 10201.51, Profit: 201.51\n",
      "Step:  137, Date: 2019-07-17 , Reward: 257, Stock [Held:  18, Bought:   0, Sold :  0], NetWorth: 10257.17, Profit: 257.17\n",
      "Step:  138, Date: 2019-07-18 , Reward:-311, Stock [Held:  18, Bought:   0, Sold :  0], NetWorth: 9688.93, Profit: -311.07\n",
      "Step:  139, Date: 2019-07-19 , Reward:-353, Stock [Held:  18, Bought:   0, Sold :  0], NetWorth: 9646.43, Profit: -353.57\n",
      "Step:  140, Date: 2019-07-22 , Reward:-575, Stock [Held:  18, Bought:   0, Sold :  0], NetWorth: 9424.40, Profit: -575.60\n",
      "Step:  141, Date: 2019-07-23 , Reward:-759, Stock [Held:  11, Bought:   0, Sold :  7], NetWorth: 9240.68, Profit: -759.32\n",
      "Step:  142, Date: 2019-07-24 , Reward:-1195, Stock [Held:  11, Bought:   0, Sold :  0], NetWorth: 8804.97, Profit: -1195.03\n",
      "Step:  143, Date: 2019-07-25 , Reward:-1240, Stock [Held:  15, Bought:   4, Sold :  0], NetWorth: 8759.22, Profit: -1240.78\n",
      "Step:  144, Date: 2019-07-26 , Reward:-1071, Stock [Held:  15, Bought:   0, Sold :  0], NetWorth: 8928.33, Profit: -1071.67\n",
      "Step:  145, Date: 2019-07-29 , Reward:-1090, Stock [Held:  15, Bought:   0, Sold :  0], NetWorth: 8909.66, Profit: -1090.34\n",
      "Step:  146, Date: 2019-07-30 , Reward:-1172, Stock [Held:  15, Bought:   0, Sold :  0], NetWorth: 8827.45, Profit: -1172.55\n",
      "Step:  147, Date: 2019-07-31 , Reward:-1180, Stock [Held:  15, Bought:   0, Sold :  0], NetWorth: 8819.68, Profit: -1180.32\n",
      "Step:  148, Date: 2019-08-01 , Reward:-1269, Stock [Held:  15, Bought:   0, Sold :  0], NetWorth: 8730.24, Profit: -1269.76\n",
      "Step:  149, Date: 2019-08-02 , Reward:-1275, Stock [Held:  15, Bought:   0, Sold :  0], NetWorth: 8724.40, Profit: -1275.60\n",
      "Step:  150, Date: 2019-08-05 , Reward:-1398, Stock [Held:  15, Bought:   0, Sold :  0], NetWorth: 8601.23, Profit: -1398.77\n",
      "Step:  151, Date: 2019-08-06 , Reward:-1243, Stock [Held:  15, Bought:   0, Sold :  0], NetWorth: 8756.31, Profit: -1243.69\n",
      "Step:  152, Date: 2019-08-07 , Reward:-1179, Stock [Held:  15, Bought:   0, Sold :  0], NetWorth: 8820.24, Profit: -1179.76\n",
      "Step:  153, Date: 2019-08-08 , Reward:-1053, Stock [Held:  15, Bought:   0, Sold :  0], NetWorth: 8946.06, Profit: -1053.94\n",
      "Step:  154, Date: 2019-08-09 , Reward:-1103, Stock [Held:  16, Bought:   1, Sold :  0], NetWorth: 8896.24, Profit: -1103.76\n",
      "Step:  155, Date: 2019-08-13 , Reward:-1179, Stock [Held:  16, Bought:   0, Sold :  0], NetWorth: 8820.37, Profit: -1179.63\n",
      "Step:  156, Date: 2019-08-14 , Reward:-1172, Stock [Held:  16, Bought:   0, Sold :  0], NetWorth: 8827.53, Profit: -1172.47\n",
      "Step:  157, Date: 2019-08-16 , Reward:-1023, Stock [Held:  16, Bought:   0, Sold :  0], NetWorth: 8976.16, Profit: -1023.84\n",
      "Step:  158, Date: 2019-08-19 , Reward:-802, Stock [Held:  16, Bought:   0, Sold :  0], NetWorth: 9197.40, Profit: -802.60\n",
      "Step:  159, Date: 2019-08-20 , Reward:-773, Stock [Held:  16, Bought:   0, Sold :  0], NetWorth: 9226.75, Profit: -773.25\n",
      "Step:  160, Date: 2019-08-21 , Reward:-1057, Stock [Held:  17, Bought:   1, Sold :  0], NetWorth: 8942.61, Profit: -1057.39\n",
      "Step:  161, Date: 2019-08-22 , Reward:-1139, Stock [Held:  17, Bought:   0, Sold :  0], NetWorth: 8860.49, Profit: -1139.51\n",
      "Step:  162, Date: 2019-08-23 , Reward:-1270, Stock [Held:  17, Bought:   0, Sold :  0], NetWorth: 8729.34, Profit: -1270.66\n",
      "Step:  163, Date: 2019-08-26 , Reward:-999, Stock [Held:  17, Bought:   0, Sold :  0], NetWorth: 9000.27, Profit: -999.73\n",
      "Step:  164, Date: 2019-08-27 , Reward:-1000, Stock [Held:  17, Bought:   0, Sold :  0], NetWorth: 8999.20, Profit: -1000.80\n",
      "Step:  165, Date: 2019-08-28 , Reward:-1144, Stock [Held:  17, Bought:   0, Sold :  0], NetWorth: 8855.78, Profit: -1144.22\n",
      "Step:  166, Date: 2019-08-29 , Reward:-1238, Stock [Held:  17, Bought:   0, Sold :  0], NetWorth: 8761.89, Profit: -1238.11\n",
      "Step:  167, Date: 2019-08-30 , Reward:-1233, Stock [Held:  17, Bought:   0, Sold :  0], NetWorth: 8766.80, Profit: -1233.20\n",
      "Step:  168, Date: 2019-09-03 , Reward:-1325, Stock [Held:  17, Bought:   0, Sold :  0], NetWorth: 8674.23, Profit: -1325.77\n",
      "Step:  169, Date: 2019-09-04 , Reward:-1417, Stock [Held:  17, Bought:   0, Sold :  0], NetWorth: 8582.33, Profit: -1417.67\n",
      "Step:  170, Date: 2019-09-05 , Reward:-1298, Stock [Held:  17, Bought:   0, Sold :  0], NetWorth: 8701.61, Profit: -1298.39\n",
      "Step:  171, Date: 2019-09-06 , Reward:-946, Stock [Held:  17, Bought:   0, Sold :  0], NetWorth: 9053.22, Profit: -946.78\n",
      "Step:  172, Date: 2019-09-09 , Reward:-894, Stock [Held:  17, Bought:   0, Sold :  0], NetWorth: 9105.91, Profit: -894.09\n",
      "Step:  173, Date: 2019-09-11 , Reward:-860, Stock [Held:  17, Bought:   0, Sold :  0], NetWorth: 9139.33, Profit: -860.67\n",
      "Step:  174, Date: 2019-09-12 , Reward:-756, Stock [Held:  17, Bought:   0, Sold :  0], NetWorth: 9243.94, Profit: -756.06\n",
      "Step:  175, Date: 2019-09-13 , Reward:-619, Stock [Held:  17, Bought:   0, Sold :  0], NetWorth: 9380.70, Profit: -619.30\n",
      "Step:  176, Date: 2019-09-16 , Reward:-385, Stock [Held:  17, Bought:   0, Sold :  0], NetWorth: 9614.87, Profit: -385.13\n",
      "Step:  177, Date: 2019-09-17 , Reward:-222, Stock [Held:  17, Bought:   0, Sold :  0], NetWorth: 9777.77, Profit: -222.23\n",
      "Step:  178, Date: 2019-09-18 , Reward:-155, Stock [Held:  17, Bought:   0, Sold :  0], NetWorth: 9844.15, Profit: -155.85\n",
      "Step:  179, Date: 2019-09-19 , Reward:-123, Stock [Held:  18, Bought:   1, Sold :  0], NetWorth: 9876.34, Profit: -123.66\n",
      "Step:  180, Date: 2019-09-20 , Reward: 444, Stock [Held:   6, Bought:   0, Sold : 12], NetWorth: 10444.78, Profit: 444.78\n",
      "Step:  181, Date: 2019-09-23 , Reward: 558, Stock [Held:   6, Bought:   0, Sold :  0], NetWorth: 10558.53, Profit: 558.53\n",
      "Step:  182, Date: 2019-09-24 , Reward: 570, Stock [Held:   6, Bought:   0, Sold :  0], NetWorth: 10570.95, Profit: 570.95\n",
      "Step:  183, Date: 2019-09-25 , Reward: 494, Stock [Held:   6, Bought:   0, Sold :  0], NetWorth: 10494.52, Profit: 494.52\n",
      "Step:  184, Date: 2019-09-26 , Reward: 459, Stock [Held:   6, Bought:   0, Sold :  0], NetWorth: 10459.36, Profit: 459.36\n",
      "Step:  185, Date: 2019-09-27 , Reward: 402, Stock [Held:   6, Bought:   0, Sold :  0], NetWorth: 10402.94, Profit: 402.94\n",
      "Step:  186, Date: 2019-09-30 , Reward: 385, Stock [Held:   6, Bought:   0, Sold :  0], NetWorth: 10385.57, Profit: 385.57\n",
      "Step:  187, Date: 2019-10-01 , Reward: 380, Stock [Held:   6, Bought:   0, Sold :  0], NetWorth: 10380.92, Profit: 380.92\n",
      "Step:  188, Date: 2019-10-03 , Reward: 409, Stock [Held:   6, Bought:   0, Sold :  0], NetWorth: 10409.15, Profit: 409.15\n",
      "Step:  189, Date: 2019-10-04 , Reward: 411, Stock [Held:   6, Bought:   0, Sold :  0], NetWorth: 10411.42, Profit: 411.42\n",
      "Step:  190, Date: 2019-10-07 , Reward: 401, Stock [Held:  18, Bought:  12, Sold :  0], NetWorth: 10401.54, Profit: 401.54\n",
      "Step:  191, Date: 2019-10-09 , Reward: 407, Stock [Held:  18, Bought:   0, Sold :  0], NetWorth: 10407.10, Profit: 407.10\n",
      "Step:  192, Date: 2019-10-10 , Reward: 429, Stock [Held:  18, Bought:   0, Sold :  0], NetWorth: 10429.34, Profit: 429.34\n",
      "Step:  193, Date: 2019-10-11 , Reward: 453, Stock [Held:   9, Bought:   0, Sold :  9], NetWorth: 10453.14, Profit: 453.14\n",
      "Step:  194, Date: 2019-10-14 , Reward: 458, Stock [Held:   9, Bought:   0, Sold :  0], NetWorth: 10458.60, Profit: 458.60\n",
      "Step:  195, Date: 2019-10-15 , Reward: 428, Stock [Held:  14, Bought:   5, Sold :  0], NetWorth: 10428.31, Profit: 428.31\n",
      "Step:  196, Date: 2019-10-16 , Reward: 428, Stock [Held:  14, Bought:   0, Sold :  0], NetWorth: 10428.06, Profit: 428.06\n",
      "Step:  197, Date: 2019-10-17 , Reward: 360, Stock [Held:  14, Bought:   0, Sold :  0], NetWorth: 10360.54, Profit: 360.54\n",
      "Step:  198, Date: 2019-10-18 , Reward: 331, Stock [Held:  14, Bought:   0, Sold :  0], NetWorth: 10331.66, Profit: 331.66\n",
      "Step:  199, Date: 2019-10-22 , Reward: 371, Stock [Held:  14, Bought:   0, Sold :  0], NetWorth: 10371.08, Profit: 371.08\n",
      "Step:  200, Date: 2019-10-23 , Reward: 399, Stock [Held:  14, Bought:   0, Sold :  0], NetWorth: 10399.50, Profit: 399.50\n",
      "Step:  201, Date: 2019-10-24 , Reward: 435, Stock [Held:  15, Bought:   1, Sold :  0], NetWorth: 10435.58, Profit: 435.58\n",
      "Step:  202, Date: 2019-10-25 , Reward: 253, Stock [Held:  15, Bought:   0, Sold :  0], NetWorth: 10253.16, Profit: 253.16\n",
      "Step:  203, Date: 2019-10-29 , Reward: 348, Stock [Held:  15, Bought:   0, Sold :  0], NetWorth: 10348.61, Profit: 348.61\n",
      "Step:  204, Date: 2019-10-30 , Reward: 267, Stock [Held:  15, Bought:   0, Sold :  0], NetWorth: 10267.41, Profit: 267.41\n",
      "Step:  205, Date: 2019-10-31 , Reward: 309, Stock [Held:  15, Bought:   0, Sold :  0], NetWorth: 10309.62, Profit: 309.62\n",
      "Step:  206, Date: 2019-11-01 , Reward: 503, Stock [Held:  15, Bought:   0, Sold :  0], NetWorth: 10503.58, Profit: 503.58\n",
      "Step:  207, Date: 2019-11-04 , Reward: 366, Stock [Held:  16, Bought:   1, Sold :  0], NetWorth: 10366.29, Profit: 366.29\n",
      "Step:  208, Date: 2019-11-05 , Reward: 140, Stock [Held:  16, Bought:   0, Sold :  0], NetWorth: 10140.50, Profit: 140.50\n",
      "Step:  209, Date: 2019-11-06 , Reward:  77, Stock [Held:  16, Bought:   0, Sold :  0], NetWorth: 10077.19, Profit: 77.19\n",
      "Step:  210, Date: 2019-11-07 , Reward: -23, Stock [Held:  16, Bought:   0, Sold :  0], NetWorth: 9976.30, Profit: -23.70\n",
      "Step:  211, Date: 2019-11-08 , Reward: -11, Stock [Held:  16, Bought:   0, Sold :  0], NetWorth: 9988.52, Profit: -11.48\n",
      "Step:  212, Date: 2019-11-11 , Reward: -26, Stock [Held:  16, Bought:   0, Sold :  0], NetWorth: 9973.64, Profit: -26.36\n",
      "Step:  213, Date: 2019-11-13 , Reward:-174, Stock [Held:  16, Bought:   0, Sold :  0], NetWorth: 9825.96, Profit: -174.04\n",
      "Step:  214, Date: 2019-11-14 , Reward:-188, Stock [Held:  16, Bought:   0, Sold :  0], NetWorth: 9811.35, Profit: -188.65\n",
      "Step:  215, Date: 2019-11-15 , Reward:-227, Stock [Held:  16, Bought:   0, Sold :  0], NetWorth: 9772.62, Profit: -227.38\n",
      "Step:  216, Date: 2019-11-18 , Reward:-144, Stock [Held:  16, Bought:   0, Sold :  0], NetWorth: 9855.95, Profit: -144.05\n",
      "Step:  217, Date: 2019-11-19 , Reward:-304, Stock [Held:  16, Bought:   0, Sold :  0], NetWorth: 9695.40, Profit: -304.60\n",
      "Step:  218, Date: 2019-11-20 , Reward:-179, Stock [Held:  16, Bought:   0, Sold :  0], NetWorth: 9820.15, Profit: -179.85\n",
      "Step:  219, Date: 2019-11-21 , Reward:-203, Stock [Held:  16, Bought:   0, Sold :  0], NetWorth: 9796.28, Profit: -203.72\n",
      "Step:  220, Date: 2019-11-22 , Reward:-231, Stock [Held:  18, Bought:   2, Sold :  0], NetWorth: 9768.31, Profit: -231.69\n",
      "Step:  221, Date: 2019-11-25 , Reward:-132, Stock [Held:  18, Bought:   0, Sold :  0], NetWorth: 9867.15, Profit: -132.85\n",
      "Step:  222, Date: 2019-11-26 , Reward:-188, Stock [Held:  18, Bought:   0, Sold :  0], NetWorth: 9811.15, Profit: -188.85\n",
      "Step:  223, Date: 2019-11-27 , Reward:-267, Stock [Held:   0, Bought:   0, Sold : 18], NetWorth: 9732.90, Profit: -267.10\n",
      "Step:  224, Date: 2019-11-28 , Reward:-267, Stock [Held:   0, Bought:   0, Sold :  0], NetWorth: 9732.90, Profit: -267.10\n",
      "Step:  225, Date: 2019-11-29 , Reward:-267, Stock [Held:  18, Bought:  18, Sold :  0], NetWorth: 9732.90, Profit: -267.10\n",
      "Step:  226, Date: 2019-12-02 , Reward:-363, Stock [Held:  18, Bought:   0, Sold :  0], NetWorth: 9636.69, Profit: -363.31\n",
      "Step:  227, Date: 2019-12-03 , Reward:-573, Stock [Held:  18, Bought:   0, Sold :  0], NetWorth: 9426.76, Profit: -573.24\n",
      "Step:  228, Date: 2019-12-04 , Reward:-616, Stock [Held:  18, Bought:   0, Sold :  0], NetWorth: 9383.05, Profit: -616.95\n",
      "Step:  229, Date: 2019-12-05 , Reward:-598, Stock [Held:  18, Bought:   0, Sold :  0], NetWorth: 9401.09, Profit: -598.91\n",
      "Step:  230, Date: 2019-12-06 , Reward:-561, Stock [Held:  18, Bought:   0, Sold :  0], NetWorth: 9438.13, Profit: -561.87\n"
     ]
    },
    {
     "name": "stdout",
     "output_type": "stream",
     "text": [
      "Step:  231, Date: 2019-12-09 , Reward:-569, Stock [Held:  18, Bought:   0, Sold :  0], NetWorth: 9430.64, Profit: -569.36\n",
      "Step:  232, Date: 2019-12-10 , Reward:-529, Stock [Held:  18, Bought:   0, Sold :  0], NetWorth: 9470.04, Profit: -529.96\n",
      "Step:  233, Date: 2019-12-11 , Reward:-483, Stock [Held:  18, Bought:   0, Sold :  0], NetWorth: 9516.65, Profit: -483.35\n",
      "Step:  234, Date: 2019-12-12 , Reward:-359, Stock [Held:  18, Bought:   0, Sold :  0], NetWorth: 9640.06, Profit: -359.94\n",
      "Step:  235, Date: 2019-12-13 , Reward:-174, Stock [Held:  18, Bought:   0, Sold :  0], NetWorth: 9825.83, Profit: -174.17\n",
      "Step:  236, Date: 2019-12-16 , Reward:-217, Stock [Held:  18, Bought:   0, Sold :  0], NetWorth: 9782.82, Profit: -217.18\n",
      "Step:  237, Date: 2019-12-17 , Reward:-520, Stock [Held:  18, Bought:   0, Sold :  0], NetWorth: 9479.95, Profit: -520.05\n",
      "Step:  238, Date: 2019-12-18 , Reward:-514, Stock [Held:  18, Bought:   0, Sold :  0], NetWorth: 9485.00, Profit: -515.00\n",
      "Step:  239, Date: 2019-12-19 , Reward:-619, Stock [Held:  18, Bought:   0, Sold :  0], NetWorth: 9380.37, Profit: -619.63\n",
      "Step:  240, Date: 2019-12-20 , Reward:-632, Stock [Held:  18, Bought:   0, Sold :  0], NetWorth: 9367.25, Profit: -632.75\n",
      "Step:  241, Date: 2019-12-23 , Reward:-771, Stock [Held:  18, Bought:   0, Sold :  0], NetWorth: 9228.72, Profit: -771.28\n",
      "Step:  242, Date: 2019-12-24 , Reward:-749, Stock [Held:  18, Bought:   0, Sold :  0], NetWorth: 9250.13, Profit: -749.87\n",
      "Step:  243, Date: 2019-12-26 , Reward:-609, Stock [Held:   7, Bought:   0, Sold : 11], NetWorth: 9390.11, Profit: -609.89\n"
     ]
    }
   ],
   "source": [
    "obs = test_env.reset()\n",
    "\n",
    "for i in range(200):\n",
    "    action, _states = model.predict(obs, deterministic=False)\n",
    "    obs, reward, done, info = test_env.step(action)\n",
    "    test_env.render(mode='cli')\n",
    "    if done:\n",
    "        obs = test_env.reset()\n",
    "        break"
   ]
  },
  {
   "cell_type": "code",
   "execution_count": 20,
   "id": "e18a29e5",
   "metadata": {},
   "outputs": [],
   "source": [
    "trades = pd.DataFrame(info[0].get('Trades'))\n",
    "trades['Date'] = pd.to_datetime(trades['Date']) # Convert \"Date\" to datetime object.\n",
    "df.sort_values('Date', ascending=True, inplace=True) # Sort the \"Date\" Column by the values."
   ]
  },
  {
   "cell_type": "code",
   "execution_count": 21,
   "id": "ebc060f3",
   "metadata": {},
   "outputs": [],
   "source": [
    "def display_trades(df):\n",
    "    \n",
    "    # Convert the column names from mixcase to lower case\n",
    "    df.columns = map(str.lower, df.columns)\n",
    "    \n",
    "    # Fix date\n",
    "    if type(df.index) != pd.core.indexes.datetimes.DatetimeIndex:\n",
    "        df['date'] = pd.to_datetime(df['date'])\n",
    "        df.set_index('date',inplace=True) # Set the Date column as the index\n",
    "        df = df.sort_values(['date'])\n",
    "    \n",
    "     # Copy the dataframe\n",
    "    tempdf=df.copy(deep=True)\n",
    "    \n",
    "    # Calculate profit\n",
    "    \n",
    "    profit = round(tempdf.iloc[-1]['net worth'] - tempdf.iloc[1]['net worth'], 2)\n",
    "    profit_prcnt = round(((tempdf.iloc[-1]['net worth'] - tempdf.iloc[1]['net worth']) / tempdf.iloc[1]['net worth']) * 100 , 2)\n",
    "    \n",
    "    trade_buy = tempdf['type'][tempdf['type']=='Buy'].count()\n",
    "    trade_sell = tempdf['type'][tempdf['type']=='Sell'].count()\n",
    "    trade_hold = tempdf['type'][tempdf['type']=='Hold'].count()\n",
    "    \n",
    "    title_1 = 'RL Algorithm: PPO2_MLP' + ' - ' + 'Trade Count ' + '[' + 'Buy: ' + str(trade_buy) + ' | ' + 'Sell: ' + str(trade_sell) + ' | ' + 'Hold: ' + str(trade_hold) + ']'\n",
    "    title_2 = 'Initial Investment (INR): ' + str(round(tempdf.iloc[1]['net worth'],2)) + ' | ' +  'Net Worth (INR): ' + str(round(tempdf.iloc[-1]['net worth'],2)) + ' | ' + 'Profit (INR): ' + str(profit) + ' | ' + 'Profit (%): ' + str(profit_prcnt)+ '%'\n",
    "    \n",
    "    \n",
    "    # Buy sell marker\n",
    "    d=10\n",
    "    tempdf[['marker', 'symbol', 'color']] = ''\n",
    "    for i in range(0, len(tempdf)):\n",
    "        if tempdf['type'].iloc[i] == 'Buy':\n",
    "            tempdf['marker'].iloc[i] = tempdf[\"low\"].iloc[i]-d\n",
    "            tempdf['symbol'].iloc[i] = 'triangle-up'\n",
    "            tempdf['color'].iloc[i] = 'green'\n",
    "            \n",
    "        elif tempdf['type'].iloc[i] == 'Sell':\n",
    "            tempdf['marker'].iloc[i] = tempdf[\"high\"].iloc[i]+d\n",
    "            tempdf['symbol'].iloc[i] = 'triangle-down'\n",
    "            tempdf['color'].iloc[i] = 'red'\n",
    "        \n",
    "        else:\n",
    "            tempdf['marker'].iloc[i] = tempdf[\"low\"].iloc[i]-d\n",
    "            tempdf['symbol'].iloc[i] = 'cross-thin'\n",
    "            tempdf['color'].iloc[i] = 'blue' \n",
    "\n",
    "    \n",
    "    # Draw plot\n",
    "    fig = make_subplots(rows=2, cols=1, \n",
    "                    shared_xaxes=True, \n",
    "                    row_width=[.25,.75], \n",
    "                    vertical_spacing=0.05,\n",
    "                   subplot_titles=(title_1, title_2))\n",
    "\n",
    "   \n",
    "    fig.add_trace(go.Scatter(x=tempdf.index,\n",
    "                             y=tempdf.marker,\n",
    "                             mode='markers',\n",
    "                             name='Buy/Sell/Hold',\n",
    "                             marker=dict(size=15,symbol=tempdf[\"symbol\"],color=tempdf[\"color\"])),\n",
    "                   row=1, col=1)\n",
    "                  \n",
    "    fig.add_trace(go.Candlestick(x=tempdf.index, \n",
    "                                 open=tempdf['open'], \n",
    "                                 high=tempdf['high'], \n",
    "                                 low=tempdf['low'], \n",
    "                                 close=tempdf['close'],\n",
    "                                 name='OHLC'),\n",
    "                  row=1, col=1)\n",
    "   \n",
    "                  \n",
    "    fig.add_trace(go.Scatter(x=tempdf.index,\n",
    "                             y=tempdf['net worth'],\n",
    "                             mode='lines',\n",
    "                             name='Net Worth (INR)'),\n",
    "                  row=2, col=1)\n",
    "    \n",
    "    fig.add_hline(y=10000,\n",
    "                  name='Initial Balance',\n",
    "                  line=dict(color='firebrick', width=1, dash='dot'),\n",
    "                  row=2, col=1)\n",
    "\n",
    "    fig.update_layout(##title='Historical stock price chart',\n",
    "                      xaxis_tickfont_size=12,\n",
    "                      yaxis=dict(title='Price (INR/share)',\n",
    "                                 titlefont_size=14,\n",
    "                                 tickfont_size=10),\n",
    "                      xaxis_rangeslider_visible=False,\n",
    "                      width=1000,height=600, margin=dict(l=50, r=50, b=100, t=100, pad=4),\n",
    "                      template='none')\n",
    "\n",
    "    fig.show()"
   ]
  },
  {
   "cell_type": "code",
   "execution_count": 22,
   "id": "4cc70d1f",
   "metadata": {},
   "outputs": [
    {
     "data": {
      "application/vnd.plotly.v1+json": {
       "config": {
        "plotlyServerURL": "https://plot.ly"
       },
       "data": [
        {
         "marker": {
          "color": [
           "blue",
           "blue",
           "blue",
           "blue",
           "blue",
           "blue",
           "blue",
           "blue",
           "blue",
           "blue",
           "blue",
           "blue",
           "blue",
           "green",
           "blue",
           "red",
           "red",
           "blue",
           "blue",
           "blue",
           "blue",
           "green",
           "blue",
           "blue",
           "red",
           "green",
           "blue",
           "red",
           "blue",
           "blue",
           "blue",
           "blue",
           "green",
           "blue",
           "blue",
           "blue",
           "blue",
           "blue",
           "blue",
           "blue",
           "blue",
           "blue",
           "blue",
           "blue",
           "red",
           "blue",
           "green",
           "blue",
           "blue",
           "blue",
           "red",
           "blue",
           "blue",
           "blue",
           "green",
           "green",
           "blue",
           "blue",
           "green",
           "red",
           "blue",
           "blue",
           "green",
           "blue",
           "blue",
           "blue",
           "blue",
           "blue",
           "red",
           "blue",
           "green",
           "blue",
           "blue",
           "blue",
           "blue",
           "blue",
           "blue",
           "green",
           "blue",
           "blue",
           "blue",
           "blue",
           "blue",
           "green",
           "blue",
           "blue",
           "blue",
           "blue",
           "blue",
           "blue",
           "blue",
           "blue",
           "blue",
           "blue",
           "blue",
           "blue",
           "blue",
           "blue",
           "green",
           "red",
           "blue",
           "blue",
           "blue",
           "blue",
           "blue",
           "blue",
           "blue",
           "blue",
           "green",
           "blue",
           "blue",
           "red",
           "blue",
           "green",
           "blue",
           "blue",
           "green",
           "green",
           "blue",
           "blue",
           "blue",
           "blue",
           "blue",
           "blue",
           "blue",
           "blue",
           "blue",
           "green",
           "blue",
           "blue",
           "red",
           "blue",
           "green",
           "blue",
           "blue",
           "blue",
           "blue",
           "blue",
           "blue",
           "blue",
           "blue",
           "blue",
           "blue",
           "blue",
           "blue",
           "blue",
           "red"
          ],
          "size": 15,
          "symbol": [
           "cross-thin",
           "cross-thin",
           "cross-thin",
           "cross-thin",
           "cross-thin",
           "cross-thin",
           "cross-thin",
           "cross-thin",
           "cross-thin",
           "cross-thin",
           "cross-thin",
           "cross-thin",
           "cross-thin",
           "triangle-up",
           "cross-thin",
           "triangle-down",
           "triangle-down",
           "cross-thin",
           "cross-thin",
           "cross-thin",
           "cross-thin",
           "triangle-up",
           "cross-thin",
           "cross-thin",
           "triangle-down",
           "triangle-up",
           "cross-thin",
           "triangle-down",
           "cross-thin",
           "cross-thin",
           "cross-thin",
           "cross-thin",
           "triangle-up",
           "cross-thin",
           "cross-thin",
           "cross-thin",
           "cross-thin",
           "cross-thin",
           "cross-thin",
           "cross-thin",
           "cross-thin",
           "cross-thin",
           "cross-thin",
           "cross-thin",
           "triangle-down",
           "cross-thin",
           "triangle-up",
           "cross-thin",
           "cross-thin",
           "cross-thin",
           "triangle-down",
           "cross-thin",
           "cross-thin",
           "cross-thin",
           "triangle-up",
           "triangle-up",
           "cross-thin",
           "cross-thin",
           "triangle-up",
           "triangle-down",
           "cross-thin",
           "cross-thin",
           "triangle-up",
           "cross-thin",
           "cross-thin",
           "cross-thin",
           "cross-thin",
           "cross-thin",
           "triangle-down",
           "cross-thin",
           "triangle-up",
           "cross-thin",
           "cross-thin",
           "cross-thin",
           "cross-thin",
           "cross-thin",
           "cross-thin",
           "triangle-up",
           "cross-thin",
           "cross-thin",
           "cross-thin",
           "cross-thin",
           "cross-thin",
           "triangle-up",
           "cross-thin",
           "cross-thin",
           "cross-thin",
           "cross-thin",
           "cross-thin",
           "cross-thin",
           "cross-thin",
           "cross-thin",
           "cross-thin",
           "cross-thin",
           "cross-thin",
           "cross-thin",
           "cross-thin",
           "cross-thin",
           "triangle-up",
           "triangle-down",
           "cross-thin",
           "cross-thin",
           "cross-thin",
           "cross-thin",
           "cross-thin",
           "cross-thin",
           "cross-thin",
           "cross-thin",
           "triangle-up",
           "cross-thin",
           "cross-thin",
           "triangle-down",
           "cross-thin",
           "triangle-up",
           "cross-thin",
           "cross-thin",
           "triangle-up",
           "triangle-up",
           "cross-thin",
           "cross-thin",
           "cross-thin",
           "cross-thin",
           "cross-thin",
           "cross-thin",
           "cross-thin",
           "cross-thin",
           "cross-thin",
           "triangle-up",
           "cross-thin",
           "cross-thin",
           "triangle-down",
           "cross-thin",
           "triangle-up",
           "cross-thin",
           "cross-thin",
           "cross-thin",
           "cross-thin",
           "cross-thin",
           "cross-thin",
           "cross-thin",
           "cross-thin",
           "cross-thin",
           "cross-thin",
           "cross-thin",
           "cross-thin",
           "cross-thin",
           "triangle-down"
          ]
         },
         "mode": "markers",
         "name": "Buy/Sell/Hold",
         "type": "scatter",
         "x": [
          "2019-02-26T00:00:00",
          "2019-02-28T00:00:00",
          "2019-03-01T00:00:00",
          "2019-03-05T00:00:00",
          "2019-03-06T00:00:00",
          "2019-03-07T00:00:00",
          "2019-03-08T00:00:00",
          "2019-03-13T00:00:00",
          "2019-03-14T00:00:00",
          "2019-03-18T00:00:00",
          "2019-03-20T00:00:00",
          "2019-03-22T00:00:00",
          "2019-03-25T00:00:00",
          "2019-03-28T00:00:00",
          "2019-04-01T00:00:00",
          "2019-04-02T00:00:00",
          "2019-04-03T00:00:00",
          "2019-04-04T00:00:00",
          "2019-04-08T00:00:00",
          "2019-04-09T00:00:00",
          "2019-04-11T00:00:00",
          "2019-04-16T00:00:00",
          "2019-04-18T00:00:00",
          "2019-04-22T00:00:00",
          "2019-04-23T00:00:00",
          "2019-04-24T00:00:00",
          "2019-04-26T00:00:00",
          "2019-04-30T00:00:00",
          "2019-05-03T00:00:00",
          "2019-05-06T00:00:00",
          "2019-05-08T00:00:00",
          "2019-05-09T00:00:00",
          "2019-05-16T00:00:00",
          "2019-05-17T00:00:00",
          "2019-05-22T00:00:00",
          "2019-05-23T00:00:00",
          "2019-05-24T00:00:00",
          "2019-05-28T00:00:00",
          "2019-05-29T00:00:00",
          "2019-05-31T00:00:00",
          "2019-06-03T00:00:00",
          "2019-06-04T00:00:00",
          "2019-06-07T00:00:00",
          "2019-06-10T00:00:00",
          "2019-06-11T00:00:00",
          "2019-06-13T00:00:00",
          "2019-06-18T00:00:00",
          "2019-06-19T00:00:00",
          "2019-06-20T00:00:00",
          "2019-06-21T00:00:00",
          "2019-06-25T00:00:00",
          "2019-06-26T00:00:00",
          "2019-06-27T00:00:00",
          "2019-06-28T00:00:00",
          "2019-07-01T00:00:00",
          "2019-07-02T00:00:00",
          "2019-07-04T00:00:00",
          "2019-07-05T00:00:00",
          "2019-07-08T00:00:00",
          "2019-07-09T00:00:00",
          "2019-07-10T00:00:00",
          "2019-07-11T00:00:00",
          "2019-07-12T00:00:00",
          "2019-07-15T00:00:00",
          "2019-07-16T00:00:00",
          "2019-07-18T00:00:00",
          "2019-07-19T00:00:00",
          "2019-07-22T00:00:00",
          "2019-07-23T00:00:00",
          "2019-07-24T00:00:00",
          "2019-07-25T00:00:00",
          "2019-07-30T00:00:00",
          "2019-07-31T00:00:00",
          "2019-08-01T00:00:00",
          "2019-08-05T00:00:00",
          "2019-08-07T00:00:00",
          "2019-08-08T00:00:00",
          "2019-08-09T00:00:00",
          "2019-08-13T00:00:00",
          "2019-08-14T00:00:00",
          "2019-08-16T00:00:00",
          "2019-08-19T00:00:00",
          "2019-08-20T00:00:00",
          "2019-08-21T00:00:00",
          "2019-08-22T00:00:00",
          "2019-08-26T00:00:00",
          "2019-08-27T00:00:00",
          "2019-08-28T00:00:00",
          "2019-08-29T00:00:00",
          "2019-08-30T00:00:00",
          "2019-09-03T00:00:00",
          "2019-09-04T00:00:00",
          "2019-09-05T00:00:00",
          "2019-09-06T00:00:00",
          "2019-09-09T00:00:00",
          "2019-09-11T00:00:00",
          "2019-09-12T00:00:00",
          "2019-09-13T00:00:00",
          "2019-09-19T00:00:00",
          "2019-09-20T00:00:00",
          "2019-09-23T00:00:00",
          "2019-09-25T00:00:00",
          "2019-09-26T00:00:00",
          "2019-09-27T00:00:00",
          "2019-09-30T00:00:00",
          "2019-10-01T00:00:00",
          "2019-10-03T00:00:00",
          "2019-10-04T00:00:00",
          "2019-10-07T00:00:00",
          "2019-10-09T00:00:00",
          "2019-10-10T00:00:00",
          "2019-10-11T00:00:00",
          "2019-10-14T00:00:00",
          "2019-10-15T00:00:00",
          "2019-10-16T00:00:00",
          "2019-10-17T00:00:00",
          "2019-10-24T00:00:00",
          "2019-11-04T00:00:00",
          "2019-11-05T00:00:00",
          "2019-11-06T00:00:00",
          "2019-11-07T00:00:00",
          "2019-11-11T00:00:00",
          "2019-11-13T00:00:00",
          "2019-11-15T00:00:00",
          "2019-11-18T00:00:00",
          "2019-11-19T00:00:00",
          "2019-11-20T00:00:00",
          "2019-11-22T00:00:00",
          "2019-11-25T00:00:00",
          "2019-11-26T00:00:00",
          "2019-11-27T00:00:00",
          "2019-11-28T00:00:00",
          "2019-11-29T00:00:00",
          "2019-12-02T00:00:00",
          "2019-12-04T00:00:00",
          "2019-12-06T00:00:00",
          "2019-12-10T00:00:00",
          "2019-12-11T00:00:00",
          "2019-12-12T00:00:00",
          "2019-12-13T00:00:00",
          "2019-12-16T00:00:00",
          "2019-12-18T00:00:00",
          "2019-12-19T00:00:00",
          "2019-12-20T00:00:00",
          "2019-12-23T00:00:00",
          "2019-12-24T00:00:00",
          "2019-12-26T00:00:00"
         ],
         "xaxis": "x",
         "y": [
          517.25,
          529.5999755859375,
          532,
          546.4000244140625,
          547.0999755859375,
          553.4000244140625,
          552,
          570.5499877929688,
          570,
          561.5499877929688,
          560.9500122070312,
          560,
          544,
          555.4500122070312,
          584.9500122070312,
          616.9000244140625,
          623.25,
          590.0999755859375,
          595.75,
          593.2000122070312,
          589.75,
          610.6500244140625,
          604.9500122070312,
          606.2999877929688,
          633.4000244140625,
          605.0499877929688,
          587,
          608.7000122070312,
          590.3499755859375,
          562.7000122070312,
          543.2000122070312,
          550,
          578.5999755859375,
          580.2999877929688,
          594,
          597.6500244140625,
          585.2000122070312,
          611.5,
          623.9500122070312,
          623.2000122070312,
          627,
          629.75,
          598.5,
          600.2000122070312,
          633.1500244140625,
          590.1500244140625,
          566.0499877929688,
          558.25,
          566.8499755859375,
          550.9000244140625,
          587.6500244140625,
          564.5,
          567.1500244140625,
          569,
          567,
          562.8499755859375,
          566.2999877929688,
          548.4500122070312,
          541.2000122070312,
          578.9000244140625,
          544.3499755859375,
          538.7000122070312,
          549.2000122070312,
          546.0999755859375,
          544,
          519.6500244140625,
          512.5999755859375,
          507,
          532.2999877929688,
          450.5,
          441.25,
          456.6000061035156,
          440,
          449.1499938964844,
          443.2999877929688,
          460.1499938964844,
          458.2000122070313,
          461.75,
          451.5499877929688,
          458.5,
          463.3500061035156,
          472.6499938964844,
          472.3999938964844,
          465,
          457,
          456.0499877929688,
          470.0499877929688,
          458.1000061035156,
          454.3500061035156,
          459.9500122070313,
          450.5,
          433,
          445,
          470.1000061035156,
          467.6499938964844,
          479,
          482.5,
          490,
          518.2000122070312,
          600.7999877929688,
          555.0499877929688,
          555.75,
          554,
          540.0999755859375,
          535.0999755859375,
          536,
          536.4000244140625,
          548.4000244140625,
          533.0999755859375,
          545,
          531.5,
          579.5,
          549,
          541,
          545.25,
          535.0999755859375,
          531.75,
          540,
          526.0499877929688,
          513.5499877929688,
          515,
          517.4000244140625,
          508.25,
          503.6500244140625,
          502.0999755859375,
          502.04998779296875,
          502.6500244140625,
          502,
          508,
          497.1000061035156,
          534.7999877929688,
          506.95001220703125,
          508.0999755859375,
          508.0999755859375,
          502.29998779296875,
          505,
          505.0999755859375,
          510,
          515,
          524,
          507.79998779296875,
          498,
          501.3500061035156,
          498,
          491.2000122070313,
          496.25,
          527.7999877929688
         ],
         "yaxis": "y"
        },
        {
         "close": [
          538.8499755859375,
          541.9500122070312,
          555.9500122070312,
          562.1500244140625,
          561.9000244140625,
          567.2999877929688,
          566.0999755859375,
          585.3499755859375,
          584.5499877929688,
          579.9500122070312,
          573.5,
          572.6500244140625,
          556.7000122070312,
          576.7000122070312,
          600.7000122070312,
          604.4000244140625,
          608.8499755859375,
          611,
          609.4000244140625,
          608.2000122070312,
          605.5,
          624.9500122070312,
          624.2999877929688,
          620.25,
          617.2999877929688,
          622.1500244140625,
          599.0999755859375,
          595.0499877929688,
          602.7000122070312,
          575.75,
          570.2000122070312,
          562.8499755859375,
          592.9000244140625,
          594.75,
          609.6500244140625,
          615.7999877929688,
          600.9000244140625,
          643.0499877929688,
          637.5499877929688,
          636.0999755859375,
          641.4000244140625,
          641.75,
          610.75,
          622.0999755859375,
          619.4500122070312,
          609.75,
          579.25,
          576.8499755859375,
          595.5,
          563,
          574.7999877929688,
          581.5999755859375,
          583.8499755859375,
          581.8499755859375,
          578.6500244140625,
          588.5,
          584.3499755859375,
          561.5499877929688,
          561.0999755859375,
          566.25,
          555.7999877929688,
          559.8499755859375,
          566,
          559.0999755859375,
          571.0499877929688,
          536.9500122070312,
          529.0499877929688,
          522.5499877929688,
          510.6000061035156,
          468.2999877929688,
          476.1000061035156,
          467.9500122070313,
          474,
          466.1000061035156,
          456.5,
          478.6499938964844,
          478.6000061035156,
          476.8500061035156,
          471.2000122070313,
          484.4500122070313,
          481.75,
          500.0499877929688,
          488.7000122070313,
          479.3500061035156,
          471.8999938964844,
          488.0499877929688,
          481.2000122070313,
          472.0499877929688,
          469.9500122070313,
          474.1000061035156,
          463.5499877929688,
          456.7000122070313,
          484.3999938964844,
          489.3999938964844,
          495.5,
          491.8500061035156,
          498.4500122070313,
          516.0999755859375,
          535.4500122070312,
          583.25,
          587.9500122070312,
          568,
          571.5499877929688,
          556.9500122070312,
          549.1500244140625,
          556.1500244140625,
          561.5499877929688,
          560.6500244140625,
          556.4500122070312,
          561.3499755859375,
          561.5,
          564.7999877929688,
          561.3499755859375,
          560.25,
          559.5,
          554.0999755859375,
          548.0999755859375,
          554.7000122070312,
          539.25,
          530,
          530,
          531.3499755859375,
          520.1500244140625,
          518.25,
          514.8499755859375,
          521.7000122070312,
          525.4500122070312,
          520.2999877929688,
          524.9000244140625,
          516.2999877929688,
          516.75,
          521,
          536.0499877929688,
          522.0499877929688,
          515.1500244140625,
          517.5,
          520.7999877929688,
          529.4500122070312,
          534.4000244140625,
          538.9000244140625,
          519.8499755859375,
          514.9000244140625,
          512.9000244140625,
          511.6000061035156,
          504.2000122070313,
          511.1000061035156,
          515.2000122070312
         ],
         "high": [
          540.9000244140625,
          549.7999877929688,
          561.6500244140625,
          564.3499755859375,
          565.5,
          578,
          569,
          597.0999755859375,
          593.4500122070312,
          586,
          582.8499755859375,
          580.25,
          569.0999755859375,
          579,
          608.7000122070312,
          606.9000244140625,
          613.25,
          615,
          627.9000244140625,
          612.5,
          615.2999877929688,
          635,
          627.7000122070312,
          629.5499877929688,
          623.4000244140625,
          625,
          618.2000122070312,
          598.7000122070312,
          618.7999877929688,
          606,
          572.9000244140625,
          569.9000244140625,
          596.4000244140625,
          600.7000122070312,
          621.7000122070312,
          621.5,
          619,
          649.6500244140625,
          647.7000122070312,
          645.75,
          644,
          648.5999755859375,
          631.0999755859375,
          624.5,
          623.1500244140625,
          616.1500244140625,
          593,
          585,
          599,
          600,
          577.6500244140625,
          589,
          591,
          592.8499755859375,
          586.75,
          599.5999755859375,
          587,
          595.75,
          569.5999755859375,
          568.9000244140625,
          572.0499877929688,
          562.5,
          573.4000244140625,
          571.9500122070312,
          573,
          555.1500244140625,
          539.7999877929688,
          539,
          522.2999877929688,
          511.5,
          484,
          481,
          476.9500122070313,
          474.8500061035156,
          466.75,
          492.2000122070313,
          484.6000061035156,
          485.25,
          480.7999877929688,
          486.7000122070313,
          487,
          505,
          500,
          492,
          479.0499877929688,
          494,
          499.7999877929688,
          487.7000122070313,
          474.3500061035156,
          483.6499938964844,
          472.7999877929688,
          462,
          488.8999938964844,
          491.7000122070313,
          497.9500122070313,
          512,
          503.7999877929688,
          519,
          538.2000122070312,
          590.7999877929688,
          598.7000122070312,
          589.7000122070312,
          581,
          576,
          576.9500122070312,
          570,
          580,
          571.7999877929688,
          562,
          565.8499755859375,
          578,
          569.5,
          569,
          562.0999755859375,
          564.25,
          559.9500122070312,
          567,
          573.5999755859375,
          558.75,
          542.5999755859375,
          539,
          534,
          529.75,
          527.5999755859375,
          524.4000244140625,
          524.4000244140625,
          527.7999877929688,
          522.5999755859375,
          530.9500122070312,
          530,
          524.7999877929688,
          524.9000244140625,
          543.9000244140625,
          534.7000122070312,
          523.9500122070312,
          520,
          531.25,
          532.8499755859375,
          536.9000244140625,
          539.9000244140625,
          539,
          523.4500122070312,
          517.0999755859375,
          519.7999877929688,
          511.6000061035156,
          515.6500244140625,
          517.7999877929688
         ],
         "low": [
          527.25,
          539.5999755859375,
          542,
          556.4000244140625,
          557.0999755859375,
          563.4000244140625,
          562,
          580.5499877929688,
          580,
          571.5499877929688,
          570.9500122070312,
          570,
          554,
          565.4500122070312,
          594.9500122070312,
          596.0499877929688,
          602,
          600.0999755859375,
          605.75,
          603.2000122070312,
          599.75,
          620.6500244140625,
          614.9500122070312,
          616.2999877929688,
          616,
          615.0499877929688,
          597,
          581,
          600.3499755859375,
          572.7000122070312,
          553.2000122070312,
          560,
          588.5999755859375,
          590.2999877929688,
          604,
          607.6500244140625,
          595.2000122070312,
          621.5,
          633.9500122070312,
          633.2000122070312,
          637,
          639.75,
          608.5,
          610.2000122070312,
          614.0999755859375,
          600.1500244140625,
          576.0499877929688,
          568.25,
          576.8499755859375,
          560.9000244140625,
          563.0499877929688,
          574.5,
          577.1500244140625,
          579,
          577,
          572.8499755859375,
          576.2999877929688,
          558.4500122070312,
          551.2000122070312,
          555.2000122070312,
          554.3499755859375,
          548.7000122070312,
          559.2000122070312,
          556.0999755859375,
          554,
          529.6500244140625,
          522.5999755859375,
          517,
          500,
          460.5,
          451.25,
          466.6000061035156,
          450,
          459.1499938964844,
          453.2999877929688,
          470.1499938964844,
          468.2000122070313,
          471.75,
          461.5499877929688,
          468.5,
          473.3500061035156,
          482.6499938964844,
          482.3999938964844,
          475,
          467,
          466.0499877929688,
          480.0499877929688,
          468.1000061035156,
          464.3500061035156,
          469.9500122070313,
          460.5,
          443,
          455,
          480.1000061035156,
          477.6499938964844,
          489,
          492.5,
          500,
          528.2000122070312,
          525.2000122070312,
          565.0499877929688,
          565.75,
          564,
          550.0999755859375,
          545.0999755859375,
          546,
          546.4000244140625,
          558.4000244140625,
          543.0999755859375,
          555,
          541.5,
          556.0499877929688,
          559,
          551,
          555.25,
          545.0999755859375,
          541.75,
          550,
          536.0499877929688,
          523.5499877929688,
          525,
          527.4000244140625,
          518.25,
          513.6500244140625,
          512.0999755859375,
          512.0499877929688,
          512.6500244140625,
          512,
          518,
          507.1000061035156,
          513,
          516.9500122070312,
          518.0999755859375,
          518.0999755859375,
          512.2999877929688,
          515,
          515.0999755859375,
          520,
          525,
          534,
          517.7999877929688,
          508,
          511.3500061035156,
          508,
          501.2000122070313,
          506.25,
          510
         ],
         "name": "OHLC",
         "open": [
          535.75,
          543.3499755859375,
          543.8499755859375,
          559.9500122070312,
          564.7999877929688,
          566,
          568.4000244140625,
          590.0999755859375,
          587.0999755859375,
          575,
          581,
          571.9000244140625,
          569,
          571,
          595.9000244140625,
          604.5999755859375,
          607,
          606,
          619.9500122070312,
          610.0999755859375,
          602.5499877929688,
          627.2000122070312,
          615.2000122070312,
          620,
          616.0499877929688,
          615.0499877929688,
          618.0999755859375,
          598,
          610.0499877929688,
          606,
          553.2000122070312,
          567.2999877929688,
          594.2999877929688,
          593,
          620,
          611.0499877929688,
          616.0499877929688,
          632,
          643,
          643,
          640,
          645.5,
          628,
          610.75,
          622.0999755859375,
          610.0999755859375,
          586.0499877929688,
          583,
          577.4000244140625,
          600,
          575.7999877929688,
          574.9000244140625,
          585.2999877929688,
          585,
          585.9500122070312,
          581.5,
          577.5,
          585,
          560.5499877929688,
          562,
          566,
          557.7000122070312,
          559.7999877929688,
          568.7999877929688,
          562.1500244140625,
          550,
          536.9000244140625,
          522.5,
          520,
          511.5,
          468.2999877929688,
          477,
          465,
          469.7000122070313,
          465,
          470.6499938964844,
          481.0499877929688,
          478,
          474.5,
          471.8500061035156,
          483.75,
          483.8500061035156,
          500,
          489.3999938964844,
          476,
          468,
          489,
          481.5499877929688,
          470,
          469.9500122070313,
          470.8999938964844,
          460.5499877929688,
          456.7000122070313,
          486.7999877929688,
          489.7000122070313,
          497,
          495.9500122070313,
          500.8999938964844,
          535.5499877929688,
          534.0499877929688,
          584,
          584.9500122070312,
          564,
          566,
          560.4500122070312,
          557.7000122070312,
          558.2999877929688,
          561.5999755859375,
          560.6500244140625,
          558,
          560.6500244140625,
          561.6500244140625,
          564,
          559,
          561,
          559.5,
          567,
          568.25,
          555,
          541.9000244140625,
          538,
          531.75,
          529.2000122070312,
          527.5999755859375,
          524.4000244140625,
          512.0499877929688,
          520,
          518,
          522.5,
          521.5499877929688,
          516,
          516.9500122070312,
          521,
          533,
          512.2999877929688,
          517.2999877929688,
          518,
          520,
          525,
          539,
          538.9000244140625,
          520.5499877929688,
          515.3499755859375,
          513.5999755859375,
          506.25,
          506.25,
          514.4000244140625
         ],
         "type": "candlestick",
         "x": [
          "2019-02-26T00:00:00",
          "2019-02-28T00:00:00",
          "2019-03-01T00:00:00",
          "2019-03-05T00:00:00",
          "2019-03-06T00:00:00",
          "2019-03-07T00:00:00",
          "2019-03-08T00:00:00",
          "2019-03-13T00:00:00",
          "2019-03-14T00:00:00",
          "2019-03-18T00:00:00",
          "2019-03-20T00:00:00",
          "2019-03-22T00:00:00",
          "2019-03-25T00:00:00",
          "2019-03-28T00:00:00",
          "2019-04-01T00:00:00",
          "2019-04-02T00:00:00",
          "2019-04-03T00:00:00",
          "2019-04-04T00:00:00",
          "2019-04-08T00:00:00",
          "2019-04-09T00:00:00",
          "2019-04-11T00:00:00",
          "2019-04-16T00:00:00",
          "2019-04-18T00:00:00",
          "2019-04-22T00:00:00",
          "2019-04-23T00:00:00",
          "2019-04-24T00:00:00",
          "2019-04-26T00:00:00",
          "2019-04-30T00:00:00",
          "2019-05-03T00:00:00",
          "2019-05-06T00:00:00",
          "2019-05-08T00:00:00",
          "2019-05-09T00:00:00",
          "2019-05-16T00:00:00",
          "2019-05-17T00:00:00",
          "2019-05-22T00:00:00",
          "2019-05-23T00:00:00",
          "2019-05-24T00:00:00",
          "2019-05-28T00:00:00",
          "2019-05-29T00:00:00",
          "2019-05-31T00:00:00",
          "2019-06-03T00:00:00",
          "2019-06-04T00:00:00",
          "2019-06-07T00:00:00",
          "2019-06-10T00:00:00",
          "2019-06-11T00:00:00",
          "2019-06-13T00:00:00",
          "2019-06-18T00:00:00",
          "2019-06-19T00:00:00",
          "2019-06-20T00:00:00",
          "2019-06-21T00:00:00",
          "2019-06-25T00:00:00",
          "2019-06-26T00:00:00",
          "2019-06-27T00:00:00",
          "2019-06-28T00:00:00",
          "2019-07-01T00:00:00",
          "2019-07-02T00:00:00",
          "2019-07-04T00:00:00",
          "2019-07-05T00:00:00",
          "2019-07-08T00:00:00",
          "2019-07-09T00:00:00",
          "2019-07-10T00:00:00",
          "2019-07-11T00:00:00",
          "2019-07-12T00:00:00",
          "2019-07-15T00:00:00",
          "2019-07-16T00:00:00",
          "2019-07-18T00:00:00",
          "2019-07-19T00:00:00",
          "2019-07-22T00:00:00",
          "2019-07-23T00:00:00",
          "2019-07-24T00:00:00",
          "2019-07-25T00:00:00",
          "2019-07-30T00:00:00",
          "2019-07-31T00:00:00",
          "2019-08-01T00:00:00",
          "2019-08-05T00:00:00",
          "2019-08-07T00:00:00",
          "2019-08-08T00:00:00",
          "2019-08-09T00:00:00",
          "2019-08-13T00:00:00",
          "2019-08-14T00:00:00",
          "2019-08-16T00:00:00",
          "2019-08-19T00:00:00",
          "2019-08-20T00:00:00",
          "2019-08-21T00:00:00",
          "2019-08-22T00:00:00",
          "2019-08-26T00:00:00",
          "2019-08-27T00:00:00",
          "2019-08-28T00:00:00",
          "2019-08-29T00:00:00",
          "2019-08-30T00:00:00",
          "2019-09-03T00:00:00",
          "2019-09-04T00:00:00",
          "2019-09-05T00:00:00",
          "2019-09-06T00:00:00",
          "2019-09-09T00:00:00",
          "2019-09-11T00:00:00",
          "2019-09-12T00:00:00",
          "2019-09-13T00:00:00",
          "2019-09-19T00:00:00",
          "2019-09-20T00:00:00",
          "2019-09-23T00:00:00",
          "2019-09-25T00:00:00",
          "2019-09-26T00:00:00",
          "2019-09-27T00:00:00",
          "2019-09-30T00:00:00",
          "2019-10-01T00:00:00",
          "2019-10-03T00:00:00",
          "2019-10-04T00:00:00",
          "2019-10-07T00:00:00",
          "2019-10-09T00:00:00",
          "2019-10-10T00:00:00",
          "2019-10-11T00:00:00",
          "2019-10-14T00:00:00",
          "2019-10-15T00:00:00",
          "2019-10-16T00:00:00",
          "2019-10-17T00:00:00",
          "2019-10-24T00:00:00",
          "2019-11-04T00:00:00",
          "2019-11-05T00:00:00",
          "2019-11-06T00:00:00",
          "2019-11-07T00:00:00",
          "2019-11-11T00:00:00",
          "2019-11-13T00:00:00",
          "2019-11-15T00:00:00",
          "2019-11-18T00:00:00",
          "2019-11-19T00:00:00",
          "2019-11-20T00:00:00",
          "2019-11-22T00:00:00",
          "2019-11-25T00:00:00",
          "2019-11-26T00:00:00",
          "2019-11-27T00:00:00",
          "2019-11-28T00:00:00",
          "2019-11-29T00:00:00",
          "2019-12-02T00:00:00",
          "2019-12-04T00:00:00",
          "2019-12-06T00:00:00",
          "2019-12-10T00:00:00",
          "2019-12-11T00:00:00",
          "2019-12-12T00:00:00",
          "2019-12-13T00:00:00",
          "2019-12-16T00:00:00",
          "2019-12-18T00:00:00",
          "2019-12-19T00:00:00",
          "2019-12-20T00:00:00",
          "2019-12-23T00:00:00",
          "2019-12-24T00:00:00",
          "2019-12-26T00:00:00"
         ],
         "xaxis": "x",
         "yaxis": "y"
        },
        {
         "mode": "lines",
         "name": "Net Worth (INR)",
         "type": "scatter",
         "x": [
          "2019-02-26T00:00:00",
          "2019-02-28T00:00:00",
          "2019-03-01T00:00:00",
          "2019-03-05T00:00:00",
          "2019-03-06T00:00:00",
          "2019-03-07T00:00:00",
          "2019-03-08T00:00:00",
          "2019-03-13T00:00:00",
          "2019-03-14T00:00:00",
          "2019-03-18T00:00:00",
          "2019-03-20T00:00:00",
          "2019-03-22T00:00:00",
          "2019-03-25T00:00:00",
          "2019-03-28T00:00:00",
          "2019-04-01T00:00:00",
          "2019-04-02T00:00:00",
          "2019-04-03T00:00:00",
          "2019-04-04T00:00:00",
          "2019-04-08T00:00:00",
          "2019-04-09T00:00:00",
          "2019-04-11T00:00:00",
          "2019-04-16T00:00:00",
          "2019-04-18T00:00:00",
          "2019-04-22T00:00:00",
          "2019-04-23T00:00:00",
          "2019-04-24T00:00:00",
          "2019-04-26T00:00:00",
          "2019-04-30T00:00:00",
          "2019-05-03T00:00:00",
          "2019-05-06T00:00:00",
          "2019-05-08T00:00:00",
          "2019-05-09T00:00:00",
          "2019-05-16T00:00:00",
          "2019-05-17T00:00:00",
          "2019-05-22T00:00:00",
          "2019-05-23T00:00:00",
          "2019-05-24T00:00:00",
          "2019-05-28T00:00:00",
          "2019-05-29T00:00:00",
          "2019-05-31T00:00:00",
          "2019-06-03T00:00:00",
          "2019-06-04T00:00:00",
          "2019-06-07T00:00:00",
          "2019-06-10T00:00:00",
          "2019-06-11T00:00:00",
          "2019-06-13T00:00:00",
          "2019-06-18T00:00:00",
          "2019-06-19T00:00:00",
          "2019-06-20T00:00:00",
          "2019-06-21T00:00:00",
          "2019-06-25T00:00:00",
          "2019-06-26T00:00:00",
          "2019-06-27T00:00:00",
          "2019-06-28T00:00:00",
          "2019-07-01T00:00:00",
          "2019-07-02T00:00:00",
          "2019-07-04T00:00:00",
          "2019-07-05T00:00:00",
          "2019-07-08T00:00:00",
          "2019-07-09T00:00:00",
          "2019-07-10T00:00:00",
          "2019-07-11T00:00:00",
          "2019-07-12T00:00:00",
          "2019-07-15T00:00:00",
          "2019-07-16T00:00:00",
          "2019-07-18T00:00:00",
          "2019-07-19T00:00:00",
          "2019-07-22T00:00:00",
          "2019-07-23T00:00:00",
          "2019-07-24T00:00:00",
          "2019-07-25T00:00:00",
          "2019-07-30T00:00:00",
          "2019-07-31T00:00:00",
          "2019-08-01T00:00:00",
          "2019-08-05T00:00:00",
          "2019-08-07T00:00:00",
          "2019-08-08T00:00:00",
          "2019-08-09T00:00:00",
          "2019-08-13T00:00:00",
          "2019-08-14T00:00:00",
          "2019-08-16T00:00:00",
          "2019-08-19T00:00:00",
          "2019-08-20T00:00:00",
          "2019-08-21T00:00:00",
          "2019-08-22T00:00:00",
          "2019-08-26T00:00:00",
          "2019-08-27T00:00:00",
          "2019-08-28T00:00:00",
          "2019-08-29T00:00:00",
          "2019-08-30T00:00:00",
          "2019-09-03T00:00:00",
          "2019-09-04T00:00:00",
          "2019-09-05T00:00:00",
          "2019-09-06T00:00:00",
          "2019-09-09T00:00:00",
          "2019-09-11T00:00:00",
          "2019-09-12T00:00:00",
          "2019-09-13T00:00:00",
          "2019-09-19T00:00:00",
          "2019-09-20T00:00:00",
          "2019-09-23T00:00:00",
          "2019-09-25T00:00:00",
          "2019-09-26T00:00:00",
          "2019-09-27T00:00:00",
          "2019-09-30T00:00:00",
          "2019-10-01T00:00:00",
          "2019-10-03T00:00:00",
          "2019-10-04T00:00:00",
          "2019-10-07T00:00:00",
          "2019-10-09T00:00:00",
          "2019-10-10T00:00:00",
          "2019-10-11T00:00:00",
          "2019-10-14T00:00:00",
          "2019-10-15T00:00:00",
          "2019-10-16T00:00:00",
          "2019-10-17T00:00:00",
          "2019-10-24T00:00:00",
          "2019-11-04T00:00:00",
          "2019-11-05T00:00:00",
          "2019-11-06T00:00:00",
          "2019-11-07T00:00:00",
          "2019-11-11T00:00:00",
          "2019-11-13T00:00:00",
          "2019-11-15T00:00:00",
          "2019-11-18T00:00:00",
          "2019-11-19T00:00:00",
          "2019-11-20T00:00:00",
          "2019-11-22T00:00:00",
          "2019-11-25T00:00:00",
          "2019-11-26T00:00:00",
          "2019-11-27T00:00:00",
          "2019-11-28T00:00:00",
          "2019-11-29T00:00:00",
          "2019-12-02T00:00:00",
          "2019-12-04T00:00:00",
          "2019-12-06T00:00:00",
          "2019-12-10T00:00:00",
          "2019-12-11T00:00:00",
          "2019-12-12T00:00:00",
          "2019-12-13T00:00:00",
          "2019-12-16T00:00:00",
          "2019-12-18T00:00:00",
          "2019-12-19T00:00:00",
          "2019-12-20T00:00:00",
          "2019-12-23T00:00:00",
          "2019-12-24T00:00:00",
          "2019-12-26T00:00:00"
         ],
         "xaxis": "x2",
         "y": [
          10000,
          10000,
          10000,
          10000,
          10000,
          10000,
          10000,
          10000,
          10000,
          10000,
          10000,
          10000,
          10000,
          10000,
          10479.156870196133,
          10550.554618687274,
          10584.115683229344,
          10580.110501058076,
          10613.74521801116,
          10587.066258216099,
          10560.617516081778,
          10677.954691492021,
          10613.96851354103,
          10566.433264667801,
          10501.964004310445,
          10501.964004310445,
          10469.978692649955,
          10146.627012903498,
          10146.627012903498,
          10146.627012903498,
          10146.627012903498,
          10146.627012903498,
          10146.627012903498,
          10150.452001951522,
          10540.991924316273,
          10472.016593043138,
          10373.734456767843,
          10798.091386521444,
          10946.94872493509,
          10955.060958996564,
          10945.720412285826,
          10991.007297081458,
          10606.351324670444,
          10551.656986392625,
          10619.117523903831,
          10582.991344972279,
          10507.663315922,
          10461.189021788468,
          10448.08906800342,
          10242.86768764465,
          10389.315707342213,
          10433.695811647627,
          10458.431519533773,
          10452.418200153028,
          10419.659214707885,
          10454.28263529158,
          10384.920919799875,
          10373.429363471718,
          10105.998775167513,
          10198.550707124461,
          10190.269625970173,
          10177.349513887342,
          10197.323629364528,
          10193.64342671426,
          10201.50740659719,
          9688.928018804303,
          9646.425934329416,
          9424.399028127606,
          9240.678911170111,
          8804.97438908712,
          8759.220979940601,
          8827.448927370506,
          8819.68108717372,
          8730.24494025628,
          8601.232542633243,
          8820.242988391563,
          8946.056686447437,
          8896.238788060977,
          8820.36592959409,
          8827.525312433498,
          8976.157134749725,
          9197.40347209349,
          9226.754576285168,
          8942.606272301373,
          8860.49486631634,
          9000.270447900475,
          8999.201203568593,
          8855.78069972418,
          8761.886568883843,
          8766.795581237773,
          8674.228037084014,
          8582.328235041125,
          8701.607462098202,
          9053.22275557065,
          9105.911886248428,
          9139.331024576037,
          9243.943809115946,
          9380.701900215297,
          9876.335626187118,
          10444.776260919996,
          10558.53129222593,
          10494.515513730512,
          10459.364573038236,
          10402.941892562056,
          10385.566657110467,
          10380.917988034933,
          10409.154599553112,
          10411.416342229551,
          10401.543833194071,
          10407.097616576673,
          10429.33638029691,
          10453.137819201915,
          10458.60043478373,
          10428.314376483813,
          10428.056194906578,
          10360.535477251637,
          10435.581600646161,
          10366.290832883149,
          10140.501574881391,
          10077.194729533616,
          9976.30496786281,
          9973.637986442545,
          9825.962711960286,
          9772.615641345426,
          9855.946937004048,
          9695.397440905828,
          9820.15115618256,
          9768.305525742046,
          9867.152669627727,
          9811.149940939695,
          9732.900814735729,
          9732.900814735729,
          9732.900814735729,
          9636.686519225643,
          9383.052636029326,
          9438.132065846272,
          9470.036907887925,
          9516.645606188158,
          9640.056887530975,
          9825.829300030235,
          9782.819631675744,
          9485.002733801812,
          9380.371731084888,
          9367.251730227636,
          9228.722416329372,
          9250.126035476935,
          9390.11499291109
         ],
         "yaxis": "y2"
        }
       ],
       "layout": {
        "annotations": [
         {
          "font": {
           "size": 16
          },
          "showarrow": false,
          "text": "RL Algorithm: PPO2_MLP - Trade Count [Buy: 19 | Sell: 12 | Hold: 116]",
          "x": 0.5,
          "xanchor": "center",
          "xref": "paper",
          "y": 0.9999999999999999,
          "yanchor": "bottom",
          "yref": "paper"
         },
         {
          "font": {
           "size": 16
          },
          "showarrow": false,
          "text": "Initial Investment (INR): 10000.0 | Net Worth (INR): 9390.11 | Profit (INR): -609.89 | Profit (%): -6.1%",
          "x": 0.5,
          "xanchor": "center",
          "xref": "paper",
          "y": 0.2375,
          "yanchor": "bottom",
          "yref": "paper"
         }
        ],
        "height": 600,
        "margin": {
         "b": 100,
         "l": 50,
         "pad": 4,
         "r": 50,
         "t": 100
        },
        "shapes": [
         {
          "line": {
           "color": "firebrick",
           "dash": "dot",
           "width": 1
          },
          "name": "Initial Balance",
          "type": "line",
          "x0": 0,
          "x1": 1,
          "xref": "x2 domain",
          "y0": 10000,
          "y1": 10000,
          "yref": "y2"
         }
        ],
        "template": {
         "data": {
          "scatter": [
           {
            "type": "scatter"
           }
          ]
         }
        },
        "width": 1000,
        "xaxis": {
         "anchor": "y",
         "domain": [
          0,
          1
         ],
         "matches": "x2",
         "rangeslider": {
          "visible": false
         },
         "showticklabels": false,
         "tickfont": {
          "size": 12
         }
        },
        "xaxis2": {
         "anchor": "y2",
         "domain": [
          0,
          1
         ]
        },
        "yaxis": {
         "anchor": "x",
         "domain": [
          0.2875,
          0.9999999999999999
         ],
         "tickfont": {
          "size": 10
         },
         "title": {
          "font": {
           "size": 14
          },
          "text": "Price (INR/share)"
         }
        },
        "yaxis2": {
         "anchor": "x2",
         "domain": [
          0,
          0.2375
         ]
        }
       }
      },
      "text/html": [
       "<div>                            <div id=\"9ef5cd1d-43ac-407e-b175-17083a535f01\" class=\"plotly-graph-div\" style=\"height:600px; width:1000px;\"></div>            <script type=\"text/javascript\">                require([\"plotly\"], function(Plotly) {                    window.PLOTLYENV=window.PLOTLYENV || {};                                    if (document.getElementById(\"9ef5cd1d-43ac-407e-b175-17083a535f01\")) {                    Plotly.newPlot(                        \"9ef5cd1d-43ac-407e-b175-17083a535f01\",                        [{\"marker\":{\"color\":[\"blue\",\"blue\",\"blue\",\"blue\",\"blue\",\"blue\",\"blue\",\"blue\",\"blue\",\"blue\",\"blue\",\"blue\",\"blue\",\"green\",\"blue\",\"red\",\"red\",\"blue\",\"blue\",\"blue\",\"blue\",\"green\",\"blue\",\"blue\",\"red\",\"green\",\"blue\",\"red\",\"blue\",\"blue\",\"blue\",\"blue\",\"green\",\"blue\",\"blue\",\"blue\",\"blue\",\"blue\",\"blue\",\"blue\",\"blue\",\"blue\",\"blue\",\"blue\",\"red\",\"blue\",\"green\",\"blue\",\"blue\",\"blue\",\"red\",\"blue\",\"blue\",\"blue\",\"green\",\"green\",\"blue\",\"blue\",\"green\",\"red\",\"blue\",\"blue\",\"green\",\"blue\",\"blue\",\"blue\",\"blue\",\"blue\",\"red\",\"blue\",\"green\",\"blue\",\"blue\",\"blue\",\"blue\",\"blue\",\"blue\",\"green\",\"blue\",\"blue\",\"blue\",\"blue\",\"blue\",\"green\",\"blue\",\"blue\",\"blue\",\"blue\",\"blue\",\"blue\",\"blue\",\"blue\",\"blue\",\"blue\",\"blue\",\"blue\",\"blue\",\"blue\",\"green\",\"red\",\"blue\",\"blue\",\"blue\",\"blue\",\"blue\",\"blue\",\"blue\",\"blue\",\"green\",\"blue\",\"blue\",\"red\",\"blue\",\"green\",\"blue\",\"blue\",\"green\",\"green\",\"blue\",\"blue\",\"blue\",\"blue\",\"blue\",\"blue\",\"blue\",\"blue\",\"blue\",\"green\",\"blue\",\"blue\",\"red\",\"blue\",\"green\",\"blue\",\"blue\",\"blue\",\"blue\",\"blue\",\"blue\",\"blue\",\"blue\",\"blue\",\"blue\",\"blue\",\"blue\",\"blue\",\"red\"],\"size\":15,\"symbol\":[\"cross-thin\",\"cross-thin\",\"cross-thin\",\"cross-thin\",\"cross-thin\",\"cross-thin\",\"cross-thin\",\"cross-thin\",\"cross-thin\",\"cross-thin\",\"cross-thin\",\"cross-thin\",\"cross-thin\",\"triangle-up\",\"cross-thin\",\"triangle-down\",\"triangle-down\",\"cross-thin\",\"cross-thin\",\"cross-thin\",\"cross-thin\",\"triangle-up\",\"cross-thin\",\"cross-thin\",\"triangle-down\",\"triangle-up\",\"cross-thin\",\"triangle-down\",\"cross-thin\",\"cross-thin\",\"cross-thin\",\"cross-thin\",\"triangle-up\",\"cross-thin\",\"cross-thin\",\"cross-thin\",\"cross-thin\",\"cross-thin\",\"cross-thin\",\"cross-thin\",\"cross-thin\",\"cross-thin\",\"cross-thin\",\"cross-thin\",\"triangle-down\",\"cross-thin\",\"triangle-up\",\"cross-thin\",\"cross-thin\",\"cross-thin\",\"triangle-down\",\"cross-thin\",\"cross-thin\",\"cross-thin\",\"triangle-up\",\"triangle-up\",\"cross-thin\",\"cross-thin\",\"triangle-up\",\"triangle-down\",\"cross-thin\",\"cross-thin\",\"triangle-up\",\"cross-thin\",\"cross-thin\",\"cross-thin\",\"cross-thin\",\"cross-thin\",\"triangle-down\",\"cross-thin\",\"triangle-up\",\"cross-thin\",\"cross-thin\",\"cross-thin\",\"cross-thin\",\"cross-thin\",\"cross-thin\",\"triangle-up\",\"cross-thin\",\"cross-thin\",\"cross-thin\",\"cross-thin\",\"cross-thin\",\"triangle-up\",\"cross-thin\",\"cross-thin\",\"cross-thin\",\"cross-thin\",\"cross-thin\",\"cross-thin\",\"cross-thin\",\"cross-thin\",\"cross-thin\",\"cross-thin\",\"cross-thin\",\"cross-thin\",\"cross-thin\",\"cross-thin\",\"triangle-up\",\"triangle-down\",\"cross-thin\",\"cross-thin\",\"cross-thin\",\"cross-thin\",\"cross-thin\",\"cross-thin\",\"cross-thin\",\"cross-thin\",\"triangle-up\",\"cross-thin\",\"cross-thin\",\"triangle-down\",\"cross-thin\",\"triangle-up\",\"cross-thin\",\"cross-thin\",\"triangle-up\",\"triangle-up\",\"cross-thin\",\"cross-thin\",\"cross-thin\",\"cross-thin\",\"cross-thin\",\"cross-thin\",\"cross-thin\",\"cross-thin\",\"cross-thin\",\"triangle-up\",\"cross-thin\",\"cross-thin\",\"triangle-down\",\"cross-thin\",\"triangle-up\",\"cross-thin\",\"cross-thin\",\"cross-thin\",\"cross-thin\",\"cross-thin\",\"cross-thin\",\"cross-thin\",\"cross-thin\",\"cross-thin\",\"cross-thin\",\"cross-thin\",\"cross-thin\",\"cross-thin\",\"triangle-down\"]},\"mode\":\"markers\",\"name\":\"Buy/Sell/Hold\",\"type\":\"scatter\",\"x\":[\"2019-02-26T00:00:00\",\"2019-02-28T00:00:00\",\"2019-03-01T00:00:00\",\"2019-03-05T00:00:00\",\"2019-03-06T00:00:00\",\"2019-03-07T00:00:00\",\"2019-03-08T00:00:00\",\"2019-03-13T00:00:00\",\"2019-03-14T00:00:00\",\"2019-03-18T00:00:00\",\"2019-03-20T00:00:00\",\"2019-03-22T00:00:00\",\"2019-03-25T00:00:00\",\"2019-03-28T00:00:00\",\"2019-04-01T00:00:00\",\"2019-04-02T00:00:00\",\"2019-04-03T00:00:00\",\"2019-04-04T00:00:00\",\"2019-04-08T00:00:00\",\"2019-04-09T00:00:00\",\"2019-04-11T00:00:00\",\"2019-04-16T00:00:00\",\"2019-04-18T00:00:00\",\"2019-04-22T00:00:00\",\"2019-04-23T00:00:00\",\"2019-04-24T00:00:00\",\"2019-04-26T00:00:00\",\"2019-04-30T00:00:00\",\"2019-05-03T00:00:00\",\"2019-05-06T00:00:00\",\"2019-05-08T00:00:00\",\"2019-05-09T00:00:00\",\"2019-05-16T00:00:00\",\"2019-05-17T00:00:00\",\"2019-05-22T00:00:00\",\"2019-05-23T00:00:00\",\"2019-05-24T00:00:00\",\"2019-05-28T00:00:00\",\"2019-05-29T00:00:00\",\"2019-05-31T00:00:00\",\"2019-06-03T00:00:00\",\"2019-06-04T00:00:00\",\"2019-06-07T00:00:00\",\"2019-06-10T00:00:00\",\"2019-06-11T00:00:00\",\"2019-06-13T00:00:00\",\"2019-06-18T00:00:00\",\"2019-06-19T00:00:00\",\"2019-06-20T00:00:00\",\"2019-06-21T00:00:00\",\"2019-06-25T00:00:00\",\"2019-06-26T00:00:00\",\"2019-06-27T00:00:00\",\"2019-06-28T00:00:00\",\"2019-07-01T00:00:00\",\"2019-07-02T00:00:00\",\"2019-07-04T00:00:00\",\"2019-07-05T00:00:00\",\"2019-07-08T00:00:00\",\"2019-07-09T00:00:00\",\"2019-07-10T00:00:00\",\"2019-07-11T00:00:00\",\"2019-07-12T00:00:00\",\"2019-07-15T00:00:00\",\"2019-07-16T00:00:00\",\"2019-07-18T00:00:00\",\"2019-07-19T00:00:00\",\"2019-07-22T00:00:00\",\"2019-07-23T00:00:00\",\"2019-07-24T00:00:00\",\"2019-07-25T00:00:00\",\"2019-07-30T00:00:00\",\"2019-07-31T00:00:00\",\"2019-08-01T00:00:00\",\"2019-08-05T00:00:00\",\"2019-08-07T00:00:00\",\"2019-08-08T00:00:00\",\"2019-08-09T00:00:00\",\"2019-08-13T00:00:00\",\"2019-08-14T00:00:00\",\"2019-08-16T00:00:00\",\"2019-08-19T00:00:00\",\"2019-08-20T00:00:00\",\"2019-08-21T00:00:00\",\"2019-08-22T00:00:00\",\"2019-08-26T00:00:00\",\"2019-08-27T00:00:00\",\"2019-08-28T00:00:00\",\"2019-08-29T00:00:00\",\"2019-08-30T00:00:00\",\"2019-09-03T00:00:00\",\"2019-09-04T00:00:00\",\"2019-09-05T00:00:00\",\"2019-09-06T00:00:00\",\"2019-09-09T00:00:00\",\"2019-09-11T00:00:00\",\"2019-09-12T00:00:00\",\"2019-09-13T00:00:00\",\"2019-09-19T00:00:00\",\"2019-09-20T00:00:00\",\"2019-09-23T00:00:00\",\"2019-09-25T00:00:00\",\"2019-09-26T00:00:00\",\"2019-09-27T00:00:00\",\"2019-09-30T00:00:00\",\"2019-10-01T00:00:00\",\"2019-10-03T00:00:00\",\"2019-10-04T00:00:00\",\"2019-10-07T00:00:00\",\"2019-10-09T00:00:00\",\"2019-10-10T00:00:00\",\"2019-10-11T00:00:00\",\"2019-10-14T00:00:00\",\"2019-10-15T00:00:00\",\"2019-10-16T00:00:00\",\"2019-10-17T00:00:00\",\"2019-10-24T00:00:00\",\"2019-11-04T00:00:00\",\"2019-11-05T00:00:00\",\"2019-11-06T00:00:00\",\"2019-11-07T00:00:00\",\"2019-11-11T00:00:00\",\"2019-11-13T00:00:00\",\"2019-11-15T00:00:00\",\"2019-11-18T00:00:00\",\"2019-11-19T00:00:00\",\"2019-11-20T00:00:00\",\"2019-11-22T00:00:00\",\"2019-11-25T00:00:00\",\"2019-11-26T00:00:00\",\"2019-11-27T00:00:00\",\"2019-11-28T00:00:00\",\"2019-11-29T00:00:00\",\"2019-12-02T00:00:00\",\"2019-12-04T00:00:00\",\"2019-12-06T00:00:00\",\"2019-12-10T00:00:00\",\"2019-12-11T00:00:00\",\"2019-12-12T00:00:00\",\"2019-12-13T00:00:00\",\"2019-12-16T00:00:00\",\"2019-12-18T00:00:00\",\"2019-12-19T00:00:00\",\"2019-12-20T00:00:00\",\"2019-12-23T00:00:00\",\"2019-12-24T00:00:00\",\"2019-12-26T00:00:00\"],\"xaxis\":\"x\",\"y\":[517.25,529.5999755859375,532.0,546.4000244140625,547.0999755859375,553.4000244140625,552.0,570.5499877929688,570.0,561.5499877929688,560.9500122070312,560.0,544.0,555.4500122070312,584.9500122070312,616.9000244140625,623.25,590.0999755859375,595.75,593.2000122070312,589.75,610.6500244140625,604.9500122070312,606.2999877929688,633.4000244140625,605.0499877929688,587.0,608.7000122070312,590.3499755859375,562.7000122070312,543.2000122070312,550.0,578.5999755859375,580.2999877929688,594.0,597.6500244140625,585.2000122070312,611.5,623.9500122070312,623.2000122070312,627.0,629.75,598.5,600.2000122070312,633.1500244140625,590.1500244140625,566.0499877929688,558.25,566.8499755859375,550.9000244140625,587.6500244140625,564.5,567.1500244140625,569.0,567.0,562.8499755859375,566.2999877929688,548.4500122070312,541.2000122070312,578.9000244140625,544.3499755859375,538.7000122070312,549.2000122070312,546.0999755859375,544.0,519.6500244140625,512.5999755859375,507.0,532.2999877929688,450.5,441.25,456.6000061035156,440.0,449.1499938964844,443.2999877929688,460.1499938964844,458.2000122070313,461.75,451.5499877929688,458.5,463.3500061035156,472.6499938964844,472.3999938964844,465.0,457.0,456.0499877929688,470.0499877929688,458.1000061035156,454.3500061035156,459.9500122070313,450.5,433.0,445.0,470.1000061035156,467.6499938964844,479.0,482.5,490.0,518.2000122070312,600.7999877929688,555.0499877929688,555.75,554.0,540.0999755859375,535.0999755859375,536.0,536.4000244140625,548.4000244140625,533.0999755859375,545.0,531.5,579.5,549.0,541.0,545.25,535.0999755859375,531.75,540.0,526.0499877929688,513.5499877929688,515.0,517.4000244140625,508.25,503.6500244140625,502.0999755859375,502.04998779296875,502.6500244140625,502.0,508.0,497.1000061035156,534.7999877929688,506.95001220703125,508.0999755859375,508.0999755859375,502.29998779296875,505.0,505.0999755859375,510.0,515.0,524.0,507.79998779296875,498.0,501.3500061035156,498.0,491.2000122070313,496.25,527.7999877929688],\"yaxis\":\"y\"},{\"close\":[538.8499755859375,541.9500122070312,555.9500122070312,562.1500244140625,561.9000244140625,567.2999877929688,566.0999755859375,585.3499755859375,584.5499877929688,579.9500122070312,573.5,572.6500244140625,556.7000122070312,576.7000122070312,600.7000122070312,604.4000244140625,608.8499755859375,611.0,609.4000244140625,608.2000122070312,605.5,624.9500122070312,624.2999877929688,620.25,617.2999877929688,622.1500244140625,599.0999755859375,595.0499877929688,602.7000122070312,575.75,570.2000122070312,562.8499755859375,592.9000244140625,594.75,609.6500244140625,615.7999877929688,600.9000244140625,643.0499877929688,637.5499877929688,636.0999755859375,641.4000244140625,641.75,610.75,622.0999755859375,619.4500122070312,609.75,579.25,576.8499755859375,595.5,563.0,574.7999877929688,581.5999755859375,583.8499755859375,581.8499755859375,578.6500244140625,588.5,584.3499755859375,561.5499877929688,561.0999755859375,566.25,555.7999877929688,559.8499755859375,566.0,559.0999755859375,571.0499877929688,536.9500122070312,529.0499877929688,522.5499877929688,510.6000061035156,468.2999877929688,476.1000061035156,467.9500122070313,474.0,466.1000061035156,456.5,478.6499938964844,478.6000061035156,476.8500061035156,471.2000122070313,484.4500122070313,481.75,500.0499877929688,488.7000122070313,479.3500061035156,471.8999938964844,488.0499877929688,481.2000122070313,472.0499877929688,469.9500122070313,474.1000061035156,463.5499877929688,456.7000122070313,484.3999938964844,489.3999938964844,495.5,491.8500061035156,498.4500122070313,516.0999755859375,535.4500122070312,583.25,587.9500122070312,568.0,571.5499877929688,556.9500122070312,549.1500244140625,556.1500244140625,561.5499877929688,560.6500244140625,556.4500122070312,561.3499755859375,561.5,564.7999877929688,561.3499755859375,560.25,559.5,554.0999755859375,548.0999755859375,554.7000122070312,539.25,530.0,530.0,531.3499755859375,520.1500244140625,518.25,514.8499755859375,521.7000122070312,525.4500122070312,520.2999877929688,524.9000244140625,516.2999877929688,516.75,521.0,536.0499877929688,522.0499877929688,515.1500244140625,517.5,520.7999877929688,529.4500122070312,534.4000244140625,538.9000244140625,519.8499755859375,514.9000244140625,512.9000244140625,511.6000061035156,504.2000122070313,511.1000061035156,515.2000122070312],\"high\":[540.9000244140625,549.7999877929688,561.6500244140625,564.3499755859375,565.5,578.0,569.0,597.0999755859375,593.4500122070312,586.0,582.8499755859375,580.25,569.0999755859375,579.0,608.7000122070312,606.9000244140625,613.25,615.0,627.9000244140625,612.5,615.2999877929688,635.0,627.7000122070312,629.5499877929688,623.4000244140625,625.0,618.2000122070312,598.7000122070312,618.7999877929688,606.0,572.9000244140625,569.9000244140625,596.4000244140625,600.7000122070312,621.7000122070312,621.5,619.0,649.6500244140625,647.7000122070312,645.75,644.0,648.5999755859375,631.0999755859375,624.5,623.1500244140625,616.1500244140625,593.0,585.0,599.0,600.0,577.6500244140625,589.0,591.0,592.8499755859375,586.75,599.5999755859375,587.0,595.75,569.5999755859375,568.9000244140625,572.0499877929688,562.5,573.4000244140625,571.9500122070312,573.0,555.1500244140625,539.7999877929688,539.0,522.2999877929688,511.5,484.0,481.0,476.9500122070313,474.8500061035156,466.75,492.2000122070313,484.6000061035156,485.25,480.7999877929688,486.7000122070313,487.0,505.0,500.0,492.0,479.0499877929688,494.0,499.7999877929688,487.7000122070313,474.3500061035156,483.6499938964844,472.7999877929688,462.0,488.8999938964844,491.7000122070313,497.9500122070313,512.0,503.7999877929688,519.0,538.2000122070312,590.7999877929688,598.7000122070312,589.7000122070312,581.0,576.0,576.9500122070312,570.0,580.0,571.7999877929688,562.0,565.8499755859375,578.0,569.5,569.0,562.0999755859375,564.25,559.9500122070312,567.0,573.5999755859375,558.75,542.5999755859375,539.0,534.0,529.75,527.5999755859375,524.4000244140625,524.4000244140625,527.7999877929688,522.5999755859375,530.9500122070312,530.0,524.7999877929688,524.9000244140625,543.9000244140625,534.7000122070312,523.9500122070312,520.0,531.25,532.8499755859375,536.9000244140625,539.9000244140625,539.0,523.4500122070312,517.0999755859375,519.7999877929688,511.6000061035156,515.6500244140625,517.7999877929688],\"low\":[527.25,539.5999755859375,542.0,556.4000244140625,557.0999755859375,563.4000244140625,562.0,580.5499877929688,580.0,571.5499877929688,570.9500122070312,570.0,554.0,565.4500122070312,594.9500122070312,596.0499877929688,602.0,600.0999755859375,605.75,603.2000122070312,599.75,620.6500244140625,614.9500122070312,616.2999877929688,616.0,615.0499877929688,597.0,581.0,600.3499755859375,572.7000122070312,553.2000122070312,560.0,588.5999755859375,590.2999877929688,604.0,607.6500244140625,595.2000122070312,621.5,633.9500122070312,633.2000122070312,637.0,639.75,608.5,610.2000122070312,614.0999755859375,600.1500244140625,576.0499877929688,568.25,576.8499755859375,560.9000244140625,563.0499877929688,574.5,577.1500244140625,579.0,577.0,572.8499755859375,576.2999877929688,558.4500122070312,551.2000122070312,555.2000122070312,554.3499755859375,548.7000122070312,559.2000122070312,556.0999755859375,554.0,529.6500244140625,522.5999755859375,517.0,500.0,460.5,451.25,466.6000061035156,450.0,459.1499938964844,453.2999877929688,470.1499938964844,468.2000122070313,471.75,461.5499877929688,468.5,473.3500061035156,482.6499938964844,482.3999938964844,475.0,467.0,466.0499877929688,480.0499877929688,468.1000061035156,464.3500061035156,469.9500122070313,460.5,443.0,455.0,480.1000061035156,477.6499938964844,489.0,492.5,500.0,528.2000122070312,525.2000122070312,565.0499877929688,565.75,564.0,550.0999755859375,545.0999755859375,546.0,546.4000244140625,558.4000244140625,543.0999755859375,555.0,541.5,556.0499877929688,559.0,551.0,555.25,545.0999755859375,541.75,550.0,536.0499877929688,523.5499877929688,525.0,527.4000244140625,518.25,513.6500244140625,512.0999755859375,512.0499877929688,512.6500244140625,512.0,518.0,507.1000061035156,513.0,516.9500122070312,518.0999755859375,518.0999755859375,512.2999877929688,515.0,515.0999755859375,520.0,525.0,534.0,517.7999877929688,508.0,511.3500061035156,508.0,501.2000122070313,506.25,510.0],\"name\":\"OHLC\",\"open\":[535.75,543.3499755859375,543.8499755859375,559.9500122070312,564.7999877929688,566.0,568.4000244140625,590.0999755859375,587.0999755859375,575.0,581.0,571.9000244140625,569.0,571.0,595.9000244140625,604.5999755859375,607.0,606.0,619.9500122070312,610.0999755859375,602.5499877929688,627.2000122070312,615.2000122070312,620.0,616.0499877929688,615.0499877929688,618.0999755859375,598.0,610.0499877929688,606.0,553.2000122070312,567.2999877929688,594.2999877929688,593.0,620.0,611.0499877929688,616.0499877929688,632.0,643.0,643.0,640.0,645.5,628.0,610.75,622.0999755859375,610.0999755859375,586.0499877929688,583.0,577.4000244140625,600.0,575.7999877929688,574.9000244140625,585.2999877929688,585.0,585.9500122070312,581.5,577.5,585.0,560.5499877929688,562.0,566.0,557.7000122070312,559.7999877929688,568.7999877929688,562.1500244140625,550.0,536.9000244140625,522.5,520.0,511.5,468.2999877929688,477.0,465.0,469.7000122070313,465.0,470.6499938964844,481.0499877929688,478.0,474.5,471.8500061035156,483.75,483.8500061035156,500.0,489.3999938964844,476.0,468.0,489.0,481.5499877929688,470.0,469.9500122070313,470.8999938964844,460.5499877929688,456.7000122070313,486.7999877929688,489.7000122070313,497.0,495.9500122070313,500.8999938964844,535.5499877929688,534.0499877929688,584.0,584.9500122070312,564.0,566.0,560.4500122070312,557.7000122070312,558.2999877929688,561.5999755859375,560.6500244140625,558.0,560.6500244140625,561.6500244140625,564.0,559.0,561.0,559.5,567.0,568.25,555.0,541.9000244140625,538.0,531.75,529.2000122070312,527.5999755859375,524.4000244140625,512.0499877929688,520.0,518.0,522.5,521.5499877929688,516.0,516.9500122070312,521.0,533.0,512.2999877929688,517.2999877929688,518.0,520.0,525.0,539.0,538.9000244140625,520.5499877929688,515.3499755859375,513.5999755859375,506.25,506.25,514.4000244140625],\"type\":\"candlestick\",\"x\":[\"2019-02-26T00:00:00\",\"2019-02-28T00:00:00\",\"2019-03-01T00:00:00\",\"2019-03-05T00:00:00\",\"2019-03-06T00:00:00\",\"2019-03-07T00:00:00\",\"2019-03-08T00:00:00\",\"2019-03-13T00:00:00\",\"2019-03-14T00:00:00\",\"2019-03-18T00:00:00\",\"2019-03-20T00:00:00\",\"2019-03-22T00:00:00\",\"2019-03-25T00:00:00\",\"2019-03-28T00:00:00\",\"2019-04-01T00:00:00\",\"2019-04-02T00:00:00\",\"2019-04-03T00:00:00\",\"2019-04-04T00:00:00\",\"2019-04-08T00:00:00\",\"2019-04-09T00:00:00\",\"2019-04-11T00:00:00\",\"2019-04-16T00:00:00\",\"2019-04-18T00:00:00\",\"2019-04-22T00:00:00\",\"2019-04-23T00:00:00\",\"2019-04-24T00:00:00\",\"2019-04-26T00:00:00\",\"2019-04-30T00:00:00\",\"2019-05-03T00:00:00\",\"2019-05-06T00:00:00\",\"2019-05-08T00:00:00\",\"2019-05-09T00:00:00\",\"2019-05-16T00:00:00\",\"2019-05-17T00:00:00\",\"2019-05-22T00:00:00\",\"2019-05-23T00:00:00\",\"2019-05-24T00:00:00\",\"2019-05-28T00:00:00\",\"2019-05-29T00:00:00\",\"2019-05-31T00:00:00\",\"2019-06-03T00:00:00\",\"2019-06-04T00:00:00\",\"2019-06-07T00:00:00\",\"2019-06-10T00:00:00\",\"2019-06-11T00:00:00\",\"2019-06-13T00:00:00\",\"2019-06-18T00:00:00\",\"2019-06-19T00:00:00\",\"2019-06-20T00:00:00\",\"2019-06-21T00:00:00\",\"2019-06-25T00:00:00\",\"2019-06-26T00:00:00\",\"2019-06-27T00:00:00\",\"2019-06-28T00:00:00\",\"2019-07-01T00:00:00\",\"2019-07-02T00:00:00\",\"2019-07-04T00:00:00\",\"2019-07-05T00:00:00\",\"2019-07-08T00:00:00\",\"2019-07-09T00:00:00\",\"2019-07-10T00:00:00\",\"2019-07-11T00:00:00\",\"2019-07-12T00:00:00\",\"2019-07-15T00:00:00\",\"2019-07-16T00:00:00\",\"2019-07-18T00:00:00\",\"2019-07-19T00:00:00\",\"2019-07-22T00:00:00\",\"2019-07-23T00:00:00\",\"2019-07-24T00:00:00\",\"2019-07-25T00:00:00\",\"2019-07-30T00:00:00\",\"2019-07-31T00:00:00\",\"2019-08-01T00:00:00\",\"2019-08-05T00:00:00\",\"2019-08-07T00:00:00\",\"2019-08-08T00:00:00\",\"2019-08-09T00:00:00\",\"2019-08-13T00:00:00\",\"2019-08-14T00:00:00\",\"2019-08-16T00:00:00\",\"2019-08-19T00:00:00\",\"2019-08-20T00:00:00\",\"2019-08-21T00:00:00\",\"2019-08-22T00:00:00\",\"2019-08-26T00:00:00\",\"2019-08-27T00:00:00\",\"2019-08-28T00:00:00\",\"2019-08-29T00:00:00\",\"2019-08-30T00:00:00\",\"2019-09-03T00:00:00\",\"2019-09-04T00:00:00\",\"2019-09-05T00:00:00\",\"2019-09-06T00:00:00\",\"2019-09-09T00:00:00\",\"2019-09-11T00:00:00\",\"2019-09-12T00:00:00\",\"2019-09-13T00:00:00\",\"2019-09-19T00:00:00\",\"2019-09-20T00:00:00\",\"2019-09-23T00:00:00\",\"2019-09-25T00:00:00\",\"2019-09-26T00:00:00\",\"2019-09-27T00:00:00\",\"2019-09-30T00:00:00\",\"2019-10-01T00:00:00\",\"2019-10-03T00:00:00\",\"2019-10-04T00:00:00\",\"2019-10-07T00:00:00\",\"2019-10-09T00:00:00\",\"2019-10-10T00:00:00\",\"2019-10-11T00:00:00\",\"2019-10-14T00:00:00\",\"2019-10-15T00:00:00\",\"2019-10-16T00:00:00\",\"2019-10-17T00:00:00\",\"2019-10-24T00:00:00\",\"2019-11-04T00:00:00\",\"2019-11-05T00:00:00\",\"2019-11-06T00:00:00\",\"2019-11-07T00:00:00\",\"2019-11-11T00:00:00\",\"2019-11-13T00:00:00\",\"2019-11-15T00:00:00\",\"2019-11-18T00:00:00\",\"2019-11-19T00:00:00\",\"2019-11-20T00:00:00\",\"2019-11-22T00:00:00\",\"2019-11-25T00:00:00\",\"2019-11-26T00:00:00\",\"2019-11-27T00:00:00\",\"2019-11-28T00:00:00\",\"2019-11-29T00:00:00\",\"2019-12-02T00:00:00\",\"2019-12-04T00:00:00\",\"2019-12-06T00:00:00\",\"2019-12-10T00:00:00\",\"2019-12-11T00:00:00\",\"2019-12-12T00:00:00\",\"2019-12-13T00:00:00\",\"2019-12-16T00:00:00\",\"2019-12-18T00:00:00\",\"2019-12-19T00:00:00\",\"2019-12-20T00:00:00\",\"2019-12-23T00:00:00\",\"2019-12-24T00:00:00\",\"2019-12-26T00:00:00\"],\"xaxis\":\"x\",\"yaxis\":\"y\"},{\"mode\":\"lines\",\"name\":\"Net Worth (INR)\",\"type\":\"scatter\",\"x\":[\"2019-02-26T00:00:00\",\"2019-02-28T00:00:00\",\"2019-03-01T00:00:00\",\"2019-03-05T00:00:00\",\"2019-03-06T00:00:00\",\"2019-03-07T00:00:00\",\"2019-03-08T00:00:00\",\"2019-03-13T00:00:00\",\"2019-03-14T00:00:00\",\"2019-03-18T00:00:00\",\"2019-03-20T00:00:00\",\"2019-03-22T00:00:00\",\"2019-03-25T00:00:00\",\"2019-03-28T00:00:00\",\"2019-04-01T00:00:00\",\"2019-04-02T00:00:00\",\"2019-04-03T00:00:00\",\"2019-04-04T00:00:00\",\"2019-04-08T00:00:00\",\"2019-04-09T00:00:00\",\"2019-04-11T00:00:00\",\"2019-04-16T00:00:00\",\"2019-04-18T00:00:00\",\"2019-04-22T00:00:00\",\"2019-04-23T00:00:00\",\"2019-04-24T00:00:00\",\"2019-04-26T00:00:00\",\"2019-04-30T00:00:00\",\"2019-05-03T00:00:00\",\"2019-05-06T00:00:00\",\"2019-05-08T00:00:00\",\"2019-05-09T00:00:00\",\"2019-05-16T00:00:00\",\"2019-05-17T00:00:00\",\"2019-05-22T00:00:00\",\"2019-05-23T00:00:00\",\"2019-05-24T00:00:00\",\"2019-05-28T00:00:00\",\"2019-05-29T00:00:00\",\"2019-05-31T00:00:00\",\"2019-06-03T00:00:00\",\"2019-06-04T00:00:00\",\"2019-06-07T00:00:00\",\"2019-06-10T00:00:00\",\"2019-06-11T00:00:00\",\"2019-06-13T00:00:00\",\"2019-06-18T00:00:00\",\"2019-06-19T00:00:00\",\"2019-06-20T00:00:00\",\"2019-06-21T00:00:00\",\"2019-06-25T00:00:00\",\"2019-06-26T00:00:00\",\"2019-06-27T00:00:00\",\"2019-06-28T00:00:00\",\"2019-07-01T00:00:00\",\"2019-07-02T00:00:00\",\"2019-07-04T00:00:00\",\"2019-07-05T00:00:00\",\"2019-07-08T00:00:00\",\"2019-07-09T00:00:00\",\"2019-07-10T00:00:00\",\"2019-07-11T00:00:00\",\"2019-07-12T00:00:00\",\"2019-07-15T00:00:00\",\"2019-07-16T00:00:00\",\"2019-07-18T00:00:00\",\"2019-07-19T00:00:00\",\"2019-07-22T00:00:00\",\"2019-07-23T00:00:00\",\"2019-07-24T00:00:00\",\"2019-07-25T00:00:00\",\"2019-07-30T00:00:00\",\"2019-07-31T00:00:00\",\"2019-08-01T00:00:00\",\"2019-08-05T00:00:00\",\"2019-08-07T00:00:00\",\"2019-08-08T00:00:00\",\"2019-08-09T00:00:00\",\"2019-08-13T00:00:00\",\"2019-08-14T00:00:00\",\"2019-08-16T00:00:00\",\"2019-08-19T00:00:00\",\"2019-08-20T00:00:00\",\"2019-08-21T00:00:00\",\"2019-08-22T00:00:00\",\"2019-08-26T00:00:00\",\"2019-08-27T00:00:00\",\"2019-08-28T00:00:00\",\"2019-08-29T00:00:00\",\"2019-08-30T00:00:00\",\"2019-09-03T00:00:00\",\"2019-09-04T00:00:00\",\"2019-09-05T00:00:00\",\"2019-09-06T00:00:00\",\"2019-09-09T00:00:00\",\"2019-09-11T00:00:00\",\"2019-09-12T00:00:00\",\"2019-09-13T00:00:00\",\"2019-09-19T00:00:00\",\"2019-09-20T00:00:00\",\"2019-09-23T00:00:00\",\"2019-09-25T00:00:00\",\"2019-09-26T00:00:00\",\"2019-09-27T00:00:00\",\"2019-09-30T00:00:00\",\"2019-10-01T00:00:00\",\"2019-10-03T00:00:00\",\"2019-10-04T00:00:00\",\"2019-10-07T00:00:00\",\"2019-10-09T00:00:00\",\"2019-10-10T00:00:00\",\"2019-10-11T00:00:00\",\"2019-10-14T00:00:00\",\"2019-10-15T00:00:00\",\"2019-10-16T00:00:00\",\"2019-10-17T00:00:00\",\"2019-10-24T00:00:00\",\"2019-11-04T00:00:00\",\"2019-11-05T00:00:00\",\"2019-11-06T00:00:00\",\"2019-11-07T00:00:00\",\"2019-11-11T00:00:00\",\"2019-11-13T00:00:00\",\"2019-11-15T00:00:00\",\"2019-11-18T00:00:00\",\"2019-11-19T00:00:00\",\"2019-11-20T00:00:00\",\"2019-11-22T00:00:00\",\"2019-11-25T00:00:00\",\"2019-11-26T00:00:00\",\"2019-11-27T00:00:00\",\"2019-11-28T00:00:00\",\"2019-11-29T00:00:00\",\"2019-12-02T00:00:00\",\"2019-12-04T00:00:00\",\"2019-12-06T00:00:00\",\"2019-12-10T00:00:00\",\"2019-12-11T00:00:00\",\"2019-12-12T00:00:00\",\"2019-12-13T00:00:00\",\"2019-12-16T00:00:00\",\"2019-12-18T00:00:00\",\"2019-12-19T00:00:00\",\"2019-12-20T00:00:00\",\"2019-12-23T00:00:00\",\"2019-12-24T00:00:00\",\"2019-12-26T00:00:00\"],\"xaxis\":\"x2\",\"y\":[10000.0,10000.0,10000.0,10000.0,10000.0,10000.0,10000.0,10000.0,10000.0,10000.0,10000.0,10000.0,10000.0,10000.0,10479.156870196133,10550.554618687274,10584.115683229344,10580.110501058076,10613.74521801116,10587.066258216099,10560.617516081778,10677.954691492021,10613.96851354103,10566.433264667801,10501.964004310445,10501.964004310445,10469.978692649955,10146.627012903498,10146.627012903498,10146.627012903498,10146.627012903498,10146.627012903498,10146.627012903498,10150.452001951522,10540.991924316273,10472.016593043138,10373.734456767843,10798.091386521444,10946.94872493509,10955.060958996564,10945.720412285826,10991.007297081458,10606.351324670444,10551.656986392625,10619.117523903831,10582.991344972279,10507.663315922,10461.189021788468,10448.08906800342,10242.86768764465,10389.315707342213,10433.695811647627,10458.431519533773,10452.418200153028,10419.659214707885,10454.28263529158,10384.920919799875,10373.429363471718,10105.998775167513,10198.550707124461,10190.269625970173,10177.349513887342,10197.323629364528,10193.64342671426,10201.50740659719,9688.928018804303,9646.425934329416,9424.399028127606,9240.678911170111,8804.97438908712,8759.220979940601,8827.448927370506,8819.68108717372,8730.24494025628,8601.232542633243,8820.242988391563,8946.056686447437,8896.238788060977,8820.36592959409,8827.525312433498,8976.157134749725,9197.40347209349,9226.754576285168,8942.606272301373,8860.49486631634,9000.270447900475,8999.201203568593,8855.78069972418,8761.886568883843,8766.795581237773,8674.228037084014,8582.328235041125,8701.607462098202,9053.22275557065,9105.911886248428,9139.331024576037,9243.943809115946,9380.701900215297,9876.335626187118,10444.776260919996,10558.53129222593,10494.515513730512,10459.364573038236,10402.941892562056,10385.566657110467,10380.917988034933,10409.154599553112,10411.416342229551,10401.543833194071,10407.097616576673,10429.33638029691,10453.137819201915,10458.60043478373,10428.314376483813,10428.056194906578,10360.535477251637,10435.581600646161,10366.290832883149,10140.501574881391,10077.194729533616,9976.30496786281,9973.637986442545,9825.962711960286,9772.615641345426,9855.946937004048,9695.397440905828,9820.15115618256,9768.305525742046,9867.152669627727,9811.149940939695,9732.900814735729,9732.900814735729,9732.900814735729,9636.686519225643,9383.052636029326,9438.132065846272,9470.036907887925,9516.645606188158,9640.056887530975,9825.829300030235,9782.819631675744,9485.002733801812,9380.371731084888,9367.251730227636,9228.722416329372,9250.126035476935,9390.11499291109],\"yaxis\":\"y2\"}],                        {\"annotations\":[{\"font\":{\"size\":16},\"showarrow\":false,\"text\":\"RL Algorithm: PPO2_MLP - Trade Count [Buy: 19 | Sell: 12 | Hold: 116]\",\"x\":0.5,\"xanchor\":\"center\",\"xref\":\"paper\",\"y\":0.9999999999999999,\"yanchor\":\"bottom\",\"yref\":\"paper\"},{\"font\":{\"size\":16},\"showarrow\":false,\"text\":\"Initial Investment (INR): 10000.0 | Net Worth (INR): 9390.11 | Profit (INR): -609.89 | Profit (%): -6.1%\",\"x\":0.5,\"xanchor\":\"center\",\"xref\":\"paper\",\"y\":0.2375,\"yanchor\":\"bottom\",\"yref\":\"paper\"}],\"height\":600,\"margin\":{\"b\":100,\"l\":50,\"pad\":4,\"r\":50,\"t\":100},\"shapes\":[{\"line\":{\"color\":\"firebrick\",\"dash\":\"dot\",\"width\":1},\"name\":\"Initial Balance\",\"type\":\"line\",\"x0\":0,\"x1\":1,\"xref\":\"x2 domain\",\"y0\":10000,\"y1\":10000,\"yref\":\"y2\"}],\"template\":{\"data\":{\"scatter\":[{\"type\":\"scatter\"}]}},\"width\":1000,\"xaxis\":{\"anchor\":\"y\",\"domain\":[0.0,1.0],\"matches\":\"x2\",\"rangeslider\":{\"visible\":false},\"showticklabels\":false,\"tickfont\":{\"size\":12}},\"xaxis2\":{\"anchor\":\"y2\",\"domain\":[0.0,1.0]},\"yaxis\":{\"anchor\":\"x\",\"domain\":[0.2875,0.9999999999999999],\"tickfont\":{\"size\":10},\"title\":{\"font\":{\"size\":14},\"text\":\"Price (INR/share)\"}},\"yaxis2\":{\"anchor\":\"x2\",\"domain\":[0.0,0.2375]}},                        {\"responsive\": true}                    ).then(function(){\n",
       "                            \n",
       "var gd = document.getElementById('9ef5cd1d-43ac-407e-b175-17083a535f01');\n",
       "var x = new MutationObserver(function (mutations, observer) {{\n",
       "        var display = window.getComputedStyle(gd).display;\n",
       "        if (!display || display === 'none') {{\n",
       "            console.log([gd, 'removed!']);\n",
       "            Plotly.purge(gd);\n",
       "            observer.disconnect();\n",
       "        }}\n",
       "}});\n",
       "\n",
       "// Listen for the removal of the full notebook cells\n",
       "var notebookContainer = gd.closest('#notebook-container');\n",
       "if (notebookContainer) {{\n",
       "    x.observe(notebookContainer, {childList: true});\n",
       "}}\n",
       "\n",
       "// Listen for the clearing of the current output cell\n",
       "var outputEl = gd.closest('.output');\n",
       "if (outputEl) {{\n",
       "    x.observe(outputEl, {childList: true});\n",
       "}}\n",
       "\n",
       "                        })                };                });            </script>        </div>"
      ]
     },
     "metadata": {},
     "output_type": "display_data"
    }
   ],
   "source": [
    "display_trades(trades)"
   ]
  },
  {
   "cell_type": "code",
   "execution_count": 23,
   "id": "22e1baec",
   "metadata": {
    "scrolled": true
   },
   "outputs": [],
   "source": [
    "# # %load_ext tensorboard\n",
    "# %reload_ext tensorboard\n",
    "# %tensorboard \\\n",
    "#     --host localhost \\\n",
    "#     --port 8080\\\n",
    "#     --logdir \".\\\\tensorboard\\\\PPO2_MLP_Test\""
   ]
  },
  {
   "cell_type": "markdown",
   "id": "7fbe3710",
   "metadata": {},
   "source": [
    "To view: http://localhost:8080/ <br>\n",
    "To kill: `taskkill /IM \"tensorboard.exe\" /F`"
   ]
  },
  {
   "cell_type": "code",
   "execution_count": 24,
   "id": "add6b06e",
   "metadata": {},
   "outputs": [
    {
     "data": {
      "text/plain": [
       "ERROR: Timed out waiting for TensorBoard to start. It may still be running as pid 28336."
      ]
     },
     "metadata": {},
     "output_type": "display_data"
    }
   ],
   "source": [
    "%load_ext tensorboard\n",
    "# %reload_ext tensorboard\n",
    "%tensorboard \\\n",
    "    --host localhost \\\n",
    "    --port 8080\\\n",
    "    --logdir \".\\\\tensorboard\\\\PPO2_MLP_Test\""
   ]
  }
 ],
 "metadata": {
  "kernelspec": {
   "display_name": "Python 3 (ipykernel)",
   "language": "python",
   "name": "python3"
  },
  "language_info": {
   "codemirror_mode": {
    "name": "ipython",
    "version": 3
   },
   "file_extension": ".py",
   "mimetype": "text/x-python",
   "name": "python",
   "nbconvert_exporter": "python",
   "pygments_lexer": "ipython3",
   "version": "3.7.11"
  }
 },
 "nbformat": 4,
 "nbformat_minor": 5
}
