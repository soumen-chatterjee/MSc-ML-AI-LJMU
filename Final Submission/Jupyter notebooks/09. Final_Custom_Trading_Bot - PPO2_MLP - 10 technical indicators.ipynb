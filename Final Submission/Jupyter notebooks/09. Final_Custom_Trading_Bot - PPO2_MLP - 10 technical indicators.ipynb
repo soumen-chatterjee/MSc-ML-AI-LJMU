{
 "cells": [
  {
   "cell_type": "code",
   "execution_count": 1,
   "id": "e086698b",
   "metadata": {},
   "outputs": [
    {
     "data": {
      "text/html": [
       "        <script type=\"text/javascript\">\n",
       "        window.PlotlyConfig = {MathJaxConfig: 'local'};\n",
       "        if (window.MathJax) {MathJax.Hub.Config({SVG: {font: \"STIX-Web\"}});}\n",
       "        if (typeof require !== 'undefined') {\n",
       "        require.undef(\"plotly\");\n",
       "        requirejs.config({\n",
       "            paths: {\n",
       "                'plotly': ['https://cdn.plot.ly/plotly-2.4.2.min']\n",
       "            }\n",
       "        });\n",
       "        require(['plotly'], function(Plotly) {\n",
       "            window._Plotly = Plotly;\n",
       "        });\n",
       "        }\n",
       "        </script>\n",
       "        "
      ]
     },
     "metadata": {},
     "output_type": "display_data"
    }
   ],
   "source": [
    "import pandas as pd\n",
    "import numpy as np\n",
    "import random\n",
    "from collections import deque\n",
    "import json\n",
    "import talib\n",
    "import gym\n",
    "from gym import spaces\n",
    "from sklearn import preprocessing\n",
    "scaler = preprocessing.MinMaxScaler()\n",
    "import warnings\n",
    "warnings.filterwarnings('ignore')\n",
    "\n",
    "import plotly.offline as pyo\n",
    "import plotly.graph_objects as go\n",
    "from plotly.subplots import make_subplots\n",
    "\n",
    "pyo.init_notebook_mode(connected=True)\n",
    "\n",
    "import tensorflow as tf\n",
    "tf.get_logger().setLevel('ERROR')\n",
    "\n",
    "class StockTradingEnv(gym.Env):\n",
    "    \"\"\"A stock trading environment for OpenAI gym\"\"\"\n",
    "    metadata = {'render.modes': ['cli', 'gui']}\n",
    "\n",
    "    def preprocess_data(self, df):\n",
    "        self.df_orig=df.copy(deep=True)\n",
    "        logScale = pd.DataFrame(np.log(df.Close))\n",
    "        df[\"CloseLogDiff\"] = logScale - logScale.shift()\n",
    "        df['Return'] = df.Close.pct_change()\n",
    "        df['Return_5'] = df.Close.pct_change(5)\n",
    "        df['Return_10'] = df.Close.pct_change(10)\n",
    "        df['Return_15'] = df.Close.pct_change(15)\n",
    "        df['RSI'] = talib.STOCHRSI(df.Close)[1]\n",
    "        df['MACD'] = talib.MACD(df.Close)[1]\n",
    "        df['ATR'] = talib.ATR(df.High, df.Low, df.Close)\n",
    "        slowk, slowd = talib.STOCH(df.High, df.Low, df.Close)\n",
    "        df['STOCH'] = slowd - slowk\n",
    "        df['ULTOSC'] = talib.ULTOSC(df.High, df.Low, df.Close)\n",
    "        df.fillna(method='bfill', inplace=True)\n",
    "        return df\n",
    "    \n",
    "    def __init__(self, df, initial_balance=10000, lookback_window_size=30):\n",
    "        # Define action space and state size and other custom parameters\n",
    "        self.df = self.preprocess_data(df)\n",
    "        self.df = df.dropna().reset_index()\n",
    "        self.df_total_steps = len(self.df)-1\n",
    "        self.initial_balance = initial_balance\n",
    "        self.lookback_window_size = lookback_window_size\n",
    "\n",
    "        # Action space from 0 to 3, 0 is hold, 1 is buy, 2 is sell\n",
    "        self.action_space = spaces.Box(low=np.array([0,0]), high=np.array([3,1]), dtype=np.float16)\n",
    "\n",
    "        # Orders history contains the balance, net_worth, stock_bought, stock_sold, stock_held values for the last lookback_window_size steps\n",
    "        self.orders_history = deque(maxlen=self.lookback_window_size)\n",
    "        \n",
    "        # Market history contains the OHCL values for the last lookback_window_size prices\n",
    "        self.market_history = deque(maxlen=self.lookback_window_size)\n",
    "\n",
    "        # State size contains Market+Orders history for the last lookback_window_size steps\n",
    "        self.state_size = (self.lookback_window_size, 10)\n",
    "\n",
    "        self.observation_space = spaces.Box(low=0, high=1, shape=(lookback_window_size,15), dtype=np.float16)\n",
    "        \n",
    "    # Reset the state of the environment to an initial state\n",
    "    def reset(self, env_steps_size = 201):\n",
    "        self.display_reward = 0\n",
    "        self.balance = self.initial_balance\n",
    "        self.net_worth = self.initial_balance\n",
    "        self.prev_net_worth = self.initial_balance\n",
    "        self.stock_held = 0\n",
    "        self.stock_sold = 0\n",
    "        self.stock_bought = 0\n",
    "        \n",
    "        if env_steps_size > 0: # used for training dataset\n",
    "            self.start_step = random.randint(self.lookback_window_size, self.df_total_steps - env_steps_size - 1)\n",
    "            self.end_step = self.start_step + env_steps_size\n",
    "        \n",
    "        else: # used for testing dataset\n",
    "            self.start_step = self.lookback_window_size\n",
    "            self.end_step = self.df_total_steps\n",
    "            \n",
    "        self.current_step = self.start_step\n",
    "\n",
    "        for i in reversed(range(self.lookback_window_size)):\n",
    "            current_step = self.current_step - i\n",
    "            self.orders_history.append([self.balance, self.net_worth, self.stock_bought, self.stock_sold, self.stock_held])\n",
    "            self.market_history.append([self.df.loc[current_step, 'CloseLogDiff'],\n",
    "                                        self.df.loc[current_step, 'Return'],\n",
    "                                        self.df.loc[current_step, 'Return_5'],\n",
    "                                        self.df.loc[current_step, 'Return_10'],\n",
    "                                        self.df.loc[current_step, 'Return_15'],\n",
    "                                        self.df.loc[current_step, 'RSI'],\n",
    "                                        self.df.loc[current_step, 'MACD'],\n",
    "                                        self.df.loc[current_step, 'ATR'],\n",
    "                                        self.df.loc[current_step, 'STOCH'],\n",
    "                                        self.df.loc[current_step, 'ULTOSC']\n",
    "                                        ])\n",
    "\n",
    "        state = np.concatenate((self.market_history, self.orders_history), axis=1)\n",
    "        self.trades = []\n",
    "        return state\n",
    "\n",
    "    # Get the data points for the given current_step\n",
    "    def _next_observation(self):\n",
    "        self.market_history.append([self.df.loc[self.current_step, 'CloseLogDiff'],\n",
    "                                    self.df.loc[self.current_step, 'Return'],\n",
    "                                    self.df.loc[self.current_step, 'Return_5'],\n",
    "                                    self.df.loc[self.current_step, 'Return_10'],\n",
    "                                    self.df.loc[self.current_step, 'Return_15'],\n",
    "                                    self.df.loc[self.current_step, 'RSI'],\n",
    "                                    self.df.loc[self.current_step, 'MACD'],\n",
    "                                    self.df.loc[self.current_step, 'ATR'],\n",
    "                                    self.df.loc[self.current_step, 'STOCH'],\n",
    "                                    self.df.loc[self.current_step, 'ULTOSC'],\n",
    "                                    ])\n",
    "        obs = np.concatenate((self.market_history, self.orders_history), axis=1)\n",
    "        return obs\n",
    "\n",
    "    # Execute one time step within the environment\n",
    "    def step(self, action):\n",
    "        self.stock_bought = 0\n",
    "        self.stock_sold = 0\n",
    "        self.current_step += 1\n",
    "\n",
    "        action_type = action[0]\n",
    "        action_percent = action[1]\n",
    "        \n",
    "        # Set the current price to a random price between open and close\n",
    "        current_price = random.uniform(\n",
    "            self.df.loc[self.current_step, 'Open'],\n",
    "            self.df.loc[self.current_step, 'Close'])\n",
    "        \n",
    "        if action_type < 1: # Hold\n",
    "\n",
    "            self.trades.append({'Date': str(self.df_orig.index[self.current_step]).rstrip(\"00:00:00\"),\n",
    "                                'Open': self.df_orig.Open[self.current_step],\n",
    "                                'High': self.df_orig.High[self.current_step],\n",
    "                                'Low': self.df_orig.Low[self.current_step],\n",
    "                                'Close': self.df_orig.Close[self.current_step],\n",
    "                                'Adj Close': self.df_orig['Adj Close'][self.current_step],\n",
    "                                'Volume': self.df_orig.Volume[self.current_step],\n",
    "                                'Net Worth': self.balance + self.stock_held * current_price,\n",
    "                                'Current Price': current_price,\n",
    "                                'Shares': self.stock_held,\n",
    "                                'Type': \"Hold\"})\n",
    "\n",
    "        elif action_type < 2 and int((self.balance * action_percent) / current_price) >= 1:\n",
    "            # Buy with % of current balance\n",
    "            self.stock_bought = int((self.balance * action_percent) / current_price)\n",
    "            self.balance -= self.stock_bought * current_price\n",
    "            self.stock_held += self.stock_bought\n",
    "                        \n",
    "            self.trades.append({'Date': str(self.df_orig.index[self.current_step]).rstrip(\"00:00:00\"),\n",
    "                                'Open': self.df_orig.Open[self.current_step],\n",
    "                                'High': self.df_orig.High[self.current_step],\n",
    "                                'Low': self.df_orig.Low[self.current_step],\n",
    "                                'Close': self.df_orig.Close[self.current_step],\n",
    "                                'Adj Close': self.df_orig['Adj Close'][self.current_step],\n",
    "                                'Volume': self.df_orig.Volume[self.current_step],\n",
    "                                'Net Worth': self.balance + self.stock_held * current_price,\n",
    "                                'Current Price': current_price,\n",
    "                                'Shares': self.stock_bought,\n",
    "                                'Type': \"Buy\"})\n",
    "\n",
    "        elif action_type < 3 and int(self.stock_held * action_percent) >= 1:\n",
    "            # Sell % of current stock held\n",
    "            self.stock_sold = int(self.stock_held * action_percent)\n",
    "            self.balance += self.stock_sold * current_price\n",
    "            self.stock_held -= self.stock_sold\n",
    "\n",
    "            self.trades.append({'Date': str(self.df_orig.index[self.current_step]).rstrip(\"00:00:00\"),\n",
    "                                'Open': self.df_orig.Open[self.current_step],\n",
    "                                'High': self.df_orig.High[self.current_step],\n",
    "                                'Low': self.df_orig.Low[self.current_step],\n",
    "                                'Close': self.df_orig.Close[self.current_step],\n",
    "                                'Adj Close': self.df_orig['Adj Close'][self.current_step],\n",
    "                                'Volume': self.df_orig.Volume[self.current_step],\n",
    "                                'Net Worth': self.balance + self.stock_held * current_price,\n",
    "                                'Current Price': current_price,\n",
    "                                'Shares': self.stock_sold,\n",
    "                                'Type': \"Sell\"})\n",
    "\n",
    "            \n",
    "        self.prev_net_worth = self.net_worth\n",
    "        self.net_worth = self.balance + self.stock_held * current_price\n",
    "\n",
    "        self.orders_history.append([self.balance, self.net_worth, self.stock_bought, self.stock_sold, self.stock_held])\n",
    "\n",
    "        # Calculate reward\n",
    "        reward = int((self.net_worth - self.initial_balance))\n",
    "        self.display_reward = reward\n",
    "        \n",
    "        if self.net_worth <= self.initial_balance/2:\n",
    "            done = True\n",
    "        elif self.current_step > self.end_step:\n",
    "            done = True\n",
    "        else:\n",
    "            done = False\n",
    "\n",
    "\n",
    "        obs = self._next_observation()\n",
    "\n",
    "        info = {'Step': self.current_step, 'Trades' : self.trades}\n",
    "    \n",
    "        return obs, reward, done, info\n",
    "\n",
    "    # render environment\n",
    "    def render(self, mode='cli'):\n",
    "        if mode == 'cli':\n",
    "            self.profit = self.net_worth - self.initial_balance\n",
    "            print('Step:%5d, Date: %10s, Reward:%4d, Stock [Held: %3d, Bought: %3d, Sold :%3d], NetWorth: %5.2f, Profit: %5.2f' % \n",
    "                      (self.current_step, str(self.df_orig.index[self.current_step]).rstrip(\"00:00:00\"),\n",
    "                       self.display_reward, self.stock_held, self.stock_bought, self.stock_sold, self.net_worth, self.profit))\n",
    "        if mode == 'gui':\n",
    "            pass\n"
   ]
  },
  {
   "cell_type": "code",
   "execution_count": 2,
   "id": "f897319f",
   "metadata": {},
   "outputs": [],
   "source": [
    "# Change the working directory to the currect path (of .ipynb and csv)\n",
    "import os\n",
    "import sys\n",
    "import math \n",
    "os.chdir(sys.path[0])  \n",
    "df = pd.read_csv('./KAJARIACER.csv')\n",
    "df = df.sort_values('Date')"
   ]
  },
  {
   "cell_type": "code",
   "execution_count": 3,
   "id": "70ad9189",
   "metadata": {},
   "outputs": [],
   "source": [
    "df['Date'] = pd.to_datetime(df['Date']) # Convert \"Date\" to datetime object.\n",
    "df.sort_values('Date', ascending=True, inplace=True) # Sort the \"Date\" Column by the values.\n",
    "df.set_index('Date', inplace=True) # Set the DataFrame index using \"Date\" Column."
   ]
  },
  {
   "cell_type": "code",
   "execution_count": 4,
   "id": "a1e787c9",
   "metadata": {
    "scrolled": true
   },
   "outputs": [
    {
     "data": {
      "text/html": [
       "<div>\n",
       "<style scoped>\n",
       "    .dataframe tbody tr th:only-of-type {\n",
       "        vertical-align: middle;\n",
       "    }\n",
       "\n",
       "    .dataframe tbody tr th {\n",
       "        vertical-align: top;\n",
       "    }\n",
       "\n",
       "    .dataframe thead th {\n",
       "        text-align: right;\n",
       "    }\n",
       "</style>\n",
       "<table border=\"1\" class=\"dataframe\">\n",
       "  <thead>\n",
       "    <tr style=\"text-align: right;\">\n",
       "      <th></th>\n",
       "      <th>Open</th>\n",
       "      <th>High</th>\n",
       "      <th>Low</th>\n",
       "      <th>Close</th>\n",
       "      <th>Adj Close</th>\n",
       "      <th>Volume</th>\n",
       "    </tr>\n",
       "    <tr>\n",
       "      <th>Date</th>\n",
       "      <th></th>\n",
       "      <th></th>\n",
       "      <th></th>\n",
       "      <th></th>\n",
       "      <th></th>\n",
       "      <th></th>\n",
       "    </tr>\n",
       "  </thead>\n",
       "  <tbody>\n",
       "    <tr>\n",
       "      <th>2010-01-04</th>\n",
       "      <td>26.049999</td>\n",
       "      <td>28.200001</td>\n",
       "      <td>26.049999</td>\n",
       "      <td>27.000000</td>\n",
       "      <td>23.964306</td>\n",
       "      <td>877408</td>\n",
       "    </tr>\n",
       "    <tr>\n",
       "      <th>2010-01-05</th>\n",
       "      <td>27.125000</td>\n",
       "      <td>28.200001</td>\n",
       "      <td>26.875000</td>\n",
       "      <td>27.125000</td>\n",
       "      <td>24.075254</td>\n",
       "      <td>508398</td>\n",
       "    </tr>\n",
       "    <tr>\n",
       "      <th>2010-01-06</th>\n",
       "      <td>27.500000</td>\n",
       "      <td>28.400000</td>\n",
       "      <td>26.625000</td>\n",
       "      <td>26.825001</td>\n",
       "      <td>23.808989</td>\n",
       "      <td>402216</td>\n",
       "    </tr>\n",
       "    <tr>\n",
       "      <th>2010-01-07</th>\n",
       "      <td>27.250000</td>\n",
       "      <td>27.549999</td>\n",
       "      <td>26.850000</td>\n",
       "      <td>27.100000</td>\n",
       "      <td>24.053064</td>\n",
       "      <td>478980</td>\n",
       "    </tr>\n",
       "    <tr>\n",
       "      <th>2010-01-08</th>\n",
       "      <td>27.250000</td>\n",
       "      <td>28.025000</td>\n",
       "      <td>26.525000</td>\n",
       "      <td>26.700001</td>\n",
       "      <td>23.698040</td>\n",
       "      <td>366642</td>\n",
       "    </tr>\n",
       "  </tbody>\n",
       "</table>\n",
       "</div>"
      ],
      "text/plain": [
       "                 Open       High        Low      Close  Adj Close  Volume\n",
       "Date                                                                     \n",
       "2010-01-04  26.049999  28.200001  26.049999  27.000000  23.964306  877408\n",
       "2010-01-05  27.125000  28.200001  26.875000  27.125000  24.075254  508398\n",
       "2010-01-06  27.500000  28.400000  26.625000  26.825001  23.808989  402216\n",
       "2010-01-07  27.250000  27.549999  26.850000  27.100000  24.053064  478980\n",
       "2010-01-08  27.250000  28.025000  26.525000  26.700001  23.698040  366642"
      ]
     },
     "execution_count": 4,
     "metadata": {},
     "output_type": "execute_result"
    }
   ],
   "source": [
    "df.head()"
   ]
  },
  {
   "cell_type": "code",
   "execution_count": 5,
   "id": "af8de10b",
   "metadata": {},
   "outputs": [],
   "source": [
    "def Random_games(env):\n",
    "    env.reset()\n",
    "    for _ in range(10):\n",
    "        env.render()\n",
    "        action=env.action_space.sample()\n",
    "#         print(action)\n",
    "        env.step(action) # take a random action\n",
    "    env.close()"
   ]
  },
  {
   "cell_type": "code",
   "execution_count": 6,
   "id": "39bfbd7b",
   "metadata": {},
   "outputs": [],
   "source": [
    "import talib\n",
    "import pandas as pd\n",
    "\n",
    "\n",
    "diff = lambda x, y: x - y\n",
    "abs_diff = lambda x, y: abs(x - y)\n",
    "\n",
    "\n",
    "indicators = [\n",
    "    ('RSI', talib.STOCHRSI, ['Close'])    \n",
    "]\n",
    "\n",
    "\n",
    "def add_indicators(df) -> pd.DataFrame:\n",
    "    for name, f, arg_names in indicators:\n",
    "        wrapper = lambda func, args: func(*args)\n",
    "        args = [df[arg_name] for arg_name in arg_names]\n",
    "        df[name] = wrapper(f, args)\n",
    "    df.fillna(method='bfill', inplace=True)\n",
    "    return df"
   ]
  },
  {
   "cell_type": "code",
   "execution_count": 7,
   "id": "ffa8b165",
   "metadata": {
    "scrolled": true
   },
   "outputs": [],
   "source": [
    "import gym\n",
    "import json\n",
    "import datetime as dt\n",
    "from stable_baselines.common.policies import MlpPolicy\n",
    "from stable_baselines.common.vec_env import DummyVecEnv\n",
    "from stable_baselines import PPO2\n",
    "# from StockTradingEnv import StockTradingEnv"
   ]
  },
  {
   "cell_type": "code",
   "execution_count": 8,
   "id": "7f3a7bf4",
   "metadata": {},
   "outputs": [],
   "source": [
    "# Train data = 70%, Validation data = 20%, Test data = 10%  \n",
    "train_range = math.floor(len(df.index)*.7)\n",
    "val_range = math.floor(len(df.index)*.2)\n",
    "test_range = math.floor(len(df.index)*.1)\n",
    "\n",
    "# Train DataFrame\n",
    "train_df = df[:train_range].sort_index()\n",
    "\n",
    "# Validation DataFrame\n",
    "val_df = df[train_range:train_range + val_range].sort_index()\n",
    "\n",
    "# Test DataFrame\n",
    "test_df = df[(train_range + val_range):(train_range + val_range + test_range)].sort_index()"
   ]
  },
  {
   "cell_type": "code",
   "execution_count": 9,
   "id": "ea6ae7a6",
   "metadata": {},
   "outputs": [],
   "source": [
    "import optuna\n",
    "from optuna import Trial, visualization\n",
    "\n",
    "from optuna.samplers import TPESampler"
   ]
  },
  {
   "cell_type": "code",
   "execution_count": 10,
   "id": "f5c5ef7c",
   "metadata": {},
   "outputs": [],
   "source": [
    "def optimize_ppo2_mlp(trial):\n",
    "    return {\n",
    "        'n_steps': int(trial.suggest_loguniform('n_steps', 16, 2048)),\n",
    "        'gamma': trial.suggest_loguniform('gamma', 0.9, 0.9999),\n",
    "        'learning_rate': trial.suggest_loguniform('learning_rate', 1e-5, 1.),\n",
    "        'ent_coef': trial.suggest_loguniform('ent_coef', 1e-8, 1e-1),\n",
    "        'cliprange': trial.suggest_uniform('cliprange', 0.1, 0.4),\n",
    "        'noptepochs': int(trial.suggest_loguniform('noptepochs', 1, 48)),\n",
    "        'lam': trial.suggest_uniform('lam', 0.8, 1.)\n",
    "    }"
   ]
  },
  {
   "cell_type": "code",
   "execution_count": 11,
   "id": "5f15c9f6",
   "metadata": {},
   "outputs": [],
   "source": [
    "def objective_ppo2_mlp(trial):\n",
    "    agent_params = optimize_ppo2_mlp(trial)\n",
    "    \n",
    "    train_env = DummyVecEnv([lambda: StockTradingEnv(train_df)])\n",
    "    model = PPO2(MlpPolicy, train_env, nminibatches=1, **agent_params,  tensorboard_log=\"./tensorboard/PPO2_MLP\")\n",
    "    \n",
    "    model.learn(total_timesteps=len(train_df))\n",
    "    \n",
    "    rewards, done = [], False\n",
    "\n",
    "    val_env = DummyVecEnv([lambda: StockTradingEnv(val_df)])\n",
    "    obs = val_env.reset()\n",
    "    \n",
    "    for i in range(len(val_df)):\n",
    "        action, _states = model.predict(obs, deterministic=False)\n",
    "        obs, reward, done, info = val_env.step(action)\n",
    "        rewards.append(reward)\n",
    "        \n",
    "    return -np.mean(rewards)"
   ]
  },
  {
   "cell_type": "code",
   "execution_count": 12,
   "id": "d13c1bfc",
   "metadata": {},
   "outputs": [
    {
     "name": "stderr",
     "output_type": "stream",
     "text": [
      "\u001b[32m[I 2022-04-10 10:58:02,243]\u001b[0m A new study created in RDB with name: PPO2_MLP_optimize_profit\u001b[0m\n",
      "\u001b[32m[I 2022-04-10 10:58:25,320]\u001b[0m Trial 1 finished with value: 1092.2906494140625 and parameters: {'n_steps': 799.3245448629137, 'gamma': 0.9516877534778488, 'learning_rate': 0.006247350420059821, 'ent_coef': 7.687110416905082e-08, 'cliprange': 0.28345253692709843, 'noptepochs': 4.439588881911275, 'lam': 0.9961116007730965}. Best is trial 1 with value: 1092.2906494140625.\u001b[0m\n",
      "\u001b[32m[I 2022-04-10 10:58:27,480]\u001b[0m Trial 0 finished with value: -0.0 and parameters: {'n_steps': 124.85510579857383, 'gamma': 0.9699742264854411, 'learning_rate': 0.13885105287002955, 'ent_coef': 4.6291274861937185e-07, 'cliprange': 0.10535447774891055, 'noptepochs': 9.012785503634982, 'lam': 0.9062333248933477}. Best is trial 0 with value: 0.0.\u001b[0m\n",
      "\u001b[32m[I 2022-04-10 10:58:27,520]\u001b[0m Trial 2 finished with value: 39.05487823486328 and parameters: {'n_steps': 66.16806161773671, 'gamma': 0.9491785712261684, 'learning_rate': 2.0491160416283963e-05, 'ent_coef': 0.030018412949348816, 'cliprange': 0.2747286823182964, 'noptepochs': 3.9952020625220213, 'lam': 0.8592220659973423}. Best is trial 0 with value: 0.0.\u001b[0m\n",
      "\u001b[32m[I 2022-04-10 10:58:27,719]\u001b[0m Trial 3 finished with value: 711.7357788085938 and parameters: {'n_steps': 37.20230073771136, 'gamma': 0.9356897337675878, 'learning_rate': 4.8698934995773995e-05, 'ent_coef': 3.8251317411154744e-07, 'cliprange': 0.14416220996866458, 'noptepochs': 1.2142982339847794, 'lam': 0.8718994870571033}. Best is trial 0 with value: 0.0.\u001b[0m\n",
      "\u001b[32m[I 2022-04-10 10:58:53,953]\u001b[0m Trial 7 finished with value: -600.6483764648438 and parameters: {'n_steps': 509.52992471054404, 'gamma': 0.9066341664120575, 'learning_rate': 0.01426623357483584, 'ent_coef': 1.79253151709401e-06, 'cliprange': 0.39856205220327023, 'noptepochs': 30.076098816722524, 'lam': 0.9908024118986549}. Best is trial 7 with value: -600.6483764648438.\u001b[0m\n",
      "\u001b[32m[I 2022-04-10 10:58:54,027]\u001b[0m Trial 5 finished with value: -0.0 and parameters: {'n_steps': 236.09897210180648, 'gamma': 0.9878790047491978, 'learning_rate': 0.2600082059839999, 'ent_coef': 4.855925753120691e-05, 'cliprange': 0.11396819309520255, 'noptepochs': 9.967300637605678, 'lam': 0.8919346736803146}. Best is trial 7 with value: -600.6483764648438.\u001b[0m\n",
      "\u001b[32m[I 2022-04-10 10:58:54,053]\u001b[0m Trial 4 finished with value: 792.2865600585938 and parameters: {'n_steps': 18.08204053753098, 'gamma': 0.9419363537309081, 'learning_rate': 0.0019049990395141113, 'ent_coef': 0.0825154346436701, 'cliprange': 0.11982105170147347, 'noptepochs': 2.3268244545990884, 'lam': 0.9657071833564314}. Best is trial 0 with value: -600.6483764648438.\u001b[0m\n",
      "\u001b[32m[I 2022-04-10 10:58:55,196]\u001b[0m Trial 6 finished with value: -667.5751953125 and parameters: {'n_steps': 16.412286883702595, 'gamma': 0.9009458462733971, 'learning_rate': 0.0025866216707964474, 'ent_coef': 2.2349198476565243e-06, 'cliprange': 0.3667568536317414, 'noptepochs': 1.4806994759995935, 'lam': 0.9811784983268537}. Best is trial 6 with value: -667.5751953125.\u001b[0m\n",
      "\u001b[32m[I 2022-04-10 10:59:24,898]\u001b[0m Trial 11 finished with value: 1004.0142211914062 and parameters: {'n_steps': 239.42355197775584, 'gamma': 0.9485248603761897, 'learning_rate': 0.0023675228888304345, 'ent_coef': 0.0009409480371527875, 'cliprange': 0.2661125348970573, 'noptepochs': 8.841110264909297, 'lam': 0.8413864669596673}. Best is trial 6 with value: -667.5751953125.\u001b[0m\n",
      "\u001b[32m[I 2022-04-10 10:59:25,086]\u001b[0m Trial 10 finished with value: 844.4044799804688 and parameters: {'n_steps': 24.950702600545466, 'gamma': 0.9051288074509484, 'learning_rate': 0.00044107867308795584, 'ent_coef': 1.2112522132194753e-08, 'cliprange': 0.11711726660046677, 'noptepochs': 1.2967302098984674, 'lam': 0.8792560535633888}. Best is trial 6 with value: -667.5751953125.\u001b[0m\n",
      "\u001b[32m[I 2022-04-10 10:59:25,664]\u001b[0m Trial 8 finished with value: 1848.3780517578125 and parameters: {'n_steps': 91.16007727824153, 'gamma': 0.9555906136361364, 'learning_rate': 2.7805801124875147e-05, 'ent_coef': 1.3468327272361498e-06, 'cliprange': 0.27477495401736596, 'noptepochs': 8.27314942426846, 'lam': 0.9086981156798696}. Best is trial 6 with value: -667.5751953125.\u001b[0m\n",
      "\u001b[32m[I 2022-04-10 10:59:26,081]\u001b[0m Trial 9 finished with value: -11.835366249084473 and parameters: {'n_steps': 52.448795745368145, 'gamma': 0.9069142456178456, 'learning_rate': 0.006485998548787543, 'ent_coef': 1.5718268580584929e-07, 'cliprange': 0.12185085582072783, 'noptepochs': 5.761168694328062, 'lam': 0.858045750862562}. Best is trial 6 with value: -667.5751953125.\u001b[0m\n",
      "\u001b[32m[I 2022-04-10 10:59:33,645]\u001b[0m Trial 12 finished with value: 53.59552764892578 and parameters: {'n_steps': 1922.658089381663, 'gamma': 0.9224778403592265, 'learning_rate': 0.00020926326288934355, 'ent_coef': 2.2977426139711148e-05, 'cliprange': 0.3797338168416776, 'noptepochs': 27.2453264590691, 'lam': 0.9524519748009739}. Best is trial 6 with value: -667.5751953125.\u001b[0m\n",
      "\u001b[32m[I 2022-04-10 10:59:46,927]\u001b[0m Trial 14 finished with value: 1433.418701171875 and parameters: {'n_steps': 1033.7319426211225, 'gamma': 0.901431004862205, 'learning_rate': 0.024891869304333958, 'ent_coef': 1.9503779924885355e-05, 'cliprange': 0.39830966708746857, 'noptepochs': 37.268100173962665, 'lam': 0.9513085007313681}. Best is trial 6 with value: -667.5751953125.\u001b[0m\n",
      "\u001b[32m[I 2022-04-10 10:59:53,778]\u001b[0m Trial 15 finished with value: 148.21951293945312 and parameters: {'n_steps': 859.1317980565568, 'gamma': 0.9193983078081917, 'learning_rate': 0.039271961722225766, 'ent_coef': 1.1813545057949718e-05, 'cliprange': 0.3988742522642937, 'noptepochs': 33.80776899536392, 'lam': 0.951044441513173}. Best is trial 6 with value: -667.5751953125.\u001b[0m\n",
      "\u001b[32m[I 2022-04-10 10:59:58,223]\u001b[0m Trial 13 finished with value: 195.06504821777344 and parameters: {'n_steps': 59.94773319169398, 'gamma': 0.9239196841610594, 'learning_rate': 0.00017773112990622758, 'ent_coef': 1.1534199120407075e-05, 'cliprange': 0.3997987832927556, 'noptepochs': 19.311872507440178, 'lam': 0.9528316808461702}. Best is trial 6 with value: -667.5751953125.\u001b[0m\n",
      "\u001b[32m[I 2022-04-10 10:59:59,049]\u001b[0m Trial 16 finished with value: -0.0 and parameters: {'n_steps': 530.6479788234518, 'gamma': 0.9194272444452652, 'learning_rate': 0.06259133545378441, 'ent_coef': 9.859993884486167e-06, 'cliprange': 0.398770358233591, 'noptepochs': 46.51353845107084, 'lam': 0.9927533970219914}. Best is trial 6 with value: -667.5751953125.\u001b[0m\n",
      "\u001b[32m[I 2022-04-10 11:00:05,981]\u001b[0m Trial 17 finished with value: -37.59552764892578 and parameters: {'n_steps': 466.39654938773566, 'gamma': 0.9198058794363967, 'learning_rate': 0.06287983092090796, 'ent_coef': 4.261137450518916e-06, 'cliprange': 0.3453539236574957, 'noptepochs': 17.104841507182243, 'lam': 0.9985587240771222}. Best is trial 6 with value: -667.5751953125.\u001b[0m\n",
      "\u001b[32m[I 2022-04-10 11:00:18,239]\u001b[0m Trial 18 finished with value: -222.5894317626953 and parameters: {'n_steps': 405.94210529575815, 'gamma': 0.9202509396144838, 'learning_rate': 0.0004466045621795941, 'ent_coef': 0.0004999611114999293, 'cliprange': 0.33802469373329364, 'noptepochs': 14.550433028883761, 'lam': 0.9999751133904448}. Best is trial 6 with value: -667.5751953125.\u001b[0m\n",
      "\u001b[32m[I 2022-04-10 11:00:20,081]\u001b[0m Trial 20 finished with value: -0.0 and parameters: {'n_steps': 471.2275036203172, 'gamma': 0.9109211578262663, 'learning_rate': 0.9047999015097157, 'ent_coef': 0.0003001205027308802, 'cliprange': 0.33865049493417687, 'noptepochs': 16.738227232556486, 'lam': 0.9238670485281064}. Best is trial 6 with value: -667.5751953125.\u001b[0m\n",
      "\u001b[32m[I 2022-04-10 11:00:21,412]\u001b[0m Trial 19 finished with value: -248.52845764160156 and parameters: {'n_steps': 400.32931522199686, 'gamma': 0.9148612533403734, 'learning_rate': 0.038401296292042336, 'ent_coef': 0.00030842137723652464, 'cliprange': 0.3407598151751516, 'noptepochs': 16.489120167993278, 'lam': 0.9975613595327317}. Best is trial 6 with value: -667.5751953125.\u001b[0m\n",
      "\u001b[32m[I 2022-04-10 11:00:30,609]\u001b[0m Trial 21 finished with value: -0.0 and parameters: {'n_steps': 154.2603466446277, 'gamma': 0.91082637051806, 'learning_rate': 0.7293705290287825, 'ent_coef': 0.0001934182042571789, 'cliprange': 0.3373256903342122, 'noptepochs': 2.189588969472701, 'lam': 0.8120185879421417}. Best is trial 6 with value: -667.5751953125.\u001b[0m\n"
     ]
    },
    {
     "name": "stderr",
     "output_type": "stream",
     "text": [
      "\u001b[32m[I 2022-04-10 11:00:46,397]\u001b[0m Trial 22 finished with value: -0.0 and parameters: {'n_steps': 159.370377962833, 'gamma': 0.997184252746593, 'learning_rate': 0.7431909090780872, 'ent_coef': 0.0001897996710314604, 'cliprange': 0.22033414142144098, 'noptepochs': 2.898108954862357, 'lam': 0.8089452583039596}. Best is trial 6 with value: -667.5751953125.\u001b[0m\n",
      "\u001b[32m[I 2022-04-10 11:00:48,954]\u001b[0m Trial 23 finished with value: -293.4776306152344 and parameters: {'n_steps': 170.11930089691182, 'gamma': 0.9960576847195753, 'learning_rate': 0.016595526189047437, 'ent_coef': 1.768276278791295e-08, 'cliprange': 0.18604216982044391, 'noptepochs': 2.2852946464154056, 'lam': 0.8034253102552769}. Best is trial 6 with value: -667.5751953125.\u001b[0m\n",
      "\u001b[32m[I 2022-04-10 11:00:52,543]\u001b[0m Trial 24 finished with value: 338.7804870605469 and parameters: {'n_steps': 161.95711168966386, 'gamma': 0.9009032342048726, 'learning_rate': 0.013254620663306209, 'ent_coef': 0.0041618677488005264, 'cliprange': 0.3142665878721625, 'noptepochs': 26.383433639543505, 'lam': 0.9712018731305944}. Best is trial 6 with value: -667.5751953125.\u001b[0m\n",
      "\u001b[32m[I 2022-04-10 11:00:59,515]\u001b[0m Trial 27 finished with value: -689.319091796875 and parameters: {'n_steps': 1877.7335702866903, 'gamma': 0.9703336836321487, 'learning_rate': 0.012366075775935122, 'ent_coef': 1.2629218417257388e-08, 'cliprange': 0.1922357730165789, 'noptepochs': 1.765467533578753, 'lam': 0.9692877319759365}. Best is trial 27 with value: -689.319091796875.\u001b[0m\n",
      "\u001b[32m[I 2022-04-10 11:01:01,545]\u001b[0m Trial 25 finished with value: -42.63821029663086 and parameters: {'n_steps': 280.4382182702114, 'gamma': 0.9318831436188414, 'learning_rate': 0.011686190314371781, 'ent_coef': 0.003958295035418003, 'cliprange': 0.204745839177203, 'noptepochs': 27.195528039731606, 'lam': 0.9746002683943272}. Best is trial 27 with value: -689.319091796875.\u001b[0m\n",
      "\u001b[32m[I 2022-04-10 11:01:03,321]\u001b[0m Trial 28 finished with value: 420.5711364746094 and parameters: {'n_steps': 1896.2609353519135, 'gamma': 0.970487918451647, 'learning_rate': 0.001073647323762753, 'ent_coef': 1.3951049657322418e-08, 'cliprange': 0.19213593212261496, 'noptepochs': 1.7451220466050763, 'lam': 0.9350598667410733}. Best is trial 27 with value: -689.319091796875.\u001b[0m\n",
      "\u001b[32m[I 2022-04-10 11:01:13,100]\u001b[0m Trial 30 finished with value: -228.6544647216797 and parameters: {'n_steps': 1934.3648768625274, 'gamma': 0.9713866316875736, 'learning_rate': 0.001619989541684181, 'ent_coef': 5.7384194620122365e-08, 'cliprange': 0.16025946747480752, 'noptepochs': 1.631374565934738, 'lam': 0.9310190026424717}. Best is trial 27 with value: -689.319091796875.\u001b[0m\n",
      "\u001b[32m[I 2022-04-10 11:01:13,379]\u001b[0m Trial 26 finished with value: 158.31707763671875 and parameters: {'n_steps': 289.030294605571, 'gamma': 0.9304892636090711, 'learning_rate': 0.010769470114371354, 'ent_coef': 0.004570965649451871, 'cliprange': 0.3079043589406326, 'noptepochs': 23.445823924649567, 'lam': 0.9743439512778399}. Best is trial 27 with value: -689.319091796875.\u001b[0m\n",
      "\u001b[32m[I 2022-04-10 11:01:29,625]\u001b[0m Trial 29 finished with value: 310.2459411621094 and parameters: {'n_steps': 1661.6560077822123, 'gamma': 0.9710893974119613, 'learning_rate': 0.000914072749891498, 'ent_coef': 1.924673256618402e-06, 'cliprange': 0.22745391650469807, 'noptepochs': 1.7000905265193473, 'lam': 0.9771049102882927}. Best is trial 27 with value: -689.319091796875.\u001b[0m\n",
      "\u001b[32m[I 2022-04-10 11:01:29,645]\u001b[0m Trial 31 finished with value: 3.136178970336914 and parameters: {'n_steps': 1358.0040220878313, 'gamma': 0.9709749800622192, 'learning_rate': 0.0053289527514016255, 'ent_coef': 1.839271833455984e-06, 'cliprange': 0.16361410999801296, 'noptepochs': 1.0257751678488467, 'lam': 0.9772787022096012}. Best is trial 27 with value: -689.319091796875.\u001b[0m\n",
      "\u001b[32m[I 2022-04-10 11:01:39,798]\u001b[0m Trial 33 finished with value: 223.15650939941406 and parameters: {'n_steps': 1175.4147445109252, 'gamma': 0.9623715265496441, 'learning_rate': 0.005670458516570281, 'ent_coef': 1.2713630406971585e-06, 'cliprange': 0.23146786304697894, 'noptepochs': 1.0382374793488875, 'lam': 0.9767730687699601}. Best is trial 27 with value: -689.319091796875.\u001b[0m\n",
      "\u001b[32m[I 2022-04-10 11:01:41,220]\u001b[0m Trial 32 finished with value: -67.03658294677734 and parameters: {'n_steps': 1308.6824615607159, 'gamma': 0.9633269556076441, 'learning_rate': 0.1785911453507636, 'ent_coef': 1.5867750938580642e-06, 'cliprange': 0.23488157372327967, 'noptepochs': 3.539990051967265, 'lam': 0.9829444648326631}. Best is trial 27 with value: -689.319091796875.\u001b[0m\n",
      "\u001b[32m[I 2022-04-10 11:01:51,343]\u001b[0m Trial 35 finished with value: 37.800811767578125 and parameters: {'n_steps': 1077.6798229158505, 'gamma': 0.984130343625928, 'learning_rate': 0.0034241723848852635, 'ent_coef': 3.194696262321683e-08, 'cliprange': 0.17789999873235232, 'noptepochs': 3.2996178815190116, 'lam': 0.8328665950262714}. Best is trial 27 with value: -689.319091796875.\u001b[0m\n",
      "\u001b[32m[I 2022-04-10 11:01:53,592]\u001b[0m Trial 34 finished with value: 199.18699645996094 and parameters: {'n_steps': 639.9892343425765, 'gamma': 0.9611044374745468, 'learning_rate': 0.16756324377146714, 'ent_coef': 3.5918581926200545e-08, 'cliprange': 0.370729188022056, 'noptepochs': 3.330476917988883, 'lam': 0.8266654902402097}. Best is trial 27 with value: -689.319091796875.\u001b[0m\n",
      "\u001b[32m[I 2022-04-10 11:02:03,481]\u001b[0m Trial 36 finished with value: 717.8475341796875 and parameters: {'n_steps': 647.9031623363338, 'gamma': 0.9888781960535598, 'learning_rate': 0.13323456928897384, 'ent_coef': 3.3129322765554865e-08, 'cliprange': 0.18617680735751352, 'noptepochs': 3.69377413286629, 'lam': 0.8326561299267896}. Best is trial 27 with value: -689.319091796875.\u001b[0m\n",
      "\u001b[32m[I 2022-04-10 11:02:07,364]\u001b[0m Trial 37 finished with value: 630.8150634765625 and parameters: {'n_steps': 662.047494467169, 'gamma': 0.9812821135896699, 'learning_rate': 0.024247561782309423, 'ent_coef': 5.204234652318303e-08, 'cliprange': 0.3741741648750632, 'noptepochs': 2.884749603815287, 'lam': 0.8370131014292398}. Best is trial 27 with value: -689.319091796875.\u001b[0m\n",
      "\u001b[32m[I 2022-04-10 11:02:13,786]\u001b[0m Trial 38 finished with value: 1176.0467529296875 and parameters: {'n_steps': 670.0862782455605, 'gamma': 0.9794823795055264, 'learning_rate': 0.016748488058298042, 'ent_coef': 2.5412913917960816e-07, 'cliprange': 0.35998903096485607, 'noptepochs': 4.775788059064218, 'lam': 0.9097454884209756}. Best is trial 27 with value: -689.319091796875.\u001b[0m\n",
      "\u001b[32m[I 2022-04-10 11:02:15,833]\u001b[0m Trial 39 finished with value: 787.806884765625 and parameters: {'n_steps': 105.10624956901304, 'gamma': 0.9800476253908093, 'learning_rate': 0.01602752262170436, 'ent_coef': 2.2963814520871022e-07, 'cliprange': 0.25475191619056203, 'noptepochs': 5.884873540974357, 'lam': 0.9127255686755944}. Best is trial 27 with value: -689.319091796875.\u001b[0m\n"
     ]
    }
   ],
   "source": [
    "optuna.delete_study(study_name='PPO2_MLP_optimize_profit', storage='sqlite:///params.db')\n",
    "study_PPO2_MLP = optuna.create_study(study_name='PPO2_MLP_optimize_profit', storage='sqlite:///params.db', \n",
    "                            load_if_exists=True, sampler=TPESampler())\n",
    "study_PPO2_MLP.optimize(objective_ppo2_mlp, n_trials=40, n_jobs=4, show_progress_bar = True)"
   ]
  },
  {
   "cell_type": "code",
   "execution_count": 13,
   "id": "8f128733",
   "metadata": {},
   "outputs": [
    {
     "data": {
      "text/plain": [
       "{'cliprange': 0.1922357730165789,\n",
       " 'ent_coef': 1.2629218417257388e-08,\n",
       " 'gamma': 0.9703336836321487,\n",
       " 'lam': 0.9692877319759365,\n",
       " 'learning_rate': 0.012366075775935122,\n",
       " 'n_steps': 1877.7335702866903,\n",
       " 'noptepochs': 1.765467533578753}"
      ]
     },
     "execution_count": 13,
     "metadata": {},
     "output_type": "execute_result"
    }
   ],
   "source": [
    "study_PPO2_MLP.best_params"
   ]
  },
  {
   "cell_type": "code",
   "execution_count": 14,
   "id": "9d770b41",
   "metadata": {},
   "outputs": [
    {
     "data": {
      "application/vnd.plotly.v1+json": {
       "config": {
        "plotlyServerURL": "https://plot.ly"
       },
       "data": [
        {
         "mode": "markers",
         "name": "Objective Value",
         "type": "scatter",
         "x": [
          0,
          1,
          2,
          3,
          4,
          5,
          6,
          7,
          8,
          9,
          10,
          11,
          12,
          13,
          14,
          15,
          16,
          17,
          18,
          19,
          20,
          21,
          22,
          23,
          24,
          25,
          26,
          27,
          28,
          29,
          30,
          31,
          32,
          33,
          34,
          35,
          36,
          37,
          38,
          39
         ],
         "y": [
          0,
          1092.2906494140625,
          39.05487823486328,
          711.7357788085938,
          792.2865600585938,
          0,
          -667.5751953125,
          -600.6483764648438,
          1848.3780517578125,
          -11.835366249084473,
          844.4044799804688,
          1004.0142211914062,
          53.59552764892578,
          195.06504821777344,
          1433.418701171875,
          148.21951293945312,
          0,
          -37.59552764892578,
          -222.5894317626953,
          -248.52845764160156,
          0,
          0,
          0,
          -293.4776306152344,
          338.7804870605469,
          -42.63821029663086,
          158.31707763671875,
          -689.319091796875,
          420.5711364746094,
          310.2459411621094,
          -228.6544647216797,
          3.136178970336914,
          -67.03658294677734,
          223.15650939941406,
          199.18699645996094,
          37.800811767578125,
          717.8475341796875,
          630.8150634765625,
          1176.0467529296875,
          787.806884765625
         ]
        },
        {
         "name": "Best Value",
         "type": "scatter",
         "x": [
          0,
          1,
          2,
          3,
          4,
          5,
          6,
          7,
          8,
          9,
          10,
          11,
          12,
          13,
          14,
          15,
          16,
          17,
          18,
          19,
          20,
          21,
          22,
          23,
          24,
          25,
          26,
          27,
          28,
          29,
          30,
          31,
          32,
          33,
          34,
          35,
          36,
          37,
          38,
          39
         ],
         "y": [
          0,
          0,
          0,
          0,
          0,
          0,
          -667.5751953125,
          -667.5751953125,
          -667.5751953125,
          -667.5751953125,
          -667.5751953125,
          -667.5751953125,
          -667.5751953125,
          -667.5751953125,
          -667.5751953125,
          -667.5751953125,
          -667.5751953125,
          -667.5751953125,
          -667.5751953125,
          -667.5751953125,
          -667.5751953125,
          -667.5751953125,
          -667.5751953125,
          -667.5751953125,
          -667.5751953125,
          -667.5751953125,
          -667.5751953125,
          -689.319091796875,
          -689.319091796875,
          -689.319091796875,
          -689.319091796875,
          -689.319091796875,
          -689.319091796875,
          -689.319091796875,
          -689.319091796875,
          -689.319091796875,
          -689.319091796875,
          -689.319091796875,
          -689.319091796875,
          -689.319091796875
         ]
        }
       ],
       "layout": {
        "template": {
         "data": {
          "bar": [
           {
            "error_x": {
             "color": "#2a3f5f"
            },
            "error_y": {
             "color": "#2a3f5f"
            },
            "marker": {
             "line": {
              "color": "#E5ECF6",
              "width": 0.5
             },
             "pattern": {
              "fillmode": "overlay",
              "size": 10,
              "solidity": 0.2
             }
            },
            "type": "bar"
           }
          ],
          "barpolar": [
           {
            "marker": {
             "line": {
              "color": "#E5ECF6",
              "width": 0.5
             },
             "pattern": {
              "fillmode": "overlay",
              "size": 10,
              "solidity": 0.2
             }
            },
            "type": "barpolar"
           }
          ],
          "carpet": [
           {
            "aaxis": {
             "endlinecolor": "#2a3f5f",
             "gridcolor": "white",
             "linecolor": "white",
             "minorgridcolor": "white",
             "startlinecolor": "#2a3f5f"
            },
            "baxis": {
             "endlinecolor": "#2a3f5f",
             "gridcolor": "white",
             "linecolor": "white",
             "minorgridcolor": "white",
             "startlinecolor": "#2a3f5f"
            },
            "type": "carpet"
           }
          ],
          "choropleth": [
           {
            "colorbar": {
             "outlinewidth": 0,
             "ticks": ""
            },
            "type": "choropleth"
           }
          ],
          "contour": [
           {
            "colorbar": {
             "outlinewidth": 0,
             "ticks": ""
            },
            "colorscale": [
             [
              0,
              "#0d0887"
             ],
             [
              0.1111111111111111,
              "#46039f"
             ],
             [
              0.2222222222222222,
              "#7201a8"
             ],
             [
              0.3333333333333333,
              "#9c179e"
             ],
             [
              0.4444444444444444,
              "#bd3786"
             ],
             [
              0.5555555555555556,
              "#d8576b"
             ],
             [
              0.6666666666666666,
              "#ed7953"
             ],
             [
              0.7777777777777778,
              "#fb9f3a"
             ],
             [
              0.8888888888888888,
              "#fdca26"
             ],
             [
              1,
              "#f0f921"
             ]
            ],
            "type": "contour"
           }
          ],
          "contourcarpet": [
           {
            "colorbar": {
             "outlinewidth": 0,
             "ticks": ""
            },
            "type": "contourcarpet"
           }
          ],
          "heatmap": [
           {
            "colorbar": {
             "outlinewidth": 0,
             "ticks": ""
            },
            "colorscale": [
             [
              0,
              "#0d0887"
             ],
             [
              0.1111111111111111,
              "#46039f"
             ],
             [
              0.2222222222222222,
              "#7201a8"
             ],
             [
              0.3333333333333333,
              "#9c179e"
             ],
             [
              0.4444444444444444,
              "#bd3786"
             ],
             [
              0.5555555555555556,
              "#d8576b"
             ],
             [
              0.6666666666666666,
              "#ed7953"
             ],
             [
              0.7777777777777778,
              "#fb9f3a"
             ],
             [
              0.8888888888888888,
              "#fdca26"
             ],
             [
              1,
              "#f0f921"
             ]
            ],
            "type": "heatmap"
           }
          ],
          "heatmapgl": [
           {
            "colorbar": {
             "outlinewidth": 0,
             "ticks": ""
            },
            "colorscale": [
             [
              0,
              "#0d0887"
             ],
             [
              0.1111111111111111,
              "#46039f"
             ],
             [
              0.2222222222222222,
              "#7201a8"
             ],
             [
              0.3333333333333333,
              "#9c179e"
             ],
             [
              0.4444444444444444,
              "#bd3786"
             ],
             [
              0.5555555555555556,
              "#d8576b"
             ],
             [
              0.6666666666666666,
              "#ed7953"
             ],
             [
              0.7777777777777778,
              "#fb9f3a"
             ],
             [
              0.8888888888888888,
              "#fdca26"
             ],
             [
              1,
              "#f0f921"
             ]
            ],
            "type": "heatmapgl"
           }
          ],
          "histogram": [
           {
            "marker": {
             "pattern": {
              "fillmode": "overlay",
              "size": 10,
              "solidity": 0.2
             }
            },
            "type": "histogram"
           }
          ],
          "histogram2d": [
           {
            "colorbar": {
             "outlinewidth": 0,
             "ticks": ""
            },
            "colorscale": [
             [
              0,
              "#0d0887"
             ],
             [
              0.1111111111111111,
              "#46039f"
             ],
             [
              0.2222222222222222,
              "#7201a8"
             ],
             [
              0.3333333333333333,
              "#9c179e"
             ],
             [
              0.4444444444444444,
              "#bd3786"
             ],
             [
              0.5555555555555556,
              "#d8576b"
             ],
             [
              0.6666666666666666,
              "#ed7953"
             ],
             [
              0.7777777777777778,
              "#fb9f3a"
             ],
             [
              0.8888888888888888,
              "#fdca26"
             ],
             [
              1,
              "#f0f921"
             ]
            ],
            "type": "histogram2d"
           }
          ],
          "histogram2dcontour": [
           {
            "colorbar": {
             "outlinewidth": 0,
             "ticks": ""
            },
            "colorscale": [
             [
              0,
              "#0d0887"
             ],
             [
              0.1111111111111111,
              "#46039f"
             ],
             [
              0.2222222222222222,
              "#7201a8"
             ],
             [
              0.3333333333333333,
              "#9c179e"
             ],
             [
              0.4444444444444444,
              "#bd3786"
             ],
             [
              0.5555555555555556,
              "#d8576b"
             ],
             [
              0.6666666666666666,
              "#ed7953"
             ],
             [
              0.7777777777777778,
              "#fb9f3a"
             ],
             [
              0.8888888888888888,
              "#fdca26"
             ],
             [
              1,
              "#f0f921"
             ]
            ],
            "type": "histogram2dcontour"
           }
          ],
          "mesh3d": [
           {
            "colorbar": {
             "outlinewidth": 0,
             "ticks": ""
            },
            "type": "mesh3d"
           }
          ],
          "parcoords": [
           {
            "line": {
             "colorbar": {
              "outlinewidth": 0,
              "ticks": ""
             }
            },
            "type": "parcoords"
           }
          ],
          "pie": [
           {
            "automargin": true,
            "type": "pie"
           }
          ],
          "scatter": [
           {
            "marker": {
             "colorbar": {
              "outlinewidth": 0,
              "ticks": ""
             }
            },
            "type": "scatter"
           }
          ],
          "scatter3d": [
           {
            "line": {
             "colorbar": {
              "outlinewidth": 0,
              "ticks": ""
             }
            },
            "marker": {
             "colorbar": {
              "outlinewidth": 0,
              "ticks": ""
             }
            },
            "type": "scatter3d"
           }
          ],
          "scattercarpet": [
           {
            "marker": {
             "colorbar": {
              "outlinewidth": 0,
              "ticks": ""
             }
            },
            "type": "scattercarpet"
           }
          ],
          "scattergeo": [
           {
            "marker": {
             "colorbar": {
              "outlinewidth": 0,
              "ticks": ""
             }
            },
            "type": "scattergeo"
           }
          ],
          "scattergl": [
           {
            "marker": {
             "colorbar": {
              "outlinewidth": 0,
              "ticks": ""
             }
            },
            "type": "scattergl"
           }
          ],
          "scattermapbox": [
           {
            "marker": {
             "colorbar": {
              "outlinewidth": 0,
              "ticks": ""
             }
            },
            "type": "scattermapbox"
           }
          ],
          "scatterpolar": [
           {
            "marker": {
             "colorbar": {
              "outlinewidth": 0,
              "ticks": ""
             }
            },
            "type": "scatterpolar"
           }
          ],
          "scatterpolargl": [
           {
            "marker": {
             "colorbar": {
              "outlinewidth": 0,
              "ticks": ""
             }
            },
            "type": "scatterpolargl"
           }
          ],
          "scatterternary": [
           {
            "marker": {
             "colorbar": {
              "outlinewidth": 0,
              "ticks": ""
             }
            },
            "type": "scatterternary"
           }
          ],
          "surface": [
           {
            "colorbar": {
             "outlinewidth": 0,
             "ticks": ""
            },
            "colorscale": [
             [
              0,
              "#0d0887"
             ],
             [
              0.1111111111111111,
              "#46039f"
             ],
             [
              0.2222222222222222,
              "#7201a8"
             ],
             [
              0.3333333333333333,
              "#9c179e"
             ],
             [
              0.4444444444444444,
              "#bd3786"
             ],
             [
              0.5555555555555556,
              "#d8576b"
             ],
             [
              0.6666666666666666,
              "#ed7953"
             ],
             [
              0.7777777777777778,
              "#fb9f3a"
             ],
             [
              0.8888888888888888,
              "#fdca26"
             ],
             [
              1,
              "#f0f921"
             ]
            ],
            "type": "surface"
           }
          ],
          "table": [
           {
            "cells": {
             "fill": {
              "color": "#EBF0F8"
             },
             "line": {
              "color": "white"
             }
            },
            "header": {
             "fill": {
              "color": "#C8D4E3"
             },
             "line": {
              "color": "white"
             }
            },
            "type": "table"
           }
          ]
         },
         "layout": {
          "annotationdefaults": {
           "arrowcolor": "#2a3f5f",
           "arrowhead": 0,
           "arrowwidth": 1
          },
          "autotypenumbers": "strict",
          "coloraxis": {
           "colorbar": {
            "outlinewidth": 0,
            "ticks": ""
           }
          },
          "colorscale": {
           "diverging": [
            [
             0,
             "#8e0152"
            ],
            [
             0.1,
             "#c51b7d"
            ],
            [
             0.2,
             "#de77ae"
            ],
            [
             0.3,
             "#f1b6da"
            ],
            [
             0.4,
             "#fde0ef"
            ],
            [
             0.5,
             "#f7f7f7"
            ],
            [
             0.6,
             "#e6f5d0"
            ],
            [
             0.7,
             "#b8e186"
            ],
            [
             0.8,
             "#7fbc41"
            ],
            [
             0.9,
             "#4d9221"
            ],
            [
             1,
             "#276419"
            ]
           ],
           "sequential": [
            [
             0,
             "#0d0887"
            ],
            [
             0.1111111111111111,
             "#46039f"
            ],
            [
             0.2222222222222222,
             "#7201a8"
            ],
            [
             0.3333333333333333,
             "#9c179e"
            ],
            [
             0.4444444444444444,
             "#bd3786"
            ],
            [
             0.5555555555555556,
             "#d8576b"
            ],
            [
             0.6666666666666666,
             "#ed7953"
            ],
            [
             0.7777777777777778,
             "#fb9f3a"
            ],
            [
             0.8888888888888888,
             "#fdca26"
            ],
            [
             1,
             "#f0f921"
            ]
           ],
           "sequentialminus": [
            [
             0,
             "#0d0887"
            ],
            [
             0.1111111111111111,
             "#46039f"
            ],
            [
             0.2222222222222222,
             "#7201a8"
            ],
            [
             0.3333333333333333,
             "#9c179e"
            ],
            [
             0.4444444444444444,
             "#bd3786"
            ],
            [
             0.5555555555555556,
             "#d8576b"
            ],
            [
             0.6666666666666666,
             "#ed7953"
            ],
            [
             0.7777777777777778,
             "#fb9f3a"
            ],
            [
             0.8888888888888888,
             "#fdca26"
            ],
            [
             1,
             "#f0f921"
            ]
           ]
          },
          "colorway": [
           "#636efa",
           "#EF553B",
           "#00cc96",
           "#ab63fa",
           "#FFA15A",
           "#19d3f3",
           "#FF6692",
           "#B6E880",
           "#FF97FF",
           "#FECB52"
          ],
          "font": {
           "color": "#2a3f5f"
          },
          "geo": {
           "bgcolor": "white",
           "lakecolor": "white",
           "landcolor": "#E5ECF6",
           "showlakes": true,
           "showland": true,
           "subunitcolor": "white"
          },
          "hoverlabel": {
           "align": "left"
          },
          "hovermode": "closest",
          "mapbox": {
           "style": "light"
          },
          "paper_bgcolor": "white",
          "plot_bgcolor": "#E5ECF6",
          "polar": {
           "angularaxis": {
            "gridcolor": "white",
            "linecolor": "white",
            "ticks": ""
           },
           "bgcolor": "#E5ECF6",
           "radialaxis": {
            "gridcolor": "white",
            "linecolor": "white",
            "ticks": ""
           }
          },
          "scene": {
           "xaxis": {
            "backgroundcolor": "#E5ECF6",
            "gridcolor": "white",
            "gridwidth": 2,
            "linecolor": "white",
            "showbackground": true,
            "ticks": "",
            "zerolinecolor": "white"
           },
           "yaxis": {
            "backgroundcolor": "#E5ECF6",
            "gridcolor": "white",
            "gridwidth": 2,
            "linecolor": "white",
            "showbackground": true,
            "ticks": "",
            "zerolinecolor": "white"
           },
           "zaxis": {
            "backgroundcolor": "#E5ECF6",
            "gridcolor": "white",
            "gridwidth": 2,
            "linecolor": "white",
            "showbackground": true,
            "ticks": "",
            "zerolinecolor": "white"
           }
          },
          "shapedefaults": {
           "line": {
            "color": "#2a3f5f"
           }
          },
          "ternary": {
           "aaxis": {
            "gridcolor": "white",
            "linecolor": "white",
            "ticks": ""
           },
           "baxis": {
            "gridcolor": "white",
            "linecolor": "white",
            "ticks": ""
           },
           "bgcolor": "#E5ECF6",
           "caxis": {
            "gridcolor": "white",
            "linecolor": "white",
            "ticks": ""
           }
          },
          "title": {
           "x": 0.05
          },
          "xaxis": {
           "automargin": true,
           "gridcolor": "white",
           "linecolor": "white",
           "ticks": "",
           "title": {
            "standoff": 15
           },
           "zerolinecolor": "white",
           "zerolinewidth": 2
          },
          "yaxis": {
           "automargin": true,
           "gridcolor": "white",
           "linecolor": "white",
           "ticks": "",
           "title": {
            "standoff": 15
           },
           "zerolinecolor": "white",
           "zerolinewidth": 2
          }
         }
        },
        "title": {
         "text": "Optimization History Plot"
        },
        "xaxis": {
         "title": {
          "text": "#Trials"
         }
        },
        "yaxis": {
         "title": {
          "text": "Objective Value"
         }
        }
       }
      },
      "text/html": [
       "<div>                            <div id=\"96248073-fa83-4ba6-93f4-b43866b7f094\" class=\"plotly-graph-div\" style=\"height:525px; width:100%;\"></div>            <script type=\"text/javascript\">                require([\"plotly\"], function(Plotly) {                    window.PLOTLYENV=window.PLOTLYENV || {};                                    if (document.getElementById(\"96248073-fa83-4ba6-93f4-b43866b7f094\")) {                    Plotly.newPlot(                        \"96248073-fa83-4ba6-93f4-b43866b7f094\",                        [{\"mode\":\"markers\",\"name\":\"Objective Value\",\"type\":\"scatter\",\"x\":[0,1,2,3,4,5,6,7,8,9,10,11,12,13,14,15,16,17,18,19,20,21,22,23,24,25,26,27,28,29,30,31,32,33,34,35,36,37,38,39],\"y\":[-0.0,1092.2906494140625,39.05487823486328,711.7357788085938,792.2865600585938,-0.0,-667.5751953125,-600.6483764648438,1848.3780517578125,-11.835366249084473,844.4044799804688,1004.0142211914062,53.59552764892578,195.06504821777344,1433.418701171875,148.21951293945312,-0.0,-37.59552764892578,-222.5894317626953,-248.52845764160156,-0.0,-0.0,-0.0,-293.4776306152344,338.7804870605469,-42.63821029663086,158.31707763671875,-689.319091796875,420.5711364746094,310.2459411621094,-228.6544647216797,3.136178970336914,-67.03658294677734,223.15650939941406,199.18699645996094,37.800811767578125,717.8475341796875,630.8150634765625,1176.0467529296875,787.806884765625]},{\"name\":\"Best Value\",\"type\":\"scatter\",\"x\":[0,1,2,3,4,5,6,7,8,9,10,11,12,13,14,15,16,17,18,19,20,21,22,23,24,25,26,27,28,29,30,31,32,33,34,35,36,37,38,39],\"y\":[-0.0,-0.0,-0.0,-0.0,-0.0,-0.0,-667.5751953125,-667.5751953125,-667.5751953125,-667.5751953125,-667.5751953125,-667.5751953125,-667.5751953125,-667.5751953125,-667.5751953125,-667.5751953125,-667.5751953125,-667.5751953125,-667.5751953125,-667.5751953125,-667.5751953125,-667.5751953125,-667.5751953125,-667.5751953125,-667.5751953125,-667.5751953125,-667.5751953125,-689.319091796875,-689.319091796875,-689.319091796875,-689.319091796875,-689.319091796875,-689.319091796875,-689.319091796875,-689.319091796875,-689.319091796875,-689.319091796875,-689.319091796875,-689.319091796875,-689.319091796875]}],                        {\"template\":{\"data\":{\"bar\":[{\"error_x\":{\"color\":\"#2a3f5f\"},\"error_y\":{\"color\":\"#2a3f5f\"},\"marker\":{\"line\":{\"color\":\"#E5ECF6\",\"width\":0.5},\"pattern\":{\"fillmode\":\"overlay\",\"size\":10,\"solidity\":0.2}},\"type\":\"bar\"}],\"barpolar\":[{\"marker\":{\"line\":{\"color\":\"#E5ECF6\",\"width\":0.5},\"pattern\":{\"fillmode\":\"overlay\",\"size\":10,\"solidity\":0.2}},\"type\":\"barpolar\"}],\"carpet\":[{\"aaxis\":{\"endlinecolor\":\"#2a3f5f\",\"gridcolor\":\"white\",\"linecolor\":\"white\",\"minorgridcolor\":\"white\",\"startlinecolor\":\"#2a3f5f\"},\"baxis\":{\"endlinecolor\":\"#2a3f5f\",\"gridcolor\":\"white\",\"linecolor\":\"white\",\"minorgridcolor\":\"white\",\"startlinecolor\":\"#2a3f5f\"},\"type\":\"carpet\"}],\"choropleth\":[{\"colorbar\":{\"outlinewidth\":0,\"ticks\":\"\"},\"type\":\"choropleth\"}],\"contour\":[{\"colorbar\":{\"outlinewidth\":0,\"ticks\":\"\"},\"colorscale\":[[0.0,\"#0d0887\"],[0.1111111111111111,\"#46039f\"],[0.2222222222222222,\"#7201a8\"],[0.3333333333333333,\"#9c179e\"],[0.4444444444444444,\"#bd3786\"],[0.5555555555555556,\"#d8576b\"],[0.6666666666666666,\"#ed7953\"],[0.7777777777777778,\"#fb9f3a\"],[0.8888888888888888,\"#fdca26\"],[1.0,\"#f0f921\"]],\"type\":\"contour\"}],\"contourcarpet\":[{\"colorbar\":{\"outlinewidth\":0,\"ticks\":\"\"},\"type\":\"contourcarpet\"}],\"heatmap\":[{\"colorbar\":{\"outlinewidth\":0,\"ticks\":\"\"},\"colorscale\":[[0.0,\"#0d0887\"],[0.1111111111111111,\"#46039f\"],[0.2222222222222222,\"#7201a8\"],[0.3333333333333333,\"#9c179e\"],[0.4444444444444444,\"#bd3786\"],[0.5555555555555556,\"#d8576b\"],[0.6666666666666666,\"#ed7953\"],[0.7777777777777778,\"#fb9f3a\"],[0.8888888888888888,\"#fdca26\"],[1.0,\"#f0f921\"]],\"type\":\"heatmap\"}],\"heatmapgl\":[{\"colorbar\":{\"outlinewidth\":0,\"ticks\":\"\"},\"colorscale\":[[0.0,\"#0d0887\"],[0.1111111111111111,\"#46039f\"],[0.2222222222222222,\"#7201a8\"],[0.3333333333333333,\"#9c179e\"],[0.4444444444444444,\"#bd3786\"],[0.5555555555555556,\"#d8576b\"],[0.6666666666666666,\"#ed7953\"],[0.7777777777777778,\"#fb9f3a\"],[0.8888888888888888,\"#fdca26\"],[1.0,\"#f0f921\"]],\"type\":\"heatmapgl\"}],\"histogram\":[{\"marker\":{\"pattern\":{\"fillmode\":\"overlay\",\"size\":10,\"solidity\":0.2}},\"type\":\"histogram\"}],\"histogram2d\":[{\"colorbar\":{\"outlinewidth\":0,\"ticks\":\"\"},\"colorscale\":[[0.0,\"#0d0887\"],[0.1111111111111111,\"#46039f\"],[0.2222222222222222,\"#7201a8\"],[0.3333333333333333,\"#9c179e\"],[0.4444444444444444,\"#bd3786\"],[0.5555555555555556,\"#d8576b\"],[0.6666666666666666,\"#ed7953\"],[0.7777777777777778,\"#fb9f3a\"],[0.8888888888888888,\"#fdca26\"],[1.0,\"#f0f921\"]],\"type\":\"histogram2d\"}],\"histogram2dcontour\":[{\"colorbar\":{\"outlinewidth\":0,\"ticks\":\"\"},\"colorscale\":[[0.0,\"#0d0887\"],[0.1111111111111111,\"#46039f\"],[0.2222222222222222,\"#7201a8\"],[0.3333333333333333,\"#9c179e\"],[0.4444444444444444,\"#bd3786\"],[0.5555555555555556,\"#d8576b\"],[0.6666666666666666,\"#ed7953\"],[0.7777777777777778,\"#fb9f3a\"],[0.8888888888888888,\"#fdca26\"],[1.0,\"#f0f921\"]],\"type\":\"histogram2dcontour\"}],\"mesh3d\":[{\"colorbar\":{\"outlinewidth\":0,\"ticks\":\"\"},\"type\":\"mesh3d\"}],\"parcoords\":[{\"line\":{\"colorbar\":{\"outlinewidth\":0,\"ticks\":\"\"}},\"type\":\"parcoords\"}],\"pie\":[{\"automargin\":true,\"type\":\"pie\"}],\"scatter\":[{\"marker\":{\"colorbar\":{\"outlinewidth\":0,\"ticks\":\"\"}},\"type\":\"scatter\"}],\"scatter3d\":[{\"line\":{\"colorbar\":{\"outlinewidth\":0,\"ticks\":\"\"}},\"marker\":{\"colorbar\":{\"outlinewidth\":0,\"ticks\":\"\"}},\"type\":\"scatter3d\"}],\"scattercarpet\":[{\"marker\":{\"colorbar\":{\"outlinewidth\":0,\"ticks\":\"\"}},\"type\":\"scattercarpet\"}],\"scattergeo\":[{\"marker\":{\"colorbar\":{\"outlinewidth\":0,\"ticks\":\"\"}},\"type\":\"scattergeo\"}],\"scattergl\":[{\"marker\":{\"colorbar\":{\"outlinewidth\":0,\"ticks\":\"\"}},\"type\":\"scattergl\"}],\"scattermapbox\":[{\"marker\":{\"colorbar\":{\"outlinewidth\":0,\"ticks\":\"\"}},\"type\":\"scattermapbox\"}],\"scatterpolar\":[{\"marker\":{\"colorbar\":{\"outlinewidth\":0,\"ticks\":\"\"}},\"type\":\"scatterpolar\"}],\"scatterpolargl\":[{\"marker\":{\"colorbar\":{\"outlinewidth\":0,\"ticks\":\"\"}},\"type\":\"scatterpolargl\"}],\"scatterternary\":[{\"marker\":{\"colorbar\":{\"outlinewidth\":0,\"ticks\":\"\"}},\"type\":\"scatterternary\"}],\"surface\":[{\"colorbar\":{\"outlinewidth\":0,\"ticks\":\"\"},\"colorscale\":[[0.0,\"#0d0887\"],[0.1111111111111111,\"#46039f\"],[0.2222222222222222,\"#7201a8\"],[0.3333333333333333,\"#9c179e\"],[0.4444444444444444,\"#bd3786\"],[0.5555555555555556,\"#d8576b\"],[0.6666666666666666,\"#ed7953\"],[0.7777777777777778,\"#fb9f3a\"],[0.8888888888888888,\"#fdca26\"],[1.0,\"#f0f921\"]],\"type\":\"surface\"}],\"table\":[{\"cells\":{\"fill\":{\"color\":\"#EBF0F8\"},\"line\":{\"color\":\"white\"}},\"header\":{\"fill\":{\"color\":\"#C8D4E3\"},\"line\":{\"color\":\"white\"}},\"type\":\"table\"}]},\"layout\":{\"annotationdefaults\":{\"arrowcolor\":\"#2a3f5f\",\"arrowhead\":0,\"arrowwidth\":1},\"autotypenumbers\":\"strict\",\"coloraxis\":{\"colorbar\":{\"outlinewidth\":0,\"ticks\":\"\"}},\"colorscale\":{\"diverging\":[[0,\"#8e0152\"],[0.1,\"#c51b7d\"],[0.2,\"#de77ae\"],[0.3,\"#f1b6da\"],[0.4,\"#fde0ef\"],[0.5,\"#f7f7f7\"],[0.6,\"#e6f5d0\"],[0.7,\"#b8e186\"],[0.8,\"#7fbc41\"],[0.9,\"#4d9221\"],[1,\"#276419\"]],\"sequential\":[[0.0,\"#0d0887\"],[0.1111111111111111,\"#46039f\"],[0.2222222222222222,\"#7201a8\"],[0.3333333333333333,\"#9c179e\"],[0.4444444444444444,\"#bd3786\"],[0.5555555555555556,\"#d8576b\"],[0.6666666666666666,\"#ed7953\"],[0.7777777777777778,\"#fb9f3a\"],[0.8888888888888888,\"#fdca26\"],[1.0,\"#f0f921\"]],\"sequentialminus\":[[0.0,\"#0d0887\"],[0.1111111111111111,\"#46039f\"],[0.2222222222222222,\"#7201a8\"],[0.3333333333333333,\"#9c179e\"],[0.4444444444444444,\"#bd3786\"],[0.5555555555555556,\"#d8576b\"],[0.6666666666666666,\"#ed7953\"],[0.7777777777777778,\"#fb9f3a\"],[0.8888888888888888,\"#fdca26\"],[1.0,\"#f0f921\"]]},\"colorway\":[\"#636efa\",\"#EF553B\",\"#00cc96\",\"#ab63fa\",\"#FFA15A\",\"#19d3f3\",\"#FF6692\",\"#B6E880\",\"#FF97FF\",\"#FECB52\"],\"font\":{\"color\":\"#2a3f5f\"},\"geo\":{\"bgcolor\":\"white\",\"lakecolor\":\"white\",\"landcolor\":\"#E5ECF6\",\"showlakes\":true,\"showland\":true,\"subunitcolor\":\"white\"},\"hoverlabel\":{\"align\":\"left\"},\"hovermode\":\"closest\",\"mapbox\":{\"style\":\"light\"},\"paper_bgcolor\":\"white\",\"plot_bgcolor\":\"#E5ECF6\",\"polar\":{\"angularaxis\":{\"gridcolor\":\"white\",\"linecolor\":\"white\",\"ticks\":\"\"},\"bgcolor\":\"#E5ECF6\",\"radialaxis\":{\"gridcolor\":\"white\",\"linecolor\":\"white\",\"ticks\":\"\"}},\"scene\":{\"xaxis\":{\"backgroundcolor\":\"#E5ECF6\",\"gridcolor\":\"white\",\"gridwidth\":2,\"linecolor\":\"white\",\"showbackground\":true,\"ticks\":\"\",\"zerolinecolor\":\"white\"},\"yaxis\":{\"backgroundcolor\":\"#E5ECF6\",\"gridcolor\":\"white\",\"gridwidth\":2,\"linecolor\":\"white\",\"showbackground\":true,\"ticks\":\"\",\"zerolinecolor\":\"white\"},\"zaxis\":{\"backgroundcolor\":\"#E5ECF6\",\"gridcolor\":\"white\",\"gridwidth\":2,\"linecolor\":\"white\",\"showbackground\":true,\"ticks\":\"\",\"zerolinecolor\":\"white\"}},\"shapedefaults\":{\"line\":{\"color\":\"#2a3f5f\"}},\"ternary\":{\"aaxis\":{\"gridcolor\":\"white\",\"linecolor\":\"white\",\"ticks\":\"\"},\"baxis\":{\"gridcolor\":\"white\",\"linecolor\":\"white\",\"ticks\":\"\"},\"bgcolor\":\"#E5ECF6\",\"caxis\":{\"gridcolor\":\"white\",\"linecolor\":\"white\",\"ticks\":\"\"}},\"title\":{\"x\":0.05},\"xaxis\":{\"automargin\":true,\"gridcolor\":\"white\",\"linecolor\":\"white\",\"ticks\":\"\",\"title\":{\"standoff\":15},\"zerolinecolor\":\"white\",\"zerolinewidth\":2},\"yaxis\":{\"automargin\":true,\"gridcolor\":\"white\",\"linecolor\":\"white\",\"ticks\":\"\",\"title\":{\"standoff\":15},\"zerolinecolor\":\"white\",\"zerolinewidth\":2}}},\"title\":{\"text\":\"Optimization History Plot\"},\"xaxis\":{\"title\":{\"text\":\"#Trials\"}},\"yaxis\":{\"title\":{\"text\":\"Objective Value\"}}},                        {\"responsive\": true}                    ).then(function(){\n",
       "                            \n",
       "var gd = document.getElementById('96248073-fa83-4ba6-93f4-b43866b7f094');\n",
       "var x = new MutationObserver(function (mutations, observer) {{\n",
       "        var display = window.getComputedStyle(gd).display;\n",
       "        if (!display || display === 'none') {{\n",
       "            console.log([gd, 'removed!']);\n",
       "            Plotly.purge(gd);\n",
       "            observer.disconnect();\n",
       "        }}\n",
       "}});\n",
       "\n",
       "// Listen for the removal of the full notebook cells\n",
       "var notebookContainer = gd.closest('#notebook-container');\n",
       "if (notebookContainer) {{\n",
       "    x.observe(notebookContainer, {childList: true});\n",
       "}}\n",
       "\n",
       "// Listen for the clearing of the current output cell\n",
       "var outputEl = gd.closest('.output');\n",
       "if (outputEl) {{\n",
       "    x.observe(outputEl, {childList: true});\n",
       "}}\n",
       "\n",
       "                        })                };                });            </script>        </div>"
      ]
     },
     "metadata": {},
     "output_type": "display_data"
    }
   ],
   "source": [
    "optuna.visualization.plot_optimization_history(study_PPO2_MLP)"
   ]
  },
  {
   "cell_type": "code",
   "execution_count": 15,
   "id": "b03f88e9",
   "metadata": {},
   "outputs": [
    {
     "data": {
      "application/vnd.plotly.v1+json": {
       "config": {
        "plotlyServerURL": "https://plot.ly"
       },
       "data": [
        {
         "marker": {
          "color": [
           0,
           1,
           2,
           3,
           4,
           5,
           6,
           7,
           8,
           9,
           10,
           11,
           12,
           13,
           14,
           15,
           16,
           17,
           18,
           19,
           20,
           21,
           22,
           23,
           24,
           25,
           26,
           27,
           28,
           29,
           30,
           31,
           32,
           33,
           34,
           35,
           36,
           37,
           38,
           39
          ],
          "colorbar": {
           "title": {
            "text": "#Trials"
           },
           "x": 1,
           "xpad": 40
          },
          "colorscale": [
           [
            0,
            "rgb(247,251,255)"
           ],
           [
            0.125,
            "rgb(222,235,247)"
           ],
           [
            0.25,
            "rgb(198,219,239)"
           ],
           [
            0.375,
            "rgb(158,202,225)"
           ],
           [
            0.5,
            "rgb(107,174,214)"
           ],
           [
            0.625,
            "rgb(66,146,198)"
           ],
           [
            0.75,
            "rgb(33,113,181)"
           ],
           [
            0.875,
            "rgb(8,81,156)"
           ],
           [
            1,
            "rgb(8,48,107)"
           ]
          ],
          "line": {
           "color": "Grey",
           "width": 0.5
          },
          "showscale": true
         },
         "mode": "markers",
         "showlegend": false,
         "type": "scatter",
         "x": [
          0.10535447774891055,
          0.28345253692709843,
          0.2747286823182964,
          0.14416220996866458,
          0.11982105170147347,
          0.11396819309520255,
          0.3667568536317414,
          0.39856205220327023,
          0.27477495401736596,
          0.12185085582072783,
          0.11711726660046677,
          0.2661125348970573,
          0.3797338168416776,
          0.3997987832927556,
          0.39830966708746857,
          0.3988742522642937,
          0.398770358233591,
          0.3453539236574957,
          0.33802469373329364,
          0.3407598151751516,
          0.33865049493417687,
          0.3373256903342122,
          0.22033414142144098,
          0.18604216982044391,
          0.3142665878721625,
          0.204745839177203,
          0.3079043589406326,
          0.1922357730165789,
          0.19213593212261496,
          0.22745391650469807,
          0.16025946747480752,
          0.16361410999801296,
          0.23488157372327967,
          0.23146786304697894,
          0.370729188022056,
          0.17789999873235232,
          0.18617680735751352,
          0.3741741648750632,
          0.35998903096485607,
          0.25475191619056203
         ],
         "xaxis": "x",
         "y": [
          0,
          1092.2906494140625,
          39.05487823486328,
          711.7357788085938,
          792.2865600585938,
          0,
          -667.5751953125,
          -600.6483764648438,
          1848.3780517578125,
          -11.835366249084473,
          844.4044799804688,
          1004.0142211914062,
          53.59552764892578,
          195.06504821777344,
          1433.418701171875,
          148.21951293945312,
          0,
          -37.59552764892578,
          -222.5894317626953,
          -248.52845764160156,
          0,
          0,
          0,
          -293.4776306152344,
          338.7804870605469,
          -42.63821029663086,
          158.31707763671875,
          -689.319091796875,
          420.5711364746094,
          310.2459411621094,
          -228.6544647216797,
          3.136178970336914,
          -67.03658294677734,
          223.15650939941406,
          199.18699645996094,
          37.800811767578125,
          717.8475341796875,
          630.8150634765625,
          1176.0467529296875,
          787.806884765625
         ],
         "yaxis": "y"
        },
        {
         "marker": {
          "color": [
           0,
           1,
           2,
           3,
           4,
           5,
           6,
           7,
           8,
           9,
           10,
           11,
           12,
           13,
           14,
           15,
           16,
           17,
           18,
           19,
           20,
           21,
           22,
           23,
           24,
           25,
           26,
           27,
           28,
           29,
           30,
           31,
           32,
           33,
           34,
           35,
           36,
           37,
           38,
           39
          ],
          "colorbar": {
           "title": {
            "text": "#Trials"
           },
           "x": 1,
           "xpad": 40
          },
          "colorscale": [
           [
            0,
            "rgb(247,251,255)"
           ],
           [
            0.125,
            "rgb(222,235,247)"
           ],
           [
            0.25,
            "rgb(198,219,239)"
           ],
           [
            0.375,
            "rgb(158,202,225)"
           ],
           [
            0.5,
            "rgb(107,174,214)"
           ],
           [
            0.625,
            "rgb(66,146,198)"
           ],
           [
            0.75,
            "rgb(33,113,181)"
           ],
           [
            0.875,
            "rgb(8,81,156)"
           ],
           [
            1,
            "rgb(8,48,107)"
           ]
          ],
          "line": {
           "color": "Grey",
           "width": 0.5
          },
          "showscale": false
         },
         "mode": "markers",
         "showlegend": false,
         "type": "scatter",
         "x": [
          4.6291274861937185e-07,
          7.687110416905082e-08,
          0.030018412949348816,
          3.8251317411154744e-07,
          0.0825154346436701,
          4.855925753120691e-05,
          2.2349198476565243e-06,
          1.79253151709401e-06,
          1.3468327272361498e-06,
          1.5718268580584929e-07,
          1.2112522132194753e-08,
          0.0009409480371527875,
          2.2977426139711148e-05,
          1.1534199120407075e-05,
          1.9503779924885355e-05,
          1.1813545057949718e-05,
          9.859993884486167e-06,
          4.261137450518916e-06,
          0.0004999611114999293,
          0.00030842137723652464,
          0.0003001205027308802,
          0.0001934182042571789,
          0.0001897996710314604,
          1.768276278791295e-08,
          0.0041618677488005264,
          0.003958295035418003,
          0.004570965649451871,
          1.2629218417257388e-08,
          1.3951049657322418e-08,
          1.924673256618402e-06,
          5.7384194620122365e-08,
          1.839271833455984e-06,
          1.5867750938580642e-06,
          1.2713630406971585e-06,
          3.5918581926200545e-08,
          3.194696262321683e-08,
          3.3129322765554865e-08,
          5.204234652318303e-08,
          2.5412913917960816e-07,
          2.2963814520871022e-07
         ],
         "xaxis": "x2",
         "y": [
          0,
          1092.2906494140625,
          39.05487823486328,
          711.7357788085938,
          792.2865600585938,
          0,
          -667.5751953125,
          -600.6483764648438,
          1848.3780517578125,
          -11.835366249084473,
          844.4044799804688,
          1004.0142211914062,
          53.59552764892578,
          195.06504821777344,
          1433.418701171875,
          148.21951293945312,
          0,
          -37.59552764892578,
          -222.5894317626953,
          -248.52845764160156,
          0,
          0,
          0,
          -293.4776306152344,
          338.7804870605469,
          -42.63821029663086,
          158.31707763671875,
          -689.319091796875,
          420.5711364746094,
          310.2459411621094,
          -228.6544647216797,
          3.136178970336914,
          -67.03658294677734,
          223.15650939941406,
          199.18699645996094,
          37.800811767578125,
          717.8475341796875,
          630.8150634765625,
          1176.0467529296875,
          787.806884765625
         ],
         "yaxis": "y2"
        },
        {
         "marker": {
          "color": [
           0,
           1,
           2,
           3,
           4,
           5,
           6,
           7,
           8,
           9,
           10,
           11,
           12,
           13,
           14,
           15,
           16,
           17,
           18,
           19,
           20,
           21,
           22,
           23,
           24,
           25,
           26,
           27,
           28,
           29,
           30,
           31,
           32,
           33,
           34,
           35,
           36,
           37,
           38,
           39
          ],
          "colorbar": {
           "title": {
            "text": "#Trials"
           },
           "x": 1,
           "xpad": 40
          },
          "colorscale": [
           [
            0,
            "rgb(247,251,255)"
           ],
           [
            0.125,
            "rgb(222,235,247)"
           ],
           [
            0.25,
            "rgb(198,219,239)"
           ],
           [
            0.375,
            "rgb(158,202,225)"
           ],
           [
            0.5,
            "rgb(107,174,214)"
           ],
           [
            0.625,
            "rgb(66,146,198)"
           ],
           [
            0.75,
            "rgb(33,113,181)"
           ],
           [
            0.875,
            "rgb(8,81,156)"
           ],
           [
            1,
            "rgb(8,48,107)"
           ]
          ],
          "line": {
           "color": "Grey",
           "width": 0.5
          },
          "showscale": false
         },
         "mode": "markers",
         "showlegend": false,
         "type": "scatter",
         "x": [
          0.9699742264854411,
          0.9516877534778488,
          0.9491785712261684,
          0.9356897337675878,
          0.9419363537309081,
          0.9878790047491978,
          0.9009458462733971,
          0.9066341664120575,
          0.9555906136361364,
          0.9069142456178456,
          0.9051288074509484,
          0.9485248603761897,
          0.9224778403592265,
          0.9239196841610594,
          0.901431004862205,
          0.9193983078081917,
          0.9194272444452652,
          0.9198058794363967,
          0.9202509396144838,
          0.9148612533403734,
          0.9109211578262663,
          0.91082637051806,
          0.997184252746593,
          0.9960576847195753,
          0.9009032342048726,
          0.9318831436188414,
          0.9304892636090711,
          0.9703336836321487,
          0.970487918451647,
          0.9710893974119613,
          0.9713866316875736,
          0.9709749800622192,
          0.9633269556076441,
          0.9623715265496441,
          0.9611044374745468,
          0.984130343625928,
          0.9888781960535598,
          0.9812821135896699,
          0.9794823795055264,
          0.9800476253908093
         ],
         "xaxis": "x3",
         "y": [
          0,
          1092.2906494140625,
          39.05487823486328,
          711.7357788085938,
          792.2865600585938,
          0,
          -667.5751953125,
          -600.6483764648438,
          1848.3780517578125,
          -11.835366249084473,
          844.4044799804688,
          1004.0142211914062,
          53.59552764892578,
          195.06504821777344,
          1433.418701171875,
          148.21951293945312,
          0,
          -37.59552764892578,
          -222.5894317626953,
          -248.52845764160156,
          0,
          0,
          0,
          -293.4776306152344,
          338.7804870605469,
          -42.63821029663086,
          158.31707763671875,
          -689.319091796875,
          420.5711364746094,
          310.2459411621094,
          -228.6544647216797,
          3.136178970336914,
          -67.03658294677734,
          223.15650939941406,
          199.18699645996094,
          37.800811767578125,
          717.8475341796875,
          630.8150634765625,
          1176.0467529296875,
          787.806884765625
         ],
         "yaxis": "y3"
        },
        {
         "marker": {
          "color": [
           0,
           1,
           2,
           3,
           4,
           5,
           6,
           7,
           8,
           9,
           10,
           11,
           12,
           13,
           14,
           15,
           16,
           17,
           18,
           19,
           20,
           21,
           22,
           23,
           24,
           25,
           26,
           27,
           28,
           29,
           30,
           31,
           32,
           33,
           34,
           35,
           36,
           37,
           38,
           39
          ],
          "colorbar": {
           "title": {
            "text": "#Trials"
           },
           "x": 1,
           "xpad": 40
          },
          "colorscale": [
           [
            0,
            "rgb(247,251,255)"
           ],
           [
            0.125,
            "rgb(222,235,247)"
           ],
           [
            0.25,
            "rgb(198,219,239)"
           ],
           [
            0.375,
            "rgb(158,202,225)"
           ],
           [
            0.5,
            "rgb(107,174,214)"
           ],
           [
            0.625,
            "rgb(66,146,198)"
           ],
           [
            0.75,
            "rgb(33,113,181)"
           ],
           [
            0.875,
            "rgb(8,81,156)"
           ],
           [
            1,
            "rgb(8,48,107)"
           ]
          ],
          "line": {
           "color": "Grey",
           "width": 0.5
          },
          "showscale": false
         },
         "mode": "markers",
         "showlegend": false,
         "type": "scatter",
         "x": [
          0.9062333248933477,
          0.9961116007730965,
          0.8592220659973423,
          0.8718994870571033,
          0.9657071833564314,
          0.8919346736803146,
          0.9811784983268537,
          0.9908024118986549,
          0.9086981156798696,
          0.858045750862562,
          0.8792560535633888,
          0.8413864669596673,
          0.9524519748009739,
          0.9528316808461702,
          0.9513085007313681,
          0.951044441513173,
          0.9927533970219914,
          0.9985587240771222,
          0.9999751133904448,
          0.9975613595327317,
          0.9238670485281064,
          0.8120185879421417,
          0.8089452583039596,
          0.8034253102552769,
          0.9712018731305944,
          0.9746002683943272,
          0.9743439512778399,
          0.9692877319759365,
          0.9350598667410733,
          0.9771049102882927,
          0.9310190026424717,
          0.9772787022096012,
          0.9829444648326631,
          0.9767730687699601,
          0.8266654902402097,
          0.8328665950262714,
          0.8326561299267896,
          0.8370131014292398,
          0.9097454884209756,
          0.9127255686755944
         ],
         "xaxis": "x4",
         "y": [
          0,
          1092.2906494140625,
          39.05487823486328,
          711.7357788085938,
          792.2865600585938,
          0,
          -667.5751953125,
          -600.6483764648438,
          1848.3780517578125,
          -11.835366249084473,
          844.4044799804688,
          1004.0142211914062,
          53.59552764892578,
          195.06504821777344,
          1433.418701171875,
          148.21951293945312,
          0,
          -37.59552764892578,
          -222.5894317626953,
          -248.52845764160156,
          0,
          0,
          0,
          -293.4776306152344,
          338.7804870605469,
          -42.63821029663086,
          158.31707763671875,
          -689.319091796875,
          420.5711364746094,
          310.2459411621094,
          -228.6544647216797,
          3.136178970336914,
          -67.03658294677734,
          223.15650939941406,
          199.18699645996094,
          37.800811767578125,
          717.8475341796875,
          630.8150634765625,
          1176.0467529296875,
          787.806884765625
         ],
         "yaxis": "y4"
        },
        {
         "marker": {
          "color": [
           0,
           1,
           2,
           3,
           4,
           5,
           6,
           7,
           8,
           9,
           10,
           11,
           12,
           13,
           14,
           15,
           16,
           17,
           18,
           19,
           20,
           21,
           22,
           23,
           24,
           25,
           26,
           27,
           28,
           29,
           30,
           31,
           32,
           33,
           34,
           35,
           36,
           37,
           38,
           39
          ],
          "colorbar": {
           "title": {
            "text": "#Trials"
           },
           "x": 1,
           "xpad": 40
          },
          "colorscale": [
           [
            0,
            "rgb(247,251,255)"
           ],
           [
            0.125,
            "rgb(222,235,247)"
           ],
           [
            0.25,
            "rgb(198,219,239)"
           ],
           [
            0.375,
            "rgb(158,202,225)"
           ],
           [
            0.5,
            "rgb(107,174,214)"
           ],
           [
            0.625,
            "rgb(66,146,198)"
           ],
           [
            0.75,
            "rgb(33,113,181)"
           ],
           [
            0.875,
            "rgb(8,81,156)"
           ],
           [
            1,
            "rgb(8,48,107)"
           ]
          ],
          "line": {
           "color": "Grey",
           "width": 0.5
          },
          "showscale": false
         },
         "mode": "markers",
         "showlegend": false,
         "type": "scatter",
         "x": [
          0.13885105287002955,
          0.006247350420059821,
          2.0491160416283963e-05,
          4.8698934995773995e-05,
          0.0019049990395141113,
          0.2600082059839999,
          0.0025866216707964474,
          0.01426623357483584,
          2.7805801124875147e-05,
          0.006485998548787543,
          0.00044107867308795584,
          0.0023675228888304345,
          0.00020926326288934355,
          0.00017773112990622758,
          0.024891869304333958,
          0.039271961722225766,
          0.06259133545378441,
          0.06287983092090796,
          0.0004466045621795941,
          0.038401296292042336,
          0.9047999015097157,
          0.7293705290287825,
          0.7431909090780872,
          0.016595526189047437,
          0.013254620663306209,
          0.011686190314371781,
          0.010769470114371354,
          0.012366075775935122,
          0.001073647323762753,
          0.000914072749891498,
          0.001619989541684181,
          0.0053289527514016255,
          0.1785911453507636,
          0.005670458516570281,
          0.16756324377146714,
          0.0034241723848852635,
          0.13323456928897384,
          0.024247561782309423,
          0.016748488058298042,
          0.01602752262170436
         ],
         "xaxis": "x5",
         "y": [
          0,
          1092.2906494140625,
          39.05487823486328,
          711.7357788085938,
          792.2865600585938,
          0,
          -667.5751953125,
          -600.6483764648438,
          1848.3780517578125,
          -11.835366249084473,
          844.4044799804688,
          1004.0142211914062,
          53.59552764892578,
          195.06504821777344,
          1433.418701171875,
          148.21951293945312,
          0,
          -37.59552764892578,
          -222.5894317626953,
          -248.52845764160156,
          0,
          0,
          0,
          -293.4776306152344,
          338.7804870605469,
          -42.63821029663086,
          158.31707763671875,
          -689.319091796875,
          420.5711364746094,
          310.2459411621094,
          -228.6544647216797,
          3.136178970336914,
          -67.03658294677734,
          223.15650939941406,
          199.18699645996094,
          37.800811767578125,
          717.8475341796875,
          630.8150634765625,
          1176.0467529296875,
          787.806884765625
         ],
         "yaxis": "y5"
        },
        {
         "marker": {
          "color": [
           0,
           1,
           2,
           3,
           4,
           5,
           6,
           7,
           8,
           9,
           10,
           11,
           12,
           13,
           14,
           15,
           16,
           17,
           18,
           19,
           20,
           21,
           22,
           23,
           24,
           25,
           26,
           27,
           28,
           29,
           30,
           31,
           32,
           33,
           34,
           35,
           36,
           37,
           38,
           39
          ],
          "colorbar": {
           "title": {
            "text": "#Trials"
           },
           "x": 1,
           "xpad": 40
          },
          "colorscale": [
           [
            0,
            "rgb(247,251,255)"
           ],
           [
            0.125,
            "rgb(222,235,247)"
           ],
           [
            0.25,
            "rgb(198,219,239)"
           ],
           [
            0.375,
            "rgb(158,202,225)"
           ],
           [
            0.5,
            "rgb(107,174,214)"
           ],
           [
            0.625,
            "rgb(66,146,198)"
           ],
           [
            0.75,
            "rgb(33,113,181)"
           ],
           [
            0.875,
            "rgb(8,81,156)"
           ],
           [
            1,
            "rgb(8,48,107)"
           ]
          ],
          "line": {
           "color": "Grey",
           "width": 0.5
          },
          "showscale": false
         },
         "mode": "markers",
         "showlegend": false,
         "type": "scatter",
         "x": [
          124.85510579857383,
          799.3245448629137,
          66.16806161773671,
          37.20230073771136,
          18.08204053753098,
          236.09897210180648,
          16.412286883702595,
          509.52992471054404,
          91.16007727824153,
          52.448795745368145,
          24.950702600545466,
          239.42355197775584,
          1922.658089381663,
          59.94773319169398,
          1033.7319426211225,
          859.1317980565568,
          530.6479788234518,
          466.39654938773566,
          405.94210529575815,
          400.32931522199686,
          471.2275036203172,
          154.2603466446277,
          159.370377962833,
          170.11930089691182,
          161.95711168966386,
          280.4382182702114,
          289.030294605571,
          1877.7335702866903,
          1896.2609353519135,
          1661.6560077822123,
          1934.3648768625274,
          1358.0040220878313,
          1308.6824615607159,
          1175.4147445109252,
          639.9892343425765,
          1077.6798229158505,
          647.9031623363338,
          662.047494467169,
          670.0862782455605,
          105.10624956901304
         ],
         "xaxis": "x6",
         "y": [
          0,
          1092.2906494140625,
          39.05487823486328,
          711.7357788085938,
          792.2865600585938,
          0,
          -667.5751953125,
          -600.6483764648438,
          1848.3780517578125,
          -11.835366249084473,
          844.4044799804688,
          1004.0142211914062,
          53.59552764892578,
          195.06504821777344,
          1433.418701171875,
          148.21951293945312,
          0,
          -37.59552764892578,
          -222.5894317626953,
          -248.52845764160156,
          0,
          0,
          0,
          -293.4776306152344,
          338.7804870605469,
          -42.63821029663086,
          158.31707763671875,
          -689.319091796875,
          420.5711364746094,
          310.2459411621094,
          -228.6544647216797,
          3.136178970336914,
          -67.03658294677734,
          223.15650939941406,
          199.18699645996094,
          37.800811767578125,
          717.8475341796875,
          630.8150634765625,
          1176.0467529296875,
          787.806884765625
         ],
         "yaxis": "y6"
        },
        {
         "marker": {
          "color": [
           0,
           1,
           2,
           3,
           4,
           5,
           6,
           7,
           8,
           9,
           10,
           11,
           12,
           13,
           14,
           15,
           16,
           17,
           18,
           19,
           20,
           21,
           22,
           23,
           24,
           25,
           26,
           27,
           28,
           29,
           30,
           31,
           32,
           33,
           34,
           35,
           36,
           37,
           38,
           39
          ],
          "colorbar": {
           "title": {
            "text": "#Trials"
           },
           "x": 1,
           "xpad": 40
          },
          "colorscale": [
           [
            0,
            "rgb(247,251,255)"
           ],
           [
            0.125,
            "rgb(222,235,247)"
           ],
           [
            0.25,
            "rgb(198,219,239)"
           ],
           [
            0.375,
            "rgb(158,202,225)"
           ],
           [
            0.5,
            "rgb(107,174,214)"
           ],
           [
            0.625,
            "rgb(66,146,198)"
           ],
           [
            0.75,
            "rgb(33,113,181)"
           ],
           [
            0.875,
            "rgb(8,81,156)"
           ],
           [
            1,
            "rgb(8,48,107)"
           ]
          ],
          "line": {
           "color": "Grey",
           "width": 0.5
          },
          "showscale": false
         },
         "mode": "markers",
         "showlegend": false,
         "type": "scatter",
         "x": [
          9.012785503634982,
          4.439588881911275,
          3.9952020625220213,
          1.2142982339847794,
          2.3268244545990884,
          9.967300637605678,
          1.4806994759995935,
          30.076098816722524,
          8.27314942426846,
          5.761168694328062,
          1.2967302098984674,
          8.841110264909297,
          27.2453264590691,
          19.311872507440178,
          37.268100173962665,
          33.80776899536392,
          46.51353845107084,
          17.104841507182243,
          14.550433028883761,
          16.489120167993278,
          16.738227232556486,
          2.189588969472701,
          2.898108954862357,
          2.2852946464154056,
          26.383433639543505,
          27.195528039731606,
          23.445823924649567,
          1.765467533578753,
          1.7451220466050763,
          1.7000905265193473,
          1.631374565934738,
          1.0257751678488467,
          3.539990051967265,
          1.0382374793488875,
          3.330476917988883,
          3.2996178815190116,
          3.69377413286629,
          2.884749603815287,
          4.775788059064218,
          5.884873540974357
         ],
         "xaxis": "x7",
         "y": [
          0,
          1092.2906494140625,
          39.05487823486328,
          711.7357788085938,
          792.2865600585938,
          0,
          -667.5751953125,
          -600.6483764648438,
          1848.3780517578125,
          -11.835366249084473,
          844.4044799804688,
          1004.0142211914062,
          53.59552764892578,
          195.06504821777344,
          1433.418701171875,
          148.21951293945312,
          0,
          -37.59552764892578,
          -222.5894317626953,
          -248.52845764160156,
          0,
          0,
          0,
          -293.4776306152344,
          338.7804870605469,
          -42.63821029663086,
          158.31707763671875,
          -689.319091796875,
          420.5711364746094,
          310.2459411621094,
          -228.6544647216797,
          3.136178970336914,
          -67.03658294677734,
          223.15650939941406,
          199.18699645996094,
          37.800811767578125,
          717.8475341796875,
          630.8150634765625,
          1176.0467529296875,
          787.806884765625
         ],
         "yaxis": "y7"
        }
       ],
       "layout": {
        "template": {
         "data": {
          "bar": [
           {
            "error_x": {
             "color": "#2a3f5f"
            },
            "error_y": {
             "color": "#2a3f5f"
            },
            "marker": {
             "line": {
              "color": "#E5ECF6",
              "width": 0.5
             },
             "pattern": {
              "fillmode": "overlay",
              "size": 10,
              "solidity": 0.2
             }
            },
            "type": "bar"
           }
          ],
          "barpolar": [
           {
            "marker": {
             "line": {
              "color": "#E5ECF6",
              "width": 0.5
             },
             "pattern": {
              "fillmode": "overlay",
              "size": 10,
              "solidity": 0.2
             }
            },
            "type": "barpolar"
           }
          ],
          "carpet": [
           {
            "aaxis": {
             "endlinecolor": "#2a3f5f",
             "gridcolor": "white",
             "linecolor": "white",
             "minorgridcolor": "white",
             "startlinecolor": "#2a3f5f"
            },
            "baxis": {
             "endlinecolor": "#2a3f5f",
             "gridcolor": "white",
             "linecolor": "white",
             "minorgridcolor": "white",
             "startlinecolor": "#2a3f5f"
            },
            "type": "carpet"
           }
          ],
          "choropleth": [
           {
            "colorbar": {
             "outlinewidth": 0,
             "ticks": ""
            },
            "type": "choropleth"
           }
          ],
          "contour": [
           {
            "colorbar": {
             "outlinewidth": 0,
             "ticks": ""
            },
            "colorscale": [
             [
              0,
              "#0d0887"
             ],
             [
              0.1111111111111111,
              "#46039f"
             ],
             [
              0.2222222222222222,
              "#7201a8"
             ],
             [
              0.3333333333333333,
              "#9c179e"
             ],
             [
              0.4444444444444444,
              "#bd3786"
             ],
             [
              0.5555555555555556,
              "#d8576b"
             ],
             [
              0.6666666666666666,
              "#ed7953"
             ],
             [
              0.7777777777777778,
              "#fb9f3a"
             ],
             [
              0.8888888888888888,
              "#fdca26"
             ],
             [
              1,
              "#f0f921"
             ]
            ],
            "type": "contour"
           }
          ],
          "contourcarpet": [
           {
            "colorbar": {
             "outlinewidth": 0,
             "ticks": ""
            },
            "type": "contourcarpet"
           }
          ],
          "heatmap": [
           {
            "colorbar": {
             "outlinewidth": 0,
             "ticks": ""
            },
            "colorscale": [
             [
              0,
              "#0d0887"
             ],
             [
              0.1111111111111111,
              "#46039f"
             ],
             [
              0.2222222222222222,
              "#7201a8"
             ],
             [
              0.3333333333333333,
              "#9c179e"
             ],
             [
              0.4444444444444444,
              "#bd3786"
             ],
             [
              0.5555555555555556,
              "#d8576b"
             ],
             [
              0.6666666666666666,
              "#ed7953"
             ],
             [
              0.7777777777777778,
              "#fb9f3a"
             ],
             [
              0.8888888888888888,
              "#fdca26"
             ],
             [
              1,
              "#f0f921"
             ]
            ],
            "type": "heatmap"
           }
          ],
          "heatmapgl": [
           {
            "colorbar": {
             "outlinewidth": 0,
             "ticks": ""
            },
            "colorscale": [
             [
              0,
              "#0d0887"
             ],
             [
              0.1111111111111111,
              "#46039f"
             ],
             [
              0.2222222222222222,
              "#7201a8"
             ],
             [
              0.3333333333333333,
              "#9c179e"
             ],
             [
              0.4444444444444444,
              "#bd3786"
             ],
             [
              0.5555555555555556,
              "#d8576b"
             ],
             [
              0.6666666666666666,
              "#ed7953"
             ],
             [
              0.7777777777777778,
              "#fb9f3a"
             ],
             [
              0.8888888888888888,
              "#fdca26"
             ],
             [
              1,
              "#f0f921"
             ]
            ],
            "type": "heatmapgl"
           }
          ],
          "histogram": [
           {
            "marker": {
             "pattern": {
              "fillmode": "overlay",
              "size": 10,
              "solidity": 0.2
             }
            },
            "type": "histogram"
           }
          ],
          "histogram2d": [
           {
            "colorbar": {
             "outlinewidth": 0,
             "ticks": ""
            },
            "colorscale": [
             [
              0,
              "#0d0887"
             ],
             [
              0.1111111111111111,
              "#46039f"
             ],
             [
              0.2222222222222222,
              "#7201a8"
             ],
             [
              0.3333333333333333,
              "#9c179e"
             ],
             [
              0.4444444444444444,
              "#bd3786"
             ],
             [
              0.5555555555555556,
              "#d8576b"
             ],
             [
              0.6666666666666666,
              "#ed7953"
             ],
             [
              0.7777777777777778,
              "#fb9f3a"
             ],
             [
              0.8888888888888888,
              "#fdca26"
             ],
             [
              1,
              "#f0f921"
             ]
            ],
            "type": "histogram2d"
           }
          ],
          "histogram2dcontour": [
           {
            "colorbar": {
             "outlinewidth": 0,
             "ticks": ""
            },
            "colorscale": [
             [
              0,
              "#0d0887"
             ],
             [
              0.1111111111111111,
              "#46039f"
             ],
             [
              0.2222222222222222,
              "#7201a8"
             ],
             [
              0.3333333333333333,
              "#9c179e"
             ],
             [
              0.4444444444444444,
              "#bd3786"
             ],
             [
              0.5555555555555556,
              "#d8576b"
             ],
             [
              0.6666666666666666,
              "#ed7953"
             ],
             [
              0.7777777777777778,
              "#fb9f3a"
             ],
             [
              0.8888888888888888,
              "#fdca26"
             ],
             [
              1,
              "#f0f921"
             ]
            ],
            "type": "histogram2dcontour"
           }
          ],
          "mesh3d": [
           {
            "colorbar": {
             "outlinewidth": 0,
             "ticks": ""
            },
            "type": "mesh3d"
           }
          ],
          "parcoords": [
           {
            "line": {
             "colorbar": {
              "outlinewidth": 0,
              "ticks": ""
             }
            },
            "type": "parcoords"
           }
          ],
          "pie": [
           {
            "automargin": true,
            "type": "pie"
           }
          ],
          "scatter": [
           {
            "marker": {
             "colorbar": {
              "outlinewidth": 0,
              "ticks": ""
             }
            },
            "type": "scatter"
           }
          ],
          "scatter3d": [
           {
            "line": {
             "colorbar": {
              "outlinewidth": 0,
              "ticks": ""
             }
            },
            "marker": {
             "colorbar": {
              "outlinewidth": 0,
              "ticks": ""
             }
            },
            "type": "scatter3d"
           }
          ],
          "scattercarpet": [
           {
            "marker": {
             "colorbar": {
              "outlinewidth": 0,
              "ticks": ""
             }
            },
            "type": "scattercarpet"
           }
          ],
          "scattergeo": [
           {
            "marker": {
             "colorbar": {
              "outlinewidth": 0,
              "ticks": ""
             }
            },
            "type": "scattergeo"
           }
          ],
          "scattergl": [
           {
            "marker": {
             "colorbar": {
              "outlinewidth": 0,
              "ticks": ""
             }
            },
            "type": "scattergl"
           }
          ],
          "scattermapbox": [
           {
            "marker": {
             "colorbar": {
              "outlinewidth": 0,
              "ticks": ""
             }
            },
            "type": "scattermapbox"
           }
          ],
          "scatterpolar": [
           {
            "marker": {
             "colorbar": {
              "outlinewidth": 0,
              "ticks": ""
             }
            },
            "type": "scatterpolar"
           }
          ],
          "scatterpolargl": [
           {
            "marker": {
             "colorbar": {
              "outlinewidth": 0,
              "ticks": ""
             }
            },
            "type": "scatterpolargl"
           }
          ],
          "scatterternary": [
           {
            "marker": {
             "colorbar": {
              "outlinewidth": 0,
              "ticks": ""
             }
            },
            "type": "scatterternary"
           }
          ],
          "surface": [
           {
            "colorbar": {
             "outlinewidth": 0,
             "ticks": ""
            },
            "colorscale": [
             [
              0,
              "#0d0887"
             ],
             [
              0.1111111111111111,
              "#46039f"
             ],
             [
              0.2222222222222222,
              "#7201a8"
             ],
             [
              0.3333333333333333,
              "#9c179e"
             ],
             [
              0.4444444444444444,
              "#bd3786"
             ],
             [
              0.5555555555555556,
              "#d8576b"
             ],
             [
              0.6666666666666666,
              "#ed7953"
             ],
             [
              0.7777777777777778,
              "#fb9f3a"
             ],
             [
              0.8888888888888888,
              "#fdca26"
             ],
             [
              1,
              "#f0f921"
             ]
            ],
            "type": "surface"
           }
          ],
          "table": [
           {
            "cells": {
             "fill": {
              "color": "#EBF0F8"
             },
             "line": {
              "color": "white"
             }
            },
            "header": {
             "fill": {
              "color": "#C8D4E3"
             },
             "line": {
              "color": "white"
             }
            },
            "type": "table"
           }
          ]
         },
         "layout": {
          "annotationdefaults": {
           "arrowcolor": "#2a3f5f",
           "arrowhead": 0,
           "arrowwidth": 1
          },
          "autotypenumbers": "strict",
          "coloraxis": {
           "colorbar": {
            "outlinewidth": 0,
            "ticks": ""
           }
          },
          "colorscale": {
           "diverging": [
            [
             0,
             "#8e0152"
            ],
            [
             0.1,
             "#c51b7d"
            ],
            [
             0.2,
             "#de77ae"
            ],
            [
             0.3,
             "#f1b6da"
            ],
            [
             0.4,
             "#fde0ef"
            ],
            [
             0.5,
             "#f7f7f7"
            ],
            [
             0.6,
             "#e6f5d0"
            ],
            [
             0.7,
             "#b8e186"
            ],
            [
             0.8,
             "#7fbc41"
            ],
            [
             0.9,
             "#4d9221"
            ],
            [
             1,
             "#276419"
            ]
           ],
           "sequential": [
            [
             0,
             "#0d0887"
            ],
            [
             0.1111111111111111,
             "#46039f"
            ],
            [
             0.2222222222222222,
             "#7201a8"
            ],
            [
             0.3333333333333333,
             "#9c179e"
            ],
            [
             0.4444444444444444,
             "#bd3786"
            ],
            [
             0.5555555555555556,
             "#d8576b"
            ],
            [
             0.6666666666666666,
             "#ed7953"
            ],
            [
             0.7777777777777778,
             "#fb9f3a"
            ],
            [
             0.8888888888888888,
             "#fdca26"
            ],
            [
             1,
             "#f0f921"
            ]
           ],
           "sequentialminus": [
            [
             0,
             "#0d0887"
            ],
            [
             0.1111111111111111,
             "#46039f"
            ],
            [
             0.2222222222222222,
             "#7201a8"
            ],
            [
             0.3333333333333333,
             "#9c179e"
            ],
            [
             0.4444444444444444,
             "#bd3786"
            ],
            [
             0.5555555555555556,
             "#d8576b"
            ],
            [
             0.6666666666666666,
             "#ed7953"
            ],
            [
             0.7777777777777778,
             "#fb9f3a"
            ],
            [
             0.8888888888888888,
             "#fdca26"
            ],
            [
             1,
             "#f0f921"
            ]
           ]
          },
          "colorway": [
           "#636efa",
           "#EF553B",
           "#00cc96",
           "#ab63fa",
           "#FFA15A",
           "#19d3f3",
           "#FF6692",
           "#B6E880",
           "#FF97FF",
           "#FECB52"
          ],
          "font": {
           "color": "#2a3f5f"
          },
          "geo": {
           "bgcolor": "white",
           "lakecolor": "white",
           "landcolor": "#E5ECF6",
           "showlakes": true,
           "showland": true,
           "subunitcolor": "white"
          },
          "hoverlabel": {
           "align": "left"
          },
          "hovermode": "closest",
          "mapbox": {
           "style": "light"
          },
          "paper_bgcolor": "white",
          "plot_bgcolor": "#E5ECF6",
          "polar": {
           "angularaxis": {
            "gridcolor": "white",
            "linecolor": "white",
            "ticks": ""
           },
           "bgcolor": "#E5ECF6",
           "radialaxis": {
            "gridcolor": "white",
            "linecolor": "white",
            "ticks": ""
           }
          },
          "scene": {
           "xaxis": {
            "backgroundcolor": "#E5ECF6",
            "gridcolor": "white",
            "gridwidth": 2,
            "linecolor": "white",
            "showbackground": true,
            "ticks": "",
            "zerolinecolor": "white"
           },
           "yaxis": {
            "backgroundcolor": "#E5ECF6",
            "gridcolor": "white",
            "gridwidth": 2,
            "linecolor": "white",
            "showbackground": true,
            "ticks": "",
            "zerolinecolor": "white"
           },
           "zaxis": {
            "backgroundcolor": "#E5ECF6",
            "gridcolor": "white",
            "gridwidth": 2,
            "linecolor": "white",
            "showbackground": true,
            "ticks": "",
            "zerolinecolor": "white"
           }
          },
          "shapedefaults": {
           "line": {
            "color": "#2a3f5f"
           }
          },
          "ternary": {
           "aaxis": {
            "gridcolor": "white",
            "linecolor": "white",
            "ticks": ""
           },
           "baxis": {
            "gridcolor": "white",
            "linecolor": "white",
            "ticks": ""
           },
           "bgcolor": "#E5ECF6",
           "caxis": {
            "gridcolor": "white",
            "linecolor": "white",
            "ticks": ""
           }
          },
          "title": {
           "x": 0.05
          },
          "xaxis": {
           "automargin": true,
           "gridcolor": "white",
           "linecolor": "white",
           "ticks": "",
           "title": {
            "standoff": 15
           },
           "zerolinecolor": "white",
           "zerolinewidth": 2
          },
          "yaxis": {
           "automargin": true,
           "gridcolor": "white",
           "linecolor": "white",
           "ticks": "",
           "title": {
            "standoff": 15
           },
           "zerolinecolor": "white",
           "zerolinewidth": 2
          }
         }
        },
        "title": {
         "text": "Slice Plot"
        },
        "width": 2100,
        "xaxis": {
         "anchor": "y",
         "domain": [
          0,
          0.1183673469387755
         ],
         "title": {
          "text": "cliprange"
         }
        },
        "xaxis2": {
         "anchor": "y2",
         "domain": [
          0.14693877551020407,
          0.26530612244897955
         ],
         "title": {
          "text": "ent_coef"
         },
         "type": "log"
        },
        "xaxis3": {
         "anchor": "y3",
         "domain": [
          0.29387755102040813,
          0.4122448979591836
         ],
         "title": {
          "text": "gamma"
         },
         "type": "log"
        },
        "xaxis4": {
         "anchor": "y4",
         "domain": [
          0.4408163265306122,
          0.5591836734693877
         ],
         "title": {
          "text": "lam"
         }
        },
        "xaxis5": {
         "anchor": "y5",
         "domain": [
          0.5877551020408163,
          0.7061224489795918
         ],
         "title": {
          "text": "learning_rate"
         },
         "type": "log"
        },
        "xaxis6": {
         "anchor": "y6",
         "domain": [
          0.7346938775510204,
          0.8530612244897959
         ],
         "title": {
          "text": "n_steps"
         },
         "type": "log"
        },
        "xaxis7": {
         "anchor": "y7",
         "domain": [
          0.8816326530612244,
          0.9999999999999999
         ],
         "title": {
          "text": "noptepochs"
         },
         "type": "log"
        },
        "yaxis": {
         "anchor": "x",
         "domain": [
          0,
          1
         ],
         "title": {
          "text": "Objective Value"
         }
        },
        "yaxis2": {
         "anchor": "x2",
         "domain": [
          0,
          1
         ],
         "matches": "y",
         "showticklabels": false
        },
        "yaxis3": {
         "anchor": "x3",
         "domain": [
          0,
          1
         ],
         "matches": "y",
         "showticklabels": false
        },
        "yaxis4": {
         "anchor": "x4",
         "domain": [
          0,
          1
         ],
         "matches": "y",
         "showticklabels": false
        },
        "yaxis5": {
         "anchor": "x5",
         "domain": [
          0,
          1
         ],
         "matches": "y",
         "showticklabels": false
        },
        "yaxis6": {
         "anchor": "x6",
         "domain": [
          0,
          1
         ],
         "matches": "y",
         "showticklabels": false
        },
        "yaxis7": {
         "anchor": "x7",
         "domain": [
          0,
          1
         ],
         "matches": "y",
         "showticklabels": false
        }
       }
      },
      "text/html": [
       "<div>                            <div id=\"7a895116-805c-4bb0-acf9-0a38c4592098\" class=\"plotly-graph-div\" style=\"height:525px; width:2100px;\"></div>            <script type=\"text/javascript\">                require([\"plotly\"], function(Plotly) {                    window.PLOTLYENV=window.PLOTLYENV || {};                                    if (document.getElementById(\"7a895116-805c-4bb0-acf9-0a38c4592098\")) {                    Plotly.newPlot(                        \"7a895116-805c-4bb0-acf9-0a38c4592098\",                        [{\"marker\":{\"color\":[0,1,2,3,4,5,6,7,8,9,10,11,12,13,14,15,16,17,18,19,20,21,22,23,24,25,26,27,28,29,30,31,32,33,34,35,36,37,38,39],\"colorbar\":{\"title\":{\"text\":\"#Trials\"},\"x\":1.0,\"xpad\":40},\"colorscale\":[[0.0,\"rgb(247,251,255)\"],[0.125,\"rgb(222,235,247)\"],[0.25,\"rgb(198,219,239)\"],[0.375,\"rgb(158,202,225)\"],[0.5,\"rgb(107,174,214)\"],[0.625,\"rgb(66,146,198)\"],[0.75,\"rgb(33,113,181)\"],[0.875,\"rgb(8,81,156)\"],[1.0,\"rgb(8,48,107)\"]],\"line\":{\"color\":\"Grey\",\"width\":0.5},\"showscale\":true},\"mode\":\"markers\",\"showlegend\":false,\"type\":\"scatter\",\"x\":[0.10535447774891055,0.28345253692709843,0.2747286823182964,0.14416220996866458,0.11982105170147347,0.11396819309520255,0.3667568536317414,0.39856205220327023,0.27477495401736596,0.12185085582072783,0.11711726660046677,0.2661125348970573,0.3797338168416776,0.3997987832927556,0.39830966708746857,0.3988742522642937,0.398770358233591,0.3453539236574957,0.33802469373329364,0.3407598151751516,0.33865049493417687,0.3373256903342122,0.22033414142144098,0.18604216982044391,0.3142665878721625,0.204745839177203,0.3079043589406326,0.1922357730165789,0.19213593212261496,0.22745391650469807,0.16025946747480752,0.16361410999801296,0.23488157372327967,0.23146786304697894,0.370729188022056,0.17789999873235232,0.18617680735751352,0.3741741648750632,0.35998903096485607,0.25475191619056203],\"xaxis\":\"x\",\"y\":[-0.0,1092.2906494140625,39.05487823486328,711.7357788085938,792.2865600585938,-0.0,-667.5751953125,-600.6483764648438,1848.3780517578125,-11.835366249084473,844.4044799804688,1004.0142211914062,53.59552764892578,195.06504821777344,1433.418701171875,148.21951293945312,-0.0,-37.59552764892578,-222.5894317626953,-248.52845764160156,-0.0,-0.0,-0.0,-293.4776306152344,338.7804870605469,-42.63821029663086,158.31707763671875,-689.319091796875,420.5711364746094,310.2459411621094,-228.6544647216797,3.136178970336914,-67.03658294677734,223.15650939941406,199.18699645996094,37.800811767578125,717.8475341796875,630.8150634765625,1176.0467529296875,787.806884765625],\"yaxis\":\"y\"},{\"marker\":{\"color\":[0,1,2,3,4,5,6,7,8,9,10,11,12,13,14,15,16,17,18,19,20,21,22,23,24,25,26,27,28,29,30,31,32,33,34,35,36,37,38,39],\"colorbar\":{\"title\":{\"text\":\"#Trials\"},\"x\":1.0,\"xpad\":40},\"colorscale\":[[0.0,\"rgb(247,251,255)\"],[0.125,\"rgb(222,235,247)\"],[0.25,\"rgb(198,219,239)\"],[0.375,\"rgb(158,202,225)\"],[0.5,\"rgb(107,174,214)\"],[0.625,\"rgb(66,146,198)\"],[0.75,\"rgb(33,113,181)\"],[0.875,\"rgb(8,81,156)\"],[1.0,\"rgb(8,48,107)\"]],\"line\":{\"color\":\"Grey\",\"width\":0.5},\"showscale\":false},\"mode\":\"markers\",\"showlegend\":false,\"type\":\"scatter\",\"x\":[4.6291274861937185e-07,7.687110416905082e-08,0.030018412949348816,3.8251317411154744e-07,0.0825154346436701,4.855925753120691e-05,2.2349198476565243e-06,1.79253151709401e-06,1.3468327272361498e-06,1.5718268580584929e-07,1.2112522132194753e-08,0.0009409480371527875,2.2977426139711148e-05,1.1534199120407075e-05,1.9503779924885355e-05,1.1813545057949718e-05,9.859993884486167e-06,4.261137450518916e-06,0.0004999611114999293,0.00030842137723652464,0.0003001205027308802,0.0001934182042571789,0.0001897996710314604,1.768276278791295e-08,0.0041618677488005264,0.003958295035418003,0.004570965649451871,1.2629218417257388e-08,1.3951049657322418e-08,1.924673256618402e-06,5.7384194620122365e-08,1.839271833455984e-06,1.5867750938580642e-06,1.2713630406971585e-06,3.5918581926200545e-08,3.194696262321683e-08,3.3129322765554865e-08,5.204234652318303e-08,2.5412913917960816e-07,2.2963814520871022e-07],\"xaxis\":\"x2\",\"y\":[-0.0,1092.2906494140625,39.05487823486328,711.7357788085938,792.2865600585938,-0.0,-667.5751953125,-600.6483764648438,1848.3780517578125,-11.835366249084473,844.4044799804688,1004.0142211914062,53.59552764892578,195.06504821777344,1433.418701171875,148.21951293945312,-0.0,-37.59552764892578,-222.5894317626953,-248.52845764160156,-0.0,-0.0,-0.0,-293.4776306152344,338.7804870605469,-42.63821029663086,158.31707763671875,-689.319091796875,420.5711364746094,310.2459411621094,-228.6544647216797,3.136178970336914,-67.03658294677734,223.15650939941406,199.18699645996094,37.800811767578125,717.8475341796875,630.8150634765625,1176.0467529296875,787.806884765625],\"yaxis\":\"y2\"},{\"marker\":{\"color\":[0,1,2,3,4,5,6,7,8,9,10,11,12,13,14,15,16,17,18,19,20,21,22,23,24,25,26,27,28,29,30,31,32,33,34,35,36,37,38,39],\"colorbar\":{\"title\":{\"text\":\"#Trials\"},\"x\":1.0,\"xpad\":40},\"colorscale\":[[0.0,\"rgb(247,251,255)\"],[0.125,\"rgb(222,235,247)\"],[0.25,\"rgb(198,219,239)\"],[0.375,\"rgb(158,202,225)\"],[0.5,\"rgb(107,174,214)\"],[0.625,\"rgb(66,146,198)\"],[0.75,\"rgb(33,113,181)\"],[0.875,\"rgb(8,81,156)\"],[1.0,\"rgb(8,48,107)\"]],\"line\":{\"color\":\"Grey\",\"width\":0.5},\"showscale\":false},\"mode\":\"markers\",\"showlegend\":false,\"type\":\"scatter\",\"x\":[0.9699742264854411,0.9516877534778488,0.9491785712261684,0.9356897337675878,0.9419363537309081,0.9878790047491978,0.9009458462733971,0.9066341664120575,0.9555906136361364,0.9069142456178456,0.9051288074509484,0.9485248603761897,0.9224778403592265,0.9239196841610594,0.901431004862205,0.9193983078081917,0.9194272444452652,0.9198058794363967,0.9202509396144838,0.9148612533403734,0.9109211578262663,0.91082637051806,0.997184252746593,0.9960576847195753,0.9009032342048726,0.9318831436188414,0.9304892636090711,0.9703336836321487,0.970487918451647,0.9710893974119613,0.9713866316875736,0.9709749800622192,0.9633269556076441,0.9623715265496441,0.9611044374745468,0.984130343625928,0.9888781960535598,0.9812821135896699,0.9794823795055264,0.9800476253908093],\"xaxis\":\"x3\",\"y\":[-0.0,1092.2906494140625,39.05487823486328,711.7357788085938,792.2865600585938,-0.0,-667.5751953125,-600.6483764648438,1848.3780517578125,-11.835366249084473,844.4044799804688,1004.0142211914062,53.59552764892578,195.06504821777344,1433.418701171875,148.21951293945312,-0.0,-37.59552764892578,-222.5894317626953,-248.52845764160156,-0.0,-0.0,-0.0,-293.4776306152344,338.7804870605469,-42.63821029663086,158.31707763671875,-689.319091796875,420.5711364746094,310.2459411621094,-228.6544647216797,3.136178970336914,-67.03658294677734,223.15650939941406,199.18699645996094,37.800811767578125,717.8475341796875,630.8150634765625,1176.0467529296875,787.806884765625],\"yaxis\":\"y3\"},{\"marker\":{\"color\":[0,1,2,3,4,5,6,7,8,9,10,11,12,13,14,15,16,17,18,19,20,21,22,23,24,25,26,27,28,29,30,31,32,33,34,35,36,37,38,39],\"colorbar\":{\"title\":{\"text\":\"#Trials\"},\"x\":1.0,\"xpad\":40},\"colorscale\":[[0.0,\"rgb(247,251,255)\"],[0.125,\"rgb(222,235,247)\"],[0.25,\"rgb(198,219,239)\"],[0.375,\"rgb(158,202,225)\"],[0.5,\"rgb(107,174,214)\"],[0.625,\"rgb(66,146,198)\"],[0.75,\"rgb(33,113,181)\"],[0.875,\"rgb(8,81,156)\"],[1.0,\"rgb(8,48,107)\"]],\"line\":{\"color\":\"Grey\",\"width\":0.5},\"showscale\":false},\"mode\":\"markers\",\"showlegend\":false,\"type\":\"scatter\",\"x\":[0.9062333248933477,0.9961116007730965,0.8592220659973423,0.8718994870571033,0.9657071833564314,0.8919346736803146,0.9811784983268537,0.9908024118986549,0.9086981156798696,0.858045750862562,0.8792560535633888,0.8413864669596673,0.9524519748009739,0.9528316808461702,0.9513085007313681,0.951044441513173,0.9927533970219914,0.9985587240771222,0.9999751133904448,0.9975613595327317,0.9238670485281064,0.8120185879421417,0.8089452583039596,0.8034253102552769,0.9712018731305944,0.9746002683943272,0.9743439512778399,0.9692877319759365,0.9350598667410733,0.9771049102882927,0.9310190026424717,0.9772787022096012,0.9829444648326631,0.9767730687699601,0.8266654902402097,0.8328665950262714,0.8326561299267896,0.8370131014292398,0.9097454884209756,0.9127255686755944],\"xaxis\":\"x4\",\"y\":[-0.0,1092.2906494140625,39.05487823486328,711.7357788085938,792.2865600585938,-0.0,-667.5751953125,-600.6483764648438,1848.3780517578125,-11.835366249084473,844.4044799804688,1004.0142211914062,53.59552764892578,195.06504821777344,1433.418701171875,148.21951293945312,-0.0,-37.59552764892578,-222.5894317626953,-248.52845764160156,-0.0,-0.0,-0.0,-293.4776306152344,338.7804870605469,-42.63821029663086,158.31707763671875,-689.319091796875,420.5711364746094,310.2459411621094,-228.6544647216797,3.136178970336914,-67.03658294677734,223.15650939941406,199.18699645996094,37.800811767578125,717.8475341796875,630.8150634765625,1176.0467529296875,787.806884765625],\"yaxis\":\"y4\"},{\"marker\":{\"color\":[0,1,2,3,4,5,6,7,8,9,10,11,12,13,14,15,16,17,18,19,20,21,22,23,24,25,26,27,28,29,30,31,32,33,34,35,36,37,38,39],\"colorbar\":{\"title\":{\"text\":\"#Trials\"},\"x\":1.0,\"xpad\":40},\"colorscale\":[[0.0,\"rgb(247,251,255)\"],[0.125,\"rgb(222,235,247)\"],[0.25,\"rgb(198,219,239)\"],[0.375,\"rgb(158,202,225)\"],[0.5,\"rgb(107,174,214)\"],[0.625,\"rgb(66,146,198)\"],[0.75,\"rgb(33,113,181)\"],[0.875,\"rgb(8,81,156)\"],[1.0,\"rgb(8,48,107)\"]],\"line\":{\"color\":\"Grey\",\"width\":0.5},\"showscale\":false},\"mode\":\"markers\",\"showlegend\":false,\"type\":\"scatter\",\"x\":[0.13885105287002955,0.006247350420059821,2.0491160416283963e-05,4.8698934995773995e-05,0.0019049990395141113,0.2600082059839999,0.0025866216707964474,0.01426623357483584,2.7805801124875147e-05,0.006485998548787543,0.00044107867308795584,0.0023675228888304345,0.00020926326288934355,0.00017773112990622758,0.024891869304333958,0.039271961722225766,0.06259133545378441,0.06287983092090796,0.0004466045621795941,0.038401296292042336,0.9047999015097157,0.7293705290287825,0.7431909090780872,0.016595526189047437,0.013254620663306209,0.011686190314371781,0.010769470114371354,0.012366075775935122,0.001073647323762753,0.000914072749891498,0.001619989541684181,0.0053289527514016255,0.1785911453507636,0.005670458516570281,0.16756324377146714,0.0034241723848852635,0.13323456928897384,0.024247561782309423,0.016748488058298042,0.01602752262170436],\"xaxis\":\"x5\",\"y\":[-0.0,1092.2906494140625,39.05487823486328,711.7357788085938,792.2865600585938,-0.0,-667.5751953125,-600.6483764648438,1848.3780517578125,-11.835366249084473,844.4044799804688,1004.0142211914062,53.59552764892578,195.06504821777344,1433.418701171875,148.21951293945312,-0.0,-37.59552764892578,-222.5894317626953,-248.52845764160156,-0.0,-0.0,-0.0,-293.4776306152344,338.7804870605469,-42.63821029663086,158.31707763671875,-689.319091796875,420.5711364746094,310.2459411621094,-228.6544647216797,3.136178970336914,-67.03658294677734,223.15650939941406,199.18699645996094,37.800811767578125,717.8475341796875,630.8150634765625,1176.0467529296875,787.806884765625],\"yaxis\":\"y5\"},{\"marker\":{\"color\":[0,1,2,3,4,5,6,7,8,9,10,11,12,13,14,15,16,17,18,19,20,21,22,23,24,25,26,27,28,29,30,31,32,33,34,35,36,37,38,39],\"colorbar\":{\"title\":{\"text\":\"#Trials\"},\"x\":1.0,\"xpad\":40},\"colorscale\":[[0.0,\"rgb(247,251,255)\"],[0.125,\"rgb(222,235,247)\"],[0.25,\"rgb(198,219,239)\"],[0.375,\"rgb(158,202,225)\"],[0.5,\"rgb(107,174,214)\"],[0.625,\"rgb(66,146,198)\"],[0.75,\"rgb(33,113,181)\"],[0.875,\"rgb(8,81,156)\"],[1.0,\"rgb(8,48,107)\"]],\"line\":{\"color\":\"Grey\",\"width\":0.5},\"showscale\":false},\"mode\":\"markers\",\"showlegend\":false,\"type\":\"scatter\",\"x\":[124.85510579857383,799.3245448629137,66.16806161773671,37.20230073771136,18.08204053753098,236.09897210180648,16.412286883702595,509.52992471054404,91.16007727824153,52.448795745368145,24.950702600545466,239.42355197775584,1922.658089381663,59.94773319169398,1033.7319426211225,859.1317980565568,530.6479788234518,466.39654938773566,405.94210529575815,400.32931522199686,471.2275036203172,154.2603466446277,159.370377962833,170.11930089691182,161.95711168966386,280.4382182702114,289.030294605571,1877.7335702866903,1896.2609353519135,1661.6560077822123,1934.3648768625274,1358.0040220878313,1308.6824615607159,1175.4147445109252,639.9892343425765,1077.6798229158505,647.9031623363338,662.047494467169,670.0862782455605,105.10624956901304],\"xaxis\":\"x6\",\"y\":[-0.0,1092.2906494140625,39.05487823486328,711.7357788085938,792.2865600585938,-0.0,-667.5751953125,-600.6483764648438,1848.3780517578125,-11.835366249084473,844.4044799804688,1004.0142211914062,53.59552764892578,195.06504821777344,1433.418701171875,148.21951293945312,-0.0,-37.59552764892578,-222.5894317626953,-248.52845764160156,-0.0,-0.0,-0.0,-293.4776306152344,338.7804870605469,-42.63821029663086,158.31707763671875,-689.319091796875,420.5711364746094,310.2459411621094,-228.6544647216797,3.136178970336914,-67.03658294677734,223.15650939941406,199.18699645996094,37.800811767578125,717.8475341796875,630.8150634765625,1176.0467529296875,787.806884765625],\"yaxis\":\"y6\"},{\"marker\":{\"color\":[0,1,2,3,4,5,6,7,8,9,10,11,12,13,14,15,16,17,18,19,20,21,22,23,24,25,26,27,28,29,30,31,32,33,34,35,36,37,38,39],\"colorbar\":{\"title\":{\"text\":\"#Trials\"},\"x\":1.0,\"xpad\":40},\"colorscale\":[[0.0,\"rgb(247,251,255)\"],[0.125,\"rgb(222,235,247)\"],[0.25,\"rgb(198,219,239)\"],[0.375,\"rgb(158,202,225)\"],[0.5,\"rgb(107,174,214)\"],[0.625,\"rgb(66,146,198)\"],[0.75,\"rgb(33,113,181)\"],[0.875,\"rgb(8,81,156)\"],[1.0,\"rgb(8,48,107)\"]],\"line\":{\"color\":\"Grey\",\"width\":0.5},\"showscale\":false},\"mode\":\"markers\",\"showlegend\":false,\"type\":\"scatter\",\"x\":[9.012785503634982,4.439588881911275,3.9952020625220213,1.2142982339847794,2.3268244545990884,9.967300637605678,1.4806994759995935,30.076098816722524,8.27314942426846,5.761168694328062,1.2967302098984674,8.841110264909297,27.2453264590691,19.311872507440178,37.268100173962665,33.80776899536392,46.51353845107084,17.104841507182243,14.550433028883761,16.489120167993278,16.738227232556486,2.189588969472701,2.898108954862357,2.2852946464154056,26.383433639543505,27.195528039731606,23.445823924649567,1.765467533578753,1.7451220466050763,1.7000905265193473,1.631374565934738,1.0257751678488467,3.539990051967265,1.0382374793488875,3.330476917988883,3.2996178815190116,3.69377413286629,2.884749603815287,4.775788059064218,5.884873540974357],\"xaxis\":\"x7\",\"y\":[-0.0,1092.2906494140625,39.05487823486328,711.7357788085938,792.2865600585938,-0.0,-667.5751953125,-600.6483764648438,1848.3780517578125,-11.835366249084473,844.4044799804688,1004.0142211914062,53.59552764892578,195.06504821777344,1433.418701171875,148.21951293945312,-0.0,-37.59552764892578,-222.5894317626953,-248.52845764160156,-0.0,-0.0,-0.0,-293.4776306152344,338.7804870605469,-42.63821029663086,158.31707763671875,-689.319091796875,420.5711364746094,310.2459411621094,-228.6544647216797,3.136178970336914,-67.03658294677734,223.15650939941406,199.18699645996094,37.800811767578125,717.8475341796875,630.8150634765625,1176.0467529296875,787.806884765625],\"yaxis\":\"y7\"}],                        {\"template\":{\"data\":{\"bar\":[{\"error_x\":{\"color\":\"#2a3f5f\"},\"error_y\":{\"color\":\"#2a3f5f\"},\"marker\":{\"line\":{\"color\":\"#E5ECF6\",\"width\":0.5},\"pattern\":{\"fillmode\":\"overlay\",\"size\":10,\"solidity\":0.2}},\"type\":\"bar\"}],\"barpolar\":[{\"marker\":{\"line\":{\"color\":\"#E5ECF6\",\"width\":0.5},\"pattern\":{\"fillmode\":\"overlay\",\"size\":10,\"solidity\":0.2}},\"type\":\"barpolar\"}],\"carpet\":[{\"aaxis\":{\"endlinecolor\":\"#2a3f5f\",\"gridcolor\":\"white\",\"linecolor\":\"white\",\"minorgridcolor\":\"white\",\"startlinecolor\":\"#2a3f5f\"},\"baxis\":{\"endlinecolor\":\"#2a3f5f\",\"gridcolor\":\"white\",\"linecolor\":\"white\",\"minorgridcolor\":\"white\",\"startlinecolor\":\"#2a3f5f\"},\"type\":\"carpet\"}],\"choropleth\":[{\"colorbar\":{\"outlinewidth\":0,\"ticks\":\"\"},\"type\":\"choropleth\"}],\"contour\":[{\"colorbar\":{\"outlinewidth\":0,\"ticks\":\"\"},\"colorscale\":[[0.0,\"#0d0887\"],[0.1111111111111111,\"#46039f\"],[0.2222222222222222,\"#7201a8\"],[0.3333333333333333,\"#9c179e\"],[0.4444444444444444,\"#bd3786\"],[0.5555555555555556,\"#d8576b\"],[0.6666666666666666,\"#ed7953\"],[0.7777777777777778,\"#fb9f3a\"],[0.8888888888888888,\"#fdca26\"],[1.0,\"#f0f921\"]],\"type\":\"contour\"}],\"contourcarpet\":[{\"colorbar\":{\"outlinewidth\":0,\"ticks\":\"\"},\"type\":\"contourcarpet\"}],\"heatmap\":[{\"colorbar\":{\"outlinewidth\":0,\"ticks\":\"\"},\"colorscale\":[[0.0,\"#0d0887\"],[0.1111111111111111,\"#46039f\"],[0.2222222222222222,\"#7201a8\"],[0.3333333333333333,\"#9c179e\"],[0.4444444444444444,\"#bd3786\"],[0.5555555555555556,\"#d8576b\"],[0.6666666666666666,\"#ed7953\"],[0.7777777777777778,\"#fb9f3a\"],[0.8888888888888888,\"#fdca26\"],[1.0,\"#f0f921\"]],\"type\":\"heatmap\"}],\"heatmapgl\":[{\"colorbar\":{\"outlinewidth\":0,\"ticks\":\"\"},\"colorscale\":[[0.0,\"#0d0887\"],[0.1111111111111111,\"#46039f\"],[0.2222222222222222,\"#7201a8\"],[0.3333333333333333,\"#9c179e\"],[0.4444444444444444,\"#bd3786\"],[0.5555555555555556,\"#d8576b\"],[0.6666666666666666,\"#ed7953\"],[0.7777777777777778,\"#fb9f3a\"],[0.8888888888888888,\"#fdca26\"],[1.0,\"#f0f921\"]],\"type\":\"heatmapgl\"}],\"histogram\":[{\"marker\":{\"pattern\":{\"fillmode\":\"overlay\",\"size\":10,\"solidity\":0.2}},\"type\":\"histogram\"}],\"histogram2d\":[{\"colorbar\":{\"outlinewidth\":0,\"ticks\":\"\"},\"colorscale\":[[0.0,\"#0d0887\"],[0.1111111111111111,\"#46039f\"],[0.2222222222222222,\"#7201a8\"],[0.3333333333333333,\"#9c179e\"],[0.4444444444444444,\"#bd3786\"],[0.5555555555555556,\"#d8576b\"],[0.6666666666666666,\"#ed7953\"],[0.7777777777777778,\"#fb9f3a\"],[0.8888888888888888,\"#fdca26\"],[1.0,\"#f0f921\"]],\"type\":\"histogram2d\"}],\"histogram2dcontour\":[{\"colorbar\":{\"outlinewidth\":0,\"ticks\":\"\"},\"colorscale\":[[0.0,\"#0d0887\"],[0.1111111111111111,\"#46039f\"],[0.2222222222222222,\"#7201a8\"],[0.3333333333333333,\"#9c179e\"],[0.4444444444444444,\"#bd3786\"],[0.5555555555555556,\"#d8576b\"],[0.6666666666666666,\"#ed7953\"],[0.7777777777777778,\"#fb9f3a\"],[0.8888888888888888,\"#fdca26\"],[1.0,\"#f0f921\"]],\"type\":\"histogram2dcontour\"}],\"mesh3d\":[{\"colorbar\":{\"outlinewidth\":0,\"ticks\":\"\"},\"type\":\"mesh3d\"}],\"parcoords\":[{\"line\":{\"colorbar\":{\"outlinewidth\":0,\"ticks\":\"\"}},\"type\":\"parcoords\"}],\"pie\":[{\"automargin\":true,\"type\":\"pie\"}],\"scatter\":[{\"marker\":{\"colorbar\":{\"outlinewidth\":0,\"ticks\":\"\"}},\"type\":\"scatter\"}],\"scatter3d\":[{\"line\":{\"colorbar\":{\"outlinewidth\":0,\"ticks\":\"\"}},\"marker\":{\"colorbar\":{\"outlinewidth\":0,\"ticks\":\"\"}},\"type\":\"scatter3d\"}],\"scattercarpet\":[{\"marker\":{\"colorbar\":{\"outlinewidth\":0,\"ticks\":\"\"}},\"type\":\"scattercarpet\"}],\"scattergeo\":[{\"marker\":{\"colorbar\":{\"outlinewidth\":0,\"ticks\":\"\"}},\"type\":\"scattergeo\"}],\"scattergl\":[{\"marker\":{\"colorbar\":{\"outlinewidth\":0,\"ticks\":\"\"}},\"type\":\"scattergl\"}],\"scattermapbox\":[{\"marker\":{\"colorbar\":{\"outlinewidth\":0,\"ticks\":\"\"}},\"type\":\"scattermapbox\"}],\"scatterpolar\":[{\"marker\":{\"colorbar\":{\"outlinewidth\":0,\"ticks\":\"\"}},\"type\":\"scatterpolar\"}],\"scatterpolargl\":[{\"marker\":{\"colorbar\":{\"outlinewidth\":0,\"ticks\":\"\"}},\"type\":\"scatterpolargl\"}],\"scatterternary\":[{\"marker\":{\"colorbar\":{\"outlinewidth\":0,\"ticks\":\"\"}},\"type\":\"scatterternary\"}],\"surface\":[{\"colorbar\":{\"outlinewidth\":0,\"ticks\":\"\"},\"colorscale\":[[0.0,\"#0d0887\"],[0.1111111111111111,\"#46039f\"],[0.2222222222222222,\"#7201a8\"],[0.3333333333333333,\"#9c179e\"],[0.4444444444444444,\"#bd3786\"],[0.5555555555555556,\"#d8576b\"],[0.6666666666666666,\"#ed7953\"],[0.7777777777777778,\"#fb9f3a\"],[0.8888888888888888,\"#fdca26\"],[1.0,\"#f0f921\"]],\"type\":\"surface\"}],\"table\":[{\"cells\":{\"fill\":{\"color\":\"#EBF0F8\"},\"line\":{\"color\":\"white\"}},\"header\":{\"fill\":{\"color\":\"#C8D4E3\"},\"line\":{\"color\":\"white\"}},\"type\":\"table\"}]},\"layout\":{\"annotationdefaults\":{\"arrowcolor\":\"#2a3f5f\",\"arrowhead\":0,\"arrowwidth\":1},\"autotypenumbers\":\"strict\",\"coloraxis\":{\"colorbar\":{\"outlinewidth\":0,\"ticks\":\"\"}},\"colorscale\":{\"diverging\":[[0,\"#8e0152\"],[0.1,\"#c51b7d\"],[0.2,\"#de77ae\"],[0.3,\"#f1b6da\"],[0.4,\"#fde0ef\"],[0.5,\"#f7f7f7\"],[0.6,\"#e6f5d0\"],[0.7,\"#b8e186\"],[0.8,\"#7fbc41\"],[0.9,\"#4d9221\"],[1,\"#276419\"]],\"sequential\":[[0.0,\"#0d0887\"],[0.1111111111111111,\"#46039f\"],[0.2222222222222222,\"#7201a8\"],[0.3333333333333333,\"#9c179e\"],[0.4444444444444444,\"#bd3786\"],[0.5555555555555556,\"#d8576b\"],[0.6666666666666666,\"#ed7953\"],[0.7777777777777778,\"#fb9f3a\"],[0.8888888888888888,\"#fdca26\"],[1.0,\"#f0f921\"]],\"sequentialminus\":[[0.0,\"#0d0887\"],[0.1111111111111111,\"#46039f\"],[0.2222222222222222,\"#7201a8\"],[0.3333333333333333,\"#9c179e\"],[0.4444444444444444,\"#bd3786\"],[0.5555555555555556,\"#d8576b\"],[0.6666666666666666,\"#ed7953\"],[0.7777777777777778,\"#fb9f3a\"],[0.8888888888888888,\"#fdca26\"],[1.0,\"#f0f921\"]]},\"colorway\":[\"#636efa\",\"#EF553B\",\"#00cc96\",\"#ab63fa\",\"#FFA15A\",\"#19d3f3\",\"#FF6692\",\"#B6E880\",\"#FF97FF\",\"#FECB52\"],\"font\":{\"color\":\"#2a3f5f\"},\"geo\":{\"bgcolor\":\"white\",\"lakecolor\":\"white\",\"landcolor\":\"#E5ECF6\",\"showlakes\":true,\"showland\":true,\"subunitcolor\":\"white\"},\"hoverlabel\":{\"align\":\"left\"},\"hovermode\":\"closest\",\"mapbox\":{\"style\":\"light\"},\"paper_bgcolor\":\"white\",\"plot_bgcolor\":\"#E5ECF6\",\"polar\":{\"angularaxis\":{\"gridcolor\":\"white\",\"linecolor\":\"white\",\"ticks\":\"\"},\"bgcolor\":\"#E5ECF6\",\"radialaxis\":{\"gridcolor\":\"white\",\"linecolor\":\"white\",\"ticks\":\"\"}},\"scene\":{\"xaxis\":{\"backgroundcolor\":\"#E5ECF6\",\"gridcolor\":\"white\",\"gridwidth\":2,\"linecolor\":\"white\",\"showbackground\":true,\"ticks\":\"\",\"zerolinecolor\":\"white\"},\"yaxis\":{\"backgroundcolor\":\"#E5ECF6\",\"gridcolor\":\"white\",\"gridwidth\":2,\"linecolor\":\"white\",\"showbackground\":true,\"ticks\":\"\",\"zerolinecolor\":\"white\"},\"zaxis\":{\"backgroundcolor\":\"#E5ECF6\",\"gridcolor\":\"white\",\"gridwidth\":2,\"linecolor\":\"white\",\"showbackground\":true,\"ticks\":\"\",\"zerolinecolor\":\"white\"}},\"shapedefaults\":{\"line\":{\"color\":\"#2a3f5f\"}},\"ternary\":{\"aaxis\":{\"gridcolor\":\"white\",\"linecolor\":\"white\",\"ticks\":\"\"},\"baxis\":{\"gridcolor\":\"white\",\"linecolor\":\"white\",\"ticks\":\"\"},\"bgcolor\":\"#E5ECF6\",\"caxis\":{\"gridcolor\":\"white\",\"linecolor\":\"white\",\"ticks\":\"\"}},\"title\":{\"x\":0.05},\"xaxis\":{\"automargin\":true,\"gridcolor\":\"white\",\"linecolor\":\"white\",\"ticks\":\"\",\"title\":{\"standoff\":15},\"zerolinecolor\":\"white\",\"zerolinewidth\":2},\"yaxis\":{\"automargin\":true,\"gridcolor\":\"white\",\"linecolor\":\"white\",\"ticks\":\"\",\"title\":{\"standoff\":15},\"zerolinecolor\":\"white\",\"zerolinewidth\":2}}},\"title\":{\"text\":\"Slice Plot\"},\"width\":2100,\"xaxis\":{\"anchor\":\"y\",\"domain\":[0.0,0.1183673469387755],\"title\":{\"text\":\"cliprange\"}},\"xaxis2\":{\"anchor\":\"y2\",\"domain\":[0.14693877551020407,0.26530612244897955],\"title\":{\"text\":\"ent_coef\"},\"type\":\"log\"},\"xaxis3\":{\"anchor\":\"y3\",\"domain\":[0.29387755102040813,0.4122448979591836],\"title\":{\"text\":\"gamma\"},\"type\":\"log\"},\"xaxis4\":{\"anchor\":\"y4\",\"domain\":[0.4408163265306122,0.5591836734693877],\"title\":{\"text\":\"lam\"}},\"xaxis5\":{\"anchor\":\"y5\",\"domain\":[0.5877551020408163,0.7061224489795918],\"title\":{\"text\":\"learning_rate\"},\"type\":\"log\"},\"xaxis6\":{\"anchor\":\"y6\",\"domain\":[0.7346938775510204,0.8530612244897959],\"title\":{\"text\":\"n_steps\"},\"type\":\"log\"},\"xaxis7\":{\"anchor\":\"y7\",\"domain\":[0.8816326530612244,0.9999999999999999],\"title\":{\"text\":\"noptepochs\"},\"type\":\"log\"},\"yaxis\":{\"anchor\":\"x\",\"domain\":[0.0,1.0],\"title\":{\"text\":\"Objective Value\"}},\"yaxis2\":{\"anchor\":\"x2\",\"domain\":[0.0,1.0],\"matches\":\"y\",\"showticklabels\":false},\"yaxis3\":{\"anchor\":\"x3\",\"domain\":[0.0,1.0],\"matches\":\"y\",\"showticklabels\":false},\"yaxis4\":{\"anchor\":\"x4\",\"domain\":[0.0,1.0],\"matches\":\"y\",\"showticklabels\":false},\"yaxis5\":{\"anchor\":\"x5\",\"domain\":[0.0,1.0],\"matches\":\"y\",\"showticklabels\":false},\"yaxis6\":{\"anchor\":\"x6\",\"domain\":[0.0,1.0],\"matches\":\"y\",\"showticklabels\":false},\"yaxis7\":{\"anchor\":\"x7\",\"domain\":[0.0,1.0],\"matches\":\"y\",\"showticklabels\":false}},                        {\"responsive\": true}                    ).then(function(){\n",
       "                            \n",
       "var gd = document.getElementById('7a895116-805c-4bb0-acf9-0a38c4592098');\n",
       "var x = new MutationObserver(function (mutations, observer) {{\n",
       "        var display = window.getComputedStyle(gd).display;\n",
       "        if (!display || display === 'none') {{\n",
       "            console.log([gd, 'removed!']);\n",
       "            Plotly.purge(gd);\n",
       "            observer.disconnect();\n",
       "        }}\n",
       "}});\n",
       "\n",
       "// Listen for the removal of the full notebook cells\n",
       "var notebookContainer = gd.closest('#notebook-container');\n",
       "if (notebookContainer) {{\n",
       "    x.observe(notebookContainer, {childList: true});\n",
       "}}\n",
       "\n",
       "// Listen for the clearing of the current output cell\n",
       "var outputEl = gd.closest('.output');\n",
       "if (outputEl) {{\n",
       "    x.observe(outputEl, {childList: true});\n",
       "}}\n",
       "\n",
       "                        })                };                });            </script>        </div>"
      ]
     },
     "metadata": {},
     "output_type": "display_data"
    }
   ],
   "source": [
    "optuna.visualization.plot_slice(study_PPO2_MLP)"
   ]
  },
  {
   "cell_type": "code",
   "execution_count": 16,
   "id": "e77b0724",
   "metadata": {},
   "outputs": [],
   "source": [
    "study_PPO2_MLP = optuna.load_study(study_name='PPO2_MLP_optimize_profit', storage='sqlite:///params.db')\n",
    "params = study_PPO2_MLP.best_trial.params\n",
    "\n",
    "train_env = DummyVecEnv([lambda: StockTradingEnv(train_df)])\n",
    "\n",
    "model_params = {\n",
    "    'n_steps': int(params['n_steps']),\n",
    "    'gamma': params['gamma'],\n",
    "    'learning_rate': params['learning_rate'],\n",
    "    'ent_coef': params['ent_coef'],\n",
    "    'cliprange': params['cliprange'],\n",
    "    'noptepochs': int(params['noptepochs']),\n",
    "    'lam': params['lam']\n",
    "}\n",
    "\n",
    "model = PPO2(MlpPolicy, train_env, nminibatches=1, **model_params)"
   ]
  },
  {
   "cell_type": "code",
   "execution_count": 17,
   "id": "cabebe1c",
   "metadata": {},
   "outputs": [
    {
     "data": {
      "text/plain": [
       "<stable_baselines.ppo2.ppo2.PPO2 at 0x28612c597c8>"
      ]
     },
     "execution_count": 17,
     "metadata": {},
     "output_type": "execute_result"
    }
   ],
   "source": [
    "model.learn(total_timesteps=100000)"
   ]
  },
  {
   "cell_type": "code",
   "execution_count": 18,
   "id": "fec3cdb6",
   "metadata": {},
   "outputs": [],
   "source": [
    "test_env = DummyVecEnv([lambda: StockTradingEnv(test_df)])"
   ]
  },
  {
   "cell_type": "code",
   "execution_count": 19,
   "id": "d7713f7e",
   "metadata": {
    "scrolled": false
   },
   "outputs": [
    {
     "name": "stdout",
     "output_type": "stream",
     "text": [
      "Step:   38, Date: 2019-02-18 , Reward:   0, Stock [Held:   0, Bought:   0, Sold :  0], NetWorth: 10000.00, Profit:  0.00\n",
      "Step:   39, Date: 2019-02-19 , Reward:   0, Stock [Held:   0, Bought:   0, Sold :  0], NetWorth: 10000.00, Profit:  0.00\n",
      "Step:   40, Date: 2019-02-20 , Reward:   0, Stock [Held:   0, Bought:   0, Sold :  0], NetWorth: 10000.00, Profit:  0.00\n",
      "Step:   41, Date: 2019-02-21 , Reward:   0, Stock [Held:   0, Bought:   0, Sold :  0], NetWorth: 10000.00, Profit:  0.00\n",
      "Step:   42, Date: 2019-02-22 , Reward:   0, Stock [Held:   0, Bought:   0, Sold :  0], NetWorth: 10000.00, Profit:  0.00\n",
      "Step:   43, Date: 2019-02-25 , Reward:   0, Stock [Held:   0, Bought:   0, Sold :  0], NetWorth: 10000.00, Profit:  0.00\n",
      "Step:   44, Date: 2019-02-26 , Reward:   0, Stock [Held:   0, Bought:   0, Sold :  0], NetWorth: 10000.00, Profit:  0.00\n",
      "Step:   45, Date: 2019-02-27 , Reward:   0, Stock [Held:   0, Bought:   0, Sold :  0], NetWorth: 10000.00, Profit:  0.00\n",
      "Step:   46, Date: 2019-02-28 , Reward:   0, Stock [Held:   0, Bought:   0, Sold :  0], NetWorth: 10000.00, Profit:  0.00\n",
      "Step:   47, Date: 2019-03-01 , Reward:   0, Stock [Held:   0, Bought:   0, Sold :  0], NetWorth: 10000.00, Profit:  0.00\n",
      "Step:   48, Date: 2019-03-05 , Reward:   0, Stock [Held:   0, Bought:   0, Sold :  0], NetWorth: 10000.00, Profit:  0.00\n",
      "Step:   49, Date: 2019-03-06 , Reward:   0, Stock [Held:   0, Bought:   0, Sold :  0], NetWorth: 10000.00, Profit:  0.00\n",
      "Step:   50, Date: 2019-03-07 , Reward:   0, Stock [Held:   0, Bought:   0, Sold :  0], NetWorth: 10000.00, Profit:  0.00\n",
      "Step:   51, Date: 2019-03-08 , Reward:   0, Stock [Held:   0, Bought:   0, Sold :  0], NetWorth: 10000.00, Profit:  0.00\n",
      "Step:   52, Date: 2019-03-11 , Reward:   0, Stock [Held:   0, Bought:   0, Sold :  0], NetWorth: 10000.00, Profit:  0.00\n",
      "Step:   53, Date: 2019-03-12 , Reward:   0, Stock [Held:   0, Bought:   0, Sold :  0], NetWorth: 10000.00, Profit:  0.00\n",
      "Step:   54, Date: 2019-03-13 , Reward:   0, Stock [Held:   0, Bought:   0, Sold :  0], NetWorth: 10000.00, Profit:  0.00\n",
      "Step:   55, Date: 2019-03-14 , Reward:   0, Stock [Held:   0, Bought:   0, Sold :  0], NetWorth: 10000.00, Profit:  0.00\n",
      "Step:   56, Date: 2019-03-15 , Reward:   0, Stock [Held:   0, Bought:   0, Sold :  0], NetWorth: 10000.00, Profit:  0.00\n",
      "Step:   57, Date: 2019-03-18 , Reward:   0, Stock [Held:   0, Bought:   0, Sold :  0], NetWorth: 10000.00, Profit:  0.00\n",
      "Step:   58, Date: 2019-03-19 , Reward:   0, Stock [Held:   0, Bought:   0, Sold :  0], NetWorth: 10000.00, Profit:  0.00\n",
      "Step:   59, Date: 2019-03-20 , Reward:   0, Stock [Held:   0, Bought:   0, Sold :  0], NetWorth: 10000.00, Profit:  0.00\n",
      "Step:   60, Date: 2019-03-22 , Reward:   0, Stock [Held:   0, Bought:   0, Sold :  0], NetWorth: 10000.00, Profit:  0.00\n",
      "Step:   61, Date: 2019-03-25 , Reward:   0, Stock [Held:   0, Bought:   0, Sold :  0], NetWorth: 10000.00, Profit:  0.00\n",
      "Step:   62, Date: 2019-03-26 , Reward:   0, Stock [Held:   0, Bought:   0, Sold :  0], NetWorth: 10000.00, Profit:  0.00\n",
      "Step:   63, Date: 2019-03-27 , Reward:   0, Stock [Held:   0, Bought:   0, Sold :  0], NetWorth: 10000.00, Profit:  0.00\n",
      "Step:   64, Date: 2019-03-28 , Reward:   0, Stock [Held:  15, Bought:  15, Sold :  0], NetWorth: 10000.00, Profit:  0.00\n",
      "Step:   65, Date: 2019-04-01 , Reward: 340, Stock [Held:  15, Bought:   0, Sold :  0], NetWorth: 10340.79, Profit: 340.79\n",
      "Step:   66, Date: 2019-04-02 , Reward: 451, Stock [Held:  15, Bought:   0, Sold :  0], NetWorth: 10451.59, Profit: 451.59\n",
      "Step:   67, Date: 2019-04-03 , Reward: 503, Stock [Held:  15, Bought:   0, Sold :  0], NetWorth: 10503.93, Profit: 503.93\n",
      "Step:   68, Date: 2019-04-04 , Reward: 484, Stock [Held:  15, Bought:   0, Sold :  0], NetWorth: 10484.46, Profit: 484.46\n",
      "Step:   69, Date: 2019-04-05 , Reward: 564, Stock [Held:  16, Bought:   1, Sold :  0], NetWorth: 10564.17, Profit: 564.17\n",
      "Step:   70, Date: 2019-04-08 , Reward: 583, Stock [Held:  16, Bought:   0, Sold :  0], NetWorth: 10583.42, Profit: 583.42\n",
      "Step:   71, Date: 2019-04-09 , Reward: 514, Stock [Held:  16, Bought:   0, Sold :  0], NetWorth: 10514.75, Profit: 514.75\n",
      "Step:   72, Date: 2019-04-10 , Reward: 474, Stock [Held:  16, Bought:   0, Sold :  0], NetWorth: 10474.58, Profit: 474.58\n",
      "Step:   73, Date: 2019-04-11 , Reward: 456, Stock [Held:  16, Bought:   0, Sold :  0], NetWorth: 10456.94, Profit: 456.94\n",
      "Step:   74, Date: 2019-04-12 , Reward: 679, Stock [Held:  16, Bought:   0, Sold :  0], NetWorth: 10679.87, Profit: 679.87\n",
      "Step:   75, Date: 2019-04-15 , Reward: 758, Stock [Held:  16, Bought:   0, Sold :  0], NetWorth: 10758.92, Profit: 758.92\n",
      "Step:   76, Date: 2019-04-16 , Reward: 795, Stock [Held:  16, Bought:   0, Sold :  0], NetWorth: 10795.14, Profit: 795.14\n",
      "Step:   77, Date: 2019-04-18 , Reward: 679, Stock [Held:  16, Bought:   0, Sold :  0], NetWorth: 10679.64, Profit: 679.64\n",
      "Step:   78, Date: 2019-04-22 , Reward: 693, Stock [Held:  16, Bought:   0, Sold :  0], NetWorth: 10693.30, Profit: 693.30\n",
      "Step:   79, Date: 2019-04-23 , Reward: 634, Stock [Held:  16, Bought:   0, Sold :  0], NetWorth: 10634.97, Profit: 634.97\n",
      "Step:   80, Date: 2019-04-24 , Reward: 677, Stock [Held:  16, Bought:   0, Sold :  0], NetWorth: 10677.29, Profit: 677.29\n",
      "Step:   81, Date: 2019-04-25 , Reward: 743, Stock [Held:  16, Bought:   0, Sold :  0], NetWorth: 10743.99, Profit: 743.99\n",
      "Step:   82, Date: 2019-04-26 , Reward: 430, Stock [Held:  16, Bought:   0, Sold :  0], NetWorth: 10430.11, Profit: 430.11\n",
      "Step:   83, Date: 2019-04-30 , Reward: 305, Stock [Held:  16, Bought:   0, Sold :  0], NetWorth: 10305.15, Profit: 305.15\n",
      "Step:   84, Date: 2019-05-02 , Reward: 359, Stock [Held:  16, Bought:   0, Sold :  0], NetWorth: 10359.73, Profit: 359.73\n",
      "Step:   85, Date: 2019-05-03 , Reward: 489, Stock [Held:  16, Bought:   0, Sold :  0], NetWorth: 10489.62, Profit: 489.62\n",
      "Step:   86, Date: 2019-05-06 , Reward: -14, Stock [Held:  16, Bought:   0, Sold :  0], NetWorth: 9985.16, Profit: -14.84\n",
      "Step:   87, Date: 2019-05-07 , Reward:-230, Stock [Held:  17, Bought:   1, Sold :  0], NetWorth: 9769.06, Profit: -230.94\n",
      "Step:   88, Date: 2019-05-08 , Reward:-200, Stock [Held:  17, Bought:   0, Sold :  0], NetWorth: 9799.21, Profit: -200.79\n",
      "Step:   89, Date: 2019-05-09 , Reward:-171, Stock [Held:  17, Bought:   0, Sold :  0], NetWorth: 9828.85, Profit: -171.15\n",
      "Step:   90, Date: 2019-05-10 , Reward:  62, Stock [Held:  17, Bought:   0, Sold :  0], NetWorth: 10062.17, Profit: 62.17\n",
      "Step:   91, Date: 2019-05-13 , Reward:  56, Stock [Held:  17, Bought:   0, Sold :  0], NetWorth: 10056.86, Profit: 56.86\n",
      "Step:   92, Date: 2019-05-14 , Reward: 112, Stock [Held:  17, Bought:   0, Sold :  0], NetWorth: 10112.36, Profit: 112.36\n",
      "Step:   93, Date: 2019-05-15 , Reward: 283, Stock [Held:  17, Bought:   0, Sold :  0], NetWorth: 10283.16, Profit: 283.16\n",
      "Step:   94, Date: 2019-05-16 , Reward: 291, Stock [Held:  17, Bought:   0, Sold :  0], NetWorth: 10291.57, Profit: 291.57\n",
      "Step:   95, Date: 2019-05-17 , Reward: 308, Stock [Held:  17, Bought:   0, Sold :  0], NetWorth: 10308.76, Profit: 308.76\n",
      "Step:   96, Date: 2019-05-20 , Reward: 470, Stock [Held:  17, Bought:   0, Sold :  0], NetWorth: 10470.84, Profit: 470.84\n",
      "Step:   97, Date: 2019-05-21 , Reward: 714, Stock [Held:  17, Bought:   0, Sold :  0], NetWorth: 10714.84, Profit: 714.84\n",
      "Step:   98, Date: 2019-05-22 , Reward: 691, Stock [Held:  17, Bought:   0, Sold :  0], NetWorth: 10691.02, Profit: 691.02\n",
      "Step:   99, Date: 2019-05-23 , Reward: 638, Stock [Held:  17, Bought:   0, Sold :  0], NetWorth: 10638.13, Profit: 638.13\n",
      "Step:  100, Date: 2019-05-24 , Reward: 427, Stock [Held:  17, Bought:   0, Sold :  0], NetWorth: 10427.21, Profit: 427.21\n",
      "Step:  101, Date: 2019-05-27 , Reward: 552, Stock [Held:  17, Bought:   0, Sold :  0], NetWorth: 10552.42, Profit: 552.42\n",
      "Step:  102, Date: 2019-05-28 , Reward:1075, Stock [Held:  17, Bought:   0, Sold :  0], NetWorth: 11075.92, Profit: 1075.92\n",
      "Step:  103, Date: 2019-05-29 , Reward:1052, Stock [Held:  16, Bought:   0, Sold :  1], NetWorth: 11052.50, Profit: 1052.50\n",
      "Step:  104, Date: 2019-05-30 , Reward:1078, Stock [Held:  16, Bought:   0, Sold :  0], NetWorth: 11078.67, Profit: 1078.67\n",
      "Step:  105, Date: 2019-05-31 , Reward:1125, Stock [Held:  17, Bought:   1, Sold :  0], NetWorth: 11125.54, Profit: 1125.54\n",
      "Step:  106, Date: 2019-06-03 , Reward:1086, Stock [Held:  17, Bought:   0, Sold :  0], NetWorth: 11086.99, Profit: 1086.99\n",
      "Step:  107, Date: 2019-06-04 , Reward:1163, Stock [Held:   0, Bought:   0, Sold : 17], NetWorth: 11163.36, Profit: 1163.36\n",
      "Step:  108, Date: 2019-06-06 , Reward:1163, Stock [Held:   0, Bought:   0, Sold :  0], NetWorth: 11163.36, Profit: 1163.36\n",
      "Step:  109, Date: 2019-06-07 , Reward:1163, Stock [Held:   0, Bought:   0, Sold :  0], NetWorth: 11163.36, Profit: 1163.36\n",
      "Step:  110, Date: 2019-06-10 , Reward:1163, Stock [Held:   0, Bought:   0, Sold :  0], NetWorth: 11163.36, Profit: 1163.36\n",
      "Step:  111, Date: 2019-06-11 , Reward:1163, Stock [Held:   0, Bought:   0, Sold :  0], NetWorth: 11163.36, Profit: 1163.36\n",
      "Step:  112, Date: 2019-06-12 , Reward:1163, Stock [Held:   0, Bought:   0, Sold :  0], NetWorth: 11163.36, Profit: 1163.36\n",
      "Step:  113, Date: 2019-06-13 , Reward:1163, Stock [Held:   0, Bought:   0, Sold :  0], NetWorth: 11163.36, Profit: 1163.36\n",
      "Step:  114, Date: 2019-06-14 , Reward:1163, Stock [Held:   0, Bought:   0, Sold :  0], NetWorth: 11163.36, Profit: 1163.36\n",
      "Step:  115, Date: 2019-06-17 , Reward:1163, Stock [Held:   0, Bought:   0, Sold :  0], NetWorth: 11163.36, Profit: 1163.36\n",
      "Step:  116, Date: 2019-06-18 , Reward:1163, Stock [Held:   0, Bought:   0, Sold :  0], NetWorth: 11163.36, Profit: 1163.36\n",
      "Step:  117, Date: 2019-06-19 , Reward:1163, Stock [Held:   0, Bought:   0, Sold :  0], NetWorth: 11163.36, Profit: 1163.36\n",
      "Step:  118, Date: 2019-06-20 , Reward:1163, Stock [Held:   0, Bought:   0, Sold :  0], NetWorth: 11163.36, Profit: 1163.36\n",
      "Step:  119, Date: 2019-06-21 , Reward:1163, Stock [Held:   0, Bought:   0, Sold :  0], NetWorth: 11163.36, Profit: 1163.36\n",
      "Step:  120, Date: 2019-06-24 , Reward:1163, Stock [Held:   0, Bought:   0, Sold :  0], NetWorth: 11163.36, Profit: 1163.36\n",
      "Step:  121, Date: 2019-06-25 , Reward:1163, Stock [Held:   0, Bought:   0, Sold :  0], NetWorth: 11163.36, Profit: 1163.36\n",
      "Step:  122, Date: 2019-06-26 , Reward:1163, Stock [Held:   0, Bought:   0, Sold :  0], NetWorth: 11163.36, Profit: 1163.36\n",
      "Step:  123, Date: 2019-06-27 , Reward:1163, Stock [Held:  10, Bought:  10, Sold :  0], NetWorth: 11163.36, Profit: 1163.36\n",
      "Step:  124, Date: 2019-06-28 , Reward:1148, Stock [Held:  10, Bought:   0, Sold :  0], NetWorth: 11148.88, Profit: 1148.88\n",
      "Step:  125, Date: 2019-07-01 , Reward:1166, Stock [Held:  10, Bought:   0, Sold :  0], NetWorth: 11166.30, Profit: 1166.30\n",
      "Step:  126, Date: 2019-07-02 , Reward:1202, Stock [Held:  15, Bought:   5, Sold :  0], NetWorth: 11202.54, Profit: 1202.54\n",
      "Step:  127, Date: 2019-07-03 , Reward:1042, Stock [Held:  19, Bought:   4, Sold :  0], NetWorth: 11042.53, Profit: 1042.53\n",
      "Step:  128, Date: 2019-07-04 , Reward:1069, Stock [Held:  19, Bought:   0, Sold :  0], NetWorth: 11069.97, Profit: 1069.97\n",
      "Step:  129, Date: 2019-07-05 , Reward:1111, Stock [Held:  19, Bought:   0, Sold :  0], NetWorth: 11111.33, Profit: 1111.33\n",
      "Step:  130, Date: 2019-07-08 , Reward: 720, Stock [Held:  19, Bought:   0, Sold :  0], NetWorth: 10720.17, Profit: 720.17\n",
      "Step:  131, Date: 2019-07-09 , Reward: 765, Stock [Held:  19, Bought:   0, Sold :  0], NetWorth: 10765.07, Profit: 765.07\n",
      "Step:  132, Date: 2019-07-10 , Reward: 807, Stock [Held:  19, Bought:   0, Sold :  0], NetWorth: 10807.93, Profit: 807.93\n",
      "Step:  133, Date: 2019-07-11 , Reward: 672, Stock [Held:  19, Bought:   0, Sold :  0], NetWorth: 10672.86, Profit: 672.86\n",
      "Step:  134, Date: 2019-07-12 , Reward: 743, Stock [Held:  19, Bought:   0, Sold :  0], NetWorth: 10743.20, Profit: 743.20\n",
      "Step:  135, Date: 2019-07-15 , Reward: 748, Stock [Held:  19, Bought:   0, Sold :  0], NetWorth: 10748.75, Profit: 748.75\n",
      "Step:  136, Date: 2019-07-16 , Reward: 880, Stock [Held:  19, Bought:   0, Sold :  0], NetWorth: 10880.29, Profit: 880.29\n",
      "Step:  137, Date: 2019-07-17 , Reward: 672, Stock [Held:   8, Bought:   0, Sold : 11], NetWorth: 10672.16, Profit: 672.16\n",
      "Step:  138, Date: 2019-07-18 , Reward: 565, Stock [Held:   8, Bought:   0, Sold :  0], NetWorth: 10565.70, Profit: 565.70\n",
      "Step:  139, Date: 2019-07-19 , Reward: 442, Stock [Held:   8, Bought:   0, Sold :  0], NetWorth: 10442.05, Profit: 442.05\n",
      "Step:  140, Date: 2019-07-22 , Reward: 385, Stock [Held:   8, Bought:   0, Sold :  0], NetWorth: 10385.84, Profit: 385.84\n",
      "Step:  141, Date: 2019-07-23 , Reward: 338, Stock [Held:   8, Bought:   0, Sold :  0], NetWorth: 10338.48, Profit: 338.48\n"
     ]
    },
    {
     "name": "stdout",
     "output_type": "stream",
     "text": [
      "Step:  142, Date: 2019-07-24 , Reward: 254, Stock [Held:   8, Bought:   0, Sold :  0], NetWorth: 10254.08, Profit: 254.08\n",
      "Step:  143, Date: 2019-07-25 , Reward:  -8, Stock [Held:   8, Bought:   0, Sold :  0], NetWorth: 9991.78, Profit: -8.22\n",
      "Step:  144, Date: 2019-07-26 , Reward:  44, Stock [Held:   8, Bought:   0, Sold :  0], NetWorth: 10044.98, Profit: 44.98\n",
      "Step:  145, Date: 2019-07-29 , Reward:  41, Stock [Held:   8, Bought:   0, Sold :  0], NetWorth: 10041.89, Profit: 41.89\n",
      "Step:  146, Date: 2019-07-30 , Reward: -44, Stock [Held:   8, Bought:   0, Sold :  0], NetWorth: 9955.36, Profit: -44.64\n",
      "Step:  147, Date: 2019-07-31 , Reward: -57, Stock [Held:   8, Bought:   0, Sold :  0], NetWorth: 9942.33, Profit: -57.67\n",
      "Step:  148, Date: 2019-08-01 , Reward: -61, Stock [Held:   8, Bought:   0, Sold :  0], NetWorth: 9938.72, Profit: -61.28\n",
      "Step:  149, Date: 2019-08-02 , Reward: -61, Stock [Held:   8, Bought:   0, Sold :  0], NetWorth: 9938.05, Profit: -61.95\n",
      "Step:  150, Date: 2019-08-05 , Reward:-128, Stock [Held:   8, Bought:   0, Sold :  0], NetWorth: 9871.44, Profit: -128.56\n",
      "Step:  151, Date: 2019-08-06 , Reward: -61, Stock [Held:   8, Bought:   0, Sold :  0], NetWorth: 9938.88, Profit: -61.12\n",
      "Step:  152, Date: 2019-08-07 , Reward:  13, Stock [Held:   8, Bought:   0, Sold :  0], NetWorth: 10013.80, Profit: 13.80\n",
      "Step:  153, Date: 2019-08-08 , Reward:  38, Stock [Held:   8, Bought:   0, Sold :  0], NetWorth: 10038.32, Profit: 38.32\n",
      "Step:  154, Date: 2019-08-09 , Reward:  29, Stock [Held:  20, Bought:  12, Sold :  0], NetWorth: 10029.25, Profit: 29.25\n",
      "Step:  155, Date: 2019-08-13 , Reward: -98, Stock [Held:  20, Bought:   0, Sold :  0], NetWorth: 9901.83, Profit: -98.17\n",
      "Step:  156, Date: 2019-08-14 , Reward: -32, Stock [Held:  20, Bought:   0, Sold :  0], NetWorth: 9967.11, Profit: -32.89\n",
      "Step:  157, Date: 2019-08-16 , Reward: 128, Stock [Held:  20, Bought:   0, Sold :  0], NetWorth: 10128.91, Profit: 128.91\n",
      "Step:  158, Date: 2019-08-19 , Reward: 414, Stock [Held:  20, Bought:   0, Sold :  0], NetWorth: 10414.48, Profit: 414.48\n",
      "Step:  159, Date: 2019-08-20 , Reward: 380, Stock [Held:  20, Bought:   0, Sold :  0], NetWorth: 10380.26, Profit: 380.26\n",
      "Step:  160, Date: 2019-08-21 , Reward: 193, Stock [Held:  20, Bought:   0, Sold :  0], NetWorth: 10193.28, Profit: 193.28\n",
      "Step:  161, Date: 2019-08-22 , Reward: -18, Stock [Held:  20, Bought:   0, Sold :  0], NetWorth: 9981.28, Profit: -18.72\n",
      "Step:  162, Date: 2019-08-23 , Reward:-202, Stock [Held:  20, Bought:   0, Sold :  0], NetWorth: 9797.02, Profit: -202.98\n",
      "Step:  163, Date: 2019-08-26 , Reward: 114, Stock [Held:  20, Bought:   0, Sold :  0], NetWorth: 10114.38, Profit: 114.38\n",
      "Step:  164, Date: 2019-08-27 , Reward: 125, Stock [Held:  20, Bought:   0, Sold :  0], NetWorth: 10125.16, Profit: 125.16\n",
      "Step:  165, Date: 2019-08-28 , Reward:  36, Stock [Held:  20, Bought:   0, Sold :  0], NetWorth: 10036.57, Profit: 36.57\n",
      "Step:  166, Date: 2019-08-29 , Reward:-130, Stock [Held:  20, Bought:   0, Sold :  0], NetWorth: 9869.58, Profit: -130.42\n",
      "Step:  167, Date: 2019-08-30 , Reward:-113, Stock [Held:  20, Bought:   0, Sold :  0], NetWorth: 9886.71, Profit: -113.29\n",
      "Step:  168, Date: 2019-09-03 , Reward:-233, Stock [Held:  20, Bought:   0, Sold :  0], NetWorth: 9767.00, Profit: -233.00\n",
      "Step:  169, Date: 2019-09-04 , Reward:-333, Stock [Held:  20, Bought:   0, Sold :  0], NetWorth: 9666.19, Profit: -333.81\n",
      "Step:  170, Date: 2019-09-05 , Reward:-360, Stock [Held:  20, Bought:   0, Sold :  0], NetWorth: 9639.62, Profit: -360.38\n",
      "Step:  171, Date: 2019-09-06 , Reward: 233, Stock [Held:  20, Bought:   0, Sold :  0], NetWorth: 10233.12, Profit: 233.12\n",
      "Step:  172, Date: 2019-09-09 , Reward: 280, Stock [Held:  20, Bought:   0, Sold :  0], NetWorth: 10280.90, Profit: 280.90\n",
      "Step:  173, Date: 2019-09-11 , Reward: 344, Stock [Held:  20, Bought:   0, Sold :  0], NetWorth: 10344.86, Profit: 344.86\n",
      "Step:  174, Date: 2019-09-12 , Reward: 393, Stock [Held:  20, Bought:   0, Sold :  0], NetWorth: 10393.26, Profit: 393.26\n",
      "Step:  175, Date: 2019-09-13 , Reward: 503, Stock [Held:  20, Bought:   0, Sold :  0], NetWorth: 10503.91, Profit: 503.91\n",
      "Step:  176, Date: 2019-09-16 , Reward: 901, Stock [Held:  19, Bought:   0, Sold :  1], NetWorth: 10901.17, Profit: 901.17\n",
      "Step:  177, Date: 2019-09-17 , Reward:1043, Stock [Held:  19, Bought:   0, Sold :  0], NetWorth: 11043.66, Profit: 1043.66\n",
      "Step:  178, Date: 2019-09-18 , Reward:1114, Stock [Held:  20, Bought:   1, Sold :  0], NetWorth: 11114.64, Profit: 1114.64\n",
      "Step:  179, Date: 2019-09-19 , Reward:1167, Stock [Held:  20, Bought:   0, Sold :  0], NetWorth: 11167.67, Profit: 1167.67\n",
      "Step:  180, Date: 2019-09-20 , Reward:1695, Stock [Held:  20, Bought:   0, Sold :  0], NetWorth: 11695.59, Profit: 1695.59\n",
      "Step:  181, Date: 2019-09-23 , Reward:2154, Stock [Held:  20, Bought:   0, Sold :  0], NetWorth: 12154.00, Profit: 2154.00\n",
      "Step:  182, Date: 2019-09-24 , Reward:2262, Stock [Held:  20, Bought:   0, Sold :  0], NetWorth: 12262.93, Profit: 2262.93\n",
      "Step:  183, Date: 2019-09-25 , Reward:2053, Stock [Held:  20, Bought:   0, Sold :  0], NetWorth: 12053.54, Profit: 2053.54\n",
      "Step:  184, Date: 2019-09-26 , Reward:1887, Stock [Held:  20, Bought:   0, Sold :  0], NetWorth: 11887.70, Profit: 1887.70\n",
      "Step:  185, Date: 2019-09-27 , Reward:1649, Stock [Held:  20, Bought:   0, Sold :  0], NetWorth: 11649.64, Profit: 1649.64\n",
      "Step:  186, Date: 2019-09-30 , Reward:1643, Stock [Held:  20, Bought:   0, Sold :  0], NetWorth: 11643.02, Profit: 1643.02\n",
      "Step:  187, Date: 2019-10-01 , Reward:1601, Stock [Held:  20, Bought:   0, Sold :  0], NetWorth: 11601.33, Profit: 1601.33\n",
      "Step:  188, Date: 2019-10-03 , Reward:1682, Stock [Held:  20, Bought:   0, Sold :  0], NetWorth: 11682.91, Profit: 1682.91\n",
      "Step:  189, Date: 2019-10-04 , Reward:1677, Stock [Held:  20, Bought:   0, Sold :  0], NetWorth: 11677.95, Profit: 1677.95\n",
      "Step:  190, Date: 2019-10-07 , Reward:1662, Stock [Held:  20, Bought:   0, Sold :  0], NetWorth: 11662.17, Profit: 1662.17\n",
      "Step:  191, Date: 2019-10-09 , Reward:1646, Stock [Held:  20, Bought:   0, Sold :  0], NetWorth: 11646.45, Profit: 1646.45\n",
      "Step:  192, Date: 2019-10-10 , Reward:1676, Stock [Held:  20, Bought:   0, Sold :  0], NetWorth: 11676.64, Profit: 1676.64\n",
      "Step:  193, Date: 2019-10-11 , Reward:1748, Stock [Held:  20, Bought:   0, Sold :  0], NetWorth: 11748.09, Profit: 1748.09\n",
      "Step:  194, Date: 2019-10-14 , Reward:1717, Stock [Held:  20, Bought:   0, Sold :  0], NetWorth: 11717.84, Profit: 1717.84\n",
      "Step:  195, Date: 2019-10-15 , Reward:1657, Stock [Held:  11, Bought:   0, Sold :  9], NetWorth: 11657.37, Profit: 1657.37\n",
      "Step:  196, Date: 2019-10-16 , Reward:1658, Stock [Held:  11, Bought:   0, Sold :  0], NetWorth: 11658.98, Profit: 1658.98\n",
      "Step:  197, Date: 2019-10-17 , Reward:1648, Stock [Held:  11, Bought:   0, Sold :  0], NetWorth: 11648.10, Profit: 1648.10\n",
      "Step:  198, Date: 2019-10-18 , Reward:1591, Stock [Held:  11, Bought:   0, Sold :  0], NetWorth: 11591.84, Profit: 1591.84\n",
      "Step:  199, Date: 2019-10-22 , Reward:1599, Stock [Held:  11, Bought:   0, Sold :  0], NetWorth: 11599.78, Profit: 1599.78\n",
      "Step:  200, Date: 2019-10-23 , Reward:1665, Stock [Held:  11, Bought:   0, Sold :  0], NetWorth: 11665.49, Profit: 1665.49\n",
      "Step:  201, Date: 2019-10-24 , Reward:1614, Stock [Held:  11, Bought:   0, Sold :  0], NetWorth: 11614.30, Profit: 1614.30\n",
      "Step:  202, Date: 2019-10-25 , Reward:1553, Stock [Held:  11, Bought:   0, Sold :  0], NetWorth: 11553.69, Profit: 1553.69\n",
      "Step:  203, Date: 2019-10-29 , Reward:1607, Stock [Held:  11, Bought:   0, Sold :  0], NetWorth: 11607.43, Profit: 1607.43\n",
      "Step:  204, Date: 2019-10-30 , Reward:1564, Stock [Held:  11, Bought:   0, Sold :  0], NetWorth: 11564.02, Profit: 1564.02\n",
      "Step:  205, Date: 2019-10-31 , Reward:1599, Stock [Held:  11, Bought:   0, Sold :  0], NetWorth: 11599.83, Profit: 1599.83\n",
      "Step:  206, Date: 2019-11-01 , Reward:1695, Stock [Held:  11, Bought:   0, Sold :  0], NetWorth: 11695.94, Profit: 1695.94\n",
      "Step:  207, Date: 2019-11-04 , Reward:1647, Stock [Held:  11, Bought:   0, Sold :  0], NetWorth: 11647.30, Profit: 1647.30\n",
      "Step:  208, Date: 2019-11-05 , Reward:1438, Stock [Held:  11, Bought:   0, Sold :  0], NetWorth: 11438.56, Profit: 1438.56\n",
      "Step:  209, Date: 2019-11-06 , Reward:1329, Stock [Held:  15, Bought:   4, Sold :  0], NetWorth: 11329.73, Profit: 1329.73\n",
      "Step:  210, Date: 2019-11-07 , Reward:1346, Stock [Held:  15, Bought:   0, Sold :  0], NetWorth: 11346.17, Profit: 1346.17\n",
      "Step:  211, Date: 2019-11-08 , Reward:1364, Stock [Held:  15, Bought:   0, Sold :  0], NetWorth: 11364.96, Profit: 1364.96\n",
      "Step:  212, Date: 2019-11-11 , Reward:1348, Stock [Held:  15, Bought:   0, Sold :  0], NetWorth: 11348.43, Profit: 1348.43\n",
      "Step:  213, Date: 2019-11-13 , Reward:1213, Stock [Held:  15, Bought:   0, Sold :  0], NetWorth: 11213.23, Profit: 1213.23\n",
      "Step:  214, Date: 2019-11-14 , Reward:1221, Stock [Held:  15, Bought:   0, Sold :  0], NetWorth: 11221.21, Profit: 1221.21\n",
      "Step:  215, Date: 2019-11-15 , Reward:1291, Stock [Held:  15, Bought:   0, Sold :  0], NetWorth: 11291.26, Profit: 1291.26\n",
      "Step:  216, Date: 2019-11-18 , Reward:1145, Stock [Held:  15, Bought:   0, Sold :  0], NetWorth: 11146.00, Profit: 1146.00\n",
      "Step:  217, Date: 2019-11-19 , Reward:1155, Stock [Held:  15, Bought:   0, Sold :  0], NetWorth: 11155.28, Profit: 1155.28\n",
      "Step:  218, Date: 2019-11-20 , Reward:1253, Stock [Held:  15, Bought:   0, Sold :  0], NetWorth: 11253.10, Profit: 1253.10\n",
      "Step:  219, Date: 2019-11-21 , Reward:1183, Stock [Held:  15, Bought:   0, Sold :  0], NetWorth: 11183.74, Profit: 1183.74\n",
      "Step:  220, Date: 2019-11-22 , Reward:1174, Stock [Held:  15, Bought:   0, Sold :  0], NetWorth: 11174.99, Profit: 1174.99\n",
      "Step:  221, Date: 2019-11-25 , Reward:1242, Stock [Held:  15, Bought:   0, Sold :  0], NetWorth: 11242.08, Profit: 1242.08\n",
      "Step:  222, Date: 2019-11-26 , Reward:1155, Stock [Held:  15, Bought:   0, Sold :  0], NetWorth: 11155.77, Profit: 1155.77\n",
      "Step:  223, Date: 2019-11-27 , Reward:1119, Stock [Held:  15, Bought:   0, Sold :  0], NetWorth: 11119.97, Profit: 1119.97\n",
      "Step:  224, Date: 2019-11-28 , Reward:1185, Stock [Held:  15, Bought:   0, Sold :  0], NetWorth: 11185.33, Profit: 1185.33\n",
      "Step:  225, Date: 2019-11-29 , Reward:1242, Stock [Held:  15, Bought:   0, Sold :  0], NetWorth: 11242.46, Profit: 1242.46\n",
      "Step:  226, Date: 2019-12-02 , Reward:1295, Stock [Held:  15, Bought:   0, Sold :  0], NetWorth: 11295.17, Profit: 1295.17\n",
      "Step:  227, Date: 2019-12-03 , Reward:1169, Stock [Held:  15, Bought:   0, Sold :  0], NetWorth: 11169.87, Profit: 1169.87\n",
      "Step:  228, Date: 2019-12-04 , Reward:1087, Stock [Held:  15, Bought:   0, Sold :  0], NetWorth: 11087.22, Profit: 1087.22\n",
      "Step:  229, Date: 2019-12-05 , Reward:1116, Stock [Held:  15, Bought:   0, Sold :  0], NetWorth: 11116.25, Profit: 1116.25\n",
      "Step:  230, Date: 2019-12-06 , Reward:1139, Stock [Held:  19, Bought:   4, Sold :  0], NetWorth: 11139.76, Profit: 1139.76\n",
      "Step:  231, Date: 2019-12-09 , Reward:1095, Stock [Held:  19, Bought:   0, Sold :  0], NetWorth: 11095.99, Profit: 1095.99\n",
      "Step:  232, Date: 2019-12-10 , Reward:1154, Stock [Held:  19, Bought:   0, Sold :  0], NetWorth: 11154.68, Profit: 1154.68\n"
     ]
    },
    {
     "name": "stdout",
     "output_type": "stream",
     "text": [
      "Step:  233, Date: 2019-12-11 , Reward:1303, Stock [Held:  19, Bought:   0, Sold :  0], NetWorth: 11303.30, Profit: 1303.30\n",
      "Step:  234, Date: 2019-12-12 , Reward:1394, Stock [Held:  19, Bought:   0, Sold :  0], NetWorth: 11395.00, Profit: 1395.00\n",
      "Step:  235, Date: 2019-12-13 , Reward:1547, Stock [Held:  19, Bought:   0, Sold :  0], NetWorth: 11547.11, Profit: 1547.11\n",
      "Step:  236, Date: 2019-12-16 , Reward:1460, Stock [Held:  19, Bought:   0, Sold :  0], NetWorth: 11460.73, Profit: 1460.73\n",
      "Step:  237, Date: 2019-12-17 , Reward:1182, Stock [Held:  19, Bought:   0, Sold :  0], NetWorth: 11182.02, Profit: 1182.02\n"
     ]
    }
   ],
   "source": [
    "obs = test_env.reset()\n",
    "\n",
    "for i in range(200):\n",
    "    action, _states = model.predict(obs, deterministic=False)\n",
    "    obs, reward, done, info = test_env.step(action)\n",
    "    test_env.render(mode='cli')\n",
    "    if done:\n",
    "        obs = test_env.reset()\n",
    "        break"
   ]
  },
  {
   "cell_type": "code",
   "execution_count": 20,
   "id": "e18a29e5",
   "metadata": {},
   "outputs": [],
   "source": [
    "trades = pd.DataFrame(info[0].get('Trades'))\n",
    "trades['Date'] = pd.to_datetime(trades['Date']) # Convert \"Date\" to datetime object.\n",
    "df.sort_values('Date', ascending=True, inplace=True) # Sort the \"Date\" Column by the values."
   ]
  },
  {
   "cell_type": "code",
   "execution_count": 21,
   "id": "ebc060f3",
   "metadata": {},
   "outputs": [],
   "source": [
    "def display_trades(df):\n",
    "    \n",
    "    # Convert the column names from mixcase to lower case\n",
    "    df.columns = map(str.lower, df.columns)\n",
    "    \n",
    "    # Fix date\n",
    "    if type(df.index) != pd.core.indexes.datetimes.DatetimeIndex:\n",
    "        df['date'] = pd.to_datetime(df['date'])\n",
    "        df.set_index('date',inplace=True) # Set the Date column as the index\n",
    "        df = df.sort_values(['date'])\n",
    "    \n",
    "     # Copy the dataframe\n",
    "    tempdf=df.copy(deep=True)\n",
    "    \n",
    "    # Calculate profit\n",
    "    \n",
    "    profit = round(tempdf.iloc[-1]['net worth'] - tempdf.iloc[1]['net worth'], 2)\n",
    "    profit_prcnt = round(((tempdf.iloc[-1]['net worth'] - tempdf.iloc[1]['net worth']) / tempdf.iloc[1]['net worth']) * 100 , 2)\n",
    "    \n",
    "    trade_buy = tempdf['type'][tempdf['type']=='Buy'].count()\n",
    "    trade_sell = tempdf['type'][tempdf['type']=='Sell'].count()\n",
    "    trade_hold = tempdf['type'][tempdf['type']=='Hold'].count()\n",
    "    \n",
    "    title_1 = 'RL Algorithm: PPO2_MLP' + ' - ' + 'Trade Count ' + '[' + 'Buy: ' + str(trade_buy) + ' | ' + 'Sell: ' + str(trade_sell) + ' | ' + 'Hold: ' + str(trade_hold) + ']'\n",
    "    title_2 = 'Initial Investment (INR): ' + str(round(tempdf.iloc[1]['net worth'],2)) + ' | ' +  'Net Worth (INR): ' + str(round(tempdf.iloc[-1]['net worth'],2)) + ' | ' + 'Profit (INR): ' + str(profit) + ' | ' + 'Profit (%): ' + str(profit_prcnt)+ '%'\n",
    "    \n",
    "    \n",
    "    # Buy sell marker\n",
    "    d=10\n",
    "    tempdf[['marker', 'symbol', 'color']] = ''\n",
    "    for i in range(0, len(tempdf)):\n",
    "        if tempdf['type'].iloc[i] == 'Buy':\n",
    "            tempdf['marker'].iloc[i] = tempdf[\"low\"].iloc[i]-d\n",
    "            tempdf['symbol'].iloc[i] = 'triangle-up'\n",
    "            tempdf['color'].iloc[i] = 'green'\n",
    "            \n",
    "        elif tempdf['type'].iloc[i] == 'Sell':\n",
    "            tempdf['marker'].iloc[i] = tempdf[\"high\"].iloc[i]+d\n",
    "            tempdf['symbol'].iloc[i] = 'triangle-down'\n",
    "            tempdf['color'].iloc[i] = 'red'\n",
    "        \n",
    "        else:\n",
    "            tempdf['marker'].iloc[i] = tempdf[\"low\"].iloc[i]-d\n",
    "            tempdf['symbol'].iloc[i] = 'cross-thin'\n",
    "            tempdf['color'].iloc[i] = 'blue' \n",
    "\n",
    "    \n",
    "    # Draw plot\n",
    "    fig = make_subplots(rows=2, cols=1, \n",
    "                    shared_xaxes=True, \n",
    "                    row_width=[.25,.75], \n",
    "                    vertical_spacing=0.05,\n",
    "                   subplot_titles=(title_1, title_2))\n",
    "\n",
    "   \n",
    "    fig.add_trace(go.Scatter(x=tempdf.index,\n",
    "                             y=tempdf.marker,\n",
    "                             mode='markers',\n",
    "                             name='Buy/Sell/Hold',\n",
    "                             marker=dict(size=15,symbol=tempdf[\"symbol\"],color=tempdf[\"color\"])),\n",
    "                   row=1, col=1)\n",
    "                  \n",
    "    fig.add_trace(go.Candlestick(x=tempdf.index, \n",
    "                                 open=tempdf['open'], \n",
    "                                 high=tempdf['high'], \n",
    "                                 low=tempdf['low'], \n",
    "                                 close=tempdf['close'],\n",
    "                                 name='OHLC'),\n",
    "                  row=1, col=1)\n",
    "   \n",
    "                  \n",
    "    fig.add_trace(go.Scatter(x=tempdf.index,\n",
    "                             y=tempdf['net worth'],\n",
    "                             mode='lines',\n",
    "                             name='Net Worth (INR)'),\n",
    "                  row=2, col=1)\n",
    "    \n",
    "    fig.add_hline(y=10000,\n",
    "                  name='Initial Balance',\n",
    "                  line=dict(color='firebrick', width=1, dash='dot'),\n",
    "                  row=2, col=1)\n",
    "\n",
    "    fig.update_layout(##title='Historical stock price chart',\n",
    "                      xaxis_tickfont_size=12,\n",
    "                      yaxis=dict(title='Price (INR/share)',\n",
    "                                 titlefont_size=14,\n",
    "                                 tickfont_size=10),\n",
    "                      xaxis_rangeslider_visible=False,\n",
    "                      width=1000,height=600, margin=dict(l=50, r=50, b=100, t=100, pad=4),\n",
    "                      template='none')\n",
    "\n",
    "    fig.show()"
   ]
  },
  {
   "cell_type": "code",
   "execution_count": 22,
   "id": "4cc70d1f",
   "metadata": {},
   "outputs": [
    {
     "data": {
      "application/vnd.plotly.v1+json": {
       "config": {
        "plotlyServerURL": "https://plot.ly"
       },
       "data": [
        {
         "marker": {
          "color": [
           "blue",
           "blue",
           "blue",
           "blue",
           "blue",
           "blue",
           "blue",
           "blue",
           "blue",
           "blue",
           "blue",
           "blue",
           "blue",
           "blue",
           "blue",
           "blue",
           "blue",
           "blue",
           "blue",
           "blue",
           "blue",
           "blue",
           "blue",
           "green",
           "blue",
           "blue",
           "blue",
           "blue",
           "green",
           "blue",
           "blue",
           "blue",
           "blue",
           "blue",
           "blue",
           "blue",
           "blue",
           "blue",
           "blue",
           "blue",
           "blue",
           "blue",
           "blue",
           "blue",
           "green",
           "blue",
           "blue",
           "blue",
           "blue",
           "blue",
           "blue",
           "blue",
           "blue",
           "blue",
           "blue",
           "blue",
           "blue",
           "blue",
           "blue",
           "red",
           "blue",
           "green",
           "blue",
           "red",
           "blue",
           "blue",
           "blue",
           "blue",
           "blue",
           "blue",
           "blue",
           "blue",
           "blue",
           "blue",
           "blue",
           "blue",
           "green",
           "blue",
           "green",
           "green",
           "blue",
           "blue",
           "blue",
           "blue",
           "blue",
           "blue",
           "blue",
           "blue",
           "red",
           "blue",
           "blue",
           "blue",
           "blue",
           "blue",
           "blue",
           "blue",
           "blue",
           "blue",
           "blue",
           "blue",
           "blue",
           "blue",
           "green",
           "blue",
           "blue",
           "blue",
           "blue",
           "blue",
           "blue",
           "blue",
           "blue",
           "blue",
           "blue",
           "blue",
           "blue",
           "blue",
           "blue",
           "blue",
           "blue",
           "blue",
           "blue",
           "red",
           "blue",
           "green",
           "blue",
           "blue",
           "blue",
           "blue",
           "blue",
           "blue",
           "blue",
           "blue",
           "blue",
           "blue",
           "blue",
           "blue",
           "blue",
           "blue",
           "red",
           "blue",
           "blue",
           "blue",
           "blue",
           "blue",
           "blue",
           "blue",
           "blue",
           "blue",
           "blue",
           "blue",
           "blue",
           "blue",
           "green",
           "blue",
           "blue",
           "blue",
           "blue",
           "blue",
           "blue",
           "blue",
           "blue",
           "blue",
           "blue",
           "blue",
           "blue",
           "blue",
           "blue",
           "blue",
           "blue",
           "blue",
           "green",
           "blue",
           "blue",
           "blue",
           "blue",
           "blue",
           "blue"
          ],
          "size": 15,
          "symbol": [
           "cross-thin",
           "cross-thin",
           "cross-thin",
           "cross-thin",
           "cross-thin",
           "cross-thin",
           "cross-thin",
           "cross-thin",
           "cross-thin",
           "cross-thin",
           "cross-thin",
           "cross-thin",
           "cross-thin",
           "cross-thin",
           "cross-thin",
           "cross-thin",
           "cross-thin",
           "cross-thin",
           "cross-thin",
           "cross-thin",
           "cross-thin",
           "cross-thin",
           "cross-thin",
           "triangle-up",
           "cross-thin",
           "cross-thin",
           "cross-thin",
           "cross-thin",
           "triangle-up",
           "cross-thin",
           "cross-thin",
           "cross-thin",
           "cross-thin",
           "cross-thin",
           "cross-thin",
           "cross-thin",
           "cross-thin",
           "cross-thin",
           "cross-thin",
           "cross-thin",
           "cross-thin",
           "cross-thin",
           "cross-thin",
           "cross-thin",
           "triangle-up",
           "cross-thin",
           "cross-thin",
           "cross-thin",
           "cross-thin",
           "cross-thin",
           "cross-thin",
           "cross-thin",
           "cross-thin",
           "cross-thin",
           "cross-thin",
           "cross-thin",
           "cross-thin",
           "cross-thin",
           "cross-thin",
           "triangle-down",
           "cross-thin",
           "triangle-up",
           "cross-thin",
           "triangle-down",
           "cross-thin",
           "cross-thin",
           "cross-thin",
           "cross-thin",
           "cross-thin",
           "cross-thin",
           "cross-thin",
           "cross-thin",
           "cross-thin",
           "cross-thin",
           "cross-thin",
           "cross-thin",
           "triangle-up",
           "cross-thin",
           "triangle-up",
           "triangle-up",
           "cross-thin",
           "cross-thin",
           "cross-thin",
           "cross-thin",
           "cross-thin",
           "cross-thin",
           "cross-thin",
           "cross-thin",
           "triangle-down",
           "cross-thin",
           "cross-thin",
           "cross-thin",
           "cross-thin",
           "cross-thin",
           "cross-thin",
           "cross-thin",
           "cross-thin",
           "cross-thin",
           "cross-thin",
           "cross-thin",
           "cross-thin",
           "cross-thin",
           "triangle-up",
           "cross-thin",
           "cross-thin",
           "cross-thin",
           "cross-thin",
           "cross-thin",
           "cross-thin",
           "cross-thin",
           "cross-thin",
           "cross-thin",
           "cross-thin",
           "cross-thin",
           "cross-thin",
           "cross-thin",
           "cross-thin",
           "cross-thin",
           "cross-thin",
           "cross-thin",
           "cross-thin",
           "triangle-down",
           "cross-thin",
           "triangle-up",
           "cross-thin",
           "cross-thin",
           "cross-thin",
           "cross-thin",
           "cross-thin",
           "cross-thin",
           "cross-thin",
           "cross-thin",
           "cross-thin",
           "cross-thin",
           "cross-thin",
           "cross-thin",
           "cross-thin",
           "cross-thin",
           "triangle-down",
           "cross-thin",
           "cross-thin",
           "cross-thin",
           "cross-thin",
           "cross-thin",
           "cross-thin",
           "cross-thin",
           "cross-thin",
           "cross-thin",
           "cross-thin",
           "cross-thin",
           "cross-thin",
           "cross-thin",
           "triangle-up",
           "cross-thin",
           "cross-thin",
           "cross-thin",
           "cross-thin",
           "cross-thin",
           "cross-thin",
           "cross-thin",
           "cross-thin",
           "cross-thin",
           "cross-thin",
           "cross-thin",
           "cross-thin",
           "cross-thin",
           "cross-thin",
           "cross-thin",
           "cross-thin",
           "cross-thin",
           "triangle-up",
           "cross-thin",
           "cross-thin",
           "cross-thin",
           "cross-thin",
           "cross-thin",
           "cross-thin"
          ]
         },
         "mode": "markers",
         "name": "Buy/Sell/Hold",
         "type": "scatter",
         "x": [
          "2019-02-18T00:00:00",
          "2019-02-19T00:00:00",
          "2019-02-20T00:00:00",
          "2019-02-21T00:00:00",
          "2019-02-22T00:00:00",
          "2019-02-26T00:00:00",
          "2019-02-27T00:00:00",
          "2019-02-28T00:00:00",
          "2019-03-05T00:00:00",
          "2019-03-07T00:00:00",
          "2019-03-08T00:00:00",
          "2019-03-11T00:00:00",
          "2019-03-12T00:00:00",
          "2019-03-13T00:00:00",
          "2019-03-14T00:00:00",
          "2019-03-15T00:00:00",
          "2019-03-18T00:00:00",
          "2019-03-19T00:00:00",
          "2019-03-20T00:00:00",
          "2019-03-22T00:00:00",
          "2019-03-25T00:00:00",
          "2019-03-26T00:00:00",
          "2019-03-27T00:00:00",
          "2019-03-28T00:00:00",
          "2019-04-01T00:00:00",
          "2019-04-02T00:00:00",
          "2019-04-03T00:00:00",
          "2019-04-04T00:00:00",
          "2019-04-05T00:00:00",
          "2019-04-08T00:00:00",
          "2019-04-09T00:00:00",
          "2019-04-10T00:00:00",
          "2019-04-11T00:00:00",
          "2019-04-12T00:00:00",
          "2019-04-15T00:00:00",
          "2019-04-16T00:00:00",
          "2019-04-18T00:00:00",
          "2019-04-22T00:00:00",
          "2019-04-23T00:00:00",
          "2019-04-24T00:00:00",
          "2019-04-25T00:00:00",
          "2019-04-26T00:00:00",
          "2019-05-02T00:00:00",
          "2019-05-03T00:00:00",
          "2019-05-07T00:00:00",
          "2019-05-08T00:00:00",
          "2019-05-09T00:00:00",
          "2019-05-10T00:00:00",
          "2019-05-13T00:00:00",
          "2019-05-14T00:00:00",
          "2019-05-15T00:00:00",
          "2019-05-16T00:00:00",
          "2019-05-17T00:00:00",
          "2019-05-20T00:00:00",
          "2019-05-21T00:00:00",
          "2019-05-23T00:00:00",
          "2019-05-24T00:00:00",
          "2019-05-27T00:00:00",
          "2019-05-28T00:00:00",
          "2019-05-29T00:00:00",
          "2019-05-30T00:00:00",
          "2019-05-31T00:00:00",
          "2019-06-03T00:00:00",
          "2019-06-04T00:00:00",
          "2019-06-06T00:00:00",
          "2019-06-07T00:00:00",
          "2019-06-10T00:00:00",
          "2019-06-11T00:00:00",
          "2019-06-14T00:00:00",
          "2019-06-17T00:00:00",
          "2019-06-18T00:00:00",
          "2019-06-19T00:00:00",
          "2019-06-21T00:00:00",
          "2019-06-24T00:00:00",
          "2019-06-25T00:00:00",
          "2019-06-26T00:00:00",
          "2019-06-27T00:00:00",
          "2019-06-28T00:00:00",
          "2019-07-02T00:00:00",
          "2019-07-03T00:00:00",
          "2019-07-04T00:00:00",
          "2019-07-05T00:00:00",
          "2019-07-08T00:00:00",
          "2019-07-09T00:00:00",
          "2019-07-10T00:00:00",
          "2019-07-12T00:00:00",
          "2019-07-15T00:00:00",
          "2019-07-16T00:00:00",
          "2019-07-17T00:00:00",
          "2019-07-18T00:00:00",
          "2019-07-22T00:00:00",
          "2019-07-23T00:00:00",
          "2019-07-24T00:00:00",
          "2019-07-25T00:00:00",
          "2019-07-26T00:00:00",
          "2019-07-29T00:00:00",
          "2019-07-31T00:00:00",
          "2019-08-01T00:00:00",
          "2019-08-02T00:00:00",
          "2019-08-05T00:00:00",
          "2019-08-06T00:00:00",
          "2019-08-08T00:00:00",
          "2019-08-09T00:00:00",
          "2019-08-13T00:00:00",
          "2019-08-14T00:00:00",
          "2019-08-16T00:00:00",
          "2019-08-19T00:00:00",
          "2019-08-20T00:00:00",
          "2019-08-21T00:00:00",
          "2019-08-23T00:00:00",
          "2019-08-26T00:00:00",
          "2019-08-27T00:00:00",
          "2019-08-28T00:00:00",
          "2019-08-29T00:00:00",
          "2019-08-30T00:00:00",
          "2019-09-03T00:00:00",
          "2019-09-04T00:00:00",
          "2019-09-05T00:00:00",
          "2019-09-06T00:00:00",
          "2019-09-12T00:00:00",
          "2019-09-13T00:00:00",
          "2019-09-16T00:00:00",
          "2019-09-17T00:00:00",
          "2019-09-18T00:00:00",
          "2019-09-19T00:00:00",
          "2019-09-23T00:00:00",
          "2019-09-24T00:00:00",
          "2019-09-25T00:00:00",
          "2019-09-26T00:00:00",
          "2019-09-27T00:00:00",
          "2019-10-01T00:00:00",
          "2019-10-03T00:00:00",
          "2019-10-04T00:00:00",
          "2019-10-07T00:00:00",
          "2019-10-09T00:00:00",
          "2019-10-10T00:00:00",
          "2019-10-11T00:00:00",
          "2019-10-14T00:00:00",
          "2019-10-15T00:00:00",
          "2019-10-16T00:00:00",
          "2019-10-17T00:00:00",
          "2019-10-18T00:00:00",
          "2019-10-22T00:00:00",
          "2019-10-23T00:00:00",
          "2019-10-24T00:00:00",
          "2019-10-25T00:00:00",
          "2019-10-29T00:00:00",
          "2019-10-30T00:00:00",
          "2019-10-31T00:00:00",
          "2019-11-01T00:00:00",
          "2019-11-04T00:00:00",
          "2019-11-05T00:00:00",
          "2019-11-06T00:00:00",
          "2019-11-07T00:00:00",
          "2019-11-08T00:00:00",
          "2019-11-11T00:00:00",
          "2019-11-13T00:00:00",
          "2019-11-14T00:00:00",
          "2019-11-15T00:00:00",
          "2019-11-19T00:00:00",
          "2019-11-20T00:00:00",
          "2019-11-21T00:00:00",
          "2019-11-22T00:00:00",
          "2019-11-26T00:00:00",
          "2019-11-27T00:00:00",
          "2019-11-28T00:00:00",
          "2019-11-29T00:00:00",
          "2019-12-02T00:00:00",
          "2019-12-03T00:00:00",
          "2019-12-05T00:00:00",
          "2019-12-06T00:00:00",
          "2019-12-09T00:00:00",
          "2019-12-10T00:00:00",
          "2019-12-11T00:00:00",
          "2019-12-13T00:00:00",
          "2019-12-16T00:00:00",
          "2019-12-17T00:00:00"
         ],
         "xaxis": "x",
         "y": [
          484.6499938964844,
          489.6000061035156,
          496.2000122070313,
          508.3499755859375,
          503.5,
          517.25,
          527.5,
          529.5999755859375,
          546.4000244140625,
          553.4000244140625,
          552,
          548.0999755859375,
          558.0999755859375,
          570.5499877929688,
          570,
          559,
          561.5499877929688,
          563,
          560.9500122070312,
          560,
          544,
          540.1500244140625,
          550.9000244140625,
          555.4500122070312,
          584.9500122070312,
          586.0499877929688,
          592,
          590.0999755859375,
          600.8499755859375,
          595.75,
          593.2000122070312,
          592.25,
          589.75,
          593.9500122070312,
          608.8499755859375,
          610.6500244140625,
          604.9500122070312,
          606.2999877929688,
          606,
          605.0499877929688,
          606.0499877929688,
          587,
          582,
          590.3499755859375,
          536,
          543.2000122070312,
          550,
          533.1500244140625,
          561.2999877929688,
          563,
          573,
          578.5999755859375,
          580.2999877929688,
          586.5999755859375,
          598,
          597.6500244140625,
          585.2000122070312,
          590.25,
          611.5,
          657.7000122070312,
          621.9500122070312,
          623.2000122070312,
          627,
          658.5999755859375,
          608.7999877929688,
          598.5,
          600.2000122070312,
          604.0999755859375,
          592.0999755859375,
          574,
          566.0499877929688,
          558.25,
          550.9000244140625,
          549.0999755859375,
          553.0499877929688,
          564.5,
          567.1500244140625,
          569,
          562.8499755859375,
          564.5499877929688,
          566.2999877929688,
          548.4500122070312,
          541.2000122070312,
          545.2000122070312,
          544.3499755859375,
          549.2000122070312,
          546.0999755859375,
          544,
          592.9000244140625,
          519.6500244140625,
          507,
          490,
          450.5,
          441.25,
          454.5,
          457.3999938964844,
          440,
          449.1499938964844,
          449.5,
          443.2999877929688,
          441.0499877929688,
          458.2000122070313,
          461.75,
          451.5499877929688,
          458.5,
          463.3500061035156,
          472.6499938964844,
          472.3999938964844,
          465,
          451.75,
          456.0499877929688,
          470.0499877929688,
          458.1000061035156,
          454.3500061035156,
          459.9500122070313,
          450.5,
          433,
          445,
          470.1000061035156,
          482.5,
          490,
          540,
          512.5,
          519.25,
          518.2000122070312,
          555.0499877929688,
          550.2999877929688,
          555.75,
          554,
          540.0999755859375,
          536,
          536.4000244140625,
          548.4000244140625,
          533.0999755859375,
          545,
          531.5,
          546.0499877929688,
          549,
          572.0999755859375,
          545.25,
          535.0999755859375,
          527.5499877929688,
          540.4000244140625,
          533,
          531.75,
          531.75,
          541.5499877929688,
          537,
          538.9500122070312,
          543.4000244140625,
          540,
          526.0499877929688,
          513.5499877929688,
          515,
          515.0999755859375,
          517.4000244140625,
          508.25,
          498.0499877929688,
          503.6500244140625,
          502.04998779296875,
          502.6500244140625,
          504.0999755859375,
          502,
          497.1000061035156,
          503,
          506.95001220703125,
          508.0999755859375,
          508.0999755859375,
          500.1000061035156,
          504.8499755859375,
          505,
          503,
          505.0999755859375,
          510,
          524,
          507.79998779296875,
          505.20001220703125
         ],
         "yaxis": "y"
        },
        {
         "close": [
          499.6499938964844,
          508.5499877929688,
          520.5,
          521.9000244140625,
          516.3499755859375,
          538.8499755859375,
          539,
          541.9500122070312,
          562.1500244140625,
          567.2999877929688,
          566.0999755859375,
          565.8499755859375,
          589.2000122070312,
          585.3499755859375,
          584.5499877929688,
          570.8499755859375,
          579.9500122070312,
          581.4500122070312,
          573.5,
          572.6500244140625,
          556.7000122070312,
          562,
          569.7999877929688,
          576.7000122070312,
          600.7000122070312,
          604.4000244140625,
          608.8499755859375,
          611,
          619.9500122070312,
          609.4000244140625,
          608.2000122070312,
          605.9500122070312,
          605.5,
          622,
          625.1500244140625,
          624.9500122070312,
          624.2999877929688,
          620.25,
          617.2999877929688,
          622.1500244140625,
          619.2999877929688,
          599.0999755859375,
          608.5499877929688,
          602.7000122070312,
          561.7999877929688,
          570.2000122070312,
          562.8499755859375,
          583.4000244140625,
          579.9500122070312,
          585.9000244140625,
          592.5499877929688,
          592.9000244140625,
          594.75,
          612.0999755859375,
          619.5,
          615.7999877929688,
          600.9000244140625,
          627.7000122070312,
          643.0499877929688,
          637.5499877929688,
          640.5999755859375,
          636.0999755859375,
          641.4000244140625,
          641.75,
          628.6500244140625,
          610.75,
          622.0999755859375,
          619.4500122070312,
          610.4500122070312,
          587.7000122070312,
          579.25,
          576.8499755859375,
          563,
          574.0999755859375,
          574.7999877929688,
          581.5999755859375,
          583.8499755859375,
          581.8499755859375,
          588.5,
          576.9500122070312,
          584.3499755859375,
          561.5499877929688,
          561.0999755859375,
          566.25,
          555.7999877929688,
          566,
          559.0999755859375,
          571.0499877929688,
          556.9000244140625,
          536.9500122070312,
          522.5499877929688,
          510.6000061035156,
          468.2999877929688,
          476.1000061035156,
          479.75,
          476.75,
          474,
          466.1000061035156,
          467.5,
          456.5,
          469.6000061035156,
          478.6000061035156,
          476.8500061035156,
          471.2000122070313,
          484.4500122070313,
          481.75,
          500.0499877929688,
          488.7000122070313,
          479.3500061035156,
          466.2999877929688,
          488.0499877929688,
          481.2000122070313,
          472.0499877929688,
          469.9500122070313,
          474.1000061035156,
          463.5499877929688,
          456.7000122070313,
          484.3999938964844,
          489.3999938964844,
          498.4500122070313,
          516.0999755859375,
          525.6500244140625,
          530.5,
          534.7000122070312,
          535.4500122070312,
          587.9500122070312,
          592.3499755859375,
          568,
          571.5499877929688,
          556.9500122070312,
          556.1500244140625,
          561.5499877929688,
          560.6500244140625,
          556.4500122070312,
          561.3499755859375,
          561.5,
          564.7999877929688,
          561.3499755859375,
          560.25,
          559.5,
          554.0999755859375,
          552.5,
          555.9500122070312,
          561.5,
          548.0999755859375,
          556.2999877929688,
          554.5999755859375,
          549.2999877929688,
          558.2999877929688,
          565.8499755859375,
          554.7000122070312,
          539.25,
          530,
          530,
          532,
          531.3499755859375,
          520.1500244140625,
          524.4000244140625,
          518.25,
          521.7000122070312,
          525.4500122070312,
          520.0999755859375,
          520.2999877929688,
          516.2999877929688,
          516.75,
          521,
          536.0499877929688,
          522.0499877929688,
          513.4000244140625,
          516.5999755859375,
          517.5,
          518,
          520.7999877929688,
          529.4500122070312,
          538.9000244140625,
          519.8499755859375,
          519.7000122070312
         ],
         "high": [
          509.1499938964844,
          514.3499755859375,
          524.5,
          526.9000244140625,
          528,
          540.9000244140625,
          549.8499755859375,
          549.7999877929688,
          564.3499755859375,
          578,
          569,
          571.75,
          596.5,
          597.0999755859375,
          593.4500122070312,
          587.5,
          586,
          584.9000244140625,
          582.8499755859375,
          580.25,
          569.0999755859375,
          565.5499877929688,
          585,
          579,
          608.7000122070312,
          606.9000244140625,
          613.25,
          615,
          625.5,
          627.9000244140625,
          612.5,
          612.2000122070312,
          615.2999877929688,
          624.9000244140625,
          628.4000244140625,
          635,
          627.7000122070312,
          629.5499877929688,
          623.4000244140625,
          625,
          627.9500122070312,
          618.2000122070312,
          616.4500122070312,
          618.7999877929688,
          580.9000244140625,
          572.9000244140625,
          569.9000244140625,
          591,
          592.2999877929688,
          588.6500244140625,
          597.6500244140625,
          596.4000244140625,
          600.7000122070312,
          620,
          624,
          621.5,
          619,
          630.8499755859375,
          649.6500244140625,
          647.7000122070312,
          644.75,
          645.75,
          644,
          648.5999755859375,
          643.9000244140625,
          631.0999755859375,
          624.5,
          623.1500244140625,
          619.9500122070312,
          614.25,
          593,
          585,
          600,
          575.8499755859375,
          577.6500244140625,
          589,
          591,
          592.8499755859375,
          599.5999755859375,
          592.9000244140625,
          587,
          595.75,
          569.5999755859375,
          568.9000244140625,
          572.0499877929688,
          573.4000244140625,
          571.9500122070312,
          573,
          582.9000244140625,
          555.1500244140625,
          539,
          522.2999877929688,
          511.5,
          484,
          483.5499877929688,
          484,
          476.9500122070313,
          474.8500061035156,
          469.75,
          466.75,
          472.4500122070313,
          484.6000061035156,
          485.25,
          480.7999877929688,
          486.7000122070313,
          487,
          505,
          500,
          492,
          470.5499877929688,
          494,
          499.7999877929688,
          487.7000122070313,
          474.3500061035156,
          483.6499938964844,
          472.7999877929688,
          462,
          488.8999938964844,
          491.7000122070313,
          503.7999877929688,
          519,
          530,
          537.5499877929688,
          542,
          538.2000122070312,
          598.7000122070312,
          605.7000122070312,
          589.7000122070312,
          581,
          576,
          570,
          580,
          571.7999877929688,
          562,
          565.8499755859375,
          578,
          569.5,
          569,
          562.0999755859375,
          564.25,
          559.9500122070312,
          567,
          564.5,
          566.2000122070312,
          567,
          559,
          561.75,
          556,
          560,
          574.6500244140625,
          573.5999755859375,
          558.75,
          542.5999755859375,
          539,
          536.9000244140625,
          534,
          529.75,
          533.4000244140625,
          527.5999755859375,
          524.4000244140625,
          527.7999877929688,
          523.5999755859375,
          522.5999755859375,
          530,
          524.7999877929688,
          524.9000244140625,
          543.9000244140625,
          534.7000122070312,
          522.5,
          521.5499877929688,
          520,
          518.9000244140625,
          531.25,
          532.8499755859375,
          539.9000244140625,
          539,
          526.9500122070312
         ],
         "low": [
          494.6499938964844,
          499.6000061035156,
          506.2000122070313,
          518.3499755859375,
          513.5,
          527.25,
          537.5,
          539.5999755859375,
          556.4000244140625,
          563.4000244140625,
          562,
          558.0999755859375,
          568.0999755859375,
          580.5499877929688,
          580,
          569,
          571.5499877929688,
          573,
          570.9500122070312,
          570,
          554,
          550.1500244140625,
          560.9000244140625,
          565.4500122070312,
          594.9500122070312,
          596.0499877929688,
          602,
          600.0999755859375,
          610.8499755859375,
          605.75,
          603.2000122070312,
          602.25,
          599.75,
          603.9500122070312,
          618.8499755859375,
          620.6500244140625,
          614.9500122070312,
          616.2999877929688,
          616,
          615.0499877929688,
          616.0499877929688,
          597,
          592,
          600.3499755859375,
          546,
          553.2000122070312,
          560,
          543.1500244140625,
          571.2999877929688,
          573,
          583,
          588.5999755859375,
          590.2999877929688,
          596.5999755859375,
          608,
          607.6500244140625,
          595.2000122070312,
          600.25,
          621.5,
          633.9500122070312,
          631.9500122070312,
          633.2000122070312,
          637,
          639.75,
          618.7999877929688,
          608.5,
          610.2000122070312,
          614.0999755859375,
          602.0999755859375,
          584,
          576.0499877929688,
          568.25,
          560.9000244140625,
          559.0999755859375,
          563.0499877929688,
          574.5,
          577.1500244140625,
          579,
          572.8499755859375,
          574.5499877929688,
          576.2999877929688,
          558.4500122070312,
          551.2000122070312,
          555.2000122070312,
          554.3499755859375,
          559.2000122070312,
          556.0999755859375,
          554,
          552,
          529.6500244140625,
          517,
          500,
          460.5,
          451.25,
          464.5,
          467.3999938964844,
          450,
          459.1499938964844,
          459.5,
          453.2999877929688,
          451.0499877929688,
          468.2000122070313,
          471.75,
          461.5499877929688,
          468.5,
          473.3500061035156,
          482.6499938964844,
          482.3999938964844,
          475,
          461.75,
          466.0499877929688,
          480.0499877929688,
          468.1000061035156,
          464.3500061035156,
          469.9500122070313,
          460.5,
          443,
          455,
          480.1000061035156,
          492.5,
          500,
          508.1000061035156,
          522.5,
          529.25,
          528.2000122070312,
          565.0499877929688,
          560.2999877929688,
          565.75,
          564,
          550.0999755859375,
          546,
          546.4000244140625,
          558.4000244140625,
          543.0999755859375,
          555,
          541.5,
          556.0499877929688,
          559,
          551,
          555.25,
          545.0999755859375,
          537.5499877929688,
          550.4000244140625,
          543,
          541.75,
          541.75,
          551.5499877929688,
          547,
          548.9500122070312,
          553.4000244140625,
          550,
          536.0499877929688,
          523.5499877929688,
          525,
          525.0999755859375,
          527.4000244140625,
          518.25,
          508.0499877929688,
          513.6500244140625,
          512.0499877929688,
          512.6500244140625,
          514.0999755859375,
          512,
          507.1000061035156,
          513,
          516.9500122070312,
          518.0999755859375,
          518.0999755859375,
          510.1000061035156,
          514.8499755859375,
          515,
          513,
          515.0999755859375,
          520,
          534,
          517.7999877929688,
          515.2000122070312
         ],
         "name": "OHLC",
         "open": [
          507.7999877929688,
          504,
          506.2000122070313,
          523.9000244140625,
          524,
          535.75,
          539.7999877929688,
          543.3499755859375,
          559.9500122070312,
          566,
          568.4000244140625,
          569.5,
          570,
          590.0999755859375,
          587.0999755859375,
          587.5,
          575,
          578,
          581,
          571.9000244140625,
          569,
          551,
          562,
          571,
          595.9000244140625,
          604.5999755859375,
          607,
          606,
          611.9000244140625,
          619.9500122070312,
          610.0999755859375,
          606.9000244140625,
          602.5499877929688,
          603.9500122070312,
          623,
          627.2000122070312,
          615.2000122070312,
          620,
          616.0499877929688,
          615.0499877929688,
          623.7999877929688,
          618.0999755859375,
          592,
          610.0499877929688,
          579.9500122070312,
          553.2000122070312,
          567.2999877929688,
          563,
          575,
          575,
          584,
          594.2999877929688,
          593,
          603,
          614,
          611.0499877929688,
          616.0499877929688,
          600.25,
          632,
          643,
          637.5,
          643,
          640,
          645.5,
          642.5,
          628,
          610.75,
          622.0999755859375,
          602.0999755859375,
          614.25,
          586.0499877929688,
          583,
          600,
          563,
          575.7999877929688,
          574.9000244140625,
          585.2999877929688,
          585,
          581.5,
          589.9000244140625,
          577.5,
          585,
          560.5499877929688,
          562,
          566,
          559.7999877929688,
          568.7999877929688,
          562.1500244140625,
          573.0499877929688,
          550,
          522.5,
          520,
          511.5,
          468.2999877929688,
          480,
          479.75,
          465,
          469.7000122070313,
          465.8500061035156,
          465,
          456.8999938964844,
          481.0499877929688,
          478,
          474.5,
          471.8500061035156,
          483.75,
          483.8500061035156,
          500,
          489.3999938964844,
          469,
          468,
          489,
          481.5499877929688,
          470,
          469.9500122070313,
          470.8999938964844,
          460.5499877929688,
          456.7000122070313,
          486.7999877929688,
          495.9500122070313,
          500.8999938964844,
          518,
          524.9500122070312,
          532,
          535.5499877929688,
          584,
          586.9500122070312,
          584.9500122070312,
          564,
          566,
          557.7000122070312,
          558.2999877929688,
          561.5999755859375,
          560.6500244140625,
          558,
          560.6500244140625,
          561.6500244140625,
          564,
          559,
          561,
          559.5,
          555.0999755859375,
          554.5999755859375,
          555.9000244140625,
          567,
          547.5,
          555.75,
          552,
          550,
          557,
          568.25,
          555,
          541.9000244140625,
          538,
          532.5499877929688,
          531.75,
          529.2000122070312,
          520,
          527.5999755859375,
          512.0499877929688,
          520,
          521,
          518,
          521.5499877929688,
          516,
          516.9500122070312,
          521,
          533,
          520,
          515.1500244140625,
          517.2999877929688,
          515,
          518,
          520,
          539,
          538.9000244140625,
          520
         ],
         "type": "candlestick",
         "x": [
          "2019-02-18T00:00:00",
          "2019-02-19T00:00:00",
          "2019-02-20T00:00:00",
          "2019-02-21T00:00:00",
          "2019-02-22T00:00:00",
          "2019-02-26T00:00:00",
          "2019-02-27T00:00:00",
          "2019-02-28T00:00:00",
          "2019-03-05T00:00:00",
          "2019-03-07T00:00:00",
          "2019-03-08T00:00:00",
          "2019-03-11T00:00:00",
          "2019-03-12T00:00:00",
          "2019-03-13T00:00:00",
          "2019-03-14T00:00:00",
          "2019-03-15T00:00:00",
          "2019-03-18T00:00:00",
          "2019-03-19T00:00:00",
          "2019-03-20T00:00:00",
          "2019-03-22T00:00:00",
          "2019-03-25T00:00:00",
          "2019-03-26T00:00:00",
          "2019-03-27T00:00:00",
          "2019-03-28T00:00:00",
          "2019-04-01T00:00:00",
          "2019-04-02T00:00:00",
          "2019-04-03T00:00:00",
          "2019-04-04T00:00:00",
          "2019-04-05T00:00:00",
          "2019-04-08T00:00:00",
          "2019-04-09T00:00:00",
          "2019-04-10T00:00:00",
          "2019-04-11T00:00:00",
          "2019-04-12T00:00:00",
          "2019-04-15T00:00:00",
          "2019-04-16T00:00:00",
          "2019-04-18T00:00:00",
          "2019-04-22T00:00:00",
          "2019-04-23T00:00:00",
          "2019-04-24T00:00:00",
          "2019-04-25T00:00:00",
          "2019-04-26T00:00:00",
          "2019-05-02T00:00:00",
          "2019-05-03T00:00:00",
          "2019-05-07T00:00:00",
          "2019-05-08T00:00:00",
          "2019-05-09T00:00:00",
          "2019-05-10T00:00:00",
          "2019-05-13T00:00:00",
          "2019-05-14T00:00:00",
          "2019-05-15T00:00:00",
          "2019-05-16T00:00:00",
          "2019-05-17T00:00:00",
          "2019-05-20T00:00:00",
          "2019-05-21T00:00:00",
          "2019-05-23T00:00:00",
          "2019-05-24T00:00:00",
          "2019-05-27T00:00:00",
          "2019-05-28T00:00:00",
          "2019-05-29T00:00:00",
          "2019-05-30T00:00:00",
          "2019-05-31T00:00:00",
          "2019-06-03T00:00:00",
          "2019-06-04T00:00:00",
          "2019-06-06T00:00:00",
          "2019-06-07T00:00:00",
          "2019-06-10T00:00:00",
          "2019-06-11T00:00:00",
          "2019-06-14T00:00:00",
          "2019-06-17T00:00:00",
          "2019-06-18T00:00:00",
          "2019-06-19T00:00:00",
          "2019-06-21T00:00:00",
          "2019-06-24T00:00:00",
          "2019-06-25T00:00:00",
          "2019-06-26T00:00:00",
          "2019-06-27T00:00:00",
          "2019-06-28T00:00:00",
          "2019-07-02T00:00:00",
          "2019-07-03T00:00:00",
          "2019-07-04T00:00:00",
          "2019-07-05T00:00:00",
          "2019-07-08T00:00:00",
          "2019-07-09T00:00:00",
          "2019-07-10T00:00:00",
          "2019-07-12T00:00:00",
          "2019-07-15T00:00:00",
          "2019-07-16T00:00:00",
          "2019-07-17T00:00:00",
          "2019-07-18T00:00:00",
          "2019-07-22T00:00:00",
          "2019-07-23T00:00:00",
          "2019-07-24T00:00:00",
          "2019-07-25T00:00:00",
          "2019-07-26T00:00:00",
          "2019-07-29T00:00:00",
          "2019-07-31T00:00:00",
          "2019-08-01T00:00:00",
          "2019-08-02T00:00:00",
          "2019-08-05T00:00:00",
          "2019-08-06T00:00:00",
          "2019-08-08T00:00:00",
          "2019-08-09T00:00:00",
          "2019-08-13T00:00:00",
          "2019-08-14T00:00:00",
          "2019-08-16T00:00:00",
          "2019-08-19T00:00:00",
          "2019-08-20T00:00:00",
          "2019-08-21T00:00:00",
          "2019-08-23T00:00:00",
          "2019-08-26T00:00:00",
          "2019-08-27T00:00:00",
          "2019-08-28T00:00:00",
          "2019-08-29T00:00:00",
          "2019-08-30T00:00:00",
          "2019-09-03T00:00:00",
          "2019-09-04T00:00:00",
          "2019-09-05T00:00:00",
          "2019-09-06T00:00:00",
          "2019-09-12T00:00:00",
          "2019-09-13T00:00:00",
          "2019-09-16T00:00:00",
          "2019-09-17T00:00:00",
          "2019-09-18T00:00:00",
          "2019-09-19T00:00:00",
          "2019-09-23T00:00:00",
          "2019-09-24T00:00:00",
          "2019-09-25T00:00:00",
          "2019-09-26T00:00:00",
          "2019-09-27T00:00:00",
          "2019-10-01T00:00:00",
          "2019-10-03T00:00:00",
          "2019-10-04T00:00:00",
          "2019-10-07T00:00:00",
          "2019-10-09T00:00:00",
          "2019-10-10T00:00:00",
          "2019-10-11T00:00:00",
          "2019-10-14T00:00:00",
          "2019-10-15T00:00:00",
          "2019-10-16T00:00:00",
          "2019-10-17T00:00:00",
          "2019-10-18T00:00:00",
          "2019-10-22T00:00:00",
          "2019-10-23T00:00:00",
          "2019-10-24T00:00:00",
          "2019-10-25T00:00:00",
          "2019-10-29T00:00:00",
          "2019-10-30T00:00:00",
          "2019-10-31T00:00:00",
          "2019-11-01T00:00:00",
          "2019-11-04T00:00:00",
          "2019-11-05T00:00:00",
          "2019-11-06T00:00:00",
          "2019-11-07T00:00:00",
          "2019-11-08T00:00:00",
          "2019-11-11T00:00:00",
          "2019-11-13T00:00:00",
          "2019-11-14T00:00:00",
          "2019-11-15T00:00:00",
          "2019-11-19T00:00:00",
          "2019-11-20T00:00:00",
          "2019-11-21T00:00:00",
          "2019-11-22T00:00:00",
          "2019-11-26T00:00:00",
          "2019-11-27T00:00:00",
          "2019-11-28T00:00:00",
          "2019-11-29T00:00:00",
          "2019-12-02T00:00:00",
          "2019-12-03T00:00:00",
          "2019-12-05T00:00:00",
          "2019-12-06T00:00:00",
          "2019-12-09T00:00:00",
          "2019-12-10T00:00:00",
          "2019-12-11T00:00:00",
          "2019-12-13T00:00:00",
          "2019-12-16T00:00:00",
          "2019-12-17T00:00:00"
         ],
         "xaxis": "x",
         "yaxis": "y"
        },
        {
         "mode": "lines",
         "name": "Net Worth (INR)",
         "type": "scatter",
         "x": [
          "2019-02-18T00:00:00",
          "2019-02-19T00:00:00",
          "2019-02-20T00:00:00",
          "2019-02-21T00:00:00",
          "2019-02-22T00:00:00",
          "2019-02-26T00:00:00",
          "2019-02-27T00:00:00",
          "2019-02-28T00:00:00",
          "2019-03-05T00:00:00",
          "2019-03-07T00:00:00",
          "2019-03-08T00:00:00",
          "2019-03-11T00:00:00",
          "2019-03-12T00:00:00",
          "2019-03-13T00:00:00",
          "2019-03-14T00:00:00",
          "2019-03-15T00:00:00",
          "2019-03-18T00:00:00",
          "2019-03-19T00:00:00",
          "2019-03-20T00:00:00",
          "2019-03-22T00:00:00",
          "2019-03-25T00:00:00",
          "2019-03-26T00:00:00",
          "2019-03-27T00:00:00",
          "2019-03-28T00:00:00",
          "2019-04-01T00:00:00",
          "2019-04-02T00:00:00",
          "2019-04-03T00:00:00",
          "2019-04-04T00:00:00",
          "2019-04-05T00:00:00",
          "2019-04-08T00:00:00",
          "2019-04-09T00:00:00",
          "2019-04-10T00:00:00",
          "2019-04-11T00:00:00",
          "2019-04-12T00:00:00",
          "2019-04-15T00:00:00",
          "2019-04-16T00:00:00",
          "2019-04-18T00:00:00",
          "2019-04-22T00:00:00",
          "2019-04-23T00:00:00",
          "2019-04-24T00:00:00",
          "2019-04-25T00:00:00",
          "2019-04-26T00:00:00",
          "2019-05-02T00:00:00",
          "2019-05-03T00:00:00",
          "2019-05-07T00:00:00",
          "2019-05-08T00:00:00",
          "2019-05-09T00:00:00",
          "2019-05-10T00:00:00",
          "2019-05-13T00:00:00",
          "2019-05-14T00:00:00",
          "2019-05-15T00:00:00",
          "2019-05-16T00:00:00",
          "2019-05-17T00:00:00",
          "2019-05-20T00:00:00",
          "2019-05-21T00:00:00",
          "2019-05-23T00:00:00",
          "2019-05-24T00:00:00",
          "2019-05-27T00:00:00",
          "2019-05-28T00:00:00",
          "2019-05-29T00:00:00",
          "2019-05-30T00:00:00",
          "2019-05-31T00:00:00",
          "2019-06-03T00:00:00",
          "2019-06-04T00:00:00",
          "2019-06-06T00:00:00",
          "2019-06-07T00:00:00",
          "2019-06-10T00:00:00",
          "2019-06-11T00:00:00",
          "2019-06-14T00:00:00",
          "2019-06-17T00:00:00",
          "2019-06-18T00:00:00",
          "2019-06-19T00:00:00",
          "2019-06-21T00:00:00",
          "2019-06-24T00:00:00",
          "2019-06-25T00:00:00",
          "2019-06-26T00:00:00",
          "2019-06-27T00:00:00",
          "2019-06-28T00:00:00",
          "2019-07-02T00:00:00",
          "2019-07-03T00:00:00",
          "2019-07-04T00:00:00",
          "2019-07-05T00:00:00",
          "2019-07-08T00:00:00",
          "2019-07-09T00:00:00",
          "2019-07-10T00:00:00",
          "2019-07-12T00:00:00",
          "2019-07-15T00:00:00",
          "2019-07-16T00:00:00",
          "2019-07-17T00:00:00",
          "2019-07-18T00:00:00",
          "2019-07-22T00:00:00",
          "2019-07-23T00:00:00",
          "2019-07-24T00:00:00",
          "2019-07-25T00:00:00",
          "2019-07-26T00:00:00",
          "2019-07-29T00:00:00",
          "2019-07-31T00:00:00",
          "2019-08-01T00:00:00",
          "2019-08-02T00:00:00",
          "2019-08-05T00:00:00",
          "2019-08-06T00:00:00",
          "2019-08-08T00:00:00",
          "2019-08-09T00:00:00",
          "2019-08-13T00:00:00",
          "2019-08-14T00:00:00",
          "2019-08-16T00:00:00",
          "2019-08-19T00:00:00",
          "2019-08-20T00:00:00",
          "2019-08-21T00:00:00",
          "2019-08-23T00:00:00",
          "2019-08-26T00:00:00",
          "2019-08-27T00:00:00",
          "2019-08-28T00:00:00",
          "2019-08-29T00:00:00",
          "2019-08-30T00:00:00",
          "2019-09-03T00:00:00",
          "2019-09-04T00:00:00",
          "2019-09-05T00:00:00",
          "2019-09-06T00:00:00",
          "2019-09-12T00:00:00",
          "2019-09-13T00:00:00",
          "2019-09-16T00:00:00",
          "2019-09-17T00:00:00",
          "2019-09-18T00:00:00",
          "2019-09-19T00:00:00",
          "2019-09-23T00:00:00",
          "2019-09-24T00:00:00",
          "2019-09-25T00:00:00",
          "2019-09-26T00:00:00",
          "2019-09-27T00:00:00",
          "2019-10-01T00:00:00",
          "2019-10-03T00:00:00",
          "2019-10-04T00:00:00",
          "2019-10-07T00:00:00",
          "2019-10-09T00:00:00",
          "2019-10-10T00:00:00",
          "2019-10-11T00:00:00",
          "2019-10-14T00:00:00",
          "2019-10-15T00:00:00",
          "2019-10-16T00:00:00",
          "2019-10-17T00:00:00",
          "2019-10-18T00:00:00",
          "2019-10-22T00:00:00",
          "2019-10-23T00:00:00",
          "2019-10-24T00:00:00",
          "2019-10-25T00:00:00",
          "2019-10-29T00:00:00",
          "2019-10-30T00:00:00",
          "2019-10-31T00:00:00",
          "2019-11-01T00:00:00",
          "2019-11-04T00:00:00",
          "2019-11-05T00:00:00",
          "2019-11-06T00:00:00",
          "2019-11-07T00:00:00",
          "2019-11-08T00:00:00",
          "2019-11-11T00:00:00",
          "2019-11-13T00:00:00",
          "2019-11-14T00:00:00",
          "2019-11-15T00:00:00",
          "2019-11-19T00:00:00",
          "2019-11-20T00:00:00",
          "2019-11-21T00:00:00",
          "2019-11-22T00:00:00",
          "2019-11-26T00:00:00",
          "2019-11-27T00:00:00",
          "2019-11-28T00:00:00",
          "2019-11-29T00:00:00",
          "2019-12-02T00:00:00",
          "2019-12-03T00:00:00",
          "2019-12-05T00:00:00",
          "2019-12-06T00:00:00",
          "2019-12-09T00:00:00",
          "2019-12-10T00:00:00",
          "2019-12-11T00:00:00",
          "2019-12-13T00:00:00",
          "2019-12-16T00:00:00",
          "2019-12-17T00:00:00"
         ],
         "xaxis": "x2",
         "y": [
          10000,
          10000,
          10000,
          10000,
          10000,
          10000,
          10000,
          10000,
          10000,
          10000,
          10000,
          10000,
          10000,
          10000,
          10000,
          10000,
          10000,
          10000,
          10000,
          10000,
          10000,
          10000,
          10000,
          10000,
          10340.786280680702,
          10451.591633055566,
          10503.926527405967,
          10484.463789647478,
          10564.17026048498,
          10583.418264969281,
          10514.749695373945,
          10474.57886557564,
          10456.93546926078,
          10679.871974381667,
          10758.92127952189,
          10795.13755044035,
          10679.636494736076,
          10693.298478547447,
          10634.965077394538,
          10677.285660929118,
          10743.988747618516,
          10430.11414377273,
          10359.732337106689,
          10489.619384183105,
          9769.060118484964,
          9799.206918802112,
          9828.854491908909,
          10062.168205988542,
          10056.858329963045,
          10112.363779280606,
          10283.157139791461,
          10291.57154424367,
          10308.758158947861,
          10470.836069005985,
          10714.839672296805,
          10638.131403157864,
          10427.207004642278,
          10552.417572864413,
          11075.919071219865,
          11052.49988646958,
          11078.66530452773,
          11125.540044690502,
          11086.990301014459,
          11163.361054068015,
          11163.361054068015,
          11163.361054068015,
          11163.361054068015,
          11163.361054068015,
          11163.361054068015,
          11163.361054068015,
          11163.361054068015,
          11163.361054068015,
          11163.361054068015,
          11163.361054068015,
          11163.361054068015,
          11163.361054068015,
          11163.361054068015,
          11148.879393554922,
          11202.544304527215,
          11042.532675862842,
          11069.970490476167,
          11111.325070869434,
          10720.169267816076,
          10765.06860251683,
          10807.933100845325,
          10743.202345510885,
          10748.746096618905,
          10880.290067186306,
          10672.160166618363,
          10565.697408371154,
          10385.839208854253,
          10338.47501799544,
          10254.080915477347,
          9991.78384247687,
          10044.984240603095,
          10041.894169696428,
          9942.334579975493,
          9938.716948158471,
          9938.054682598495,
          9871.444398137428,
          9938.882336585117,
          10038.322732655739,
          10029.245349496498,
          9901.831679763243,
          9967.10978235208,
          10128.910322711416,
          10414.477222754818,
          10380.263317603456,
          10193.28321527094,
          9797.02489843068,
          10114.379425892934,
          10125.16167643945,
          10036.573882038494,
          9869.581352982252,
          9886.709725413315,
          9766.998198432839,
          9666.194075642296,
          9639.621249251046,
          10233.11586018079,
          10393.257020918556,
          10503.91440633736,
          10901.170936243852,
          11043.658653942683,
          11114.638311717037,
          11167.67080791884,
          12154.004863554645,
          12262.92548429554,
          12053.54030751624,
          11887.701643568182,
          11649.642767224557,
          11601.330188467075,
          11682.907852086659,
          11677.950709085037,
          11662.168396746747,
          11646.453484880747,
          11676.64070664123,
          11748.087558141104,
          11717.843033689422,
          11657.367276771769,
          11658.980447478723,
          11648.099192985723,
          11591.84148754385,
          11599.77624066441,
          11665.4852386139,
          11614.301339495749,
          11553.687804586667,
          11607.425890673054,
          11564.021511714696,
          11599.828562208768,
          11695.935924739231,
          11647.300080267123,
          11438.555514187417,
          11329.73248514519,
          11346.173409011582,
          11364.963555870325,
          11348.429564215623,
          11213.22802193092,
          11221.211302313757,
          11291.258405466058,
          11155.281385247594,
          11253.10427910498,
          11183.74336743875,
          11174.989339768843,
          11155.77028502851,
          11119.971433825354,
          11185.326473450488,
          11242.45528679495,
          11295.166500052599,
          11169.868221615103,
          11116.246526872954,
          11139.75926881138,
          11095.992693140925,
          11154.677704246908,
          11303.297164340964,
          11547.11303667583,
          11460.728603596697,
          11182.016022398113
         ],
         "yaxis": "y2"
        }
       ],
       "layout": {
        "annotations": [
         {
          "font": {
           "size": 16
          },
          "showarrow": false,
          "text": "RL Algorithm: PPO2_MLP - Trade Count [Buy: 11 | Sell: 5 | Hold: 161]",
          "x": 0.5,
          "xanchor": "center",
          "xref": "paper",
          "y": 0.9999999999999999,
          "yanchor": "bottom",
          "yref": "paper"
         },
         {
          "font": {
           "size": 16
          },
          "showarrow": false,
          "text": "Initial Investment (INR): 10000.0 | Net Worth (INR): 11182.02 | Profit (INR): 1182.02 | Profit (%): 11.82%",
          "x": 0.5,
          "xanchor": "center",
          "xref": "paper",
          "y": 0.2375,
          "yanchor": "bottom",
          "yref": "paper"
         }
        ],
        "height": 600,
        "margin": {
         "b": 100,
         "l": 50,
         "pad": 4,
         "r": 50,
         "t": 100
        },
        "shapes": [
         {
          "line": {
           "color": "firebrick",
           "dash": "dot",
           "width": 1
          },
          "name": "Initial Balance",
          "type": "line",
          "x0": 0,
          "x1": 1,
          "xref": "x2 domain",
          "y0": 10000,
          "y1": 10000,
          "yref": "y2"
         }
        ],
        "template": {
         "data": {
          "scatter": [
           {
            "type": "scatter"
           }
          ]
         }
        },
        "width": 1000,
        "xaxis": {
         "anchor": "y",
         "domain": [
          0,
          1
         ],
         "matches": "x2",
         "rangeslider": {
          "visible": false
         },
         "showticklabels": false,
         "tickfont": {
          "size": 12
         }
        },
        "xaxis2": {
         "anchor": "y2",
         "domain": [
          0,
          1
         ]
        },
        "yaxis": {
         "anchor": "x",
         "domain": [
          0.2875,
          0.9999999999999999
         ],
         "tickfont": {
          "size": 10
         },
         "title": {
          "font": {
           "size": 14
          },
          "text": "Price (INR/share)"
         }
        },
        "yaxis2": {
         "anchor": "x2",
         "domain": [
          0,
          0.2375
         ]
        }
       }
      },
      "text/html": [
       "<div>                            <div id=\"3a30bbad-6b45-411a-943a-0d2d94378524\" class=\"plotly-graph-div\" style=\"height:600px; width:1000px;\"></div>            <script type=\"text/javascript\">                require([\"plotly\"], function(Plotly) {                    window.PLOTLYENV=window.PLOTLYENV || {};                                    if (document.getElementById(\"3a30bbad-6b45-411a-943a-0d2d94378524\")) {                    Plotly.newPlot(                        \"3a30bbad-6b45-411a-943a-0d2d94378524\",                        [{\"marker\":{\"color\":[\"blue\",\"blue\",\"blue\",\"blue\",\"blue\",\"blue\",\"blue\",\"blue\",\"blue\",\"blue\",\"blue\",\"blue\",\"blue\",\"blue\",\"blue\",\"blue\",\"blue\",\"blue\",\"blue\",\"blue\",\"blue\",\"blue\",\"blue\",\"green\",\"blue\",\"blue\",\"blue\",\"blue\",\"green\",\"blue\",\"blue\",\"blue\",\"blue\",\"blue\",\"blue\",\"blue\",\"blue\",\"blue\",\"blue\",\"blue\",\"blue\",\"blue\",\"blue\",\"blue\",\"green\",\"blue\",\"blue\",\"blue\",\"blue\",\"blue\",\"blue\",\"blue\",\"blue\",\"blue\",\"blue\",\"blue\",\"blue\",\"blue\",\"blue\",\"red\",\"blue\",\"green\",\"blue\",\"red\",\"blue\",\"blue\",\"blue\",\"blue\",\"blue\",\"blue\",\"blue\",\"blue\",\"blue\",\"blue\",\"blue\",\"blue\",\"green\",\"blue\",\"green\",\"green\",\"blue\",\"blue\",\"blue\",\"blue\",\"blue\",\"blue\",\"blue\",\"blue\",\"red\",\"blue\",\"blue\",\"blue\",\"blue\",\"blue\",\"blue\",\"blue\",\"blue\",\"blue\",\"blue\",\"blue\",\"blue\",\"blue\",\"green\",\"blue\",\"blue\",\"blue\",\"blue\",\"blue\",\"blue\",\"blue\",\"blue\",\"blue\",\"blue\",\"blue\",\"blue\",\"blue\",\"blue\",\"blue\",\"blue\",\"blue\",\"blue\",\"red\",\"blue\",\"green\",\"blue\",\"blue\",\"blue\",\"blue\",\"blue\",\"blue\",\"blue\",\"blue\",\"blue\",\"blue\",\"blue\",\"blue\",\"blue\",\"blue\",\"red\",\"blue\",\"blue\",\"blue\",\"blue\",\"blue\",\"blue\",\"blue\",\"blue\",\"blue\",\"blue\",\"blue\",\"blue\",\"blue\",\"green\",\"blue\",\"blue\",\"blue\",\"blue\",\"blue\",\"blue\",\"blue\",\"blue\",\"blue\",\"blue\",\"blue\",\"blue\",\"blue\",\"blue\",\"blue\",\"blue\",\"blue\",\"green\",\"blue\",\"blue\",\"blue\",\"blue\",\"blue\",\"blue\"],\"size\":15,\"symbol\":[\"cross-thin\",\"cross-thin\",\"cross-thin\",\"cross-thin\",\"cross-thin\",\"cross-thin\",\"cross-thin\",\"cross-thin\",\"cross-thin\",\"cross-thin\",\"cross-thin\",\"cross-thin\",\"cross-thin\",\"cross-thin\",\"cross-thin\",\"cross-thin\",\"cross-thin\",\"cross-thin\",\"cross-thin\",\"cross-thin\",\"cross-thin\",\"cross-thin\",\"cross-thin\",\"triangle-up\",\"cross-thin\",\"cross-thin\",\"cross-thin\",\"cross-thin\",\"triangle-up\",\"cross-thin\",\"cross-thin\",\"cross-thin\",\"cross-thin\",\"cross-thin\",\"cross-thin\",\"cross-thin\",\"cross-thin\",\"cross-thin\",\"cross-thin\",\"cross-thin\",\"cross-thin\",\"cross-thin\",\"cross-thin\",\"cross-thin\",\"triangle-up\",\"cross-thin\",\"cross-thin\",\"cross-thin\",\"cross-thin\",\"cross-thin\",\"cross-thin\",\"cross-thin\",\"cross-thin\",\"cross-thin\",\"cross-thin\",\"cross-thin\",\"cross-thin\",\"cross-thin\",\"cross-thin\",\"triangle-down\",\"cross-thin\",\"triangle-up\",\"cross-thin\",\"triangle-down\",\"cross-thin\",\"cross-thin\",\"cross-thin\",\"cross-thin\",\"cross-thin\",\"cross-thin\",\"cross-thin\",\"cross-thin\",\"cross-thin\",\"cross-thin\",\"cross-thin\",\"cross-thin\",\"triangle-up\",\"cross-thin\",\"triangle-up\",\"triangle-up\",\"cross-thin\",\"cross-thin\",\"cross-thin\",\"cross-thin\",\"cross-thin\",\"cross-thin\",\"cross-thin\",\"cross-thin\",\"triangle-down\",\"cross-thin\",\"cross-thin\",\"cross-thin\",\"cross-thin\",\"cross-thin\",\"cross-thin\",\"cross-thin\",\"cross-thin\",\"cross-thin\",\"cross-thin\",\"cross-thin\",\"cross-thin\",\"cross-thin\",\"triangle-up\",\"cross-thin\",\"cross-thin\",\"cross-thin\",\"cross-thin\",\"cross-thin\",\"cross-thin\",\"cross-thin\",\"cross-thin\",\"cross-thin\",\"cross-thin\",\"cross-thin\",\"cross-thin\",\"cross-thin\",\"cross-thin\",\"cross-thin\",\"cross-thin\",\"cross-thin\",\"cross-thin\",\"triangle-down\",\"cross-thin\",\"triangle-up\",\"cross-thin\",\"cross-thin\",\"cross-thin\",\"cross-thin\",\"cross-thin\",\"cross-thin\",\"cross-thin\",\"cross-thin\",\"cross-thin\",\"cross-thin\",\"cross-thin\",\"cross-thin\",\"cross-thin\",\"cross-thin\",\"triangle-down\",\"cross-thin\",\"cross-thin\",\"cross-thin\",\"cross-thin\",\"cross-thin\",\"cross-thin\",\"cross-thin\",\"cross-thin\",\"cross-thin\",\"cross-thin\",\"cross-thin\",\"cross-thin\",\"cross-thin\",\"triangle-up\",\"cross-thin\",\"cross-thin\",\"cross-thin\",\"cross-thin\",\"cross-thin\",\"cross-thin\",\"cross-thin\",\"cross-thin\",\"cross-thin\",\"cross-thin\",\"cross-thin\",\"cross-thin\",\"cross-thin\",\"cross-thin\",\"cross-thin\",\"cross-thin\",\"cross-thin\",\"triangle-up\",\"cross-thin\",\"cross-thin\",\"cross-thin\",\"cross-thin\",\"cross-thin\",\"cross-thin\"]},\"mode\":\"markers\",\"name\":\"Buy/Sell/Hold\",\"type\":\"scatter\",\"x\":[\"2019-02-18T00:00:00\",\"2019-02-19T00:00:00\",\"2019-02-20T00:00:00\",\"2019-02-21T00:00:00\",\"2019-02-22T00:00:00\",\"2019-02-26T00:00:00\",\"2019-02-27T00:00:00\",\"2019-02-28T00:00:00\",\"2019-03-05T00:00:00\",\"2019-03-07T00:00:00\",\"2019-03-08T00:00:00\",\"2019-03-11T00:00:00\",\"2019-03-12T00:00:00\",\"2019-03-13T00:00:00\",\"2019-03-14T00:00:00\",\"2019-03-15T00:00:00\",\"2019-03-18T00:00:00\",\"2019-03-19T00:00:00\",\"2019-03-20T00:00:00\",\"2019-03-22T00:00:00\",\"2019-03-25T00:00:00\",\"2019-03-26T00:00:00\",\"2019-03-27T00:00:00\",\"2019-03-28T00:00:00\",\"2019-04-01T00:00:00\",\"2019-04-02T00:00:00\",\"2019-04-03T00:00:00\",\"2019-04-04T00:00:00\",\"2019-04-05T00:00:00\",\"2019-04-08T00:00:00\",\"2019-04-09T00:00:00\",\"2019-04-10T00:00:00\",\"2019-04-11T00:00:00\",\"2019-04-12T00:00:00\",\"2019-04-15T00:00:00\",\"2019-04-16T00:00:00\",\"2019-04-18T00:00:00\",\"2019-04-22T00:00:00\",\"2019-04-23T00:00:00\",\"2019-04-24T00:00:00\",\"2019-04-25T00:00:00\",\"2019-04-26T00:00:00\",\"2019-05-02T00:00:00\",\"2019-05-03T00:00:00\",\"2019-05-07T00:00:00\",\"2019-05-08T00:00:00\",\"2019-05-09T00:00:00\",\"2019-05-10T00:00:00\",\"2019-05-13T00:00:00\",\"2019-05-14T00:00:00\",\"2019-05-15T00:00:00\",\"2019-05-16T00:00:00\",\"2019-05-17T00:00:00\",\"2019-05-20T00:00:00\",\"2019-05-21T00:00:00\",\"2019-05-23T00:00:00\",\"2019-05-24T00:00:00\",\"2019-05-27T00:00:00\",\"2019-05-28T00:00:00\",\"2019-05-29T00:00:00\",\"2019-05-30T00:00:00\",\"2019-05-31T00:00:00\",\"2019-06-03T00:00:00\",\"2019-06-04T00:00:00\",\"2019-06-06T00:00:00\",\"2019-06-07T00:00:00\",\"2019-06-10T00:00:00\",\"2019-06-11T00:00:00\",\"2019-06-14T00:00:00\",\"2019-06-17T00:00:00\",\"2019-06-18T00:00:00\",\"2019-06-19T00:00:00\",\"2019-06-21T00:00:00\",\"2019-06-24T00:00:00\",\"2019-06-25T00:00:00\",\"2019-06-26T00:00:00\",\"2019-06-27T00:00:00\",\"2019-06-28T00:00:00\",\"2019-07-02T00:00:00\",\"2019-07-03T00:00:00\",\"2019-07-04T00:00:00\",\"2019-07-05T00:00:00\",\"2019-07-08T00:00:00\",\"2019-07-09T00:00:00\",\"2019-07-10T00:00:00\",\"2019-07-12T00:00:00\",\"2019-07-15T00:00:00\",\"2019-07-16T00:00:00\",\"2019-07-17T00:00:00\",\"2019-07-18T00:00:00\",\"2019-07-22T00:00:00\",\"2019-07-23T00:00:00\",\"2019-07-24T00:00:00\",\"2019-07-25T00:00:00\",\"2019-07-26T00:00:00\",\"2019-07-29T00:00:00\",\"2019-07-31T00:00:00\",\"2019-08-01T00:00:00\",\"2019-08-02T00:00:00\",\"2019-08-05T00:00:00\",\"2019-08-06T00:00:00\",\"2019-08-08T00:00:00\",\"2019-08-09T00:00:00\",\"2019-08-13T00:00:00\",\"2019-08-14T00:00:00\",\"2019-08-16T00:00:00\",\"2019-08-19T00:00:00\",\"2019-08-20T00:00:00\",\"2019-08-21T00:00:00\",\"2019-08-23T00:00:00\",\"2019-08-26T00:00:00\",\"2019-08-27T00:00:00\",\"2019-08-28T00:00:00\",\"2019-08-29T00:00:00\",\"2019-08-30T00:00:00\",\"2019-09-03T00:00:00\",\"2019-09-04T00:00:00\",\"2019-09-05T00:00:00\",\"2019-09-06T00:00:00\",\"2019-09-12T00:00:00\",\"2019-09-13T00:00:00\",\"2019-09-16T00:00:00\",\"2019-09-17T00:00:00\",\"2019-09-18T00:00:00\",\"2019-09-19T00:00:00\",\"2019-09-23T00:00:00\",\"2019-09-24T00:00:00\",\"2019-09-25T00:00:00\",\"2019-09-26T00:00:00\",\"2019-09-27T00:00:00\",\"2019-10-01T00:00:00\",\"2019-10-03T00:00:00\",\"2019-10-04T00:00:00\",\"2019-10-07T00:00:00\",\"2019-10-09T00:00:00\",\"2019-10-10T00:00:00\",\"2019-10-11T00:00:00\",\"2019-10-14T00:00:00\",\"2019-10-15T00:00:00\",\"2019-10-16T00:00:00\",\"2019-10-17T00:00:00\",\"2019-10-18T00:00:00\",\"2019-10-22T00:00:00\",\"2019-10-23T00:00:00\",\"2019-10-24T00:00:00\",\"2019-10-25T00:00:00\",\"2019-10-29T00:00:00\",\"2019-10-30T00:00:00\",\"2019-10-31T00:00:00\",\"2019-11-01T00:00:00\",\"2019-11-04T00:00:00\",\"2019-11-05T00:00:00\",\"2019-11-06T00:00:00\",\"2019-11-07T00:00:00\",\"2019-11-08T00:00:00\",\"2019-11-11T00:00:00\",\"2019-11-13T00:00:00\",\"2019-11-14T00:00:00\",\"2019-11-15T00:00:00\",\"2019-11-19T00:00:00\",\"2019-11-20T00:00:00\",\"2019-11-21T00:00:00\",\"2019-11-22T00:00:00\",\"2019-11-26T00:00:00\",\"2019-11-27T00:00:00\",\"2019-11-28T00:00:00\",\"2019-11-29T00:00:00\",\"2019-12-02T00:00:00\",\"2019-12-03T00:00:00\",\"2019-12-05T00:00:00\",\"2019-12-06T00:00:00\",\"2019-12-09T00:00:00\",\"2019-12-10T00:00:00\",\"2019-12-11T00:00:00\",\"2019-12-13T00:00:00\",\"2019-12-16T00:00:00\",\"2019-12-17T00:00:00\"],\"xaxis\":\"x\",\"y\":[484.6499938964844,489.6000061035156,496.2000122070313,508.3499755859375,503.5,517.25,527.5,529.5999755859375,546.4000244140625,553.4000244140625,552.0,548.0999755859375,558.0999755859375,570.5499877929688,570.0,559.0,561.5499877929688,563.0,560.9500122070312,560.0,544.0,540.1500244140625,550.9000244140625,555.4500122070312,584.9500122070312,586.0499877929688,592.0,590.0999755859375,600.8499755859375,595.75,593.2000122070312,592.25,589.75,593.9500122070312,608.8499755859375,610.6500244140625,604.9500122070312,606.2999877929688,606.0,605.0499877929688,606.0499877929688,587.0,582.0,590.3499755859375,536.0,543.2000122070312,550.0,533.1500244140625,561.2999877929688,563.0,573.0,578.5999755859375,580.2999877929688,586.5999755859375,598.0,597.6500244140625,585.2000122070312,590.25,611.5,657.7000122070312,621.9500122070312,623.2000122070312,627.0,658.5999755859375,608.7999877929688,598.5,600.2000122070312,604.0999755859375,592.0999755859375,574.0,566.0499877929688,558.25,550.9000244140625,549.0999755859375,553.0499877929688,564.5,567.1500244140625,569.0,562.8499755859375,564.5499877929688,566.2999877929688,548.4500122070312,541.2000122070312,545.2000122070312,544.3499755859375,549.2000122070312,546.0999755859375,544.0,592.9000244140625,519.6500244140625,507.0,490.0,450.5,441.25,454.5,457.3999938964844,440.0,449.1499938964844,449.5,443.2999877929688,441.0499877929688,458.2000122070313,461.75,451.5499877929688,458.5,463.3500061035156,472.6499938964844,472.3999938964844,465.0,451.75,456.0499877929688,470.0499877929688,458.1000061035156,454.3500061035156,459.9500122070313,450.5,433.0,445.0,470.1000061035156,482.5,490.0,540.0,512.5,519.25,518.2000122070312,555.0499877929688,550.2999877929688,555.75,554.0,540.0999755859375,536.0,536.4000244140625,548.4000244140625,533.0999755859375,545.0,531.5,546.0499877929688,549.0,572.0999755859375,545.25,535.0999755859375,527.5499877929688,540.4000244140625,533.0,531.75,531.75,541.5499877929688,537.0,538.9500122070312,543.4000244140625,540.0,526.0499877929688,513.5499877929688,515.0,515.0999755859375,517.4000244140625,508.25,498.0499877929688,503.6500244140625,502.04998779296875,502.6500244140625,504.0999755859375,502.0,497.1000061035156,503.0,506.95001220703125,508.0999755859375,508.0999755859375,500.1000061035156,504.8499755859375,505.0,503.0,505.0999755859375,510.0,524.0,507.79998779296875,505.20001220703125],\"yaxis\":\"y\"},{\"close\":[499.6499938964844,508.5499877929688,520.5,521.9000244140625,516.3499755859375,538.8499755859375,539.0,541.9500122070312,562.1500244140625,567.2999877929688,566.0999755859375,565.8499755859375,589.2000122070312,585.3499755859375,584.5499877929688,570.8499755859375,579.9500122070312,581.4500122070312,573.5,572.6500244140625,556.7000122070312,562.0,569.7999877929688,576.7000122070312,600.7000122070312,604.4000244140625,608.8499755859375,611.0,619.9500122070312,609.4000244140625,608.2000122070312,605.9500122070312,605.5,622.0,625.1500244140625,624.9500122070312,624.2999877929688,620.25,617.2999877929688,622.1500244140625,619.2999877929688,599.0999755859375,608.5499877929688,602.7000122070312,561.7999877929688,570.2000122070312,562.8499755859375,583.4000244140625,579.9500122070312,585.9000244140625,592.5499877929688,592.9000244140625,594.75,612.0999755859375,619.5,615.7999877929688,600.9000244140625,627.7000122070312,643.0499877929688,637.5499877929688,640.5999755859375,636.0999755859375,641.4000244140625,641.75,628.6500244140625,610.75,622.0999755859375,619.4500122070312,610.4500122070312,587.7000122070312,579.25,576.8499755859375,563.0,574.0999755859375,574.7999877929688,581.5999755859375,583.8499755859375,581.8499755859375,588.5,576.9500122070312,584.3499755859375,561.5499877929688,561.0999755859375,566.25,555.7999877929688,566.0,559.0999755859375,571.0499877929688,556.9000244140625,536.9500122070312,522.5499877929688,510.6000061035156,468.2999877929688,476.1000061035156,479.75,476.75,474.0,466.1000061035156,467.5,456.5,469.6000061035156,478.6000061035156,476.8500061035156,471.2000122070313,484.4500122070313,481.75,500.0499877929688,488.7000122070313,479.3500061035156,466.2999877929688,488.0499877929688,481.2000122070313,472.0499877929688,469.9500122070313,474.1000061035156,463.5499877929688,456.7000122070313,484.3999938964844,489.3999938964844,498.4500122070313,516.0999755859375,525.6500244140625,530.5,534.7000122070312,535.4500122070312,587.9500122070312,592.3499755859375,568.0,571.5499877929688,556.9500122070312,556.1500244140625,561.5499877929688,560.6500244140625,556.4500122070312,561.3499755859375,561.5,564.7999877929688,561.3499755859375,560.25,559.5,554.0999755859375,552.5,555.9500122070312,561.5,548.0999755859375,556.2999877929688,554.5999755859375,549.2999877929688,558.2999877929688,565.8499755859375,554.7000122070312,539.25,530.0,530.0,532.0,531.3499755859375,520.1500244140625,524.4000244140625,518.25,521.7000122070312,525.4500122070312,520.0999755859375,520.2999877929688,516.2999877929688,516.75,521.0,536.0499877929688,522.0499877929688,513.4000244140625,516.5999755859375,517.5,518.0,520.7999877929688,529.4500122070312,538.9000244140625,519.8499755859375,519.7000122070312],\"high\":[509.1499938964844,514.3499755859375,524.5,526.9000244140625,528.0,540.9000244140625,549.8499755859375,549.7999877929688,564.3499755859375,578.0,569.0,571.75,596.5,597.0999755859375,593.4500122070312,587.5,586.0,584.9000244140625,582.8499755859375,580.25,569.0999755859375,565.5499877929688,585.0,579.0,608.7000122070312,606.9000244140625,613.25,615.0,625.5,627.9000244140625,612.5,612.2000122070312,615.2999877929688,624.9000244140625,628.4000244140625,635.0,627.7000122070312,629.5499877929688,623.4000244140625,625.0,627.9500122070312,618.2000122070312,616.4500122070312,618.7999877929688,580.9000244140625,572.9000244140625,569.9000244140625,591.0,592.2999877929688,588.6500244140625,597.6500244140625,596.4000244140625,600.7000122070312,620.0,624.0,621.5,619.0,630.8499755859375,649.6500244140625,647.7000122070312,644.75,645.75,644.0,648.5999755859375,643.9000244140625,631.0999755859375,624.5,623.1500244140625,619.9500122070312,614.25,593.0,585.0,600.0,575.8499755859375,577.6500244140625,589.0,591.0,592.8499755859375,599.5999755859375,592.9000244140625,587.0,595.75,569.5999755859375,568.9000244140625,572.0499877929688,573.4000244140625,571.9500122070312,573.0,582.9000244140625,555.1500244140625,539.0,522.2999877929688,511.5,484.0,483.5499877929688,484.0,476.9500122070313,474.8500061035156,469.75,466.75,472.4500122070313,484.6000061035156,485.25,480.7999877929688,486.7000122070313,487.0,505.0,500.0,492.0,470.5499877929688,494.0,499.7999877929688,487.7000122070313,474.3500061035156,483.6499938964844,472.7999877929688,462.0,488.8999938964844,491.7000122070313,503.7999877929688,519.0,530.0,537.5499877929688,542.0,538.2000122070312,598.7000122070312,605.7000122070312,589.7000122070312,581.0,576.0,570.0,580.0,571.7999877929688,562.0,565.8499755859375,578.0,569.5,569.0,562.0999755859375,564.25,559.9500122070312,567.0,564.5,566.2000122070312,567.0,559.0,561.75,556.0,560.0,574.6500244140625,573.5999755859375,558.75,542.5999755859375,539.0,536.9000244140625,534.0,529.75,533.4000244140625,527.5999755859375,524.4000244140625,527.7999877929688,523.5999755859375,522.5999755859375,530.0,524.7999877929688,524.9000244140625,543.9000244140625,534.7000122070312,522.5,521.5499877929688,520.0,518.9000244140625,531.25,532.8499755859375,539.9000244140625,539.0,526.9500122070312],\"low\":[494.6499938964844,499.6000061035156,506.2000122070313,518.3499755859375,513.5,527.25,537.5,539.5999755859375,556.4000244140625,563.4000244140625,562.0,558.0999755859375,568.0999755859375,580.5499877929688,580.0,569.0,571.5499877929688,573.0,570.9500122070312,570.0,554.0,550.1500244140625,560.9000244140625,565.4500122070312,594.9500122070312,596.0499877929688,602.0,600.0999755859375,610.8499755859375,605.75,603.2000122070312,602.25,599.75,603.9500122070312,618.8499755859375,620.6500244140625,614.9500122070312,616.2999877929688,616.0,615.0499877929688,616.0499877929688,597.0,592.0,600.3499755859375,546.0,553.2000122070312,560.0,543.1500244140625,571.2999877929688,573.0,583.0,588.5999755859375,590.2999877929688,596.5999755859375,608.0,607.6500244140625,595.2000122070312,600.25,621.5,633.9500122070312,631.9500122070312,633.2000122070312,637.0,639.75,618.7999877929688,608.5,610.2000122070312,614.0999755859375,602.0999755859375,584.0,576.0499877929688,568.25,560.9000244140625,559.0999755859375,563.0499877929688,574.5,577.1500244140625,579.0,572.8499755859375,574.5499877929688,576.2999877929688,558.4500122070312,551.2000122070312,555.2000122070312,554.3499755859375,559.2000122070312,556.0999755859375,554.0,552.0,529.6500244140625,517.0,500.0,460.5,451.25,464.5,467.3999938964844,450.0,459.1499938964844,459.5,453.2999877929688,451.0499877929688,468.2000122070313,471.75,461.5499877929688,468.5,473.3500061035156,482.6499938964844,482.3999938964844,475.0,461.75,466.0499877929688,480.0499877929688,468.1000061035156,464.3500061035156,469.9500122070313,460.5,443.0,455.0,480.1000061035156,492.5,500.0,508.1000061035156,522.5,529.25,528.2000122070312,565.0499877929688,560.2999877929688,565.75,564.0,550.0999755859375,546.0,546.4000244140625,558.4000244140625,543.0999755859375,555.0,541.5,556.0499877929688,559.0,551.0,555.25,545.0999755859375,537.5499877929688,550.4000244140625,543.0,541.75,541.75,551.5499877929688,547.0,548.9500122070312,553.4000244140625,550.0,536.0499877929688,523.5499877929688,525.0,525.0999755859375,527.4000244140625,518.25,508.0499877929688,513.6500244140625,512.0499877929688,512.6500244140625,514.0999755859375,512.0,507.1000061035156,513.0,516.9500122070312,518.0999755859375,518.0999755859375,510.1000061035156,514.8499755859375,515.0,513.0,515.0999755859375,520.0,534.0,517.7999877929688,515.2000122070312],\"name\":\"OHLC\",\"open\":[507.7999877929688,504.0,506.2000122070313,523.9000244140625,524.0,535.75,539.7999877929688,543.3499755859375,559.9500122070312,566.0,568.4000244140625,569.5,570.0,590.0999755859375,587.0999755859375,587.5,575.0,578.0,581.0,571.9000244140625,569.0,551.0,562.0,571.0,595.9000244140625,604.5999755859375,607.0,606.0,611.9000244140625,619.9500122070312,610.0999755859375,606.9000244140625,602.5499877929688,603.9500122070312,623.0,627.2000122070312,615.2000122070312,620.0,616.0499877929688,615.0499877929688,623.7999877929688,618.0999755859375,592.0,610.0499877929688,579.9500122070312,553.2000122070312,567.2999877929688,563.0,575.0,575.0,584.0,594.2999877929688,593.0,603.0,614.0,611.0499877929688,616.0499877929688,600.25,632.0,643.0,637.5,643.0,640.0,645.5,642.5,628.0,610.75,622.0999755859375,602.0999755859375,614.25,586.0499877929688,583.0,600.0,563.0,575.7999877929688,574.9000244140625,585.2999877929688,585.0,581.5,589.9000244140625,577.5,585.0,560.5499877929688,562.0,566.0,559.7999877929688,568.7999877929688,562.1500244140625,573.0499877929688,550.0,522.5,520.0,511.5,468.2999877929688,480.0,479.75,465.0,469.7000122070313,465.8500061035156,465.0,456.8999938964844,481.0499877929688,478.0,474.5,471.8500061035156,483.75,483.8500061035156,500.0,489.3999938964844,469.0,468.0,489.0,481.5499877929688,470.0,469.9500122070313,470.8999938964844,460.5499877929688,456.7000122070313,486.7999877929688,495.9500122070313,500.8999938964844,518.0,524.9500122070312,532.0,535.5499877929688,584.0,586.9500122070312,584.9500122070312,564.0,566.0,557.7000122070312,558.2999877929688,561.5999755859375,560.6500244140625,558.0,560.6500244140625,561.6500244140625,564.0,559.0,561.0,559.5,555.0999755859375,554.5999755859375,555.9000244140625,567.0,547.5,555.75,552.0,550.0,557.0,568.25,555.0,541.9000244140625,538.0,532.5499877929688,531.75,529.2000122070312,520.0,527.5999755859375,512.0499877929688,520.0,521.0,518.0,521.5499877929688,516.0,516.9500122070312,521.0,533.0,520.0,515.1500244140625,517.2999877929688,515.0,518.0,520.0,539.0,538.9000244140625,520.0],\"type\":\"candlestick\",\"x\":[\"2019-02-18T00:00:00\",\"2019-02-19T00:00:00\",\"2019-02-20T00:00:00\",\"2019-02-21T00:00:00\",\"2019-02-22T00:00:00\",\"2019-02-26T00:00:00\",\"2019-02-27T00:00:00\",\"2019-02-28T00:00:00\",\"2019-03-05T00:00:00\",\"2019-03-07T00:00:00\",\"2019-03-08T00:00:00\",\"2019-03-11T00:00:00\",\"2019-03-12T00:00:00\",\"2019-03-13T00:00:00\",\"2019-03-14T00:00:00\",\"2019-03-15T00:00:00\",\"2019-03-18T00:00:00\",\"2019-03-19T00:00:00\",\"2019-03-20T00:00:00\",\"2019-03-22T00:00:00\",\"2019-03-25T00:00:00\",\"2019-03-26T00:00:00\",\"2019-03-27T00:00:00\",\"2019-03-28T00:00:00\",\"2019-04-01T00:00:00\",\"2019-04-02T00:00:00\",\"2019-04-03T00:00:00\",\"2019-04-04T00:00:00\",\"2019-04-05T00:00:00\",\"2019-04-08T00:00:00\",\"2019-04-09T00:00:00\",\"2019-04-10T00:00:00\",\"2019-04-11T00:00:00\",\"2019-04-12T00:00:00\",\"2019-04-15T00:00:00\",\"2019-04-16T00:00:00\",\"2019-04-18T00:00:00\",\"2019-04-22T00:00:00\",\"2019-04-23T00:00:00\",\"2019-04-24T00:00:00\",\"2019-04-25T00:00:00\",\"2019-04-26T00:00:00\",\"2019-05-02T00:00:00\",\"2019-05-03T00:00:00\",\"2019-05-07T00:00:00\",\"2019-05-08T00:00:00\",\"2019-05-09T00:00:00\",\"2019-05-10T00:00:00\",\"2019-05-13T00:00:00\",\"2019-05-14T00:00:00\",\"2019-05-15T00:00:00\",\"2019-05-16T00:00:00\",\"2019-05-17T00:00:00\",\"2019-05-20T00:00:00\",\"2019-05-21T00:00:00\",\"2019-05-23T00:00:00\",\"2019-05-24T00:00:00\",\"2019-05-27T00:00:00\",\"2019-05-28T00:00:00\",\"2019-05-29T00:00:00\",\"2019-05-30T00:00:00\",\"2019-05-31T00:00:00\",\"2019-06-03T00:00:00\",\"2019-06-04T00:00:00\",\"2019-06-06T00:00:00\",\"2019-06-07T00:00:00\",\"2019-06-10T00:00:00\",\"2019-06-11T00:00:00\",\"2019-06-14T00:00:00\",\"2019-06-17T00:00:00\",\"2019-06-18T00:00:00\",\"2019-06-19T00:00:00\",\"2019-06-21T00:00:00\",\"2019-06-24T00:00:00\",\"2019-06-25T00:00:00\",\"2019-06-26T00:00:00\",\"2019-06-27T00:00:00\",\"2019-06-28T00:00:00\",\"2019-07-02T00:00:00\",\"2019-07-03T00:00:00\",\"2019-07-04T00:00:00\",\"2019-07-05T00:00:00\",\"2019-07-08T00:00:00\",\"2019-07-09T00:00:00\",\"2019-07-10T00:00:00\",\"2019-07-12T00:00:00\",\"2019-07-15T00:00:00\",\"2019-07-16T00:00:00\",\"2019-07-17T00:00:00\",\"2019-07-18T00:00:00\",\"2019-07-22T00:00:00\",\"2019-07-23T00:00:00\",\"2019-07-24T00:00:00\",\"2019-07-25T00:00:00\",\"2019-07-26T00:00:00\",\"2019-07-29T00:00:00\",\"2019-07-31T00:00:00\",\"2019-08-01T00:00:00\",\"2019-08-02T00:00:00\",\"2019-08-05T00:00:00\",\"2019-08-06T00:00:00\",\"2019-08-08T00:00:00\",\"2019-08-09T00:00:00\",\"2019-08-13T00:00:00\",\"2019-08-14T00:00:00\",\"2019-08-16T00:00:00\",\"2019-08-19T00:00:00\",\"2019-08-20T00:00:00\",\"2019-08-21T00:00:00\",\"2019-08-23T00:00:00\",\"2019-08-26T00:00:00\",\"2019-08-27T00:00:00\",\"2019-08-28T00:00:00\",\"2019-08-29T00:00:00\",\"2019-08-30T00:00:00\",\"2019-09-03T00:00:00\",\"2019-09-04T00:00:00\",\"2019-09-05T00:00:00\",\"2019-09-06T00:00:00\",\"2019-09-12T00:00:00\",\"2019-09-13T00:00:00\",\"2019-09-16T00:00:00\",\"2019-09-17T00:00:00\",\"2019-09-18T00:00:00\",\"2019-09-19T00:00:00\",\"2019-09-23T00:00:00\",\"2019-09-24T00:00:00\",\"2019-09-25T00:00:00\",\"2019-09-26T00:00:00\",\"2019-09-27T00:00:00\",\"2019-10-01T00:00:00\",\"2019-10-03T00:00:00\",\"2019-10-04T00:00:00\",\"2019-10-07T00:00:00\",\"2019-10-09T00:00:00\",\"2019-10-10T00:00:00\",\"2019-10-11T00:00:00\",\"2019-10-14T00:00:00\",\"2019-10-15T00:00:00\",\"2019-10-16T00:00:00\",\"2019-10-17T00:00:00\",\"2019-10-18T00:00:00\",\"2019-10-22T00:00:00\",\"2019-10-23T00:00:00\",\"2019-10-24T00:00:00\",\"2019-10-25T00:00:00\",\"2019-10-29T00:00:00\",\"2019-10-30T00:00:00\",\"2019-10-31T00:00:00\",\"2019-11-01T00:00:00\",\"2019-11-04T00:00:00\",\"2019-11-05T00:00:00\",\"2019-11-06T00:00:00\",\"2019-11-07T00:00:00\",\"2019-11-08T00:00:00\",\"2019-11-11T00:00:00\",\"2019-11-13T00:00:00\",\"2019-11-14T00:00:00\",\"2019-11-15T00:00:00\",\"2019-11-19T00:00:00\",\"2019-11-20T00:00:00\",\"2019-11-21T00:00:00\",\"2019-11-22T00:00:00\",\"2019-11-26T00:00:00\",\"2019-11-27T00:00:00\",\"2019-11-28T00:00:00\",\"2019-11-29T00:00:00\",\"2019-12-02T00:00:00\",\"2019-12-03T00:00:00\",\"2019-12-05T00:00:00\",\"2019-12-06T00:00:00\",\"2019-12-09T00:00:00\",\"2019-12-10T00:00:00\",\"2019-12-11T00:00:00\",\"2019-12-13T00:00:00\",\"2019-12-16T00:00:00\",\"2019-12-17T00:00:00\"],\"xaxis\":\"x\",\"yaxis\":\"y\"},{\"mode\":\"lines\",\"name\":\"Net Worth (INR)\",\"type\":\"scatter\",\"x\":[\"2019-02-18T00:00:00\",\"2019-02-19T00:00:00\",\"2019-02-20T00:00:00\",\"2019-02-21T00:00:00\",\"2019-02-22T00:00:00\",\"2019-02-26T00:00:00\",\"2019-02-27T00:00:00\",\"2019-02-28T00:00:00\",\"2019-03-05T00:00:00\",\"2019-03-07T00:00:00\",\"2019-03-08T00:00:00\",\"2019-03-11T00:00:00\",\"2019-03-12T00:00:00\",\"2019-03-13T00:00:00\",\"2019-03-14T00:00:00\",\"2019-03-15T00:00:00\",\"2019-03-18T00:00:00\",\"2019-03-19T00:00:00\",\"2019-03-20T00:00:00\",\"2019-03-22T00:00:00\",\"2019-03-25T00:00:00\",\"2019-03-26T00:00:00\",\"2019-03-27T00:00:00\",\"2019-03-28T00:00:00\",\"2019-04-01T00:00:00\",\"2019-04-02T00:00:00\",\"2019-04-03T00:00:00\",\"2019-04-04T00:00:00\",\"2019-04-05T00:00:00\",\"2019-04-08T00:00:00\",\"2019-04-09T00:00:00\",\"2019-04-10T00:00:00\",\"2019-04-11T00:00:00\",\"2019-04-12T00:00:00\",\"2019-04-15T00:00:00\",\"2019-04-16T00:00:00\",\"2019-04-18T00:00:00\",\"2019-04-22T00:00:00\",\"2019-04-23T00:00:00\",\"2019-04-24T00:00:00\",\"2019-04-25T00:00:00\",\"2019-04-26T00:00:00\",\"2019-05-02T00:00:00\",\"2019-05-03T00:00:00\",\"2019-05-07T00:00:00\",\"2019-05-08T00:00:00\",\"2019-05-09T00:00:00\",\"2019-05-10T00:00:00\",\"2019-05-13T00:00:00\",\"2019-05-14T00:00:00\",\"2019-05-15T00:00:00\",\"2019-05-16T00:00:00\",\"2019-05-17T00:00:00\",\"2019-05-20T00:00:00\",\"2019-05-21T00:00:00\",\"2019-05-23T00:00:00\",\"2019-05-24T00:00:00\",\"2019-05-27T00:00:00\",\"2019-05-28T00:00:00\",\"2019-05-29T00:00:00\",\"2019-05-30T00:00:00\",\"2019-05-31T00:00:00\",\"2019-06-03T00:00:00\",\"2019-06-04T00:00:00\",\"2019-06-06T00:00:00\",\"2019-06-07T00:00:00\",\"2019-06-10T00:00:00\",\"2019-06-11T00:00:00\",\"2019-06-14T00:00:00\",\"2019-06-17T00:00:00\",\"2019-06-18T00:00:00\",\"2019-06-19T00:00:00\",\"2019-06-21T00:00:00\",\"2019-06-24T00:00:00\",\"2019-06-25T00:00:00\",\"2019-06-26T00:00:00\",\"2019-06-27T00:00:00\",\"2019-06-28T00:00:00\",\"2019-07-02T00:00:00\",\"2019-07-03T00:00:00\",\"2019-07-04T00:00:00\",\"2019-07-05T00:00:00\",\"2019-07-08T00:00:00\",\"2019-07-09T00:00:00\",\"2019-07-10T00:00:00\",\"2019-07-12T00:00:00\",\"2019-07-15T00:00:00\",\"2019-07-16T00:00:00\",\"2019-07-17T00:00:00\",\"2019-07-18T00:00:00\",\"2019-07-22T00:00:00\",\"2019-07-23T00:00:00\",\"2019-07-24T00:00:00\",\"2019-07-25T00:00:00\",\"2019-07-26T00:00:00\",\"2019-07-29T00:00:00\",\"2019-07-31T00:00:00\",\"2019-08-01T00:00:00\",\"2019-08-02T00:00:00\",\"2019-08-05T00:00:00\",\"2019-08-06T00:00:00\",\"2019-08-08T00:00:00\",\"2019-08-09T00:00:00\",\"2019-08-13T00:00:00\",\"2019-08-14T00:00:00\",\"2019-08-16T00:00:00\",\"2019-08-19T00:00:00\",\"2019-08-20T00:00:00\",\"2019-08-21T00:00:00\",\"2019-08-23T00:00:00\",\"2019-08-26T00:00:00\",\"2019-08-27T00:00:00\",\"2019-08-28T00:00:00\",\"2019-08-29T00:00:00\",\"2019-08-30T00:00:00\",\"2019-09-03T00:00:00\",\"2019-09-04T00:00:00\",\"2019-09-05T00:00:00\",\"2019-09-06T00:00:00\",\"2019-09-12T00:00:00\",\"2019-09-13T00:00:00\",\"2019-09-16T00:00:00\",\"2019-09-17T00:00:00\",\"2019-09-18T00:00:00\",\"2019-09-19T00:00:00\",\"2019-09-23T00:00:00\",\"2019-09-24T00:00:00\",\"2019-09-25T00:00:00\",\"2019-09-26T00:00:00\",\"2019-09-27T00:00:00\",\"2019-10-01T00:00:00\",\"2019-10-03T00:00:00\",\"2019-10-04T00:00:00\",\"2019-10-07T00:00:00\",\"2019-10-09T00:00:00\",\"2019-10-10T00:00:00\",\"2019-10-11T00:00:00\",\"2019-10-14T00:00:00\",\"2019-10-15T00:00:00\",\"2019-10-16T00:00:00\",\"2019-10-17T00:00:00\",\"2019-10-18T00:00:00\",\"2019-10-22T00:00:00\",\"2019-10-23T00:00:00\",\"2019-10-24T00:00:00\",\"2019-10-25T00:00:00\",\"2019-10-29T00:00:00\",\"2019-10-30T00:00:00\",\"2019-10-31T00:00:00\",\"2019-11-01T00:00:00\",\"2019-11-04T00:00:00\",\"2019-11-05T00:00:00\",\"2019-11-06T00:00:00\",\"2019-11-07T00:00:00\",\"2019-11-08T00:00:00\",\"2019-11-11T00:00:00\",\"2019-11-13T00:00:00\",\"2019-11-14T00:00:00\",\"2019-11-15T00:00:00\",\"2019-11-19T00:00:00\",\"2019-11-20T00:00:00\",\"2019-11-21T00:00:00\",\"2019-11-22T00:00:00\",\"2019-11-26T00:00:00\",\"2019-11-27T00:00:00\",\"2019-11-28T00:00:00\",\"2019-11-29T00:00:00\",\"2019-12-02T00:00:00\",\"2019-12-03T00:00:00\",\"2019-12-05T00:00:00\",\"2019-12-06T00:00:00\",\"2019-12-09T00:00:00\",\"2019-12-10T00:00:00\",\"2019-12-11T00:00:00\",\"2019-12-13T00:00:00\",\"2019-12-16T00:00:00\",\"2019-12-17T00:00:00\"],\"xaxis\":\"x2\",\"y\":[10000.0,10000.0,10000.0,10000.0,10000.0,10000.0,10000.0,10000.0,10000.0,10000.0,10000.0,10000.0,10000.0,10000.0,10000.0,10000.0,10000.0,10000.0,10000.0,10000.0,10000.0,10000.0,10000.0,10000.0,10340.786280680702,10451.591633055566,10503.926527405967,10484.463789647478,10564.17026048498,10583.418264969281,10514.749695373945,10474.57886557564,10456.93546926078,10679.871974381667,10758.92127952189,10795.13755044035,10679.636494736076,10693.298478547447,10634.965077394538,10677.285660929118,10743.988747618516,10430.11414377273,10359.732337106689,10489.619384183105,9769.060118484964,9799.206918802112,9828.854491908909,10062.168205988542,10056.858329963045,10112.363779280606,10283.157139791461,10291.57154424367,10308.758158947861,10470.836069005985,10714.839672296805,10638.131403157864,10427.207004642278,10552.417572864413,11075.919071219865,11052.49988646958,11078.66530452773,11125.540044690502,11086.990301014459,11163.361054068015,11163.361054068015,11163.361054068015,11163.361054068015,11163.361054068015,11163.361054068015,11163.361054068015,11163.361054068015,11163.361054068015,11163.361054068015,11163.361054068015,11163.361054068015,11163.361054068015,11163.361054068015,11148.879393554922,11202.544304527215,11042.532675862842,11069.970490476167,11111.325070869434,10720.169267816076,10765.06860251683,10807.933100845325,10743.202345510885,10748.746096618905,10880.290067186306,10672.160166618363,10565.697408371154,10385.839208854253,10338.47501799544,10254.080915477347,9991.78384247687,10044.984240603095,10041.894169696428,9942.334579975493,9938.716948158471,9938.054682598495,9871.444398137428,9938.882336585117,10038.322732655739,10029.245349496498,9901.831679763243,9967.10978235208,10128.910322711416,10414.477222754818,10380.263317603456,10193.28321527094,9797.02489843068,10114.379425892934,10125.16167643945,10036.573882038494,9869.581352982252,9886.709725413315,9766.998198432839,9666.194075642296,9639.621249251046,10233.11586018079,10393.257020918556,10503.91440633736,10901.170936243852,11043.658653942683,11114.638311717037,11167.67080791884,12154.004863554645,12262.92548429554,12053.54030751624,11887.701643568182,11649.642767224557,11601.330188467075,11682.907852086659,11677.950709085037,11662.168396746747,11646.453484880747,11676.64070664123,11748.087558141104,11717.843033689422,11657.367276771769,11658.980447478723,11648.099192985723,11591.84148754385,11599.77624066441,11665.4852386139,11614.301339495749,11553.687804586667,11607.425890673054,11564.021511714696,11599.828562208768,11695.935924739231,11647.300080267123,11438.555514187417,11329.73248514519,11346.173409011582,11364.963555870325,11348.429564215623,11213.22802193092,11221.211302313757,11291.258405466058,11155.281385247594,11253.10427910498,11183.74336743875,11174.989339768843,11155.77028502851,11119.971433825354,11185.326473450488,11242.45528679495,11295.166500052599,11169.868221615103,11116.246526872954,11139.75926881138,11095.992693140925,11154.677704246908,11303.297164340964,11547.11303667583,11460.728603596697,11182.016022398113],\"yaxis\":\"y2\"}],                        {\"annotations\":[{\"font\":{\"size\":16},\"showarrow\":false,\"text\":\"RL Algorithm: PPO2_MLP - Trade Count [Buy: 11 | Sell: 5 | Hold: 161]\",\"x\":0.5,\"xanchor\":\"center\",\"xref\":\"paper\",\"y\":0.9999999999999999,\"yanchor\":\"bottom\",\"yref\":\"paper\"},{\"font\":{\"size\":16},\"showarrow\":false,\"text\":\"Initial Investment (INR): 10000.0 | Net Worth (INR): 11182.02 | Profit (INR): 1182.02 | Profit (%): 11.82%\",\"x\":0.5,\"xanchor\":\"center\",\"xref\":\"paper\",\"y\":0.2375,\"yanchor\":\"bottom\",\"yref\":\"paper\"}],\"height\":600,\"margin\":{\"b\":100,\"l\":50,\"pad\":4,\"r\":50,\"t\":100},\"shapes\":[{\"line\":{\"color\":\"firebrick\",\"dash\":\"dot\",\"width\":1},\"name\":\"Initial Balance\",\"type\":\"line\",\"x0\":0,\"x1\":1,\"xref\":\"x2 domain\",\"y0\":10000,\"y1\":10000,\"yref\":\"y2\"}],\"template\":{\"data\":{\"scatter\":[{\"type\":\"scatter\"}]}},\"width\":1000,\"xaxis\":{\"anchor\":\"y\",\"domain\":[0.0,1.0],\"matches\":\"x2\",\"rangeslider\":{\"visible\":false},\"showticklabels\":false,\"tickfont\":{\"size\":12}},\"xaxis2\":{\"anchor\":\"y2\",\"domain\":[0.0,1.0]},\"yaxis\":{\"anchor\":\"x\",\"domain\":[0.2875,0.9999999999999999],\"tickfont\":{\"size\":10},\"title\":{\"font\":{\"size\":14},\"text\":\"Price (INR/share)\"}},\"yaxis2\":{\"anchor\":\"x2\",\"domain\":[0.0,0.2375]}},                        {\"responsive\": true}                    ).then(function(){\n",
       "                            \n",
       "var gd = document.getElementById('3a30bbad-6b45-411a-943a-0d2d94378524');\n",
       "var x = new MutationObserver(function (mutations, observer) {{\n",
       "        var display = window.getComputedStyle(gd).display;\n",
       "        if (!display || display === 'none') {{\n",
       "            console.log([gd, 'removed!']);\n",
       "            Plotly.purge(gd);\n",
       "            observer.disconnect();\n",
       "        }}\n",
       "}});\n",
       "\n",
       "// Listen for the removal of the full notebook cells\n",
       "var notebookContainer = gd.closest('#notebook-container');\n",
       "if (notebookContainer) {{\n",
       "    x.observe(notebookContainer, {childList: true});\n",
       "}}\n",
       "\n",
       "// Listen for the clearing of the current output cell\n",
       "var outputEl = gd.closest('.output');\n",
       "if (outputEl) {{\n",
       "    x.observe(outputEl, {childList: true});\n",
       "}}\n",
       "\n",
       "                        })                };                });            </script>        </div>"
      ]
     },
     "metadata": {},
     "output_type": "display_data"
    }
   ],
   "source": [
    "display_trades(trades)"
   ]
  },
  {
   "cell_type": "code",
   "execution_count": 23,
   "id": "22e1baec",
   "metadata": {
    "scrolled": true
   },
   "outputs": [],
   "source": [
    "# # %load_ext tensorboard\n",
    "# %reload_ext tensorboard\n",
    "# %tensorboard \\\n",
    "#     --host localhost \\\n",
    "#     --port 8080\\\n",
    "#     --logdir \".\\\\tensorboard\\\\PPO2_MLP\""
   ]
  },
  {
   "cell_type": "markdown",
   "id": "7fbe3710",
   "metadata": {},
   "source": [
    "To view: http://localhost:8080/ <br>\n",
    "To kill: `taskkill /IM \"tensorboard.exe\" /F`"
   ]
  }
 ],
 "metadata": {
  "kernelspec": {
   "display_name": "Python 3 (ipykernel)",
   "language": "python",
   "name": "python3"
  },
  "language_info": {
   "codemirror_mode": {
    "name": "ipython",
    "version": 3
   },
   "file_extension": ".py",
   "mimetype": "text/x-python",
   "name": "python",
   "nbconvert_exporter": "python",
   "pygments_lexer": "ipython3",
   "version": "3.7.11"
  }
 },
 "nbformat": 4,
 "nbformat_minor": 5
}
