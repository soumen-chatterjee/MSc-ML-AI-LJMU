{
 "cells": [
  {
   "cell_type": "code",
   "execution_count": 1,
   "id": "e086698b",
   "metadata": {},
   "outputs": [
    {
     "data": {
      "text/html": [
       "        <script type=\"text/javascript\">\n",
       "        window.PlotlyConfig = {MathJaxConfig: 'local'};\n",
       "        if (window.MathJax) {MathJax.Hub.Config({SVG: {font: \"STIX-Web\"}});}\n",
       "        if (typeof require !== 'undefined') {\n",
       "        require.undef(\"plotly\");\n",
       "        requirejs.config({\n",
       "            paths: {\n",
       "                'plotly': ['https://cdn.plot.ly/plotly-2.4.2.min']\n",
       "            }\n",
       "        });\n",
       "        require(['plotly'], function(Plotly) {\n",
       "            window._Plotly = Plotly;\n",
       "        });\n",
       "        }\n",
       "        </script>\n",
       "        "
      ]
     },
     "metadata": {},
     "output_type": "display_data"
    }
   ],
   "source": [
    "import pandas as pd\n",
    "import numpy as np\n",
    "import random\n",
    "from collections import deque\n",
    "import json\n",
    "import talib\n",
    "import gym\n",
    "from gym import spaces\n",
    "from sklearn import preprocessing\n",
    "scaler = preprocessing.MinMaxScaler()\n",
    "import warnings\n",
    "warnings.filterwarnings('ignore')\n",
    "\n",
    "import plotly.offline as pyo\n",
    "import plotly.graph_objects as go\n",
    "from plotly.subplots import make_subplots\n",
    "\n",
    "pyo.init_notebook_mode(connected=True)\n",
    "\n",
    "import tensorflow as tf\n",
    "tf.get_logger().setLevel('ERROR')\n",
    "\n",
    "class StockTradingEnv(gym.Env):\n",
    "    \"\"\"A stock trading environment for OpenAI gym\"\"\"\n",
    "    metadata = {'render.modes': ['cli', 'gui']}\n",
    "\n",
    "    def preprocess_data(self, df):\n",
    "        self.df_orig=df.copy(deep=True)\n",
    "        logScale = pd.DataFrame(np.log(df.Close))\n",
    "        df[\"CloseLogDiff\"] = logScale - logScale.shift()\n",
    "        df['Return'] = df.Close.pct_change()\n",
    "        df['Return_5'] = df.Close.pct_change(5)\n",
    "        df['Return_10'] = df.Close.pct_change(10)\n",
    "        df['Return_15'] = df.Close.pct_change(15)\n",
    "        df['RSI'] = talib.STOCHRSI(df.Close)[1]\n",
    "        df['MACD'] = talib.MACD(df.Close)[1]\n",
    "        df['ATR'] = talib.ATR(df.High, df.Low, df.Close)\n",
    "        slowk, slowd = talib.STOCH(df.High, df.Low, df.Close)\n",
    "        df['STOCH'] = slowd - slowk\n",
    "        df['ULTOSC'] = talib.ULTOSC(df.High, df.Low, df.Close)\n",
    "        df.fillna(method='bfill', inplace=True)\n",
    "        return df\n",
    "    \n",
    "    def __init__(self, df, initial_balance=10000, lookback_window_size=30):\n",
    "        # Define action space and state size and other custom parameters\n",
    "        self.df = self.preprocess_data(df)\n",
    "        self.df = df.dropna().reset_index()\n",
    "        self.df_total_steps = len(self.df)-1\n",
    "        self.initial_balance = initial_balance\n",
    "        self.lookback_window_size = lookback_window_size\n",
    "\n",
    "        # Action space from 0 to 3, 0 is hold, 1 is buy, 2 is sell\n",
    "        self.action_space = spaces.Box(low=np.array([0,0]), high=np.array([3,1]), dtype=np.float16)\n",
    "\n",
    "        # Orders history contains the balance, net_worth, stock_bought, stock_sold, stock_held values for the last lookback_window_size steps\n",
    "        self.orders_history = deque(maxlen=self.lookback_window_size)\n",
    "        \n",
    "        # Market history contains the OHCL values for the last lookback_window_size prices\n",
    "        self.market_history = deque(maxlen=self.lookback_window_size)\n",
    "\n",
    "        # State size contains Market+Orders history for the last lookback_window_size steps\n",
    "        self.state_size = (self.lookback_window_size, 10)\n",
    "\n",
    "        self.observation_space = spaces.Box(low=0, high=1, shape=(lookback_window_size,15), dtype=np.float16)\n",
    "        \n",
    "    # Reset the state of the environment to an initial state\n",
    "    def reset(self, env_steps_size = 201):\n",
    "        self.display_reward = 0\n",
    "        self.balance = self.initial_balance\n",
    "        self.net_worth = self.initial_balance\n",
    "        self.prev_net_worth = self.initial_balance\n",
    "        self.stock_held = 0\n",
    "        self.stock_sold = 0\n",
    "        self.stock_bought = 0\n",
    "        \n",
    "        if env_steps_size > 0: # used for training dataset\n",
    "            self.start_step = random.randint(self.lookback_window_size, self.df_total_steps - env_steps_size - 1)\n",
    "            self.end_step = self.start_step + env_steps_size\n",
    "        \n",
    "        else: # used for testing dataset\n",
    "            self.start_step = self.lookback_window_size\n",
    "            self.end_step = self.df_total_steps\n",
    "            \n",
    "        self.current_step = self.start_step\n",
    "\n",
    "        for i in reversed(range(self.lookback_window_size)):\n",
    "            current_step = self.current_step - i\n",
    "            self.orders_history.append([self.balance, self.net_worth, self.stock_bought, self.stock_sold, self.stock_held])\n",
    "            self.market_history.append([self.df.loc[current_step, 'CloseLogDiff'],\n",
    "                                        self.df.loc[current_step, 'Return'],\n",
    "                                        self.df.loc[current_step, 'Return_5'],\n",
    "                                        self.df.loc[current_step, 'Return_10'],\n",
    "                                        self.df.loc[current_step, 'Return_15'],\n",
    "                                        self.df.loc[current_step, 'RSI'],\n",
    "                                        self.df.loc[current_step, 'MACD'],\n",
    "                                        self.df.loc[current_step, 'ATR'],\n",
    "                                        self.df.loc[current_step, 'STOCH'],\n",
    "                                        self.df.loc[current_step, 'ULTOSC']\n",
    "                                        ])\n",
    "\n",
    "        state = np.concatenate((self.market_history, self.orders_history), axis=1)\n",
    "        self.trades = []\n",
    "        return state\n",
    "\n",
    "    # Get the data points for the given current_step\n",
    "    def _next_observation(self):\n",
    "        self.market_history.append([self.df.loc[self.current_step, 'CloseLogDiff'],\n",
    "                                    self.df.loc[self.current_step, 'Return'],\n",
    "                                    self.df.loc[self.current_step, 'Return_5'],\n",
    "                                    self.df.loc[self.current_step, 'Return_10'],\n",
    "                                    self.df.loc[self.current_step, 'Return_15'],\n",
    "                                    self.df.loc[self.current_step, 'RSI'],\n",
    "                                    self.df.loc[self.current_step, 'MACD'],\n",
    "                                    self.df.loc[self.current_step, 'ATR'],\n",
    "                                    self.df.loc[self.current_step, 'STOCH'],\n",
    "                                    self.df.loc[self.current_step, 'ULTOSC'],\n",
    "                                    ])\n",
    "        obs = np.concatenate((self.market_history, self.orders_history), axis=1)\n",
    "        return obs\n",
    "\n",
    "    # Execute one time step within the environment\n",
    "    def step(self, action):\n",
    "        self.stock_bought = 0\n",
    "        self.stock_sold = 0\n",
    "        self.current_step += 1\n",
    "\n",
    "        action_type = action[0]\n",
    "        action_percent = action[1]\n",
    "        \n",
    "        # Set the current price to a random price between open and close\n",
    "        current_price = random.uniform(\n",
    "            self.df.loc[self.current_step, 'Open'],\n",
    "            self.df.loc[self.current_step, 'Close'])\n",
    "        \n",
    "        if action_type < 1: # Hold\n",
    "\n",
    "            self.trades.append({'Date': str(self.df_orig.index[self.current_step]).rstrip(\"00:00:00\"),\n",
    "                                'Open': self.df_orig.Open[self.current_step],\n",
    "                                'High': self.df_orig.High[self.current_step],\n",
    "                                'Low': self.df_orig.Low[self.current_step],\n",
    "                                'Close': self.df_orig.Close[self.current_step],\n",
    "                                'Adj Close': self.df_orig['Adj Close'][self.current_step],\n",
    "                                'Volume': self.df_orig.Volume[self.current_step],\n",
    "                                'Net Worth': self.balance + self.stock_held * current_price,\n",
    "                                'Current Price': current_price,\n",
    "                                'Shares': self.stock_held,\n",
    "                                'Type': \"Hold\"})\n",
    "\n",
    "        elif action_type < 2 and int((self.balance * action_percent) / current_price) >= 1:\n",
    "            # Buy with % of current balance\n",
    "            self.stock_bought = int((self.balance * action_percent) / current_price)\n",
    "            self.balance -= self.stock_bought * current_price\n",
    "            self.stock_held += self.stock_bought\n",
    "                        \n",
    "            self.trades.append({'Date': str(self.df_orig.index[self.current_step]).rstrip(\"00:00:00\"),\n",
    "                                'Open': self.df_orig.Open[self.current_step],\n",
    "                                'High': self.df_orig.High[self.current_step],\n",
    "                                'Low': self.df_orig.Low[self.current_step],\n",
    "                                'Close': self.df_orig.Close[self.current_step],\n",
    "                                'Adj Close': self.df_orig['Adj Close'][self.current_step],\n",
    "                                'Volume': self.df_orig.Volume[self.current_step],\n",
    "                                'Net Worth': self.balance + self.stock_held * current_price,\n",
    "                                'Current Price': current_price,\n",
    "                                'Shares': self.stock_bought,\n",
    "                                'Type': \"Buy\"})\n",
    "\n",
    "        elif action_type < 3 and int(self.stock_held * action_percent) >= 1:\n",
    "            # Sell % of current stock held\n",
    "            self.stock_sold = int(self.stock_held * action_percent)\n",
    "            self.balance += self.stock_sold * current_price\n",
    "            self.stock_held -= self.stock_sold\n",
    "\n",
    "            self.trades.append({'Date': str(self.df_orig.index[self.current_step]).rstrip(\"00:00:00\"),\n",
    "                                'Open': self.df_orig.Open[self.current_step],\n",
    "                                'High': self.df_orig.High[self.current_step],\n",
    "                                'Low': self.df_orig.Low[self.current_step],\n",
    "                                'Close': self.df_orig.Close[self.current_step],\n",
    "                                'Adj Close': self.df_orig['Adj Close'][self.current_step],\n",
    "                                'Volume': self.df_orig.Volume[self.current_step],\n",
    "                                'Net Worth': self.balance + self.stock_held * current_price,\n",
    "                                'Current Price': current_price,\n",
    "                                'Shares': self.stock_sold,\n",
    "                                'Type': \"Sell\"})\n",
    "\n",
    "            \n",
    "        self.prev_net_worth = self.net_worth\n",
    "        self.net_worth = self.balance + self.stock_held * current_price\n",
    "\n",
    "        self.orders_history.append([self.balance, self.net_worth, self.stock_bought, self.stock_sold, self.stock_held])\n",
    "\n",
    "        # Calculate reward\n",
    "        reward = int((self.net_worth - self.initial_balance))\n",
    "        self.display_reward = reward\n",
    "        \n",
    "        if self.net_worth <= self.initial_balance/2:\n",
    "            done = True\n",
    "        elif self.current_step > self.end_step:\n",
    "            done = True\n",
    "        else:\n",
    "            done = False\n",
    "\n",
    "        obs = self._next_observation()\n",
    "\n",
    "        info = {'Step': self.current_step, 'Trades' : self.trades}\n",
    "    \n",
    "        return obs, reward, done, info\n",
    "\n",
    "    # render environment\n",
    "    def render(self, mode='cli'):\n",
    "        if mode == 'cli':\n",
    "            self.profit = self.net_worth - self.initial_balance\n",
    "            print('Step:%5d, Date: %10s, Reward:%4d, Stock [Held: %3d, Bought: %3d, Sold :%3d], NetWorth: %5.2f, Profit: %5.2f' % \n",
    "                      (self.current_step, str(self.df_orig.index[self.current_step]).rstrip(\"00:00:00\"),\n",
    "                       self.display_reward, self.stock_held, self.stock_bought, self.stock_sold, self.net_worth, self.profit))\n",
    "        if mode == 'gui':\n",
    "            pass\n"
   ]
  },
  {
   "cell_type": "code",
   "execution_count": 2,
   "id": "f897319f",
   "metadata": {},
   "outputs": [],
   "source": [
    "# Change the working directory to the currect path (of .ipynb and csv)\n",
    "import os\n",
    "import sys\n",
    "import math \n",
    "os.chdir(sys.path[0])  \n",
    "df = pd.read_csv('./KAJARIACER.csv')\n",
    "df = df.sort_values('Date')"
   ]
  },
  {
   "cell_type": "code",
   "execution_count": 3,
   "id": "70ad9189",
   "metadata": {},
   "outputs": [],
   "source": [
    "df['Date'] = pd.to_datetime(df['Date']) # Convert \"Date\" to datetime object.\n",
    "df.sort_values('Date', ascending=True, inplace=True) # Sort the \"Date\" Column by the values.\n",
    "df.set_index('Date', inplace=True) # Set the DataFrame index using \"Date\" Column."
   ]
  },
  {
   "cell_type": "code",
   "execution_count": 4,
   "id": "a1e787c9",
   "metadata": {
    "scrolled": true
   },
   "outputs": [
    {
     "data": {
      "text/html": [
       "<div>\n",
       "<style scoped>\n",
       "    .dataframe tbody tr th:only-of-type {\n",
       "        vertical-align: middle;\n",
       "    }\n",
       "\n",
       "    .dataframe tbody tr th {\n",
       "        vertical-align: top;\n",
       "    }\n",
       "\n",
       "    .dataframe thead th {\n",
       "        text-align: right;\n",
       "    }\n",
       "</style>\n",
       "<table border=\"1\" class=\"dataframe\">\n",
       "  <thead>\n",
       "    <tr style=\"text-align: right;\">\n",
       "      <th></th>\n",
       "      <th>Open</th>\n",
       "      <th>High</th>\n",
       "      <th>Low</th>\n",
       "      <th>Close</th>\n",
       "      <th>Adj Close</th>\n",
       "      <th>Volume</th>\n",
       "    </tr>\n",
       "    <tr>\n",
       "      <th>Date</th>\n",
       "      <th></th>\n",
       "      <th></th>\n",
       "      <th></th>\n",
       "      <th></th>\n",
       "      <th></th>\n",
       "      <th></th>\n",
       "    </tr>\n",
       "  </thead>\n",
       "  <tbody>\n",
       "    <tr>\n",
       "      <th>2010-01-04</th>\n",
       "      <td>26.049999</td>\n",
       "      <td>28.200001</td>\n",
       "      <td>26.049999</td>\n",
       "      <td>27.000000</td>\n",
       "      <td>23.964306</td>\n",
       "      <td>877408</td>\n",
       "    </tr>\n",
       "    <tr>\n",
       "      <th>2010-01-05</th>\n",
       "      <td>27.125000</td>\n",
       "      <td>28.200001</td>\n",
       "      <td>26.875000</td>\n",
       "      <td>27.125000</td>\n",
       "      <td>24.075254</td>\n",
       "      <td>508398</td>\n",
       "    </tr>\n",
       "    <tr>\n",
       "      <th>2010-01-06</th>\n",
       "      <td>27.500000</td>\n",
       "      <td>28.400000</td>\n",
       "      <td>26.625000</td>\n",
       "      <td>26.825001</td>\n",
       "      <td>23.808989</td>\n",
       "      <td>402216</td>\n",
       "    </tr>\n",
       "    <tr>\n",
       "      <th>2010-01-07</th>\n",
       "      <td>27.250000</td>\n",
       "      <td>27.549999</td>\n",
       "      <td>26.850000</td>\n",
       "      <td>27.100000</td>\n",
       "      <td>24.053064</td>\n",
       "      <td>478980</td>\n",
       "    </tr>\n",
       "    <tr>\n",
       "      <th>2010-01-08</th>\n",
       "      <td>27.250000</td>\n",
       "      <td>28.025000</td>\n",
       "      <td>26.525000</td>\n",
       "      <td>26.700001</td>\n",
       "      <td>23.698040</td>\n",
       "      <td>366642</td>\n",
       "    </tr>\n",
       "  </tbody>\n",
       "</table>\n",
       "</div>"
      ],
      "text/plain": [
       "                 Open       High        Low      Close  Adj Close  Volume\n",
       "Date                                                                     \n",
       "2010-01-04  26.049999  28.200001  26.049999  27.000000  23.964306  877408\n",
       "2010-01-05  27.125000  28.200001  26.875000  27.125000  24.075254  508398\n",
       "2010-01-06  27.500000  28.400000  26.625000  26.825001  23.808989  402216\n",
       "2010-01-07  27.250000  27.549999  26.850000  27.100000  24.053064  478980\n",
       "2010-01-08  27.250000  28.025000  26.525000  26.700001  23.698040  366642"
      ]
     },
     "execution_count": 4,
     "metadata": {},
     "output_type": "execute_result"
    }
   ],
   "source": [
    "df.head()"
   ]
  },
  {
   "cell_type": "code",
   "execution_count": 5,
   "id": "af8de10b",
   "metadata": {},
   "outputs": [],
   "source": [
    "def Random_games(env):\n",
    "    env.reset()\n",
    "    for _ in range(10):\n",
    "        env.render()\n",
    "        action=env.action_space.sample()\n",
    "#         print(action)\n",
    "        env.step(action) # take a random action\n",
    "    env.close()"
   ]
  },
  {
   "cell_type": "code",
   "execution_count": 6,
   "id": "39bfbd7b",
   "metadata": {},
   "outputs": [],
   "source": [
    "import talib\n",
    "import pandas as pd\n",
    "\n",
    "\n",
    "diff = lambda x, y: x - y\n",
    "abs_diff = lambda x, y: abs(x - y)\n",
    "\n",
    "\n",
    "indicators = [\n",
    "    ('RSI', talib.STOCHRSI, ['Close'])    \n",
    "]\n",
    "\n",
    "\n",
    "def add_indicators(df) -> pd.DataFrame:\n",
    "    for name, f, arg_names in indicators:\n",
    "        wrapper = lambda func, args: func(*args)\n",
    "        args = [df[arg_name] for arg_name in arg_names]\n",
    "        df[name] = wrapper(f, args)\n",
    "    df.fillna(method='bfill', inplace=True)\n",
    "    return df"
   ]
  },
  {
   "cell_type": "code",
   "execution_count": 7,
   "id": "ffa8b165",
   "metadata": {
    "scrolled": true
   },
   "outputs": [],
   "source": [
    "import gym\n",
    "import json\n",
    "import datetime as dt\n",
    "from stable_baselines.common.policies import MlpLstmPolicy\n",
    "from stable_baselines.common.vec_env import DummyVecEnv\n",
    "from stable_baselines import PPO2\n",
    "# from StockTradingEnv import StockTradingEnv"
   ]
  },
  {
   "cell_type": "code",
   "execution_count": 8,
   "id": "7f3a7bf4",
   "metadata": {},
   "outputs": [],
   "source": [
    "# Train data = 70%, Validation data = 20%, Test data = 10%  \n",
    "train_range = math.floor(len(df.index)*.7)\n",
    "val_range = math.floor(len(df.index)*.2)\n",
    "test_range = math.floor(len(df.index)*.1)\n",
    "\n",
    "# Train DataFrame\n",
    "train_df = df[:train_range].sort_index()\n",
    "\n",
    "# Validation DataFrame\n",
    "val_df = df[train_range:train_range + val_range].sort_index()\n",
    "\n",
    "# Test DataFrame\n",
    "test_df = df[(train_range + val_range):(train_range + val_range + test_range)].sort_index()"
   ]
  },
  {
   "cell_type": "code",
   "execution_count": 9,
   "id": "ea6ae7a6",
   "metadata": {},
   "outputs": [],
   "source": [
    "import optuna\n",
    "from optuna import Trial, visualization\n",
    "\n",
    "from optuna.samplers import TPESampler"
   ]
  },
  {
   "cell_type": "code",
   "execution_count": 10,
   "id": "f5c5ef7c",
   "metadata": {},
   "outputs": [],
   "source": [
    "def optimize_ppo2_lstm(trial):\n",
    "    return {\n",
    "        'n_steps': int(trial.suggest_loguniform('n_steps', 16, 2048)),\n",
    "        'gamma': trial.suggest_loguniform('gamma', 0.9, 0.9999),\n",
    "        'learning_rate': trial.suggest_loguniform('learning_rate', 1e-5, 1.),\n",
    "        'ent_coef': trial.suggest_loguniform('ent_coef', 1e-8, 1e-1),\n",
    "        'cliprange': trial.suggest_uniform('cliprange', 0.1, 0.4),\n",
    "        'noptepochs': int(trial.suggest_loguniform('noptepochs', 1, 48)),\n",
    "        'lam': trial.suggest_uniform('lam', 0.8, 1.)\n",
    "    }"
   ]
  },
  {
   "cell_type": "code",
   "execution_count": 11,
   "id": "5f15c9f6",
   "metadata": {},
   "outputs": [],
   "source": [
    "def objective_ppo2_lstm(trial):\n",
    "    agent_params = optimize_ppo2_lstm(trial)\n",
    "    \n",
    "    train_env = DummyVecEnv([lambda: StockTradingEnv(train_df)])\n",
    "    model = PPO2(MlpLstmPolicy, train_env, nminibatches=1, **agent_params,  tensorboard_log=\"./tensorboard/PPO2_LSTM\")\n",
    "    \n",
    "    model.learn(total_timesteps=len(train_df))\n",
    "    \n",
    "    rewards, done = [], False\n",
    "\n",
    "    val_env = DummyVecEnv([lambda: StockTradingEnv(val_df)])\n",
    "    obs = val_env.reset()\n",
    "    \n",
    "    for i in range(len(val_df)):\n",
    "        action, _states = model.predict(obs, deterministic=False)\n",
    "        obs, reward, done, info = val_env.step(action)\n",
    "        rewards.append(reward)\n",
    "        \n",
    "    return -np.mean(rewards)"
   ]
  },
  {
   "cell_type": "code",
   "execution_count": 12,
   "id": "d13c1bfc",
   "metadata": {},
   "outputs": [
    {
     "name": "stderr",
     "output_type": "stream",
     "text": [
      "\u001b[32m[I 2022-04-10 14:18:45,217]\u001b[0m A new study created in RDB with name: PPO2_LSTM_optimize_profit\u001b[0m\n",
      "\u001b[32m[I 2022-04-10 14:19:06,184]\u001b[0m Trial 2 finished with value: -0.0 and parameters: {'n_steps': 49.14833078198954, 'gamma': 0.9311993662930048, 'learning_rate': 0.29047220081481995, 'ent_coef': 0.008321034492867743, 'cliprange': 0.1527129039097868, 'noptepochs': 3.551938924623743, 'lam': 0.9064882768879099}. Best is trial 2 with value: 0.0.\u001b[0m\n",
      "\u001b[32m[I 2022-04-10 14:19:11,836]\u001b[0m Trial 1 finished with value: 275.64227294921875 and parameters: {'n_steps': 26.45964920429414, 'gamma': 0.9266622398623874, 'learning_rate': 0.0030813257144308866, 'ent_coef': 0.00058395361123539, 'cliprange': 0.17019513533685288, 'noptepochs': 7.997326512272801, 'lam': 0.9805056192794488}. Best is trial 2 with value: 0.0.\u001b[0m\n",
      "\u001b[32m[I 2022-04-10 14:19:21,764]\u001b[0m Trial 0 finished with value: -0.0 and parameters: {'n_steps': 105.53339662629706, 'gamma': 0.9793825196002992, 'learning_rate': 0.311224926591692, 'ent_coef': 9.867655233888488e-06, 'cliprange': 0.26029298459537953, 'noptepochs': 11.519866526748816, 'lam': 0.8494661508490573}. Best is trial 2 with value: 0.0.\u001b[0m\n",
      "\u001b[32m[I 2022-04-10 14:19:27,259]\u001b[0m Trial 3 finished with value: 638.969482421875 and parameters: {'n_steps': 100.85856027911528, 'gamma': 0.9168360134644342, 'learning_rate': 1.5597484621360782e-05, 'ent_coef': 6.832618737473495e-05, 'cliprange': 0.23165654659469612, 'noptepochs': 23.80228178828194, 'lam': 0.8523676259279229}. Best is trial 2 with value: 0.0.\u001b[0m\n",
      "\u001b[32m[I 2022-04-10 14:19:55,657]\u001b[0m Trial 7 finished with value: 128.89024353027344 and parameters: {'n_steps': 81.15765809740203, 'gamma': 0.9883220333569086, 'learning_rate': 0.006601904749629131, 'ent_coef': 0.00036724235977104465, 'cliprange': 0.13016717017297028, 'noptepochs': 9.588671575222776, 'lam': 0.805615738764395}. Best is trial 2 with value: 0.0.\u001b[0m\n",
      "\u001b[32m[I 2022-04-10 14:20:04,829]\u001b[0m Trial 5 finished with value: 367.1158447265625 and parameters: {'n_steps': 279.67655543734776, 'gamma': 0.9706379495992531, 'learning_rate': 0.011658050227573286, 'ent_coef': 2.7428226877250564e-06, 'cliprange': 0.1771458983046133, 'noptepochs': 5.144494298550704, 'lam': 0.8688293480224808}. Best is trial 2 with value: 0.0.\u001b[0m\n",
      "\u001b[32m[I 2022-04-10 14:20:24,005]\u001b[0m Trial 8 finished with value: -0.0 and parameters: {'n_steps': 73.40889190167941, 'gamma': 0.9820743928720381, 'learning_rate': 0.015462408563055002, 'ent_coef': 0.00017609430627055429, 'cliprange': 0.10300043495937003, 'noptepochs': 19.654896567066984, 'lam': 0.952498796320262}. Best is trial 2 with value: 0.0.\u001b[0m\n",
      "\u001b[32m[I 2022-04-10 14:20:46,907]\u001b[0m Trial 9 finished with value: 648.0955200195312 and parameters: {'n_steps': 146.83094640937037, 'gamma': 0.9429644711430528, 'learning_rate': 0.010906413952826198, 'ent_coef': 0.0006586537479868637, 'cliprange': 0.3105464733270371, 'noptepochs': 30.52060080024287, 'lam': 0.8875020130033877}. Best is trial 2 with value: 0.0.\u001b[0m\n",
      "\u001b[32m[I 2022-04-10 14:21:00,930]\u001b[0m Trial 10 finished with value: -0.0 and parameters: {'n_steps': 60.244971013834565, 'gamma': 0.9471595573808229, 'learning_rate': 0.04385456425423874, 'ent_coef': 8.031061918787759e-05, 'cliprange': 0.18150959083267343, 'noptepochs': 34.36490022535878, 'lam': 0.999684307371634}. Best is trial 2 with value: 0.0.\u001b[0m\n",
      "\u001b[32m[I 2022-04-10 14:22:01,490]\u001b[0m Trial 6 finished with value: 379.8658447265625 and parameters: {'n_steps': 1032.168994401, 'gamma': 0.9709157806414184, 'learning_rate': 2.5609993053446354e-05, 'ent_coef': 0.0001831795082998505, 'cliprange': 0.35905357294461004, 'noptepochs': 1.191919688549935, 'lam': 0.8425067991196611}. Best is trial 2 with value: 0.0.\u001b[0m\n",
      "\u001b[32m[I 2022-04-10 14:22:30,501]\u001b[0m Trial 11 finished with value: -136.7093505859375 and parameters: {'n_steps': 520.9094737301966, 'gamma': 0.9358689344534186, 'learning_rate': 5.638769181711516e-05, 'ent_coef': 5.3784220445420814e-05, 'cliprange': 0.36198530866047063, 'noptepochs': 31.88614541261089, 'lam': 0.9028480928986126}. Best is trial 11 with value: -136.7093505859375.\u001b[0m\n",
      "\u001b[32m[I 2022-04-10 14:22:37,495]\u001b[0m Trial 12 finished with value: 217.22764587402344 and parameters: {'n_steps': 515.1557483133948, 'gamma': 0.9263180973790672, 'learning_rate': 0.0011586151752640654, 'ent_coef': 0.00014049021624365097, 'cliprange': 0.14063757471881227, 'noptepochs': 5.669576296114834, 'lam': 0.8553340873203276}. Best is trial 11 with value: -136.7093505859375.\u001b[0m\n",
      "\u001b[32m[I 2022-04-10 14:22:47,907]\u001b[0m Trial 13 finished with value: -0.0 and parameters: {'n_steps': 394.8168612441766, 'gamma': 0.902914505730416, 'learning_rate': 0.8501161824868974, 'ent_coef': 3.700077330838408e-08, 'cliprange': 0.26616135559706183, 'noptepochs': 2.608957680918522, 'lam': 0.8067661313398725}. Best is trial 11 with value: -136.7093505859375.\u001b[0m\n",
      "\u001b[32m[I 2022-04-10 14:22:57,612]\u001b[0m Trial 4 finished with value: -141.3394317626953 and parameters: {'n_steps': 1459.215066525728, 'gamma': 0.9814803943472554, 'learning_rate': 1.4307360016087795e-05, 'ent_coef': 1.6060926267063032e-07, 'cliprange': 0.2559841130871246, 'noptepochs': 1.5968092749510807, 'lam': 0.8539409452631086}. Best is trial 4 with value: -141.3394317626953.\u001b[0m\n",
      "\u001b[32m[I 2022-04-10 14:23:48,160]\u001b[0m Trial 14 finished with value: 665.2073364257812 and parameters: {'n_steps': 393.80293247020035, 'gamma': 0.9054442296275297, 'learning_rate': 0.00038365273387509666, 'ent_coef': 1.2460452085913954e-07, 'cliprange': 0.3881472112742991, 'noptepochs': 13.33104944848599, 'lam': 0.9202009567520469}. Best is trial 4 with value: -141.3394317626953.\u001b[0m\n",
      "\u001b[32m[I 2022-04-10 14:23:48,348]\u001b[0m Trial 15 finished with value: 757.26220703125 and parameters: {'n_steps': 362.2459070351021, 'gamma': 0.9001195780591342, 'learning_rate': 0.00019247400640566616, 'ent_coef': 2.2002882598591114e-08, 'cliprange': 0.39815413444257225, 'noptepochs': 13.646423649810792, 'lam': 0.9250809284758378}. Best is trial 4 with value: -141.3394317626953.\u001b[0m\n",
      "\u001b[32m[I 2022-04-10 14:26:16,083]\u001b[0m Trial 16 finished with value: -497.1666564941406 and parameters: {'n_steps': 1849.8943968745587, 'gamma': 0.9620839077725999, 'learning_rate': 0.0002639016815421499, 'ent_coef': 2.2682197041879914e-06, 'cliprange': 0.388901904086649, 'noptepochs': 14.041886681978047, 'lam': 0.9208262592035342}. Best is trial 16 with value: -497.1666564941406.\u001b[0m\n",
      "\u001b[32m[I 2022-04-10 14:26:35,141]\u001b[0m Trial 17 finished with value: -220.99594116210938 and parameters: {'n_steps': 1999.5635266954837, 'gamma': 0.9990043001893192, 'learning_rate': 0.00012827306491580215, 'ent_coef': 2.953934147863235e-07, 'cliprange': 0.39951736771084845, 'noptepochs': 1.005841795171012, 'lam': 0.9164721516705855}. Best is trial 16 with value: -497.1666564941406.\u001b[0m\n",
      "\u001b[32m[I 2022-04-10 14:27:32,117]\u001b[0m Trial 19 finished with value: -136.2418670654297 and parameters: {'n_steps': 1823.3917343932776, 'gamma': 0.9596414937463539, 'learning_rate': 0.00010592953693899043, 'ent_coef': 5.488789331448228e-07, 'cliprange': 0.3137278958788079, 'noptepochs': 1.4692085781342015, 'lam': 0.8870171245136909}. Best is trial 16 with value: -497.1666564941406.\u001b[0m\n",
      "\u001b[32m[I 2022-04-10 14:27:50,868]\u001b[0m Trial 18 finished with value: 301.9593505859375 and parameters: {'n_steps': 1985.0484296319198, 'gamma': 0.9628536283493072, 'learning_rate': 5.9894556949762906e-05, 'ent_coef': 8.004810617358924e-07, 'cliprange': 0.3194716881417127, 'noptepochs': 1.0740193626434074, 'lam': 0.8853865632440453}. Best is trial 16 with value: -497.1666564941406.\u001b[0m\n",
      "\u001b[32m[I 2022-04-10 14:29:51,975]\u001b[0m Trial 22 finished with value: 344.0223693847656 and parameters: {'n_steps': 896.4355117592615, 'gamma': 0.9998770399011571, 'learning_rate': 0.0008163221539382422, 'ent_coef': 1.8344123917599674e-06, 'cliprange': 0.32919680093425213, 'noptepochs': 2.8174536622049318, 'lam': 0.9471965663786241}. Best is trial 16 with value: -497.1666564941406.\u001b[0m\n",
      "\u001b[32m[I 2022-04-10 14:30:20,013]\u001b[0m Trial 23 finished with value: 482.96746826171875 and parameters: {'n_steps': 909.0204307760237, 'gamma': 0.9925304019394674, 'learning_rate': 0.0005484339591362699, 'ent_coef': 6.4644989454853215e-06, 'cliprange': 0.35054117717349353, 'noptepochs': 2.8637214694161504, 'lam': 0.9455870756394181}. Best is trial 16 with value: -497.1666564941406.\u001b[0m\n"
     ]
    },
    {
     "name": "stderr",
     "output_type": "stream",
     "text": [
      "\u001b[32m[I 2022-04-10 14:30:29,529]\u001b[0m Trial 21 finished with value: 1436.554931640625 and parameters: {'n_steps': 2029.6461808522065, 'gamma': 0.9636572264816279, 'learning_rate': 0.00012631553559658106, 'ent_coef': 1.6677922299340595e-06, 'cliprange': 0.3218861170875468, 'noptepochs': 2.168086130271857, 'lam': 0.9491466484299607}. Best is trial 16 with value: -497.1666564941406.\u001b[0m\n",
      "\u001b[32m[I 2022-04-10 14:30:32,635]\u001b[0m Trial 20 finished with value: 338.7520446777344 and parameters: {'n_steps': 1747.1329132231456, 'gamma': 0.9590177100290107, 'learning_rate': 0.0001096893335924526, 'ent_coef': 3.323661338030736e-07, 'cliprange': 0.3012402786936245, 'noptepochs': 1.0095682385016438, 'lam': 0.9467548627401816}. Best is trial 16 with value: -497.1666564941406.\u001b[0m\n",
      "\u001b[32m[I 2022-04-10 14:33:03,103]\u001b[0m Trial 24 finished with value: 1118.8028564453125 and parameters: {'n_steps': 1106.5120492847723, 'gamma': 0.9973880160486096, 'learning_rate': 1.084662973169164e-05, 'ent_coef': 1.927617664098369e-07, 'cliprange': 0.22094227349416473, 'noptepochs': 2.140293943943124, 'lam': 0.9474030260325156}. Best is trial 16 with value: -497.1666564941406.\u001b[0m\n",
      "\u001b[32m[I 2022-04-10 14:34:02,385]\u001b[0m Trial 27 finished with value: -692.3333129882812 and parameters: {'n_steps': 1182.9080899069302, 'gamma': 0.9993136062530232, 'learning_rate': 1.534771542282059e-05, 'ent_coef': 9.741581466228667e-08, 'cliprange': 0.21981420630291235, 'noptepochs': 1.7497774468232676, 'lam': 0.9218893823800446}. Best is trial 27 with value: -692.3333129882812.\u001b[0m\n",
      "\u001b[32m[I 2022-04-10 14:34:02,751]\u001b[0m Trial 25 finished with value: 165.93292236328125 and parameters: {'n_steps': 1285.886677658792, 'gamma': 0.9566220027288728, 'learning_rate': 1.0660765186403299e-05, 'ent_coef': 1.4545707911390775e-07, 'cliprange': 0.2289202617823039, 'noptepochs': 1.642826817283996, 'lam': 0.826262936361579}. Best is trial 27 with value: -692.3333129882812.\u001b[0m\n",
      "\u001b[32m[I 2022-04-10 14:34:03,055]\u001b[0m Trial 26 finished with value: 481.2723693847656 and parameters: {'n_steps': 1226.254573697588, 'gamma': 0.9950084599004895, 'learning_rate': 1.1513190705219853e-05, 'ent_coef': 1.3421004324161282e-07, 'cliprange': 0.21479074532227793, 'noptepochs': 1.9232442721262832, 'lam': 0.8287690234967161}. Best is trial 27 with value: -692.3333129882812.\u001b[0m\n",
      "\u001b[32m[I 2022-04-10 14:34:55,751]\u001b[0m Trial 28 finished with value: 1282.5589599609375 and parameters: {'n_steps': 1311.788883746293, 'gamma': 0.9808794985362729, 'learning_rate': 3.368054900510962e-05, 'ent_coef': 6.792043099298834e-08, 'cliprange': 0.28545270798449435, 'noptepochs': 1.6737342242655577, 'lam': 0.9239408008933387}. Best is trial 27 with value: -692.3333129882812.\u001b[0m\n",
      "\u001b[32m[I 2022-04-10 14:35:42,429]\u001b[0m Trial 29 finished with value: 119.40447235107422 and parameters: {'n_steps': 669.9027686737286, 'gamma': 0.9864348224104714, 'learning_rate': 4.211031200337104e-05, 'ent_coef': 1.2613030372037889e-08, 'cliprange': 0.37341744882003053, 'noptepochs': 4.238222047234507, 'lam': 0.9228754112961082}. Best is trial 27 with value: -692.3333129882812.\u001b[0m\n",
      "\u001b[32m[I 2022-04-10 14:35:49,233]\u001b[0m Trial 31 finished with value: 40.57520294189453 and parameters: {'n_steps': 716.7240939795637, 'gamma': 0.9881303352665641, 'learning_rate': 4.5413679844992903e-05, 'ent_coef': 1.0992145879590968e-08, 'cliprange': 0.28610447209999734, 'noptepochs': 4.69787351627958, 'lam': 0.9267417869260236}. Best is trial 27 with value: -692.3333129882812.\u001b[0m\n",
      "\u001b[32m[I 2022-04-10 14:36:15,774]\u001b[0m Trial 30 finished with value: -509.88616943359375 and parameters: {'n_steps': 696.8541284070462, 'gamma': 0.9898279422857835, 'learning_rate': 3.5917409163373615e-05, 'ent_coef': 1.5749686060739175e-08, 'cliprange': 0.27716978081208204, 'noptepochs': 45.43678759505608, 'lam': 0.9256453077729822}. Best is trial 27 with value: -692.3333129882812.\u001b[0m\n",
      "\u001b[32m[I 2022-04-10 14:36:38,382]\u001b[0m Trial 32 finished with value: 823.2032470703125 and parameters: {'n_steps': 664.6147220444706, 'gamma': 0.987184605670605, 'learning_rate': 0.0002565512236981803, 'ent_coef': 6.078595233833064e-06, 'cliprange': 0.37938998589852674, 'noptepochs': 18.573466143679116, 'lam': 0.9646522048702546}. Best is trial 27 with value: -692.3333129882812.\u001b[0m\n",
      "\u001b[32m[I 2022-04-10 14:36:38,386]\u001b[0m Trial 33 finished with value: 904.900390625 and parameters: {'n_steps': 232.77787744372776, 'gamma': 0.9729023047997593, 'learning_rate': 0.0002550265515543829, 'ent_coef': 1.6743125224428963e-05, 'cliprange': 0.20080922099009907, 'noptepochs': 15.60724713544668, 'lam': 0.9620765221006573}. Best is trial 27 with value: -692.3333129882812.\u001b[0m\n",
      "\u001b[32m[I 2022-04-10 14:37:31,694]\u001b[0m Trial 37 finished with value: -0.0 and parameters: {'n_steps': 20.76120006206605, 'gamma': 0.9755931933608709, 'learning_rate': 0.0024394789335033477, 'ent_coef': 4.490314003313589e-08, 'cliprange': 0.34112925467219457, 'noptepochs': 46.792423310587544, 'lam': 0.909856403043053}. Best is trial 27 with value: -692.3333129882812.\u001b[0m\n",
      "\u001b[32m[I 2022-04-10 14:38:19,267]\u001b[0m Trial 35 finished with value: -48.43089294433594 and parameters: {'n_steps': 746.6390018115411, 'gamma': 0.9721749457986776, 'learning_rate': 0.00025487902024557714, 'ent_coef': 1.8331703317765336e-05, 'cliprange': 0.19575039723594684, 'noptepochs': 44.173971391231035, 'lam': 0.972004300693007}. Best is trial 27 with value: -692.3333129882812.\u001b[0m\n",
      "\u001b[32m[I 2022-04-10 14:39:41,818]\u001b[0m Trial 34 finished with value: -538.5365600585938 and parameters: {'n_steps': 1492.622446895404, 'gamma': 0.9733182204774506, 'learning_rate': 0.0002711632195122507, 'ent_coef': 1.765524741510819e-05, 'cliprange': 0.200206043246077, 'noptepochs': 1.4111323009452104, 'lam': 0.9080380651931659}. Best is trial 27 with value: -692.3333129882812.\u001b[0m\n",
      "\u001b[32m[I 2022-04-10 14:40:36,279]\u001b[0m Trial 36 finished with value: -246.21340942382812 and parameters: {'n_steps': 1480.7345686726924, 'gamma': 0.9767814082218165, 'learning_rate': 0.0017348234390892375, 'ent_coef': 4.892013224119136e-08, 'cliprange': 0.3389304556066524, 'noptepochs': 7.696232501706629, 'lam': 0.9099895716858065}. Best is trial 27 with value: -692.3333129882812.\u001b[0m\n",
      "\u001b[32m[I 2022-04-10 14:41:12,483]\u001b[0m Trial 38 finished with value: 183.10772705078125 and parameters: {'n_steps': 1497.0286290443435, 'gamma': 0.993009493687004, 'learning_rate': 0.0015315121049265844, 'ent_coef': 7.233290880455673e-07, 'cliprange': 0.24636113844255125, 'noptepochs': 7.2424670124491035, 'lam': 0.9334358470292713}. Best is trial 27 with value: -692.3333129882812.\u001b[0m\n",
      "\u001b[32m[I 2022-04-10 14:41:32,523]\u001b[0m Trial 39 finished with value: -819.7235717773438 and parameters: {'n_steps': 1500.3809700861657, 'gamma': 0.9933352367035166, 'learning_rate': 2.0429228294860593e-05, 'ent_coef': 8.093090661092379e-07, 'cliprange': 0.24124006250924698, 'noptepochs': 8.41902312546633, 'lam': 0.9361961631390628}. Best is trial 39 with value: -819.7235717773438.\u001b[0m\n"
     ]
    }
   ],
   "source": [
    "optuna.delete_study(study_name='PPO2_LSTM_optimize_profit', storage='sqlite:///params.db')\n",
    "study_ppo2_lstm = optuna.create_study(study_name='PPO2_LSTM_optimize_profit', storage='sqlite:///params.db', \n",
    "                            load_if_exists=True, sampler=TPESampler())\n",
    "study_ppo2_lstm.optimize(objective_ppo2_lstm, n_trials=40, n_jobs=4, show_progress_bar = True)"
   ]
  },
  {
   "cell_type": "code",
   "execution_count": 13,
   "id": "8f128733",
   "metadata": {},
   "outputs": [
    {
     "data": {
      "text/plain": [
       "{'cliprange': 0.24124006250924698,\n",
       " 'ent_coef': 8.093090661092379e-07,\n",
       " 'gamma': 0.9933352367035166,\n",
       " 'lam': 0.9361961631390628,\n",
       " 'learning_rate': 2.0429228294860593e-05,\n",
       " 'n_steps': 1500.3809700861657,\n",
       " 'noptepochs': 8.41902312546633}"
      ]
     },
     "execution_count": 13,
     "metadata": {},
     "output_type": "execute_result"
    }
   ],
   "source": [
    "study_ppo2_lstm.best_params"
   ]
  },
  {
   "cell_type": "code",
   "execution_count": 14,
   "id": "9d770b41",
   "metadata": {},
   "outputs": [
    {
     "data": {
      "application/vnd.plotly.v1+json": {
       "config": {
        "plotlyServerURL": "https://plot.ly"
       },
       "data": [
        {
         "mode": "markers",
         "name": "Objective Value",
         "type": "scatter",
         "x": [
          0,
          1,
          2,
          3,
          4,
          5,
          6,
          7,
          8,
          9,
          10,
          11,
          12,
          13,
          14,
          15,
          16,
          17,
          18,
          19,
          20,
          21,
          22,
          23,
          24,
          25,
          26,
          27,
          28,
          29,
          30,
          31,
          32,
          33,
          34,
          35,
          36,
          37,
          38,
          39
         ],
         "y": [
          0,
          275.64227294921875,
          0,
          638.969482421875,
          -141.3394317626953,
          367.1158447265625,
          379.8658447265625,
          128.89024353027344,
          0,
          648.0955200195312,
          0,
          -136.7093505859375,
          217.22764587402344,
          0,
          665.2073364257812,
          757.26220703125,
          -497.1666564941406,
          -220.99594116210938,
          301.9593505859375,
          -136.2418670654297,
          338.7520446777344,
          1436.554931640625,
          344.0223693847656,
          482.96746826171875,
          1118.8028564453125,
          165.93292236328125,
          481.2723693847656,
          -692.3333129882812,
          1282.5589599609375,
          119.40447235107422,
          -509.88616943359375,
          40.57520294189453,
          823.2032470703125,
          904.900390625,
          -538.5365600585938,
          -48.43089294433594,
          -246.21340942382812,
          0,
          183.10772705078125,
          -819.7235717773438
         ]
        },
        {
         "name": "Best Value",
         "type": "scatter",
         "x": [
          0,
          1,
          2,
          3,
          4,
          5,
          6,
          7,
          8,
          9,
          10,
          11,
          12,
          13,
          14,
          15,
          16,
          17,
          18,
          19,
          20,
          21,
          22,
          23,
          24,
          25,
          26,
          27,
          28,
          29,
          30,
          31,
          32,
          33,
          34,
          35,
          36,
          37,
          38,
          39
         ],
         "y": [
          0,
          0,
          0,
          0,
          -141.3394317626953,
          -141.3394317626953,
          -141.3394317626953,
          -141.3394317626953,
          -141.3394317626953,
          -141.3394317626953,
          -141.3394317626953,
          -141.3394317626953,
          -141.3394317626953,
          -141.3394317626953,
          -141.3394317626953,
          -141.3394317626953,
          -497.1666564941406,
          -497.1666564941406,
          -497.1666564941406,
          -497.1666564941406,
          -497.1666564941406,
          -497.1666564941406,
          -497.1666564941406,
          -497.1666564941406,
          -497.1666564941406,
          -497.1666564941406,
          -497.1666564941406,
          -692.3333129882812,
          -692.3333129882812,
          -692.3333129882812,
          -692.3333129882812,
          -692.3333129882812,
          -692.3333129882812,
          -692.3333129882812,
          -692.3333129882812,
          -692.3333129882812,
          -692.3333129882812,
          -692.3333129882812,
          -692.3333129882812,
          -819.7235717773438
         ]
        }
       ],
       "layout": {
        "template": {
         "data": {
          "bar": [
           {
            "error_x": {
             "color": "#2a3f5f"
            },
            "error_y": {
             "color": "#2a3f5f"
            },
            "marker": {
             "line": {
              "color": "#E5ECF6",
              "width": 0.5
             },
             "pattern": {
              "fillmode": "overlay",
              "size": 10,
              "solidity": 0.2
             }
            },
            "type": "bar"
           }
          ],
          "barpolar": [
           {
            "marker": {
             "line": {
              "color": "#E5ECF6",
              "width": 0.5
             },
             "pattern": {
              "fillmode": "overlay",
              "size": 10,
              "solidity": 0.2
             }
            },
            "type": "barpolar"
           }
          ],
          "carpet": [
           {
            "aaxis": {
             "endlinecolor": "#2a3f5f",
             "gridcolor": "white",
             "linecolor": "white",
             "minorgridcolor": "white",
             "startlinecolor": "#2a3f5f"
            },
            "baxis": {
             "endlinecolor": "#2a3f5f",
             "gridcolor": "white",
             "linecolor": "white",
             "minorgridcolor": "white",
             "startlinecolor": "#2a3f5f"
            },
            "type": "carpet"
           }
          ],
          "choropleth": [
           {
            "colorbar": {
             "outlinewidth": 0,
             "ticks": ""
            },
            "type": "choropleth"
           }
          ],
          "contour": [
           {
            "colorbar": {
             "outlinewidth": 0,
             "ticks": ""
            },
            "colorscale": [
             [
              0,
              "#0d0887"
             ],
             [
              0.1111111111111111,
              "#46039f"
             ],
             [
              0.2222222222222222,
              "#7201a8"
             ],
             [
              0.3333333333333333,
              "#9c179e"
             ],
             [
              0.4444444444444444,
              "#bd3786"
             ],
             [
              0.5555555555555556,
              "#d8576b"
             ],
             [
              0.6666666666666666,
              "#ed7953"
             ],
             [
              0.7777777777777778,
              "#fb9f3a"
             ],
             [
              0.8888888888888888,
              "#fdca26"
             ],
             [
              1,
              "#f0f921"
             ]
            ],
            "type": "contour"
           }
          ],
          "contourcarpet": [
           {
            "colorbar": {
             "outlinewidth": 0,
             "ticks": ""
            },
            "type": "contourcarpet"
           }
          ],
          "heatmap": [
           {
            "colorbar": {
             "outlinewidth": 0,
             "ticks": ""
            },
            "colorscale": [
             [
              0,
              "#0d0887"
             ],
             [
              0.1111111111111111,
              "#46039f"
             ],
             [
              0.2222222222222222,
              "#7201a8"
             ],
             [
              0.3333333333333333,
              "#9c179e"
             ],
             [
              0.4444444444444444,
              "#bd3786"
             ],
             [
              0.5555555555555556,
              "#d8576b"
             ],
             [
              0.6666666666666666,
              "#ed7953"
             ],
             [
              0.7777777777777778,
              "#fb9f3a"
             ],
             [
              0.8888888888888888,
              "#fdca26"
             ],
             [
              1,
              "#f0f921"
             ]
            ],
            "type": "heatmap"
           }
          ],
          "heatmapgl": [
           {
            "colorbar": {
             "outlinewidth": 0,
             "ticks": ""
            },
            "colorscale": [
             [
              0,
              "#0d0887"
             ],
             [
              0.1111111111111111,
              "#46039f"
             ],
             [
              0.2222222222222222,
              "#7201a8"
             ],
             [
              0.3333333333333333,
              "#9c179e"
             ],
             [
              0.4444444444444444,
              "#bd3786"
             ],
             [
              0.5555555555555556,
              "#d8576b"
             ],
             [
              0.6666666666666666,
              "#ed7953"
             ],
             [
              0.7777777777777778,
              "#fb9f3a"
             ],
             [
              0.8888888888888888,
              "#fdca26"
             ],
             [
              1,
              "#f0f921"
             ]
            ],
            "type": "heatmapgl"
           }
          ],
          "histogram": [
           {
            "marker": {
             "pattern": {
              "fillmode": "overlay",
              "size": 10,
              "solidity": 0.2
             }
            },
            "type": "histogram"
           }
          ],
          "histogram2d": [
           {
            "colorbar": {
             "outlinewidth": 0,
             "ticks": ""
            },
            "colorscale": [
             [
              0,
              "#0d0887"
             ],
             [
              0.1111111111111111,
              "#46039f"
             ],
             [
              0.2222222222222222,
              "#7201a8"
             ],
             [
              0.3333333333333333,
              "#9c179e"
             ],
             [
              0.4444444444444444,
              "#bd3786"
             ],
             [
              0.5555555555555556,
              "#d8576b"
             ],
             [
              0.6666666666666666,
              "#ed7953"
             ],
             [
              0.7777777777777778,
              "#fb9f3a"
             ],
             [
              0.8888888888888888,
              "#fdca26"
             ],
             [
              1,
              "#f0f921"
             ]
            ],
            "type": "histogram2d"
           }
          ],
          "histogram2dcontour": [
           {
            "colorbar": {
             "outlinewidth": 0,
             "ticks": ""
            },
            "colorscale": [
             [
              0,
              "#0d0887"
             ],
             [
              0.1111111111111111,
              "#46039f"
             ],
             [
              0.2222222222222222,
              "#7201a8"
             ],
             [
              0.3333333333333333,
              "#9c179e"
             ],
             [
              0.4444444444444444,
              "#bd3786"
             ],
             [
              0.5555555555555556,
              "#d8576b"
             ],
             [
              0.6666666666666666,
              "#ed7953"
             ],
             [
              0.7777777777777778,
              "#fb9f3a"
             ],
             [
              0.8888888888888888,
              "#fdca26"
             ],
             [
              1,
              "#f0f921"
             ]
            ],
            "type": "histogram2dcontour"
           }
          ],
          "mesh3d": [
           {
            "colorbar": {
             "outlinewidth": 0,
             "ticks": ""
            },
            "type": "mesh3d"
           }
          ],
          "parcoords": [
           {
            "line": {
             "colorbar": {
              "outlinewidth": 0,
              "ticks": ""
             }
            },
            "type": "parcoords"
           }
          ],
          "pie": [
           {
            "automargin": true,
            "type": "pie"
           }
          ],
          "scatter": [
           {
            "marker": {
             "colorbar": {
              "outlinewidth": 0,
              "ticks": ""
             }
            },
            "type": "scatter"
           }
          ],
          "scatter3d": [
           {
            "line": {
             "colorbar": {
              "outlinewidth": 0,
              "ticks": ""
             }
            },
            "marker": {
             "colorbar": {
              "outlinewidth": 0,
              "ticks": ""
             }
            },
            "type": "scatter3d"
           }
          ],
          "scattercarpet": [
           {
            "marker": {
             "colorbar": {
              "outlinewidth": 0,
              "ticks": ""
             }
            },
            "type": "scattercarpet"
           }
          ],
          "scattergeo": [
           {
            "marker": {
             "colorbar": {
              "outlinewidth": 0,
              "ticks": ""
             }
            },
            "type": "scattergeo"
           }
          ],
          "scattergl": [
           {
            "marker": {
             "colorbar": {
              "outlinewidth": 0,
              "ticks": ""
             }
            },
            "type": "scattergl"
           }
          ],
          "scattermapbox": [
           {
            "marker": {
             "colorbar": {
              "outlinewidth": 0,
              "ticks": ""
             }
            },
            "type": "scattermapbox"
           }
          ],
          "scatterpolar": [
           {
            "marker": {
             "colorbar": {
              "outlinewidth": 0,
              "ticks": ""
             }
            },
            "type": "scatterpolar"
           }
          ],
          "scatterpolargl": [
           {
            "marker": {
             "colorbar": {
              "outlinewidth": 0,
              "ticks": ""
             }
            },
            "type": "scatterpolargl"
           }
          ],
          "scatterternary": [
           {
            "marker": {
             "colorbar": {
              "outlinewidth": 0,
              "ticks": ""
             }
            },
            "type": "scatterternary"
           }
          ],
          "surface": [
           {
            "colorbar": {
             "outlinewidth": 0,
             "ticks": ""
            },
            "colorscale": [
             [
              0,
              "#0d0887"
             ],
             [
              0.1111111111111111,
              "#46039f"
             ],
             [
              0.2222222222222222,
              "#7201a8"
             ],
             [
              0.3333333333333333,
              "#9c179e"
             ],
             [
              0.4444444444444444,
              "#bd3786"
             ],
             [
              0.5555555555555556,
              "#d8576b"
             ],
             [
              0.6666666666666666,
              "#ed7953"
             ],
             [
              0.7777777777777778,
              "#fb9f3a"
             ],
             [
              0.8888888888888888,
              "#fdca26"
             ],
             [
              1,
              "#f0f921"
             ]
            ],
            "type": "surface"
           }
          ],
          "table": [
           {
            "cells": {
             "fill": {
              "color": "#EBF0F8"
             },
             "line": {
              "color": "white"
             }
            },
            "header": {
             "fill": {
              "color": "#C8D4E3"
             },
             "line": {
              "color": "white"
             }
            },
            "type": "table"
           }
          ]
         },
         "layout": {
          "annotationdefaults": {
           "arrowcolor": "#2a3f5f",
           "arrowhead": 0,
           "arrowwidth": 1
          },
          "autotypenumbers": "strict",
          "coloraxis": {
           "colorbar": {
            "outlinewidth": 0,
            "ticks": ""
           }
          },
          "colorscale": {
           "diverging": [
            [
             0,
             "#8e0152"
            ],
            [
             0.1,
             "#c51b7d"
            ],
            [
             0.2,
             "#de77ae"
            ],
            [
             0.3,
             "#f1b6da"
            ],
            [
             0.4,
             "#fde0ef"
            ],
            [
             0.5,
             "#f7f7f7"
            ],
            [
             0.6,
             "#e6f5d0"
            ],
            [
             0.7,
             "#b8e186"
            ],
            [
             0.8,
             "#7fbc41"
            ],
            [
             0.9,
             "#4d9221"
            ],
            [
             1,
             "#276419"
            ]
           ],
           "sequential": [
            [
             0,
             "#0d0887"
            ],
            [
             0.1111111111111111,
             "#46039f"
            ],
            [
             0.2222222222222222,
             "#7201a8"
            ],
            [
             0.3333333333333333,
             "#9c179e"
            ],
            [
             0.4444444444444444,
             "#bd3786"
            ],
            [
             0.5555555555555556,
             "#d8576b"
            ],
            [
             0.6666666666666666,
             "#ed7953"
            ],
            [
             0.7777777777777778,
             "#fb9f3a"
            ],
            [
             0.8888888888888888,
             "#fdca26"
            ],
            [
             1,
             "#f0f921"
            ]
           ],
           "sequentialminus": [
            [
             0,
             "#0d0887"
            ],
            [
             0.1111111111111111,
             "#46039f"
            ],
            [
             0.2222222222222222,
             "#7201a8"
            ],
            [
             0.3333333333333333,
             "#9c179e"
            ],
            [
             0.4444444444444444,
             "#bd3786"
            ],
            [
             0.5555555555555556,
             "#d8576b"
            ],
            [
             0.6666666666666666,
             "#ed7953"
            ],
            [
             0.7777777777777778,
             "#fb9f3a"
            ],
            [
             0.8888888888888888,
             "#fdca26"
            ],
            [
             1,
             "#f0f921"
            ]
           ]
          },
          "colorway": [
           "#636efa",
           "#EF553B",
           "#00cc96",
           "#ab63fa",
           "#FFA15A",
           "#19d3f3",
           "#FF6692",
           "#B6E880",
           "#FF97FF",
           "#FECB52"
          ],
          "font": {
           "color": "#2a3f5f"
          },
          "geo": {
           "bgcolor": "white",
           "lakecolor": "white",
           "landcolor": "#E5ECF6",
           "showlakes": true,
           "showland": true,
           "subunitcolor": "white"
          },
          "hoverlabel": {
           "align": "left"
          },
          "hovermode": "closest",
          "mapbox": {
           "style": "light"
          },
          "paper_bgcolor": "white",
          "plot_bgcolor": "#E5ECF6",
          "polar": {
           "angularaxis": {
            "gridcolor": "white",
            "linecolor": "white",
            "ticks": ""
           },
           "bgcolor": "#E5ECF6",
           "radialaxis": {
            "gridcolor": "white",
            "linecolor": "white",
            "ticks": ""
           }
          },
          "scene": {
           "xaxis": {
            "backgroundcolor": "#E5ECF6",
            "gridcolor": "white",
            "gridwidth": 2,
            "linecolor": "white",
            "showbackground": true,
            "ticks": "",
            "zerolinecolor": "white"
           },
           "yaxis": {
            "backgroundcolor": "#E5ECF6",
            "gridcolor": "white",
            "gridwidth": 2,
            "linecolor": "white",
            "showbackground": true,
            "ticks": "",
            "zerolinecolor": "white"
           },
           "zaxis": {
            "backgroundcolor": "#E5ECF6",
            "gridcolor": "white",
            "gridwidth": 2,
            "linecolor": "white",
            "showbackground": true,
            "ticks": "",
            "zerolinecolor": "white"
           }
          },
          "shapedefaults": {
           "line": {
            "color": "#2a3f5f"
           }
          },
          "ternary": {
           "aaxis": {
            "gridcolor": "white",
            "linecolor": "white",
            "ticks": ""
           },
           "baxis": {
            "gridcolor": "white",
            "linecolor": "white",
            "ticks": ""
           },
           "bgcolor": "#E5ECF6",
           "caxis": {
            "gridcolor": "white",
            "linecolor": "white",
            "ticks": ""
           }
          },
          "title": {
           "x": 0.05
          },
          "xaxis": {
           "automargin": true,
           "gridcolor": "white",
           "linecolor": "white",
           "ticks": "",
           "title": {
            "standoff": 15
           },
           "zerolinecolor": "white",
           "zerolinewidth": 2
          },
          "yaxis": {
           "automargin": true,
           "gridcolor": "white",
           "linecolor": "white",
           "ticks": "",
           "title": {
            "standoff": 15
           },
           "zerolinecolor": "white",
           "zerolinewidth": 2
          }
         }
        },
        "title": {
         "text": "Optimization History Plot"
        },
        "xaxis": {
         "title": {
          "text": "#Trials"
         }
        },
        "yaxis": {
         "title": {
          "text": "Objective Value"
         }
        }
       }
      },
      "text/html": [
       "<div>                            <div id=\"91fd2ee9-3af7-40dd-812b-2e30e5029cc2\" class=\"plotly-graph-div\" style=\"height:525px; width:100%;\"></div>            <script type=\"text/javascript\">                require([\"plotly\"], function(Plotly) {                    window.PLOTLYENV=window.PLOTLYENV || {};                                    if (document.getElementById(\"91fd2ee9-3af7-40dd-812b-2e30e5029cc2\")) {                    Plotly.newPlot(                        \"91fd2ee9-3af7-40dd-812b-2e30e5029cc2\",                        [{\"mode\":\"markers\",\"name\":\"Objective Value\",\"type\":\"scatter\",\"x\":[0,1,2,3,4,5,6,7,8,9,10,11,12,13,14,15,16,17,18,19,20,21,22,23,24,25,26,27,28,29,30,31,32,33,34,35,36,37,38,39],\"y\":[-0.0,275.64227294921875,-0.0,638.969482421875,-141.3394317626953,367.1158447265625,379.8658447265625,128.89024353027344,-0.0,648.0955200195312,-0.0,-136.7093505859375,217.22764587402344,-0.0,665.2073364257812,757.26220703125,-497.1666564941406,-220.99594116210938,301.9593505859375,-136.2418670654297,338.7520446777344,1436.554931640625,344.0223693847656,482.96746826171875,1118.8028564453125,165.93292236328125,481.2723693847656,-692.3333129882812,1282.5589599609375,119.40447235107422,-509.88616943359375,40.57520294189453,823.2032470703125,904.900390625,-538.5365600585938,-48.43089294433594,-246.21340942382812,-0.0,183.10772705078125,-819.7235717773438]},{\"name\":\"Best Value\",\"type\":\"scatter\",\"x\":[0,1,2,3,4,5,6,7,8,9,10,11,12,13,14,15,16,17,18,19,20,21,22,23,24,25,26,27,28,29,30,31,32,33,34,35,36,37,38,39],\"y\":[-0.0,-0.0,-0.0,-0.0,-141.3394317626953,-141.3394317626953,-141.3394317626953,-141.3394317626953,-141.3394317626953,-141.3394317626953,-141.3394317626953,-141.3394317626953,-141.3394317626953,-141.3394317626953,-141.3394317626953,-141.3394317626953,-497.1666564941406,-497.1666564941406,-497.1666564941406,-497.1666564941406,-497.1666564941406,-497.1666564941406,-497.1666564941406,-497.1666564941406,-497.1666564941406,-497.1666564941406,-497.1666564941406,-692.3333129882812,-692.3333129882812,-692.3333129882812,-692.3333129882812,-692.3333129882812,-692.3333129882812,-692.3333129882812,-692.3333129882812,-692.3333129882812,-692.3333129882812,-692.3333129882812,-692.3333129882812,-819.7235717773438]}],                        {\"template\":{\"data\":{\"bar\":[{\"error_x\":{\"color\":\"#2a3f5f\"},\"error_y\":{\"color\":\"#2a3f5f\"},\"marker\":{\"line\":{\"color\":\"#E5ECF6\",\"width\":0.5},\"pattern\":{\"fillmode\":\"overlay\",\"size\":10,\"solidity\":0.2}},\"type\":\"bar\"}],\"barpolar\":[{\"marker\":{\"line\":{\"color\":\"#E5ECF6\",\"width\":0.5},\"pattern\":{\"fillmode\":\"overlay\",\"size\":10,\"solidity\":0.2}},\"type\":\"barpolar\"}],\"carpet\":[{\"aaxis\":{\"endlinecolor\":\"#2a3f5f\",\"gridcolor\":\"white\",\"linecolor\":\"white\",\"minorgridcolor\":\"white\",\"startlinecolor\":\"#2a3f5f\"},\"baxis\":{\"endlinecolor\":\"#2a3f5f\",\"gridcolor\":\"white\",\"linecolor\":\"white\",\"minorgridcolor\":\"white\",\"startlinecolor\":\"#2a3f5f\"},\"type\":\"carpet\"}],\"choropleth\":[{\"colorbar\":{\"outlinewidth\":0,\"ticks\":\"\"},\"type\":\"choropleth\"}],\"contour\":[{\"colorbar\":{\"outlinewidth\":0,\"ticks\":\"\"},\"colorscale\":[[0.0,\"#0d0887\"],[0.1111111111111111,\"#46039f\"],[0.2222222222222222,\"#7201a8\"],[0.3333333333333333,\"#9c179e\"],[0.4444444444444444,\"#bd3786\"],[0.5555555555555556,\"#d8576b\"],[0.6666666666666666,\"#ed7953\"],[0.7777777777777778,\"#fb9f3a\"],[0.8888888888888888,\"#fdca26\"],[1.0,\"#f0f921\"]],\"type\":\"contour\"}],\"contourcarpet\":[{\"colorbar\":{\"outlinewidth\":0,\"ticks\":\"\"},\"type\":\"contourcarpet\"}],\"heatmap\":[{\"colorbar\":{\"outlinewidth\":0,\"ticks\":\"\"},\"colorscale\":[[0.0,\"#0d0887\"],[0.1111111111111111,\"#46039f\"],[0.2222222222222222,\"#7201a8\"],[0.3333333333333333,\"#9c179e\"],[0.4444444444444444,\"#bd3786\"],[0.5555555555555556,\"#d8576b\"],[0.6666666666666666,\"#ed7953\"],[0.7777777777777778,\"#fb9f3a\"],[0.8888888888888888,\"#fdca26\"],[1.0,\"#f0f921\"]],\"type\":\"heatmap\"}],\"heatmapgl\":[{\"colorbar\":{\"outlinewidth\":0,\"ticks\":\"\"},\"colorscale\":[[0.0,\"#0d0887\"],[0.1111111111111111,\"#46039f\"],[0.2222222222222222,\"#7201a8\"],[0.3333333333333333,\"#9c179e\"],[0.4444444444444444,\"#bd3786\"],[0.5555555555555556,\"#d8576b\"],[0.6666666666666666,\"#ed7953\"],[0.7777777777777778,\"#fb9f3a\"],[0.8888888888888888,\"#fdca26\"],[1.0,\"#f0f921\"]],\"type\":\"heatmapgl\"}],\"histogram\":[{\"marker\":{\"pattern\":{\"fillmode\":\"overlay\",\"size\":10,\"solidity\":0.2}},\"type\":\"histogram\"}],\"histogram2d\":[{\"colorbar\":{\"outlinewidth\":0,\"ticks\":\"\"},\"colorscale\":[[0.0,\"#0d0887\"],[0.1111111111111111,\"#46039f\"],[0.2222222222222222,\"#7201a8\"],[0.3333333333333333,\"#9c179e\"],[0.4444444444444444,\"#bd3786\"],[0.5555555555555556,\"#d8576b\"],[0.6666666666666666,\"#ed7953\"],[0.7777777777777778,\"#fb9f3a\"],[0.8888888888888888,\"#fdca26\"],[1.0,\"#f0f921\"]],\"type\":\"histogram2d\"}],\"histogram2dcontour\":[{\"colorbar\":{\"outlinewidth\":0,\"ticks\":\"\"},\"colorscale\":[[0.0,\"#0d0887\"],[0.1111111111111111,\"#46039f\"],[0.2222222222222222,\"#7201a8\"],[0.3333333333333333,\"#9c179e\"],[0.4444444444444444,\"#bd3786\"],[0.5555555555555556,\"#d8576b\"],[0.6666666666666666,\"#ed7953\"],[0.7777777777777778,\"#fb9f3a\"],[0.8888888888888888,\"#fdca26\"],[1.0,\"#f0f921\"]],\"type\":\"histogram2dcontour\"}],\"mesh3d\":[{\"colorbar\":{\"outlinewidth\":0,\"ticks\":\"\"},\"type\":\"mesh3d\"}],\"parcoords\":[{\"line\":{\"colorbar\":{\"outlinewidth\":0,\"ticks\":\"\"}},\"type\":\"parcoords\"}],\"pie\":[{\"automargin\":true,\"type\":\"pie\"}],\"scatter\":[{\"marker\":{\"colorbar\":{\"outlinewidth\":0,\"ticks\":\"\"}},\"type\":\"scatter\"}],\"scatter3d\":[{\"line\":{\"colorbar\":{\"outlinewidth\":0,\"ticks\":\"\"}},\"marker\":{\"colorbar\":{\"outlinewidth\":0,\"ticks\":\"\"}},\"type\":\"scatter3d\"}],\"scattercarpet\":[{\"marker\":{\"colorbar\":{\"outlinewidth\":0,\"ticks\":\"\"}},\"type\":\"scattercarpet\"}],\"scattergeo\":[{\"marker\":{\"colorbar\":{\"outlinewidth\":0,\"ticks\":\"\"}},\"type\":\"scattergeo\"}],\"scattergl\":[{\"marker\":{\"colorbar\":{\"outlinewidth\":0,\"ticks\":\"\"}},\"type\":\"scattergl\"}],\"scattermapbox\":[{\"marker\":{\"colorbar\":{\"outlinewidth\":0,\"ticks\":\"\"}},\"type\":\"scattermapbox\"}],\"scatterpolar\":[{\"marker\":{\"colorbar\":{\"outlinewidth\":0,\"ticks\":\"\"}},\"type\":\"scatterpolar\"}],\"scatterpolargl\":[{\"marker\":{\"colorbar\":{\"outlinewidth\":0,\"ticks\":\"\"}},\"type\":\"scatterpolargl\"}],\"scatterternary\":[{\"marker\":{\"colorbar\":{\"outlinewidth\":0,\"ticks\":\"\"}},\"type\":\"scatterternary\"}],\"surface\":[{\"colorbar\":{\"outlinewidth\":0,\"ticks\":\"\"},\"colorscale\":[[0.0,\"#0d0887\"],[0.1111111111111111,\"#46039f\"],[0.2222222222222222,\"#7201a8\"],[0.3333333333333333,\"#9c179e\"],[0.4444444444444444,\"#bd3786\"],[0.5555555555555556,\"#d8576b\"],[0.6666666666666666,\"#ed7953\"],[0.7777777777777778,\"#fb9f3a\"],[0.8888888888888888,\"#fdca26\"],[1.0,\"#f0f921\"]],\"type\":\"surface\"}],\"table\":[{\"cells\":{\"fill\":{\"color\":\"#EBF0F8\"},\"line\":{\"color\":\"white\"}},\"header\":{\"fill\":{\"color\":\"#C8D4E3\"},\"line\":{\"color\":\"white\"}},\"type\":\"table\"}]},\"layout\":{\"annotationdefaults\":{\"arrowcolor\":\"#2a3f5f\",\"arrowhead\":0,\"arrowwidth\":1},\"autotypenumbers\":\"strict\",\"coloraxis\":{\"colorbar\":{\"outlinewidth\":0,\"ticks\":\"\"}},\"colorscale\":{\"diverging\":[[0,\"#8e0152\"],[0.1,\"#c51b7d\"],[0.2,\"#de77ae\"],[0.3,\"#f1b6da\"],[0.4,\"#fde0ef\"],[0.5,\"#f7f7f7\"],[0.6,\"#e6f5d0\"],[0.7,\"#b8e186\"],[0.8,\"#7fbc41\"],[0.9,\"#4d9221\"],[1,\"#276419\"]],\"sequential\":[[0.0,\"#0d0887\"],[0.1111111111111111,\"#46039f\"],[0.2222222222222222,\"#7201a8\"],[0.3333333333333333,\"#9c179e\"],[0.4444444444444444,\"#bd3786\"],[0.5555555555555556,\"#d8576b\"],[0.6666666666666666,\"#ed7953\"],[0.7777777777777778,\"#fb9f3a\"],[0.8888888888888888,\"#fdca26\"],[1.0,\"#f0f921\"]],\"sequentialminus\":[[0.0,\"#0d0887\"],[0.1111111111111111,\"#46039f\"],[0.2222222222222222,\"#7201a8\"],[0.3333333333333333,\"#9c179e\"],[0.4444444444444444,\"#bd3786\"],[0.5555555555555556,\"#d8576b\"],[0.6666666666666666,\"#ed7953\"],[0.7777777777777778,\"#fb9f3a\"],[0.8888888888888888,\"#fdca26\"],[1.0,\"#f0f921\"]]},\"colorway\":[\"#636efa\",\"#EF553B\",\"#00cc96\",\"#ab63fa\",\"#FFA15A\",\"#19d3f3\",\"#FF6692\",\"#B6E880\",\"#FF97FF\",\"#FECB52\"],\"font\":{\"color\":\"#2a3f5f\"},\"geo\":{\"bgcolor\":\"white\",\"lakecolor\":\"white\",\"landcolor\":\"#E5ECF6\",\"showlakes\":true,\"showland\":true,\"subunitcolor\":\"white\"},\"hoverlabel\":{\"align\":\"left\"},\"hovermode\":\"closest\",\"mapbox\":{\"style\":\"light\"},\"paper_bgcolor\":\"white\",\"plot_bgcolor\":\"#E5ECF6\",\"polar\":{\"angularaxis\":{\"gridcolor\":\"white\",\"linecolor\":\"white\",\"ticks\":\"\"},\"bgcolor\":\"#E5ECF6\",\"radialaxis\":{\"gridcolor\":\"white\",\"linecolor\":\"white\",\"ticks\":\"\"}},\"scene\":{\"xaxis\":{\"backgroundcolor\":\"#E5ECF6\",\"gridcolor\":\"white\",\"gridwidth\":2,\"linecolor\":\"white\",\"showbackground\":true,\"ticks\":\"\",\"zerolinecolor\":\"white\"},\"yaxis\":{\"backgroundcolor\":\"#E5ECF6\",\"gridcolor\":\"white\",\"gridwidth\":2,\"linecolor\":\"white\",\"showbackground\":true,\"ticks\":\"\",\"zerolinecolor\":\"white\"},\"zaxis\":{\"backgroundcolor\":\"#E5ECF6\",\"gridcolor\":\"white\",\"gridwidth\":2,\"linecolor\":\"white\",\"showbackground\":true,\"ticks\":\"\",\"zerolinecolor\":\"white\"}},\"shapedefaults\":{\"line\":{\"color\":\"#2a3f5f\"}},\"ternary\":{\"aaxis\":{\"gridcolor\":\"white\",\"linecolor\":\"white\",\"ticks\":\"\"},\"baxis\":{\"gridcolor\":\"white\",\"linecolor\":\"white\",\"ticks\":\"\"},\"bgcolor\":\"#E5ECF6\",\"caxis\":{\"gridcolor\":\"white\",\"linecolor\":\"white\",\"ticks\":\"\"}},\"title\":{\"x\":0.05},\"xaxis\":{\"automargin\":true,\"gridcolor\":\"white\",\"linecolor\":\"white\",\"ticks\":\"\",\"title\":{\"standoff\":15},\"zerolinecolor\":\"white\",\"zerolinewidth\":2},\"yaxis\":{\"automargin\":true,\"gridcolor\":\"white\",\"linecolor\":\"white\",\"ticks\":\"\",\"title\":{\"standoff\":15},\"zerolinecolor\":\"white\",\"zerolinewidth\":2}}},\"title\":{\"text\":\"Optimization History Plot\"},\"xaxis\":{\"title\":{\"text\":\"#Trials\"}},\"yaxis\":{\"title\":{\"text\":\"Objective Value\"}}},                        {\"responsive\": true}                    ).then(function(){\n",
       "                            \n",
       "var gd = document.getElementById('91fd2ee9-3af7-40dd-812b-2e30e5029cc2');\n",
       "var x = new MutationObserver(function (mutations, observer) {{\n",
       "        var display = window.getComputedStyle(gd).display;\n",
       "        if (!display || display === 'none') {{\n",
       "            console.log([gd, 'removed!']);\n",
       "            Plotly.purge(gd);\n",
       "            observer.disconnect();\n",
       "        }}\n",
       "}});\n",
       "\n",
       "// Listen for the removal of the full notebook cells\n",
       "var notebookContainer = gd.closest('#notebook-container');\n",
       "if (notebookContainer) {{\n",
       "    x.observe(notebookContainer, {childList: true});\n",
       "}}\n",
       "\n",
       "// Listen for the clearing of the current output cell\n",
       "var outputEl = gd.closest('.output');\n",
       "if (outputEl) {{\n",
       "    x.observe(outputEl, {childList: true});\n",
       "}}\n",
       "\n",
       "                        })                };                });            </script>        </div>"
      ]
     },
     "metadata": {},
     "output_type": "display_data"
    }
   ],
   "source": [
    "optuna.visualization.plot_optimization_history(study_ppo2_lstm)"
   ]
  },
  {
   "cell_type": "code",
   "execution_count": 15,
   "id": "b03f88e9",
   "metadata": {},
   "outputs": [
    {
     "data": {
      "application/vnd.plotly.v1+json": {
       "config": {
        "plotlyServerURL": "https://plot.ly"
       },
       "data": [
        {
         "marker": {
          "color": [
           0,
           1,
           2,
           3,
           4,
           5,
           6,
           7,
           8,
           9,
           10,
           11,
           12,
           13,
           14,
           15,
           16,
           17,
           18,
           19,
           20,
           21,
           22,
           23,
           24,
           25,
           26,
           27,
           28,
           29,
           30,
           31,
           32,
           33,
           34,
           35,
           36,
           37,
           38,
           39
          ],
          "colorbar": {
           "title": {
            "text": "#Trials"
           },
           "x": 1,
           "xpad": 40
          },
          "colorscale": [
           [
            0,
            "rgb(247,251,255)"
           ],
           [
            0.125,
            "rgb(222,235,247)"
           ],
           [
            0.25,
            "rgb(198,219,239)"
           ],
           [
            0.375,
            "rgb(158,202,225)"
           ],
           [
            0.5,
            "rgb(107,174,214)"
           ],
           [
            0.625,
            "rgb(66,146,198)"
           ],
           [
            0.75,
            "rgb(33,113,181)"
           ],
           [
            0.875,
            "rgb(8,81,156)"
           ],
           [
            1,
            "rgb(8,48,107)"
           ]
          ],
          "line": {
           "color": "Grey",
           "width": 0.5
          },
          "showscale": true
         },
         "mode": "markers",
         "showlegend": false,
         "type": "scatter",
         "x": [
          0.26029298459537953,
          0.17019513533685288,
          0.1527129039097868,
          0.23165654659469612,
          0.2559841130871246,
          0.1771458983046133,
          0.35905357294461004,
          0.13016717017297028,
          0.10300043495937003,
          0.3105464733270371,
          0.18150959083267343,
          0.36198530866047063,
          0.14063757471881227,
          0.26616135559706183,
          0.3881472112742991,
          0.39815413444257225,
          0.388901904086649,
          0.39951736771084845,
          0.3194716881417127,
          0.3137278958788079,
          0.3012402786936245,
          0.3218861170875468,
          0.32919680093425213,
          0.35054117717349353,
          0.22094227349416473,
          0.2289202617823039,
          0.21479074532227793,
          0.21981420630291235,
          0.28545270798449435,
          0.37341744882003053,
          0.27716978081208204,
          0.28610447209999734,
          0.37938998589852674,
          0.20080922099009907,
          0.200206043246077,
          0.19575039723594684,
          0.3389304556066524,
          0.34112925467219457,
          0.24636113844255125,
          0.24124006250924698
         ],
         "xaxis": "x",
         "y": [
          0,
          275.64227294921875,
          0,
          638.969482421875,
          -141.3394317626953,
          367.1158447265625,
          379.8658447265625,
          128.89024353027344,
          0,
          648.0955200195312,
          0,
          -136.7093505859375,
          217.22764587402344,
          0,
          665.2073364257812,
          757.26220703125,
          -497.1666564941406,
          -220.99594116210938,
          301.9593505859375,
          -136.2418670654297,
          338.7520446777344,
          1436.554931640625,
          344.0223693847656,
          482.96746826171875,
          1118.8028564453125,
          165.93292236328125,
          481.2723693847656,
          -692.3333129882812,
          1282.5589599609375,
          119.40447235107422,
          -509.88616943359375,
          40.57520294189453,
          823.2032470703125,
          904.900390625,
          -538.5365600585938,
          -48.43089294433594,
          -246.21340942382812,
          0,
          183.10772705078125,
          -819.7235717773438
         ],
         "yaxis": "y"
        },
        {
         "marker": {
          "color": [
           0,
           1,
           2,
           3,
           4,
           5,
           6,
           7,
           8,
           9,
           10,
           11,
           12,
           13,
           14,
           15,
           16,
           17,
           18,
           19,
           20,
           21,
           22,
           23,
           24,
           25,
           26,
           27,
           28,
           29,
           30,
           31,
           32,
           33,
           34,
           35,
           36,
           37,
           38,
           39
          ],
          "colorbar": {
           "title": {
            "text": "#Trials"
           },
           "x": 1,
           "xpad": 40
          },
          "colorscale": [
           [
            0,
            "rgb(247,251,255)"
           ],
           [
            0.125,
            "rgb(222,235,247)"
           ],
           [
            0.25,
            "rgb(198,219,239)"
           ],
           [
            0.375,
            "rgb(158,202,225)"
           ],
           [
            0.5,
            "rgb(107,174,214)"
           ],
           [
            0.625,
            "rgb(66,146,198)"
           ],
           [
            0.75,
            "rgb(33,113,181)"
           ],
           [
            0.875,
            "rgb(8,81,156)"
           ],
           [
            1,
            "rgb(8,48,107)"
           ]
          ],
          "line": {
           "color": "Grey",
           "width": 0.5
          },
          "showscale": false
         },
         "mode": "markers",
         "showlegend": false,
         "type": "scatter",
         "x": [
          9.867655233888488e-06,
          0.00058395361123539,
          0.008321034492867743,
          6.832618737473495e-05,
          1.6060926267063032e-07,
          2.7428226877250564e-06,
          0.0001831795082998505,
          0.00036724235977104465,
          0.00017609430627055429,
          0.0006586537479868637,
          8.031061918787759e-05,
          5.3784220445420814e-05,
          0.00014049021624365097,
          3.700077330838408e-08,
          1.2460452085913954e-07,
          2.2002882598591114e-08,
          2.2682197041879914e-06,
          2.953934147863235e-07,
          8.004810617358924e-07,
          5.488789331448228e-07,
          3.323661338030736e-07,
          1.6677922299340595e-06,
          1.8344123917599674e-06,
          6.4644989454853215e-06,
          1.927617664098369e-07,
          1.4545707911390775e-07,
          1.3421004324161282e-07,
          9.741581466228667e-08,
          6.792043099298834e-08,
          1.2613030372037889e-08,
          1.5749686060739175e-08,
          1.0992145879590968e-08,
          6.078595233833064e-06,
          1.6743125224428963e-05,
          1.765524741510819e-05,
          1.8331703317765336e-05,
          4.892013224119136e-08,
          4.490314003313589e-08,
          7.233290880455673e-07,
          8.093090661092379e-07
         ],
         "xaxis": "x2",
         "y": [
          0,
          275.64227294921875,
          0,
          638.969482421875,
          -141.3394317626953,
          367.1158447265625,
          379.8658447265625,
          128.89024353027344,
          0,
          648.0955200195312,
          0,
          -136.7093505859375,
          217.22764587402344,
          0,
          665.2073364257812,
          757.26220703125,
          -497.1666564941406,
          -220.99594116210938,
          301.9593505859375,
          -136.2418670654297,
          338.7520446777344,
          1436.554931640625,
          344.0223693847656,
          482.96746826171875,
          1118.8028564453125,
          165.93292236328125,
          481.2723693847656,
          -692.3333129882812,
          1282.5589599609375,
          119.40447235107422,
          -509.88616943359375,
          40.57520294189453,
          823.2032470703125,
          904.900390625,
          -538.5365600585938,
          -48.43089294433594,
          -246.21340942382812,
          0,
          183.10772705078125,
          -819.7235717773438
         ],
         "yaxis": "y2"
        },
        {
         "marker": {
          "color": [
           0,
           1,
           2,
           3,
           4,
           5,
           6,
           7,
           8,
           9,
           10,
           11,
           12,
           13,
           14,
           15,
           16,
           17,
           18,
           19,
           20,
           21,
           22,
           23,
           24,
           25,
           26,
           27,
           28,
           29,
           30,
           31,
           32,
           33,
           34,
           35,
           36,
           37,
           38,
           39
          ],
          "colorbar": {
           "title": {
            "text": "#Trials"
           },
           "x": 1,
           "xpad": 40
          },
          "colorscale": [
           [
            0,
            "rgb(247,251,255)"
           ],
           [
            0.125,
            "rgb(222,235,247)"
           ],
           [
            0.25,
            "rgb(198,219,239)"
           ],
           [
            0.375,
            "rgb(158,202,225)"
           ],
           [
            0.5,
            "rgb(107,174,214)"
           ],
           [
            0.625,
            "rgb(66,146,198)"
           ],
           [
            0.75,
            "rgb(33,113,181)"
           ],
           [
            0.875,
            "rgb(8,81,156)"
           ],
           [
            1,
            "rgb(8,48,107)"
           ]
          ],
          "line": {
           "color": "Grey",
           "width": 0.5
          },
          "showscale": false
         },
         "mode": "markers",
         "showlegend": false,
         "type": "scatter",
         "x": [
          0.9793825196002992,
          0.9266622398623874,
          0.9311993662930048,
          0.9168360134644342,
          0.9814803943472554,
          0.9706379495992531,
          0.9709157806414184,
          0.9883220333569086,
          0.9820743928720381,
          0.9429644711430528,
          0.9471595573808229,
          0.9358689344534186,
          0.9263180973790672,
          0.902914505730416,
          0.9054442296275297,
          0.9001195780591342,
          0.9620839077725999,
          0.9990043001893192,
          0.9628536283493072,
          0.9596414937463539,
          0.9590177100290107,
          0.9636572264816279,
          0.9998770399011571,
          0.9925304019394674,
          0.9973880160486096,
          0.9566220027288728,
          0.9950084599004895,
          0.9993136062530232,
          0.9808794985362729,
          0.9864348224104714,
          0.9898279422857835,
          0.9881303352665641,
          0.987184605670605,
          0.9729023047997593,
          0.9733182204774506,
          0.9721749457986776,
          0.9767814082218165,
          0.9755931933608709,
          0.993009493687004,
          0.9933352367035166
         ],
         "xaxis": "x3",
         "y": [
          0,
          275.64227294921875,
          0,
          638.969482421875,
          -141.3394317626953,
          367.1158447265625,
          379.8658447265625,
          128.89024353027344,
          0,
          648.0955200195312,
          0,
          -136.7093505859375,
          217.22764587402344,
          0,
          665.2073364257812,
          757.26220703125,
          -497.1666564941406,
          -220.99594116210938,
          301.9593505859375,
          -136.2418670654297,
          338.7520446777344,
          1436.554931640625,
          344.0223693847656,
          482.96746826171875,
          1118.8028564453125,
          165.93292236328125,
          481.2723693847656,
          -692.3333129882812,
          1282.5589599609375,
          119.40447235107422,
          -509.88616943359375,
          40.57520294189453,
          823.2032470703125,
          904.900390625,
          -538.5365600585938,
          -48.43089294433594,
          -246.21340942382812,
          0,
          183.10772705078125,
          -819.7235717773438
         ],
         "yaxis": "y3"
        },
        {
         "marker": {
          "color": [
           0,
           1,
           2,
           3,
           4,
           5,
           6,
           7,
           8,
           9,
           10,
           11,
           12,
           13,
           14,
           15,
           16,
           17,
           18,
           19,
           20,
           21,
           22,
           23,
           24,
           25,
           26,
           27,
           28,
           29,
           30,
           31,
           32,
           33,
           34,
           35,
           36,
           37,
           38,
           39
          ],
          "colorbar": {
           "title": {
            "text": "#Trials"
           },
           "x": 1,
           "xpad": 40
          },
          "colorscale": [
           [
            0,
            "rgb(247,251,255)"
           ],
           [
            0.125,
            "rgb(222,235,247)"
           ],
           [
            0.25,
            "rgb(198,219,239)"
           ],
           [
            0.375,
            "rgb(158,202,225)"
           ],
           [
            0.5,
            "rgb(107,174,214)"
           ],
           [
            0.625,
            "rgb(66,146,198)"
           ],
           [
            0.75,
            "rgb(33,113,181)"
           ],
           [
            0.875,
            "rgb(8,81,156)"
           ],
           [
            1,
            "rgb(8,48,107)"
           ]
          ],
          "line": {
           "color": "Grey",
           "width": 0.5
          },
          "showscale": false
         },
         "mode": "markers",
         "showlegend": false,
         "type": "scatter",
         "x": [
          0.8494661508490573,
          0.9805056192794488,
          0.9064882768879099,
          0.8523676259279229,
          0.8539409452631086,
          0.8688293480224808,
          0.8425067991196611,
          0.805615738764395,
          0.952498796320262,
          0.8875020130033877,
          0.999684307371634,
          0.9028480928986126,
          0.8553340873203276,
          0.8067661313398725,
          0.9202009567520469,
          0.9250809284758378,
          0.9208262592035342,
          0.9164721516705855,
          0.8853865632440453,
          0.8870171245136909,
          0.9467548627401816,
          0.9491466484299607,
          0.9471965663786241,
          0.9455870756394181,
          0.9474030260325156,
          0.826262936361579,
          0.8287690234967161,
          0.9218893823800446,
          0.9239408008933387,
          0.9228754112961082,
          0.9256453077729822,
          0.9267417869260236,
          0.9646522048702546,
          0.9620765221006573,
          0.9080380651931659,
          0.972004300693007,
          0.9099895716858065,
          0.909856403043053,
          0.9334358470292713,
          0.9361961631390628
         ],
         "xaxis": "x4",
         "y": [
          0,
          275.64227294921875,
          0,
          638.969482421875,
          -141.3394317626953,
          367.1158447265625,
          379.8658447265625,
          128.89024353027344,
          0,
          648.0955200195312,
          0,
          -136.7093505859375,
          217.22764587402344,
          0,
          665.2073364257812,
          757.26220703125,
          -497.1666564941406,
          -220.99594116210938,
          301.9593505859375,
          -136.2418670654297,
          338.7520446777344,
          1436.554931640625,
          344.0223693847656,
          482.96746826171875,
          1118.8028564453125,
          165.93292236328125,
          481.2723693847656,
          -692.3333129882812,
          1282.5589599609375,
          119.40447235107422,
          -509.88616943359375,
          40.57520294189453,
          823.2032470703125,
          904.900390625,
          -538.5365600585938,
          -48.43089294433594,
          -246.21340942382812,
          0,
          183.10772705078125,
          -819.7235717773438
         ],
         "yaxis": "y4"
        },
        {
         "marker": {
          "color": [
           0,
           1,
           2,
           3,
           4,
           5,
           6,
           7,
           8,
           9,
           10,
           11,
           12,
           13,
           14,
           15,
           16,
           17,
           18,
           19,
           20,
           21,
           22,
           23,
           24,
           25,
           26,
           27,
           28,
           29,
           30,
           31,
           32,
           33,
           34,
           35,
           36,
           37,
           38,
           39
          ],
          "colorbar": {
           "title": {
            "text": "#Trials"
           },
           "x": 1,
           "xpad": 40
          },
          "colorscale": [
           [
            0,
            "rgb(247,251,255)"
           ],
           [
            0.125,
            "rgb(222,235,247)"
           ],
           [
            0.25,
            "rgb(198,219,239)"
           ],
           [
            0.375,
            "rgb(158,202,225)"
           ],
           [
            0.5,
            "rgb(107,174,214)"
           ],
           [
            0.625,
            "rgb(66,146,198)"
           ],
           [
            0.75,
            "rgb(33,113,181)"
           ],
           [
            0.875,
            "rgb(8,81,156)"
           ],
           [
            1,
            "rgb(8,48,107)"
           ]
          ],
          "line": {
           "color": "Grey",
           "width": 0.5
          },
          "showscale": false
         },
         "mode": "markers",
         "showlegend": false,
         "type": "scatter",
         "x": [
          0.311224926591692,
          0.0030813257144308866,
          0.29047220081481995,
          1.5597484621360782e-05,
          1.4307360016087795e-05,
          0.011658050227573286,
          2.5609993053446354e-05,
          0.006601904749629131,
          0.015462408563055002,
          0.010906413952826198,
          0.04385456425423874,
          5.638769181711516e-05,
          0.0011586151752640654,
          0.8501161824868974,
          0.00038365273387509666,
          0.00019247400640566616,
          0.0002639016815421499,
          0.00012827306491580215,
          5.9894556949762906e-05,
          0.00010592953693899043,
          0.0001096893335924526,
          0.00012631553559658106,
          0.0008163221539382422,
          0.0005484339591362699,
          1.084662973169164e-05,
          1.0660765186403299e-05,
          1.1513190705219853e-05,
          1.534771542282059e-05,
          3.368054900510962e-05,
          4.211031200337104e-05,
          3.5917409163373615e-05,
          4.5413679844992903e-05,
          0.0002565512236981803,
          0.0002550265515543829,
          0.0002711632195122507,
          0.00025487902024557714,
          0.0017348234390892375,
          0.0024394789335033477,
          0.0015315121049265844,
          2.0429228294860593e-05
         ],
         "xaxis": "x5",
         "y": [
          0,
          275.64227294921875,
          0,
          638.969482421875,
          -141.3394317626953,
          367.1158447265625,
          379.8658447265625,
          128.89024353027344,
          0,
          648.0955200195312,
          0,
          -136.7093505859375,
          217.22764587402344,
          0,
          665.2073364257812,
          757.26220703125,
          -497.1666564941406,
          -220.99594116210938,
          301.9593505859375,
          -136.2418670654297,
          338.7520446777344,
          1436.554931640625,
          344.0223693847656,
          482.96746826171875,
          1118.8028564453125,
          165.93292236328125,
          481.2723693847656,
          -692.3333129882812,
          1282.5589599609375,
          119.40447235107422,
          -509.88616943359375,
          40.57520294189453,
          823.2032470703125,
          904.900390625,
          -538.5365600585938,
          -48.43089294433594,
          -246.21340942382812,
          0,
          183.10772705078125,
          -819.7235717773438
         ],
         "yaxis": "y5"
        },
        {
         "marker": {
          "color": [
           0,
           1,
           2,
           3,
           4,
           5,
           6,
           7,
           8,
           9,
           10,
           11,
           12,
           13,
           14,
           15,
           16,
           17,
           18,
           19,
           20,
           21,
           22,
           23,
           24,
           25,
           26,
           27,
           28,
           29,
           30,
           31,
           32,
           33,
           34,
           35,
           36,
           37,
           38,
           39
          ],
          "colorbar": {
           "title": {
            "text": "#Trials"
           },
           "x": 1,
           "xpad": 40
          },
          "colorscale": [
           [
            0,
            "rgb(247,251,255)"
           ],
           [
            0.125,
            "rgb(222,235,247)"
           ],
           [
            0.25,
            "rgb(198,219,239)"
           ],
           [
            0.375,
            "rgb(158,202,225)"
           ],
           [
            0.5,
            "rgb(107,174,214)"
           ],
           [
            0.625,
            "rgb(66,146,198)"
           ],
           [
            0.75,
            "rgb(33,113,181)"
           ],
           [
            0.875,
            "rgb(8,81,156)"
           ],
           [
            1,
            "rgb(8,48,107)"
           ]
          ],
          "line": {
           "color": "Grey",
           "width": 0.5
          },
          "showscale": false
         },
         "mode": "markers",
         "showlegend": false,
         "type": "scatter",
         "x": [
          105.53339662629706,
          26.45964920429414,
          49.14833078198954,
          100.85856027911528,
          1459.215066525728,
          279.67655543734776,
          1032.168994401,
          81.15765809740203,
          73.40889190167941,
          146.83094640937037,
          60.244971013834565,
          520.9094737301966,
          515.1557483133948,
          394.8168612441766,
          393.80293247020035,
          362.2459070351021,
          1849.8943968745587,
          1999.5635266954837,
          1985.0484296319198,
          1823.3917343932776,
          1747.1329132231456,
          2029.6461808522065,
          896.4355117592615,
          909.0204307760237,
          1106.5120492847723,
          1285.886677658792,
          1226.254573697588,
          1182.9080899069302,
          1311.788883746293,
          669.9027686737286,
          696.8541284070462,
          716.7240939795637,
          664.6147220444706,
          232.77787744372776,
          1492.622446895404,
          746.6390018115411,
          1480.7345686726924,
          20.76120006206605,
          1497.0286290443435,
          1500.3809700861657
         ],
         "xaxis": "x6",
         "y": [
          0,
          275.64227294921875,
          0,
          638.969482421875,
          -141.3394317626953,
          367.1158447265625,
          379.8658447265625,
          128.89024353027344,
          0,
          648.0955200195312,
          0,
          -136.7093505859375,
          217.22764587402344,
          0,
          665.2073364257812,
          757.26220703125,
          -497.1666564941406,
          -220.99594116210938,
          301.9593505859375,
          -136.2418670654297,
          338.7520446777344,
          1436.554931640625,
          344.0223693847656,
          482.96746826171875,
          1118.8028564453125,
          165.93292236328125,
          481.2723693847656,
          -692.3333129882812,
          1282.5589599609375,
          119.40447235107422,
          -509.88616943359375,
          40.57520294189453,
          823.2032470703125,
          904.900390625,
          -538.5365600585938,
          -48.43089294433594,
          -246.21340942382812,
          0,
          183.10772705078125,
          -819.7235717773438
         ],
         "yaxis": "y6"
        },
        {
         "marker": {
          "color": [
           0,
           1,
           2,
           3,
           4,
           5,
           6,
           7,
           8,
           9,
           10,
           11,
           12,
           13,
           14,
           15,
           16,
           17,
           18,
           19,
           20,
           21,
           22,
           23,
           24,
           25,
           26,
           27,
           28,
           29,
           30,
           31,
           32,
           33,
           34,
           35,
           36,
           37,
           38,
           39
          ],
          "colorbar": {
           "title": {
            "text": "#Trials"
           },
           "x": 1,
           "xpad": 40
          },
          "colorscale": [
           [
            0,
            "rgb(247,251,255)"
           ],
           [
            0.125,
            "rgb(222,235,247)"
           ],
           [
            0.25,
            "rgb(198,219,239)"
           ],
           [
            0.375,
            "rgb(158,202,225)"
           ],
           [
            0.5,
            "rgb(107,174,214)"
           ],
           [
            0.625,
            "rgb(66,146,198)"
           ],
           [
            0.75,
            "rgb(33,113,181)"
           ],
           [
            0.875,
            "rgb(8,81,156)"
           ],
           [
            1,
            "rgb(8,48,107)"
           ]
          ],
          "line": {
           "color": "Grey",
           "width": 0.5
          },
          "showscale": false
         },
         "mode": "markers",
         "showlegend": false,
         "type": "scatter",
         "x": [
          11.519866526748816,
          7.997326512272801,
          3.551938924623743,
          23.80228178828194,
          1.5968092749510807,
          5.144494298550704,
          1.191919688549935,
          9.588671575222776,
          19.654896567066984,
          30.52060080024287,
          34.36490022535878,
          31.88614541261089,
          5.669576296114834,
          2.608957680918522,
          13.33104944848599,
          13.646423649810792,
          14.041886681978047,
          1.005841795171012,
          1.0740193626434074,
          1.4692085781342015,
          1.0095682385016438,
          2.168086130271857,
          2.8174536622049318,
          2.8637214694161504,
          2.140293943943124,
          1.642826817283996,
          1.9232442721262832,
          1.7497774468232676,
          1.6737342242655577,
          4.238222047234507,
          45.43678759505608,
          4.69787351627958,
          18.573466143679116,
          15.60724713544668,
          1.4111323009452104,
          44.173971391231035,
          7.696232501706629,
          46.792423310587544,
          7.2424670124491035,
          8.41902312546633
         ],
         "xaxis": "x7",
         "y": [
          0,
          275.64227294921875,
          0,
          638.969482421875,
          -141.3394317626953,
          367.1158447265625,
          379.8658447265625,
          128.89024353027344,
          0,
          648.0955200195312,
          0,
          -136.7093505859375,
          217.22764587402344,
          0,
          665.2073364257812,
          757.26220703125,
          -497.1666564941406,
          -220.99594116210938,
          301.9593505859375,
          -136.2418670654297,
          338.7520446777344,
          1436.554931640625,
          344.0223693847656,
          482.96746826171875,
          1118.8028564453125,
          165.93292236328125,
          481.2723693847656,
          -692.3333129882812,
          1282.5589599609375,
          119.40447235107422,
          -509.88616943359375,
          40.57520294189453,
          823.2032470703125,
          904.900390625,
          -538.5365600585938,
          -48.43089294433594,
          -246.21340942382812,
          0,
          183.10772705078125,
          -819.7235717773438
         ],
         "yaxis": "y7"
        }
       ],
       "layout": {
        "template": {
         "data": {
          "bar": [
           {
            "error_x": {
             "color": "#2a3f5f"
            },
            "error_y": {
             "color": "#2a3f5f"
            },
            "marker": {
             "line": {
              "color": "#E5ECF6",
              "width": 0.5
             },
             "pattern": {
              "fillmode": "overlay",
              "size": 10,
              "solidity": 0.2
             }
            },
            "type": "bar"
           }
          ],
          "barpolar": [
           {
            "marker": {
             "line": {
              "color": "#E5ECF6",
              "width": 0.5
             },
             "pattern": {
              "fillmode": "overlay",
              "size": 10,
              "solidity": 0.2
             }
            },
            "type": "barpolar"
           }
          ],
          "carpet": [
           {
            "aaxis": {
             "endlinecolor": "#2a3f5f",
             "gridcolor": "white",
             "linecolor": "white",
             "minorgridcolor": "white",
             "startlinecolor": "#2a3f5f"
            },
            "baxis": {
             "endlinecolor": "#2a3f5f",
             "gridcolor": "white",
             "linecolor": "white",
             "minorgridcolor": "white",
             "startlinecolor": "#2a3f5f"
            },
            "type": "carpet"
           }
          ],
          "choropleth": [
           {
            "colorbar": {
             "outlinewidth": 0,
             "ticks": ""
            },
            "type": "choropleth"
           }
          ],
          "contour": [
           {
            "colorbar": {
             "outlinewidth": 0,
             "ticks": ""
            },
            "colorscale": [
             [
              0,
              "#0d0887"
             ],
             [
              0.1111111111111111,
              "#46039f"
             ],
             [
              0.2222222222222222,
              "#7201a8"
             ],
             [
              0.3333333333333333,
              "#9c179e"
             ],
             [
              0.4444444444444444,
              "#bd3786"
             ],
             [
              0.5555555555555556,
              "#d8576b"
             ],
             [
              0.6666666666666666,
              "#ed7953"
             ],
             [
              0.7777777777777778,
              "#fb9f3a"
             ],
             [
              0.8888888888888888,
              "#fdca26"
             ],
             [
              1,
              "#f0f921"
             ]
            ],
            "type": "contour"
           }
          ],
          "contourcarpet": [
           {
            "colorbar": {
             "outlinewidth": 0,
             "ticks": ""
            },
            "type": "contourcarpet"
           }
          ],
          "heatmap": [
           {
            "colorbar": {
             "outlinewidth": 0,
             "ticks": ""
            },
            "colorscale": [
             [
              0,
              "#0d0887"
             ],
             [
              0.1111111111111111,
              "#46039f"
             ],
             [
              0.2222222222222222,
              "#7201a8"
             ],
             [
              0.3333333333333333,
              "#9c179e"
             ],
             [
              0.4444444444444444,
              "#bd3786"
             ],
             [
              0.5555555555555556,
              "#d8576b"
             ],
             [
              0.6666666666666666,
              "#ed7953"
             ],
             [
              0.7777777777777778,
              "#fb9f3a"
             ],
             [
              0.8888888888888888,
              "#fdca26"
             ],
             [
              1,
              "#f0f921"
             ]
            ],
            "type": "heatmap"
           }
          ],
          "heatmapgl": [
           {
            "colorbar": {
             "outlinewidth": 0,
             "ticks": ""
            },
            "colorscale": [
             [
              0,
              "#0d0887"
             ],
             [
              0.1111111111111111,
              "#46039f"
             ],
             [
              0.2222222222222222,
              "#7201a8"
             ],
             [
              0.3333333333333333,
              "#9c179e"
             ],
             [
              0.4444444444444444,
              "#bd3786"
             ],
             [
              0.5555555555555556,
              "#d8576b"
             ],
             [
              0.6666666666666666,
              "#ed7953"
             ],
             [
              0.7777777777777778,
              "#fb9f3a"
             ],
             [
              0.8888888888888888,
              "#fdca26"
             ],
             [
              1,
              "#f0f921"
             ]
            ],
            "type": "heatmapgl"
           }
          ],
          "histogram": [
           {
            "marker": {
             "pattern": {
              "fillmode": "overlay",
              "size": 10,
              "solidity": 0.2
             }
            },
            "type": "histogram"
           }
          ],
          "histogram2d": [
           {
            "colorbar": {
             "outlinewidth": 0,
             "ticks": ""
            },
            "colorscale": [
             [
              0,
              "#0d0887"
             ],
             [
              0.1111111111111111,
              "#46039f"
             ],
             [
              0.2222222222222222,
              "#7201a8"
             ],
             [
              0.3333333333333333,
              "#9c179e"
             ],
             [
              0.4444444444444444,
              "#bd3786"
             ],
             [
              0.5555555555555556,
              "#d8576b"
             ],
             [
              0.6666666666666666,
              "#ed7953"
             ],
             [
              0.7777777777777778,
              "#fb9f3a"
             ],
             [
              0.8888888888888888,
              "#fdca26"
             ],
             [
              1,
              "#f0f921"
             ]
            ],
            "type": "histogram2d"
           }
          ],
          "histogram2dcontour": [
           {
            "colorbar": {
             "outlinewidth": 0,
             "ticks": ""
            },
            "colorscale": [
             [
              0,
              "#0d0887"
             ],
             [
              0.1111111111111111,
              "#46039f"
             ],
             [
              0.2222222222222222,
              "#7201a8"
             ],
             [
              0.3333333333333333,
              "#9c179e"
             ],
             [
              0.4444444444444444,
              "#bd3786"
             ],
             [
              0.5555555555555556,
              "#d8576b"
             ],
             [
              0.6666666666666666,
              "#ed7953"
             ],
             [
              0.7777777777777778,
              "#fb9f3a"
             ],
             [
              0.8888888888888888,
              "#fdca26"
             ],
             [
              1,
              "#f0f921"
             ]
            ],
            "type": "histogram2dcontour"
           }
          ],
          "mesh3d": [
           {
            "colorbar": {
             "outlinewidth": 0,
             "ticks": ""
            },
            "type": "mesh3d"
           }
          ],
          "parcoords": [
           {
            "line": {
             "colorbar": {
              "outlinewidth": 0,
              "ticks": ""
             }
            },
            "type": "parcoords"
           }
          ],
          "pie": [
           {
            "automargin": true,
            "type": "pie"
           }
          ],
          "scatter": [
           {
            "marker": {
             "colorbar": {
              "outlinewidth": 0,
              "ticks": ""
             }
            },
            "type": "scatter"
           }
          ],
          "scatter3d": [
           {
            "line": {
             "colorbar": {
              "outlinewidth": 0,
              "ticks": ""
             }
            },
            "marker": {
             "colorbar": {
              "outlinewidth": 0,
              "ticks": ""
             }
            },
            "type": "scatter3d"
           }
          ],
          "scattercarpet": [
           {
            "marker": {
             "colorbar": {
              "outlinewidth": 0,
              "ticks": ""
             }
            },
            "type": "scattercarpet"
           }
          ],
          "scattergeo": [
           {
            "marker": {
             "colorbar": {
              "outlinewidth": 0,
              "ticks": ""
             }
            },
            "type": "scattergeo"
           }
          ],
          "scattergl": [
           {
            "marker": {
             "colorbar": {
              "outlinewidth": 0,
              "ticks": ""
             }
            },
            "type": "scattergl"
           }
          ],
          "scattermapbox": [
           {
            "marker": {
             "colorbar": {
              "outlinewidth": 0,
              "ticks": ""
             }
            },
            "type": "scattermapbox"
           }
          ],
          "scatterpolar": [
           {
            "marker": {
             "colorbar": {
              "outlinewidth": 0,
              "ticks": ""
             }
            },
            "type": "scatterpolar"
           }
          ],
          "scatterpolargl": [
           {
            "marker": {
             "colorbar": {
              "outlinewidth": 0,
              "ticks": ""
             }
            },
            "type": "scatterpolargl"
           }
          ],
          "scatterternary": [
           {
            "marker": {
             "colorbar": {
              "outlinewidth": 0,
              "ticks": ""
             }
            },
            "type": "scatterternary"
           }
          ],
          "surface": [
           {
            "colorbar": {
             "outlinewidth": 0,
             "ticks": ""
            },
            "colorscale": [
             [
              0,
              "#0d0887"
             ],
             [
              0.1111111111111111,
              "#46039f"
             ],
             [
              0.2222222222222222,
              "#7201a8"
             ],
             [
              0.3333333333333333,
              "#9c179e"
             ],
             [
              0.4444444444444444,
              "#bd3786"
             ],
             [
              0.5555555555555556,
              "#d8576b"
             ],
             [
              0.6666666666666666,
              "#ed7953"
             ],
             [
              0.7777777777777778,
              "#fb9f3a"
             ],
             [
              0.8888888888888888,
              "#fdca26"
             ],
             [
              1,
              "#f0f921"
             ]
            ],
            "type": "surface"
           }
          ],
          "table": [
           {
            "cells": {
             "fill": {
              "color": "#EBF0F8"
             },
             "line": {
              "color": "white"
             }
            },
            "header": {
             "fill": {
              "color": "#C8D4E3"
             },
             "line": {
              "color": "white"
             }
            },
            "type": "table"
           }
          ]
         },
         "layout": {
          "annotationdefaults": {
           "arrowcolor": "#2a3f5f",
           "arrowhead": 0,
           "arrowwidth": 1
          },
          "autotypenumbers": "strict",
          "coloraxis": {
           "colorbar": {
            "outlinewidth": 0,
            "ticks": ""
           }
          },
          "colorscale": {
           "diverging": [
            [
             0,
             "#8e0152"
            ],
            [
             0.1,
             "#c51b7d"
            ],
            [
             0.2,
             "#de77ae"
            ],
            [
             0.3,
             "#f1b6da"
            ],
            [
             0.4,
             "#fde0ef"
            ],
            [
             0.5,
             "#f7f7f7"
            ],
            [
             0.6,
             "#e6f5d0"
            ],
            [
             0.7,
             "#b8e186"
            ],
            [
             0.8,
             "#7fbc41"
            ],
            [
             0.9,
             "#4d9221"
            ],
            [
             1,
             "#276419"
            ]
           ],
           "sequential": [
            [
             0,
             "#0d0887"
            ],
            [
             0.1111111111111111,
             "#46039f"
            ],
            [
             0.2222222222222222,
             "#7201a8"
            ],
            [
             0.3333333333333333,
             "#9c179e"
            ],
            [
             0.4444444444444444,
             "#bd3786"
            ],
            [
             0.5555555555555556,
             "#d8576b"
            ],
            [
             0.6666666666666666,
             "#ed7953"
            ],
            [
             0.7777777777777778,
             "#fb9f3a"
            ],
            [
             0.8888888888888888,
             "#fdca26"
            ],
            [
             1,
             "#f0f921"
            ]
           ],
           "sequentialminus": [
            [
             0,
             "#0d0887"
            ],
            [
             0.1111111111111111,
             "#46039f"
            ],
            [
             0.2222222222222222,
             "#7201a8"
            ],
            [
             0.3333333333333333,
             "#9c179e"
            ],
            [
             0.4444444444444444,
             "#bd3786"
            ],
            [
             0.5555555555555556,
             "#d8576b"
            ],
            [
             0.6666666666666666,
             "#ed7953"
            ],
            [
             0.7777777777777778,
             "#fb9f3a"
            ],
            [
             0.8888888888888888,
             "#fdca26"
            ],
            [
             1,
             "#f0f921"
            ]
           ]
          },
          "colorway": [
           "#636efa",
           "#EF553B",
           "#00cc96",
           "#ab63fa",
           "#FFA15A",
           "#19d3f3",
           "#FF6692",
           "#B6E880",
           "#FF97FF",
           "#FECB52"
          ],
          "font": {
           "color": "#2a3f5f"
          },
          "geo": {
           "bgcolor": "white",
           "lakecolor": "white",
           "landcolor": "#E5ECF6",
           "showlakes": true,
           "showland": true,
           "subunitcolor": "white"
          },
          "hoverlabel": {
           "align": "left"
          },
          "hovermode": "closest",
          "mapbox": {
           "style": "light"
          },
          "paper_bgcolor": "white",
          "plot_bgcolor": "#E5ECF6",
          "polar": {
           "angularaxis": {
            "gridcolor": "white",
            "linecolor": "white",
            "ticks": ""
           },
           "bgcolor": "#E5ECF6",
           "radialaxis": {
            "gridcolor": "white",
            "linecolor": "white",
            "ticks": ""
           }
          },
          "scene": {
           "xaxis": {
            "backgroundcolor": "#E5ECF6",
            "gridcolor": "white",
            "gridwidth": 2,
            "linecolor": "white",
            "showbackground": true,
            "ticks": "",
            "zerolinecolor": "white"
           },
           "yaxis": {
            "backgroundcolor": "#E5ECF6",
            "gridcolor": "white",
            "gridwidth": 2,
            "linecolor": "white",
            "showbackground": true,
            "ticks": "",
            "zerolinecolor": "white"
           },
           "zaxis": {
            "backgroundcolor": "#E5ECF6",
            "gridcolor": "white",
            "gridwidth": 2,
            "linecolor": "white",
            "showbackground": true,
            "ticks": "",
            "zerolinecolor": "white"
           }
          },
          "shapedefaults": {
           "line": {
            "color": "#2a3f5f"
           }
          },
          "ternary": {
           "aaxis": {
            "gridcolor": "white",
            "linecolor": "white",
            "ticks": ""
           },
           "baxis": {
            "gridcolor": "white",
            "linecolor": "white",
            "ticks": ""
           },
           "bgcolor": "#E5ECF6",
           "caxis": {
            "gridcolor": "white",
            "linecolor": "white",
            "ticks": ""
           }
          },
          "title": {
           "x": 0.05
          },
          "xaxis": {
           "automargin": true,
           "gridcolor": "white",
           "linecolor": "white",
           "ticks": "",
           "title": {
            "standoff": 15
           },
           "zerolinecolor": "white",
           "zerolinewidth": 2
          },
          "yaxis": {
           "automargin": true,
           "gridcolor": "white",
           "linecolor": "white",
           "ticks": "",
           "title": {
            "standoff": 15
           },
           "zerolinecolor": "white",
           "zerolinewidth": 2
          }
         }
        },
        "title": {
         "text": "Slice Plot"
        },
        "width": 2100,
        "xaxis": {
         "anchor": "y",
         "domain": [
          0,
          0.1183673469387755
         ],
         "title": {
          "text": "cliprange"
         }
        },
        "xaxis2": {
         "anchor": "y2",
         "domain": [
          0.14693877551020407,
          0.26530612244897955
         ],
         "title": {
          "text": "ent_coef"
         },
         "type": "log"
        },
        "xaxis3": {
         "anchor": "y3",
         "domain": [
          0.29387755102040813,
          0.4122448979591836
         ],
         "title": {
          "text": "gamma"
         },
         "type": "log"
        },
        "xaxis4": {
         "anchor": "y4",
         "domain": [
          0.4408163265306122,
          0.5591836734693877
         ],
         "title": {
          "text": "lam"
         }
        },
        "xaxis5": {
         "anchor": "y5",
         "domain": [
          0.5877551020408163,
          0.7061224489795918
         ],
         "title": {
          "text": "learning_rate"
         },
         "type": "log"
        },
        "xaxis6": {
         "anchor": "y6",
         "domain": [
          0.7346938775510204,
          0.8530612244897959
         ],
         "title": {
          "text": "n_steps"
         },
         "type": "log"
        },
        "xaxis7": {
         "anchor": "y7",
         "domain": [
          0.8816326530612244,
          0.9999999999999999
         ],
         "title": {
          "text": "noptepochs"
         },
         "type": "log"
        },
        "yaxis": {
         "anchor": "x",
         "domain": [
          0,
          1
         ],
         "title": {
          "text": "Objective Value"
         }
        },
        "yaxis2": {
         "anchor": "x2",
         "domain": [
          0,
          1
         ],
         "matches": "y",
         "showticklabels": false
        },
        "yaxis3": {
         "anchor": "x3",
         "domain": [
          0,
          1
         ],
         "matches": "y",
         "showticklabels": false
        },
        "yaxis4": {
         "anchor": "x4",
         "domain": [
          0,
          1
         ],
         "matches": "y",
         "showticklabels": false
        },
        "yaxis5": {
         "anchor": "x5",
         "domain": [
          0,
          1
         ],
         "matches": "y",
         "showticklabels": false
        },
        "yaxis6": {
         "anchor": "x6",
         "domain": [
          0,
          1
         ],
         "matches": "y",
         "showticklabels": false
        },
        "yaxis7": {
         "anchor": "x7",
         "domain": [
          0,
          1
         ],
         "matches": "y",
         "showticklabels": false
        }
       }
      },
      "text/html": [
       "<div>                            <div id=\"91451359-c897-402b-bfb6-a4d127ee0a72\" class=\"plotly-graph-div\" style=\"height:525px; width:2100px;\"></div>            <script type=\"text/javascript\">                require([\"plotly\"], function(Plotly) {                    window.PLOTLYENV=window.PLOTLYENV || {};                                    if (document.getElementById(\"91451359-c897-402b-bfb6-a4d127ee0a72\")) {                    Plotly.newPlot(                        \"91451359-c897-402b-bfb6-a4d127ee0a72\",                        [{\"marker\":{\"color\":[0,1,2,3,4,5,6,7,8,9,10,11,12,13,14,15,16,17,18,19,20,21,22,23,24,25,26,27,28,29,30,31,32,33,34,35,36,37,38,39],\"colorbar\":{\"title\":{\"text\":\"#Trials\"},\"x\":1.0,\"xpad\":40},\"colorscale\":[[0.0,\"rgb(247,251,255)\"],[0.125,\"rgb(222,235,247)\"],[0.25,\"rgb(198,219,239)\"],[0.375,\"rgb(158,202,225)\"],[0.5,\"rgb(107,174,214)\"],[0.625,\"rgb(66,146,198)\"],[0.75,\"rgb(33,113,181)\"],[0.875,\"rgb(8,81,156)\"],[1.0,\"rgb(8,48,107)\"]],\"line\":{\"color\":\"Grey\",\"width\":0.5},\"showscale\":true},\"mode\":\"markers\",\"showlegend\":false,\"type\":\"scatter\",\"x\":[0.26029298459537953,0.17019513533685288,0.1527129039097868,0.23165654659469612,0.2559841130871246,0.1771458983046133,0.35905357294461004,0.13016717017297028,0.10300043495937003,0.3105464733270371,0.18150959083267343,0.36198530866047063,0.14063757471881227,0.26616135559706183,0.3881472112742991,0.39815413444257225,0.388901904086649,0.39951736771084845,0.3194716881417127,0.3137278958788079,0.3012402786936245,0.3218861170875468,0.32919680093425213,0.35054117717349353,0.22094227349416473,0.2289202617823039,0.21479074532227793,0.21981420630291235,0.28545270798449435,0.37341744882003053,0.27716978081208204,0.28610447209999734,0.37938998589852674,0.20080922099009907,0.200206043246077,0.19575039723594684,0.3389304556066524,0.34112925467219457,0.24636113844255125,0.24124006250924698],\"xaxis\":\"x\",\"y\":[-0.0,275.64227294921875,-0.0,638.969482421875,-141.3394317626953,367.1158447265625,379.8658447265625,128.89024353027344,-0.0,648.0955200195312,-0.0,-136.7093505859375,217.22764587402344,-0.0,665.2073364257812,757.26220703125,-497.1666564941406,-220.99594116210938,301.9593505859375,-136.2418670654297,338.7520446777344,1436.554931640625,344.0223693847656,482.96746826171875,1118.8028564453125,165.93292236328125,481.2723693847656,-692.3333129882812,1282.5589599609375,119.40447235107422,-509.88616943359375,40.57520294189453,823.2032470703125,904.900390625,-538.5365600585938,-48.43089294433594,-246.21340942382812,-0.0,183.10772705078125,-819.7235717773438],\"yaxis\":\"y\"},{\"marker\":{\"color\":[0,1,2,3,4,5,6,7,8,9,10,11,12,13,14,15,16,17,18,19,20,21,22,23,24,25,26,27,28,29,30,31,32,33,34,35,36,37,38,39],\"colorbar\":{\"title\":{\"text\":\"#Trials\"},\"x\":1.0,\"xpad\":40},\"colorscale\":[[0.0,\"rgb(247,251,255)\"],[0.125,\"rgb(222,235,247)\"],[0.25,\"rgb(198,219,239)\"],[0.375,\"rgb(158,202,225)\"],[0.5,\"rgb(107,174,214)\"],[0.625,\"rgb(66,146,198)\"],[0.75,\"rgb(33,113,181)\"],[0.875,\"rgb(8,81,156)\"],[1.0,\"rgb(8,48,107)\"]],\"line\":{\"color\":\"Grey\",\"width\":0.5},\"showscale\":false},\"mode\":\"markers\",\"showlegend\":false,\"type\":\"scatter\",\"x\":[9.867655233888488e-06,0.00058395361123539,0.008321034492867743,6.832618737473495e-05,1.6060926267063032e-07,2.7428226877250564e-06,0.0001831795082998505,0.00036724235977104465,0.00017609430627055429,0.0006586537479868637,8.031061918787759e-05,5.3784220445420814e-05,0.00014049021624365097,3.700077330838408e-08,1.2460452085913954e-07,2.2002882598591114e-08,2.2682197041879914e-06,2.953934147863235e-07,8.004810617358924e-07,5.488789331448228e-07,3.323661338030736e-07,1.6677922299340595e-06,1.8344123917599674e-06,6.4644989454853215e-06,1.927617664098369e-07,1.4545707911390775e-07,1.3421004324161282e-07,9.741581466228667e-08,6.792043099298834e-08,1.2613030372037889e-08,1.5749686060739175e-08,1.0992145879590968e-08,6.078595233833064e-06,1.6743125224428963e-05,1.765524741510819e-05,1.8331703317765336e-05,4.892013224119136e-08,4.490314003313589e-08,7.233290880455673e-07,8.093090661092379e-07],\"xaxis\":\"x2\",\"y\":[-0.0,275.64227294921875,-0.0,638.969482421875,-141.3394317626953,367.1158447265625,379.8658447265625,128.89024353027344,-0.0,648.0955200195312,-0.0,-136.7093505859375,217.22764587402344,-0.0,665.2073364257812,757.26220703125,-497.1666564941406,-220.99594116210938,301.9593505859375,-136.2418670654297,338.7520446777344,1436.554931640625,344.0223693847656,482.96746826171875,1118.8028564453125,165.93292236328125,481.2723693847656,-692.3333129882812,1282.5589599609375,119.40447235107422,-509.88616943359375,40.57520294189453,823.2032470703125,904.900390625,-538.5365600585938,-48.43089294433594,-246.21340942382812,-0.0,183.10772705078125,-819.7235717773438],\"yaxis\":\"y2\"},{\"marker\":{\"color\":[0,1,2,3,4,5,6,7,8,9,10,11,12,13,14,15,16,17,18,19,20,21,22,23,24,25,26,27,28,29,30,31,32,33,34,35,36,37,38,39],\"colorbar\":{\"title\":{\"text\":\"#Trials\"},\"x\":1.0,\"xpad\":40},\"colorscale\":[[0.0,\"rgb(247,251,255)\"],[0.125,\"rgb(222,235,247)\"],[0.25,\"rgb(198,219,239)\"],[0.375,\"rgb(158,202,225)\"],[0.5,\"rgb(107,174,214)\"],[0.625,\"rgb(66,146,198)\"],[0.75,\"rgb(33,113,181)\"],[0.875,\"rgb(8,81,156)\"],[1.0,\"rgb(8,48,107)\"]],\"line\":{\"color\":\"Grey\",\"width\":0.5},\"showscale\":false},\"mode\":\"markers\",\"showlegend\":false,\"type\":\"scatter\",\"x\":[0.9793825196002992,0.9266622398623874,0.9311993662930048,0.9168360134644342,0.9814803943472554,0.9706379495992531,0.9709157806414184,0.9883220333569086,0.9820743928720381,0.9429644711430528,0.9471595573808229,0.9358689344534186,0.9263180973790672,0.902914505730416,0.9054442296275297,0.9001195780591342,0.9620839077725999,0.9990043001893192,0.9628536283493072,0.9596414937463539,0.9590177100290107,0.9636572264816279,0.9998770399011571,0.9925304019394674,0.9973880160486096,0.9566220027288728,0.9950084599004895,0.9993136062530232,0.9808794985362729,0.9864348224104714,0.9898279422857835,0.9881303352665641,0.987184605670605,0.9729023047997593,0.9733182204774506,0.9721749457986776,0.9767814082218165,0.9755931933608709,0.993009493687004,0.9933352367035166],\"xaxis\":\"x3\",\"y\":[-0.0,275.64227294921875,-0.0,638.969482421875,-141.3394317626953,367.1158447265625,379.8658447265625,128.89024353027344,-0.0,648.0955200195312,-0.0,-136.7093505859375,217.22764587402344,-0.0,665.2073364257812,757.26220703125,-497.1666564941406,-220.99594116210938,301.9593505859375,-136.2418670654297,338.7520446777344,1436.554931640625,344.0223693847656,482.96746826171875,1118.8028564453125,165.93292236328125,481.2723693847656,-692.3333129882812,1282.5589599609375,119.40447235107422,-509.88616943359375,40.57520294189453,823.2032470703125,904.900390625,-538.5365600585938,-48.43089294433594,-246.21340942382812,-0.0,183.10772705078125,-819.7235717773438],\"yaxis\":\"y3\"},{\"marker\":{\"color\":[0,1,2,3,4,5,6,7,8,9,10,11,12,13,14,15,16,17,18,19,20,21,22,23,24,25,26,27,28,29,30,31,32,33,34,35,36,37,38,39],\"colorbar\":{\"title\":{\"text\":\"#Trials\"},\"x\":1.0,\"xpad\":40},\"colorscale\":[[0.0,\"rgb(247,251,255)\"],[0.125,\"rgb(222,235,247)\"],[0.25,\"rgb(198,219,239)\"],[0.375,\"rgb(158,202,225)\"],[0.5,\"rgb(107,174,214)\"],[0.625,\"rgb(66,146,198)\"],[0.75,\"rgb(33,113,181)\"],[0.875,\"rgb(8,81,156)\"],[1.0,\"rgb(8,48,107)\"]],\"line\":{\"color\":\"Grey\",\"width\":0.5},\"showscale\":false},\"mode\":\"markers\",\"showlegend\":false,\"type\":\"scatter\",\"x\":[0.8494661508490573,0.9805056192794488,0.9064882768879099,0.8523676259279229,0.8539409452631086,0.8688293480224808,0.8425067991196611,0.805615738764395,0.952498796320262,0.8875020130033877,0.999684307371634,0.9028480928986126,0.8553340873203276,0.8067661313398725,0.9202009567520469,0.9250809284758378,0.9208262592035342,0.9164721516705855,0.8853865632440453,0.8870171245136909,0.9467548627401816,0.9491466484299607,0.9471965663786241,0.9455870756394181,0.9474030260325156,0.826262936361579,0.8287690234967161,0.9218893823800446,0.9239408008933387,0.9228754112961082,0.9256453077729822,0.9267417869260236,0.9646522048702546,0.9620765221006573,0.9080380651931659,0.972004300693007,0.9099895716858065,0.909856403043053,0.9334358470292713,0.9361961631390628],\"xaxis\":\"x4\",\"y\":[-0.0,275.64227294921875,-0.0,638.969482421875,-141.3394317626953,367.1158447265625,379.8658447265625,128.89024353027344,-0.0,648.0955200195312,-0.0,-136.7093505859375,217.22764587402344,-0.0,665.2073364257812,757.26220703125,-497.1666564941406,-220.99594116210938,301.9593505859375,-136.2418670654297,338.7520446777344,1436.554931640625,344.0223693847656,482.96746826171875,1118.8028564453125,165.93292236328125,481.2723693847656,-692.3333129882812,1282.5589599609375,119.40447235107422,-509.88616943359375,40.57520294189453,823.2032470703125,904.900390625,-538.5365600585938,-48.43089294433594,-246.21340942382812,-0.0,183.10772705078125,-819.7235717773438],\"yaxis\":\"y4\"},{\"marker\":{\"color\":[0,1,2,3,4,5,6,7,8,9,10,11,12,13,14,15,16,17,18,19,20,21,22,23,24,25,26,27,28,29,30,31,32,33,34,35,36,37,38,39],\"colorbar\":{\"title\":{\"text\":\"#Trials\"},\"x\":1.0,\"xpad\":40},\"colorscale\":[[0.0,\"rgb(247,251,255)\"],[0.125,\"rgb(222,235,247)\"],[0.25,\"rgb(198,219,239)\"],[0.375,\"rgb(158,202,225)\"],[0.5,\"rgb(107,174,214)\"],[0.625,\"rgb(66,146,198)\"],[0.75,\"rgb(33,113,181)\"],[0.875,\"rgb(8,81,156)\"],[1.0,\"rgb(8,48,107)\"]],\"line\":{\"color\":\"Grey\",\"width\":0.5},\"showscale\":false},\"mode\":\"markers\",\"showlegend\":false,\"type\":\"scatter\",\"x\":[0.311224926591692,0.0030813257144308866,0.29047220081481995,1.5597484621360782e-05,1.4307360016087795e-05,0.011658050227573286,2.5609993053446354e-05,0.006601904749629131,0.015462408563055002,0.010906413952826198,0.04385456425423874,5.638769181711516e-05,0.0011586151752640654,0.8501161824868974,0.00038365273387509666,0.00019247400640566616,0.0002639016815421499,0.00012827306491580215,5.9894556949762906e-05,0.00010592953693899043,0.0001096893335924526,0.00012631553559658106,0.0008163221539382422,0.0005484339591362699,1.084662973169164e-05,1.0660765186403299e-05,1.1513190705219853e-05,1.534771542282059e-05,3.368054900510962e-05,4.211031200337104e-05,3.5917409163373615e-05,4.5413679844992903e-05,0.0002565512236981803,0.0002550265515543829,0.0002711632195122507,0.00025487902024557714,0.0017348234390892375,0.0024394789335033477,0.0015315121049265844,2.0429228294860593e-05],\"xaxis\":\"x5\",\"y\":[-0.0,275.64227294921875,-0.0,638.969482421875,-141.3394317626953,367.1158447265625,379.8658447265625,128.89024353027344,-0.0,648.0955200195312,-0.0,-136.7093505859375,217.22764587402344,-0.0,665.2073364257812,757.26220703125,-497.1666564941406,-220.99594116210938,301.9593505859375,-136.2418670654297,338.7520446777344,1436.554931640625,344.0223693847656,482.96746826171875,1118.8028564453125,165.93292236328125,481.2723693847656,-692.3333129882812,1282.5589599609375,119.40447235107422,-509.88616943359375,40.57520294189453,823.2032470703125,904.900390625,-538.5365600585938,-48.43089294433594,-246.21340942382812,-0.0,183.10772705078125,-819.7235717773438],\"yaxis\":\"y5\"},{\"marker\":{\"color\":[0,1,2,3,4,5,6,7,8,9,10,11,12,13,14,15,16,17,18,19,20,21,22,23,24,25,26,27,28,29,30,31,32,33,34,35,36,37,38,39],\"colorbar\":{\"title\":{\"text\":\"#Trials\"},\"x\":1.0,\"xpad\":40},\"colorscale\":[[0.0,\"rgb(247,251,255)\"],[0.125,\"rgb(222,235,247)\"],[0.25,\"rgb(198,219,239)\"],[0.375,\"rgb(158,202,225)\"],[0.5,\"rgb(107,174,214)\"],[0.625,\"rgb(66,146,198)\"],[0.75,\"rgb(33,113,181)\"],[0.875,\"rgb(8,81,156)\"],[1.0,\"rgb(8,48,107)\"]],\"line\":{\"color\":\"Grey\",\"width\":0.5},\"showscale\":false},\"mode\":\"markers\",\"showlegend\":false,\"type\":\"scatter\",\"x\":[105.53339662629706,26.45964920429414,49.14833078198954,100.85856027911528,1459.215066525728,279.67655543734776,1032.168994401,81.15765809740203,73.40889190167941,146.83094640937037,60.244971013834565,520.9094737301966,515.1557483133948,394.8168612441766,393.80293247020035,362.2459070351021,1849.8943968745587,1999.5635266954837,1985.0484296319198,1823.3917343932776,1747.1329132231456,2029.6461808522065,896.4355117592615,909.0204307760237,1106.5120492847723,1285.886677658792,1226.254573697588,1182.9080899069302,1311.788883746293,669.9027686737286,696.8541284070462,716.7240939795637,664.6147220444706,232.77787744372776,1492.622446895404,746.6390018115411,1480.7345686726924,20.76120006206605,1497.0286290443435,1500.3809700861657],\"xaxis\":\"x6\",\"y\":[-0.0,275.64227294921875,-0.0,638.969482421875,-141.3394317626953,367.1158447265625,379.8658447265625,128.89024353027344,-0.0,648.0955200195312,-0.0,-136.7093505859375,217.22764587402344,-0.0,665.2073364257812,757.26220703125,-497.1666564941406,-220.99594116210938,301.9593505859375,-136.2418670654297,338.7520446777344,1436.554931640625,344.0223693847656,482.96746826171875,1118.8028564453125,165.93292236328125,481.2723693847656,-692.3333129882812,1282.5589599609375,119.40447235107422,-509.88616943359375,40.57520294189453,823.2032470703125,904.900390625,-538.5365600585938,-48.43089294433594,-246.21340942382812,-0.0,183.10772705078125,-819.7235717773438],\"yaxis\":\"y6\"},{\"marker\":{\"color\":[0,1,2,3,4,5,6,7,8,9,10,11,12,13,14,15,16,17,18,19,20,21,22,23,24,25,26,27,28,29,30,31,32,33,34,35,36,37,38,39],\"colorbar\":{\"title\":{\"text\":\"#Trials\"},\"x\":1.0,\"xpad\":40},\"colorscale\":[[0.0,\"rgb(247,251,255)\"],[0.125,\"rgb(222,235,247)\"],[0.25,\"rgb(198,219,239)\"],[0.375,\"rgb(158,202,225)\"],[0.5,\"rgb(107,174,214)\"],[0.625,\"rgb(66,146,198)\"],[0.75,\"rgb(33,113,181)\"],[0.875,\"rgb(8,81,156)\"],[1.0,\"rgb(8,48,107)\"]],\"line\":{\"color\":\"Grey\",\"width\":0.5},\"showscale\":false},\"mode\":\"markers\",\"showlegend\":false,\"type\":\"scatter\",\"x\":[11.519866526748816,7.997326512272801,3.551938924623743,23.80228178828194,1.5968092749510807,5.144494298550704,1.191919688549935,9.588671575222776,19.654896567066984,30.52060080024287,34.36490022535878,31.88614541261089,5.669576296114834,2.608957680918522,13.33104944848599,13.646423649810792,14.041886681978047,1.005841795171012,1.0740193626434074,1.4692085781342015,1.0095682385016438,2.168086130271857,2.8174536622049318,2.8637214694161504,2.140293943943124,1.642826817283996,1.9232442721262832,1.7497774468232676,1.6737342242655577,4.238222047234507,45.43678759505608,4.69787351627958,18.573466143679116,15.60724713544668,1.4111323009452104,44.173971391231035,7.696232501706629,46.792423310587544,7.2424670124491035,8.41902312546633],\"xaxis\":\"x7\",\"y\":[-0.0,275.64227294921875,-0.0,638.969482421875,-141.3394317626953,367.1158447265625,379.8658447265625,128.89024353027344,-0.0,648.0955200195312,-0.0,-136.7093505859375,217.22764587402344,-0.0,665.2073364257812,757.26220703125,-497.1666564941406,-220.99594116210938,301.9593505859375,-136.2418670654297,338.7520446777344,1436.554931640625,344.0223693847656,482.96746826171875,1118.8028564453125,165.93292236328125,481.2723693847656,-692.3333129882812,1282.5589599609375,119.40447235107422,-509.88616943359375,40.57520294189453,823.2032470703125,904.900390625,-538.5365600585938,-48.43089294433594,-246.21340942382812,-0.0,183.10772705078125,-819.7235717773438],\"yaxis\":\"y7\"}],                        {\"template\":{\"data\":{\"bar\":[{\"error_x\":{\"color\":\"#2a3f5f\"},\"error_y\":{\"color\":\"#2a3f5f\"},\"marker\":{\"line\":{\"color\":\"#E5ECF6\",\"width\":0.5},\"pattern\":{\"fillmode\":\"overlay\",\"size\":10,\"solidity\":0.2}},\"type\":\"bar\"}],\"barpolar\":[{\"marker\":{\"line\":{\"color\":\"#E5ECF6\",\"width\":0.5},\"pattern\":{\"fillmode\":\"overlay\",\"size\":10,\"solidity\":0.2}},\"type\":\"barpolar\"}],\"carpet\":[{\"aaxis\":{\"endlinecolor\":\"#2a3f5f\",\"gridcolor\":\"white\",\"linecolor\":\"white\",\"minorgridcolor\":\"white\",\"startlinecolor\":\"#2a3f5f\"},\"baxis\":{\"endlinecolor\":\"#2a3f5f\",\"gridcolor\":\"white\",\"linecolor\":\"white\",\"minorgridcolor\":\"white\",\"startlinecolor\":\"#2a3f5f\"},\"type\":\"carpet\"}],\"choropleth\":[{\"colorbar\":{\"outlinewidth\":0,\"ticks\":\"\"},\"type\":\"choropleth\"}],\"contour\":[{\"colorbar\":{\"outlinewidth\":0,\"ticks\":\"\"},\"colorscale\":[[0.0,\"#0d0887\"],[0.1111111111111111,\"#46039f\"],[0.2222222222222222,\"#7201a8\"],[0.3333333333333333,\"#9c179e\"],[0.4444444444444444,\"#bd3786\"],[0.5555555555555556,\"#d8576b\"],[0.6666666666666666,\"#ed7953\"],[0.7777777777777778,\"#fb9f3a\"],[0.8888888888888888,\"#fdca26\"],[1.0,\"#f0f921\"]],\"type\":\"contour\"}],\"contourcarpet\":[{\"colorbar\":{\"outlinewidth\":0,\"ticks\":\"\"},\"type\":\"contourcarpet\"}],\"heatmap\":[{\"colorbar\":{\"outlinewidth\":0,\"ticks\":\"\"},\"colorscale\":[[0.0,\"#0d0887\"],[0.1111111111111111,\"#46039f\"],[0.2222222222222222,\"#7201a8\"],[0.3333333333333333,\"#9c179e\"],[0.4444444444444444,\"#bd3786\"],[0.5555555555555556,\"#d8576b\"],[0.6666666666666666,\"#ed7953\"],[0.7777777777777778,\"#fb9f3a\"],[0.8888888888888888,\"#fdca26\"],[1.0,\"#f0f921\"]],\"type\":\"heatmap\"}],\"heatmapgl\":[{\"colorbar\":{\"outlinewidth\":0,\"ticks\":\"\"},\"colorscale\":[[0.0,\"#0d0887\"],[0.1111111111111111,\"#46039f\"],[0.2222222222222222,\"#7201a8\"],[0.3333333333333333,\"#9c179e\"],[0.4444444444444444,\"#bd3786\"],[0.5555555555555556,\"#d8576b\"],[0.6666666666666666,\"#ed7953\"],[0.7777777777777778,\"#fb9f3a\"],[0.8888888888888888,\"#fdca26\"],[1.0,\"#f0f921\"]],\"type\":\"heatmapgl\"}],\"histogram\":[{\"marker\":{\"pattern\":{\"fillmode\":\"overlay\",\"size\":10,\"solidity\":0.2}},\"type\":\"histogram\"}],\"histogram2d\":[{\"colorbar\":{\"outlinewidth\":0,\"ticks\":\"\"},\"colorscale\":[[0.0,\"#0d0887\"],[0.1111111111111111,\"#46039f\"],[0.2222222222222222,\"#7201a8\"],[0.3333333333333333,\"#9c179e\"],[0.4444444444444444,\"#bd3786\"],[0.5555555555555556,\"#d8576b\"],[0.6666666666666666,\"#ed7953\"],[0.7777777777777778,\"#fb9f3a\"],[0.8888888888888888,\"#fdca26\"],[1.0,\"#f0f921\"]],\"type\":\"histogram2d\"}],\"histogram2dcontour\":[{\"colorbar\":{\"outlinewidth\":0,\"ticks\":\"\"},\"colorscale\":[[0.0,\"#0d0887\"],[0.1111111111111111,\"#46039f\"],[0.2222222222222222,\"#7201a8\"],[0.3333333333333333,\"#9c179e\"],[0.4444444444444444,\"#bd3786\"],[0.5555555555555556,\"#d8576b\"],[0.6666666666666666,\"#ed7953\"],[0.7777777777777778,\"#fb9f3a\"],[0.8888888888888888,\"#fdca26\"],[1.0,\"#f0f921\"]],\"type\":\"histogram2dcontour\"}],\"mesh3d\":[{\"colorbar\":{\"outlinewidth\":0,\"ticks\":\"\"},\"type\":\"mesh3d\"}],\"parcoords\":[{\"line\":{\"colorbar\":{\"outlinewidth\":0,\"ticks\":\"\"}},\"type\":\"parcoords\"}],\"pie\":[{\"automargin\":true,\"type\":\"pie\"}],\"scatter\":[{\"marker\":{\"colorbar\":{\"outlinewidth\":0,\"ticks\":\"\"}},\"type\":\"scatter\"}],\"scatter3d\":[{\"line\":{\"colorbar\":{\"outlinewidth\":0,\"ticks\":\"\"}},\"marker\":{\"colorbar\":{\"outlinewidth\":0,\"ticks\":\"\"}},\"type\":\"scatter3d\"}],\"scattercarpet\":[{\"marker\":{\"colorbar\":{\"outlinewidth\":0,\"ticks\":\"\"}},\"type\":\"scattercarpet\"}],\"scattergeo\":[{\"marker\":{\"colorbar\":{\"outlinewidth\":0,\"ticks\":\"\"}},\"type\":\"scattergeo\"}],\"scattergl\":[{\"marker\":{\"colorbar\":{\"outlinewidth\":0,\"ticks\":\"\"}},\"type\":\"scattergl\"}],\"scattermapbox\":[{\"marker\":{\"colorbar\":{\"outlinewidth\":0,\"ticks\":\"\"}},\"type\":\"scattermapbox\"}],\"scatterpolar\":[{\"marker\":{\"colorbar\":{\"outlinewidth\":0,\"ticks\":\"\"}},\"type\":\"scatterpolar\"}],\"scatterpolargl\":[{\"marker\":{\"colorbar\":{\"outlinewidth\":0,\"ticks\":\"\"}},\"type\":\"scatterpolargl\"}],\"scatterternary\":[{\"marker\":{\"colorbar\":{\"outlinewidth\":0,\"ticks\":\"\"}},\"type\":\"scatterternary\"}],\"surface\":[{\"colorbar\":{\"outlinewidth\":0,\"ticks\":\"\"},\"colorscale\":[[0.0,\"#0d0887\"],[0.1111111111111111,\"#46039f\"],[0.2222222222222222,\"#7201a8\"],[0.3333333333333333,\"#9c179e\"],[0.4444444444444444,\"#bd3786\"],[0.5555555555555556,\"#d8576b\"],[0.6666666666666666,\"#ed7953\"],[0.7777777777777778,\"#fb9f3a\"],[0.8888888888888888,\"#fdca26\"],[1.0,\"#f0f921\"]],\"type\":\"surface\"}],\"table\":[{\"cells\":{\"fill\":{\"color\":\"#EBF0F8\"},\"line\":{\"color\":\"white\"}},\"header\":{\"fill\":{\"color\":\"#C8D4E3\"},\"line\":{\"color\":\"white\"}},\"type\":\"table\"}]},\"layout\":{\"annotationdefaults\":{\"arrowcolor\":\"#2a3f5f\",\"arrowhead\":0,\"arrowwidth\":1},\"autotypenumbers\":\"strict\",\"coloraxis\":{\"colorbar\":{\"outlinewidth\":0,\"ticks\":\"\"}},\"colorscale\":{\"diverging\":[[0,\"#8e0152\"],[0.1,\"#c51b7d\"],[0.2,\"#de77ae\"],[0.3,\"#f1b6da\"],[0.4,\"#fde0ef\"],[0.5,\"#f7f7f7\"],[0.6,\"#e6f5d0\"],[0.7,\"#b8e186\"],[0.8,\"#7fbc41\"],[0.9,\"#4d9221\"],[1,\"#276419\"]],\"sequential\":[[0.0,\"#0d0887\"],[0.1111111111111111,\"#46039f\"],[0.2222222222222222,\"#7201a8\"],[0.3333333333333333,\"#9c179e\"],[0.4444444444444444,\"#bd3786\"],[0.5555555555555556,\"#d8576b\"],[0.6666666666666666,\"#ed7953\"],[0.7777777777777778,\"#fb9f3a\"],[0.8888888888888888,\"#fdca26\"],[1.0,\"#f0f921\"]],\"sequentialminus\":[[0.0,\"#0d0887\"],[0.1111111111111111,\"#46039f\"],[0.2222222222222222,\"#7201a8\"],[0.3333333333333333,\"#9c179e\"],[0.4444444444444444,\"#bd3786\"],[0.5555555555555556,\"#d8576b\"],[0.6666666666666666,\"#ed7953\"],[0.7777777777777778,\"#fb9f3a\"],[0.8888888888888888,\"#fdca26\"],[1.0,\"#f0f921\"]]},\"colorway\":[\"#636efa\",\"#EF553B\",\"#00cc96\",\"#ab63fa\",\"#FFA15A\",\"#19d3f3\",\"#FF6692\",\"#B6E880\",\"#FF97FF\",\"#FECB52\"],\"font\":{\"color\":\"#2a3f5f\"},\"geo\":{\"bgcolor\":\"white\",\"lakecolor\":\"white\",\"landcolor\":\"#E5ECF6\",\"showlakes\":true,\"showland\":true,\"subunitcolor\":\"white\"},\"hoverlabel\":{\"align\":\"left\"},\"hovermode\":\"closest\",\"mapbox\":{\"style\":\"light\"},\"paper_bgcolor\":\"white\",\"plot_bgcolor\":\"#E5ECF6\",\"polar\":{\"angularaxis\":{\"gridcolor\":\"white\",\"linecolor\":\"white\",\"ticks\":\"\"},\"bgcolor\":\"#E5ECF6\",\"radialaxis\":{\"gridcolor\":\"white\",\"linecolor\":\"white\",\"ticks\":\"\"}},\"scene\":{\"xaxis\":{\"backgroundcolor\":\"#E5ECF6\",\"gridcolor\":\"white\",\"gridwidth\":2,\"linecolor\":\"white\",\"showbackground\":true,\"ticks\":\"\",\"zerolinecolor\":\"white\"},\"yaxis\":{\"backgroundcolor\":\"#E5ECF6\",\"gridcolor\":\"white\",\"gridwidth\":2,\"linecolor\":\"white\",\"showbackground\":true,\"ticks\":\"\",\"zerolinecolor\":\"white\"},\"zaxis\":{\"backgroundcolor\":\"#E5ECF6\",\"gridcolor\":\"white\",\"gridwidth\":2,\"linecolor\":\"white\",\"showbackground\":true,\"ticks\":\"\",\"zerolinecolor\":\"white\"}},\"shapedefaults\":{\"line\":{\"color\":\"#2a3f5f\"}},\"ternary\":{\"aaxis\":{\"gridcolor\":\"white\",\"linecolor\":\"white\",\"ticks\":\"\"},\"baxis\":{\"gridcolor\":\"white\",\"linecolor\":\"white\",\"ticks\":\"\"},\"bgcolor\":\"#E5ECF6\",\"caxis\":{\"gridcolor\":\"white\",\"linecolor\":\"white\",\"ticks\":\"\"}},\"title\":{\"x\":0.05},\"xaxis\":{\"automargin\":true,\"gridcolor\":\"white\",\"linecolor\":\"white\",\"ticks\":\"\",\"title\":{\"standoff\":15},\"zerolinecolor\":\"white\",\"zerolinewidth\":2},\"yaxis\":{\"automargin\":true,\"gridcolor\":\"white\",\"linecolor\":\"white\",\"ticks\":\"\",\"title\":{\"standoff\":15},\"zerolinecolor\":\"white\",\"zerolinewidth\":2}}},\"title\":{\"text\":\"Slice Plot\"},\"width\":2100,\"xaxis\":{\"anchor\":\"y\",\"domain\":[0.0,0.1183673469387755],\"title\":{\"text\":\"cliprange\"}},\"xaxis2\":{\"anchor\":\"y2\",\"domain\":[0.14693877551020407,0.26530612244897955],\"title\":{\"text\":\"ent_coef\"},\"type\":\"log\"},\"xaxis3\":{\"anchor\":\"y3\",\"domain\":[0.29387755102040813,0.4122448979591836],\"title\":{\"text\":\"gamma\"},\"type\":\"log\"},\"xaxis4\":{\"anchor\":\"y4\",\"domain\":[0.4408163265306122,0.5591836734693877],\"title\":{\"text\":\"lam\"}},\"xaxis5\":{\"anchor\":\"y5\",\"domain\":[0.5877551020408163,0.7061224489795918],\"title\":{\"text\":\"learning_rate\"},\"type\":\"log\"},\"xaxis6\":{\"anchor\":\"y6\",\"domain\":[0.7346938775510204,0.8530612244897959],\"title\":{\"text\":\"n_steps\"},\"type\":\"log\"},\"xaxis7\":{\"anchor\":\"y7\",\"domain\":[0.8816326530612244,0.9999999999999999],\"title\":{\"text\":\"noptepochs\"},\"type\":\"log\"},\"yaxis\":{\"anchor\":\"x\",\"domain\":[0.0,1.0],\"title\":{\"text\":\"Objective Value\"}},\"yaxis2\":{\"anchor\":\"x2\",\"domain\":[0.0,1.0],\"matches\":\"y\",\"showticklabels\":false},\"yaxis3\":{\"anchor\":\"x3\",\"domain\":[0.0,1.0],\"matches\":\"y\",\"showticklabels\":false},\"yaxis4\":{\"anchor\":\"x4\",\"domain\":[0.0,1.0],\"matches\":\"y\",\"showticklabels\":false},\"yaxis5\":{\"anchor\":\"x5\",\"domain\":[0.0,1.0],\"matches\":\"y\",\"showticklabels\":false},\"yaxis6\":{\"anchor\":\"x6\",\"domain\":[0.0,1.0],\"matches\":\"y\",\"showticklabels\":false},\"yaxis7\":{\"anchor\":\"x7\",\"domain\":[0.0,1.0],\"matches\":\"y\",\"showticklabels\":false}},                        {\"responsive\": true}                    ).then(function(){\n",
       "                            \n",
       "var gd = document.getElementById('91451359-c897-402b-bfb6-a4d127ee0a72');\n",
       "var x = new MutationObserver(function (mutations, observer) {{\n",
       "        var display = window.getComputedStyle(gd).display;\n",
       "        if (!display || display === 'none') {{\n",
       "            console.log([gd, 'removed!']);\n",
       "            Plotly.purge(gd);\n",
       "            observer.disconnect();\n",
       "        }}\n",
       "}});\n",
       "\n",
       "// Listen for the removal of the full notebook cells\n",
       "var notebookContainer = gd.closest('#notebook-container');\n",
       "if (notebookContainer) {{\n",
       "    x.observe(notebookContainer, {childList: true});\n",
       "}}\n",
       "\n",
       "// Listen for the clearing of the current output cell\n",
       "var outputEl = gd.closest('.output');\n",
       "if (outputEl) {{\n",
       "    x.observe(outputEl, {childList: true});\n",
       "}}\n",
       "\n",
       "                        })                };                });            </script>        </div>"
      ]
     },
     "metadata": {},
     "output_type": "display_data"
    }
   ],
   "source": [
    "optuna.visualization.plot_slice(study_ppo2_lstm)"
   ]
  },
  {
   "cell_type": "code",
   "execution_count": 16,
   "id": "e77b0724",
   "metadata": {},
   "outputs": [],
   "source": [
    "study = optuna.load_study(study_name='PPO2_LSTM_optimize_profit', storage='sqlite:///params.db')\n",
    "params = study.best_trial.params\n",
    "\n",
    "train_env = DummyVecEnv([lambda: StockTradingEnv(train_df)])\n",
    "\n",
    "model_params = {\n",
    "    'n_steps': int(params['n_steps']),\n",
    "    'gamma': params['gamma'],\n",
    "    'learning_rate': params['learning_rate'],\n",
    "    'ent_coef': params['ent_coef'],\n",
    "    'cliprange': params['cliprange'],\n",
    "    'noptepochs': int(params['noptepochs']),\n",
    "    'lam': params['lam']\n",
    "}\n",
    "\n",
    "model = PPO2(MlpLstmPolicy, train_env, nminibatches=1, **model_params)"
   ]
  },
  {
   "cell_type": "code",
   "execution_count": 17,
   "id": "cabebe1c",
   "metadata": {},
   "outputs": [
    {
     "data": {
      "text/plain": [
       "<stable_baselines.ppo2.ppo2.PPO2 at 0x28dd3ea48c8>"
      ]
     },
     "execution_count": 17,
     "metadata": {},
     "output_type": "execute_result"
    }
   ],
   "source": [
    "model.learn(total_timesteps=100000)"
   ]
  },
  {
   "cell_type": "code",
   "execution_count": 18,
   "id": "fec3cdb6",
   "metadata": {},
   "outputs": [],
   "source": [
    "test_env = DummyVecEnv([lambda: StockTradingEnv(test_df)])"
   ]
  },
  {
   "cell_type": "code",
   "execution_count": 19,
   "id": "d7713f7e",
   "metadata": {
    "scrolled": false
   },
   "outputs": [
    {
     "name": "stdout",
     "output_type": "stream",
     "text": [
      "Step:   33, Date: 2019-02-08 , Reward:   0, Stock [Held:   0, Bought:   0, Sold :  0], NetWorth: 10000.00, Profit:  0.00\n",
      "Step:   34, Date: 2019-02-11 , Reward:   0, Stock [Held:   0, Bought:   0, Sold :  0], NetWorth: 10000.00, Profit:  0.00\n",
      "Step:   35, Date: 2019-02-12 , Reward:   0, Stock [Held:   0, Bought:   0, Sold :  0], NetWorth: 10000.00, Profit:  0.00\n",
      "Step:   36, Date: 2019-02-14 , Reward:   0, Stock [Held:   0, Bought:   0, Sold :  0], NetWorth: 10000.00, Profit:  0.00\n",
      "Step:   37, Date: 2019-02-15 , Reward:   0, Stock [Held:   0, Bought:   0, Sold :  0], NetWorth: 10000.00, Profit:  0.00\n",
      "Step:   38, Date: 2019-02-18 , Reward:   0, Stock [Held:   0, Bought:   0, Sold :  0], NetWorth: 10000.00, Profit:  0.00\n",
      "Step:   39, Date: 2019-02-19 , Reward:   0, Stock [Held:   0, Bought:   0, Sold :  0], NetWorth: 10000.00, Profit:  0.00\n",
      "Step:   40, Date: 2019-02-20 , Reward:   0, Stock [Held:   0, Bought:   0, Sold :  0], NetWorth: 10000.00, Profit:  0.00\n",
      "Step:   41, Date: 2019-02-21 , Reward:   0, Stock [Held:   0, Bought:   0, Sold :  0], NetWorth: 10000.00, Profit:  0.00\n",
      "Step:   42, Date: 2019-02-22 , Reward:   0, Stock [Held:   0, Bought:   0, Sold :  0], NetWorth: 10000.00, Profit:  0.00\n",
      "Step:   43, Date: 2019-02-25 , Reward:   0, Stock [Held:   0, Bought:   0, Sold :  0], NetWorth: 10000.00, Profit:  0.00\n",
      "Step:   44, Date: 2019-02-26 , Reward:   0, Stock [Held:   0, Bought:   0, Sold :  0], NetWorth: 10000.00, Profit:  0.00\n",
      "Step:   45, Date: 2019-02-27 , Reward:   0, Stock [Held:   0, Bought:   0, Sold :  0], NetWorth: 10000.00, Profit:  0.00\n",
      "Step:   46, Date: 2019-02-28 , Reward:   0, Stock [Held:   0, Bought:   0, Sold :  0], NetWorth: 10000.00, Profit:  0.00\n",
      "Step:   47, Date: 2019-03-01 , Reward:   0, Stock [Held:   0, Bought:   0, Sold :  0], NetWorth: 10000.00, Profit:  0.00\n",
      "Step:   48, Date: 2019-03-05 , Reward:   0, Stock [Held:   0, Bought:   0, Sold :  0], NetWorth: 10000.00, Profit:  0.00\n",
      "Step:   49, Date: 2019-03-06 , Reward:   0, Stock [Held:   0, Bought:   0, Sold :  0], NetWorth: 10000.00, Profit:  0.00\n",
      "Step:   50, Date: 2019-03-07 , Reward:   0, Stock [Held:   3, Bought:   3, Sold :  0], NetWorth: 10000.00, Profit:  0.00\n",
      "Step:   51, Date: 2019-03-08 , Reward:   0, Stock [Held:   3, Bought:   0, Sold :  0], NetWorth: 10000.14, Profit:  0.14\n",
      "Step:   52, Date: 2019-03-11 , Reward:   1, Stock [Held:   3, Bought:   0, Sold :  0], NetWorth: 10001.41, Profit:  1.41\n",
      "Step:   53, Date: 2019-03-12 , Reward:  50, Stock [Held:   3, Bought:   0, Sold :  0], NetWorth: 10050.40, Profit: 50.40\n",
      "Step:   54, Date: 2019-03-13 , Reward:  69, Stock [Held:   3, Bought:   0, Sold :  0], NetWorth: 10069.28, Profit: 69.28\n",
      "Step:   55, Date: 2019-03-14 , Reward:  56, Stock [Held:   3, Bought:   0, Sold :  0], NetWorth: 10056.48, Profit: 56.48\n",
      "Step:   56, Date: 2019-03-15 , Reward:  46, Stock [Held:  13, Bought:  10, Sold :  0], NetWorth: 10046.27, Profit: 46.27\n",
      "Step:   57, Date: 2019-03-18 , Reward:  -1, Stock [Held:  16, Bought:   3, Sold :  0], NetWorth: 9998.76, Profit: -1.24\n",
      "Step:   58, Date: 2019-03-19 , Reward:  -6, Stock [Held:  16, Bought:   0, Sold :  0], NetWorth: 9993.92, Profit: -6.08\n",
      "Step:   59, Date: 2019-03-20 , Reward: -77, Stock [Held:  16, Bought:   0, Sold :  0], NetWorth: 9922.06, Profit: -77.94\n",
      "Step:   60, Date: 2019-03-22 , Reward:-103, Stock [Held:  17, Bought:   1, Sold :  0], NetWorth: 9896.06, Profit: -103.94\n",
      "Step:   61, Date: 2019-03-25 , Reward:-268, Stock [Held:  17, Bought:   0, Sold :  0], NetWorth: 9731.68, Profit: -268.32\n",
      "Step:   62, Date: 2019-03-26 , Reward:-275, Stock [Held:  17, Bought:   0, Sold :  0], NetWorth: 9724.68, Profit: -275.32\n",
      "Step:   63, Date: 2019-03-27 , Reward:-204, Stock [Held:  17, Bought:   0, Sold :  0], NetWorth: 9795.93, Profit: -204.07\n",
      "Step:   64, Date: 2019-03-28 , Reward: -83, Stock [Held:  17, Bought:   0, Sold :  0], NetWorth: 9916.91, Profit: -83.09\n",
      "Step:   65, Date: 2019-04-01 , Reward: 325, Stock [Held:  17, Bought:   0, Sold :  0], NetWorth: 10325.42, Profit: 325.42\n",
      "Step:   66, Date: 2019-04-02 , Reward: 449, Stock [Held:  17, Bought:   0, Sold :  0], NetWorth: 10449.42, Profit: 449.42\n",
      "Step:   67, Date: 2019-04-03 , Reward: 508, Stock [Held:  16, Bought:   0, Sold :  1], NetWorth: 10508.02, Profit: 508.02\n",
      "Step:   68, Date: 2019-04-04 , Reward: 478, Stock [Held:  16, Bought:   0, Sold :  0], NetWorth: 10478.54, Profit: 478.54\n",
      "Step:   69, Date: 2019-04-05 , Reward: 686, Stock [Held:  16, Bought:   0, Sold :  0], NetWorth: 10686.80, Profit: 686.80\n",
      "Step:   70, Date: 2019-04-08 , Reward: 678, Stock [Held:  16, Bought:   0, Sold :  0], NetWorth: 10678.12, Profit: 678.12\n",
      "Step:   71, Date: 2019-04-09 , Reward: 531, Stock [Held:  16, Bought:   0, Sold :  0], NetWorth: 10531.96, Profit: 531.96\n",
      "Step:   72, Date: 2019-04-10 , Reward: 482, Stock [Held:  16, Bought:   0, Sold :  0], NetWorth: 10482.06, Profit: 482.06\n",
      "Step:   73, Date: 2019-04-11 , Reward: 453, Stock [Held:  16, Bought:   0, Sold :  0], NetWorth: 10453.76, Profit: 453.76\n",
      "Step:   74, Date: 2019-04-12 , Reward: 463, Stock [Held:  16, Bought:   0, Sold :  0], NetWorth: 10463.73, Profit: 463.73\n",
      "Step:   75, Date: 2019-04-15 , Reward: 751, Stock [Held:  16, Bought:   0, Sold :  0], NetWorth: 10751.12, Profit: 751.12\n",
      "Step:   76, Date: 2019-04-16 , Reward: 800, Stock [Held:  16, Bought:   0, Sold :  0], NetWorth: 10800.94, Profit: 800.94\n",
      "Step:   77, Date: 2019-04-18 , Reward: 632, Stock [Held:  16, Bought:   0, Sold :  0], NetWorth: 10632.96, Profit: 632.96\n",
      "Step:   78, Date: 2019-04-22 , Reward: 703, Stock [Held:  16, Bought:   0, Sold :  0], NetWorth: 10703.90, Profit: 703.90\n",
      "Step:   79, Date: 2019-04-23 , Reward: 643, Stock [Held:  16, Bought:   0, Sold :  0], NetWorth: 10643.25, Profit: 643.25\n",
      "Step:   80, Date: 2019-04-24 , Reward: 723, Stock [Held:  16, Bought:   0, Sold :  0], NetWorth: 10723.89, Profit: 723.89\n",
      "Step:   81, Date: 2019-04-25 , Reward: 733, Stock [Held:  16, Bought:   0, Sold :  0], NetWorth: 10733.52, Profit: 733.52\n",
      "Step:   82, Date: 2019-04-26 , Reward: 632, Stock [Held:  16, Bought:   0, Sold :  0], NetWorth: 10632.66, Profit: 632.66\n",
      "Step:   83, Date: 2019-04-30 , Reward: 304, Stock [Held:  16, Bought:   0, Sold :  0], NetWorth: 10304.10, Profit: 304.10\n",
      "Step:   84, Date: 2019-05-02 , Reward: 507, Stock [Held:  16, Bought:   0, Sold :  0], NetWorth: 10507.69, Profit: 507.69\n",
      "Step:   85, Date: 2019-05-03 , Reward: 449, Stock [Held:  16, Bought:   0, Sold :  0], NetWorth: 10449.76, Profit: 449.76\n",
      "Step:   86, Date: 2019-05-06 , Reward: 440, Stock [Held:  16, Bought:   0, Sold :  0], NetWorth: 10440.73, Profit: 440.73\n",
      "Step:   87, Date: 2019-05-07 , Reward: -96, Stock [Held:  16, Bought:   0, Sold :  0], NetWorth: 9903.48, Profit: -96.52\n",
      "Step:   88, Date: 2019-05-08 , Reward: -96, Stock [Held:  16, Bought:   0, Sold :  0], NetWorth: 9903.19, Profit: -96.81\n",
      "Step:   89, Date: 2019-05-09 , Reward:-177, Stock [Held:  16, Bought:   0, Sold :  0], NetWorth: 9822.03, Profit: -177.97\n",
      "Step:   90, Date: 2019-05-10 , Reward:-173, Stock [Held:  16, Bought:   0, Sold :  0], NetWorth: 9826.29, Profit: -173.71\n",
      "Step:   91, Date: 2019-05-13 , Reward:   0, Stock [Held:  16, Bought:   0, Sold :  0], NetWorth: 10000.80, Profit:  0.80\n",
      "Step:   92, Date: 2019-05-14 , Reward:   3, Stock [Held:  16, Bought:   0, Sold :  0], NetWorth: 10003.32, Profit:  3.32\n",
      "Step:   93, Date: 2019-05-15 , Reward: 126, Stock [Held:  16, Bought:   0, Sold :  0], NetWorth: 10126.23, Profit: 126.23\n",
      "Step:   94, Date: 2019-05-16 , Reward: 277, Stock [Held:  16, Bought:   0, Sold :  0], NetWorth: 10277.06, Profit: 277.06\n",
      "Step:   95, Date: 2019-05-17 , Reward: 282, Stock [Held:  16, Bought:   0, Sold :  0], NetWorth: 10282.39, Profit: 282.39\n",
      "Step:   96, Date: 2019-05-20 , Reward: 553, Stock [Held:  16, Bought:   0, Sold :  0], NetWorth: 10553.74, Profit: 553.74\n",
      "Step:   97, Date: 2019-05-21 , Reward: 664, Stock [Held:  16, Bought:   0, Sold :  0], NetWorth: 10664.71, Profit: 664.71\n",
      "Step:   98, Date: 2019-05-22 , Reward: 547, Stock [Held:  16, Bought:   0, Sold :  0], NetWorth: 10547.57, Profit: 547.57\n",
      "Step:   99, Date: 2019-05-23 , Reward: 591, Stock [Held:  16, Bought:   0, Sold :  0], NetWorth: 10591.64, Profit: 591.64\n",
      "Step:  100, Date: 2019-05-24 , Reward: 546, Stock [Held:  16, Bought:   0, Sold :  0], NetWorth: 10546.16, Profit: 546.16\n",
      "Step:  101, Date: 2019-05-27 , Reward: 773, Stock [Held:  16, Bought:   0, Sold :  0], NetWorth: 10773.15, Profit: 773.15\n",
      "Step:  102, Date: 2019-05-28 , Reward: 954, Stock [Held:  16, Bought:   0, Sold :  0], NetWorth: 10954.87, Profit: 954.87\n",
      "Step:  103, Date: 2019-05-29 , Reward:1036, Stock [Held:  16, Bought:   0, Sold :  0], NetWorth: 11036.81, Profit: 1036.81\n",
      "Step:  104, Date: 2019-05-30 , Reward: 998, Stock [Held:  16, Bought:   0, Sold :  0], NetWorth: 10998.71, Profit: 998.71\n",
      "Step:  105, Date: 2019-05-31 , Reward:1004, Stock [Held:  16, Bought:   0, Sold :  0], NetWorth: 11004.79, Profit: 1004.79\n",
      "Step:  106, Date: 2019-06-03 , Reward:1028, Stock [Held:  16, Bought:   0, Sold :  0], NetWorth: 11028.70, Profit: 1028.70\n",
      "Step:  107, Date: 2019-06-04 , Reward:1070, Stock [Held:  16, Bought:   0, Sold :  0], NetWorth: 11070.45, Profit: 1070.45\n",
      "Step:  108, Date: 2019-06-06 , Reward: 854, Stock [Held:  16, Bought:   0, Sold :  0], NetWorth: 10854.99, Profit: 854.99\n",
      "Step:  109, Date: 2019-06-07 , Reward: 562, Stock [Held:  16, Bought:   0, Sold :  0], NetWorth: 10562.79, Profit: 562.79\n",
      "Step:  110, Date: 2019-06-10 , Reward: 698, Stock [Held:  16, Bought:   0, Sold :  0], NetWorth: 10698.49, Profit: 698.49\n",
      "Step:  111, Date: 2019-06-11 , Reward: 705, Stock [Held:  16, Bought:   0, Sold :  0], NetWorth: 10705.11, Profit: 705.11\n",
      "Step:  112, Date: 2019-06-12 , Reward: 627, Stock [Held:  16, Bought:   0, Sold :  0], NetWorth: 10627.09, Profit: 627.09\n",
      "Step:  113, Date: 2019-06-13 , Reward: 541, Stock [Held:  16, Bought:   0, Sold :  0], NetWorth: 10541.00, Profit: 541.00\n",
      "Step:  114, Date: 2019-06-14 , Reward: 545, Stock [Held:  16, Bought:   0, Sold :  0], NetWorth: 10545.29, Profit: 545.29\n",
      "Step:  115, Date: 2019-06-17 , Reward: 472, Stock [Held:   5, Bought:   0, Sold : 11], NetWorth: 10472.08, Profit: 472.08\n",
      "Step:  116, Date: 2019-06-18 , Reward: 349, Stock [Held:   5, Bought:   0, Sold :  0], NetWorth: 10349.98, Profit: 349.98\n",
      "Step:  117, Date: 2019-06-19 , Reward: 355, Stock [Held:   5, Bought:   0, Sold :  0], NetWorth: 10355.96, Profit: 355.96\n"
     ]
    },
    {
     "name": "stdout",
     "output_type": "stream",
     "text": [
      "Step:  118, Date: 2019-06-20 , Reward: 398, Stock [Held:   5, Bought:   0, Sold :  0], NetWorth: 10398.53, Profit: 398.53\n",
      "Step:  119, Date: 2019-06-21 , Reward: 389, Stock [Held:   5, Bought:   0, Sold :  0], NetWorth: 10389.57, Profit: 389.57\n",
      "Step:  120, Date: 2019-06-24 , Reward: 311, Stock [Held:   5, Bought:   0, Sold :  0], NetWorth: 10311.42, Profit: 311.42\n",
      "Step:  121, Date: 2019-06-25 , Reward: 318, Stock [Held:   5, Bought:   0, Sold :  0], NetWorth: 10318.68, Profit: 318.68\n",
      "Step:  122, Date: 2019-06-26 , Reward: 328, Stock [Held:   5, Bought:   0, Sold :  0], NetWorth: 10328.14, Profit: 328.14\n",
      "Step:  123, Date: 2019-06-27 , Reward: 366, Stock [Held:   5, Bought:   0, Sold :  0], NetWorth: 10366.23, Profit: 366.23\n",
      "Step:  124, Date: 2019-06-28 , Reward: 355, Stock [Held:   5, Bought:   0, Sold :  0], NetWorth: 10355.37, Profit: 355.37\n",
      "Step:  125, Date: 2019-07-01 , Reward: 355, Stock [Held:   5, Bought:   0, Sold :  0], NetWorth: 10356.00, Profit: 356.00\n",
      "Step:  126, Date: 2019-07-02 , Reward: 384, Stock [Held:   5, Bought:   0, Sold :  0], NetWorth: 10384.97, Profit: 384.97\n",
      "Step:  127, Date: 2019-07-03 , Reward: 360, Stock [Held:  13, Bought:   8, Sold :  0], NetWorth: 10360.73, Profit: 360.73\n",
      "Step:  128, Date: 2019-07-04 , Reward: 352, Stock [Held:  13, Bought:   0, Sold :  0], NetWorth: 10352.51, Profit: 352.51\n",
      "Step:  129, Date: 2019-07-05 , Reward: 211, Stock [Held:  13, Bought:   0, Sold :  0], NetWorth: 10211.52, Profit: 211.52\n",
      "Step:  130, Date: 2019-07-08 , Reward:  63, Stock [Held:  15, Bought:   2, Sold :  0], NetWorth: 10063.16, Profit: 63.16\n",
      "Step:  131, Date: 2019-07-09 , Reward:  92, Stock [Held:  15, Bought:   0, Sold :  0], NetWorth: 10092.79, Profit: 92.79\n",
      "Step:  132, Date: 2019-07-10 , Reward: 125, Stock [Held:  15, Bought:   0, Sold :  0], NetWorth: 10125.82, Profit: 125.82\n",
      "Step:  133, Date: 2019-07-11 , Reward:  40, Stock [Held:  15, Bought:   0, Sold :  0], NetWorth: 10040.49, Profit: 40.49\n",
      "Step:  134, Date: 2019-07-12 , Reward: 105, Stock [Held:  15, Bought:   0, Sold :  0], NetWorth: 10105.79, Profit: 105.79\n",
      "Step:  135, Date: 2019-07-15 , Reward:  71, Stock [Held:  17, Bought:   2, Sold :  0], NetWorth: 10071.17, Profit: 71.17\n",
      "Step:  136, Date: 2019-07-16 , Reward: 185, Stock [Held:  17, Bought:   0, Sold :  0], NetWorth: 10185.12, Profit: 185.12\n",
      "Step:  137, Date: 2019-07-17 , Reward: 264, Stock [Held:  17, Bought:   0, Sold :  0], NetWorth: 10264.82, Profit: 264.82\n",
      "Step:  138, Date: 2019-07-18 , Reward:-178, Stock [Held:  17, Bought:   0, Sold :  0], NetWorth: 9821.43, Profit: -178.57\n",
      "Step:  139, Date: 2019-07-19 , Reward:-398, Stock [Held:  17, Bought:   0, Sold :  0], NetWorth: 9601.73, Profit: -398.27\n",
      "Step:  140, Date: 2019-07-22 , Reward:-584, Stock [Held:  13, Bought:   0, Sold :  4], NetWorth: 9415.26, Profit: -584.74\n",
      "Step:  141, Date: 2019-07-23 , Reward:-676, Stock [Held:  13, Bought:   0, Sold :  0], NetWorth: 9323.44, Profit: -676.56\n",
      "Step:  142, Date: 2019-07-24 , Reward:-1063, Stock [Held:  13, Bought:   0, Sold :  0], NetWorth: 8936.42, Profit: -1063.58\n",
      "Step:  143, Date: 2019-07-25 , Reward:-1195, Stock [Held:  13, Bought:   0, Sold :  0], NetWorth: 8804.90, Profit: -1195.10\n",
      "Step:  144, Date: 2019-07-26 , Reward:-1138, Stock [Held:  15, Bought:   2, Sold :  0], NetWorth: 8861.87, Profit: -1138.13\n",
      "Step:  145, Date: 2019-07-29 , Reward:-1181, Stock [Held:  15, Bought:   0, Sold :  0], NetWorth: 8818.18, Profit: -1181.82\n",
      "Step:  146, Date: 2019-07-30 , Reward:-1241, Stock [Held:  15, Bought:   0, Sold :  0], NetWorth: 8758.38, Profit: -1241.62\n",
      "Step:  147, Date: 2019-07-31 , Reward:-1335, Stock [Held:  15, Bought:   0, Sold :  0], NetWorth: 8664.85, Profit: -1335.15\n",
      "Step:  148, Date: 2019-08-01 , Reward:-1301, Stock [Held:  15, Bought:   0, Sold :  0], NetWorth: 8698.71, Profit: -1301.29\n",
      "Step:  149, Date: 2019-08-02 , Reward:-1325, Stock [Held:  15, Bought:   0, Sold :  0], NetWorth: 8674.12, Profit: -1325.88\n",
      "Step:  150, Date: 2019-08-05 , Reward:-1486, Stock [Held:  15, Bought:   0, Sold :  0], NetWorth: 8513.46, Profit: -1486.54\n",
      "Step:  151, Date: 2019-08-06 , Reward:-1314, Stock [Held:  15, Bought:   0, Sold :  0], NetWorth: 8685.71, Profit: -1314.29\n",
      "Step:  152, Date: 2019-08-07 , Reward:-1244, Stock [Held:  15, Bought:   0, Sold :  0], NetWorth: 8755.60, Profit: -1244.40\n",
      "Step:  153, Date: 2019-08-08 , Reward:-1126, Stock [Held:  15, Bought:   0, Sold :  0], NetWorth: 8873.50, Profit: -1126.50\n",
      "Step:  154, Date: 2019-08-09 , Reward:-1178, Stock [Held:  18, Bought:   3, Sold :  0], NetWorth: 8821.27, Profit: -1178.73\n",
      "Step:  155, Date: 2019-08-13 , Reward:-1262, Stock [Held:  18, Bought:   0, Sold :  0], NetWorth: 8737.91, Profit: -1262.09\n",
      "Step:  156, Date: 2019-08-14 , Reward:-1133, Stock [Held:  18, Bought:   0, Sold :  0], NetWorth: 8866.54, Profit: -1133.46\n",
      "Step:  157, Date: 2019-08-16 , Reward:-1068, Stock [Held:   0, Bought:   0, Sold : 18], NetWorth: 8931.57, Profit: -1068.43\n",
      "Step:  158, Date: 2019-08-19 , Reward:-1068, Stock [Held:   0, Bought:   0, Sold :  0], NetWorth: 8931.57, Profit: -1068.43\n",
      "Step:  159, Date: 2019-08-20 , Reward:-1068, Stock [Held:   0, Bought:   0, Sold :  0], NetWorth: 8931.57, Profit: -1068.43\n",
      "Step:  160, Date: 2019-08-21 , Reward:-1068, Stock [Held:   0, Bought:   0, Sold :  0], NetWorth: 8931.57, Profit: -1068.43\n",
      "Step:  161, Date: 2019-08-22 , Reward:-1068, Stock [Held:   0, Bought:   0, Sold :  0], NetWorth: 8931.57, Profit: -1068.43\n",
      "Step:  162, Date: 2019-08-23 , Reward:-1068, Stock [Held:   0, Bought:   0, Sold :  0], NetWorth: 8931.57, Profit: -1068.43\n",
      "Step:  163, Date: 2019-08-26 , Reward:-1068, Stock [Held:   0, Bought:   0, Sold :  0], NetWorth: 8931.57, Profit: -1068.43\n",
      "Step:  164, Date: 2019-08-27 , Reward:-1068, Stock [Held:   0, Bought:   0, Sold :  0], NetWorth: 8931.57, Profit: -1068.43\n",
      "Step:  165, Date: 2019-08-28 , Reward:-1068, Stock [Held:  13, Bought:  13, Sold :  0], NetWorth: 8931.57, Profit: -1068.43\n",
      "Step:  166, Date: 2019-08-29 , Reward:-1144, Stock [Held:  13, Bought:   0, Sold :  0], NetWorth: 8855.95, Profit: -1144.05\n",
      "Step:  167, Date: 2019-08-30 , Reward:-1138, Stock [Held:  13, Bought:   0, Sold :  0], NetWorth: 8861.29, Profit: -1138.71\n",
      "Step:  168, Date: 2019-09-03 , Reward:-1147, Stock [Held:  13, Bought:   0, Sold :  0], NetWorth: 8852.90, Profit: -1147.10\n",
      "Step:  169, Date: 2019-09-04 , Reward:-1273, Stock [Held:  13, Bought:   0, Sold :  0], NetWorth: 8726.68, Profit: -1273.32\n",
      "Step:  170, Date: 2019-09-05 , Reward:-995, Stock [Held:  13, Bought:   0, Sold :  0], NetWorth: 9004.13, Profit: -995.87\n",
      "Step:  171, Date: 2019-09-06 , Reward:-923, Stock [Held:  13, Bought:   0, Sold :  0], NetWorth: 9076.26, Profit: -923.74\n",
      "Step:  172, Date: 2019-09-09 , Reward:-852, Stock [Held:  13, Bought:   0, Sold :  0], NetWorth: 9147.02, Profit: -852.98\n",
      "Step:  173, Date: 2019-09-11 , Reward:-838, Stock [Held:  13, Bought:   0, Sold :  0], NetWorth: 9161.42, Profit: -838.58\n",
      "Step:  174, Date: 2019-09-12 , Reward:-774, Stock [Held:  13, Bought:   0, Sold :  0], NetWorth: 9225.69, Profit: -774.31\n",
      "Step:  175, Date: 2019-09-13 , Reward:-613, Stock [Held:  13, Bought:   0, Sold :  0], NetWorth: 9386.89, Profit: -613.11\n",
      "Step:  176, Date: 2019-09-16 , Reward:-483, Stock [Held:  13, Bought:   0, Sold :  0], NetWorth: 9516.30, Profit: -483.70\n",
      "Step:  177, Date: 2019-09-17 , Reward:-359, Stock [Held:  13, Bought:   0, Sold :  0], NetWorth: 9640.68, Profit: -359.32\n",
      "Step:  178, Date: 2019-09-18 , Reward:-316, Stock [Held:  13, Bought:   0, Sold :  0], NetWorth: 9683.65, Profit: -316.35\n",
      "Step:  179, Date: 2019-09-19 , Reward:-292, Stock [Held:  13, Bought:   0, Sold :  0], NetWorth: 9707.62, Profit: -292.38\n",
      "Step:  180, Date: 2019-09-20 , Reward:  75, Stock [Held:  13, Bought:   0, Sold :  0], NetWorth: 10076.00, Profit: 76.00\n",
      "Step:  181, Date: 2019-09-23 , Reward: 385, Stock [Held:  13, Bought:   0, Sold :  0], NetWorth: 10385.66, Profit: 385.66\n",
      "Step:  182, Date: 2019-09-24 , Reward: 386, Stock [Held:  13, Bought:   0, Sold :  0], NetWorth: 10386.08, Profit: 386.08\n",
      "Step:  183, Date: 2019-09-25 , Reward: 349, Stock [Held:  13, Bought:   0, Sold :  0], NetWorth: 10349.93, Profit: 349.93\n",
      "Step:  184, Date: 2019-09-26 , Reward:  78, Stock [Held:  13, Bought:   0, Sold :  0], NetWorth: 10078.87, Profit: 78.87\n",
      "Step:  185, Date: 2019-09-27 , Reward:  17, Stock [Held:  13, Bought:   0, Sold :  0], NetWorth: 10017.26, Profit: 17.26\n",
      "Step:  186, Date: 2019-09-30 , Reward:-110, Stock [Held:  13, Bought:   0, Sold :  0], NetWorth: 9889.87, Profit: -110.13\n",
      "Step:  187, Date: 2019-10-01 , Reward:  -5, Stock [Held:  13, Bought:   0, Sold :  0], NetWorth: 9994.52, Profit: -5.48\n",
      "Step:  188, Date: 2019-10-03 , Reward:  44, Stock [Held:  13, Bought:   0, Sold :  0], NetWorth: 10044.41, Profit: 44.41\n",
      "Step:  189, Date: 2019-10-04 , Reward:  35, Stock [Held:  13, Bought:   0, Sold :  0], NetWorth: 10035.92, Profit: 35.92\n",
      "Step:  190, Date: 2019-10-07 , Reward:   3, Stock [Held:  13, Bought:   0, Sold :  0], NetWorth: 10003.32, Profit:  3.32\n",
      "Step:  191, Date: 2019-10-09 , Reward:  40, Stock [Held:  13, Bought:   0, Sold :  0], NetWorth: 10040.85, Profit: 40.85\n",
      "Step:  192, Date: 2019-10-10 , Reward:  37, Stock [Held:  13, Bought:   0, Sold :  0], NetWorth: 10037.29, Profit: 37.29\n",
      "Step:  193, Date: 2019-10-11 , Reward:  54, Stock [Held:  13, Bought:   0, Sold :  0], NetWorth: 10054.59, Profit: 54.59\n",
      "Step:  194, Date: 2019-10-14 , Reward:  73, Stock [Held:  13, Bought:   0, Sold :  0], NetWorth: 10073.68, Profit: 73.68\n",
      "Step:  195, Date: 2019-10-15 , Reward:  29, Stock [Held:  13, Bought:   0, Sold :  0], NetWorth: 10029.69, Profit: 29.69\n",
      "Step:  196, Date: 2019-10-16 , Reward:  29, Stock [Held:   8, Bought:   0, Sold :  5], NetWorth: 10029.91, Profit: 29.91\n",
      "Step:  197, Date: 2019-10-17 , Reward:   8, Stock [Held:   8, Bought:   0, Sold :  0], NetWorth: 10008.55, Profit:  8.55\n",
      "Step:  198, Date: 2019-10-18 , Reward: -29, Stock [Held:   8, Bought:   0, Sold :  0], NetWorth: 9970.64, Profit: -29.36\n",
      "Step:  199, Date: 2019-10-22 , Reward:  -5, Stock [Held:   8, Bought:   0, Sold :  0], NetWorth: 9994.75, Profit: -5.25\n",
      "Step:  200, Date: 2019-10-23 , Reward:  31, Stock [Held:   8, Bought:   0, Sold :  0], NetWorth: 10031.27, Profit: 31.27\n",
      "Step:  201, Date: 2019-10-24 , Reward:   3, Stock [Held:   8, Bought:   0, Sold :  0], NetWorth: 10003.34, Profit:  3.34\n",
      "Step:  202, Date: 2019-10-25 , Reward: -46, Stock [Held:   8, Bought:   0, Sold :  0], NetWorth: 9953.87, Profit: -46.13\n",
      "Step:  203, Date: 2019-10-29 , Reward: -13, Stock [Held:   8, Bought:   0, Sold :  0], NetWorth: 9986.81, Profit: -13.19\n",
      "Step:  204, Date: 2019-10-30 , Reward: -52, Stock [Held:   8, Bought:   0, Sold :  0], NetWorth: 9947.29, Profit: -52.71\n",
      "Step:  205, Date: 2019-10-31 , Reward: -19, Stock [Held:   8, Bought:   0, Sold :  0], NetWorth: 9980.37, Profit: -19.63\n",
      "Step:  206, Date: 2019-11-01 , Reward:  42, Stock [Held:   8, Bought:   0, Sold :  0], NetWorth: 10042.87, Profit: 42.87\n",
      "Step:  207, Date: 2019-11-04 , Reward:  46, Stock [Held:   8, Bought:   0, Sold :  0], NetWorth: 10046.05, Profit: 46.05\n",
      "Step:  208, Date: 2019-11-05 , Reward:-134, Stock [Held:   8, Bought:   0, Sold :  0], NetWorth: 9865.15, Profit: -134.85\n",
      "Step:  209, Date: 2019-11-06 , Reward:-160, Stock [Held:   8, Bought:   0, Sold :  0], NetWorth: 9839.52, Profit: -160.48\n",
      "Step:  210, Date: 2019-11-07 , Reward:-173, Stock [Held:  15, Bought:   7, Sold :  0], NetWorth: 9826.28, Profit: -173.72\n",
      "Step:  211, Date: 2019-11-08 , Reward:-208, Stock [Held:  15, Bought:   0, Sold :  0], NetWorth: 9791.88, Profit: -208.12\n"
     ]
    },
    {
     "name": "stdout",
     "output_type": "stream",
     "text": [
      "Step:  212, Date: 2019-11-11 , Reward:-225, Stock [Held:  15, Bought:   0, Sold :  0], NetWorth: 9774.91, Profit: -225.09\n",
      "Step:  213, Date: 2019-11-13 , Reward:-355, Stock [Held:  15, Bought:   0, Sold :  0], NetWorth: 9644.69, Profit: -355.31\n",
      "Step:  214, Date: 2019-11-14 , Reward:-380, Stock [Held:  15, Bought:   0, Sold :  0], NetWorth: 9619.04, Profit: -380.96\n",
      "Step:  215, Date: 2019-11-15 , Reward:-306, Stock [Held:  15, Bought:   0, Sold :  0], NetWorth: 9693.05, Profit: -306.95\n",
      "Step:  216, Date: 2019-11-18 , Reward:-426, Stock [Held:  15, Bought:   0, Sold :  0], NetWorth: 9573.70, Profit: -426.30\n",
      "Step:  217, Date: 2019-11-19 , Reward:-372, Stock [Held:  15, Bought:   0, Sold :  0], NetWorth: 9627.32, Profit: -372.68\n",
      "Step:  218, Date: 2019-11-20 , Reward:-349, Stock [Held:   0, Bought:   0, Sold : 15], NetWorth: 9650.74, Profit: -349.26\n",
      "Step:  219, Date: 2019-11-21 , Reward:-349, Stock [Held:  13, Bought:  13, Sold :  0], NetWorth: 9650.74, Profit: -349.26\n",
      "Step:  220, Date: 2019-11-22 , Reward:-355, Stock [Held:  13, Bought:   0, Sold :  0], NetWorth: 9644.07, Profit: -355.93\n",
      "Step:  221, Date: 2019-11-25 , Reward:-310, Stock [Held:  13, Bought:   0, Sold :  0], NetWorth: 9689.78, Profit: -310.22\n",
      "Step:  222, Date: 2019-11-26 , Reward:-364, Stock [Held:  13, Bought:   0, Sold :  0], NetWorth: 9635.54, Profit: -364.46\n",
      "Step:  223, Date: 2019-11-27 , Reward:-403, Stock [Held:  13, Bought:   0, Sold :  0], NetWorth: 9596.27, Profit: -403.73\n",
      "Step:  224, Date: 2019-11-28 , Reward:-354, Stock [Held:  13, Bought:   0, Sold :  0], NetWorth: 9645.16, Profit: -354.84\n",
      "Step:  225, Date: 2019-11-29 , Reward:-261, Stock [Held:  13, Bought:   0, Sold :  0], NetWorth: 9738.84, Profit: -261.16\n",
      "Step:  226, Date: 2019-12-02 , Reward:-258, Stock [Held:  13, Bought:   0, Sold :  0], NetWorth: 9741.09, Profit: -258.91\n",
      "Step:  227, Date: 2019-12-03 , Reward:-423, Stock [Held:  13, Bought:   0, Sold :  0], NetWorth: 9576.29, Profit: -423.71\n",
      "Step:  228, Date: 2019-12-04 , Reward:-455, Stock [Held:  14, Bought:   1, Sold :  0], NetWorth: 9544.82, Profit: -455.18\n",
      "Step:  229, Date: 2019-12-05 , Reward:-413, Stock [Held:  14, Bought:   0, Sold :  0], NetWorth: 9586.21, Profit: -413.79\n",
      "Step:  230, Date: 2019-12-06 , Reward:-384, Stock [Held:  18, Bought:   4, Sold :  0], NetWorth: 9615.20, Profit: -384.80\n",
      "Step:  231, Date: 2019-12-09 , Reward:-408, Stock [Held:  18, Bought:   0, Sold :  0], NetWorth: 9591.86, Profit: -408.14\n",
      "Step:  232, Date: 2019-12-10 , Reward:-343, Stock [Held:  18, Bought:   0, Sold :  0], NetWorth: 9656.34, Profit: -343.66\n"
     ]
    }
   ],
   "source": [
    "obs = test_env.reset()\n",
    "\n",
    "for i in range(200):\n",
    "    action, _states = model.predict(obs, deterministic=False)\n",
    "    obs, reward, done, info = test_env.step(action)\n",
    "    test_env.render(mode='cli')\n",
    "    if done:\n",
    "        obs = test_env.reset()\n",
    "        break"
   ]
  },
  {
   "cell_type": "code",
   "execution_count": 20,
   "id": "e18a29e5",
   "metadata": {},
   "outputs": [],
   "source": [
    "trades = pd.DataFrame(info[0].get('Trades'))\n",
    "trades['Date'] = pd.to_datetime(trades['Date']) # Convert \"Date\" to datetime object.\n",
    "df.sort_values('Date', ascending=True, inplace=True) # Sort the \"Date\" Column by the values."
   ]
  },
  {
   "cell_type": "code",
   "execution_count": 21,
   "id": "ebc060f3",
   "metadata": {},
   "outputs": [],
   "source": [
    "def display_trades(df):\n",
    "    \n",
    "    # Convert the column names from mixcase to lower case\n",
    "    df.columns = map(str.lower, df.columns)\n",
    "    \n",
    "    # Fix date\n",
    "    if type(df.index) != pd.core.indexes.datetimes.DatetimeIndex:\n",
    "        df['date'] = pd.to_datetime(df['date'])\n",
    "        df.set_index('date',inplace=True) # Set the Date column as the index\n",
    "        df = df.sort_values(['date'])\n",
    "    \n",
    "     # Copy the dataframe\n",
    "    tempdf=df.copy(deep=True)\n",
    "    \n",
    "    # Calculate profit\n",
    "    \n",
    "    profit = round(tempdf.iloc[-1]['net worth'] - tempdf.iloc[1]['net worth'], 2)\n",
    "    profit_prcnt = round(((tempdf.iloc[-1]['net worth'] - tempdf.iloc[1]['net worth']) / tempdf.iloc[1]['net worth']) * 100 , 2)\n",
    "    \n",
    "    trade_buy = tempdf['type'][tempdf['type']=='Buy'].count()\n",
    "    trade_sell = tempdf['type'][tempdf['type']=='Sell'].count()\n",
    "    trade_hold = tempdf['type'][tempdf['type']=='Hold'].count()\n",
    "    \n",
    "    title_1 = 'RL Algorithm: PPO2_LSTM' + ' - ' + 'Trade Count ' + '[' + 'Buy: ' + str(trade_buy) + ' | ' + 'Sell: ' + str(trade_sell) + ' | ' + 'Hold: ' + str(trade_hold) + ']'\n",
    "    title_2 = 'Initial Investment (INR): ' + str(round(tempdf.iloc[1]['net worth'],2)) + ' | ' +  'Net Worth (INR): ' + str(round(tempdf.iloc[-1]['net worth'],2)) + ' | ' + 'Profit (INR): ' + str(profit) + ' | ' + 'Profit (%): ' + str(profit_prcnt)+ '%'\n",
    "    \n",
    "    \n",
    "    # Buy sell marker\n",
    "    d=10\n",
    "    tempdf[['marker', 'symbol', 'color']] = ''\n",
    "    for i in range(0, len(tempdf)):\n",
    "        if tempdf['type'].iloc[i] == 'Buy':\n",
    "            tempdf['marker'].iloc[i] = tempdf[\"low\"].iloc[i]-d\n",
    "            tempdf['symbol'].iloc[i] = 'triangle-up'\n",
    "            tempdf['color'].iloc[i] = 'green'\n",
    "            \n",
    "        elif tempdf['type'].iloc[i] == 'Sell':\n",
    "            tempdf['marker'].iloc[i] = tempdf[\"high\"].iloc[i]+d\n",
    "            tempdf['symbol'].iloc[i] = 'triangle-down'\n",
    "            tempdf['color'].iloc[i] = 'red'\n",
    "        \n",
    "        else:\n",
    "            tempdf['marker'].iloc[i] = tempdf[\"low\"].iloc[i]-d\n",
    "            tempdf['symbol'].iloc[i] = 'cross-thin'\n",
    "            tempdf['color'].iloc[i] = 'blue' \n",
    "\n",
    "    \n",
    "    # Draw plot\n",
    "    fig = make_subplots(rows=2, cols=1, \n",
    "                    shared_xaxes=True, \n",
    "                    row_width=[.25,.75], \n",
    "                    vertical_spacing=0.05,\n",
    "                   subplot_titles=(title_1, title_2))\n",
    "\n",
    "   \n",
    "    fig.add_trace(go.Scatter(x=tempdf.index,\n",
    "                             y=tempdf.marker,\n",
    "                             mode='markers',\n",
    "                             name='Buy/Sell/Hold',\n",
    "                             marker=dict(size=15,symbol=tempdf[\"symbol\"],color=tempdf[\"color\"])),\n",
    "                   row=1, col=1)\n",
    "                  \n",
    "    fig.add_trace(go.Candlestick(x=tempdf.index, \n",
    "                                 open=tempdf['open'], \n",
    "                                 high=tempdf['high'], \n",
    "                                 low=tempdf['low'], \n",
    "                                 close=tempdf['close'],\n",
    "                                 name='OHLC'),\n",
    "                  row=1, col=1)\n",
    "   \n",
    "                  \n",
    "    fig.add_trace(go.Scatter(x=tempdf.index,\n",
    "                             y=tempdf['net worth'],\n",
    "                             mode='lines',\n",
    "                             name='Net Worth (INR)'),\n",
    "                  row=2, col=1)\n",
    "    \n",
    "    fig.add_hline(y=10000,\n",
    "                  name='Initial Balance',\n",
    "                  line=dict(color='firebrick', width=1, dash='dot'),\n",
    "                  row=2, col=1)\n",
    "\n",
    "    fig.update_layout(##title='Historical stock price chart',\n",
    "                      xaxis_tickfont_size=12,\n",
    "                      yaxis=dict(title='Price (INR/share)',\n",
    "                                 titlefont_size=14,\n",
    "                                 tickfont_size=10),\n",
    "                      xaxis_rangeslider_visible=False,\n",
    "                      width=1000,height=600, margin=dict(l=50, r=50, b=100, t=100, pad=4),\n",
    "                      template='none')\n",
    "\n",
    "    fig.show()"
   ]
  },
  {
   "cell_type": "code",
   "execution_count": 22,
   "id": "4cc70d1f",
   "metadata": {},
   "outputs": [
    {
     "data": {
      "application/vnd.plotly.v1+json": {
       "config": {
        "plotlyServerURL": "https://plot.ly"
       },
       "data": [
        {
         "marker": {
          "color": [
           "blue",
           "blue",
           "blue",
           "blue",
           "blue",
           "blue",
           "blue",
           "blue",
           "blue",
           "blue",
           "blue",
           "blue",
           "blue",
           "blue",
           "blue",
           "blue",
           "green",
           "blue",
           "blue",
           "blue",
           "blue",
           "blue",
           "green",
           "green",
           "blue",
           "blue",
           "green",
           "blue",
           "blue",
           "blue",
           "blue",
           "red",
           "blue",
           "blue",
           "blue",
           "blue",
           "blue",
           "blue",
           "blue",
           "blue",
           "blue",
           "blue",
           "blue",
           "blue",
           "blue",
           "blue",
           "blue",
           "blue",
           "blue",
           "blue",
           "blue",
           "blue",
           "blue",
           "blue",
           "blue",
           "blue",
           "blue",
           "blue",
           "blue",
           "blue",
           "blue",
           "blue",
           "blue",
           "blue",
           "blue",
           "blue",
           "blue",
           "blue",
           "blue",
           "blue",
           "blue",
           "blue",
           "blue",
           "blue",
           "blue",
           "blue",
           "red",
           "blue",
           "blue",
           "blue",
           "blue",
           "blue",
           "blue",
           "blue",
           "blue",
           "blue",
           "blue",
           "green",
           "blue",
           "blue",
           "green",
           "blue",
           "blue",
           "blue",
           "green",
           "blue",
           "blue",
           "blue",
           "blue",
           "red",
           "blue",
           "blue",
           "blue",
           "green",
           "blue",
           "blue",
           "blue",
           "blue",
           "blue",
           "blue",
           "blue",
           "blue",
           "blue",
           "green",
           "blue",
           "blue",
           "red",
           "blue",
           "blue",
           "blue",
           "blue",
           "blue",
           "blue",
           "blue",
           "green",
           "blue",
           "blue",
           "blue",
           "blue",
           "blue",
           "blue",
           "blue",
           "blue",
           "blue",
           "blue",
           "blue",
           "blue",
           "blue",
           "blue",
           "blue",
           "blue",
           "blue",
           "blue",
           "blue",
           "blue",
           "blue",
           "blue",
           "blue",
           "blue",
           "blue",
           "blue",
           "red",
           "blue",
           "blue",
           "blue",
           "blue",
           "blue",
           "blue",
           "blue",
           "blue",
           "blue",
           "blue",
           "blue",
           "blue",
           "green",
           "blue",
           "blue",
           "blue",
           "blue",
           "blue",
           "blue",
           "blue",
           "red",
           "green",
           "blue",
           "blue",
           "blue",
           "blue",
           "blue",
           "blue",
           "blue",
           "blue",
           "green",
           "blue",
           "green",
           "blue",
           "blue"
          ],
          "size": 15,
          "symbol": [
           "cross-thin",
           "cross-thin",
           "cross-thin",
           "cross-thin",
           "cross-thin",
           "cross-thin",
           "cross-thin",
           "cross-thin",
           "cross-thin",
           "cross-thin",
           "cross-thin",
           "cross-thin",
           "cross-thin",
           "cross-thin",
           "cross-thin",
           "cross-thin",
           "triangle-up",
           "cross-thin",
           "cross-thin",
           "cross-thin",
           "cross-thin",
           "cross-thin",
           "triangle-up",
           "triangle-up",
           "cross-thin",
           "cross-thin",
           "triangle-up",
           "cross-thin",
           "cross-thin",
           "cross-thin",
           "cross-thin",
           "triangle-down",
           "cross-thin",
           "cross-thin",
           "cross-thin",
           "cross-thin",
           "cross-thin",
           "cross-thin",
           "cross-thin",
           "cross-thin",
           "cross-thin",
           "cross-thin",
           "cross-thin",
           "cross-thin",
           "cross-thin",
           "cross-thin",
           "cross-thin",
           "cross-thin",
           "cross-thin",
           "cross-thin",
           "cross-thin",
           "cross-thin",
           "cross-thin",
           "cross-thin",
           "cross-thin",
           "cross-thin",
           "cross-thin",
           "cross-thin",
           "cross-thin",
           "cross-thin",
           "cross-thin",
           "cross-thin",
           "cross-thin",
           "cross-thin",
           "cross-thin",
           "cross-thin",
           "cross-thin",
           "cross-thin",
           "cross-thin",
           "cross-thin",
           "cross-thin",
           "cross-thin",
           "cross-thin",
           "cross-thin",
           "cross-thin",
           "cross-thin",
           "triangle-down",
           "cross-thin",
           "cross-thin",
           "cross-thin",
           "cross-thin",
           "cross-thin",
           "cross-thin",
           "cross-thin",
           "cross-thin",
           "cross-thin",
           "cross-thin",
           "triangle-up",
           "cross-thin",
           "cross-thin",
           "triangle-up",
           "cross-thin",
           "cross-thin",
           "cross-thin",
           "triangle-up",
           "cross-thin",
           "cross-thin",
           "cross-thin",
           "cross-thin",
           "triangle-down",
           "cross-thin",
           "cross-thin",
           "cross-thin",
           "triangle-up",
           "cross-thin",
           "cross-thin",
           "cross-thin",
           "cross-thin",
           "cross-thin",
           "cross-thin",
           "cross-thin",
           "cross-thin",
           "cross-thin",
           "triangle-up",
           "cross-thin",
           "cross-thin",
           "triangle-down",
           "cross-thin",
           "cross-thin",
           "cross-thin",
           "cross-thin",
           "cross-thin",
           "cross-thin",
           "cross-thin",
           "triangle-up",
           "cross-thin",
           "cross-thin",
           "cross-thin",
           "cross-thin",
           "cross-thin",
           "cross-thin",
           "cross-thin",
           "cross-thin",
           "cross-thin",
           "cross-thin",
           "cross-thin",
           "cross-thin",
           "cross-thin",
           "cross-thin",
           "cross-thin",
           "cross-thin",
           "cross-thin",
           "cross-thin",
           "cross-thin",
           "cross-thin",
           "cross-thin",
           "cross-thin",
           "cross-thin",
           "cross-thin",
           "cross-thin",
           "cross-thin",
           "triangle-down",
           "cross-thin",
           "cross-thin",
           "cross-thin",
           "cross-thin",
           "cross-thin",
           "cross-thin",
           "cross-thin",
           "cross-thin",
           "cross-thin",
           "cross-thin",
           "cross-thin",
           "cross-thin",
           "triangle-up",
           "cross-thin",
           "cross-thin",
           "cross-thin",
           "cross-thin",
           "cross-thin",
           "cross-thin",
           "cross-thin",
           "triangle-down",
           "triangle-up",
           "cross-thin",
           "cross-thin",
           "cross-thin",
           "cross-thin",
           "cross-thin",
           "cross-thin",
           "cross-thin",
           "cross-thin",
           "triangle-up",
           "cross-thin",
           "triangle-up",
           "cross-thin",
           "cross-thin"
          ]
         },
         "mode": "markers",
         "name": "Buy/Sell/Hold",
         "type": "scatter",
         "x": [
          "2019-02-08T00:00:00",
          "2019-02-11T00:00:00",
          "2019-02-12T00:00:00",
          "2019-02-14T00:00:00",
          "2019-02-15T00:00:00",
          "2019-02-18T00:00:00",
          "2019-02-19T00:00:00",
          "2019-02-21T00:00:00",
          "2019-02-22T00:00:00",
          "2019-02-25T00:00:00",
          "2019-02-26T00:00:00",
          "2019-02-27T00:00:00",
          "2019-02-28T00:00:00",
          "2019-03-01T00:00:00",
          "2019-03-05T00:00:00",
          "2019-03-06T00:00:00",
          "2019-03-07T00:00:00",
          "2019-03-08T00:00:00",
          "2019-03-11T00:00:00",
          "2019-03-12T00:00:00",
          "2019-03-13T00:00:00",
          "2019-03-14T00:00:00",
          "2019-03-15T00:00:00",
          "2019-03-18T00:00:00",
          "2019-03-19T00:00:00",
          "2019-03-20T00:00:00",
          "2019-03-22T00:00:00",
          "2019-03-26T00:00:00",
          "2019-03-27T00:00:00",
          "2019-04-01T00:00:00",
          "2019-04-02T00:00:00",
          "2019-04-03T00:00:00",
          "2019-04-04T00:00:00",
          "2019-04-05T00:00:00",
          "2019-04-08T00:00:00",
          "2019-04-09T00:00:00",
          "2019-04-10T00:00:00",
          "2019-04-11T00:00:00",
          "2019-04-12T00:00:00",
          "2019-04-15T00:00:00",
          "2019-04-16T00:00:00",
          "2019-04-18T00:00:00",
          "2019-04-22T00:00:00",
          "2019-04-23T00:00:00",
          "2019-04-24T00:00:00",
          "2019-04-25T00:00:00",
          "2019-04-26T00:00:00",
          "2019-04-30T00:00:00",
          "2019-05-02T00:00:00",
          "2019-05-03T00:00:00",
          "2019-05-07T00:00:00",
          "2019-05-08T00:00:00",
          "2019-05-09T00:00:00",
          "2019-05-10T00:00:00",
          "2019-05-13T00:00:00",
          "2019-05-14T00:00:00",
          "2019-05-15T00:00:00",
          "2019-05-16T00:00:00",
          "2019-05-17T00:00:00",
          "2019-05-20T00:00:00",
          "2019-05-21T00:00:00",
          "2019-05-22T00:00:00",
          "2019-05-24T00:00:00",
          "2019-05-27T00:00:00",
          "2019-05-29T00:00:00",
          "2019-05-30T00:00:00",
          "2019-05-31T00:00:00",
          "2019-06-03T00:00:00",
          "2019-06-04T00:00:00",
          "2019-06-06T00:00:00",
          "2019-06-07T00:00:00",
          "2019-06-10T00:00:00",
          "2019-06-11T00:00:00",
          "2019-06-12T00:00:00",
          "2019-06-13T00:00:00",
          "2019-06-14T00:00:00",
          "2019-06-17T00:00:00",
          "2019-06-18T00:00:00",
          "2019-06-19T00:00:00",
          "2019-06-20T00:00:00",
          "2019-06-21T00:00:00",
          "2019-06-25T00:00:00",
          "2019-06-26T00:00:00",
          "2019-06-27T00:00:00",
          "2019-06-28T00:00:00",
          "2019-07-01T00:00:00",
          "2019-07-02T00:00:00",
          "2019-07-03T00:00:00",
          "2019-07-04T00:00:00",
          "2019-07-05T00:00:00",
          "2019-07-08T00:00:00",
          "2019-07-09T00:00:00",
          "2019-07-11T00:00:00",
          "2019-07-12T00:00:00",
          "2019-07-15T00:00:00",
          "2019-07-16T00:00:00",
          "2019-07-17T00:00:00",
          "2019-07-18T00:00:00",
          "2019-07-19T00:00:00",
          "2019-07-22T00:00:00",
          "2019-07-23T00:00:00",
          "2019-07-24T00:00:00",
          "2019-07-25T00:00:00",
          "2019-07-26T00:00:00",
          "2019-07-29T00:00:00",
          "2019-07-30T00:00:00",
          "2019-07-31T00:00:00",
          "2019-08-01T00:00:00",
          "2019-08-02T00:00:00",
          "2019-08-05T00:00:00",
          "2019-08-06T00:00:00",
          "2019-08-07T00:00:00",
          "2019-08-08T00:00:00",
          "2019-08-09T00:00:00",
          "2019-08-13T00:00:00",
          "2019-08-14T00:00:00",
          "2019-08-16T00:00:00",
          "2019-08-19T00:00:00",
          "2019-08-20T00:00:00",
          "2019-08-21T00:00:00",
          "2019-08-22T00:00:00",
          "2019-08-23T00:00:00",
          "2019-08-26T00:00:00",
          "2019-08-27T00:00:00",
          "2019-08-28T00:00:00",
          "2019-08-29T00:00:00",
          "2019-08-30T00:00:00",
          "2019-09-03T00:00:00",
          "2019-09-04T00:00:00",
          "2019-09-05T00:00:00",
          "2019-09-06T00:00:00",
          "2019-09-09T00:00:00",
          "2019-09-11T00:00:00",
          "2019-09-12T00:00:00",
          "2019-09-16T00:00:00",
          "2019-09-17T00:00:00",
          "2019-09-18T00:00:00",
          "2019-09-19T00:00:00",
          "2019-09-20T00:00:00",
          "2019-09-25T00:00:00",
          "2019-09-26T00:00:00",
          "2019-09-27T00:00:00",
          "2019-10-01T00:00:00",
          "2019-10-03T00:00:00",
          "2019-10-04T00:00:00",
          "2019-10-07T00:00:00",
          "2019-10-09T00:00:00",
          "2019-10-10T00:00:00",
          "2019-10-11T00:00:00",
          "2019-10-14T00:00:00",
          "2019-10-15T00:00:00",
          "2019-10-16T00:00:00",
          "2019-10-17T00:00:00",
          "2019-10-18T00:00:00",
          "2019-10-22T00:00:00",
          "2019-10-24T00:00:00",
          "2019-10-25T00:00:00",
          "2019-10-29T00:00:00",
          "2019-10-30T00:00:00",
          "2019-10-31T00:00:00",
          "2019-11-01T00:00:00",
          "2019-11-04T00:00:00",
          "2019-11-05T00:00:00",
          "2019-11-06T00:00:00",
          "2019-11-07T00:00:00",
          "2019-11-08T00:00:00",
          "2019-11-11T00:00:00",
          "2019-11-13T00:00:00",
          "2019-11-14T00:00:00",
          "2019-11-15T00:00:00",
          "2019-11-18T00:00:00",
          "2019-11-19T00:00:00",
          "2019-11-20T00:00:00",
          "2019-11-21T00:00:00",
          "2019-11-22T00:00:00",
          "2019-11-25T00:00:00",
          "2019-11-26T00:00:00",
          "2019-11-27T00:00:00",
          "2019-11-28T00:00:00",
          "2019-11-29T00:00:00",
          "2019-12-02T00:00:00",
          "2019-12-03T00:00:00",
          "2019-12-04T00:00:00",
          "2019-12-05T00:00:00",
          "2019-12-06T00:00:00",
          "2019-12-09T00:00:00",
          "2019-12-10T00:00:00"
         ],
         "xaxis": "x",
         "y": [
          522.9000244140625,
          491,
          486,
          493.25,
          492.1499938964844,
          484.6499938964844,
          489.6000061035156,
          508.3499755859375,
          503.5,
          513.75,
          517.25,
          527.5,
          529.5999755859375,
          532,
          546.4000244140625,
          547.0999755859375,
          553.4000244140625,
          552,
          548.0999755859375,
          558.0999755859375,
          570.5499877929688,
          570,
          559,
          561.5499877929688,
          563,
          560.9500122070312,
          560,
          540.1500244140625,
          550.9000244140625,
          584.9500122070312,
          586.0499877929688,
          623.25,
          590.0999755859375,
          600.8499755859375,
          595.75,
          593.2000122070312,
          592.25,
          589.75,
          593.9500122070312,
          608.8499755859375,
          610.6500244140625,
          604.9500122070312,
          606.2999877929688,
          606,
          605.0499877929688,
          606.0499877929688,
          587,
          571,
          582,
          590.3499755859375,
          536,
          543.2000122070312,
          550,
          533.1500244140625,
          561.2999877929688,
          563,
          573,
          578.5999755859375,
          580.2999877929688,
          586.5999755859375,
          598,
          594,
          585.2000122070312,
          590.25,
          623.9500122070312,
          621.9500122070312,
          623.2000122070312,
          627,
          629.75,
          608.7999877929688,
          598.5,
          600.2000122070312,
          604.0999755859375,
          598.0999755859375,
          590.1500244140625,
          592.0999755859375,
          624.25,
          566.0499877929688,
          558.25,
          566.8499755859375,
          550.9000244140625,
          553.0499877929688,
          564.5,
          567.1500244140625,
          569,
          567,
          562.8499755859375,
          564.5499877929688,
          566.2999877929688,
          548.4500122070312,
          541.2000122070312,
          545.2000122070312,
          538.7000122070312,
          549.2000122070312,
          546.0999755859375,
          544,
          542,
          519.6500244140625,
          512.5999755859375,
          549,
          490,
          450.5,
          441.25,
          454.5,
          457.3999938964844,
          456.6000061035156,
          440,
          449.1499938964844,
          449.5,
          443.2999877929688,
          441.0499877929688,
          460.1499938964844,
          458.2000122070313,
          461.75,
          451.5499877929688,
          458.5,
          497,
          472.6499938964844,
          472.3999938964844,
          465,
          457,
          451.75,
          456.0499877929688,
          470.0499877929688,
          458.1000061035156,
          454.3500061035156,
          459.9500122070313,
          450.5,
          433,
          445,
          470.1000061035156,
          467.6499938964844,
          479,
          482.5,
          498.1000061035156,
          512.5,
          519.25,
          518.2000122070312,
          515.2000122070312,
          555.75,
          554,
          540.0999755859375,
          536,
          536.4000244140625,
          548.4000244140625,
          533.0999755859375,
          545,
          531.5,
          546.0499877929688,
          549,
          541,
          574.25,
          535.0999755859375,
          527.5499877929688,
          540.4000244140625,
          531.75,
          531.75,
          541.5499877929688,
          537,
          538.9500122070312,
          543.4000244140625,
          540,
          526.0499877929688,
          513.5499877929688,
          515,
          515.0999755859375,
          517.4000244140625,
          508.25,
          498.0499877929688,
          503.6500244140625,
          502.0999755859375,
          502.04998779296875,
          537.7999877929688,
          504.0999755859375,
          502,
          508,
          497.1000061035156,
          503,
          506.95001220703125,
          508.0999755859375,
          508.0999755859375,
          500.1000061035156,
          502.29998779296875,
          504.8499755859375,
          505,
          503,
          505.0999755859375
         ],
         "yaxis": "y"
        },
        {
         "close": [
          534.0499877929688,
          505.3999938964844,
          515.75,
          516.5999755859375,
          509.0499877929688,
          499.6499938964844,
          508.5499877929688,
          521.9000244140625,
          516.3499755859375,
          536.3499755859375,
          538.8499755859375,
          539,
          541.9500122070312,
          555.9500122070312,
          562.1500244140625,
          561.9000244140625,
          567.2999877929688,
          566.0999755859375,
          565.8499755859375,
          589.2000122070312,
          585.3499755859375,
          584.5499877929688,
          570.8499755859375,
          579.9500122070312,
          581.4500122070312,
          573.5,
          572.6500244140625,
          562,
          569.7999877929688,
          600.7000122070312,
          604.4000244140625,
          608.8499755859375,
          611,
          619.9500122070312,
          609.4000244140625,
          608.2000122070312,
          605.9500122070312,
          605.5,
          622,
          625.1500244140625,
          624.9500122070312,
          624.2999877929688,
          620.25,
          617.2999877929688,
          622.1500244140625,
          619.2999877929688,
          599.0999755859375,
          595.0499877929688,
          608.5499877929688,
          602.7000122070312,
          561.7999877929688,
          570.2000122070312,
          562.8499755859375,
          583.4000244140625,
          579.9500122070312,
          585.9000244140625,
          592.5499877929688,
          592.9000244140625,
          594.75,
          612.0999755859375,
          619.5,
          609.6500244140625,
          600.9000244140625,
          627.7000122070312,
          637.5499877929688,
          640.5999755859375,
          636.0999755859375,
          641.4000244140625,
          641.75,
          628.6500244140625,
          610.75,
          622.0999755859375,
          619.4500122070312,
          610.2999877929688,
          609.75,
          610.4500122070312,
          587.7000122070312,
          579.25,
          576.8499755859375,
          595.5,
          563,
          574.7999877929688,
          581.5999755859375,
          583.8499755859375,
          581.8499755859375,
          578.6500244140625,
          588.5,
          576.9500122070312,
          584.3499755859375,
          561.5499877929688,
          561.0999755859375,
          566.25,
          559.8499755859375,
          566,
          559.0999755859375,
          571.0499877929688,
          556.9000244140625,
          536.9500122070312,
          529.0499877929688,
          522.5499877929688,
          510.6000061035156,
          468.2999877929688,
          476.1000061035156,
          479.75,
          476.75,
          467.9500122070313,
          474,
          466.1000061035156,
          467.5,
          456.5,
          469.6000061035156,
          478.6499938964844,
          478.6000061035156,
          476.8500061035156,
          471.2000122070313,
          484.4500122070313,
          481.75,
          500.0499877929688,
          488.7000122070313,
          479.3500061035156,
          471.8999938964844,
          466.2999877929688,
          488.0499877929688,
          481.2000122070313,
          472.0499877929688,
          469.9500122070313,
          474.1000061035156,
          463.5499877929688,
          456.7000122070313,
          484.3999938964844,
          489.3999938964844,
          495.5,
          491.8500061035156,
          498.4500122070313,
          525.6500244140625,
          530.5,
          534.7000122070312,
          535.4500122070312,
          583.25,
          568,
          571.5499877929688,
          556.9500122070312,
          556.1500244140625,
          561.5499877929688,
          560.6500244140625,
          556.4500122070312,
          561.3499755859375,
          561.5,
          564.7999877929688,
          561.3499755859375,
          560.25,
          559.5,
          554.0999755859375,
          552.5,
          555.9500122070312,
          548.0999755859375,
          556.2999877929688,
          554.5999755859375,
          549.2999877929688,
          558.2999877929688,
          565.8499755859375,
          554.7000122070312,
          539.25,
          530,
          530,
          532,
          531.3499755859375,
          520.1500244140625,
          524.4000244140625,
          518.25,
          514.8499755859375,
          521.7000122070312,
          525.4500122070312,
          520.0999755859375,
          520.2999877929688,
          524.9000244140625,
          516.2999877929688,
          516.75,
          521,
          536.0499877929688,
          522.0499877929688,
          513.4000244140625,
          515.1500244140625,
          516.5999755859375,
          517.5,
          518,
          520.7999877929688
         ],
         "high": [
          548.9500122070312,
          535.7999877929688,
          518.7000122070312,
          519.9000244140625,
          515,
          509.1499938964844,
          514.3499755859375,
          526.9000244140625,
          528,
          542.5,
          540.9000244140625,
          549.8499755859375,
          549.7999877929688,
          561.6500244140625,
          564.3499755859375,
          565.5,
          578,
          569,
          571.75,
          596.5,
          597.0999755859375,
          593.4500122070312,
          587.5,
          586,
          584.9000244140625,
          582.8499755859375,
          580.25,
          565.5499877929688,
          585,
          608.7000122070312,
          606.9000244140625,
          613.25,
          615,
          625.5,
          627.9000244140625,
          612.5,
          612.2000122070312,
          615.2999877929688,
          624.9000244140625,
          628.4000244140625,
          635,
          627.7000122070312,
          629.5499877929688,
          623.4000244140625,
          625,
          627.9500122070312,
          618.2000122070312,
          598.7000122070312,
          616.4500122070312,
          618.7999877929688,
          580.9000244140625,
          572.9000244140625,
          569.9000244140625,
          591,
          592.2999877929688,
          588.6500244140625,
          597.6500244140625,
          596.4000244140625,
          600.7000122070312,
          620,
          624,
          621.7000122070312,
          619,
          630.8499755859375,
          647.7000122070312,
          644.75,
          645.75,
          644,
          648.5999755859375,
          643.9000244140625,
          631.0999755859375,
          624.5,
          623.1500244140625,
          620.8499755859375,
          616.1500244140625,
          619.9500122070312,
          614.25,
          593,
          585,
          599,
          600,
          577.6500244140625,
          589,
          591,
          592.8499755859375,
          586.75,
          599.5999755859375,
          592.9000244140625,
          587,
          595.75,
          569.5999755859375,
          568.9000244140625,
          562.5,
          573.4000244140625,
          571.9500122070312,
          573,
          582.9000244140625,
          555.1500244140625,
          539.7999877929688,
          539,
          522.2999877929688,
          511.5,
          484,
          483.5499877929688,
          484,
          481,
          476.9500122070313,
          474.8500061035156,
          469.75,
          466.75,
          472.4500122070313,
          492.2000122070313,
          484.6000061035156,
          485.25,
          480.7999877929688,
          486.7000122070313,
          487,
          505,
          500,
          492,
          479.0499877929688,
          470.5499877929688,
          494,
          499.7999877929688,
          487.7000122070313,
          474.3500061035156,
          483.6499938964844,
          472.7999877929688,
          462,
          488.8999938964844,
          491.7000122070313,
          497.9500122070313,
          512,
          503.7999877929688,
          530,
          537.5499877929688,
          542,
          538.2000122070312,
          590.7999877929688,
          589.7000122070312,
          581,
          576,
          570,
          580,
          571.7999877929688,
          562,
          565.8499755859375,
          578,
          569.5,
          569,
          562.0999755859375,
          564.25,
          559.9500122070312,
          567,
          564.5,
          567,
          559,
          561.75,
          556,
          560,
          574.6500244140625,
          573.5999755859375,
          558.75,
          542.5999755859375,
          539,
          536.9000244140625,
          534,
          529.75,
          533.4000244140625,
          527.5999755859375,
          524.4000244140625,
          524.4000244140625,
          527.7999877929688,
          523.5999755859375,
          522.5999755859375,
          530.9500122070312,
          530,
          524.7999877929688,
          524.9000244140625,
          543.9000244140625,
          534.7000122070312,
          522.5,
          523.9500122070312,
          521.5499877929688,
          520,
          518.9000244140625,
          531.25
         ],
         "low": [
          532.9000244140625,
          501,
          496,
          503.25,
          502.1499938964844,
          494.6499938964844,
          499.6000061035156,
          518.3499755859375,
          513.5,
          523.75,
          527.25,
          537.5,
          539.5999755859375,
          542,
          556.4000244140625,
          557.0999755859375,
          563.4000244140625,
          562,
          558.0999755859375,
          568.0999755859375,
          580.5499877929688,
          580,
          569,
          571.5499877929688,
          573,
          570.9500122070312,
          570,
          550.1500244140625,
          560.9000244140625,
          594.9500122070312,
          596.0499877929688,
          602,
          600.0999755859375,
          610.8499755859375,
          605.75,
          603.2000122070312,
          602.25,
          599.75,
          603.9500122070312,
          618.8499755859375,
          620.6500244140625,
          614.9500122070312,
          616.2999877929688,
          616,
          615.0499877929688,
          616.0499877929688,
          597,
          581,
          592,
          600.3499755859375,
          546,
          553.2000122070312,
          560,
          543.1500244140625,
          571.2999877929688,
          573,
          583,
          588.5999755859375,
          590.2999877929688,
          596.5999755859375,
          608,
          604,
          595.2000122070312,
          600.25,
          633.9500122070312,
          631.9500122070312,
          633.2000122070312,
          637,
          639.75,
          618.7999877929688,
          608.5,
          610.2000122070312,
          614.0999755859375,
          608.0999755859375,
          600.1500244140625,
          602.0999755859375,
          584,
          576.0499877929688,
          568.25,
          576.8499755859375,
          560.9000244140625,
          563.0499877929688,
          574.5,
          577.1500244140625,
          579,
          577,
          572.8499755859375,
          574.5499877929688,
          576.2999877929688,
          558.4500122070312,
          551.2000122070312,
          555.2000122070312,
          548.7000122070312,
          559.2000122070312,
          556.0999755859375,
          554,
          552,
          529.6500244140625,
          522.5999755859375,
          517,
          500,
          460.5,
          451.25,
          464.5,
          467.3999938964844,
          466.6000061035156,
          450,
          459.1499938964844,
          459.5,
          453.2999877929688,
          451.0499877929688,
          470.1499938964844,
          468.2000122070313,
          471.75,
          461.5499877929688,
          468.5,
          473.3500061035156,
          482.6499938964844,
          482.3999938964844,
          475,
          467,
          461.75,
          466.0499877929688,
          480.0499877929688,
          468.1000061035156,
          464.3500061035156,
          469.9500122070313,
          460.5,
          443,
          455,
          480.1000061035156,
          477.6499938964844,
          489,
          492.5,
          508.1000061035156,
          522.5,
          529.25,
          528.2000122070312,
          525.2000122070312,
          565.75,
          564,
          550.0999755859375,
          546,
          546.4000244140625,
          558.4000244140625,
          543.0999755859375,
          555,
          541.5,
          556.0499877929688,
          559,
          551,
          555.25,
          545.0999755859375,
          537.5499877929688,
          550.4000244140625,
          541.75,
          541.75,
          551.5499877929688,
          547,
          548.9500122070312,
          553.4000244140625,
          550,
          536.0499877929688,
          523.5499877929688,
          525,
          525.0999755859375,
          527.4000244140625,
          518.25,
          508.0499877929688,
          513.6500244140625,
          512.0999755859375,
          512.0499877929688,
          512.6500244140625,
          514.0999755859375,
          512,
          518,
          507.1000061035156,
          513,
          516.9500122070312,
          518.0999755859375,
          518.0999755859375,
          510.1000061035156,
          512.2999877929688,
          514.8499755859375,
          515,
          513,
          515.0999755859375
         ],
         "name": "OHLC",
         "open": [
          547.9000244140625,
          528.0499877929688,
          496.5499877929688,
          508,
          515,
          507.7999877929688,
          504,
          523.9000244140625,
          524,
          523.9000244140625,
          535.75,
          539.7999877929688,
          543.3499755859375,
          543.8499755859375,
          559.9500122070312,
          564.7999877929688,
          566,
          568.4000244140625,
          569.5,
          570,
          590.0999755859375,
          587.0999755859375,
          587.5,
          575,
          578,
          581,
          571.9000244140625,
          551,
          562,
          595.9000244140625,
          604.5999755859375,
          607,
          606,
          611.9000244140625,
          619.9500122070312,
          610.0999755859375,
          606.9000244140625,
          602.5499877929688,
          603.9500122070312,
          623,
          627.2000122070312,
          615.2000122070312,
          620,
          616.0499877929688,
          615.0499877929688,
          623.7999877929688,
          618.0999755859375,
          598,
          592,
          610.0499877929688,
          579.9500122070312,
          553.2000122070312,
          567.2999877929688,
          563,
          575,
          575,
          584,
          594.2999877929688,
          593,
          603,
          614,
          620,
          616.0499877929688,
          600.25,
          643,
          637.5,
          643,
          640,
          645.5,
          642.5,
          628,
          610.75,
          622.0999755859375,
          615.9000244140625,
          610.0999755859375,
          602.0999755859375,
          614.25,
          586.0499877929688,
          583,
          577.4000244140625,
          600,
          575.7999877929688,
          574.9000244140625,
          585.2999877929688,
          585,
          585.9500122070312,
          581.5,
          589.9000244140625,
          577.5,
          585,
          560.5499877929688,
          562,
          557.7000122070312,
          559.7999877929688,
          568.7999877929688,
          562.1500244140625,
          573.0499877929688,
          550,
          536.9000244140625,
          522.5,
          520,
          511.5,
          468.2999877929688,
          480,
          479.75,
          477,
          465,
          469.7000122070313,
          465.8500061035156,
          465,
          456.8999938964844,
          470.6499938964844,
          481.0499877929688,
          478,
          474.5,
          471.8500061035156,
          483.75,
          483.8500061035156,
          500,
          489.3999938964844,
          476,
          469,
          468,
          489,
          481.5499877929688,
          470,
          469.9500122070313,
          470.8999938964844,
          460.5499877929688,
          456.7000122070313,
          486.7999877929688,
          489.7000122070313,
          497,
          495.9500122070313,
          518,
          524.9500122070312,
          532,
          535.5499877929688,
          534.0499877929688,
          584.9500122070312,
          564,
          566,
          557.7000122070312,
          558.2999877929688,
          561.5999755859375,
          560.6500244140625,
          558,
          560.6500244140625,
          561.6500244140625,
          564,
          559,
          561,
          559.5,
          555.0999755859375,
          554.5999755859375,
          567,
          547.5,
          555.75,
          552,
          550,
          557,
          568.25,
          555,
          541.9000244140625,
          538,
          532.5499877929688,
          531.75,
          529.2000122070312,
          520,
          527.5999755859375,
          524.4000244140625,
          512.0499877929688,
          520,
          521,
          518,
          522.5,
          521.5499877929688,
          516,
          516.9500122070312,
          521,
          533,
          520,
          512.2999877929688,
          515.1500244140625,
          517.2999877929688,
          515,
          518
         ],
         "type": "candlestick",
         "x": [
          "2019-02-08T00:00:00",
          "2019-02-11T00:00:00",
          "2019-02-12T00:00:00",
          "2019-02-14T00:00:00",
          "2019-02-15T00:00:00",
          "2019-02-18T00:00:00",
          "2019-02-19T00:00:00",
          "2019-02-21T00:00:00",
          "2019-02-22T00:00:00",
          "2019-02-25T00:00:00",
          "2019-02-26T00:00:00",
          "2019-02-27T00:00:00",
          "2019-02-28T00:00:00",
          "2019-03-01T00:00:00",
          "2019-03-05T00:00:00",
          "2019-03-06T00:00:00",
          "2019-03-07T00:00:00",
          "2019-03-08T00:00:00",
          "2019-03-11T00:00:00",
          "2019-03-12T00:00:00",
          "2019-03-13T00:00:00",
          "2019-03-14T00:00:00",
          "2019-03-15T00:00:00",
          "2019-03-18T00:00:00",
          "2019-03-19T00:00:00",
          "2019-03-20T00:00:00",
          "2019-03-22T00:00:00",
          "2019-03-26T00:00:00",
          "2019-03-27T00:00:00",
          "2019-04-01T00:00:00",
          "2019-04-02T00:00:00",
          "2019-04-03T00:00:00",
          "2019-04-04T00:00:00",
          "2019-04-05T00:00:00",
          "2019-04-08T00:00:00",
          "2019-04-09T00:00:00",
          "2019-04-10T00:00:00",
          "2019-04-11T00:00:00",
          "2019-04-12T00:00:00",
          "2019-04-15T00:00:00",
          "2019-04-16T00:00:00",
          "2019-04-18T00:00:00",
          "2019-04-22T00:00:00",
          "2019-04-23T00:00:00",
          "2019-04-24T00:00:00",
          "2019-04-25T00:00:00",
          "2019-04-26T00:00:00",
          "2019-04-30T00:00:00",
          "2019-05-02T00:00:00",
          "2019-05-03T00:00:00",
          "2019-05-07T00:00:00",
          "2019-05-08T00:00:00",
          "2019-05-09T00:00:00",
          "2019-05-10T00:00:00",
          "2019-05-13T00:00:00",
          "2019-05-14T00:00:00",
          "2019-05-15T00:00:00",
          "2019-05-16T00:00:00",
          "2019-05-17T00:00:00",
          "2019-05-20T00:00:00",
          "2019-05-21T00:00:00",
          "2019-05-22T00:00:00",
          "2019-05-24T00:00:00",
          "2019-05-27T00:00:00",
          "2019-05-29T00:00:00",
          "2019-05-30T00:00:00",
          "2019-05-31T00:00:00",
          "2019-06-03T00:00:00",
          "2019-06-04T00:00:00",
          "2019-06-06T00:00:00",
          "2019-06-07T00:00:00",
          "2019-06-10T00:00:00",
          "2019-06-11T00:00:00",
          "2019-06-12T00:00:00",
          "2019-06-13T00:00:00",
          "2019-06-14T00:00:00",
          "2019-06-17T00:00:00",
          "2019-06-18T00:00:00",
          "2019-06-19T00:00:00",
          "2019-06-20T00:00:00",
          "2019-06-21T00:00:00",
          "2019-06-25T00:00:00",
          "2019-06-26T00:00:00",
          "2019-06-27T00:00:00",
          "2019-06-28T00:00:00",
          "2019-07-01T00:00:00",
          "2019-07-02T00:00:00",
          "2019-07-03T00:00:00",
          "2019-07-04T00:00:00",
          "2019-07-05T00:00:00",
          "2019-07-08T00:00:00",
          "2019-07-09T00:00:00",
          "2019-07-11T00:00:00",
          "2019-07-12T00:00:00",
          "2019-07-15T00:00:00",
          "2019-07-16T00:00:00",
          "2019-07-17T00:00:00",
          "2019-07-18T00:00:00",
          "2019-07-19T00:00:00",
          "2019-07-22T00:00:00",
          "2019-07-23T00:00:00",
          "2019-07-24T00:00:00",
          "2019-07-25T00:00:00",
          "2019-07-26T00:00:00",
          "2019-07-29T00:00:00",
          "2019-07-30T00:00:00",
          "2019-07-31T00:00:00",
          "2019-08-01T00:00:00",
          "2019-08-02T00:00:00",
          "2019-08-05T00:00:00",
          "2019-08-06T00:00:00",
          "2019-08-07T00:00:00",
          "2019-08-08T00:00:00",
          "2019-08-09T00:00:00",
          "2019-08-13T00:00:00",
          "2019-08-14T00:00:00",
          "2019-08-16T00:00:00",
          "2019-08-19T00:00:00",
          "2019-08-20T00:00:00",
          "2019-08-21T00:00:00",
          "2019-08-22T00:00:00",
          "2019-08-23T00:00:00",
          "2019-08-26T00:00:00",
          "2019-08-27T00:00:00",
          "2019-08-28T00:00:00",
          "2019-08-29T00:00:00",
          "2019-08-30T00:00:00",
          "2019-09-03T00:00:00",
          "2019-09-04T00:00:00",
          "2019-09-05T00:00:00",
          "2019-09-06T00:00:00",
          "2019-09-09T00:00:00",
          "2019-09-11T00:00:00",
          "2019-09-12T00:00:00",
          "2019-09-16T00:00:00",
          "2019-09-17T00:00:00",
          "2019-09-18T00:00:00",
          "2019-09-19T00:00:00",
          "2019-09-20T00:00:00",
          "2019-09-25T00:00:00",
          "2019-09-26T00:00:00",
          "2019-09-27T00:00:00",
          "2019-10-01T00:00:00",
          "2019-10-03T00:00:00",
          "2019-10-04T00:00:00",
          "2019-10-07T00:00:00",
          "2019-10-09T00:00:00",
          "2019-10-10T00:00:00",
          "2019-10-11T00:00:00",
          "2019-10-14T00:00:00",
          "2019-10-15T00:00:00",
          "2019-10-16T00:00:00",
          "2019-10-17T00:00:00",
          "2019-10-18T00:00:00",
          "2019-10-22T00:00:00",
          "2019-10-24T00:00:00",
          "2019-10-25T00:00:00",
          "2019-10-29T00:00:00",
          "2019-10-30T00:00:00",
          "2019-10-31T00:00:00",
          "2019-11-01T00:00:00",
          "2019-11-04T00:00:00",
          "2019-11-05T00:00:00",
          "2019-11-06T00:00:00",
          "2019-11-07T00:00:00",
          "2019-11-08T00:00:00",
          "2019-11-11T00:00:00",
          "2019-11-13T00:00:00",
          "2019-11-14T00:00:00",
          "2019-11-15T00:00:00",
          "2019-11-18T00:00:00",
          "2019-11-19T00:00:00",
          "2019-11-20T00:00:00",
          "2019-11-21T00:00:00",
          "2019-11-22T00:00:00",
          "2019-11-25T00:00:00",
          "2019-11-26T00:00:00",
          "2019-11-27T00:00:00",
          "2019-11-28T00:00:00",
          "2019-11-29T00:00:00",
          "2019-12-02T00:00:00",
          "2019-12-03T00:00:00",
          "2019-12-04T00:00:00",
          "2019-12-05T00:00:00",
          "2019-12-06T00:00:00",
          "2019-12-09T00:00:00",
          "2019-12-10T00:00:00"
         ],
         "xaxis": "x",
         "yaxis": "y"
        },
        {
         "mode": "lines",
         "name": "Net Worth (INR)",
         "type": "scatter",
         "x": [
          "2019-02-08T00:00:00",
          "2019-02-11T00:00:00",
          "2019-02-12T00:00:00",
          "2019-02-14T00:00:00",
          "2019-02-15T00:00:00",
          "2019-02-18T00:00:00",
          "2019-02-19T00:00:00",
          "2019-02-21T00:00:00",
          "2019-02-22T00:00:00",
          "2019-02-25T00:00:00",
          "2019-02-26T00:00:00",
          "2019-02-27T00:00:00",
          "2019-02-28T00:00:00",
          "2019-03-01T00:00:00",
          "2019-03-05T00:00:00",
          "2019-03-06T00:00:00",
          "2019-03-07T00:00:00",
          "2019-03-08T00:00:00",
          "2019-03-11T00:00:00",
          "2019-03-12T00:00:00",
          "2019-03-13T00:00:00",
          "2019-03-14T00:00:00",
          "2019-03-15T00:00:00",
          "2019-03-18T00:00:00",
          "2019-03-19T00:00:00",
          "2019-03-20T00:00:00",
          "2019-03-22T00:00:00",
          "2019-03-26T00:00:00",
          "2019-03-27T00:00:00",
          "2019-04-01T00:00:00",
          "2019-04-02T00:00:00",
          "2019-04-03T00:00:00",
          "2019-04-04T00:00:00",
          "2019-04-05T00:00:00",
          "2019-04-08T00:00:00",
          "2019-04-09T00:00:00",
          "2019-04-10T00:00:00",
          "2019-04-11T00:00:00",
          "2019-04-12T00:00:00",
          "2019-04-15T00:00:00",
          "2019-04-16T00:00:00",
          "2019-04-18T00:00:00",
          "2019-04-22T00:00:00",
          "2019-04-23T00:00:00",
          "2019-04-24T00:00:00",
          "2019-04-25T00:00:00",
          "2019-04-26T00:00:00",
          "2019-04-30T00:00:00",
          "2019-05-02T00:00:00",
          "2019-05-03T00:00:00",
          "2019-05-07T00:00:00",
          "2019-05-08T00:00:00",
          "2019-05-09T00:00:00",
          "2019-05-10T00:00:00",
          "2019-05-13T00:00:00",
          "2019-05-14T00:00:00",
          "2019-05-15T00:00:00",
          "2019-05-16T00:00:00",
          "2019-05-17T00:00:00",
          "2019-05-20T00:00:00",
          "2019-05-21T00:00:00",
          "2019-05-22T00:00:00",
          "2019-05-24T00:00:00",
          "2019-05-27T00:00:00",
          "2019-05-29T00:00:00",
          "2019-05-30T00:00:00",
          "2019-05-31T00:00:00",
          "2019-06-03T00:00:00",
          "2019-06-04T00:00:00",
          "2019-06-06T00:00:00",
          "2019-06-07T00:00:00",
          "2019-06-10T00:00:00",
          "2019-06-11T00:00:00",
          "2019-06-12T00:00:00",
          "2019-06-13T00:00:00",
          "2019-06-14T00:00:00",
          "2019-06-17T00:00:00",
          "2019-06-18T00:00:00",
          "2019-06-19T00:00:00",
          "2019-06-20T00:00:00",
          "2019-06-21T00:00:00",
          "2019-06-25T00:00:00",
          "2019-06-26T00:00:00",
          "2019-06-27T00:00:00",
          "2019-06-28T00:00:00",
          "2019-07-01T00:00:00",
          "2019-07-02T00:00:00",
          "2019-07-03T00:00:00",
          "2019-07-04T00:00:00",
          "2019-07-05T00:00:00",
          "2019-07-08T00:00:00",
          "2019-07-09T00:00:00",
          "2019-07-11T00:00:00",
          "2019-07-12T00:00:00",
          "2019-07-15T00:00:00",
          "2019-07-16T00:00:00",
          "2019-07-17T00:00:00",
          "2019-07-18T00:00:00",
          "2019-07-19T00:00:00",
          "2019-07-22T00:00:00",
          "2019-07-23T00:00:00",
          "2019-07-24T00:00:00",
          "2019-07-25T00:00:00",
          "2019-07-26T00:00:00",
          "2019-07-29T00:00:00",
          "2019-07-30T00:00:00",
          "2019-07-31T00:00:00",
          "2019-08-01T00:00:00",
          "2019-08-02T00:00:00",
          "2019-08-05T00:00:00",
          "2019-08-06T00:00:00",
          "2019-08-07T00:00:00",
          "2019-08-08T00:00:00",
          "2019-08-09T00:00:00",
          "2019-08-13T00:00:00",
          "2019-08-14T00:00:00",
          "2019-08-16T00:00:00",
          "2019-08-19T00:00:00",
          "2019-08-20T00:00:00",
          "2019-08-21T00:00:00",
          "2019-08-22T00:00:00",
          "2019-08-23T00:00:00",
          "2019-08-26T00:00:00",
          "2019-08-27T00:00:00",
          "2019-08-28T00:00:00",
          "2019-08-29T00:00:00",
          "2019-08-30T00:00:00",
          "2019-09-03T00:00:00",
          "2019-09-04T00:00:00",
          "2019-09-05T00:00:00",
          "2019-09-06T00:00:00",
          "2019-09-09T00:00:00",
          "2019-09-11T00:00:00",
          "2019-09-12T00:00:00",
          "2019-09-16T00:00:00",
          "2019-09-17T00:00:00",
          "2019-09-18T00:00:00",
          "2019-09-19T00:00:00",
          "2019-09-20T00:00:00",
          "2019-09-25T00:00:00",
          "2019-09-26T00:00:00",
          "2019-09-27T00:00:00",
          "2019-10-01T00:00:00",
          "2019-10-03T00:00:00",
          "2019-10-04T00:00:00",
          "2019-10-07T00:00:00",
          "2019-10-09T00:00:00",
          "2019-10-10T00:00:00",
          "2019-10-11T00:00:00",
          "2019-10-14T00:00:00",
          "2019-10-15T00:00:00",
          "2019-10-16T00:00:00",
          "2019-10-17T00:00:00",
          "2019-10-18T00:00:00",
          "2019-10-22T00:00:00",
          "2019-10-24T00:00:00",
          "2019-10-25T00:00:00",
          "2019-10-29T00:00:00",
          "2019-10-30T00:00:00",
          "2019-10-31T00:00:00",
          "2019-11-01T00:00:00",
          "2019-11-04T00:00:00",
          "2019-11-05T00:00:00",
          "2019-11-06T00:00:00",
          "2019-11-07T00:00:00",
          "2019-11-08T00:00:00",
          "2019-11-11T00:00:00",
          "2019-11-13T00:00:00",
          "2019-11-14T00:00:00",
          "2019-11-15T00:00:00",
          "2019-11-18T00:00:00",
          "2019-11-19T00:00:00",
          "2019-11-20T00:00:00",
          "2019-11-21T00:00:00",
          "2019-11-22T00:00:00",
          "2019-11-25T00:00:00",
          "2019-11-26T00:00:00",
          "2019-11-27T00:00:00",
          "2019-11-28T00:00:00",
          "2019-11-29T00:00:00",
          "2019-12-02T00:00:00",
          "2019-12-03T00:00:00",
          "2019-12-04T00:00:00",
          "2019-12-05T00:00:00",
          "2019-12-06T00:00:00",
          "2019-12-09T00:00:00",
          "2019-12-10T00:00:00"
         ],
         "xaxis": "x2",
         "y": [
          10000,
          10000,
          10000,
          10000,
          10000,
          10000,
          10000,
          10000,
          10000,
          10000,
          10000,
          10000,
          10000,
          10000,
          10000,
          10000,
          10000,
          10000.14200828961,
          10001.411367709783,
          10050.402406663387,
          10069.276564820158,
          10056.481917716143,
          10046.2711973004,
          9998.75513424314,
          9993.920594478604,
          9922.058844446787,
          9896.06373192029,
          9724.683435654442,
          9795.929625672507,
          10325.418360549249,
          10449.422059087792,
          10508.01532821798,
          10478.543551171471,
          10686.7996532054,
          10678.118656988814,
          10531.95692261021,
          10482.059518588465,
          10453.76423105755,
          10463.733736622831,
          10751.11648469628,
          10800.943465964952,
          10632.963961391717,
          10703.90456192027,
          10643.249231854441,
          10723.885893772227,
          10733.520085885666,
          10632.658351249966,
          10304.102217424563,
          10507.688884841275,
          10449.757352595247,
          9903.476836193004,
          9903.1885925971,
          9822.03371486911,
          9826.293398089154,
          10000.796817747787,
          10003.315125275201,
          10126.228552948098,
          10277.060492317964,
          10282.385147281515,
          10553.736194152223,
          10664.712257241845,
          10547.569345194133,
          10546.160946393582,
          10773.15082492949,
          11036.809390690736,
          10998.71116209971,
          11004.788974392875,
          11028.70074004295,
          11070.448597667832,
          10854.989019011216,
          10562.786352852385,
          10698.485907813867,
          10705.113434511033,
          10627.090293132867,
          10541.00419603978,
          10545.285294629508,
          10472.08332656901,
          10349.976339588615,
          10355.95597397885,
          10398.525524133926,
          10389.569000460608,
          10318.675215605175,
          10328.143158176857,
          10366.226430943383,
          10355.370373067493,
          10355.999111008194,
          10384.965087526289,
          10360.73236381059,
          10352.510872422621,
          10211.524715299385,
          10063.15878902122,
          10092.790969226548,
          10040.485980117153,
          10105.787632016187,
          10071.16642651843,
          10185.120984253286,
          10264.818839668318,
          9821.43020747877,
          9601.730068100218,
          9415.264517388454,
          9323.439983519207,
          8936.421411386946,
          8804.897972326626,
          8861.869118263141,
          8818.1787177279,
          8758.3807677857,
          8664.846743900065,
          8698.708668571742,
          8674.1228226311,
          8513.455587153594,
          8685.710285510593,
          8755.595361640919,
          8873.504990001324,
          8821.267531797339,
          8737.907915847636,
          8866.53506824256,
          8931.56877787483,
          8931.56877787483,
          8931.56877787483,
          8931.56877787483,
          8931.56877787483,
          8931.56877787483,
          8931.56877787483,
          8931.56877787483,
          8931.56877787483,
          8855.953252291461,
          8861.285498665497,
          8852.90344324352,
          8726.684217076996,
          9004.1280204279,
          9076.256969216065,
          9147.017889737108,
          9161.418752982863,
          9225.694825751983,
          9516.296646237497,
          9640.679611271704,
          9683.647435809225,
          9707.621195561753,
          10075.995374027087,
          10349.933043869474,
          10078.872222714383,
          10017.26314053222,
          9994.515448233546,
          10044.412980122346,
          10035.920131536426,
          10003.319838990672,
          10040.84627079465,
          10037.291826294073,
          10054.594676057543,
          10073.678613270851,
          10029.688830033974,
          10029.913629711698,
          10008.549268600578,
          9970.641868034741,
          9994.747969769554,
          10003.344027053143,
          9953.866038313277,
          9986.81302116876,
          9947.286158430361,
          9980.372653677736,
          10042.870339073761,
          10046.054996091108,
          9865.14872441383,
          9839.51812549193,
          9826.275204888447,
          9791.878723862295,
          9774.913763932804,
          9644.693526755478,
          9619.038337789978,
          9693.047870452474,
          9573.698449477906,
          9627.321066483004,
          9650.737853368377,
          9650.737853368377,
          9644.06719808168,
          9689.781813440897,
          9635.542023229427,
          9596.273888076943,
          9645.164955946577,
          9738.841631205554,
          9741.088572261931,
          9576.286386571603,
          9544.823742293851,
          9586.21253030963,
          9615.197862494071,
          9591.86299792653,
          9656.336599015296
         ],
         "yaxis": "y2"
        }
       ],
       "layout": {
        "annotations": [
         {
          "font": {
           "size": 16
          },
          "showarrow": false,
          "text": "RL Algorithm: PPO2_LSTM - Trade Count [Buy: 14 | Sell: 6 | Hold: 167]",
          "x": 0.5,
          "xanchor": "center",
          "xref": "paper",
          "y": 0.9999999999999999,
          "yanchor": "bottom",
          "yref": "paper"
         },
         {
          "font": {
           "size": 16
          },
          "showarrow": false,
          "text": "Initial Investment (INR): 10000.0 | Net Worth (INR): 9656.34 | Profit (INR): -343.66 | Profit (%): -3.44%",
          "x": 0.5,
          "xanchor": "center",
          "xref": "paper",
          "y": 0.2375,
          "yanchor": "bottom",
          "yref": "paper"
         }
        ],
        "height": 600,
        "margin": {
         "b": 100,
         "l": 50,
         "pad": 4,
         "r": 50,
         "t": 100
        },
        "shapes": [
         {
          "line": {
           "color": "firebrick",
           "dash": "dot",
           "width": 1
          },
          "name": "Initial Balance",
          "type": "line",
          "x0": 0,
          "x1": 1,
          "xref": "x2 domain",
          "y0": 10000,
          "y1": 10000,
          "yref": "y2"
         }
        ],
        "template": {
         "data": {
          "scatter": [
           {
            "type": "scatter"
           }
          ]
         }
        },
        "width": 1000,
        "xaxis": {
         "anchor": "y",
         "domain": [
          0,
          1
         ],
         "matches": "x2",
         "rangeslider": {
          "visible": false
         },
         "showticklabels": false,
         "tickfont": {
          "size": 12
         }
        },
        "xaxis2": {
         "anchor": "y2",
         "domain": [
          0,
          1
         ]
        },
        "yaxis": {
         "anchor": "x",
         "domain": [
          0.2875,
          0.9999999999999999
         ],
         "tickfont": {
          "size": 10
         },
         "title": {
          "font": {
           "size": 14
          },
          "text": "Price (INR/share)"
         }
        },
        "yaxis2": {
         "anchor": "x2",
         "domain": [
          0,
          0.2375
         ]
        }
       }
      },
      "text/html": [
       "<div>                            <div id=\"c29a3fb4-cb8e-43c2-b0b0-56b787546d1a\" class=\"plotly-graph-div\" style=\"height:600px; width:1000px;\"></div>            <script type=\"text/javascript\">                require([\"plotly\"], function(Plotly) {                    window.PLOTLYENV=window.PLOTLYENV || {};                                    if (document.getElementById(\"c29a3fb4-cb8e-43c2-b0b0-56b787546d1a\")) {                    Plotly.newPlot(                        \"c29a3fb4-cb8e-43c2-b0b0-56b787546d1a\",                        [{\"marker\":{\"color\":[\"blue\",\"blue\",\"blue\",\"blue\",\"blue\",\"blue\",\"blue\",\"blue\",\"blue\",\"blue\",\"blue\",\"blue\",\"blue\",\"blue\",\"blue\",\"blue\",\"green\",\"blue\",\"blue\",\"blue\",\"blue\",\"blue\",\"green\",\"green\",\"blue\",\"blue\",\"green\",\"blue\",\"blue\",\"blue\",\"blue\",\"red\",\"blue\",\"blue\",\"blue\",\"blue\",\"blue\",\"blue\",\"blue\",\"blue\",\"blue\",\"blue\",\"blue\",\"blue\",\"blue\",\"blue\",\"blue\",\"blue\",\"blue\",\"blue\",\"blue\",\"blue\",\"blue\",\"blue\",\"blue\",\"blue\",\"blue\",\"blue\",\"blue\",\"blue\",\"blue\",\"blue\",\"blue\",\"blue\",\"blue\",\"blue\",\"blue\",\"blue\",\"blue\",\"blue\",\"blue\",\"blue\",\"blue\",\"blue\",\"blue\",\"blue\",\"red\",\"blue\",\"blue\",\"blue\",\"blue\",\"blue\",\"blue\",\"blue\",\"blue\",\"blue\",\"blue\",\"green\",\"blue\",\"blue\",\"green\",\"blue\",\"blue\",\"blue\",\"green\",\"blue\",\"blue\",\"blue\",\"blue\",\"red\",\"blue\",\"blue\",\"blue\",\"green\",\"blue\",\"blue\",\"blue\",\"blue\",\"blue\",\"blue\",\"blue\",\"blue\",\"blue\",\"green\",\"blue\",\"blue\",\"red\",\"blue\",\"blue\",\"blue\",\"blue\",\"blue\",\"blue\",\"blue\",\"green\",\"blue\",\"blue\",\"blue\",\"blue\",\"blue\",\"blue\",\"blue\",\"blue\",\"blue\",\"blue\",\"blue\",\"blue\",\"blue\",\"blue\",\"blue\",\"blue\",\"blue\",\"blue\",\"blue\",\"blue\",\"blue\",\"blue\",\"blue\",\"blue\",\"blue\",\"blue\",\"red\",\"blue\",\"blue\",\"blue\",\"blue\",\"blue\",\"blue\",\"blue\",\"blue\",\"blue\",\"blue\",\"blue\",\"blue\",\"green\",\"blue\",\"blue\",\"blue\",\"blue\",\"blue\",\"blue\",\"blue\",\"red\",\"green\",\"blue\",\"blue\",\"blue\",\"blue\",\"blue\",\"blue\",\"blue\",\"blue\",\"green\",\"blue\",\"green\",\"blue\",\"blue\"],\"size\":15,\"symbol\":[\"cross-thin\",\"cross-thin\",\"cross-thin\",\"cross-thin\",\"cross-thin\",\"cross-thin\",\"cross-thin\",\"cross-thin\",\"cross-thin\",\"cross-thin\",\"cross-thin\",\"cross-thin\",\"cross-thin\",\"cross-thin\",\"cross-thin\",\"cross-thin\",\"triangle-up\",\"cross-thin\",\"cross-thin\",\"cross-thin\",\"cross-thin\",\"cross-thin\",\"triangle-up\",\"triangle-up\",\"cross-thin\",\"cross-thin\",\"triangle-up\",\"cross-thin\",\"cross-thin\",\"cross-thin\",\"cross-thin\",\"triangle-down\",\"cross-thin\",\"cross-thin\",\"cross-thin\",\"cross-thin\",\"cross-thin\",\"cross-thin\",\"cross-thin\",\"cross-thin\",\"cross-thin\",\"cross-thin\",\"cross-thin\",\"cross-thin\",\"cross-thin\",\"cross-thin\",\"cross-thin\",\"cross-thin\",\"cross-thin\",\"cross-thin\",\"cross-thin\",\"cross-thin\",\"cross-thin\",\"cross-thin\",\"cross-thin\",\"cross-thin\",\"cross-thin\",\"cross-thin\",\"cross-thin\",\"cross-thin\",\"cross-thin\",\"cross-thin\",\"cross-thin\",\"cross-thin\",\"cross-thin\",\"cross-thin\",\"cross-thin\",\"cross-thin\",\"cross-thin\",\"cross-thin\",\"cross-thin\",\"cross-thin\",\"cross-thin\",\"cross-thin\",\"cross-thin\",\"cross-thin\",\"triangle-down\",\"cross-thin\",\"cross-thin\",\"cross-thin\",\"cross-thin\",\"cross-thin\",\"cross-thin\",\"cross-thin\",\"cross-thin\",\"cross-thin\",\"cross-thin\",\"triangle-up\",\"cross-thin\",\"cross-thin\",\"triangle-up\",\"cross-thin\",\"cross-thin\",\"cross-thin\",\"triangle-up\",\"cross-thin\",\"cross-thin\",\"cross-thin\",\"cross-thin\",\"triangle-down\",\"cross-thin\",\"cross-thin\",\"cross-thin\",\"triangle-up\",\"cross-thin\",\"cross-thin\",\"cross-thin\",\"cross-thin\",\"cross-thin\",\"cross-thin\",\"cross-thin\",\"cross-thin\",\"cross-thin\",\"triangle-up\",\"cross-thin\",\"cross-thin\",\"triangle-down\",\"cross-thin\",\"cross-thin\",\"cross-thin\",\"cross-thin\",\"cross-thin\",\"cross-thin\",\"cross-thin\",\"triangle-up\",\"cross-thin\",\"cross-thin\",\"cross-thin\",\"cross-thin\",\"cross-thin\",\"cross-thin\",\"cross-thin\",\"cross-thin\",\"cross-thin\",\"cross-thin\",\"cross-thin\",\"cross-thin\",\"cross-thin\",\"cross-thin\",\"cross-thin\",\"cross-thin\",\"cross-thin\",\"cross-thin\",\"cross-thin\",\"cross-thin\",\"cross-thin\",\"cross-thin\",\"cross-thin\",\"cross-thin\",\"cross-thin\",\"cross-thin\",\"triangle-down\",\"cross-thin\",\"cross-thin\",\"cross-thin\",\"cross-thin\",\"cross-thin\",\"cross-thin\",\"cross-thin\",\"cross-thin\",\"cross-thin\",\"cross-thin\",\"cross-thin\",\"cross-thin\",\"triangle-up\",\"cross-thin\",\"cross-thin\",\"cross-thin\",\"cross-thin\",\"cross-thin\",\"cross-thin\",\"cross-thin\",\"triangle-down\",\"triangle-up\",\"cross-thin\",\"cross-thin\",\"cross-thin\",\"cross-thin\",\"cross-thin\",\"cross-thin\",\"cross-thin\",\"cross-thin\",\"triangle-up\",\"cross-thin\",\"triangle-up\",\"cross-thin\",\"cross-thin\"]},\"mode\":\"markers\",\"name\":\"Buy/Sell/Hold\",\"type\":\"scatter\",\"x\":[\"2019-02-08T00:00:00\",\"2019-02-11T00:00:00\",\"2019-02-12T00:00:00\",\"2019-02-14T00:00:00\",\"2019-02-15T00:00:00\",\"2019-02-18T00:00:00\",\"2019-02-19T00:00:00\",\"2019-02-21T00:00:00\",\"2019-02-22T00:00:00\",\"2019-02-25T00:00:00\",\"2019-02-26T00:00:00\",\"2019-02-27T00:00:00\",\"2019-02-28T00:00:00\",\"2019-03-01T00:00:00\",\"2019-03-05T00:00:00\",\"2019-03-06T00:00:00\",\"2019-03-07T00:00:00\",\"2019-03-08T00:00:00\",\"2019-03-11T00:00:00\",\"2019-03-12T00:00:00\",\"2019-03-13T00:00:00\",\"2019-03-14T00:00:00\",\"2019-03-15T00:00:00\",\"2019-03-18T00:00:00\",\"2019-03-19T00:00:00\",\"2019-03-20T00:00:00\",\"2019-03-22T00:00:00\",\"2019-03-26T00:00:00\",\"2019-03-27T00:00:00\",\"2019-04-01T00:00:00\",\"2019-04-02T00:00:00\",\"2019-04-03T00:00:00\",\"2019-04-04T00:00:00\",\"2019-04-05T00:00:00\",\"2019-04-08T00:00:00\",\"2019-04-09T00:00:00\",\"2019-04-10T00:00:00\",\"2019-04-11T00:00:00\",\"2019-04-12T00:00:00\",\"2019-04-15T00:00:00\",\"2019-04-16T00:00:00\",\"2019-04-18T00:00:00\",\"2019-04-22T00:00:00\",\"2019-04-23T00:00:00\",\"2019-04-24T00:00:00\",\"2019-04-25T00:00:00\",\"2019-04-26T00:00:00\",\"2019-04-30T00:00:00\",\"2019-05-02T00:00:00\",\"2019-05-03T00:00:00\",\"2019-05-07T00:00:00\",\"2019-05-08T00:00:00\",\"2019-05-09T00:00:00\",\"2019-05-10T00:00:00\",\"2019-05-13T00:00:00\",\"2019-05-14T00:00:00\",\"2019-05-15T00:00:00\",\"2019-05-16T00:00:00\",\"2019-05-17T00:00:00\",\"2019-05-20T00:00:00\",\"2019-05-21T00:00:00\",\"2019-05-22T00:00:00\",\"2019-05-24T00:00:00\",\"2019-05-27T00:00:00\",\"2019-05-29T00:00:00\",\"2019-05-30T00:00:00\",\"2019-05-31T00:00:00\",\"2019-06-03T00:00:00\",\"2019-06-04T00:00:00\",\"2019-06-06T00:00:00\",\"2019-06-07T00:00:00\",\"2019-06-10T00:00:00\",\"2019-06-11T00:00:00\",\"2019-06-12T00:00:00\",\"2019-06-13T00:00:00\",\"2019-06-14T00:00:00\",\"2019-06-17T00:00:00\",\"2019-06-18T00:00:00\",\"2019-06-19T00:00:00\",\"2019-06-20T00:00:00\",\"2019-06-21T00:00:00\",\"2019-06-25T00:00:00\",\"2019-06-26T00:00:00\",\"2019-06-27T00:00:00\",\"2019-06-28T00:00:00\",\"2019-07-01T00:00:00\",\"2019-07-02T00:00:00\",\"2019-07-03T00:00:00\",\"2019-07-04T00:00:00\",\"2019-07-05T00:00:00\",\"2019-07-08T00:00:00\",\"2019-07-09T00:00:00\",\"2019-07-11T00:00:00\",\"2019-07-12T00:00:00\",\"2019-07-15T00:00:00\",\"2019-07-16T00:00:00\",\"2019-07-17T00:00:00\",\"2019-07-18T00:00:00\",\"2019-07-19T00:00:00\",\"2019-07-22T00:00:00\",\"2019-07-23T00:00:00\",\"2019-07-24T00:00:00\",\"2019-07-25T00:00:00\",\"2019-07-26T00:00:00\",\"2019-07-29T00:00:00\",\"2019-07-30T00:00:00\",\"2019-07-31T00:00:00\",\"2019-08-01T00:00:00\",\"2019-08-02T00:00:00\",\"2019-08-05T00:00:00\",\"2019-08-06T00:00:00\",\"2019-08-07T00:00:00\",\"2019-08-08T00:00:00\",\"2019-08-09T00:00:00\",\"2019-08-13T00:00:00\",\"2019-08-14T00:00:00\",\"2019-08-16T00:00:00\",\"2019-08-19T00:00:00\",\"2019-08-20T00:00:00\",\"2019-08-21T00:00:00\",\"2019-08-22T00:00:00\",\"2019-08-23T00:00:00\",\"2019-08-26T00:00:00\",\"2019-08-27T00:00:00\",\"2019-08-28T00:00:00\",\"2019-08-29T00:00:00\",\"2019-08-30T00:00:00\",\"2019-09-03T00:00:00\",\"2019-09-04T00:00:00\",\"2019-09-05T00:00:00\",\"2019-09-06T00:00:00\",\"2019-09-09T00:00:00\",\"2019-09-11T00:00:00\",\"2019-09-12T00:00:00\",\"2019-09-16T00:00:00\",\"2019-09-17T00:00:00\",\"2019-09-18T00:00:00\",\"2019-09-19T00:00:00\",\"2019-09-20T00:00:00\",\"2019-09-25T00:00:00\",\"2019-09-26T00:00:00\",\"2019-09-27T00:00:00\",\"2019-10-01T00:00:00\",\"2019-10-03T00:00:00\",\"2019-10-04T00:00:00\",\"2019-10-07T00:00:00\",\"2019-10-09T00:00:00\",\"2019-10-10T00:00:00\",\"2019-10-11T00:00:00\",\"2019-10-14T00:00:00\",\"2019-10-15T00:00:00\",\"2019-10-16T00:00:00\",\"2019-10-17T00:00:00\",\"2019-10-18T00:00:00\",\"2019-10-22T00:00:00\",\"2019-10-24T00:00:00\",\"2019-10-25T00:00:00\",\"2019-10-29T00:00:00\",\"2019-10-30T00:00:00\",\"2019-10-31T00:00:00\",\"2019-11-01T00:00:00\",\"2019-11-04T00:00:00\",\"2019-11-05T00:00:00\",\"2019-11-06T00:00:00\",\"2019-11-07T00:00:00\",\"2019-11-08T00:00:00\",\"2019-11-11T00:00:00\",\"2019-11-13T00:00:00\",\"2019-11-14T00:00:00\",\"2019-11-15T00:00:00\",\"2019-11-18T00:00:00\",\"2019-11-19T00:00:00\",\"2019-11-20T00:00:00\",\"2019-11-21T00:00:00\",\"2019-11-22T00:00:00\",\"2019-11-25T00:00:00\",\"2019-11-26T00:00:00\",\"2019-11-27T00:00:00\",\"2019-11-28T00:00:00\",\"2019-11-29T00:00:00\",\"2019-12-02T00:00:00\",\"2019-12-03T00:00:00\",\"2019-12-04T00:00:00\",\"2019-12-05T00:00:00\",\"2019-12-06T00:00:00\",\"2019-12-09T00:00:00\",\"2019-12-10T00:00:00\"],\"xaxis\":\"x\",\"y\":[522.9000244140625,491.0,486.0,493.25,492.1499938964844,484.6499938964844,489.6000061035156,508.3499755859375,503.5,513.75,517.25,527.5,529.5999755859375,532.0,546.4000244140625,547.0999755859375,553.4000244140625,552.0,548.0999755859375,558.0999755859375,570.5499877929688,570.0,559.0,561.5499877929688,563.0,560.9500122070312,560.0,540.1500244140625,550.9000244140625,584.9500122070312,586.0499877929688,623.25,590.0999755859375,600.8499755859375,595.75,593.2000122070312,592.25,589.75,593.9500122070312,608.8499755859375,610.6500244140625,604.9500122070312,606.2999877929688,606.0,605.0499877929688,606.0499877929688,587.0,571.0,582.0,590.3499755859375,536.0,543.2000122070312,550.0,533.1500244140625,561.2999877929688,563.0,573.0,578.5999755859375,580.2999877929688,586.5999755859375,598.0,594.0,585.2000122070312,590.25,623.9500122070312,621.9500122070312,623.2000122070312,627.0,629.75,608.7999877929688,598.5,600.2000122070312,604.0999755859375,598.0999755859375,590.1500244140625,592.0999755859375,624.25,566.0499877929688,558.25,566.8499755859375,550.9000244140625,553.0499877929688,564.5,567.1500244140625,569.0,567.0,562.8499755859375,564.5499877929688,566.2999877929688,548.4500122070312,541.2000122070312,545.2000122070312,538.7000122070312,549.2000122070312,546.0999755859375,544.0,542.0,519.6500244140625,512.5999755859375,549.0,490.0,450.5,441.25,454.5,457.3999938964844,456.6000061035156,440.0,449.1499938964844,449.5,443.2999877929688,441.0499877929688,460.1499938964844,458.2000122070313,461.75,451.5499877929688,458.5,497.0,472.6499938964844,472.3999938964844,465.0,457.0,451.75,456.0499877929688,470.0499877929688,458.1000061035156,454.3500061035156,459.9500122070313,450.5,433.0,445.0,470.1000061035156,467.6499938964844,479.0,482.5,498.1000061035156,512.5,519.25,518.2000122070312,515.2000122070312,555.75,554.0,540.0999755859375,536.0,536.4000244140625,548.4000244140625,533.0999755859375,545.0,531.5,546.0499877929688,549.0,541.0,574.25,535.0999755859375,527.5499877929688,540.4000244140625,531.75,531.75,541.5499877929688,537.0,538.9500122070312,543.4000244140625,540.0,526.0499877929688,513.5499877929688,515.0,515.0999755859375,517.4000244140625,508.25,498.0499877929688,503.6500244140625,502.0999755859375,502.04998779296875,537.7999877929688,504.0999755859375,502.0,508.0,497.1000061035156,503.0,506.95001220703125,508.0999755859375,508.0999755859375,500.1000061035156,502.29998779296875,504.8499755859375,505.0,503.0,505.0999755859375],\"yaxis\":\"y\"},{\"close\":[534.0499877929688,505.3999938964844,515.75,516.5999755859375,509.0499877929688,499.6499938964844,508.5499877929688,521.9000244140625,516.3499755859375,536.3499755859375,538.8499755859375,539.0,541.9500122070312,555.9500122070312,562.1500244140625,561.9000244140625,567.2999877929688,566.0999755859375,565.8499755859375,589.2000122070312,585.3499755859375,584.5499877929688,570.8499755859375,579.9500122070312,581.4500122070312,573.5,572.6500244140625,562.0,569.7999877929688,600.7000122070312,604.4000244140625,608.8499755859375,611.0,619.9500122070312,609.4000244140625,608.2000122070312,605.9500122070312,605.5,622.0,625.1500244140625,624.9500122070312,624.2999877929688,620.25,617.2999877929688,622.1500244140625,619.2999877929688,599.0999755859375,595.0499877929688,608.5499877929688,602.7000122070312,561.7999877929688,570.2000122070312,562.8499755859375,583.4000244140625,579.9500122070312,585.9000244140625,592.5499877929688,592.9000244140625,594.75,612.0999755859375,619.5,609.6500244140625,600.9000244140625,627.7000122070312,637.5499877929688,640.5999755859375,636.0999755859375,641.4000244140625,641.75,628.6500244140625,610.75,622.0999755859375,619.4500122070312,610.2999877929688,609.75,610.4500122070312,587.7000122070312,579.25,576.8499755859375,595.5,563.0,574.7999877929688,581.5999755859375,583.8499755859375,581.8499755859375,578.6500244140625,588.5,576.9500122070312,584.3499755859375,561.5499877929688,561.0999755859375,566.25,559.8499755859375,566.0,559.0999755859375,571.0499877929688,556.9000244140625,536.9500122070312,529.0499877929688,522.5499877929688,510.6000061035156,468.2999877929688,476.1000061035156,479.75,476.75,467.9500122070313,474.0,466.1000061035156,467.5,456.5,469.6000061035156,478.6499938964844,478.6000061035156,476.8500061035156,471.2000122070313,484.4500122070313,481.75,500.0499877929688,488.7000122070313,479.3500061035156,471.8999938964844,466.2999877929688,488.0499877929688,481.2000122070313,472.0499877929688,469.9500122070313,474.1000061035156,463.5499877929688,456.7000122070313,484.3999938964844,489.3999938964844,495.5,491.8500061035156,498.4500122070313,525.6500244140625,530.5,534.7000122070312,535.4500122070312,583.25,568.0,571.5499877929688,556.9500122070312,556.1500244140625,561.5499877929688,560.6500244140625,556.4500122070312,561.3499755859375,561.5,564.7999877929688,561.3499755859375,560.25,559.5,554.0999755859375,552.5,555.9500122070312,548.0999755859375,556.2999877929688,554.5999755859375,549.2999877929688,558.2999877929688,565.8499755859375,554.7000122070312,539.25,530.0,530.0,532.0,531.3499755859375,520.1500244140625,524.4000244140625,518.25,514.8499755859375,521.7000122070312,525.4500122070312,520.0999755859375,520.2999877929688,524.9000244140625,516.2999877929688,516.75,521.0,536.0499877929688,522.0499877929688,513.4000244140625,515.1500244140625,516.5999755859375,517.5,518.0,520.7999877929688],\"high\":[548.9500122070312,535.7999877929688,518.7000122070312,519.9000244140625,515.0,509.1499938964844,514.3499755859375,526.9000244140625,528.0,542.5,540.9000244140625,549.8499755859375,549.7999877929688,561.6500244140625,564.3499755859375,565.5,578.0,569.0,571.75,596.5,597.0999755859375,593.4500122070312,587.5,586.0,584.9000244140625,582.8499755859375,580.25,565.5499877929688,585.0,608.7000122070312,606.9000244140625,613.25,615.0,625.5,627.9000244140625,612.5,612.2000122070312,615.2999877929688,624.9000244140625,628.4000244140625,635.0,627.7000122070312,629.5499877929688,623.4000244140625,625.0,627.9500122070312,618.2000122070312,598.7000122070312,616.4500122070312,618.7999877929688,580.9000244140625,572.9000244140625,569.9000244140625,591.0,592.2999877929688,588.6500244140625,597.6500244140625,596.4000244140625,600.7000122070312,620.0,624.0,621.7000122070312,619.0,630.8499755859375,647.7000122070312,644.75,645.75,644.0,648.5999755859375,643.9000244140625,631.0999755859375,624.5,623.1500244140625,620.8499755859375,616.1500244140625,619.9500122070312,614.25,593.0,585.0,599.0,600.0,577.6500244140625,589.0,591.0,592.8499755859375,586.75,599.5999755859375,592.9000244140625,587.0,595.75,569.5999755859375,568.9000244140625,562.5,573.4000244140625,571.9500122070312,573.0,582.9000244140625,555.1500244140625,539.7999877929688,539.0,522.2999877929688,511.5,484.0,483.5499877929688,484.0,481.0,476.9500122070313,474.8500061035156,469.75,466.75,472.4500122070313,492.2000122070313,484.6000061035156,485.25,480.7999877929688,486.7000122070313,487.0,505.0,500.0,492.0,479.0499877929688,470.5499877929688,494.0,499.7999877929688,487.7000122070313,474.3500061035156,483.6499938964844,472.7999877929688,462.0,488.8999938964844,491.7000122070313,497.9500122070313,512.0,503.7999877929688,530.0,537.5499877929688,542.0,538.2000122070312,590.7999877929688,589.7000122070312,581.0,576.0,570.0,580.0,571.7999877929688,562.0,565.8499755859375,578.0,569.5,569.0,562.0999755859375,564.25,559.9500122070312,567.0,564.5,567.0,559.0,561.75,556.0,560.0,574.6500244140625,573.5999755859375,558.75,542.5999755859375,539.0,536.9000244140625,534.0,529.75,533.4000244140625,527.5999755859375,524.4000244140625,524.4000244140625,527.7999877929688,523.5999755859375,522.5999755859375,530.9500122070312,530.0,524.7999877929688,524.9000244140625,543.9000244140625,534.7000122070312,522.5,523.9500122070312,521.5499877929688,520.0,518.9000244140625,531.25],\"low\":[532.9000244140625,501.0,496.0,503.25,502.1499938964844,494.6499938964844,499.6000061035156,518.3499755859375,513.5,523.75,527.25,537.5,539.5999755859375,542.0,556.4000244140625,557.0999755859375,563.4000244140625,562.0,558.0999755859375,568.0999755859375,580.5499877929688,580.0,569.0,571.5499877929688,573.0,570.9500122070312,570.0,550.1500244140625,560.9000244140625,594.9500122070312,596.0499877929688,602.0,600.0999755859375,610.8499755859375,605.75,603.2000122070312,602.25,599.75,603.9500122070312,618.8499755859375,620.6500244140625,614.9500122070312,616.2999877929688,616.0,615.0499877929688,616.0499877929688,597.0,581.0,592.0,600.3499755859375,546.0,553.2000122070312,560.0,543.1500244140625,571.2999877929688,573.0,583.0,588.5999755859375,590.2999877929688,596.5999755859375,608.0,604.0,595.2000122070312,600.25,633.9500122070312,631.9500122070312,633.2000122070312,637.0,639.75,618.7999877929688,608.5,610.2000122070312,614.0999755859375,608.0999755859375,600.1500244140625,602.0999755859375,584.0,576.0499877929688,568.25,576.8499755859375,560.9000244140625,563.0499877929688,574.5,577.1500244140625,579.0,577.0,572.8499755859375,574.5499877929688,576.2999877929688,558.4500122070312,551.2000122070312,555.2000122070312,548.7000122070312,559.2000122070312,556.0999755859375,554.0,552.0,529.6500244140625,522.5999755859375,517.0,500.0,460.5,451.25,464.5,467.3999938964844,466.6000061035156,450.0,459.1499938964844,459.5,453.2999877929688,451.0499877929688,470.1499938964844,468.2000122070313,471.75,461.5499877929688,468.5,473.3500061035156,482.6499938964844,482.3999938964844,475.0,467.0,461.75,466.0499877929688,480.0499877929688,468.1000061035156,464.3500061035156,469.9500122070313,460.5,443.0,455.0,480.1000061035156,477.6499938964844,489.0,492.5,508.1000061035156,522.5,529.25,528.2000122070312,525.2000122070312,565.75,564.0,550.0999755859375,546.0,546.4000244140625,558.4000244140625,543.0999755859375,555.0,541.5,556.0499877929688,559.0,551.0,555.25,545.0999755859375,537.5499877929688,550.4000244140625,541.75,541.75,551.5499877929688,547.0,548.9500122070312,553.4000244140625,550.0,536.0499877929688,523.5499877929688,525.0,525.0999755859375,527.4000244140625,518.25,508.0499877929688,513.6500244140625,512.0999755859375,512.0499877929688,512.6500244140625,514.0999755859375,512.0,518.0,507.1000061035156,513.0,516.9500122070312,518.0999755859375,518.0999755859375,510.1000061035156,512.2999877929688,514.8499755859375,515.0,513.0,515.0999755859375],\"name\":\"OHLC\",\"open\":[547.9000244140625,528.0499877929688,496.5499877929688,508.0,515.0,507.7999877929688,504.0,523.9000244140625,524.0,523.9000244140625,535.75,539.7999877929688,543.3499755859375,543.8499755859375,559.9500122070312,564.7999877929688,566.0,568.4000244140625,569.5,570.0,590.0999755859375,587.0999755859375,587.5,575.0,578.0,581.0,571.9000244140625,551.0,562.0,595.9000244140625,604.5999755859375,607.0,606.0,611.9000244140625,619.9500122070312,610.0999755859375,606.9000244140625,602.5499877929688,603.9500122070312,623.0,627.2000122070312,615.2000122070312,620.0,616.0499877929688,615.0499877929688,623.7999877929688,618.0999755859375,598.0,592.0,610.0499877929688,579.9500122070312,553.2000122070312,567.2999877929688,563.0,575.0,575.0,584.0,594.2999877929688,593.0,603.0,614.0,620.0,616.0499877929688,600.25,643.0,637.5,643.0,640.0,645.5,642.5,628.0,610.75,622.0999755859375,615.9000244140625,610.0999755859375,602.0999755859375,614.25,586.0499877929688,583.0,577.4000244140625,600.0,575.7999877929688,574.9000244140625,585.2999877929688,585.0,585.9500122070312,581.5,589.9000244140625,577.5,585.0,560.5499877929688,562.0,557.7000122070312,559.7999877929688,568.7999877929688,562.1500244140625,573.0499877929688,550.0,536.9000244140625,522.5,520.0,511.5,468.2999877929688,480.0,479.75,477.0,465.0,469.7000122070313,465.8500061035156,465.0,456.8999938964844,470.6499938964844,481.0499877929688,478.0,474.5,471.8500061035156,483.75,483.8500061035156,500.0,489.3999938964844,476.0,469.0,468.0,489.0,481.5499877929688,470.0,469.9500122070313,470.8999938964844,460.5499877929688,456.7000122070313,486.7999877929688,489.7000122070313,497.0,495.9500122070313,518.0,524.9500122070312,532.0,535.5499877929688,534.0499877929688,584.9500122070312,564.0,566.0,557.7000122070312,558.2999877929688,561.5999755859375,560.6500244140625,558.0,560.6500244140625,561.6500244140625,564.0,559.0,561.0,559.5,555.0999755859375,554.5999755859375,567.0,547.5,555.75,552.0,550.0,557.0,568.25,555.0,541.9000244140625,538.0,532.5499877929688,531.75,529.2000122070312,520.0,527.5999755859375,524.4000244140625,512.0499877929688,520.0,521.0,518.0,522.5,521.5499877929688,516.0,516.9500122070312,521.0,533.0,520.0,512.2999877929688,515.1500244140625,517.2999877929688,515.0,518.0],\"type\":\"candlestick\",\"x\":[\"2019-02-08T00:00:00\",\"2019-02-11T00:00:00\",\"2019-02-12T00:00:00\",\"2019-02-14T00:00:00\",\"2019-02-15T00:00:00\",\"2019-02-18T00:00:00\",\"2019-02-19T00:00:00\",\"2019-02-21T00:00:00\",\"2019-02-22T00:00:00\",\"2019-02-25T00:00:00\",\"2019-02-26T00:00:00\",\"2019-02-27T00:00:00\",\"2019-02-28T00:00:00\",\"2019-03-01T00:00:00\",\"2019-03-05T00:00:00\",\"2019-03-06T00:00:00\",\"2019-03-07T00:00:00\",\"2019-03-08T00:00:00\",\"2019-03-11T00:00:00\",\"2019-03-12T00:00:00\",\"2019-03-13T00:00:00\",\"2019-03-14T00:00:00\",\"2019-03-15T00:00:00\",\"2019-03-18T00:00:00\",\"2019-03-19T00:00:00\",\"2019-03-20T00:00:00\",\"2019-03-22T00:00:00\",\"2019-03-26T00:00:00\",\"2019-03-27T00:00:00\",\"2019-04-01T00:00:00\",\"2019-04-02T00:00:00\",\"2019-04-03T00:00:00\",\"2019-04-04T00:00:00\",\"2019-04-05T00:00:00\",\"2019-04-08T00:00:00\",\"2019-04-09T00:00:00\",\"2019-04-10T00:00:00\",\"2019-04-11T00:00:00\",\"2019-04-12T00:00:00\",\"2019-04-15T00:00:00\",\"2019-04-16T00:00:00\",\"2019-04-18T00:00:00\",\"2019-04-22T00:00:00\",\"2019-04-23T00:00:00\",\"2019-04-24T00:00:00\",\"2019-04-25T00:00:00\",\"2019-04-26T00:00:00\",\"2019-04-30T00:00:00\",\"2019-05-02T00:00:00\",\"2019-05-03T00:00:00\",\"2019-05-07T00:00:00\",\"2019-05-08T00:00:00\",\"2019-05-09T00:00:00\",\"2019-05-10T00:00:00\",\"2019-05-13T00:00:00\",\"2019-05-14T00:00:00\",\"2019-05-15T00:00:00\",\"2019-05-16T00:00:00\",\"2019-05-17T00:00:00\",\"2019-05-20T00:00:00\",\"2019-05-21T00:00:00\",\"2019-05-22T00:00:00\",\"2019-05-24T00:00:00\",\"2019-05-27T00:00:00\",\"2019-05-29T00:00:00\",\"2019-05-30T00:00:00\",\"2019-05-31T00:00:00\",\"2019-06-03T00:00:00\",\"2019-06-04T00:00:00\",\"2019-06-06T00:00:00\",\"2019-06-07T00:00:00\",\"2019-06-10T00:00:00\",\"2019-06-11T00:00:00\",\"2019-06-12T00:00:00\",\"2019-06-13T00:00:00\",\"2019-06-14T00:00:00\",\"2019-06-17T00:00:00\",\"2019-06-18T00:00:00\",\"2019-06-19T00:00:00\",\"2019-06-20T00:00:00\",\"2019-06-21T00:00:00\",\"2019-06-25T00:00:00\",\"2019-06-26T00:00:00\",\"2019-06-27T00:00:00\",\"2019-06-28T00:00:00\",\"2019-07-01T00:00:00\",\"2019-07-02T00:00:00\",\"2019-07-03T00:00:00\",\"2019-07-04T00:00:00\",\"2019-07-05T00:00:00\",\"2019-07-08T00:00:00\",\"2019-07-09T00:00:00\",\"2019-07-11T00:00:00\",\"2019-07-12T00:00:00\",\"2019-07-15T00:00:00\",\"2019-07-16T00:00:00\",\"2019-07-17T00:00:00\",\"2019-07-18T00:00:00\",\"2019-07-19T00:00:00\",\"2019-07-22T00:00:00\",\"2019-07-23T00:00:00\",\"2019-07-24T00:00:00\",\"2019-07-25T00:00:00\",\"2019-07-26T00:00:00\",\"2019-07-29T00:00:00\",\"2019-07-30T00:00:00\",\"2019-07-31T00:00:00\",\"2019-08-01T00:00:00\",\"2019-08-02T00:00:00\",\"2019-08-05T00:00:00\",\"2019-08-06T00:00:00\",\"2019-08-07T00:00:00\",\"2019-08-08T00:00:00\",\"2019-08-09T00:00:00\",\"2019-08-13T00:00:00\",\"2019-08-14T00:00:00\",\"2019-08-16T00:00:00\",\"2019-08-19T00:00:00\",\"2019-08-20T00:00:00\",\"2019-08-21T00:00:00\",\"2019-08-22T00:00:00\",\"2019-08-23T00:00:00\",\"2019-08-26T00:00:00\",\"2019-08-27T00:00:00\",\"2019-08-28T00:00:00\",\"2019-08-29T00:00:00\",\"2019-08-30T00:00:00\",\"2019-09-03T00:00:00\",\"2019-09-04T00:00:00\",\"2019-09-05T00:00:00\",\"2019-09-06T00:00:00\",\"2019-09-09T00:00:00\",\"2019-09-11T00:00:00\",\"2019-09-12T00:00:00\",\"2019-09-16T00:00:00\",\"2019-09-17T00:00:00\",\"2019-09-18T00:00:00\",\"2019-09-19T00:00:00\",\"2019-09-20T00:00:00\",\"2019-09-25T00:00:00\",\"2019-09-26T00:00:00\",\"2019-09-27T00:00:00\",\"2019-10-01T00:00:00\",\"2019-10-03T00:00:00\",\"2019-10-04T00:00:00\",\"2019-10-07T00:00:00\",\"2019-10-09T00:00:00\",\"2019-10-10T00:00:00\",\"2019-10-11T00:00:00\",\"2019-10-14T00:00:00\",\"2019-10-15T00:00:00\",\"2019-10-16T00:00:00\",\"2019-10-17T00:00:00\",\"2019-10-18T00:00:00\",\"2019-10-22T00:00:00\",\"2019-10-24T00:00:00\",\"2019-10-25T00:00:00\",\"2019-10-29T00:00:00\",\"2019-10-30T00:00:00\",\"2019-10-31T00:00:00\",\"2019-11-01T00:00:00\",\"2019-11-04T00:00:00\",\"2019-11-05T00:00:00\",\"2019-11-06T00:00:00\",\"2019-11-07T00:00:00\",\"2019-11-08T00:00:00\",\"2019-11-11T00:00:00\",\"2019-11-13T00:00:00\",\"2019-11-14T00:00:00\",\"2019-11-15T00:00:00\",\"2019-11-18T00:00:00\",\"2019-11-19T00:00:00\",\"2019-11-20T00:00:00\",\"2019-11-21T00:00:00\",\"2019-11-22T00:00:00\",\"2019-11-25T00:00:00\",\"2019-11-26T00:00:00\",\"2019-11-27T00:00:00\",\"2019-11-28T00:00:00\",\"2019-11-29T00:00:00\",\"2019-12-02T00:00:00\",\"2019-12-03T00:00:00\",\"2019-12-04T00:00:00\",\"2019-12-05T00:00:00\",\"2019-12-06T00:00:00\",\"2019-12-09T00:00:00\",\"2019-12-10T00:00:00\"],\"xaxis\":\"x\",\"yaxis\":\"y\"},{\"mode\":\"lines\",\"name\":\"Net Worth (INR)\",\"type\":\"scatter\",\"x\":[\"2019-02-08T00:00:00\",\"2019-02-11T00:00:00\",\"2019-02-12T00:00:00\",\"2019-02-14T00:00:00\",\"2019-02-15T00:00:00\",\"2019-02-18T00:00:00\",\"2019-02-19T00:00:00\",\"2019-02-21T00:00:00\",\"2019-02-22T00:00:00\",\"2019-02-25T00:00:00\",\"2019-02-26T00:00:00\",\"2019-02-27T00:00:00\",\"2019-02-28T00:00:00\",\"2019-03-01T00:00:00\",\"2019-03-05T00:00:00\",\"2019-03-06T00:00:00\",\"2019-03-07T00:00:00\",\"2019-03-08T00:00:00\",\"2019-03-11T00:00:00\",\"2019-03-12T00:00:00\",\"2019-03-13T00:00:00\",\"2019-03-14T00:00:00\",\"2019-03-15T00:00:00\",\"2019-03-18T00:00:00\",\"2019-03-19T00:00:00\",\"2019-03-20T00:00:00\",\"2019-03-22T00:00:00\",\"2019-03-26T00:00:00\",\"2019-03-27T00:00:00\",\"2019-04-01T00:00:00\",\"2019-04-02T00:00:00\",\"2019-04-03T00:00:00\",\"2019-04-04T00:00:00\",\"2019-04-05T00:00:00\",\"2019-04-08T00:00:00\",\"2019-04-09T00:00:00\",\"2019-04-10T00:00:00\",\"2019-04-11T00:00:00\",\"2019-04-12T00:00:00\",\"2019-04-15T00:00:00\",\"2019-04-16T00:00:00\",\"2019-04-18T00:00:00\",\"2019-04-22T00:00:00\",\"2019-04-23T00:00:00\",\"2019-04-24T00:00:00\",\"2019-04-25T00:00:00\",\"2019-04-26T00:00:00\",\"2019-04-30T00:00:00\",\"2019-05-02T00:00:00\",\"2019-05-03T00:00:00\",\"2019-05-07T00:00:00\",\"2019-05-08T00:00:00\",\"2019-05-09T00:00:00\",\"2019-05-10T00:00:00\",\"2019-05-13T00:00:00\",\"2019-05-14T00:00:00\",\"2019-05-15T00:00:00\",\"2019-05-16T00:00:00\",\"2019-05-17T00:00:00\",\"2019-05-20T00:00:00\",\"2019-05-21T00:00:00\",\"2019-05-22T00:00:00\",\"2019-05-24T00:00:00\",\"2019-05-27T00:00:00\",\"2019-05-29T00:00:00\",\"2019-05-30T00:00:00\",\"2019-05-31T00:00:00\",\"2019-06-03T00:00:00\",\"2019-06-04T00:00:00\",\"2019-06-06T00:00:00\",\"2019-06-07T00:00:00\",\"2019-06-10T00:00:00\",\"2019-06-11T00:00:00\",\"2019-06-12T00:00:00\",\"2019-06-13T00:00:00\",\"2019-06-14T00:00:00\",\"2019-06-17T00:00:00\",\"2019-06-18T00:00:00\",\"2019-06-19T00:00:00\",\"2019-06-20T00:00:00\",\"2019-06-21T00:00:00\",\"2019-06-25T00:00:00\",\"2019-06-26T00:00:00\",\"2019-06-27T00:00:00\",\"2019-06-28T00:00:00\",\"2019-07-01T00:00:00\",\"2019-07-02T00:00:00\",\"2019-07-03T00:00:00\",\"2019-07-04T00:00:00\",\"2019-07-05T00:00:00\",\"2019-07-08T00:00:00\",\"2019-07-09T00:00:00\",\"2019-07-11T00:00:00\",\"2019-07-12T00:00:00\",\"2019-07-15T00:00:00\",\"2019-07-16T00:00:00\",\"2019-07-17T00:00:00\",\"2019-07-18T00:00:00\",\"2019-07-19T00:00:00\",\"2019-07-22T00:00:00\",\"2019-07-23T00:00:00\",\"2019-07-24T00:00:00\",\"2019-07-25T00:00:00\",\"2019-07-26T00:00:00\",\"2019-07-29T00:00:00\",\"2019-07-30T00:00:00\",\"2019-07-31T00:00:00\",\"2019-08-01T00:00:00\",\"2019-08-02T00:00:00\",\"2019-08-05T00:00:00\",\"2019-08-06T00:00:00\",\"2019-08-07T00:00:00\",\"2019-08-08T00:00:00\",\"2019-08-09T00:00:00\",\"2019-08-13T00:00:00\",\"2019-08-14T00:00:00\",\"2019-08-16T00:00:00\",\"2019-08-19T00:00:00\",\"2019-08-20T00:00:00\",\"2019-08-21T00:00:00\",\"2019-08-22T00:00:00\",\"2019-08-23T00:00:00\",\"2019-08-26T00:00:00\",\"2019-08-27T00:00:00\",\"2019-08-28T00:00:00\",\"2019-08-29T00:00:00\",\"2019-08-30T00:00:00\",\"2019-09-03T00:00:00\",\"2019-09-04T00:00:00\",\"2019-09-05T00:00:00\",\"2019-09-06T00:00:00\",\"2019-09-09T00:00:00\",\"2019-09-11T00:00:00\",\"2019-09-12T00:00:00\",\"2019-09-16T00:00:00\",\"2019-09-17T00:00:00\",\"2019-09-18T00:00:00\",\"2019-09-19T00:00:00\",\"2019-09-20T00:00:00\",\"2019-09-25T00:00:00\",\"2019-09-26T00:00:00\",\"2019-09-27T00:00:00\",\"2019-10-01T00:00:00\",\"2019-10-03T00:00:00\",\"2019-10-04T00:00:00\",\"2019-10-07T00:00:00\",\"2019-10-09T00:00:00\",\"2019-10-10T00:00:00\",\"2019-10-11T00:00:00\",\"2019-10-14T00:00:00\",\"2019-10-15T00:00:00\",\"2019-10-16T00:00:00\",\"2019-10-17T00:00:00\",\"2019-10-18T00:00:00\",\"2019-10-22T00:00:00\",\"2019-10-24T00:00:00\",\"2019-10-25T00:00:00\",\"2019-10-29T00:00:00\",\"2019-10-30T00:00:00\",\"2019-10-31T00:00:00\",\"2019-11-01T00:00:00\",\"2019-11-04T00:00:00\",\"2019-11-05T00:00:00\",\"2019-11-06T00:00:00\",\"2019-11-07T00:00:00\",\"2019-11-08T00:00:00\",\"2019-11-11T00:00:00\",\"2019-11-13T00:00:00\",\"2019-11-14T00:00:00\",\"2019-11-15T00:00:00\",\"2019-11-18T00:00:00\",\"2019-11-19T00:00:00\",\"2019-11-20T00:00:00\",\"2019-11-21T00:00:00\",\"2019-11-22T00:00:00\",\"2019-11-25T00:00:00\",\"2019-11-26T00:00:00\",\"2019-11-27T00:00:00\",\"2019-11-28T00:00:00\",\"2019-11-29T00:00:00\",\"2019-12-02T00:00:00\",\"2019-12-03T00:00:00\",\"2019-12-04T00:00:00\",\"2019-12-05T00:00:00\",\"2019-12-06T00:00:00\",\"2019-12-09T00:00:00\",\"2019-12-10T00:00:00\"],\"xaxis\":\"x2\",\"y\":[10000.0,10000.0,10000.0,10000.0,10000.0,10000.0,10000.0,10000.0,10000.0,10000.0,10000.0,10000.0,10000.0,10000.0,10000.0,10000.0,10000.0,10000.14200828961,10001.411367709783,10050.402406663387,10069.276564820158,10056.481917716143,10046.2711973004,9998.75513424314,9993.920594478604,9922.058844446787,9896.06373192029,9724.683435654442,9795.929625672507,10325.418360549249,10449.422059087792,10508.01532821798,10478.543551171471,10686.7996532054,10678.118656988814,10531.95692261021,10482.059518588465,10453.76423105755,10463.733736622831,10751.11648469628,10800.943465964952,10632.963961391717,10703.90456192027,10643.249231854441,10723.885893772227,10733.520085885666,10632.658351249966,10304.102217424563,10507.688884841275,10449.757352595247,9903.476836193004,9903.1885925971,9822.03371486911,9826.293398089154,10000.796817747787,10003.315125275201,10126.228552948098,10277.060492317964,10282.385147281515,10553.736194152223,10664.712257241845,10547.569345194133,10546.160946393582,10773.15082492949,11036.809390690736,10998.71116209971,11004.788974392875,11028.70074004295,11070.448597667832,10854.989019011216,10562.786352852385,10698.485907813867,10705.113434511033,10627.090293132867,10541.00419603978,10545.285294629508,10472.08332656901,10349.976339588615,10355.95597397885,10398.525524133926,10389.569000460608,10318.675215605175,10328.143158176857,10366.226430943383,10355.370373067493,10355.999111008194,10384.965087526289,10360.73236381059,10352.510872422621,10211.524715299385,10063.15878902122,10092.790969226548,10040.485980117153,10105.787632016187,10071.16642651843,10185.120984253286,10264.818839668318,9821.43020747877,9601.730068100218,9415.264517388454,9323.439983519207,8936.421411386946,8804.897972326626,8861.869118263141,8818.1787177279,8758.3807677857,8664.846743900065,8698.708668571742,8674.1228226311,8513.455587153594,8685.710285510593,8755.595361640919,8873.504990001324,8821.267531797339,8737.907915847636,8866.53506824256,8931.56877787483,8931.56877787483,8931.56877787483,8931.56877787483,8931.56877787483,8931.56877787483,8931.56877787483,8931.56877787483,8931.56877787483,8855.953252291461,8861.285498665497,8852.90344324352,8726.684217076996,9004.1280204279,9076.256969216065,9147.017889737108,9161.418752982863,9225.694825751983,9516.296646237497,9640.679611271704,9683.647435809225,9707.621195561753,10075.995374027087,10349.933043869474,10078.872222714383,10017.26314053222,9994.515448233546,10044.412980122346,10035.920131536426,10003.319838990672,10040.84627079465,10037.291826294073,10054.594676057543,10073.678613270851,10029.688830033974,10029.913629711698,10008.549268600578,9970.641868034741,9994.747969769554,10003.344027053143,9953.866038313277,9986.81302116876,9947.286158430361,9980.372653677736,10042.870339073761,10046.054996091108,9865.14872441383,9839.51812549193,9826.275204888447,9791.878723862295,9774.913763932804,9644.693526755478,9619.038337789978,9693.047870452474,9573.698449477906,9627.321066483004,9650.737853368377,9650.737853368377,9644.06719808168,9689.781813440897,9635.542023229427,9596.273888076943,9645.164955946577,9738.841631205554,9741.088572261931,9576.286386571603,9544.823742293851,9586.21253030963,9615.197862494071,9591.86299792653,9656.336599015296],\"yaxis\":\"y2\"}],                        {\"annotations\":[{\"font\":{\"size\":16},\"showarrow\":false,\"text\":\"RL Algorithm: PPO2_LSTM - Trade Count [Buy: 14 | Sell: 6 | Hold: 167]\",\"x\":0.5,\"xanchor\":\"center\",\"xref\":\"paper\",\"y\":0.9999999999999999,\"yanchor\":\"bottom\",\"yref\":\"paper\"},{\"font\":{\"size\":16},\"showarrow\":false,\"text\":\"Initial Investment (INR): 10000.0 | Net Worth (INR): 9656.34 | Profit (INR): -343.66 | Profit (%): -3.44%\",\"x\":0.5,\"xanchor\":\"center\",\"xref\":\"paper\",\"y\":0.2375,\"yanchor\":\"bottom\",\"yref\":\"paper\"}],\"height\":600,\"margin\":{\"b\":100,\"l\":50,\"pad\":4,\"r\":50,\"t\":100},\"shapes\":[{\"line\":{\"color\":\"firebrick\",\"dash\":\"dot\",\"width\":1},\"name\":\"Initial Balance\",\"type\":\"line\",\"x0\":0,\"x1\":1,\"xref\":\"x2 domain\",\"y0\":10000,\"y1\":10000,\"yref\":\"y2\"}],\"template\":{\"data\":{\"scatter\":[{\"type\":\"scatter\"}]}},\"width\":1000,\"xaxis\":{\"anchor\":\"y\",\"domain\":[0.0,1.0],\"matches\":\"x2\",\"rangeslider\":{\"visible\":false},\"showticklabels\":false,\"tickfont\":{\"size\":12}},\"xaxis2\":{\"anchor\":\"y2\",\"domain\":[0.0,1.0]},\"yaxis\":{\"anchor\":\"x\",\"domain\":[0.2875,0.9999999999999999],\"tickfont\":{\"size\":10},\"title\":{\"font\":{\"size\":14},\"text\":\"Price (INR/share)\"}},\"yaxis2\":{\"anchor\":\"x2\",\"domain\":[0.0,0.2375]}},                        {\"responsive\": true}                    ).then(function(){\n",
       "                            \n",
       "var gd = document.getElementById('c29a3fb4-cb8e-43c2-b0b0-56b787546d1a');\n",
       "var x = new MutationObserver(function (mutations, observer) {{\n",
       "        var display = window.getComputedStyle(gd).display;\n",
       "        if (!display || display === 'none') {{\n",
       "            console.log([gd, 'removed!']);\n",
       "            Plotly.purge(gd);\n",
       "            observer.disconnect();\n",
       "        }}\n",
       "}});\n",
       "\n",
       "// Listen for the removal of the full notebook cells\n",
       "var notebookContainer = gd.closest('#notebook-container');\n",
       "if (notebookContainer) {{\n",
       "    x.observe(notebookContainer, {childList: true});\n",
       "}}\n",
       "\n",
       "// Listen for the clearing of the current output cell\n",
       "var outputEl = gd.closest('.output');\n",
       "if (outputEl) {{\n",
       "    x.observe(outputEl, {childList: true});\n",
       "}}\n",
       "\n",
       "                        })                };                });            </script>        </div>"
      ]
     },
     "metadata": {},
     "output_type": "display_data"
    }
   ],
   "source": [
    "display_trades(trades)"
   ]
  },
  {
   "cell_type": "code",
   "execution_count": 23,
   "id": "22e1baec",
   "metadata": {
    "scrolled": true
   },
   "outputs": [],
   "source": [
    "# # %load_ext tensorboard\n",
    "# %reload_ext tensorboard\n",
    "# %tensorboard \\\n",
    "#     --host localhost \\\n",
    "#     --port 8080\\\n",
    "#     --logdir \".\\\\tensorboard\\\\PPO2_LSTM\""
   ]
  },
  {
   "cell_type": "markdown",
   "id": "7fbe3710",
   "metadata": {},
   "source": [
    "To view: http://localhost:8080/ <br>\n",
    "To kill: `taskkill /IM \"tensorboard.exe\" /F`"
   ]
  }
 ],
 "metadata": {
  "kernelspec": {
   "display_name": "Python 3 (ipykernel)",
   "language": "python",
   "name": "python3"
  },
  "language_info": {
   "codemirror_mode": {
    "name": "ipython",
    "version": 3
   },
   "file_extension": ".py",
   "mimetype": "text/x-python",
   "name": "python",
   "nbconvert_exporter": "python",
   "pygments_lexer": "ipython3",
   "version": "3.7.11"
  }
 },
 "nbformat": 4,
 "nbformat_minor": 5
}
